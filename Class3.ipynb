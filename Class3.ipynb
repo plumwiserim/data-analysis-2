{
  "nbformat": 4,
  "nbformat_minor": 0,
  "metadata": {
    "colab": {
      "name": "Class3.ipynb",
      "provenance": [],
      "collapsed_sections": [],
      "authorship_tag": "ABX9TyOWcFxTz+CR3BAf3wCffohc",
      "include_colab_link": true
    },
    "kernelspec": {
      "name": "python3",
      "display_name": "Python 3"
    },
    "language_info": {
      "name": "python"
    }
  },
  "cells": [
    {
      "cell_type": "markdown",
      "metadata": {
        "id": "view-in-github",
        "colab_type": "text"
      },
      "source": [
        "<a href=\"https://colab.research.google.com/github/plumwiserim/Data-Analysis/blob/main/Class3.ipynb\" target=\"_parent\"><img src=\"https://colab.research.google.com/assets/colab-badge.svg\" alt=\"Open In Colab\"/></a>"
      ]
    },
    {
      "cell_type": "markdown",
      "metadata": {
        "id": "mTxgZz4-UzDT"
      },
      "source": [
        "### 데이터 분석을 위한 파이썬 라이브러리"
      ]
    },
    {
      "cell_type": "markdown",
      "metadata": {
        "id": "RM-ijas5U2R0"
      },
      "source": [
        "#### TIOBE Index\n",
        "#### TIOBE Index for C\n",
        "#### TIOBE Index for Java\n",
        "#### TIOBE Index for Python"
      ]
    },
    {
      "cell_type": "markdown",
      "metadata": {
        "id": "xwCy0QjJVCK9"
      },
      "source": [
        "#### Python\n",
        "\n",
        "- 세계적으로 가장 대중적인 언어 중 하나\n",
        "- 높은 생산성, 확장성\n",
        "  - 다양한 라이브러리 제공\n",
        "- 높은 범용성\n",
        "  - 일반 어플리케이션\n",
        "  - 웹 프로그래밍\n",
        "  - 데이터 분석\n",
        "  - 인공지능\n",
        "  - GUI 개발"
      ]
    },
    {
      "cell_type": "markdown",
      "metadata": {
        "id": "4Ao5trxUVYxF"
      },
      "source": [
        "#### Python 기반 라이브러리 소개\n",
        "- 데이터 분석 및 인공지능 활용을 위한 파이썬 기반 라이브러리\n",
        "  - Pandas : 행과 열을 가지는 2차원 데이터 분석을 위한 라이브러리\n",
        "  - NumPy : 행렬이나 대규모 다차원 데이터 분석을 위한 라이브러리\n",
        "  - Matplotlib, Seaborn : 데이터 분석을 위한 시각화 라이브러리\n",
        "  - SciPy, Statsmodels : 파이썬 기반의 통계 분석을 위한 파이썬 라이브러리\n",
        "  - Scikit-learn : 파이썬 기반의 대표적인 머신러닝 라이브러리"
      ]
    },
    {
      "cell_type": "markdown",
      "metadata": {
        "id": "8vcKoC6PVuDN"
      },
      "source": [
        "#### 과정 소개\n",
        "- 데이터 분석을 위한 Pandas 라이브러리의 이해와 활용\n",
        "- 데이터 분석을 위한 NumPy 라이브러리의 이해와 활용\n",
        "- 데이터 시각화를 위한 Matplotlib 라이브러리의 이해와 활용\n",
        "- 파이썬 기반 데이터 분석 실습 프로젝트"
      ]
    },
    {
      "cell_type": "markdown",
      "metadata": {
        "id": "jh_a6nYTWBCH"
      },
      "source": [
        "### NumPy 라이브러리 소개"
      ]
    },
    {
      "cell_type": "markdown",
      "metadata": {
        "id": "afHKreYXWDcZ"
      },
      "source": [
        "#### Python 기반 라이브러리"
      ]
    },
    {
      "cell_type": "markdown",
      "metadata": {
        "id": "RbEXSsP7WGIc"
      },
      "source": [
        "#### NumPy 라이브러리 소개\n",
        "- Numerical Python의 줄임말\n",
        "- 대규모의 고성능 수치 계산을 위한 파이썬 라이브러리\n",
        "- N차원의 배열을 효율적으로 다룰 수 있는 라이브러리\n",
        "- https://numpy.org/"
      ]
    },
    {
      "cell_type": "markdown",
      "metadata": {
        "id": "xGHao5zkWQbO"
      },
      "source": [
        "#### N차원(N-Dimension)\n",
        "- 1차원 - 선\n",
        "- 2차원 - 면\n",
        "- 3차원 - 공간\n",
        "- 4차원 ...\n",
        "- 5차원 ...\n",
        "- ...\n",
        "- N차원"
      ]
    },
    {
      "cell_type": "markdown",
      "metadata": {
        "id": "LEvJlNi9WZ_1"
      },
      "source": [
        "#### 2차원 데이터"
      ]
    },
    {
      "cell_type": "markdown",
      "metadata": {
        "id": "rrkbYrbwWdXA"
      },
      "source": [
        "#### 이미지 데이터\n",
        "\n",
        "- 흑백 이미지 데이터는 몇 차원일까요? 2차원 데이터 (높이 X 너비) \n",
        "  - 이미지는 수많은 픽셀로 구성되어 있음\n",
        "  - 흑백(gray-scale) 이미지는 각 픽셀의 밝기 값을 0~255 사이로 표현한 이미지\n"
      ]
    },
    {
      "cell_type": "markdown",
      "metadata": {
        "id": "u33n_tSCWpn3"
      },
      "source": [
        "- 컬러 이미지 데이터는 몇 차원일까요? 3차원 데이터(높이 X 너비 X 컬러채널)"
      ]
    },
    {
      "cell_type": "markdown",
      "metadata": {
        "id": "GLtFg2qJWv_7"
      },
      "source": [
        "#### 영상 데이터\n",
        "- 영상 데이터는 몇 차원일까요? 4차원 데이터 (프레임 X 높이 X 너비 X 컬러채널)\n",
        "  - 연속된 형태의 수많은 이미지들이 모인 형태"
      ]
    },
    {
      "cell_type": "markdown",
      "metadata": {
        "id": "oBn7tEfKW4Ld"
      },
      "source": [
        "#### ndarray\n",
        "- NumPy는 다양한 차원의 배열을 효율적으로 다룰 수 있는 라이브러리\n",
        "- NumPy는 ndarray(N-Dimension Array)라는 핵심 자료구조를 제공함\n",
        "  - 대규모 데이터 집합을 담을 수 있는 매우 빠르고 유연한 핵심 자료구조"
      ]
    },
    {
      "cell_type": "markdown",
      "metadata": {
        "id": "4jLUap-QXDfk"
      },
      "source": [
        "#### NumPy의 주요 특징\n",
        "\n",
        "- much easier to learn and use\n",
        "- 대규모의 고성능 수치 계산을 위한 파이썬 라이브러리\n",
        "-> 연산 속도가 빠르고, 메모리를 효율적으로 사용\n",
        "- N차원의 배열을 효율적으로 다룰 수 있는 라이브러리\n",
        "-> 반복문 작성 필요 없이 N차원의 데이터 배열을 바로 연산할 수 있음"
      ]
    },
    {
      "cell_type": "markdown",
      "metadata": {
        "id": "9kKn47PnXWkb"
      },
      "source": [
        "#### NumPy 를 배운다는 것은?\n",
        "\n",
        "- 다양한 차원의 데이터를 ndarray에 저장, 추가, 수정, 삭제할 수 있고\n",
        "- ndarray 에 저장된 데이터들을 연산, 조회, 정렬할 수 있고\n",
        "- 다양한 데이터들을 원하는 뷰로 결합하여 활용할 수 있는\n",
        "- 파이썬 기반으로 만들어진 도구 사용법을 배우는 과정"
      ]
    },
    {
      "cell_type": "markdown",
      "metadata": {
        "id": "WWw_HA8SXlJl"
      },
      "source": [
        "#### NumPy 시작하기\n",
        "- NumPy 실습환경(이미 설치되어 있음)\n",
        "- NumPy 라이브러리 설치\n",
        "\n",
        "> conda install numpy\n",
        "\n",
        "> pip install numpy"
      ]
    },
    {
      "cell_type": "markdown",
      "metadata": {
        "id": "e5zoSOuAX5ZK"
      },
      "source": [
        "### NumPy의 자료구조 : ndarray"
      ]
    },
    {
      "cell_type": "markdown",
      "metadata": {
        "id": "mq1GGuApX82_"
      },
      "source": [
        "- 다양한 차원의 배열을 효율적으로 다룰 수 있는 라이브러리\n",
        "- NumPy는 ndarray(N-Dimensional Array)라는 핵심 자료구조를 제공함\n",
        "  - 대규모 데이터 집합을 담을 수 있는 매우 빠르고 유연한 핵심 자료구조"
      ]
    },
    {
      "cell_type": "markdown",
      "metadata": {
        "id": "pZm4x-GEuc77"
      },
      "source": [
        "#### 1차원 ndarray의 구성요소\n",
        "- 형태(shape)\n",
        "- 원소의 수(size)\n",
        "- 저장된 데이터 타입(dtype)"
      ]
    },
    {
      "cell_type": "markdown",
      "metadata": {
        "id": "y-ZgMF3YujBO"
      },
      "source": [
        "2차원 ndarray의 구성요소\n",
        "- 형태(shape)\n",
        "- 원소의 수(size)\n",
        "- 저장된 데이터 타입(dtype)"
      ]
    },
    {
      "cell_type": "markdown",
      "metadata": {
        "id": "DaA6N0nnuoih"
      },
      "source": [
        "#### 3차원 ndarray의 구성요소\n",
        "- 형태(shape)\n",
        "- 원소의 수(size)\n",
        "- 저장된 데이터 타입(dtype)"
      ]
    },
    {
      "cell_type": "markdown",
      "metadata": {
        "id": "pfAp_sDEuupH"
      },
      "source": [
        "#### ndarray의 구성요소 : 축(axis)\n",
        "- 배열의 각 차원(dimension)\n",
        "- 축(axis)\n",
        "- 차원(축)의 개수 : ndim = 1\n",
        "- shape : (10,)\n",
        "- 차원(축)의 개수 : ndim = 2\n",
        "- shape : (3, 4)\n",
        "- 차원(축)의 개수 : ndim = 3\n",
        "- shape : (3, 4, 3)\n"
      ]
    },
    {
      "cell_type": "markdown",
      "metadata": {
        "id": "wW-G96HpvLLQ"
      },
      "source": [
        "#### ndarray 의 구성요소\n",
        "- 형태(shape)\n",
        "- 원소의 수(size)\n",
        "- 저장된 데이터 타입(dtype)\n",
        "- 차원(축)의 개수 (ndim)"
      ]
    },
    {
      "cell_type": "markdown",
      "metadata": {
        "id": "6JlKxYeFvVCr"
      },
      "source": [
        "#### NumPy 시작하기"
      ]
    },
    {
      "cell_type": "markdown",
      "metadata": {
        "id": "lzwTahYDve4g"
      },
      "source": [
        "- NumPy 라이브러리 호출 및 별칭(alias) 지정 (np.XXX)"
      ]
    },
    {
      "cell_type": "code",
      "metadata": {
        "id": "byYQxYFj8t9n"
      },
      "source": [
        "import numpy as np"
      ],
      "execution_count": 1,
      "outputs": []
    },
    {
      "cell_type": "markdown",
      "metadata": {
        "id": "vtpYj_k9vk9W"
      },
      "source": [
        "- NumPy 에서 제공하는 함수 호출시 alias 이용해서 호출 가능"
      ]
    },
    {
      "cell_type": "code",
      "metadata": {
        "colab": {
          "base_uri": "https://localhost:8080/"
        },
        "id": "ZuI7N6728wKP",
        "outputId": "7173a6af-f9bd-4ae5-e9a8-b1117dd84f49"
      },
      "source": [
        "print(np.__version__)"
      ],
      "execution_count": 2,
      "outputs": [
        {
          "output_type": "stream",
          "text": [
            "1.19.5\n"
          ],
          "name": "stdout"
        }
      ]
    },
    {
      "cell_type": "markdown",
      "metadata": {
        "id": "RPuEzECfvpru"
      },
      "source": [
        "#### ndarray의 구성요소\n",
        "- ndarray의 주요 속성\n",
        "  - 형태 : ndarray.shape\n",
        "  - 원소의 수 : ndarray.size\n",
        "  - 저장된 데이터의 타입 : ndarray.dtype\n",
        "  - 배열의 차원(축)의 수 : ndarray.ndim"
      ]
    },
    {
      "cell_type": "markdown",
      "metadata": {
        "id": "Dv1fBz0qv2ZN"
      },
      "source": [
        "#### ndarray의 생성"
      ]
    },
    {
      "cell_type": "code",
      "metadata": {
        "colab": {
          "base_uri": "https://localhost:8080/"
        },
        "id": "Kq8mfBNg9FTr",
        "outputId": "c7a8b639-706e-4a42-a6f0-455e2ccb068c"
      },
      "source": [
        "# ndarray 생성\n",
        "data = [10, 20, 30]\n",
        "arr = np.array(data)\n",
        "\n",
        "# 생성한 ndarray 의 속성 출력\n",
        "print('\\nCreate 1D Array')\n",
        "print(arr)\n",
        "print('type = ', type(arr))\n",
        "print(\"shape: {}, size: {}, dtype: {}, dimension: {}\".format(arr.shape, arr.size, arr.dtype, arr.ndim))"
      ],
      "execution_count": 3,
      "outputs": [
        {
          "output_type": "stream",
          "text": [
            "\n",
            "Create 1D Array\n",
            "[10 20 30]\n",
            "type =  <class 'numpy.ndarray'>\n",
            "shape: (3,), size: 3, dtype: int64, dimension: 1\n"
          ],
          "name": "stdout"
        }
      ]
    },
    {
      "cell_type": "markdown",
      "metadata": {
        "id": "kt_qseFDv76q"
      },
      "source": [
        "np.array(object, dtype)\n",
        "- 입력된 데이터(object)를 인자로 받아 ndarray를 생성하는 함수\n",
        "- Parameters : \n",
        "  - object : ndarray에 저장할 데이터 \n",
        "  - dtype : 배열의 데이터 타입, 기본 값은 None, 생략가능"
      ]
    },
    {
      "cell_type": "code",
      "metadata": {
        "id": "fCDduwCO-W61"
      },
      "source": [
        ""
      ],
      "execution_count": null,
      "outputs": []
    }
  ]
}