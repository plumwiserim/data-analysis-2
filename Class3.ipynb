{
  "nbformat": 4,
  "nbformat_minor": 0,
  "metadata": {
    "colab": {
      "name": "Class3.ipynb",
      "provenance": [],
      "collapsed_sections": [],
      "authorship_tag": "ABX9TyMseq34+bJu/zSCcrSzLAL0",
      "include_colab_link": true
    },
    "kernelspec": {
      "name": "python3",
      "display_name": "Python 3"
    },
    "language_info": {
      "name": "python"
    }
  },
  "cells": [
    {
      "cell_type": "markdown",
      "metadata": {
        "id": "view-in-github",
        "colab_type": "text"
      },
      "source": [
        "<a href=\"https://colab.research.google.com/github/plumwiserim/Data-Analysis/blob/main/Class3.ipynb\" target=\"_parent\"><img src=\"https://colab.research.google.com/assets/colab-badge.svg\" alt=\"Open In Colab\"/></a>"
      ]
    },
    {
      "cell_type": "markdown",
      "metadata": {
        "id": "mTxgZz4-UzDT"
      },
      "source": [
        "### 데이터 분석을 위한 파이썬 라이브러리"
      ]
    },
    {
      "cell_type": "markdown",
      "metadata": {
        "id": "RM-ijas5U2R0"
      },
      "source": [
        "#### TIOBE Index\n",
        "#### TIOBE Index for C\n",
        "#### TIOBE Index for Java\n",
        "#### TIOBE Index for Python"
      ]
    },
    {
      "cell_type": "markdown",
      "metadata": {
        "id": "xwCy0QjJVCK9"
      },
      "source": [
        "#### Python\n",
        "\n",
        "- 세계적으로 가장 대중적인 언어 중 하나\n",
        "- 높은 생산성, 확장성\n",
        "  - 다양한 라이브러리 제공\n",
        "- 높은 범용성\n",
        "  - 일반 어플리케이션\n",
        "  - 웹 프로그래밍\n",
        "  - 데이터 분석\n",
        "  - 인공지능\n",
        "  - GUI 개발"
      ]
    },
    {
      "cell_type": "markdown",
      "metadata": {
        "id": "4Ao5trxUVYxF"
      },
      "source": [
        "#### Python 기반 라이브러리 소개\n",
        "- 데이터 분석 및 인공지능 활용을 위한 파이썬 기반 라이브러리\n",
        "  - Pandas : 행과 열을 가지는 2차원 데이터 분석을 위한 라이브러리\n",
        "  - NumPy : 행렬이나 대규모 다차원 데이터 분석을 위한 라이브러리\n",
        "  - Matplotlib, Seaborn : 데이터 분석을 위한 시각화 라이브러리\n",
        "  - SciPy, Statsmodels : 파이썬 기반의 통계 분석을 위한 파이썬 라이브러리\n",
        "  - Scikit-learn : 파이썬 기반의 대표적인 머신러닝 라이브러리"
      ]
    },
    {
      "cell_type": "markdown",
      "metadata": {
        "id": "8vcKoC6PVuDN"
      },
      "source": [
        "#### 과정 소개\n",
        "- 데이터 분석을 위한 Pandas 라이브러리의 이해와 활용\n",
        "- 데이터 분석을 위한 NumPy 라이브러리의 이해와 활용\n",
        "- 데이터 시각화를 위한 Matplotlib 라이브러리의 이해와 활용\n",
        "- 파이썬 기반 데이터 분석 실습 프로젝트"
      ]
    },
    {
      "cell_type": "markdown",
      "metadata": {
        "id": "jh_a6nYTWBCH"
      },
      "source": [
        "### NumPy 라이브러리 소개"
      ]
    },
    {
      "cell_type": "markdown",
      "metadata": {
        "id": "afHKreYXWDcZ"
      },
      "source": [
        "#### Python 기반 라이브러리"
      ]
    },
    {
      "cell_type": "markdown",
      "metadata": {
        "id": "RbEXSsP7WGIc"
      },
      "source": [
        "#### NumPy 라이브러리 소개\n",
        "- Numerical Python의 줄임말\n",
        "- 대규모의 고성능 수치 계산을 위한 파이썬 라이브러리\n",
        "- N차원의 배열을 효율적으로 다룰 수 있는 라이브러리\n",
        "- https://numpy.org/"
      ]
    },
    {
      "cell_type": "markdown",
      "metadata": {
        "id": "xGHao5zkWQbO"
      },
      "source": [
        "#### N차원(N-Dimension)\n",
        "- 1차원 - 선\n",
        "- 2차원 - 면\n",
        "- 3차원 - 공간\n",
        "- 4차원 ...\n",
        "- 5차원 ...\n",
        "- ...\n",
        "- N차원"
      ]
    },
    {
      "cell_type": "markdown",
      "metadata": {
        "id": "LEvJlNi9WZ_1"
      },
      "source": [
        "#### 2차원 데이터"
      ]
    },
    {
      "cell_type": "markdown",
      "metadata": {
        "id": "rrkbYrbwWdXA"
      },
      "source": [
        "#### 이미지 데이터\n",
        "\n",
        "- 흑백 이미지 데이터는 몇 차원일까요? 2차원 데이터 (높이 X 너비) \n",
        "  - 이미지는 수많은 픽셀로 구성되어 있음\n",
        "  - 흑백(gray-scale) 이미지는 각 픽셀의 밝기 값을 0~255 사이로 표현한 이미지\n"
      ]
    },
    {
      "cell_type": "markdown",
      "metadata": {
        "id": "u33n_tSCWpn3"
      },
      "source": [
        "- 컬러 이미지 데이터는 몇 차원일까요? 3차원 데이터(높이 X 너비 X 컬러채널)"
      ]
    },
    {
      "cell_type": "markdown",
      "metadata": {
        "id": "GLtFg2qJWv_7"
      },
      "source": [
        "#### 영상 데이터\n",
        "- 영상 데이터는 몇 차원일까요? 4차원 데이터 (프레임 X 높이 X 너비 X 컬러채널)\n",
        "  - 연속된 형태의 수많은 이미지들이 모인 형태"
      ]
    },
    {
      "cell_type": "markdown",
      "metadata": {
        "id": "oBn7tEfKW4Ld"
      },
      "source": [
        "#### ndarray\n",
        "- NumPy는 다양한 차원의 배열을 효율적으로 다룰 수 있는 라이브러리\n",
        "- NumPy는 ndarray(N-Dimension Array)라는 핵심 자료구조를 제공함\n",
        "  - 대규모 데이터 집합을 담을 수 있는 매우 빠르고 유연한 핵심 자료구조"
      ]
    },
    {
      "cell_type": "markdown",
      "metadata": {
        "id": "4jLUap-QXDfk"
      },
      "source": [
        "#### NumPy의 주요 특징\n",
        "\n",
        "- much easier to learn and use\n",
        "- 대규모의 고성능 수치 계산을 위한 파이썬 라이브러리\n",
        "-> 연산 속도가 빠르고, 메모리를 효율적으로 사용\n",
        "- N차원의 배열을 효율적으로 다룰 수 있는 라이브러리\n",
        "-> 반복문 작성 필요 없이 N차원의 데이터 배열을 바로 연산할 수 있음"
      ]
    },
    {
      "cell_type": "markdown",
      "metadata": {
        "id": "9kKn47PnXWkb"
      },
      "source": [
        "#### NumPy 를 배운다는 것은?\n",
        "\n",
        "- 다양한 차원의 데이터를 ndarray에 저장, 추가, 수정, 삭제할 수 있고\n",
        "- ndarray 에 저장된 데이터들을 연산, 조회, 정렬할 수 있고\n",
        "- 다양한 데이터들을 원하는 뷰로 결합하여 활용할 수 있는\n",
        "- 파이썬 기반으로 만들어진 도구 사용법을 배우는 과정"
      ]
    },
    {
      "cell_type": "markdown",
      "metadata": {
        "id": "WWw_HA8SXlJl"
      },
      "source": [
        "#### NumPy 시작하기\n",
        "- NumPy 실습환경(이미 설치되어 있음)\n",
        "- NumPy 라이브러리 설치\n",
        "\n",
        "> conda install numpy\n",
        "\n",
        "> pip install numpy"
      ]
    },
    {
      "cell_type": "markdown",
      "metadata": {
        "id": "e5zoSOuAX5ZK"
      },
      "source": [
        "### NumPy의 자료구조 : ndarray"
      ]
    },
    {
      "cell_type": "markdown",
      "metadata": {
        "id": "mq1GGuApX82_"
      },
      "source": [
        "- 다양한 차원의 배열을 효율적으로 다룰 수 있는 라이브러리\n",
        "- NumPy는 ndarray(N-Dimensional Array)라는 핵심 자료구조를 제공함\n",
        "  - 대규모 데이터 집합을 담을 수 있는 매우 빠르고 유연한 핵심 자료구조"
      ]
    },
    {
      "cell_type": "markdown",
      "metadata": {
        "id": "pZm4x-GEuc77"
      },
      "source": [
        "#### 1차원 ndarray의 구성요소\n",
        "- 형태(shape)\n",
        "- 원소의 수(size)\n",
        "- 저장된 데이터 타입(dtype)"
      ]
    },
    {
      "cell_type": "markdown",
      "metadata": {
        "id": "y-ZgMF3YujBO"
      },
      "source": [
        "2차원 ndarray의 구성요소\n",
        "- 형태(shape)\n",
        "- 원소의 수(size)\n",
        "- 저장된 데이터 타입(dtype)"
      ]
    },
    {
      "cell_type": "markdown",
      "metadata": {
        "id": "DaA6N0nnuoih"
      },
      "source": [
        "#### 3차원 ndarray의 구성요소\n",
        "- 형태(shape)\n",
        "- 원소의 수(size)\n",
        "- 저장된 데이터 타입(dtype)"
      ]
    },
    {
      "cell_type": "markdown",
      "metadata": {
        "id": "pfAp_sDEuupH"
      },
      "source": [
        "#### ndarray의 구성요소 : 축(axis)\n",
        "- 배열의 각 차원(dimension)\n",
        "- 축(axis)\n",
        "- 차원(축)의 개수 : ndim = 1\n",
        "- shape : (10,)\n",
        "- 차원(축)의 개수 : ndim = 2\n",
        "- shape : (3, 4)\n",
        "- 차원(축)의 개수 : ndim = 3\n",
        "- shape : (3, 4, 3)\n"
      ]
    },
    {
      "cell_type": "markdown",
      "metadata": {
        "id": "wW-G96HpvLLQ"
      },
      "source": [
        "#### ndarray 의 구성요소\n",
        "- 형태(shape)\n",
        "- 원소의 수(size)\n",
        "- 저장된 데이터 타입(dtype)\n",
        "- 차원(축)의 개수 (ndim)"
      ]
    },
    {
      "cell_type": "markdown",
      "metadata": {
        "id": "6JlKxYeFvVCr"
      },
      "source": [
        "#### NumPy 시작하기"
      ]
    },
    {
      "cell_type": "markdown",
      "metadata": {
        "id": "lzwTahYDve4g"
      },
      "source": [
        "- NumPy 라이브러리 호출 및 별칭(alias) 지정 (np.XXX)"
      ]
    },
    {
      "cell_type": "code",
      "metadata": {
        "id": "byYQxYFj8t9n"
      },
      "source": [
        "import numpy as np"
      ],
      "execution_count": 2,
      "outputs": []
    },
    {
      "cell_type": "markdown",
      "metadata": {
        "id": "vtpYj_k9vk9W"
      },
      "source": [
        "- NumPy 에서 제공하는 함수 호출시 alias 이용해서 호출 가능"
      ]
    },
    {
      "cell_type": "code",
      "metadata": {
        "colab": {
          "base_uri": "https://localhost:8080/"
        },
        "id": "ZuI7N6728wKP",
        "outputId": "7173a6af-f9bd-4ae5-e9a8-b1117dd84f49"
      },
      "source": [
        "print(np.__version__)"
      ],
      "execution_count": null,
      "outputs": [
        {
          "output_type": "stream",
          "text": [
            "1.19.5\n"
          ],
          "name": "stdout"
        }
      ]
    },
    {
      "cell_type": "markdown",
      "metadata": {
        "id": "RPuEzECfvpru"
      },
      "source": [
        "#### ndarray의 구성요소\n",
        "- ndarray의 주요 속성\n",
        "  - 형태 : ndarray.shape\n",
        "  - 원소의 수 : ndarray.size\n",
        "  - 저장된 데이터의 타입 : ndarray.dtype\n",
        "  - 배열의 차원(축)의 수 : ndarray.ndim"
      ]
    },
    {
      "cell_type": "markdown",
      "metadata": {
        "id": "Dv1fBz0qv2ZN"
      },
      "source": [
        "#### ndarray의 생성"
      ]
    },
    {
      "cell_type": "code",
      "metadata": {
        "colab": {
          "base_uri": "https://localhost:8080/"
        },
        "id": "Kq8mfBNg9FTr",
        "outputId": "c7a8b639-706e-4a42-a6f0-455e2ccb068c"
      },
      "source": [
        "# ndarray 생성\n",
        "data = [10, 20, 30]\n",
        "arr = np.array(data)\n",
        "\n",
        "# 생성한 ndarray 의 속성 출력\n",
        "print('\\nCreate 1D Array')\n",
        "print(arr)\n",
        "print('type = ', type(arr))\n",
        "print(\"shape: {}, size: {}, dtype: {}, dimension: {}\".format(arr.shape, arr.size, arr.dtype, arr.ndim))"
      ],
      "execution_count": null,
      "outputs": [
        {
          "output_type": "stream",
          "text": [
            "\n",
            "Create 1D Array\n",
            "[10 20 30]\n",
            "type =  <class 'numpy.ndarray'>\n",
            "shape: (3,), size: 3, dtype: int64, dimension: 1\n"
          ],
          "name": "stdout"
        }
      ]
    },
    {
      "cell_type": "markdown",
      "metadata": {
        "id": "kt_qseFDv76q"
      },
      "source": [
        "np.array(object, dtype)\n",
        "- 입력된 데이터(object)를 인자로 받아 ndarray를 생성하는 함수\n",
        "- Parameters : \n",
        "  - object : ndarray에 저장할 데이터 \n",
        "  - dtype : 배열의 데이터 타입, 기본 값은 None, 생략가능"
      ]
    },
    {
      "cell_type": "markdown",
      "metadata": {
        "id": "_lApuJmGTSyg"
      },
      "source": [
        "#### 2차원 ndarray의 생성"
      ]
    },
    {
      "cell_type": "code",
      "metadata": {
        "id": "fCDduwCO-W61",
        "colab": {
          "base_uri": "https://localhost:8080/"
        },
        "outputId": "11101e67-0cdd-422c-f3f4-4fc59400f40a"
      },
      "source": [
        "# 2차원 ndarray 생성\n",
        "data = [[1,2,3],[4,5,6]]\n",
        "arr = np.array(data)\n",
        "\n",
        "# 생성한 ndarray의 속성 출력\n",
        "print('\\nCreate 2D Array')\n",
        "print(arr)\n",
        "print('type = ', type(arr))\n",
        "print(\"shape: {}, size: {}, dtype: {}, dimension: {}\".format(arr.shape, arr.size, arr.dtype, arr.ndim))"
      ],
      "execution_count": 3,
      "outputs": [
        {
          "output_type": "stream",
          "text": [
            "\n",
            "Create 2D Array\n",
            "[[1 2 3]\n",
            " [4 5 6]]\n",
            "type =  <class 'numpy.ndarray'>\n",
            "shape: (2, 3), size: 6, dtype: int64, dimension: 2\n"
          ],
          "name": "stdout"
        }
      ]
    },
    {
      "cell_type": "markdown",
      "metadata": {
        "id": "aNa8_0WcTqqJ"
      },
      "source": [
        "#### dtype = float 를 지정하면?"
      ]
    },
    {
      "cell_type": "code",
      "metadata": {
        "colab": {
          "base_uri": "https://localhost:8080/"
        },
        "id": "TpNU-5XeTprU",
        "outputId": "3e93b9c6-2e65-4a33-d68e-63a6c9ace962"
      },
      "source": [
        "# 2차원 ndarray 생성\n",
        "data = [[1,2,3],[4,5,6]]\n",
        "arr = np.array(data, dtype = float)\n",
        "\n",
        "# 생성한 ndarray의 속성 출력\n",
        "print('\\nCreate 2D Array')\n",
        "print(arr)\n",
        "print('type = ', type(arr))\n",
        "print(\"shape: {}, size: {}, dtype: {}, dimension: {}\".format(arr.shape, arr.size, arr.dtype, arr.ndim))"
      ],
      "execution_count": 4,
      "outputs": [
        {
          "output_type": "stream",
          "text": [
            "\n",
            "Create 2D Array\n",
            "[[1. 2. 3.]\n",
            " [4. 5. 6.]]\n",
            "type =  <class 'numpy.ndarray'>\n",
            "shape: (2, 3), size: 6, dtype: float64, dimension: 2\n"
          ],
          "name": "stdout"
        }
      ]
    },
    {
      "cell_type": "markdown",
      "metadata": {
        "id": "f7eEMptkUE7d"
      },
      "source": [
        "#### 3차원 ndarray의 생성"
      ]
    },
    {
      "cell_type": "code",
      "metadata": {
        "colab": {
          "base_uri": "https://localhost:8080/"
        },
        "id": "r8zBxLwqUDxp",
        "outputId": "c44c7cdd-f1f2-4e16-a545-37411d720632"
      },
      "source": [
        "# 3차원 ndarray 생성\n",
        "data = [[[1,2,3],[4,5,6]],[[3,2,1],[4,5,6]]]\n",
        "arr = np.array(data, dtype = float)\n",
        "\n",
        "#생성한 ndarray의 속성 출력\n",
        "print('\\nCreate 3D Array')\n",
        "print(arr)\n",
        "print('type = ', type(arr))\n",
        "print(\"shape: {}, size: {}, dtype: {}, dimension: {}\".format(arr.shape, arr.size, arr.dtype, arr.ndim))"
      ],
      "execution_count": 5,
      "outputs": [
        {
          "output_type": "stream",
          "text": [
            "\n",
            "Create 3D Array\n",
            "[[[1. 2. 3.]\n",
            "  [4. 5. 6.]]\n",
            "\n",
            " [[3. 2. 1.]\n",
            "  [4. 5. 6.]]]\n",
            "type =  <class 'numpy.ndarray'>\n",
            "shape: (2, 2, 3), size: 12, dtype: float64, dimension: 3\n"
          ],
          "name": "stdout"
        }
      ]
    },
    {
      "cell_type": "markdown",
      "metadata": {
        "id": "88ZcwiEHUpDh"
      },
      "source": [
        "### NumPy 자료구조 : ndarray의 생성"
      ]
    },
    {
      "cell_type": "markdown",
      "metadata": {
        "id": "TfiEVSyaUr8c"
      },
      "source": [
        "#### NumPy.array()\n",
        "\n",
        "np.array(object,dtype)\n",
        "- 입력된 데이터(object)를 인자로 받아 ndarray를 생성하는 함수\n",
        "- Parameters : \n",
        "  - object : ndarray에 저장할 데이터 \n",
        "  - dtype : 배열의 데이터 타입, 기본 값은 None, 생략가능"
      ]
    },
    {
      "cell_type": "markdown",
      "metadata": {
        "id": "Yj4wJHoPU407"
      },
      "source": [
        "#### ndarray 의 생성\n",
        "- np.arange()\n",
        "- np.zeros()\n",
        "- np.ones()\n",
        "- np.full()\n",
        "- np.empty()\n",
        "- ..."
      ]
    },
    {
      "cell_type": "markdown",
      "metadata": {
        "id": "mivbkKWUVEXS"
      },
      "source": [
        "#### NumPy.arange()\n",
        "\n",
        "np.arange((start), stop, (step))\n",
        "\n",
        "- 파이썬의 range()와 동일하게 연속된 데이터를 생성하는 함수\n",
        "\n",
        "range((start), stop, (step))\n",
        "\n",
        "range(1,5)\n",
        "\n",
        "range(1, 5, 2)\n",
        "\n",
        "range(5.0)"
      ]
    },
    {
      "cell_type": "markdown",
      "metadata": {
        "id": "pRWqMuAZVXVV"
      },
      "source": [
        "- Parameters : \n",
        "  - start : 생성할 시작 값으로 생략 가능함. 생략되면 0부터 생성됨.\n",
        "  - stop : 생성되는 마지막 값으로 해당 값은 포함되지 않음.\n",
        "  - step : 생성시 값들의 간격, 생략 가능"
      ]
    },
    {
      "cell_type": "markdown",
      "metadata": {
        "id": "mw6M4RvdVj1Y"
      },
      "source": [
        "- np.arange()를 통한 ndarray 생성하기"
      ]
    },
    {
      "cell_type": "code",
      "metadata": {
        "colab": {
          "base_uri": "https://localhost:8080/"
        },
        "id": "jerXJ7veUcNb",
        "outputId": "386ac081-43e3-4a88-c779-4e805445144f"
      },
      "source": [
        "import numpy as np\n",
        "\n",
        "def printinfo(arr):\n",
        "  print(arr)\n",
        "  print(\"shape: {}, size: {}, dtype: {}, dimension: {}\".format(arr.shape, arr.size, arr.dtype, arr.ndim))\n",
        "\n",
        "#np.arange()를 통한 ndarray 생성\n",
        "arr = np.arange(2, 10)\n",
        "print('\\n Create ndarray by np.arange()')\n",
        "printinfo(arr)"
      ],
      "execution_count": 7,
      "outputs": [
        {
          "output_type": "stream",
          "text": [
            "\n",
            " Create ndarray by np.arange()\n",
            "[2 3 4 5 6 7 8 9]\n",
            "shape: (8,), size: 8, dtype: int64, dimension: 1\n"
          ],
          "name": "stdout"
        }
      ]
    },
    {
      "cell_type": "markdown",
      "metadata": {
        "id": "BFvZiuSPWtC_"
      },
      "source": [
        "#### ndarray의 생성\n",
        "- np.arange()\n",
        "- np.zeros()\n",
        "- np.ones()\n",
        "- np.full()\n",
        "- np.empty()\n",
        "- ..."
      ]
    },
    {
      "cell_type": "markdown",
      "metadata": {
        "id": "yEo7xTzSV8mB"
      },
      "source": [
        "#### NumPy.zeros()\n",
        "\n",
        "np.zeros(shape, dtype = float)\n",
        "\n",
        "- 지정된 크기(shape)만큼 배열을 생성하고, 모든 요소를 0으로 초기화\n",
        "- 데이터 타입(dtype)은 입력하지 않으면 기본 float 타입으로 생성됨\n",
        "- Parameters : \n",
        "  - shape : 생성할 ndarray의 크기로 튜플() 형태로 저장해야 함\n",
        "  - dtype : 배열의 데이터 타입, 기본값은 float, 생략가능"
      ]
    },
    {
      "cell_type": "markdown",
      "metadata": {
        "id": "7ZNyFqtqWPPD"
      },
      "source": [
        "- np.zeros()를 통한 ndarray 생성하기 (1)"
      ]
    },
    {
      "cell_type": "code",
      "metadata": {
        "colab": {
          "base_uri": "https://localhost:8080/"
        },
        "id": "ku9BqZVMVtEo",
        "outputId": "6325c94b-5111-4e50-d0ce-a66e0e7de64b"
      },
      "source": [
        "# np.zeros() 를 통한 ndarray 생성\n",
        "arr = np.zeros(5)\n",
        "print('\\n Create ndarray by np.zeros()')\n",
        "printinfo(arr)"
      ],
      "execution_count": 8,
      "outputs": [
        {
          "output_type": "stream",
          "text": [
            "\n",
            " Create ndarray by np.zeros()\n",
            "[0. 0. 0. 0. 0.]\n",
            "shape: (5,), size: 5, dtype: float64, dimension: 1\n"
          ],
          "name": "stdout"
        }
      ]
    },
    {
      "cell_type": "markdown",
      "metadata": {
        "id": "2_oyUsYFWa-i"
      },
      "source": [
        "- np.zeros() 를 통한 ndarray 생성하기 (2)"
      ]
    },
    {
      "cell_type": "code",
      "metadata": {
        "colab": {
          "base_uri": "https://localhost:8080/"
        },
        "id": "ISxnMrqjWZzx",
        "outputId": "4721fa6f-76ca-4ec9-ad5a-42616772c3b5"
      },
      "source": [
        "# np.zeros() 를 통한 ndarray 생성\n",
        "arr = np.zeros((3,4), dtype=int)\n",
        "print('\\n Create ndarray by np.zeros()')\n",
        "printinfo(arr)"
      ],
      "execution_count": 10,
      "outputs": [
        {
          "output_type": "stream",
          "text": [
            "\n",
            " Create ndarray by np.zeros()\n",
            "[[0 0 0 0]\n",
            " [0 0 0 0]\n",
            " [0 0 0 0]]\n",
            "shape: (3, 4), size: 12, dtype: int64, dimension: 2\n"
          ],
          "name": "stdout"
        }
      ]
    },
    {
      "cell_type": "markdown",
      "metadata": {
        "id": "t8C1ppI2W0u0"
      },
      "source": [
        "#### ndarray의 생성\n",
        "- np.zeros(shape, dtype = float)\n",
        "  - 지정된 크기 (shape) 만큼 배열을 생성하고, 모든 요소를 0으로 초기화\n",
        "- np.ones(shape, dtype=float)\n",
        "- np.full(shape, fill_value, dtype = None)\n",
        "- np.empty()"
      ]
    },
    {
      "cell_type": "markdown",
      "metadata": {
        "id": "uV__ODCsXEwb"
      },
      "source": [
        "#### NumPy.ones()\n",
        "\n",
        "np.ones(shape, dtype = float)\n",
        "- 지정된 크기(shape)의 배열을 생성하고, 모든 요소를 1로 초기화"
      ]
    },
    {
      "cell_type": "code",
      "metadata": {
        "colab": {
          "base_uri": "https://localhost:8080/"
        },
        "id": "apHmSFcpWkUr",
        "outputId": "dd5d5cb4-3791-4a14-f204-270fba5e936b"
      },
      "source": [
        "# np.ones()를 통한 ndarray 생성\n",
        "arr = np.ones((3,4))\n",
        "print('\\n Create ndarray by np.ones()')\n",
        "printinfo(arr)"
      ],
      "execution_count": 11,
      "outputs": [
        {
          "output_type": "stream",
          "text": [
            "\n",
            " Create ndarray by np.ones()\n",
            "[[1. 1. 1. 1.]\n",
            " [1. 1. 1. 1.]\n",
            " [1. 1. 1. 1.]]\n",
            "shape: (3, 4), size: 12, dtype: float64, dimension: 2\n"
          ],
          "name": "stdout"
        }
      ]
    },
    {
      "cell_type": "markdown",
      "metadata": {
        "id": "c4tDFeZyXU_x"
      },
      "source": [
        "#### NumPy.full()\n",
        "\n",
        "np.full(shape, fill_value, dtype=None)\n",
        "- 지정된 크기(shape)의 배열을 생성하고, 모든 요소를 'fill_value'로 초기화"
      ]
    },
    {
      "cell_type": "code",
      "metadata": {
        "colab": {
          "base_uri": "https://localhost:8080/"
        },
        "id": "fBND_7S3XT1x",
        "outputId": "ac803596-c93d-4aff-f53b-6ef1415266b8"
      },
      "source": [
        "# np.full() 를 통한 ndarray 생성\n",
        "arr = np.full((3,4),77)\n",
        "print('\\n Create ndarray by np.full()')\n",
        "printinfo(arr)"
      ],
      "execution_count": 13,
      "outputs": [
        {
          "output_type": "stream",
          "text": [
            "\n",
            " Create ndarray by np.full()\n",
            "[[77 77 77 77]\n",
            " [77 77 77 77]\n",
            " [77 77 77 77]]\n",
            "shape: (3, 4), size: 12, dtype: int64, dimension: 2\n"
          ],
          "name": "stdout"
        }
      ]
    },
    {
      "cell_type": "markdown",
      "metadata": {
        "id": "aWz0AA5mXo_j"
      },
      "source": [
        "#### NumPy.empty()\n",
        "\n",
        "np.empty(shape)\n",
        "- 초기화되지 않은 상태로 지정된 shape만큼의 ndarray 생성\n",
        "- 요소의 초기화 과정이 없어 배열 생성 비용이 가장 빠르고 저렴함\n",
        "- 생성된 배열의 각 요소는 임의의 값이 저장되어 있음"
      ]
    },
    {
      "cell_type": "code",
      "metadata": {
        "colab": {
          "base_uri": "https://localhost:8080/"
        },
        "id": "yviF3_KfXkWq",
        "outputId": "674a4bd1-3a69-414c-a8af-142b26543e44"
      },
      "source": [
        "arr = np.empty((2,2))\n",
        "print('\\n Create ndarray by np.empty()')\n",
        "printinfo(arr)"
      ],
      "execution_count": 14,
      "outputs": [
        {
          "output_type": "stream",
          "text": [
            "\n",
            " Create ndarray by np.empty()\n",
            "[[5.e-324 5.e-324]\n",
            " [5.e-324 0.e+000]]\n",
            "shape: (2, 2), size: 4, dtype: float64, dimension: 2\n"
          ],
          "name": "stdout"
        }
      ]
    },
    {
      "cell_type": "markdown",
      "metadata": {
        "id": "2531vhxPX4XW"
      },
      "source": [
        "#### *_like 함수\n",
        "\n",
        "지정된 배열과 shape이 같은 ndarray를 생성하는 *_like 함수\n",
        "\n",
        "- np.zeros_like()\n",
        "- np.ones_like()\n",
        "- np.full_like()\n",
        "- np.empty_like()"
      ]
    },
    {
      "cell_type": "markdown",
      "metadata": {
        "id": "VAQbkMT9YEnx"
      },
      "source": [
        "#### 샘플 데이터 생성\n",
        "\n",
        "지정된 배열과 shape이 같은 ndarray를 생성하는 *_like 함수"
      ]
    },
    {
      "cell_type": "code",
      "metadata": {
        "colab": {
          "base_uri": "https://localhost:8080/"
        },
        "id": "SEUxM_VUX2_C",
        "outputId": "1e74d46e-d824-43da-c9c5-189caac6a99c"
      },
      "source": [
        "# sample 데이터 생성\n",
        "data =  [[1,2,3],[4,5,6]]\n",
        "sample = np.array(data)\n",
        "print('\\n Sample')\n",
        "printinfo(sample)"
      ],
      "execution_count": 15,
      "outputs": [
        {
          "output_type": "stream",
          "text": [
            "\n",
            " Sample\n",
            "[[1 2 3]\n",
            " [4 5 6]]\n",
            "shape: (2, 3), size: 6, dtype: int64, dimension: 2\n"
          ],
          "name": "stdout"
        }
      ]
    },
    {
      "cell_type": "markdown",
      "metadata": {
        "id": "G7QU95NSYTSq"
      },
      "source": [
        "#### Numpy.ones_like()\n",
        "\n",
        "지정된 배열과 shape이 같은 ndarray를 생성하는 *_like 함수"
      ]
    },
    {
      "cell_type": "code",
      "metadata": {
        "colab": {
          "base_uri": "https://localhost:8080/"
        },
        "id": "UvldHL8CYQdV",
        "outputId": "8b170392-cec6-40c3-a4e9-f35fd7a1effc"
      },
      "source": [
        "# ones_like()를 통한 ndarray 생성\n",
        "one_array = np.ones_like(sample)\n",
        "print('\\n Create ndarray by np.ones_like()')\n",
        "printinfo(one_array)"
      ],
      "execution_count": 16,
      "outputs": [
        {
          "output_type": "stream",
          "text": [
            "\n",
            " Create ndarray by np.ones_like()\n",
            "[[1 1 1]\n",
            " [1 1 1]]\n",
            "shape: (2, 3), size: 6, dtype: int64, dimension: 2\n"
          ],
          "name": "stdout"
        }
      ]
    },
    {
      "cell_type": "markdown",
      "metadata": {
        "id": "AvDbjHM3YkpW"
      },
      "source": [
        "#### Summary\n",
        "- np.arange()\n",
        "- np.zeros()\n",
        "- np.ones()\n",
        "- np.full()\n",
        "- np.empty()\n",
        "- np.*_like()\n",
        "- ..."
      ]
    },
    {
      "cell_type": "markdown",
      "metadata": {
        "id": "GKBuQJ8iZGyl"
      },
      "source": [
        "### NumPy 의 데이터 타입"
      ]
    },
    {
      "cell_type": "markdown",
      "metadata": {
        "id": "1dOQG2HsZKxu"
      },
      "source": [
        "#### NumPy 의 데이터 타입\n",
        "\n",
        "- np.int64 : (64비트) 정수\n",
        "- np.float64 : (64비트) 실수\n",
        "- np.complex : 복소수\n",
        "- np.bool : 불리언(True, False)\n",
        "- np.object : 파이썬 객체\n",
        "- np.str : 문자열"
      ]
    },
    {
      "cell_type": "markdown",
      "metadata": {
        "id": "64XKH0FeZu6c"
      },
      "source": [
        "#### 정수형(Integer) 데이터 타입\n",
        "- numpy.int는 음수와 양수를 표현하는 정수형 데이터 타입\n",
        "- 뒤에 오는 숫자는 bit 의 개수를 의미함 (int8 -> 2^8 = 256 개 만큼의 정수의 표현이 가능)"
      ]
    },
    {
      "cell_type": "markdown",
      "metadata": {
        "id": "Md8l5TDUZ7EN"
      },
      "source": [
        "#### 데이터 타입의 변경\n",
        "\n",
        "방법1) ndarray 생성시 인자로 dtype 지정하는 방식"
      ]
    },
    {
      "cell_type": "code",
      "metadata": {
        "id": "0QOCF6E0Yi6a"
      },
      "source": [
        "# 3차원 ndarray 생성\n",
        "data = [[[1,2,3],[4,5,6]],[[3,2,1],[4,5,6]]]\n",
        "arr = np.array(data, dtype=float)"
      ],
      "execution_count": 17,
      "outputs": []
    },
    {
      "cell_type": "code",
      "metadata": {
        "colab": {
          "base_uri": "https://localhost:8080/"
        },
        "id": "qd2a_JrsaLNB",
        "outputId": "f272c0d6-0b2c-4983-fa31-2090c9012b93"
      },
      "source": [
        "import numpy as np\n",
        "\n",
        "#dtype 인자 지정을 통한 데이터 타입 변경\n",
        "data = [1,2,3]\n",
        "cpx_arr = np.array(data,dtype=np.complex)\n",
        "str_arr = np.array(data,dtype=np.str)\n",
        "\n",
        "print('Complex: ', cpx_arr)\n",
        "print('String: ', str_arr)"
      ],
      "execution_count": 18,
      "outputs": [
        {
          "output_type": "stream",
          "text": [
            "Complex:  [1.+0.j 2.+0.j 3.+0.j]\n",
            "String:  ['1' '2' '3']\n"
          ],
          "name": "stdout"
        }
      ]
    },
    {
      "cell_type": "markdown",
      "metadata": {
        "id": "TQXGgDOhaeYo"
      },
      "source": [
        "방법2) ndarray.astype(dtype)\n",
        "- ndarray에 저장된 데이터를 주어진 dtype으로 변환해서 반환함\n",
        "- Paramters : \n",
        "  - dtype : 변경하고자 하는 배열의 데이터 타입"
      ]
    },
    {
      "cell_type": "markdown",
      "metadata": {
        "id": "snY8vJHBanaL"
      },
      "source": [
        "#### 샘플 데이터 생성"
      ]
    },
    {
      "cell_type": "code",
      "metadata": {
        "colab": {
          "base_uri": "https://localhost:8080/"
        },
        "id": "GbN8Zt_vadRv",
        "outputId": "fb227c09-af9a-477e-c864-911f1ceea233"
      },
      "source": [
        "# 샘플 데이터 생성\n",
        "origin = np.arange(1, 2, 0.2)\n",
        "print('\\nOriginal data')\n",
        "print(origin)\n",
        "print('dtype: ', origin.dtype)"
      ],
      "execution_count": 19,
      "outputs": [
        {
          "output_type": "stream",
          "text": [
            "\n",
            "Original data\n",
            "[1.  1.2 1.4 1.6 1.8]\n",
            "dtype:  float64\n"
          ],
          "name": "stdout"
        }
      ]
    },
    {
      "cell_type": "markdown",
      "metadata": {
        "id": "5yfLcV7Uax9g"
      },
      "source": [
        "#### .astype() 을 통한 데이터 타입 변경\n",
        "- astype() 을 활용한 데이터 타입 변경"
      ]
    },
    {
      "cell_type": "code",
      "metadata": {
        "colab": {
          "base_uri": "https://localhost:8080/"
        },
        "id": "jidmF1yDawzx",
        "outputId": "30daaa54-236c-4c07-e026-2fe28447baf5"
      },
      "source": [
        "# astype(dtype)을 활용한 데이터 타입 변경\n",
        "result = origin.astype(int)\n",
        "print('\\nResult of astype(int)')\n",
        "print(result)\n",
        "\n",
        "print('\\nOriginal data')\n",
        "print(origin)"
      ],
      "execution_count": 20,
      "outputs": [
        {
          "output_type": "stream",
          "text": [
            "\n",
            "Result of astype(int)\n",
            "[1 1 1 1 1]\n",
            "\n",
            "Original data\n",
            "[1.  1.2 1.4 1.6 1.8]\n"
          ],
          "name": "stdout"
        }
      ]
    },
    {
      "cell_type": "code",
      "metadata": {
        "id": "39zFCxfMbBF0"
      },
      "source": [
        ""
      ],
      "execution_count": null,
      "outputs": []
    }
  ]
}