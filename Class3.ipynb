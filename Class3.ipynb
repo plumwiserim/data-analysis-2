{
  "nbformat": 4,
  "nbformat_minor": 0,
  "metadata": {
    "colab": {
      "name": "Class3.ipynb",
      "provenance": [],
      "collapsed_sections": [],
      "authorship_tag": "ABX9TyPR9feK9c+6UyApf6Cr2XH4",
      "include_colab_link": true
    },
    "kernelspec": {
      "name": "python3",
      "display_name": "Python 3"
    },
    "language_info": {
      "name": "python"
    }
  },
  "cells": [
    {
      "cell_type": "markdown",
      "metadata": {
        "id": "view-in-github",
        "colab_type": "text"
      },
      "source": [
        "<a href=\"https://colab.research.google.com/github/plumwiserim/Data-Analysis/blob/main/Class3.ipynb\" target=\"_parent\"><img src=\"https://colab.research.google.com/assets/colab-badge.svg\" alt=\"Open In Colab\"/></a>"
      ]
    },
    {
      "cell_type": "markdown",
      "metadata": {
        "id": "mTxgZz4-UzDT"
      },
      "source": [
        "### 데이터 분석을 위한 파이썬 라이브러리"
      ]
    },
    {
      "cell_type": "markdown",
      "metadata": {
        "id": "RM-ijas5U2R0"
      },
      "source": [
        "#### TIOBE Index\n",
        "#### TIOBE Index for C\n",
        "#### TIOBE Index for Java\n",
        "#### TIOBE Index for Python"
      ]
    },
    {
      "cell_type": "markdown",
      "metadata": {
        "id": "xwCy0QjJVCK9"
      },
      "source": [
        "#### Python\n",
        "\n",
        "- 세계적으로 가장 대중적인 언어 중 하나\n",
        "- 높은 생산성, 확장성\n",
        "  - 다양한 라이브러리 제공\n",
        "- 높은 범용성\n",
        "  - 일반 어플리케이션\n",
        "  - 웹 프로그래밍\n",
        "  - 데이터 분석\n",
        "  - 인공지능\n",
        "  - GUI 개발"
      ]
    },
    {
      "cell_type": "markdown",
      "metadata": {
        "id": "4Ao5trxUVYxF"
      },
      "source": [
        "#### Python 기반 라이브러리 소개\n",
        "- 데이터 분석 및 인공지능 활용을 위한 파이썬 기반 라이브러리\n",
        "  - Pandas : 행과 열을 가지는 2차원 데이터 분석을 위한 라이브러리\n",
        "  - NumPy : 행렬이나 대규모 다차원 데이터 분석을 위한 라이브러리\n",
        "  - Matplotlib, Seaborn : 데이터 분석을 위한 시각화 라이브러리\n",
        "  - SciPy, Statsmodels : 파이썬 기반의 통계 분석을 위한 파이썬 라이브러리\n",
        "  - Scikit-learn : 파이썬 기반의 대표적인 머신러닝 라이브러리"
      ]
    },
    {
      "cell_type": "markdown",
      "metadata": {
        "id": "8vcKoC6PVuDN"
      },
      "source": [
        "#### 과정 소개\n",
        "- 데이터 분석을 위한 Pandas 라이브러리의 이해와 활용\n",
        "- 데이터 분석을 위한 NumPy 라이브러리의 이해와 활용\n",
        "- 데이터 시각화를 위한 Matplotlib 라이브러리의 이해와 활용\n",
        "- 파이썬 기반 데이터 분석 실습 프로젝트"
      ]
    },
    {
      "cell_type": "markdown",
      "metadata": {
        "id": "jh_a6nYTWBCH"
      },
      "source": [
        "### NumPy 라이브러리 소개"
      ]
    },
    {
      "cell_type": "markdown",
      "metadata": {
        "id": "afHKreYXWDcZ"
      },
      "source": [
        "#### Python 기반 라이브러리"
      ]
    },
    {
      "cell_type": "markdown",
      "metadata": {
        "id": "RbEXSsP7WGIc"
      },
      "source": [
        "#### NumPy 라이브러리 소개\n",
        "- Numerical Python의 줄임말\n",
        "- 대규모의 고성능 수치 계산을 위한 파이썬 라이브러리\n",
        "- N차원의 배열을 효율적으로 다룰 수 있는 라이브러리\n",
        "- https://numpy.org/"
      ]
    },
    {
      "cell_type": "markdown",
      "metadata": {
        "id": "xGHao5zkWQbO"
      },
      "source": [
        "#### N차원(N-Dimension)\n",
        "- 1차원 - 선\n",
        "- 2차원 - 면\n",
        "- 3차원 - 공간\n",
        "- 4차원 ...\n",
        "- 5차원 ...\n",
        "- ...\n",
        "- N차원"
      ]
    },
    {
      "cell_type": "markdown",
      "metadata": {
        "id": "LEvJlNi9WZ_1"
      },
      "source": [
        "#### 2차원 데이터"
      ]
    },
    {
      "cell_type": "markdown",
      "metadata": {
        "id": "rrkbYrbwWdXA"
      },
      "source": [
        "#### 이미지 데이터\n",
        "\n",
        "- 흑백 이미지 데이터는 몇 차원일까요? 2차원 데이터 (높이 X 너비) \n",
        "  - 이미지는 수많은 픽셀로 구성되어 있음\n",
        "  - 흑백(gray-scale) 이미지는 각 픽셀의 밝기 값을 0~255 사이로 표현한 이미지\n"
      ]
    },
    {
      "cell_type": "markdown",
      "metadata": {
        "id": "u33n_tSCWpn3"
      },
      "source": [
        "- 컬러 이미지 데이터는 몇 차원일까요? 3차원 데이터(높이 X 너비 X 컬러채널)"
      ]
    },
    {
      "cell_type": "markdown",
      "metadata": {
        "id": "GLtFg2qJWv_7"
      },
      "source": [
        "#### 영상 데이터\n",
        "- 영상 데이터는 몇 차원일까요? 4차원 데이터 (프레임 X 높이 X 너비 X 컬러채널)\n",
        "  - 연속된 형태의 수많은 이미지들이 모인 형태"
      ]
    },
    {
      "cell_type": "markdown",
      "metadata": {
        "id": "oBn7tEfKW4Ld"
      },
      "source": [
        "#### ndarray\n",
        "- NumPy는 다양한 차원의 배열을 효율적으로 다룰 수 있는 라이브러리\n",
        "- NumPy는 ndarray(N-Dimension Array)라는 핵심 자료구조를 제공함\n",
        "  - 대규모 데이터 집합을 담을 수 있는 매우 빠르고 유연한 핵심 자료구조"
      ]
    },
    {
      "cell_type": "markdown",
      "metadata": {
        "id": "4jLUap-QXDfk"
      },
      "source": [
        "#### NumPy의 주요 특징\n",
        "\n",
        "- much easier to learn and use\n",
        "- 대규모의 고성능 수치 계산을 위한 파이썬 라이브러리\n",
        "-> 연산 속도가 빠르고, 메모리를 효율적으로 사용\n",
        "- N차원의 배열을 효율적으로 다룰 수 있는 라이브러리\n",
        "-> 반복문 작성 필요 없이 N차원의 데이터 배열을 바로 연산할 수 있음"
      ]
    },
    {
      "cell_type": "markdown",
      "metadata": {
        "id": "9kKn47PnXWkb"
      },
      "source": [
        "#### NumPy 를 배운다는 것은?\n",
        "\n",
        "- 다양한 차원의 데이터를 ndarray에 저장, 추가, 수정, 삭제할 수 있고\n",
        "- ndarray 에 저장된 데이터들을 연산, 조회, 정렬할 수 있고\n",
        "- 다양한 데이터들을 원하는 뷰로 결합하여 활용할 수 있는\n",
        "- 파이썬 기반으로 만들어진 도구 사용법을 배우는 과정"
      ]
    },
    {
      "cell_type": "markdown",
      "metadata": {
        "id": "WWw_HA8SXlJl"
      },
      "source": [
        "#### NumPy 시작하기\n",
        "- NumPy 실습환경(이미 설치되어 있음)\n",
        "- NumPy 라이브러리 설치\n",
        "\n",
        "> conda install numpy\n",
        "\n",
        "> pip install numpy"
      ]
    },
    {
      "cell_type": "markdown",
      "metadata": {
        "id": "e5zoSOuAX5ZK"
      },
      "source": [
        "### NumPy의 자료구조 : ndarray"
      ]
    },
    {
      "cell_type": "markdown",
      "metadata": {
        "id": "mq1GGuApX82_"
      },
      "source": [
        "- 다양한 차원의 배열을 효율적으로 다룰 수 있는 라이브러리\n",
        "- NumPy는 ndarray(N-Dimensional Array)라는 핵심 자료구조를 제공함\n",
        "  - 대규모 데이터 집합을 담을 수 있는 매우 빠르고 유연한 핵심 자료구조"
      ]
    },
    {
      "cell_type": "markdown",
      "metadata": {
        "id": "pZm4x-GEuc77"
      },
      "source": [
        "#### 1차원 ndarray의 구성요소\n",
        "- 형태(shape)\n",
        "- 원소의 수(size)\n",
        "- 저장된 데이터 타입(dtype)"
      ]
    },
    {
      "cell_type": "markdown",
      "metadata": {
        "id": "y-ZgMF3YujBO"
      },
      "source": [
        "2차원 ndarray의 구성요소\n",
        "- 형태(shape)\n",
        "- 원소의 수(size)\n",
        "- 저장된 데이터 타입(dtype)"
      ]
    },
    {
      "cell_type": "markdown",
      "metadata": {
        "id": "DaA6N0nnuoih"
      },
      "source": [
        "#### 3차원 ndarray의 구성요소\n",
        "- 형태(shape)\n",
        "- 원소의 수(size)\n",
        "- 저장된 데이터 타입(dtype)"
      ]
    },
    {
      "cell_type": "markdown",
      "metadata": {
        "id": "pfAp_sDEuupH"
      },
      "source": [
        "#### ndarray의 구성요소 : 축(axis)\n",
        "- 배열의 각 차원(dimension)\n",
        "- 축(axis)\n",
        "- 차원(축)의 개수 : ndim = 1\n",
        "- shape : (10,)\n",
        "- 차원(축)의 개수 : ndim = 2\n",
        "- shape : (3, 4)\n",
        "- 차원(축)의 개수 : ndim = 3\n",
        "- shape : (3, 4, 3)\n"
      ]
    },
    {
      "cell_type": "markdown",
      "metadata": {
        "id": "wW-G96HpvLLQ"
      },
      "source": [
        "#### ndarray 의 구성요소\n",
        "- 형태(shape)\n",
        "- 원소의 수(size)\n",
        "- 저장된 데이터 타입(dtype)\n",
        "- 차원(축)의 개수 (ndim)"
      ]
    },
    {
      "cell_type": "markdown",
      "metadata": {
        "id": "6JlKxYeFvVCr"
      },
      "source": [
        "#### NumPy 시작하기"
      ]
    },
    {
      "cell_type": "markdown",
      "metadata": {
        "id": "lzwTahYDve4g"
      },
      "source": [
        "- NumPy 라이브러리 호출 및 별칭(alias) 지정 (np.XXX)"
      ]
    },
    {
      "cell_type": "code",
      "metadata": {
        "id": "byYQxYFj8t9n"
      },
      "source": [
        "import numpy as np"
      ],
      "execution_count": 2,
      "outputs": []
    },
    {
      "cell_type": "markdown",
      "metadata": {
        "id": "vtpYj_k9vk9W"
      },
      "source": [
        "- NumPy 에서 제공하는 함수 호출시 alias 이용해서 호출 가능"
      ]
    },
    {
      "cell_type": "code",
      "metadata": {
        "colab": {
          "base_uri": "https://localhost:8080/"
        },
        "id": "ZuI7N6728wKP",
        "outputId": "7173a6af-f9bd-4ae5-e9a8-b1117dd84f49"
      },
      "source": [
        "print(np.__version__)"
      ],
      "execution_count": null,
      "outputs": [
        {
          "output_type": "stream",
          "text": [
            "1.19.5\n"
          ],
          "name": "stdout"
        }
      ]
    },
    {
      "cell_type": "markdown",
      "metadata": {
        "id": "RPuEzECfvpru"
      },
      "source": [
        "#### ndarray의 구성요소\n",
        "- ndarray의 주요 속성\n",
        "  - 형태 : ndarray.shape\n",
        "  - 원소의 수 : ndarray.size\n",
        "  - 저장된 데이터의 타입 : ndarray.dtype\n",
        "  - 배열의 차원(축)의 수 : ndarray.ndim"
      ]
    },
    {
      "cell_type": "markdown",
      "metadata": {
        "id": "Dv1fBz0qv2ZN"
      },
      "source": [
        "#### ndarray의 생성"
      ]
    },
    {
      "cell_type": "code",
      "metadata": {
        "colab": {
          "base_uri": "https://localhost:8080/"
        },
        "id": "Kq8mfBNg9FTr",
        "outputId": "c7a8b639-706e-4a42-a6f0-455e2ccb068c"
      },
      "source": [
        "# ndarray 생성\n",
        "data = [10, 20, 30]\n",
        "arr = np.array(data)\n",
        "\n",
        "# 생성한 ndarray 의 속성 출력\n",
        "print('\\nCreate 1D Array')\n",
        "print(arr)\n",
        "print('type = ', type(arr))\n",
        "print(\"shape: {}, size: {}, dtype: {}, dimension: {}\".format(arr.shape, arr.size, arr.dtype, arr.ndim))"
      ],
      "execution_count": null,
      "outputs": [
        {
          "output_type": "stream",
          "text": [
            "\n",
            "Create 1D Array\n",
            "[10 20 30]\n",
            "type =  <class 'numpy.ndarray'>\n",
            "shape: (3,), size: 3, dtype: int64, dimension: 1\n"
          ],
          "name": "stdout"
        }
      ]
    },
    {
      "cell_type": "markdown",
      "metadata": {
        "id": "kt_qseFDv76q"
      },
      "source": [
        "np.array(object, dtype)\n",
        "- 입력된 데이터(object)를 인자로 받아 ndarray를 생성하는 함수\n",
        "- Parameters : \n",
        "  - object : ndarray에 저장할 데이터 \n",
        "  - dtype : 배열의 데이터 타입, 기본 값은 None, 생략가능"
      ]
    },
    {
      "cell_type": "markdown",
      "metadata": {
        "id": "_lApuJmGTSyg"
      },
      "source": [
        "#### 2차원 ndarray의 생성"
      ]
    },
    {
      "cell_type": "code",
      "metadata": {
        "id": "fCDduwCO-W61",
        "colab": {
          "base_uri": "https://localhost:8080/"
        },
        "outputId": "11101e67-0cdd-422c-f3f4-4fc59400f40a"
      },
      "source": [
        "# 2차원 ndarray 생성\n",
        "data = [[1,2,3],[4,5,6]]\n",
        "arr = np.array(data)\n",
        "\n",
        "# 생성한 ndarray의 속성 출력\n",
        "print('\\nCreate 2D Array')\n",
        "print(arr)\n",
        "print('type = ', type(arr))\n",
        "print(\"shape: {}, size: {}, dtype: {}, dimension: {}\".format(arr.shape, arr.size, arr.dtype, arr.ndim))"
      ],
      "execution_count": 3,
      "outputs": [
        {
          "output_type": "stream",
          "text": [
            "\n",
            "Create 2D Array\n",
            "[[1 2 3]\n",
            " [4 5 6]]\n",
            "type =  <class 'numpy.ndarray'>\n",
            "shape: (2, 3), size: 6, dtype: int64, dimension: 2\n"
          ],
          "name": "stdout"
        }
      ]
    },
    {
      "cell_type": "markdown",
      "metadata": {
        "id": "aNa8_0WcTqqJ"
      },
      "source": [
        "#### dtype = float 를 지정하면?"
      ]
    },
    {
      "cell_type": "code",
      "metadata": {
        "colab": {
          "base_uri": "https://localhost:8080/"
        },
        "id": "TpNU-5XeTprU",
        "outputId": "3e93b9c6-2e65-4a33-d68e-63a6c9ace962"
      },
      "source": [
        "# 2차원 ndarray 생성\n",
        "data = [[1,2,3],[4,5,6]]\n",
        "arr = np.array(data, dtype = float)\n",
        "\n",
        "# 생성한 ndarray의 속성 출력\n",
        "print('\\nCreate 2D Array')\n",
        "print(arr)\n",
        "print('type = ', type(arr))\n",
        "print(\"shape: {}, size: {}, dtype: {}, dimension: {}\".format(arr.shape, arr.size, arr.dtype, arr.ndim))"
      ],
      "execution_count": 4,
      "outputs": [
        {
          "output_type": "stream",
          "text": [
            "\n",
            "Create 2D Array\n",
            "[[1. 2. 3.]\n",
            " [4. 5. 6.]]\n",
            "type =  <class 'numpy.ndarray'>\n",
            "shape: (2, 3), size: 6, dtype: float64, dimension: 2\n"
          ],
          "name": "stdout"
        }
      ]
    },
    {
      "cell_type": "markdown",
      "metadata": {
        "id": "f7eEMptkUE7d"
      },
      "source": [
        "#### 3차원 ndarray의 생성"
      ]
    },
    {
      "cell_type": "code",
      "metadata": {
        "colab": {
          "base_uri": "https://localhost:8080/"
        },
        "id": "r8zBxLwqUDxp",
        "outputId": "c44c7cdd-f1f2-4e16-a545-37411d720632"
      },
      "source": [
        "# 3차원 ndarray 생성\n",
        "data = [[[1,2,3],[4,5,6]],[[3,2,1],[4,5,6]]]\n",
        "arr = np.array(data, dtype = float)\n",
        "\n",
        "#생성한 ndarray의 속성 출력\n",
        "print('\\nCreate 3D Array')\n",
        "print(arr)\n",
        "print('type = ', type(arr))\n",
        "print(\"shape: {}, size: {}, dtype: {}, dimension: {}\".format(arr.shape, arr.size, arr.dtype, arr.ndim))"
      ],
      "execution_count": 5,
      "outputs": [
        {
          "output_type": "stream",
          "text": [
            "\n",
            "Create 3D Array\n",
            "[[[1. 2. 3.]\n",
            "  [4. 5. 6.]]\n",
            "\n",
            " [[3. 2. 1.]\n",
            "  [4. 5. 6.]]]\n",
            "type =  <class 'numpy.ndarray'>\n",
            "shape: (2, 2, 3), size: 12, dtype: float64, dimension: 3\n"
          ],
          "name": "stdout"
        }
      ]
    },
    {
      "cell_type": "markdown",
      "metadata": {
        "id": "88ZcwiEHUpDh"
      },
      "source": [
        "### NumPy 자료구조 : ndarray의 생성"
      ]
    },
    {
      "cell_type": "markdown",
      "metadata": {
        "id": "TfiEVSyaUr8c"
      },
      "source": [
        "#### NumPy.array()\n",
        "\n",
        "np.array(object,dtype)\n",
        "- 입력된 데이터(object)를 인자로 받아 ndarray를 생성하는 함수\n",
        "- Parameters : \n",
        "  - object : ndarray에 저장할 데이터 \n",
        "  - dtype : 배열의 데이터 타입, 기본 값은 None, 생략가능"
      ]
    },
    {
      "cell_type": "markdown",
      "metadata": {
        "id": "Yj4wJHoPU407"
      },
      "source": [
        "#### ndarray 의 생성\n",
        "- np.arange()\n",
        "- np.zeros()\n",
        "- np.ones()\n",
        "- np.full()\n",
        "- np.empty()\n",
        "- ..."
      ]
    },
    {
      "cell_type": "markdown",
      "metadata": {
        "id": "mivbkKWUVEXS"
      },
      "source": [
        "#### NumPy.arange()\n",
        "\n",
        "np.arange((start), stop, (step))\n",
        "\n",
        "- 파이썬의 range()와 동일하게 연속된 데이터를 생성하는 함수\n",
        "\n",
        "range((start), stop, (step))\n",
        "\n",
        "range(1,5)\n",
        "\n",
        "range(1, 5, 2)\n",
        "\n",
        "range(5.0)"
      ]
    },
    {
      "cell_type": "markdown",
      "metadata": {
        "id": "pRWqMuAZVXVV"
      },
      "source": [
        "- Parameters : \n",
        "  - start : 생성할 시작 값으로 생략 가능함. 생략되면 0부터 생성됨.\n",
        "  - stop : 생성되는 마지막 값으로 해당 값은 포함되지 않음.\n",
        "  - step : 생성시 값들의 간격, 생략 가능"
      ]
    },
    {
      "cell_type": "markdown",
      "metadata": {
        "id": "mw6M4RvdVj1Y"
      },
      "source": [
        "- np.arange()를 통한 ndarray 생성하기"
      ]
    },
    {
      "cell_type": "code",
      "metadata": {
        "colab": {
          "base_uri": "https://localhost:8080/"
        },
        "id": "jerXJ7veUcNb",
        "outputId": "386ac081-43e3-4a88-c779-4e805445144f"
      },
      "source": [
        "import numpy as np\n",
        "\n",
        "def printinfo(arr):\n",
        "  print(arr)\n",
        "  print(\"shape: {}, size: {}, dtype: {}, dimension: {}\".format(arr.shape, arr.size, arr.dtype, arr.ndim))\n",
        "\n",
        "#np.arange()를 통한 ndarray 생성\n",
        "arr = np.arange(2, 10)\n",
        "print('\\n Create ndarray by np.arange()')\n",
        "printinfo(arr)"
      ],
      "execution_count": 7,
      "outputs": [
        {
          "output_type": "stream",
          "text": [
            "\n",
            " Create ndarray by np.arange()\n",
            "[2 3 4 5 6 7 8 9]\n",
            "shape: (8,), size: 8, dtype: int64, dimension: 1\n"
          ],
          "name": "stdout"
        }
      ]
    },
    {
      "cell_type": "markdown",
      "metadata": {
        "id": "BFvZiuSPWtC_"
      },
      "source": [
        "#### ndarray의 생성\n",
        "- np.arange()\n",
        "- np.zeros()\n",
        "- np.ones()\n",
        "- np.full()\n",
        "- np.empty()\n",
        "- ..."
      ]
    },
    {
      "cell_type": "markdown",
      "metadata": {
        "id": "yEo7xTzSV8mB"
      },
      "source": [
        "#### NumPy.zeros()\n",
        "\n",
        "np.zeros(shape, dtype = float)\n",
        "\n",
        "- 지정된 크기(shape)만큼 배열을 생성하고, 모든 요소를 0으로 초기화\n",
        "- 데이터 타입(dtype)은 입력하지 않으면 기본 float 타입으로 생성됨\n",
        "- Parameters : \n",
        "  - shape : 생성할 ndarray의 크기로 튜플() 형태로 저장해야 함\n",
        "  - dtype : 배열의 데이터 타입, 기본값은 float, 생략가능"
      ]
    },
    {
      "cell_type": "markdown",
      "metadata": {
        "id": "7ZNyFqtqWPPD"
      },
      "source": [
        "- np.zeros()를 통한 ndarray 생성하기 (1)"
      ]
    },
    {
      "cell_type": "code",
      "metadata": {
        "colab": {
          "base_uri": "https://localhost:8080/"
        },
        "id": "ku9BqZVMVtEo",
        "outputId": "6325c94b-5111-4e50-d0ce-a66e0e7de64b"
      },
      "source": [
        "# np.zeros() 를 통한 ndarray 생성\n",
        "arr = np.zeros(5)\n",
        "print('\\n Create ndarray by np.zeros()')\n",
        "printinfo(arr)"
      ],
      "execution_count": 8,
      "outputs": [
        {
          "output_type": "stream",
          "text": [
            "\n",
            " Create ndarray by np.zeros()\n",
            "[0. 0. 0. 0. 0.]\n",
            "shape: (5,), size: 5, dtype: float64, dimension: 1\n"
          ],
          "name": "stdout"
        }
      ]
    },
    {
      "cell_type": "markdown",
      "metadata": {
        "id": "2_oyUsYFWa-i"
      },
      "source": [
        "- np.zeros() 를 통한 ndarray 생성하기 (2)"
      ]
    },
    {
      "cell_type": "code",
      "metadata": {
        "colab": {
          "base_uri": "https://localhost:8080/"
        },
        "id": "ISxnMrqjWZzx",
        "outputId": "4721fa6f-76ca-4ec9-ad5a-42616772c3b5"
      },
      "source": [
        "# np.zeros() 를 통한 ndarray 생성\n",
        "arr = np.zeros((3,4), dtype=int)\n",
        "print('\\n Create ndarray by np.zeros()')\n",
        "printinfo(arr)"
      ],
      "execution_count": 10,
      "outputs": [
        {
          "output_type": "stream",
          "text": [
            "\n",
            " Create ndarray by np.zeros()\n",
            "[[0 0 0 0]\n",
            " [0 0 0 0]\n",
            " [0 0 0 0]]\n",
            "shape: (3, 4), size: 12, dtype: int64, dimension: 2\n"
          ],
          "name": "stdout"
        }
      ]
    },
    {
      "cell_type": "markdown",
      "metadata": {
        "id": "t8C1ppI2W0u0"
      },
      "source": [
        "#### ndarray의 생성\n",
        "- np.zeros(shape, dtype = float)\n",
        "  - 지정된 크기 (shape) 만큼 배열을 생성하고, 모든 요소를 0으로 초기화\n",
        "- np.ones(shape, dtype=float)\n",
        "- np.full(shape, fill_value, dtype = None)\n",
        "- np.empty()"
      ]
    },
    {
      "cell_type": "markdown",
      "metadata": {
        "id": "uV__ODCsXEwb"
      },
      "source": [
        "#### NumPy.ones()\n",
        "\n",
        "np.ones(shape, dtype = float)\n",
        "- 지정된 크기(shape)의 배열을 생성하고, 모든 요소를 1로 초기화"
      ]
    },
    {
      "cell_type": "code",
      "metadata": {
        "colab": {
          "base_uri": "https://localhost:8080/"
        },
        "id": "apHmSFcpWkUr",
        "outputId": "dd5d5cb4-3791-4a14-f204-270fba5e936b"
      },
      "source": [
        "# np.ones()를 통한 ndarray 생성\n",
        "arr = np.ones((3,4))\n",
        "print('\\n Create ndarray by np.ones()')\n",
        "printinfo(arr)"
      ],
      "execution_count": 11,
      "outputs": [
        {
          "output_type": "stream",
          "text": [
            "\n",
            " Create ndarray by np.ones()\n",
            "[[1. 1. 1. 1.]\n",
            " [1. 1. 1. 1.]\n",
            " [1. 1. 1. 1.]]\n",
            "shape: (3, 4), size: 12, dtype: float64, dimension: 2\n"
          ],
          "name": "stdout"
        }
      ]
    },
    {
      "cell_type": "markdown",
      "metadata": {
        "id": "c4tDFeZyXU_x"
      },
      "source": [
        "#### NumPy.full()\n",
        "\n",
        "np.full(shape, fill_value, dtype=None)\n",
        "- 지정된 크기(shape)의 배열을 생성하고, 모든 요소를 'fill_value'로 초기화"
      ]
    },
    {
      "cell_type": "code",
      "metadata": {
        "colab": {
          "base_uri": "https://localhost:8080/"
        },
        "id": "fBND_7S3XT1x",
        "outputId": "ac803596-c93d-4aff-f53b-6ef1415266b8"
      },
      "source": [
        "# np.full() 를 통한 ndarray 생성\n",
        "arr = np.full((3,4),77)\n",
        "print('\\n Create ndarray by np.full()')\n",
        "printinfo(arr)"
      ],
      "execution_count": 13,
      "outputs": [
        {
          "output_type": "stream",
          "text": [
            "\n",
            " Create ndarray by np.full()\n",
            "[[77 77 77 77]\n",
            " [77 77 77 77]\n",
            " [77 77 77 77]]\n",
            "shape: (3, 4), size: 12, dtype: int64, dimension: 2\n"
          ],
          "name": "stdout"
        }
      ]
    },
    {
      "cell_type": "markdown",
      "metadata": {
        "id": "aWz0AA5mXo_j"
      },
      "source": [
        "#### NumPy.empty()\n",
        "\n",
        "np.empty(shape)\n",
        "- 초기화되지 않은 상태로 지정된 shape만큼의 ndarray 생성\n",
        "- 요소의 초기화 과정이 없어 배열 생성 비용이 가장 빠르고 저렴함\n",
        "- 생성된 배열의 각 요소는 임의의 값이 저장되어 있음"
      ]
    },
    {
      "cell_type": "code",
      "metadata": {
        "colab": {
          "base_uri": "https://localhost:8080/"
        },
        "id": "yviF3_KfXkWq",
        "outputId": "674a4bd1-3a69-414c-a8af-142b26543e44"
      },
      "source": [
        "arr = np.empty((2,2))\n",
        "print('\\n Create ndarray by np.empty()')\n",
        "printinfo(arr)"
      ],
      "execution_count": 14,
      "outputs": [
        {
          "output_type": "stream",
          "text": [
            "\n",
            " Create ndarray by np.empty()\n",
            "[[5.e-324 5.e-324]\n",
            " [5.e-324 0.e+000]]\n",
            "shape: (2, 2), size: 4, dtype: float64, dimension: 2\n"
          ],
          "name": "stdout"
        }
      ]
    },
    {
      "cell_type": "markdown",
      "metadata": {
        "id": "2531vhxPX4XW"
      },
      "source": [
        "#### *_like 함수\n",
        "\n",
        "지정된 배열과 shape이 같은 ndarray를 생성하는 *_like 함수\n",
        "\n",
        "- np.zeros_like()\n",
        "- np.ones_like()\n",
        "- np.full_like()\n",
        "- np.empty_like()"
      ]
    },
    {
      "cell_type": "markdown",
      "metadata": {
        "id": "VAQbkMT9YEnx"
      },
      "source": [
        "#### 샘플 데이터 생성\n",
        "\n",
        "지정된 배열과 shape이 같은 ndarray를 생성하는 *_like 함수"
      ]
    },
    {
      "cell_type": "code",
      "metadata": {
        "colab": {
          "base_uri": "https://localhost:8080/"
        },
        "id": "SEUxM_VUX2_C",
        "outputId": "1e74d46e-d824-43da-c9c5-189caac6a99c"
      },
      "source": [
        "# sample 데이터 생성\n",
        "data =  [[1,2,3],[4,5,6]]\n",
        "sample = np.array(data)\n",
        "print('\\n Sample')\n",
        "printinfo(sample)"
      ],
      "execution_count": 15,
      "outputs": [
        {
          "output_type": "stream",
          "text": [
            "\n",
            " Sample\n",
            "[[1 2 3]\n",
            " [4 5 6]]\n",
            "shape: (2, 3), size: 6, dtype: int64, dimension: 2\n"
          ],
          "name": "stdout"
        }
      ]
    },
    {
      "cell_type": "markdown",
      "metadata": {
        "id": "G7QU95NSYTSq"
      },
      "source": [
        "#### Numpy.ones_like()\n",
        "\n",
        "지정된 배열과 shape이 같은 ndarray를 생성하는 *_like 함수"
      ]
    },
    {
      "cell_type": "code",
      "metadata": {
        "colab": {
          "base_uri": "https://localhost:8080/"
        },
        "id": "UvldHL8CYQdV",
        "outputId": "8b170392-cec6-40c3-a4e9-f35fd7a1effc"
      },
      "source": [
        "# ones_like()를 통한 ndarray 생성\n",
        "one_array = np.ones_like(sample)\n",
        "print('\\n Create ndarray by np.ones_like()')\n",
        "printinfo(one_array)"
      ],
      "execution_count": 16,
      "outputs": [
        {
          "output_type": "stream",
          "text": [
            "\n",
            " Create ndarray by np.ones_like()\n",
            "[[1 1 1]\n",
            " [1 1 1]]\n",
            "shape: (2, 3), size: 6, dtype: int64, dimension: 2\n"
          ],
          "name": "stdout"
        }
      ]
    },
    {
      "cell_type": "markdown",
      "metadata": {
        "id": "AvDbjHM3YkpW"
      },
      "source": [
        "#### Summary\n",
        "- np.arange()\n",
        "- np.zeros()\n",
        "- np.ones()\n",
        "- np.full()\n",
        "- np.empty()\n",
        "- np.*_like()\n",
        "- ..."
      ]
    },
    {
      "cell_type": "markdown",
      "metadata": {
        "id": "GKBuQJ8iZGyl"
      },
      "source": [
        "### NumPy 의 데이터 타입"
      ]
    },
    {
      "cell_type": "markdown",
      "metadata": {
        "id": "1dOQG2HsZKxu"
      },
      "source": [
        "#### NumPy 의 데이터 타입\n",
        "\n",
        "- np.int64 : (64비트) 정수\n",
        "- np.float64 : (64비트) 실수\n",
        "- np.complex : 복소수\n",
        "- np.bool : 불리언(True, False)\n",
        "- np.object : 파이썬 객체\n",
        "- np.str : 문자열"
      ]
    },
    {
      "cell_type": "markdown",
      "metadata": {
        "id": "64XKH0FeZu6c"
      },
      "source": [
        "#### 정수형(Integer) 데이터 타입\n",
        "- numpy.int는 음수와 양수를 표현하는 정수형 데이터 타입\n",
        "- 뒤에 오는 숫자는 bit 의 개수를 의미함 (int8 -> 2^8 = 256 개 만큼의 정수의 표현이 가능)"
      ]
    },
    {
      "cell_type": "markdown",
      "metadata": {
        "id": "Md8l5TDUZ7EN"
      },
      "source": [
        "#### 데이터 타입의 변경\n",
        "\n",
        "방법1) ndarray 생성시 인자로 dtype 지정하는 방식"
      ]
    },
    {
      "cell_type": "code",
      "metadata": {
        "id": "0QOCF6E0Yi6a"
      },
      "source": [
        "# 3차원 ndarray 생성\n",
        "data = [[[1,2,3],[4,5,6]],[[3,2,1],[4,5,6]]]\n",
        "arr = np.array(data, dtype=float)"
      ],
      "execution_count": 17,
      "outputs": []
    },
    {
      "cell_type": "code",
      "metadata": {
        "colab": {
          "base_uri": "https://localhost:8080/"
        },
        "id": "qd2a_JrsaLNB",
        "outputId": "f272c0d6-0b2c-4983-fa31-2090c9012b93"
      },
      "source": [
        "import numpy as np\n",
        "\n",
        "#dtype 인자 지정을 통한 데이터 타입 변경\n",
        "data = [1,2,3]\n",
        "cpx_arr = np.array(data,dtype=np.complex)\n",
        "str_arr = np.array(data,dtype=np.str)\n",
        "\n",
        "print('Complex: ', cpx_arr)\n",
        "print('String: ', str_arr)"
      ],
      "execution_count": 18,
      "outputs": [
        {
          "output_type": "stream",
          "text": [
            "Complex:  [1.+0.j 2.+0.j 3.+0.j]\n",
            "String:  ['1' '2' '3']\n"
          ],
          "name": "stdout"
        }
      ]
    },
    {
      "cell_type": "markdown",
      "metadata": {
        "id": "TQXGgDOhaeYo"
      },
      "source": [
        "방법2) ndarray.astype(dtype)\n",
        "- ndarray에 저장된 데이터를 주어진 dtype으로 변환해서 반환함\n",
        "- Paramters : \n",
        "  - dtype : 변경하고자 하는 배열의 데이터 타입"
      ]
    },
    {
      "cell_type": "markdown",
      "metadata": {
        "id": "snY8vJHBanaL"
      },
      "source": [
        "#### 샘플 데이터 생성"
      ]
    },
    {
      "cell_type": "code",
      "metadata": {
        "colab": {
          "base_uri": "https://localhost:8080/"
        },
        "id": "GbN8Zt_vadRv",
        "outputId": "fb227c09-af9a-477e-c864-911f1ceea233"
      },
      "source": [
        "# 샘플 데이터 생성\n",
        "origin = np.arange(1, 2, 0.2)\n",
        "print('\\nOriginal data')\n",
        "print(origin)\n",
        "print('dtype: ', origin.dtype)"
      ],
      "execution_count": 19,
      "outputs": [
        {
          "output_type": "stream",
          "text": [
            "\n",
            "Original data\n",
            "[1.  1.2 1.4 1.6 1.8]\n",
            "dtype:  float64\n"
          ],
          "name": "stdout"
        }
      ]
    },
    {
      "cell_type": "markdown",
      "metadata": {
        "id": "5yfLcV7Uax9g"
      },
      "source": [
        "#### .astype() 을 통한 데이터 타입 변경\n",
        "- astype() 을 활용한 데이터 타입 변경"
      ]
    },
    {
      "cell_type": "code",
      "metadata": {
        "colab": {
          "base_uri": "https://localhost:8080/"
        },
        "id": "jidmF1yDawzx",
        "outputId": "30daaa54-236c-4c07-e026-2fe28447baf5"
      },
      "source": [
        "# astype(dtype)을 활용한 데이터 타입 변경\n",
        "result = origin.astype(int)\n",
        "print('\\nResult of astype(int)')\n",
        "print(result)\n",
        "\n",
        "print('\\nOriginal data')\n",
        "print(origin)"
      ],
      "execution_count": 20,
      "outputs": [
        {
          "output_type": "stream",
          "text": [
            "\n",
            "Result of astype(int)\n",
            "[1 1 1 1 1]\n",
            "\n",
            "Original data\n",
            "[1.  1.2 1.4 1.6 1.8]\n"
          ],
          "name": "stdout"
        }
      ]
    },
    {
      "cell_type": "markdown",
      "metadata": {
        "id": "C8OXtpJ4bO-m"
      },
      "source": [
        "### Ndarray의 reshape"
      ]
    },
    {
      "cell_type": "markdown",
      "metadata": {
        "id": "kEh-yZn9bTsb"
      },
      "source": [
        "#### ndarray.shape\n",
        "\n",
        "#### shape의 변경 사례\n",
        "\n",
        "사례1) 이미지 데이터를 딥러닝에 적용시\n",
        "\n",
        "사례2) 머신러닝 알고리즘 적용을 위해 특정 독립변수 컬럼을 선택하여 1차원을 2차원으로 변경하기도 함"
      ]
    },
    {
      "cell_type": "markdown",
      "metadata": {
        "id": "-eI75moubljZ"
      },
      "source": [
        "#### np.reshape()\n",
        "\n",
        "np.reshape(array, newshape)\n",
        "- 기본 데이터는 유지하면서 차원과 shape만을 바꾼 배열을 반환\n",
        "- Paramter:\n",
        "  - array : reshape할 ndarray\n",
        "  - newshape : 변경하고자 하는 shape값(튜플형태)"
      ]
    },
    {
      "cell_type": "code",
      "metadata": {
        "colab": {
          "base_uri": "https://localhost:8080/"
        },
        "id": "39zFCxfMbBF0",
        "outputId": "f33514a8-1ea3-4e0b-c67d-89e655f1be0d"
      },
      "source": [
        "import numpy as np\n",
        "\n",
        "# ndarray 속성 출력 함수\n",
        "def printinfo(arr):\n",
        "  print(arr)\n",
        "  print(\"shape: {}, size: {}, dtype: {}, dimension: {}\".format(arr.shape, arr.size, arr.dtype, arr.ndim))\n",
        "\n",
        "# 샘플 데이터 생성\n",
        "origin_arr = np.arange(15)\n",
        "print('\\nOriginal ndarray')\n",
        "printinfo(origin_arr)"
      ],
      "execution_count": 22,
      "outputs": [
        {
          "output_type": "stream",
          "text": [
            "\n",
            "Original ndarray\n",
            "[ 0  1  2  3  4  5  6  7  8  9 10 11 12 13 14]\n",
            "shape: (15,), size: 15, dtype: int64, dimension: 1\n"
          ],
          "name": "stdout"
        }
      ]
    },
    {
      "cell_type": "markdown",
      "metadata": {
        "id": "d22hZxZXcOKm"
      },
      "source": [
        "- np.reshape()를 통해 2차원 배열로 변경하기"
      ]
    },
    {
      "cell_type": "code",
      "metadata": {
        "colab": {
          "base_uri": "https://localhost:8080/"
        },
        "id": "KqhoJBmPcI4z",
        "outputId": "0b29350a-a8c8-4bb3-cf99-7ff807d070b9"
      },
      "source": [
        "# reshape() 을 활용한 데이터 향상 변경\n",
        "\n",
        "#reshape_arr = np.reshape(origin_arr, (3,6))\n",
        "reshape_arr = np.reshape(origin_arr, (3,5))\n",
        "print('\\nReshape ndarray')\n",
        "printinfo(reshape_arr)"
      ],
      "execution_count": 26,
      "outputs": [
        {
          "output_type": "stream",
          "text": [
            "\n",
            "Reshape ndarray\n",
            "[[ 0  1  2  3  4]\n",
            " [ 5  6  7  8  9]\n",
            " [10 11 12 13 14]]\n",
            "shape: (3, 5), size: 15, dtype: int64, dimension: 2\n"
          ],
          "name": "stdout"
        }
      ]
    },
    {
      "cell_type": "markdown",
      "metadata": {
        "id": "UWLz3mKyczKV"
      },
      "source": [
        "#### numpy.reshape()\n",
        "\n",
        "np.reshape(array, newshape)\n",
        "- 기존 데이터는 유지하면서 차원과 shape만을 바꾼 배열을 반환\n",
        "- 호출방식(결과는 동일)\n",
        "\n",
        "  1) np.reshape(origin_arr, (3,5))\n",
        "\n",
        "  2) origin_arr.reshape((3,5))"
      ]
    },
    {
      "cell_type": "markdown",
      "metadata": {
        "id": "rfyE0upmdCXh"
      },
      "source": [
        "#### numpy.reshape(-1, N)\n",
        "\n",
        "reshape(-1, N)\n",
        "- 기존 데이터는 유지하면서 , shape을 변경하는 방식\n",
        "- shape은 주어진 N에 따라 자동으로 추정되어 변경됨\n",
        "- -1의 자리는 가변적이 됨"
      ]
    },
    {
      "cell_type": "markdown",
      "metadata": {
        "id": "LyQY2ggPdh1l"
      },
      "source": [
        "- Original ndarray를 1차원에서 2차원으로 변경하기"
      ]
    },
    {
      "cell_type": "code",
      "metadata": {
        "colab": {
          "base_uri": "https://localhost:8080/"
        },
        "id": "dXBtLEm3cZnI",
        "outputId": "4ae7aa9d-49a0-4fa1-c245-1a4d7480c0eb"
      },
      "source": [
        "# origin_arr에 저장된 데이터를 2차원으로 항상 변경\n",
        "reshape_arr = origin_arr.reshape(-1,1)\n",
        "print('\\nReshape(-1,N) to 2D array')\n",
        "printinfo(reshape_arr)"
      ],
      "execution_count": 29,
      "outputs": [
        {
          "output_type": "stream",
          "text": [
            "\n",
            "Reshape(-1,N) to 2D array\n",
            "[[ 0]\n",
            " [ 1]\n",
            " [ 2]\n",
            " [ 3]\n",
            " [ 4]\n",
            " [ 5]\n",
            " [ 6]\n",
            " [ 7]\n",
            " [ 8]\n",
            " [ 9]\n",
            " [10]\n",
            " [11]\n",
            " [12]\n",
            " [13]\n",
            " [14]]\n",
            "shape: (15, 1), size: 15, dtype: int64, dimension: 2\n"
          ],
          "name": "stdout"
        }
      ]
    },
    {
      "cell_type": "markdown",
      "metadata": {
        "id": "-smP9Yjad46Q"
      },
      "source": [
        "### NumPy 기본 연산"
      ]
    },
    {
      "cell_type": "markdown",
      "metadata": {
        "id": "6LeCIIBoeFM3"
      },
      "source": [
        "#### NumPy의 주요 특징\n",
        "- much easier to learn and use\n",
        "- 대규모의 고성능 수치 계산을 위한 파이썬 라이브러리\n",
        "-> 연산 속도가 빠르고, 메모리를 효율적으로 사용\n",
        "- N차원의 배열을 효율적으로 다룰 수 있는 라이브러리\n",
        "-> 반복문 작성 필요 없이 N차원의 데이터 배열을 바로 연산할 수 있음"
      ]
    },
    {
      "cell_type": "markdown",
      "metadata": {
        "id": "oRG2h2n7eVl2"
      },
      "source": [
        "#### NumPy의 기본 연산\n",
        "- 연산자(+,-,*,/,>,<,==,!=,...)를 이용하여 직관적인 배열 연산 가능\n",
        "- 모든 연산은 배열의 각 요소별로 적용됨(element-wise)\n",
        "- 모든 산술 연산 함수는 NumPy 모듈에 구현되어 있음"
      ]
    },
    {
      "cell_type": "markdown",
      "metadata": {
        "id": "fOQo42CMek9M"
      },
      "source": [
        "#### NumPy의 사칙연산\n",
        "- numpy.add() 또는 + 연산자\n",
        "- numpy.subtract() 또는 -연산자\n",
        "- numpy.divide() 또는 / 연산자\n",
        "- numpy.multiply() 또는 * 연산자"
      ]
    },
    {
      "cell_type": "code",
      "metadata": {
        "colab": {
          "base_uri": "https://localhost:8080/"
        },
        "id": "WD_9FS6kdgrj",
        "outputId": "4bbcffa2-9120-4ef5-b050-1e07b9caacfc"
      },
      "source": [
        "import numpy as np\n",
        "import time\n",
        "\n",
        "# 샘플 데이터 생성\n",
        "a = np.arange(1,10).reshape(3,3)\n",
        "print('\\nA---')\n",
        "print(a)\n",
        "\n",
        "b = np.arange(9,0,-1).reshape(3,3)\n",
        "print('\\nB---')\n",
        "print(b)"
      ],
      "execution_count": 30,
      "outputs": [
        {
          "output_type": "stream",
          "text": [
            "\n",
            "A---\n",
            "[[1 2 3]\n",
            " [4 5 6]\n",
            " [7 8 9]]\n",
            "\n",
            "B---\n",
            "[[9 8 7]\n",
            " [6 5 4]\n",
            " [3 2 1]]\n"
          ],
          "name": "stdout"
        }
      ]
    },
    {
      "cell_type": "markdown",
      "metadata": {
        "id": "1M3WrCtTe_Ec"
      },
      "source": [
        "#### NumPy 의 덧셈 연산\n",
        "\n",
        "np.add(x1,x2)\n",
        "- 연산자'+'를 사용할 수 있음\n",
        "- 모든 연산은 배열의 각 요소별로 적용됨(element-wise)"
      ]
    },
    {
      "cell_type": "code",
      "metadata": {
        "colab": {
          "base_uri": "https://localhost:8080/"
        },
        "id": "i-9LMpGLe9hz",
        "outputId": "b1f0ba27-2553-4f37-ddd7-c084b0a22f49"
      },
      "source": [
        "# NumPy의 덧셈연산\n",
        "result = a+b\n",
        "print('\\nResult of A + B')\n",
        "print(result)\n",
        "\n",
        "result = np.add(a, b)\n",
        "print('\\nResult of np.add(a,b)')\n",
        "print(result)"
      ],
      "execution_count": 31,
      "outputs": [
        {
          "output_type": "stream",
          "text": [
            "\n",
            "Result of A + B\n",
            "[[10 10 10]\n",
            " [10 10 10]\n",
            " [10 10 10]]\n",
            "\n",
            "Result of np.add(a,b)\n",
            "[[10 10 10]\n",
            " [10 10 10]\n",
            " [10 10 10]]\n"
          ],
          "name": "stdout"
        }
      ]
    },
    {
      "cell_type": "markdown",
      "metadata": {
        "id": "N8yJPSzlfYFN"
      },
      "source": [
        "#### NumPy 의 나눗셈 연산\n",
        "\n",
        "np.divide(x1,x2)\n",
        "- 연산자 '/' 를 사용할 수 있음\n",
        "- 모든 연산은 배열의 각 요소별로 적용됨(element-wise)"
      ]
    },
    {
      "cell_type": "code",
      "metadata": {
        "colab": {
          "base_uri": "https://localhost:8080/"
        },
        "id": "jqrKziQXfTzy",
        "outputId": "bf615ff2-f364-45e2-b9d2-688238fb763d"
      },
      "source": [
        "# NumPy의 나눗셈 연산\n",
        "result = a / b\n",
        "print('\\nResult of A / B')\n",
        "print(result)\n",
        "\n",
        "result = np.divide(a, b)\n",
        "print('\\nResult of np.divide(a,b)')\n",
        "print(result)"
      ],
      "execution_count": 32,
      "outputs": [
        {
          "output_type": "stream",
          "text": [
            "\n",
            "Result of A / B\n",
            "[[0.11111111 0.25       0.42857143]\n",
            " [0.66666667 1.         1.5       ]\n",
            " [2.33333333 4.         9.        ]]\n",
            "\n",
            "Result of np.divide(a,b)\n",
            "[[0.11111111 0.25       0.42857143]\n",
            " [0.66666667 1.         1.5       ]\n",
            " [2.33333333 4.         9.        ]]\n"
          ],
          "name": "stdout"
        }
      ]
    },
    {
      "cell_type": "markdown",
      "metadata": {
        "id": "ZojOgAqOfm04"
      },
      "source": [
        "#### NumPy 의 비교 연산\n",
        "- NumPy의 비교연산은 다음의 연산자를 사용함\n",
        "  - , >, >= : 크다, 크거나 같다\n",
        "  - <, <= : 작다, 작거나 같다\n",
        "  - == : 같다\n",
        "  - != : 같지 않다\n",
        "\n",
        "- 비교 연산의 결과는 ? True or False\n",
        "- 모든 연산은 배열의 각 요소별로 적용됨 (element-wise)"
      ]
    },
    {
      "cell_type": "code",
      "metadata": {
        "colab": {
          "base_uri": "https://localhost:8080/"
        },
        "id": "jXYbzU-bfjHK",
        "outputId": "7634c453-14ab-4bbd-b3ed-2aac81e19777"
      },
      "source": [
        "# NumPy 의 비교 연산 (>)\n",
        "result = a > b\n",
        "print('\\nResult of comparison operator(>)')\n",
        "print(result)"
      ],
      "execution_count": 33,
      "outputs": [
        {
          "output_type": "stream",
          "text": [
            "\n",
            "Result of comparison operator(>)\n",
            "[[False False False]\n",
            " [False False  True]\n",
            " [ True  True  True]]\n"
          ],
          "name": "stdout"
        }
      ]
    },
    {
      "cell_type": "code",
      "metadata": {
        "colab": {
          "base_uri": "https://localhost:8080/"
        },
        "id": "9H4lCWdVgP3v",
        "outputId": "0e21f1b7-6093-4a9d-b1e5-4c212f638e5f"
      },
      "source": [
        "# NumPy 의 비교 연산 (!=)\n",
        "result = a != b\n",
        "print('\\nResult of comparison operator(!=)')\n",
        "print(result)"
      ],
      "execution_count": 34,
      "outputs": [
        {
          "output_type": "stream",
          "text": [
            "\n",
            "Result of comparison operator(!=)\n",
            "[[ True  True  True]\n",
            " [ True False  True]\n",
            " [ True  True  True]]\n"
          ],
          "name": "stdout"
        }
      ]
    },
    {
      "cell_type": "markdown",
      "metadata": {
        "id": "Np0ioHbggb6J"
      },
      "source": [
        "#### NumPy의 주요 특징\n",
        "- much easier to learn and use\n",
        "- 대규모의 고성능 수치 계산을 위한 파이썬 라이브러리\n",
        "-> 연산 속도가 빠르고, 메모리를 효율적으로 사용\n",
        "- N차원의 배열을 효율적으로 다룰 수 있는 라이브러리\n",
        "-> 반복문 작성 필요 없이 N차원의 데이터 배열을 바로 연산할 수 있음"
      ]
    },
    {
      "cell_type": "markdown",
      "metadata": {
        "id": "vCfVckLXggQ7"
      },
      "source": [
        "#### NumPy vs Python\n",
        "- 아래 연산을 python 과 numpy로 구현하면?\n",
        "\n",
        "arr\n",
        "[[1 2 3]\n",
        " [4 5 6]\n",
        " [7 8 9]] + 1"
      ]
    },
    {
      "cell_type": "code",
      "metadata": {
        "id": "bjcX0tpHgVNm"
      },
      "source": [
        "# python\n",
        "\n",
        "i = 0 \n",
        "j = 0\n",
        "for i in range(len(arr)) :\n",
        "  for j in range(len(arr[i])) : \n",
        "    result = arr[i][j] + 1"
      ],
      "execution_count": 43,
      "outputs": []
    },
    {
      "cell_type": "code",
      "metadata": {
        "colab": {
          "base_uri": "https://localhost:8080/",
          "height": 195
        },
        "id": "ruM6IB4wg4yt",
        "outputId": "d6f52713-b596-485c-f831-51de38f37331"
      },
      "source": [
        "# numpy\n",
        "result = arr + 1"
      ],
      "execution_count": 45,
      "outputs": [
        {
          "output_type": "error",
          "ename": "TypeError",
          "evalue": "ignored",
          "traceback": [
            "\u001b[0;31m---------------------------------------------------------------------------\u001b[0m",
            "\u001b[0;31mTypeError\u001b[0m                                 Traceback (most recent call last)",
            "\u001b[0;32m<ipython-input-45-54242eecc812>\u001b[0m in \u001b[0;36m<module>\u001b[0;34m()\u001b[0m\n\u001b[1;32m      1\u001b[0m \u001b[0;31m# numpy\u001b[0m\u001b[0;34m\u001b[0m\u001b[0;34m\u001b[0m\u001b[0;34m\u001b[0m\u001b[0m\n\u001b[0;32m----> 2\u001b[0;31m \u001b[0mresult\u001b[0m \u001b[0;34m=\u001b[0m \u001b[0marr\u001b[0m \u001b[0;34m+\u001b[0m \u001b[0;36m1\u001b[0m\u001b[0;34m\u001b[0m\u001b[0;34m\u001b[0m\u001b[0m\n\u001b[0m",
            "\u001b[0;31mTypeError\u001b[0m: can only concatenate list (not \"int\") to list"
          ]
        }
      ]
    },
    {
      "cell_type": "markdown",
      "metadata": {
        "id": "34Au6deNiIfJ"
      },
      "source": [
        "#### NumPy vs Python 코드 실행 시간\n",
        "\n",
        "Q. 동일한 코드를 NumPy와 Python 의 코드 실행 시간의 차이는?\n",
        "\n",
        "- 비교 코드\n",
        "\n",
        "총 10,000,000개(0부터 10,000,000까지)의 1차원 데이터에 정수 1을 더하는 연산\n",
        "\n",
        "- 코드 실행 시간 측정을 위해 Python의 Time 모듈 사용\n",
        "  - import time\n",
        "  - time.time() : 현재 시점의 시간(초 단위)"
      ]
    },
    {
      "cell_type": "code",
      "metadata": {
        "colab": {
          "base_uri": "https://localhost:8080/"
        },
        "id": "nAUREh50g7Uz",
        "outputId": "0f0a9d85-70cb-4b4c-a47a-4bb8761837db"
      },
      "source": [
        "import time\n",
        "\n",
        "# Python 코드 실행 시간 측정하기\n",
        "python_arr = range(10000000)\n",
        "start = time.time()\n",
        "for i in python_arr:\n",
        "  i +1\n",
        "stop = time.time()\n",
        "print(\"\\nPython(ms):\", (stop - start)*1000)"
      ],
      "execution_count": 46,
      "outputs": [
        {
          "output_type": "stream",
          "text": [
            "\n",
            "Python(ms): 952.1801471710205\n"
          ],
          "name": "stdout"
        }
      ]
    },
    {
      "cell_type": "code",
      "metadata": {
        "colab": {
          "base_uri": "https://localhost:8080/"
        },
        "id": "UU2VdsZavhQv",
        "outputId": "267ac63e-0f05-485e-8ae6-b51b8f2a3f35"
      },
      "source": [
        "# NumPy 코드 실행 시간 측정하기\n",
        "numpy_arr = np.arange(10000000)\n",
        "start = time.time()\n",
        "numpy_arr +1 \n",
        "stop = time.time()\n",
        "print(\"NumPy(ms):\", (stop-start)*1000)"
      ],
      "execution_count": 47,
      "outputs": [
        {
          "output_type": "stream",
          "text": [
            "NumPy(ms): 38.16390037536621\n"
          ],
          "name": "stdout"
        }
      ]
    },
    {
      "cell_type": "markdown",
      "metadata": {
        "id": "UmLuZIylvu94"
      },
      "source": [
        "#### NumPy 의 기타 연산\n",
        "\n",
        "다차원의 ndarray에 적용할 수 있는 고성능의 다양한 연산 함수 제공\n",
        "- 제곱연산 : numpy.square() 또는 **2 연산자\n",
        "- 제곱근(square root) 연산 : numpy.sqrt()\n",
        "- 지수 연산 : numpy.exp()\n",
        "- 삼각함수 : numpy.sin(), numpy.cos()"
      ]
    },
    {
      "cell_type": "markdown",
      "metadata": {
        "id": "JaFYgSVmv8j3"
      },
      "source": [
        "#### Tip! 공식 사이트 활용\n",
        "\n",
        "1) https://numpy.org/ 접속\n",
        "\n",
        "2) 화면 상단의 Documentation 메뉴 클릭\n",
        "\n",
        "3) 검색창에 키워드 검색 : 제곱근 연산 : numpy.sqrt"
      ]
    },
    {
      "cell_type": "markdown",
      "metadata": {
        "id": "G9WOv8rrwKSW"
      },
      "source": [
        "#### Tip! Help() 함수 활용\n",
        "help(command)"
      ]
    },
    {
      "cell_type": "code",
      "metadata": {
        "colab": {
          "base_uri": "https://localhost:8080/"
        },
        "id": "HufyVS1JvrnH",
        "outputId": "b9773df3-e819-45fe-ad97-9bf2fff4550d"
      },
      "source": [
        "# Tip ! Help() 함수의 활용\n",
        "print('\\nHelp on numpy.sqrt()')\n",
        "help(np.sqrt)"
      ],
      "execution_count": 48,
      "outputs": [
        {
          "output_type": "stream",
          "text": [
            "\n",
            "Help on numpy.sqrt()\n",
            "Help on ufunc object:\n",
            "\n",
            "sqrt = class ufunc(builtins.object)\n",
            " |  Functions that operate element by element on whole arrays.\n",
            " |  \n",
            " |  To see the documentation for a specific ufunc, use `info`.  For\n",
            " |  example, ``np.info(np.sin)``.  Because ufuncs are written in C\n",
            " |  (for speed) and linked into Python with NumPy's ufunc facility,\n",
            " |  Python's help() function finds this page whenever help() is called\n",
            " |  on a ufunc.\n",
            " |  \n",
            " |  A detailed explanation of ufuncs can be found in the docs for :ref:`ufuncs`.\n",
            " |  \n",
            " |  Calling ufuncs:\n",
            " |  ===============\n",
            " |  \n",
            " |  op(*x[, out], where=True, **kwargs)\n",
            " |  Apply `op` to the arguments `*x` elementwise, broadcasting the arguments.\n",
            " |  \n",
            " |  The broadcasting rules are:\n",
            " |  \n",
            " |  * Dimensions of length 1 may be prepended to either array.\n",
            " |  * Arrays may be repeated along dimensions of length 1.\n",
            " |  \n",
            " |  Parameters\n",
            " |  ----------\n",
            " |  *x : array_like\n",
            " |      Input arrays.\n",
            " |  out : ndarray, None, or tuple of ndarray and None, optional\n",
            " |      Alternate array object(s) in which to put the result; if provided, it\n",
            " |      must have a shape that the inputs broadcast to. A tuple of arrays\n",
            " |      (possible only as a keyword argument) must have length equal to the\n",
            " |      number of outputs; use None for uninitialized outputs to be\n",
            " |      allocated by the ufunc.\n",
            " |  where : array_like, optional\n",
            " |      This condition is broadcast over the input. At locations where the\n",
            " |      condition is True, the `out` array will be set to the ufunc result.\n",
            " |      Elsewhere, the `out` array will retain its original value.\n",
            " |      Note that if an uninitialized `out` array is created via the default\n",
            " |      ``out=None``, locations within it where the condition is False will\n",
            " |      remain uninitialized.\n",
            " |  **kwargs\n",
            " |      For other keyword-only arguments, see the :ref:`ufunc docs <ufuncs.kwargs>`.\n",
            " |  \n",
            " |  Returns\n",
            " |  -------\n",
            " |  r : ndarray or tuple of ndarray\n",
            " |      `r` will have the shape that the arrays in `x` broadcast to; if `out` is\n",
            " |      provided, it will be returned. If not, `r` will be allocated and\n",
            " |      may contain uninitialized values. If the function has more than one\n",
            " |      output, then the result will be a tuple of arrays.\n",
            " |  \n",
            " |  Methods defined here:\n",
            " |  \n",
            " |  __call__(self, /, *args, **kwargs)\n",
            " |      Call self as a function.\n",
            " |  \n",
            " |  __repr__(self, /)\n",
            " |      Return repr(self).\n",
            " |  \n",
            " |  __str__(self, /)\n",
            " |      Return str(self).\n",
            " |  \n",
            " |  accumulate(...)\n",
            " |      accumulate(array, axis=0, dtype=None, out=None)\n",
            " |      \n",
            " |      Accumulate the result of applying the operator to all elements.\n",
            " |      \n",
            " |      For a one-dimensional array, accumulate produces results equivalent to::\n",
            " |      \n",
            " |        r = np.empty(len(A))\n",
            " |        t = op.identity        # op = the ufunc being applied to A's  elements\n",
            " |        for i in range(len(A)):\n",
            " |            t = op(t, A[i])\n",
            " |            r[i] = t\n",
            " |        return r\n",
            " |      \n",
            " |      For example, add.accumulate() is equivalent to np.cumsum().\n",
            " |      \n",
            " |      For a multi-dimensional array, accumulate is applied along only one\n",
            " |      axis (axis zero by default; see Examples below) so repeated use is\n",
            " |      necessary if one wants to accumulate over multiple axes.\n",
            " |      \n",
            " |      Parameters\n",
            " |      ----------\n",
            " |      array : array_like\n",
            " |          The array to act on.\n",
            " |      axis : int, optional\n",
            " |          The axis along which to apply the accumulation; default is zero.\n",
            " |      dtype : data-type code, optional\n",
            " |          The data-type used to represent the intermediate results. Defaults\n",
            " |          to the data-type of the output array if such is provided, or the\n",
            " |          the data-type of the input array if no output array is provided.\n",
            " |      out : ndarray, None, or tuple of ndarray and None, optional\n",
            " |          A location into which the result is stored. If not provided or None,\n",
            " |          a freshly-allocated array is returned. For consistency with\n",
            " |          ``ufunc.__call__``, if given as a keyword, this may be wrapped in a\n",
            " |          1-element tuple.\n",
            " |      \n",
            " |          .. versionchanged:: 1.13.0\n",
            " |             Tuples are allowed for keyword argument.\n",
            " |      \n",
            " |      Returns\n",
            " |      -------\n",
            " |      r : ndarray\n",
            " |          The accumulated values. If `out` was supplied, `r` is a reference to\n",
            " |          `out`.\n",
            " |      \n",
            " |      Examples\n",
            " |      --------\n",
            " |      1-D array examples:\n",
            " |      \n",
            " |      >>> np.add.accumulate([2, 3, 5])\n",
            " |      array([ 2,  5, 10])\n",
            " |      >>> np.multiply.accumulate([2, 3, 5])\n",
            " |      array([ 2,  6, 30])\n",
            " |      \n",
            " |      2-D array examples:\n",
            " |      \n",
            " |      >>> I = np.eye(2)\n",
            " |      >>> I\n",
            " |      array([[1.,  0.],\n",
            " |             [0.,  1.]])\n",
            " |      \n",
            " |      Accumulate along axis 0 (rows), down columns:\n",
            " |      \n",
            " |      >>> np.add.accumulate(I, 0)\n",
            " |      array([[1.,  0.],\n",
            " |             [1.,  1.]])\n",
            " |      >>> np.add.accumulate(I) # no axis specified = axis zero\n",
            " |      array([[1.,  0.],\n",
            " |             [1.,  1.]])\n",
            " |      \n",
            " |      Accumulate along axis 1 (columns), through rows:\n",
            " |      \n",
            " |      >>> np.add.accumulate(I, 1)\n",
            " |      array([[1.,  1.],\n",
            " |             [0.,  1.]])\n",
            " |  \n",
            " |  at(...)\n",
            " |      at(a, indices, b=None)\n",
            " |      \n",
            " |      Performs unbuffered in place operation on operand 'a' for elements\n",
            " |      specified by 'indices'. For addition ufunc, this method is equivalent to\n",
            " |      ``a[indices] += b``, except that results are accumulated for elements that\n",
            " |      are indexed more than once. For example, ``a[[0,0]] += 1`` will only\n",
            " |      increment the first element once because of buffering, whereas\n",
            " |      ``add.at(a, [0,0], 1)`` will increment the first element twice.\n",
            " |      \n",
            " |      .. versionadded:: 1.8.0\n",
            " |      \n",
            " |      Parameters\n",
            " |      ----------\n",
            " |      a : array_like\n",
            " |          The array to perform in place operation on.\n",
            " |      indices : array_like or tuple\n",
            " |          Array like index object or slice object for indexing into first\n",
            " |          operand. If first operand has multiple dimensions, indices can be a\n",
            " |          tuple of array like index objects or slice objects.\n",
            " |      b : array_like\n",
            " |          Second operand for ufuncs requiring two operands. Operand must be\n",
            " |          broadcastable over first operand after indexing or slicing.\n",
            " |      \n",
            " |      Examples\n",
            " |      --------\n",
            " |      Set items 0 and 1 to their negative values:\n",
            " |      \n",
            " |      >>> a = np.array([1, 2, 3, 4])\n",
            " |      >>> np.negative.at(a, [0, 1])\n",
            " |      >>> a\n",
            " |      array([-1, -2,  3,  4])\n",
            " |      \n",
            " |      Increment items 0 and 1, and increment item 2 twice:\n",
            " |      \n",
            " |      >>> a = np.array([1, 2, 3, 4])\n",
            " |      >>> np.add.at(a, [0, 1, 2, 2], 1)\n",
            " |      >>> a\n",
            " |      array([2, 3, 5, 4])\n",
            " |      \n",
            " |      Add items 0 and 1 in first array to second array,\n",
            " |      and store results in first array:\n",
            " |      \n",
            " |      >>> a = np.array([1, 2, 3, 4])\n",
            " |      >>> b = np.array([1, 2])\n",
            " |      >>> np.add.at(a, [0, 1], b)\n",
            " |      >>> a\n",
            " |      array([2, 4, 3, 4])\n",
            " |  \n",
            " |  outer(...)\n",
            " |      outer(A, B, **kwargs)\n",
            " |      \n",
            " |      Apply the ufunc `op` to all pairs (a, b) with a in `A` and b in `B`.\n",
            " |      \n",
            " |      Let ``M = A.ndim``, ``N = B.ndim``. Then the result, `C`, of\n",
            " |      ``op.outer(A, B)`` is an array of dimension M + N such that:\n",
            " |      \n",
            " |      .. math:: C[i_0, ..., i_{M-1}, j_0, ..., j_{N-1}] =\n",
            " |         op(A[i_0, ..., i_{M-1}], B[j_0, ..., j_{N-1}])\n",
            " |      \n",
            " |      For `A` and `B` one-dimensional, this is equivalent to::\n",
            " |      \n",
            " |        r = empty(len(A),len(B))\n",
            " |        for i in range(len(A)):\n",
            " |            for j in range(len(B)):\n",
            " |                r[i,j] = op(A[i], B[j]) # op = ufunc in question\n",
            " |      \n",
            " |      Parameters\n",
            " |      ----------\n",
            " |      A : array_like\n",
            " |          First array\n",
            " |      B : array_like\n",
            " |          Second array\n",
            " |      kwargs : any\n",
            " |          Arguments to pass on to the ufunc. Typically `dtype` or `out`.\n",
            " |      \n",
            " |      Returns\n",
            " |      -------\n",
            " |      r : ndarray\n",
            " |          Output array\n",
            " |      \n",
            " |      See Also\n",
            " |      --------\n",
            " |      numpy.outer : A less powerful version of ``np.multiply.outer``\n",
            " |                    that `ravel`\\ s all inputs to 1D. This exists\n",
            " |                    primarily for compatibility with old code.\n",
            " |      \n",
            " |      tensordot : ``np.tensordot(a, b, axes=((), ()))`` and\n",
            " |                  ``np.multiply.outer(a, b)`` behave same for all\n",
            " |                  dimensions of a and b.\n",
            " |      \n",
            " |      Examples\n",
            " |      --------\n",
            " |      >>> np.multiply.outer([1, 2, 3], [4, 5, 6])\n",
            " |      array([[ 4,  5,  6],\n",
            " |             [ 8, 10, 12],\n",
            " |             [12, 15, 18]])\n",
            " |      \n",
            " |      A multi-dimensional example:\n",
            " |      \n",
            " |      >>> A = np.array([[1, 2, 3], [4, 5, 6]])\n",
            " |      >>> A.shape\n",
            " |      (2, 3)\n",
            " |      >>> B = np.array([[1, 2, 3, 4]])\n",
            " |      >>> B.shape\n",
            " |      (1, 4)\n",
            " |      >>> C = np.multiply.outer(A, B)\n",
            " |      >>> C.shape; C\n",
            " |      (2, 3, 1, 4)\n",
            " |      array([[[[ 1,  2,  3,  4]],\n",
            " |              [[ 2,  4,  6,  8]],\n",
            " |              [[ 3,  6,  9, 12]]],\n",
            " |             [[[ 4,  8, 12, 16]],\n",
            " |              [[ 5, 10, 15, 20]],\n",
            " |              [[ 6, 12, 18, 24]]]])\n",
            " |  \n",
            " |  reduce(...)\n",
            " |      reduce(a, axis=0, dtype=None, out=None, keepdims=False, initial=<no value>, where=True)\n",
            " |      \n",
            " |      Reduces `a`'s dimension by one, by applying ufunc along one axis.\n",
            " |      \n",
            " |      Let :math:`a.shape = (N_0, ..., N_i, ..., N_{M-1})`.  Then\n",
            " |      :math:`ufunc.reduce(a, axis=i)[k_0, ..,k_{i-1}, k_{i+1}, .., k_{M-1}]` =\n",
            " |      the result of iterating `j` over :math:`range(N_i)`, cumulatively applying\n",
            " |      ufunc to each :math:`a[k_0, ..,k_{i-1}, j, k_{i+1}, .., k_{M-1}]`.\n",
            " |      For a one-dimensional array, reduce produces results equivalent to:\n",
            " |      ::\n",
            " |      \n",
            " |       r = op.identity # op = ufunc\n",
            " |       for i in range(len(A)):\n",
            " |         r = op(r, A[i])\n",
            " |       return r\n",
            " |      \n",
            " |      For example, add.reduce() is equivalent to sum().\n",
            " |      \n",
            " |      Parameters\n",
            " |      ----------\n",
            " |      a : array_like\n",
            " |          The array to act on.\n",
            " |      axis : None or int or tuple of ints, optional\n",
            " |          Axis or axes along which a reduction is performed.\n",
            " |          The default (`axis` = 0) is perform a reduction over the first\n",
            " |          dimension of the input array. `axis` may be negative, in\n",
            " |          which case it counts from the last to the first axis.\n",
            " |      \n",
            " |          .. versionadded:: 1.7.0\n",
            " |      \n",
            " |          If this is None, a reduction is performed over all the axes.\n",
            " |          If this is a tuple of ints, a reduction is performed on multiple\n",
            " |          axes, instead of a single axis or all the axes as before.\n",
            " |      \n",
            " |          For operations which are either not commutative or not associative,\n",
            " |          doing a reduction over multiple axes is not well-defined. The\n",
            " |          ufuncs do not currently raise an exception in this case, but will\n",
            " |          likely do so in the future.\n",
            " |      dtype : data-type code, optional\n",
            " |          The type used to represent the intermediate results. Defaults\n",
            " |          to the data-type of the output array if this is provided, or\n",
            " |          the data-type of the input array if no output array is provided.\n",
            " |      out : ndarray, None, or tuple of ndarray and None, optional\n",
            " |          A location into which the result is stored. If not provided or None,\n",
            " |          a freshly-allocated array is returned. For consistency with\n",
            " |          ``ufunc.__call__``, if given as a keyword, this may be wrapped in a\n",
            " |          1-element tuple.\n",
            " |      \n",
            " |          .. versionchanged:: 1.13.0\n",
            " |             Tuples are allowed for keyword argument.\n",
            " |      keepdims : bool, optional\n",
            " |          If this is set to True, the axes which are reduced are left\n",
            " |          in the result as dimensions with size one. With this option,\n",
            " |          the result will broadcast correctly against the original `arr`.\n",
            " |      \n",
            " |          .. versionadded:: 1.7.0\n",
            " |      initial : scalar, optional\n",
            " |          The value with which to start the reduction.\n",
            " |          If the ufunc has no identity or the dtype is object, this defaults\n",
            " |          to None - otherwise it defaults to ufunc.identity.\n",
            " |          If ``None`` is given, the first element of the reduction is used,\n",
            " |          and an error is thrown if the reduction is empty.\n",
            " |      \n",
            " |          .. versionadded:: 1.15.0\n",
            " |      \n",
            " |      where : array_like of bool, optional\n",
            " |          A boolean array which is broadcasted to match the dimensions\n",
            " |          of `a`, and selects elements to include in the reduction. Note\n",
            " |          that for ufuncs like ``minimum`` that do not have an identity\n",
            " |          defined, one has to pass in also ``initial``.\n",
            " |      \n",
            " |          .. versionadded:: 1.17.0\n",
            " |      \n",
            " |      Returns\n",
            " |      -------\n",
            " |      r : ndarray\n",
            " |          The reduced array. If `out` was supplied, `r` is a reference to it.\n",
            " |      \n",
            " |      Examples\n",
            " |      --------\n",
            " |      >>> np.multiply.reduce([2,3,5])\n",
            " |      30\n",
            " |      \n",
            " |      A multi-dimensional array example:\n",
            " |      \n",
            " |      >>> X = np.arange(8).reshape((2,2,2))\n",
            " |      >>> X\n",
            " |      array([[[0, 1],\n",
            " |              [2, 3]],\n",
            " |             [[4, 5],\n",
            " |              [6, 7]]])\n",
            " |      >>> np.add.reduce(X, 0)\n",
            " |      array([[ 4,  6],\n",
            " |             [ 8, 10]])\n",
            " |      >>> np.add.reduce(X) # confirm: default axis value is 0\n",
            " |      array([[ 4,  6],\n",
            " |             [ 8, 10]])\n",
            " |      >>> np.add.reduce(X, 1)\n",
            " |      array([[ 2,  4],\n",
            " |             [10, 12]])\n",
            " |      >>> np.add.reduce(X, 2)\n",
            " |      array([[ 1,  5],\n",
            " |             [ 9, 13]])\n",
            " |      \n",
            " |      You can use the ``initial`` keyword argument to initialize the reduction\n",
            " |      with a different value, and ``where`` to select specific elements to include:\n",
            " |      \n",
            " |      >>> np.add.reduce([10], initial=5)\n",
            " |      15\n",
            " |      >>> np.add.reduce(np.ones((2, 2, 2)), axis=(0, 2), initial=10)\n",
            " |      array([14., 14.])\n",
            " |      >>> a = np.array([10., np.nan, 10])\n",
            " |      >>> np.add.reduce(a, where=~np.isnan(a))\n",
            " |      20.0\n",
            " |      \n",
            " |      Allows reductions of empty arrays where they would normally fail, i.e.\n",
            " |      for ufuncs without an identity.\n",
            " |      \n",
            " |      >>> np.minimum.reduce([], initial=np.inf)\n",
            " |      inf\n",
            " |      >>> np.minimum.reduce([[1., 2.], [3., 4.]], initial=10., where=[True, False])\n",
            " |      array([ 1., 10.])\n",
            " |      >>> np.minimum.reduce([])\n",
            " |      Traceback (most recent call last):\n",
            " |          ...\n",
            " |      ValueError: zero-size array to reduction operation minimum which has no identity\n",
            " |  \n",
            " |  reduceat(...)\n",
            " |      reduceat(a, indices, axis=0, dtype=None, out=None)\n",
            " |      \n",
            " |      Performs a (local) reduce with specified slices over a single axis.\n",
            " |      \n",
            " |      For i in ``range(len(indices))``, `reduceat` computes\n",
            " |      ``ufunc.reduce(a[indices[i]:indices[i+1]])``, which becomes the i-th\n",
            " |      generalized \"row\" parallel to `axis` in the final result (i.e., in a\n",
            " |      2-D array, for example, if `axis = 0`, it becomes the i-th row, but if\n",
            " |      `axis = 1`, it becomes the i-th column).  There are three exceptions to this:\n",
            " |      \n",
            " |      * when ``i = len(indices) - 1`` (so for the last index),\n",
            " |        ``indices[i+1] = a.shape[axis]``.\n",
            " |      * if ``indices[i] >= indices[i + 1]``, the i-th generalized \"row\" is\n",
            " |        simply ``a[indices[i]]``.\n",
            " |      * if ``indices[i] >= len(a)`` or ``indices[i] < 0``, an error is raised.\n",
            " |      \n",
            " |      The shape of the output depends on the size of `indices`, and may be\n",
            " |      larger than `a` (this happens if ``len(indices) > a.shape[axis]``).\n",
            " |      \n",
            " |      Parameters\n",
            " |      ----------\n",
            " |      a : array_like\n",
            " |          The array to act on.\n",
            " |      indices : array_like\n",
            " |          Paired indices, comma separated (not colon), specifying slices to\n",
            " |          reduce.\n",
            " |      axis : int, optional\n",
            " |          The axis along which to apply the reduceat.\n",
            " |      dtype : data-type code, optional\n",
            " |          The type used to represent the intermediate results. Defaults\n",
            " |          to the data type of the output array if this is provided, or\n",
            " |          the data type of the input array if no output array is provided.\n",
            " |      out : ndarray, None, or tuple of ndarray and None, optional\n",
            " |          A location into which the result is stored. If not provided or None,\n",
            " |          a freshly-allocated array is returned. For consistency with\n",
            " |          ``ufunc.__call__``, if given as a keyword, this may be wrapped in a\n",
            " |          1-element tuple.\n",
            " |      \n",
            " |          .. versionchanged:: 1.13.0\n",
            " |             Tuples are allowed for keyword argument.\n",
            " |      \n",
            " |      Returns\n",
            " |      -------\n",
            " |      r : ndarray\n",
            " |          The reduced values. If `out` was supplied, `r` is a reference to\n",
            " |          `out`.\n",
            " |      \n",
            " |      Notes\n",
            " |      -----\n",
            " |      A descriptive example:\n",
            " |      \n",
            " |      If `a` is 1-D, the function `ufunc.accumulate(a)` is the same as\n",
            " |      ``ufunc.reduceat(a, indices)[::2]`` where `indices` is\n",
            " |      ``range(len(array) - 1)`` with a zero placed\n",
            " |      in every other element:\n",
            " |      ``indices = zeros(2 * len(a) - 1)``, ``indices[1::2] = range(1, len(a))``.\n",
            " |      \n",
            " |      Don't be fooled by this attribute's name: `reduceat(a)` is not\n",
            " |      necessarily smaller than `a`.\n",
            " |      \n",
            " |      Examples\n",
            " |      --------\n",
            " |      To take the running sum of four successive values:\n",
            " |      \n",
            " |      >>> np.add.reduceat(np.arange(8),[0,4, 1,5, 2,6, 3,7])[::2]\n",
            " |      array([ 6, 10, 14, 18])\n",
            " |      \n",
            " |      A 2-D example:\n",
            " |      \n",
            " |      >>> x = np.linspace(0, 15, 16).reshape(4,4)\n",
            " |      >>> x\n",
            " |      array([[ 0.,   1.,   2.,   3.],\n",
            " |             [ 4.,   5.,   6.,   7.],\n",
            " |             [ 8.,   9.,  10.,  11.],\n",
            " |             [12.,  13.,  14.,  15.]])\n",
            " |      \n",
            " |      ::\n",
            " |      \n",
            " |       # reduce such that the result has the following five rows:\n",
            " |       # [row1 + row2 + row3]\n",
            " |       # [row4]\n",
            " |       # [row2]\n",
            " |       # [row3]\n",
            " |       # [row1 + row2 + row3 + row4]\n",
            " |      \n",
            " |      >>> np.add.reduceat(x, [0, 3, 1, 2, 0])\n",
            " |      array([[12.,  15.,  18.,  21.],\n",
            " |             [12.,  13.,  14.,  15.],\n",
            " |             [ 4.,   5.,   6.,   7.],\n",
            " |             [ 8.,   9.,  10.,  11.],\n",
            " |             [24.,  28.,  32.,  36.]])\n",
            " |      \n",
            " |      ::\n",
            " |      \n",
            " |       # reduce such that result has the following two columns:\n",
            " |       # [col1 * col2 * col3, col4]\n",
            " |      \n",
            " |      >>> np.multiply.reduceat(x, [0, 3], 1)\n",
            " |      array([[   0.,     3.],\n",
            " |             [ 120.,     7.],\n",
            " |             [ 720.,    11.],\n",
            " |             [2184.,    15.]])\n",
            " |  \n",
            " |  ----------------------------------------------------------------------\n",
            " |  Data descriptors defined here:\n",
            " |  \n",
            " |  identity\n",
            " |      The identity value.\n",
            " |      \n",
            " |      Data attribute containing the identity element for the ufunc, if it has one.\n",
            " |      If it does not, the attribute value is None.\n",
            " |      \n",
            " |      Examples\n",
            " |      --------\n",
            " |      >>> np.add.identity\n",
            " |      0\n",
            " |      >>> np.multiply.identity\n",
            " |      1\n",
            " |      >>> np.power.identity\n",
            " |      1\n",
            " |      >>> print(np.exp.identity)\n",
            " |      None\n",
            " |  \n",
            " |  nargs\n",
            " |      The number of arguments.\n",
            " |      \n",
            " |      Data attribute containing the number of arguments the ufunc takes, including\n",
            " |      optional ones.\n",
            " |      \n",
            " |      Notes\n",
            " |      -----\n",
            " |      Typically this value will be one more than what you might expect because all\n",
            " |      ufuncs take  the optional \"out\" argument.\n",
            " |      \n",
            " |      Examples\n",
            " |      --------\n",
            " |      >>> np.add.nargs\n",
            " |      3\n",
            " |      >>> np.multiply.nargs\n",
            " |      3\n",
            " |      >>> np.power.nargs\n",
            " |      3\n",
            " |      >>> np.exp.nargs\n",
            " |      2\n",
            " |  \n",
            " |  nin\n",
            " |      The number of inputs.\n",
            " |      \n",
            " |      Data attribute containing the number of arguments the ufunc treats as input.\n",
            " |      \n",
            " |      Examples\n",
            " |      --------\n",
            " |      >>> np.add.nin\n",
            " |      2\n",
            " |      >>> np.multiply.nin\n",
            " |      2\n",
            " |      >>> np.power.nin\n",
            " |      2\n",
            " |      >>> np.exp.nin\n",
            " |      1\n",
            " |  \n",
            " |  nout\n",
            " |      The number of outputs.\n",
            " |      \n",
            " |      Data attribute containing the number of arguments the ufunc treats as output.\n",
            " |      \n",
            " |      Notes\n",
            " |      -----\n",
            " |      Since all ufuncs can take output arguments, this will always be (at least) 1.\n",
            " |      \n",
            " |      Examples\n",
            " |      --------\n",
            " |      >>> np.add.nout\n",
            " |      1\n",
            " |      >>> np.multiply.nout\n",
            " |      1\n",
            " |      >>> np.power.nout\n",
            " |      1\n",
            " |      >>> np.exp.nout\n",
            " |      1\n",
            " |  \n",
            " |  ntypes\n",
            " |      The number of types.\n",
            " |      \n",
            " |      The number of numerical NumPy types - of which there are 18 total - on which\n",
            " |      the ufunc can operate.\n",
            " |      \n",
            " |      See Also\n",
            " |      --------\n",
            " |      numpy.ufunc.types\n",
            " |      \n",
            " |      Examples\n",
            " |      --------\n",
            " |      >>> np.add.ntypes\n",
            " |      18\n",
            " |      >>> np.multiply.ntypes\n",
            " |      18\n",
            " |      >>> np.power.ntypes\n",
            " |      17\n",
            " |      >>> np.exp.ntypes\n",
            " |      7\n",
            " |      >>> np.remainder.ntypes\n",
            " |      14\n",
            " |  \n",
            " |  signature\n",
            " |      Definition of the core elements a generalized ufunc operates on.\n",
            " |      \n",
            " |      The signature determines how the dimensions of each input/output array\n",
            " |      are split into core and loop dimensions:\n",
            " |      \n",
            " |      1. Each dimension in the signature is matched to a dimension of the\n",
            " |         corresponding passed-in array, starting from the end of the shape tuple.\n",
            " |      2. Core dimensions assigned to the same label in the signature must have\n",
            " |         exactly matching sizes, no broadcasting is performed.\n",
            " |      3. The core dimensions are removed from all inputs and the remaining\n",
            " |         dimensions are broadcast together, defining the loop dimensions.\n",
            " |      \n",
            " |      Notes\n",
            " |      -----\n",
            " |      Generalized ufuncs are used internally in many linalg functions, and in\n",
            " |      the testing suite; the examples below are taken from these.\n",
            " |      For ufuncs that operate on scalars, the signature is None, which is\n",
            " |      equivalent to '()' for every argument.\n",
            " |      \n",
            " |      Examples\n",
            " |      --------\n",
            " |      >>> np.core.umath_tests.matrix_multiply.signature\n",
            " |      '(m,n),(n,p)->(m,p)'\n",
            " |      >>> np.linalg._umath_linalg.det.signature\n",
            " |      '(m,m)->()'\n",
            " |      >>> np.add.signature is None\n",
            " |      True  # equivalent to '(),()->()'\n",
            " |  \n",
            " |  types\n",
            " |      Returns a list with types grouped input->output.\n",
            " |      \n",
            " |      Data attribute listing the data-type \"Domain-Range\" groupings the ufunc can\n",
            " |      deliver. The data-types are given using the character codes.\n",
            " |      \n",
            " |      See Also\n",
            " |      --------\n",
            " |      numpy.ufunc.ntypes\n",
            " |      \n",
            " |      Examples\n",
            " |      --------\n",
            " |      >>> np.add.types\n",
            " |      ['??->?', 'bb->b', 'BB->B', 'hh->h', 'HH->H', 'ii->i', 'II->I', 'll->l',\n",
            " |      'LL->L', 'qq->q', 'QQ->Q', 'ff->f', 'dd->d', 'gg->g', 'FF->F', 'DD->D',\n",
            " |      'GG->G', 'OO->O']\n",
            " |      \n",
            " |      >>> np.multiply.types\n",
            " |      ['??->?', 'bb->b', 'BB->B', 'hh->h', 'HH->H', 'ii->i', 'II->I', 'll->l',\n",
            " |      'LL->L', 'qq->q', 'QQ->Q', 'ff->f', 'dd->d', 'gg->g', 'FF->F', 'DD->D',\n",
            " |      'GG->G', 'OO->O']\n",
            " |      \n",
            " |      >>> np.power.types\n",
            " |      ['bb->b', 'BB->B', 'hh->h', 'HH->H', 'ii->i', 'II->I', 'll->l', 'LL->L',\n",
            " |      'qq->q', 'QQ->Q', 'ff->f', 'dd->d', 'gg->g', 'FF->F', 'DD->D', 'GG->G',\n",
            " |      'OO->O']\n",
            " |      \n",
            " |      >>> np.exp.types\n",
            " |      ['f->f', 'd->d', 'g->g', 'F->F', 'D->D', 'G->G', 'O->O']\n",
            " |      \n",
            " |      >>> np.remainder.types\n",
            " |      ['bb->b', 'BB->B', 'hh->h', 'HH->H', 'ii->i', 'II->I', 'll->l', 'LL->L',\n",
            " |      'qq->q', 'QQ->Q', 'ff->f', 'dd->d', 'gg->g', 'OO->O']\n",
            "\n"
          ],
          "name": "stdout"
        }
      ]
    },
    {
      "cell_type": "markdown",
      "metadata": {
        "id": "dvQ-Bl4YwjlK"
      },
      "source": [
        "### NumPy 집계 함수"
      ]
    },
    {
      "cell_type": "markdown",
      "metadata": {
        "id": "L49GlozMwmJN"
      },
      "source": [
        "#### NumPy 의 집계 함수\n",
        "- 집계 함수(Aggregate Functions)란?\n",
        "  - 데이터를 종합하여 특정 연산을 적용하는 함수들을 총칭"
      ]
    },
    {
      "cell_type": "markdown",
      "metadata": {
        "id": "XHA4CHFow_Hf"
      },
      "source": [
        "- 합계 : sum()\n",
        "- 최소값 : min()\n",
        "- 최대값 : max()\n",
        "- 누적합계 : cumsum()\n",
        "- 평균 : mean()\n",
        "- 중앙값: median()\n",
        "- 상관계수 : corrcoef()\n",
        "- 표준편차 : std()\n",
        "- 고유값 : unique()"
      ]
    },
    {
      "cell_type": "markdown",
      "metadata": {
        "id": "pkqEYduLxRL9"
      },
      "source": [
        "#### 데이터의 집계 방향\n",
        "- 집계 함수의 기능 이해와 사용법은 매우 단순함\n",
        "  - 방법 (1)\n",
        "  array.sum()\n",
        "  - 방법 (2)\n",
        "  np.sum(array)\n",
        "\n",
        "- 중요한 것은 데이터의 집계 방향을 지정해야함\n",
        "  - axis = None(default)\n",
        "  - axis = 0\n",
        "  - axis = 1"
      ]
    },
    {
      "cell_type": "code",
      "metadata": {
        "colab": {
          "base_uri": "https://localhost:8080/"
        },
        "id": "dKdsEWw-wS1P",
        "outputId": "14091b66-b928-446c-c72d-b1ed5dd50d75"
      },
      "source": [
        "import numpy as np\n",
        "\n",
        "# 샘플 데이터 생성\n",
        "sample = np.arange(1, 10).reshape(3,3)\n",
        "print('Sample')\n",
        "print(sample)"
      ],
      "execution_count": 49,
      "outputs": [
        {
          "output_type": "stream",
          "text": [
            "Sample\n",
            "[[1 2 3]\n",
            " [4 5 6]\n",
            " [7 8 9]]\n"
          ],
          "name": "stdout"
        }
      ]
    },
    {
      "cell_type": "markdown",
      "metadata": {
        "id": "Tc2eW2y4xuHG"
      },
      "source": [
        "#### 데이터의 집계 방향(axis=None)\n",
        "axis = None(default)\n",
        "- 대상 ndarray의 모든 요소가 연산 대상이 됨\n",
        "- Default 값이므로 집계 함수 호출시 생략 가능"
      ]
    },
    {
      "cell_type": "code",
      "metadata": {
        "colab": {
          "base_uri": "https://localhost:8080/"
        },
        "id": "9WVwj-qdwcNP",
        "outputId": "1ac38f9a-9c26-4e34-8efb-3fb53f52b274"
      },
      "source": [
        "# axis = None 실습 (default)\n",
        "print('\\n[Case-1]axis = None')\n",
        "print('sum : ', sample.sum())\n",
        "print('mean : ', sample.mean())\n",
        "print('std : ', sample.std())\n",
        "print('max : ', sample.max())\n",
        "print('min : ', sample.min())"
      ],
      "execution_count": 50,
      "outputs": [
        {
          "output_type": "stream",
          "text": [
            "\n",
            "[Case-1]axis = None\n",
            "sum :  45\n",
            "mean :  5.0\n",
            "std :  2.581988897471611\n",
            "max :  9\n",
            "min :  1\n"
          ],
          "name": "stdout"
        }
      ]
    },
    {
      "cell_type": "markdown",
      "metadata": {
        "id": "71YS18MZyKa1"
      },
      "source": [
        "#### 데이터의 집계 방향 (axis = 0)\n",
        "axis = 0\n",
        "- 열을 기준으로 동일 인덱스의 요소를 그룹으로 연산함"
      ]
    },
    {
      "cell_type": "code",
      "metadata": {
        "colab": {
          "base_uri": "https://localhost:8080/"
        },
        "id": "SGzjSsq1yIov",
        "outputId": "ef13be4a-3c2d-4546-c632-efb4e8ca0be1"
      },
      "source": [
        "# axis = 0 실습\n",
        "print('\\n[Case-2]axis = 0')\n",
        "print('sum : ', sample.sum(axis = 0))\n",
        "print('mean : ', sample.mean(axis = 0))\n",
        "print('std : ', sample.std(axis = 0))\n",
        "print('max : ', sample.max(axis = 0))\n",
        "print('min : ', sample.min(axis = 0))"
      ],
      "execution_count": 51,
      "outputs": [
        {
          "output_type": "stream",
          "text": [
            "\n",
            "[Case-2]axis = 0\n",
            "sum :  [12 15 18]\n",
            "mean :  [4. 5. 6.]\n",
            "std :  [2.44948974 2.44948974 2.44948974]\n",
            "max :  [7 8 9]\n",
            "min :  [1 2 3]\n"
          ],
          "name": "stdout"
        }
      ]
    },
    {
      "cell_type": "markdown",
      "metadata": {
        "id": "qP_ye1ACyZCl"
      },
      "source": [
        "#### 데이터의 집계 방향 (axis = 1)\n",
        "axis = 1\n",
        "- 행을 기준으로 동일 인덱스의 요소를 그룹으로 연산함"
      ]
    },
    {
      "cell_type": "code",
      "metadata": {
        "colab": {
          "base_uri": "https://localhost:8080/"
        },
        "id": "A_oLS_G0yXUM",
        "outputId": "08ed9696-b803-4499-91be-1977033e275a"
      },
      "source": [
        "# axis = 1 실습 (default)\n",
        "print('\\n[Case-3]axis = 1')\n",
        "print('sum : ', sample.sum(axis = 1))\n",
        "print('mean : ', sample.mean(axis = 1))\n",
        "print('std : ', sample.std(axis = 1))\n",
        "print('max : ', sample.max(axis = 1))\n",
        "print('min : ', sample.min(axis = 1))"
      ],
      "execution_count": 53,
      "outputs": [
        {
          "output_type": "stream",
          "text": [
            "\n",
            "[Case-3]axis = 1\n",
            "sum :  [ 6 15 24]\n",
            "mean :  [2. 5. 8.]\n",
            "std :  [0.81649658 0.81649658 0.81649658]\n",
            "max :  [3 6 9]\n",
            "min :  [1 4 7]\n"
          ],
          "name": "stdout"
        }
      ]
    },
    {
      "cell_type": "markdown",
      "metadata": {
        "id": "JsSFBlSFynUJ"
      },
      "source": [
        "#### 데이터의 집계 방향이 왜 중요할까?"
      ]
    },
    {
      "cell_type": "code",
      "metadata": {
        "id": "Eb_E9fQ6yhsp"
      },
      "source": [
        ""
      ],
      "execution_count": null,
      "outputs": []
    }
  ]
}