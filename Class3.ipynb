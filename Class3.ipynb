{
  "nbformat": 4,
  "nbformat_minor": 0,
  "metadata": {
    "colab": {
      "name": "Class3.ipynb",
      "provenance": [],
      "collapsed_sections": [],
      "authorship_tag": "ABX9TyMBJ44a/HLr1Dh4610lmaKY",
      "include_colab_link": true
    },
    "kernelspec": {
      "name": "python3",
      "display_name": "Python 3"
    },
    "language_info": {
      "name": "python"
    }
  },
  "cells": [
    {
      "cell_type": "markdown",
      "metadata": {
        "id": "view-in-github",
        "colab_type": "text"
      },
      "source": [
        "<a href=\"https://colab.research.google.com/github/plumwiserim/Data-Analysis/blob/main/Class3.ipynb\" target=\"_parent\"><img src=\"https://colab.research.google.com/assets/colab-badge.svg\" alt=\"Open In Colab\"/></a>"
      ]
    },
    {
      "cell_type": "markdown",
      "metadata": {
        "id": "mTxgZz4-UzDT"
      },
      "source": [
        "### 데이터 분석을 위한 파이썬 라이브러리"
      ]
    },
    {
      "cell_type": "markdown",
      "metadata": {
        "id": "RM-ijas5U2R0"
      },
      "source": [
        "#### TIOBE Index\n",
        "#### TIOBE Index for C\n",
        "#### TIOBE Index for Java\n",
        "#### TIOBE Index for Python"
      ]
    },
    {
      "cell_type": "markdown",
      "metadata": {
        "id": "xwCy0QjJVCK9"
      },
      "source": [
        "#### Python\n",
        "\n",
        "- 세계적으로 가장 대중적인 언어 중 하나\n",
        "- 높은 생산성, 확장성\n",
        "  - 다양한 라이브러리 제공\n",
        "- 높은 범용성\n",
        "  - 일반 어플리케이션\n",
        "  - 웹 프로그래밍\n",
        "  - 데이터 분석\n",
        "  - 인공지능\n",
        "  - GUI 개발"
      ]
    },
    {
      "cell_type": "markdown",
      "metadata": {
        "id": "4Ao5trxUVYxF"
      },
      "source": [
        "#### Python 기반 라이브러리 소개\n",
        "- 데이터 분석 및 인공지능 활용을 위한 파이썬 기반 라이브러리\n",
        "  - Pandas : 행과 열을 가지는 2차원 데이터 분석을 위한 라이브러리\n",
        "  - NumPy : 행렬이나 대규모 다차원 데이터 분석을 위한 라이브러리\n",
        "  - Matplotlib, Seaborn : 데이터 분석을 위한 시각화 라이브러리\n",
        "  - SciPy, Statsmodels : 파이썬 기반의 통계 분석을 위한 파이썬 라이브러리\n",
        "  - Scikit-learn : 파이썬 기반의 대표적인 머신러닝 라이브러리"
      ]
    },
    {
      "cell_type": "markdown",
      "metadata": {
        "id": "8vcKoC6PVuDN"
      },
      "source": [
        "#### 과정 소개\n",
        "- 데이터 분석을 위한 Pandas 라이브러리의 이해와 활용\n",
        "- 데이터 분석을 위한 NumPy 라이브러리의 이해와 활용\n",
        "- 데이터 시각화를 위한 Matplotlib 라이브러리의 이해와 활용\n",
        "- 파이썬 기반 데이터 분석 실습 프로젝트"
      ]
    },
    {
      "cell_type": "code",
      "metadata": {
        "id": "byYQxYFj8t9n"
      },
      "source": [
        "import numpy as np"
      ],
      "execution_count": 1,
      "outputs": []
    },
    {
      "cell_type": "code",
      "metadata": {
        "colab": {
          "base_uri": "https://localhost:8080/"
        },
        "id": "ZuI7N6728wKP",
        "outputId": "7173a6af-f9bd-4ae5-e9a8-b1117dd84f49"
      },
      "source": [
        "print(np.__version__)"
      ],
      "execution_count": 2,
      "outputs": [
        {
          "output_type": "stream",
          "text": [
            "1.19.5\n"
          ],
          "name": "stdout"
        }
      ]
    },
    {
      "cell_type": "code",
      "metadata": {
        "colab": {
          "base_uri": "https://localhost:8080/"
        },
        "id": "Kq8mfBNg9FTr",
        "outputId": "c7a8b639-706e-4a42-a6f0-455e2ccb068c"
      },
      "source": [
        "# ndarray 생성\n",
        "data = [10, 20, 30]\n",
        "arr = np.array(data)\n",
        "\n",
        "# 생성한 ndarray 의 속성 출력\n",
        "print('\\nCreate 1D Array')\n",
        "print(arr)\n",
        "print('type = ', type(arr))\n",
        "print(\"shape: {}, size: {}, dtype: {}, dimension: {}\".format(arr.shape, arr.size, arr.dtype, arr.ndim))"
      ],
      "execution_count": 3,
      "outputs": [
        {
          "output_type": "stream",
          "text": [
            "\n",
            "Create 1D Array\n",
            "[10 20 30]\n",
            "type =  <class 'numpy.ndarray'>\n",
            "shape: (3,), size: 3, dtype: int64, dimension: 1\n"
          ],
          "name": "stdout"
        }
      ]
    },
    {
      "cell_type": "code",
      "metadata": {
        "id": "fCDduwCO-W61"
      },
      "source": [
        ""
      ],
      "execution_count": null,
      "outputs": []
    }
  ]
}