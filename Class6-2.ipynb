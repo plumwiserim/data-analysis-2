{
  "nbformat": 4,
  "nbformat_minor": 0,
  "metadata": {
    "colab": {
      "name": "Class6-2",
      "provenance": [],
      "collapsed_sections": [],
      "include_colab_link": true
    },
    "kernelspec": {
      "name": "python3",
      "display_name": "Python 3"
    },
    "language_info": {
      "name": "python"
    }
  },
  "cells": [
    {
      "cell_type": "markdown",
      "metadata": {
        "id": "view-in-github",
        "colab_type": "text"
      },
      "source": [
        "<a href=\"https://colab.research.google.com/github/plumwiserim/Data-Analysis/blob/main/Class6-2.ipynb\" target=\"_parent\"><img src=\"https://colab.research.google.com/assets/colab-badge.svg\" alt=\"Open In Colab\"/></a>"
      ]
    },
    {
      "cell_type": "markdown",
      "metadata": {
        "id": "zFJfDyEHFmtL"
      },
      "source": [
        "# 필요한 라이브러리 로딩"
      ]
    },
    {
      "cell_type": "code",
      "metadata": {
        "id": "jdE9Jw9MLXcJ"
      },
      "source": [
        "# 필요한 라이브러리 로딩\n",
        "# numpy, pandas, matplotlib\n",
        "import numpy as np\n",
        "import pandas as pd\n",
        "import matplotlib.pyplot as plt"
      ],
      "execution_count": null,
      "outputs": []
    },
    {
      "cell_type": "markdown",
      "metadata": {
        "id": "0E5C7BqhE7pQ"
      },
      "source": [
        "##  Google Colab 에서 시각화할때 한글 지원 테스트 코드"
      ]
    },
    {
      "cell_type": "code",
      "metadata": {
        "id": "56inCepJA715",
        "colab": {
          "base_uri": "https://localhost:8080/",
          "height": 499
        },
        "outputId": "6a9d85a6-9bfc-4344-e919-651c6b018252"
      },
      "source": [
        "plt.text(0.3, 0.3, '테스트', size=20)"
      ],
      "execution_count": null,
      "outputs": [
        {
          "output_type": "execute_result",
          "data": {
            "text/plain": [
              "Text(0.3, 0.3, '테스트')"
            ]
          },
          "metadata": {
            "tags": []
          },
          "execution_count": 2
        },
        {
          "output_type": "stream",
          "text": [
            "/usr/local/lib/python3.7/dist-packages/matplotlib/backends/backend_agg.py:214: RuntimeWarning: Glyph 53580 missing from current font.\n",
            "  font.set_text(s, 0.0, flags=flags)\n",
            "/usr/local/lib/python3.7/dist-packages/matplotlib/backends/backend_agg.py:214: RuntimeWarning: Glyph 49828 missing from current font.\n",
            "  font.set_text(s, 0.0, flags=flags)\n",
            "/usr/local/lib/python3.7/dist-packages/matplotlib/backends/backend_agg.py:214: RuntimeWarning: Glyph 53944 missing from current font.\n",
            "  font.set_text(s, 0.0, flags=flags)\n",
            "/usr/local/lib/python3.7/dist-packages/matplotlib/backends/backend_agg.py:183: RuntimeWarning: Glyph 53580 missing from current font.\n",
            "  font.set_text(s, 0, flags=flags)\n",
            "/usr/local/lib/python3.7/dist-packages/matplotlib/backends/backend_agg.py:183: RuntimeWarning: Glyph 49828 missing from current font.\n",
            "  font.set_text(s, 0, flags=flags)\n",
            "/usr/local/lib/python3.7/dist-packages/matplotlib/backends/backend_agg.py:183: RuntimeWarning: Glyph 53944 missing from current font.\n",
            "  font.set_text(s, 0, flags=flags)\n"
          ],
          "name": "stderr"
        },
        {
          "output_type": "display_data",
          "data": {
            "image/png": "[encoded data removed]",
            "text/plain": [
              "<Figure size 432x288 with 1 Axes>"
            ]
          },
          "metadata": {
            "tags": [],
            "needs_background": "light"
          }
        }
      ]
    },
    {
      "cell_type": "markdown",
      "metadata": {
        "id": "tiJzfKfl_mrO"
      },
      "source": [
        "* Google Collab 에서 maplotlib 이 한글 지원하도록 설정하기\n",
        "1.   아래 코드 수행하여 Nanum 폰트 설치 및 폰트 설정 \n",
        "2.   런타임 > 런타임 다시 시작 누르고 1번 코드 다시 실행\n"
      ]
    },
    {
      "cell_type": "code",
      "metadata": {
        "id": "NQhdE0J6BPVa",
        "colab": {
          "base_uri": "https://localhost:8080/"
        },
        "outputId": "d276d776-fad3-41fb-f84d-8d4c4a1d1f0d"
      },
      "source": [
        "!apt -qq -y install fonts-nanum > /dev/null\n",
        " \n",
        "import matplotlib.pyplot as plt\n",
        "import matplotlib.font_manager as fm\n",
        " \n",
        "fontpath = '/usr/share/fonts/truetype/nanum/NanumBarunGothic.ttf'\n",
        "font = fm.FontProperties(fname=fontpath, size=10)\n",
        "fm._rebuild()\n",
        " \n",
        "# 그래프에 retina display 적용\n",
        "%config InlineBackend.figure_format = 'retina'\n",
        " \n",
        "# Colab 의 한글 폰트 설정\n",
        "plt.rc('font', family='NanumBarunGothic') \n",
        "\n",
        "# 마이너스 폰트 깨지지 않도록 설정\n",
        "plt.rc(\"axes\", unicode_minus=False)"
      ],
      "execution_count": null,
      "outputs": [
        {
          "output_type": "stream",
          "text": [
            "\n",
            "WARNING: apt does not have a stable CLI interface. Use with caution in scripts.\n",
            "\n"
          ],
          "name": "stdout"
        }
      ]
    },
    {
      "cell_type": "code",
      "metadata": {
        "id": "QfsqASuyFB9l",
        "collapsed": true,
        "colab": {
          "base_uri": "https://localhost:8080/",
          "height": 287
        },
        "outputId": "9f49aff2-ea2b-4fa5-b9aa-d051d7aeabdc"
      },
      "source": [
        "plt.text(0.3, 0.3, '테스트', size=20)"
      ],
      "execution_count": null,
      "outputs": [
        {
          "output_type": "execute_result",
          "data": {
            "text/plain": [
              "Text(0.3, 0.3, '테스트')"
            ]
          },
          "metadata": {
            "tags": []
          },
          "execution_count": 4
        },
        {
          "output_type": "display_data",
          "data": {
            "image/png": "[encoded data removed]",
            "text/plain": [
              "<Figure size 432x288 with 1 Axes>"
            ]
          },
          "metadata": {
            "tags": [],
            "image/png": {
              "width": 378,
              "height": 253
            },
            "needs_background": "light"
          }
        }
      ]
    },
    {
      "cell_type": "markdown",
      "metadata": {
        "id": "lN2H8ltCLX2P"
      },
      "source": [
        "# 데이터 로딩\n",
        "- 공공자전거 이용정보(시간대별)_21.01 --> bike_2101_utf8_0618\n",
        "- 공공자전거 대여소 정보(21.01.31 기준) --> bike_station_2101"
      ]
    },
    {
      "cell_type": "code",
      "metadata": {
        "id": "QW9dlu1BPteB"
      },
      "source": [
        "filepath = ''\n",
        "url='https://codepresso-online-platform-public.s3.ap-northeast-2.amazonaws.com/learning-resourse/python-data-analysis/bike_2101_utf8_0618.csv'"
      ],
      "execution_count": null,
      "outputs": []
    },
    {
      "cell_type": "code",
      "metadata": {
        "id": "KbtgNoPbPxLk",
        "colab": {
          "base_uri": "https://localhost:8080/",
          "height": 306
        },
        "outputId": "137cade4-83b7-426d-a5da-cd6029e86117"
      },
      "source": [
        "# 데이터 로드 및 출력\n",
        "bike_data = pd.read_csv(url)\n",
        "bike_data.head()"
      ],
      "execution_count": null,
      "outputs": [
        {
          "output_type": "execute_result",
          "data": {
            "text/html": [
              "<div>\n",
              "<style scoped>\n",
              "    .dataframe tbody tr th:only-of-type {\n",
              "        vertical-align: middle;\n",
              "    }\n",
              "\n",
              "    .dataframe tbody tr th {\n",
              "        vertical-align: top;\n",
              "    }\n",
              "\n",
              "    .dataframe thead th {\n",
              "        text-align: right;\n",
              "    }\n",
              "</style>\n",
              "<table border=\"1\" class=\"dataframe\">\n",
              "  <thead>\n",
              "    <tr style=\"text-align: right;\">\n",
              "      <th></th>\n",
              "      <th>대여일자</th>\n",
              "      <th>대여시간</th>\n",
              "      <th>대여소번호</th>\n",
              "      <th>대여소명</th>\n",
              "      <th>대여구분코드</th>\n",
              "      <th>성별</th>\n",
              "      <th>연령대코드</th>\n",
              "      <th>이용건수</th>\n",
              "      <th>운동량</th>\n",
              "      <th>탄소량</th>\n",
              "      <th>이동거리</th>\n",
              "      <th>사용시간</th>\n",
              "    </tr>\n",
              "  </thead>\n",
              "  <tbody>\n",
              "    <tr>\n",
              "      <th>0</th>\n",
              "      <td>2021-01-01</td>\n",
              "      <td>0</td>\n",
              "      <td>1347</td>\n",
              "      <td>1347. 길음래미안아파트817동 상가 앞</td>\n",
              "      <td>정기권</td>\n",
              "      <td>NaN</td>\n",
              "      <td>~10대</td>\n",
              "      <td>2</td>\n",
              "      <td>28.90</td>\n",
              "      <td>0.23</td>\n",
              "      <td>992.78</td>\n",
              "      <td>13</td>\n",
              "    </tr>\n",
              "    <tr>\n",
              "      <th>1</th>\n",
              "      <td>2021-01-01</td>\n",
              "      <td>0</td>\n",
              "      <td>1349</td>\n",
              "      <td>1349. 월계2교 버스정류장 앞</td>\n",
              "      <td>정기권</td>\n",
              "      <td>NaN</td>\n",
              "      <td>~10대</td>\n",
              "      <td>1</td>\n",
              "      <td>34.38</td>\n",
              "      <td>0.26</td>\n",
              "      <td>1127.50</td>\n",
              "      <td>10</td>\n",
              "    </tr>\n",
              "    <tr>\n",
              "      <th>2</th>\n",
              "      <td>2021-01-01</td>\n",
              "      <td>0</td>\n",
              "      <td>1168</td>\n",
              "      <td>1168. 마곡엠밸리10단지 앞</td>\n",
              "      <td>정기권</td>\n",
              "      <td>NaN</td>\n",
              "      <td>~10대</td>\n",
              "      <td>1</td>\n",
              "      <td>0.00</td>\n",
              "      <td>0.00</td>\n",
              "      <td>0.00</td>\n",
              "      <td>7</td>\n",
              "    </tr>\n",
              "    <tr>\n",
              "      <th>3</th>\n",
              "      <td>2021-01-01</td>\n",
              "      <td>0</td>\n",
              "      <td>2619</td>\n",
              "      <td>2619. 석촌고분역 4번출구</td>\n",
              "      <td>정기권</td>\n",
              "      <td>NaN</td>\n",
              "      <td>~10대</td>\n",
              "      <td>1</td>\n",
              "      <td>38.75</td>\n",
              "      <td>0.38</td>\n",
              "      <td>1658.34</td>\n",
              "      <td>14</td>\n",
              "    </tr>\n",
              "    <tr>\n",
              "      <th>4</th>\n",
              "      <td>2021-01-01</td>\n",
              "      <td>0</td>\n",
              "      <td>536</td>\n",
              "      <td>536. 행당역 2번출구 앞</td>\n",
              "      <td>정기권</td>\n",
              "      <td>NaN</td>\n",
              "      <td>~10대</td>\n",
              "      <td>1</td>\n",
              "      <td>12.96</td>\n",
              "      <td>0.17</td>\n",
              "      <td>743.88</td>\n",
              "      <td>5</td>\n",
              "    </tr>\n",
              "  </tbody>\n",
              "</table>\n",
              "</div>"
            ],
            "text/plain": [
              "         대여일자  대여시간  대여소번호                     대여소명  ...    운동량   탄소량     이동거리  사용시간\n",
              "0  2021-01-01     0   1347  1347. 길음래미안아파트817동 상가 앞  ...  28.90  0.23   992.78    13\n",
              "1  2021-01-01     0   1349       1349. 월계2교 버스정류장 앞  ...  34.38  0.26  1127.50    10\n",
              "2  2021-01-01     0   1168        1168. 마곡엠밸리10단지 앞  ...   0.00  0.00     0.00     7\n",
              "3  2021-01-01     0   2619         2619. 석촌고분역 4번출구  ...  38.75  0.38  1658.34    14\n",
              "4  2021-01-01     0    536          536. 행당역 2번출구 앞  ...  12.96  0.17   743.88     5\n",
              "\n",
              "[5 rows x 12 columns]"
            ]
          },
          "metadata": {
            "tags": []
          },
          "execution_count": 6
        }
      ]
    },
    {
      "cell_type": "code",
      "metadata": {
        "id": "BQL018io3kvT"
      },
      "source": [
        ""
      ],
      "execution_count": null,
      "outputs": []
    },
    {
      "cell_type": "markdown",
      "metadata": {
        "id": "f09_1Ll4oQE0"
      },
      "source": [
        "# 데이터 둘러보기\n",
        "- bike_data 데이터 탐색"
      ]
    },
    {
      "cell_type": "code",
      "metadata": {
        "id": "fZeTaCYFoVhT",
        "colab": {
          "base_uri": "https://localhost:8080/"
        },
        "outputId": "421750d1-f340-4798-fd16-f0089195db6a"
      },
      "source": [
        "# bike_data 의 컬럼명 확인\n",
        "bike_data.info()"
      ],
      "execution_count": null,
      "outputs": [
        {
          "output_type": "stream",
          "text": [
            "<class 'pandas.core.frame.DataFrame'>\n",
            "RangeIndex: 718857 entries, 0 to 718856\n",
            "Data columns (total 12 columns):\n",
            " #   Column  Non-Null Count   Dtype  \n",
            "---  ------  --------------   -----  \n",
            " 0   대여일자    718857 non-null  object \n",
            " 1   대여시간    718857 non-null  int64  \n",
            " 2   대여소번호   718857 non-null  int64  \n",
            " 3   대여소명    718857 non-null  object \n",
            " 4   대여구분코드  718857 non-null  object \n",
            " 5   성별      401235 non-null  object \n",
            " 6   연령대코드   718857 non-null  object \n",
            " 7   이용건수    718857 non-null  int64  \n",
            " 8   운동량     718857 non-null  object \n",
            " 9   탄소량     718857 non-null  object \n",
            " 10  이동거리    718857 non-null  float64\n",
            " 11  사용시간    718857 non-null  int64  \n",
            "dtypes: float64(1), int64(4), object(7)\n",
            "memory usage: 65.8+ MB\n"
          ],
          "name": "stdout"
        }
      ]
    },
    {
      "cell_type": "code",
      "metadata": {
        "id": "Igyo60HHoaYy",
        "colab": {
          "base_uri": "https://localhost:8080/",
          "height": 306
        },
        "outputId": "da976d39-72a0-4941-a6d1-e036d118a33a"
      },
      "source": [
        "# 첫 행 읽기\n",
        "bike_data.head()"
      ],
      "execution_count": null,
      "outputs": [
        {
          "output_type": "execute_result",
          "data": {
            "text/html": [
              "<div>\n",
              "<style scoped>\n",
              "    .dataframe tbody tr th:only-of-type {\n",
              "        vertical-align: middle;\n",
              "    }\n",
              "\n",
              "    .dataframe tbody tr th {\n",
              "        vertical-align: top;\n",
              "    }\n",
              "\n",
              "    .dataframe thead th {\n",
              "        text-align: right;\n",
              "    }\n",
              "</style>\n",
              "<table border=\"1\" class=\"dataframe\">\n",
              "  <thead>\n",
              "    <tr style=\"text-align: right;\">\n",
              "      <th></th>\n",
              "      <th>대여일자</th>\n",
              "      <th>대여시간</th>\n",
              "      <th>대여소번호</th>\n",
              "      <th>대여소명</th>\n",
              "      <th>대여구분코드</th>\n",
              "      <th>성별</th>\n",
              "      <th>연령대코드</th>\n",
              "      <th>이용건수</th>\n",
              "      <th>운동량</th>\n",
              "      <th>탄소량</th>\n",
              "      <th>이동거리</th>\n",
              "      <th>사용시간</th>\n",
              "    </tr>\n",
              "  </thead>\n",
              "  <tbody>\n",
              "    <tr>\n",
              "      <th>0</th>\n",
              "      <td>2021-01-01</td>\n",
              "      <td>0</td>\n",
              "      <td>1347</td>\n",
              "      <td>1347. 길음래미안아파트817동 상가 앞</td>\n",
              "      <td>정기권</td>\n",
              "      <td>NaN</td>\n",
              "      <td>~10대</td>\n",
              "      <td>2</td>\n",
              "      <td>28.90</td>\n",
              "      <td>0.23</td>\n",
              "      <td>992.78</td>\n",
              "      <td>13</td>\n",
              "    </tr>\n",
              "    <tr>\n",
              "      <th>1</th>\n",
              "      <td>2021-01-01</td>\n",
              "      <td>0</td>\n",
              "      <td>1349</td>\n",
              "      <td>1349. 월계2교 버스정류장 앞</td>\n",
              "      <td>정기권</td>\n",
              "      <td>NaN</td>\n",
              "      <td>~10대</td>\n",
              "      <td>1</td>\n",
              "      <td>34.38</td>\n",
              "      <td>0.26</td>\n",
              "      <td>1127.50</td>\n",
              "      <td>10</td>\n",
              "    </tr>\n",
              "    <tr>\n",
              "      <th>2</th>\n",
              "      <td>2021-01-01</td>\n",
              "      <td>0</td>\n",
              "      <td>1168</td>\n",
              "      <td>1168. 마곡엠밸리10단지 앞</td>\n",
              "      <td>정기권</td>\n",
              "      <td>NaN</td>\n",
              "      <td>~10대</td>\n",
              "      <td>1</td>\n",
              "      <td>0.00</td>\n",
              "      <td>0.00</td>\n",
              "      <td>0.00</td>\n",
              "      <td>7</td>\n",
              "    </tr>\n",
              "    <tr>\n",
              "      <th>3</th>\n",
              "      <td>2021-01-01</td>\n",
              "      <td>0</td>\n",
              "      <td>2619</td>\n",
              "      <td>2619. 석촌고분역 4번출구</td>\n",
              "      <td>정기권</td>\n",
              "      <td>NaN</td>\n",
              "      <td>~10대</td>\n",
              "      <td>1</td>\n",
              "      <td>38.75</td>\n",
              "      <td>0.38</td>\n",
              "      <td>1658.34</td>\n",
              "      <td>14</td>\n",
              "    </tr>\n",
              "    <tr>\n",
              "      <th>4</th>\n",
              "      <td>2021-01-01</td>\n",
              "      <td>0</td>\n",
              "      <td>536</td>\n",
              "      <td>536. 행당역 2번출구 앞</td>\n",
              "      <td>정기권</td>\n",
              "      <td>NaN</td>\n",
              "      <td>~10대</td>\n",
              "      <td>1</td>\n",
              "      <td>12.96</td>\n",
              "      <td>0.17</td>\n",
              "      <td>743.88</td>\n",
              "      <td>5</td>\n",
              "    </tr>\n",
              "  </tbody>\n",
              "</table>\n",
              "</div>"
            ],
            "text/plain": [
              "         대여일자  대여시간  대여소번호                     대여소명  ...    운동량   탄소량     이동거리  사용시간\n",
              "0  2021-01-01     0   1347  1347. 길음래미안아파트817동 상가 앞  ...  28.90  0.23   992.78    13\n",
              "1  2021-01-01     0   1349       1349. 월계2교 버스정류장 앞  ...  34.38  0.26  1127.50    10\n",
              "2  2021-01-01     0   1168        1168. 마곡엠밸리10단지 앞  ...   0.00  0.00     0.00     7\n",
              "3  2021-01-01     0   2619         2619. 석촌고분역 4번출구  ...  38.75  0.38  1658.34    14\n",
              "4  2021-01-01     0    536          536. 행당역 2번출구 앞  ...  12.96  0.17   743.88     5\n",
              "\n",
              "[5 rows x 12 columns]"
            ]
          },
          "metadata": {
            "tags": []
          },
          "execution_count": 8
        }
      ]
    },
    {
      "cell_type": "code",
      "metadata": {
        "id": "5ly6GCmhoeAH",
        "colab": {
          "base_uri": "https://localhost:8080/",
          "height": 306
        },
        "outputId": "d97a71cb-6a4f-48e4-9b78-8800253384cf"
      },
      "source": [
        "# 마지막 행 읽기\n",
        "bike_data.tail()"
      ],
      "execution_count": null,
      "outputs": [
        {
          "output_type": "execute_result",
          "data": {
            "text/html": [
              "<div>\n",
              "<style scoped>\n",
              "    .dataframe tbody tr th:only-of-type {\n",
              "        vertical-align: middle;\n",
              "    }\n",
              "\n",
              "    .dataframe tbody tr th {\n",
              "        vertical-align: top;\n",
              "    }\n",
              "\n",
              "    .dataframe thead th {\n",
              "        text-align: right;\n",
              "    }\n",
              "</style>\n",
              "<table border=\"1\" class=\"dataframe\">\n",
              "  <thead>\n",
              "    <tr style=\"text-align: right;\">\n",
              "      <th></th>\n",
              "      <th>대여일자</th>\n",
              "      <th>대여시간</th>\n",
              "      <th>대여소번호</th>\n",
              "      <th>대여소명</th>\n",
              "      <th>대여구분코드</th>\n",
              "      <th>성별</th>\n",
              "      <th>연령대코드</th>\n",
              "      <th>이용건수</th>\n",
              "      <th>운동량</th>\n",
              "      <th>탄소량</th>\n",
              "      <th>이동거리</th>\n",
              "      <th>사용시간</th>\n",
              "    </tr>\n",
              "  </thead>\n",
              "  <tbody>\n",
              "    <tr>\n",
              "      <th>718852</th>\n",
              "      <td>2021-01-31</td>\n",
              "      <td>23</td>\n",
              "      <td>207</td>\n",
              "      <td>207. 여의나루역 1번출구 앞</td>\n",
              "      <td>단체권</td>\n",
              "      <td>NaN</td>\n",
              "      <td>~10대</td>\n",
              "      <td>5</td>\n",
              "      <td>916.66</td>\n",
              "      <td>8.66</td>\n",
              "      <td>37335.95</td>\n",
              "      <td>219</td>\n",
              "    </tr>\n",
              "    <tr>\n",
              "      <th>718853</th>\n",
              "      <td>2021-01-31</td>\n",
              "      <td>23</td>\n",
              "      <td>3549</td>\n",
              "      <td>3549.건영아파트 앞</td>\n",
              "      <td>단체권</td>\n",
              "      <td>NaN</td>\n",
              "      <td>20대</td>\n",
              "      <td>2</td>\n",
              "      <td>492.87</td>\n",
              "      <td>4.51</td>\n",
              "      <td>19447.10</td>\n",
              "      <td>133</td>\n",
              "    </tr>\n",
              "    <tr>\n",
              "      <th>718854</th>\n",
              "      <td>2021-01-31</td>\n",
              "      <td>23</td>\n",
              "      <td>248</td>\n",
              "      <td>248. 초원아파트 앞</td>\n",
              "      <td>단체권</td>\n",
              "      <td>NaN</td>\n",
              "      <td>20대</td>\n",
              "      <td>2</td>\n",
              "      <td>348.43</td>\n",
              "      <td>2.91</td>\n",
              "      <td>12569.64</td>\n",
              "      <td>90</td>\n",
              "    </tr>\n",
              "    <tr>\n",
              "      <th>718855</th>\n",
              "      <td>2021-01-31</td>\n",
              "      <td>23</td>\n",
              "      <td>131</td>\n",
              "      <td>131. 증산2교</td>\n",
              "      <td>단체권</td>\n",
              "      <td>NaN</td>\n",
              "      <td>20대</td>\n",
              "      <td>2</td>\n",
              "      <td>98.10</td>\n",
              "      <td>0.77</td>\n",
              "      <td>3302.87</td>\n",
              "      <td>20</td>\n",
              "    </tr>\n",
              "    <tr>\n",
              "      <th>718856</th>\n",
              "      <td>2021-01-31</td>\n",
              "      <td>23</td>\n",
              "      <td>247</td>\n",
              "      <td>247. 당산역 10번출구 앞</td>\n",
              "      <td>단체권</td>\n",
              "      <td>M</td>\n",
              "      <td>40대</td>\n",
              "      <td>1</td>\n",
              "      <td>223.71</td>\n",
              "      <td>2.02</td>\n",
              "      <td>8691.10</td>\n",
              "      <td>52</td>\n",
              "    </tr>\n",
              "  </tbody>\n",
              "</table>\n",
              "</div>"
            ],
            "text/plain": [
              "              대여일자  대여시간  대여소번호  ...   탄소량      이동거리 사용시간\n",
              "718852  2021-01-31    23    207  ...  8.66  37335.95  219\n",
              "718853  2021-01-31    23   3549  ...  4.51  19447.10  133\n",
              "718854  2021-01-31    23    248  ...  2.91  12569.64   90\n",
              "718855  2021-01-31    23    131  ...  0.77   3302.87   20\n",
              "718856  2021-01-31    23    247  ...  2.02   8691.10   52\n",
              "\n",
              "[5 rows x 12 columns]"
            ]
          },
          "metadata": {
            "tags": []
          },
          "execution_count": 9
        }
      ]
    },
    {
      "cell_type": "code",
      "metadata": {
        "id": "-nZF9S1HNfbv",
        "colab": {
          "base_uri": "https://localhost:8080/"
        },
        "outputId": "c92ee5bb-5bbb-4af9-9f30-ae018975fef6"
      },
      "source": [
        "# 행과 열 데이터의 shape 은?\n",
        "bike_data.shape"
      ],
      "execution_count": null,
      "outputs": [
        {
          "output_type": "execute_result",
          "data": {
            "text/plain": [
              "(718857, 12)"
            ]
          },
          "metadata": {
            "tags": []
          },
          "execution_count": 13
        }
      ]
    },
    {
      "cell_type": "code",
      "metadata": {
        "id": "LQeoUNa4I3as"
      },
      "source": [
        "# 전체 데이터셋 정보 파악\n"
      ],
      "execution_count": null,
      "outputs": []
    },
    {
      "cell_type": "code",
      "metadata": {
        "id": "w2aKlzy8n7GB",
        "colab": {
          "base_uri": "https://localhost:8080/",
          "height": 297
        },
        "outputId": "336c7977-ef08-4cb0-bb68-001b449e72ba"
      },
      "source": [
        "# bike_data 의 기술 통계 요약 확인\n",
        "bike_data.describe()"
      ],
      "execution_count": null,
      "outputs": [
        {
          "output_type": "execute_result",
          "data": {
            "text/html": [
              "<div>\n",
              "<style scoped>\n",
              "    .dataframe tbody tr th:only-of-type {\n",
              "        vertical-align: middle;\n",
              "    }\n",
              "\n",
              "    .dataframe tbody tr th {\n",
              "        vertical-align: top;\n",
              "    }\n",
              "\n",
              "    .dataframe thead th {\n",
              "        text-align: right;\n",
              "    }\n",
              "</style>\n",
              "<table border=\"1\" class=\"dataframe\">\n",
              "  <thead>\n",
              "    <tr style=\"text-align: right;\">\n",
              "      <th></th>\n",
              "      <th>대여시간</th>\n",
              "      <th>대여소번호</th>\n",
              "      <th>이용건수</th>\n",
              "      <th>이동거리</th>\n",
              "      <th>사용시간</th>\n",
              "    </tr>\n",
              "  </thead>\n",
              "  <tbody>\n",
              "    <tr>\n",
              "      <th>count</th>\n",
              "      <td>718857.000000</td>\n",
              "      <td>718857.000000</td>\n",
              "      <td>718857.000000</td>\n",
              "      <td>718857.000000</td>\n",
              "      <td>718857.000000</td>\n",
              "    </tr>\n",
              "    <tr>\n",
              "      <th>mean</th>\n",
              "      <td>14.197045</td>\n",
              "      <td>1447.329716</td>\n",
              "      <td>1.088958</td>\n",
              "      <td>3033.891521</td>\n",
              "      <td>28.062467</td>\n",
              "    </tr>\n",
              "    <tr>\n",
              "      <th>std</th>\n",
              "      <td>5.245045</td>\n",
              "      <td>1015.266910</td>\n",
              "      <td>0.339713</td>\n",
              "      <td>4280.828411</td>\n",
              "      <td>33.246788</td>\n",
              "    </tr>\n",
              "    <tr>\n",
              "      <th>min</th>\n",
              "      <td>0.000000</td>\n",
              "      <td>3.000000</td>\n",
              "      <td>1.000000</td>\n",
              "      <td>0.000000</td>\n",
              "      <td>0.000000</td>\n",
              "    </tr>\n",
              "    <tr>\n",
              "      <th>25%</th>\n",
              "      <td>11.000000</td>\n",
              "      <td>600.000000</td>\n",
              "      <td>1.000000</td>\n",
              "      <td>789.020000</td>\n",
              "      <td>8.000000</td>\n",
              "    </tr>\n",
              "    <tr>\n",
              "      <th>50%</th>\n",
              "      <td>15.000000</td>\n",
              "      <td>1230.000000</td>\n",
              "      <td>1.000000</td>\n",
              "      <td>1680.000000</td>\n",
              "      <td>16.000000</td>\n",
              "    </tr>\n",
              "    <tr>\n",
              "      <th>75%</th>\n",
              "      <td>18.000000</td>\n",
              "      <td>2113.000000</td>\n",
              "      <td>1.000000</td>\n",
              "      <td>3569.610000</td>\n",
              "      <td>37.000000</td>\n",
              "    </tr>\n",
              "    <tr>\n",
              "      <th>max</th>\n",
              "      <td>23.000000</td>\n",
              "      <td>9999.000000</td>\n",
              "      <td>14.000000</td>\n",
              "      <td>248420.000000</td>\n",
              "      <td>1753.000000</td>\n",
              "    </tr>\n",
              "  </tbody>\n",
              "</table>\n",
              "</div>"
            ],
            "text/plain": [
              "                대여시간          대여소번호  ...           이동거리           사용시간\n",
              "count  718857.000000  718857.000000  ...  718857.000000  718857.000000\n",
              "mean       14.197045    1447.329716  ...    3033.891521      28.062467\n",
              "std         5.245045    1015.266910  ...    4280.828411      33.246788\n",
              "min         0.000000       3.000000  ...       0.000000       0.000000\n",
              "25%        11.000000     600.000000  ...     789.020000       8.000000\n",
              "50%        15.000000    1230.000000  ...    1680.000000      16.000000\n",
              "75%        18.000000    2113.000000  ...    3569.610000      37.000000\n",
              "max        23.000000    9999.000000  ...  248420.000000    1753.000000\n",
              "\n",
              "[8 rows x 5 columns]"
            ]
          },
          "metadata": {
            "tags": []
          },
          "execution_count": 14
        }
      ]
    },
    {
      "cell_type": "markdown",
      "metadata": {
        "id": "V3sh8kwpoznt"
      },
      "source": [
        "# 데이터 전처리"
      ]
    },
    {
      "cell_type": "markdown",
      "metadata": {
        "id": "mSnofsXqyW2v"
      },
      "source": [
        "## 데이터의 탐색적 분석(EDA) : 컬럼별 데이터 분석"
      ]
    },
    {
      "cell_type": "code",
      "metadata": {
        "id": "oqAc7TIxqNP1",
        "colab": {
          "base_uri": "https://localhost:8080/"
        },
        "outputId": "ada52711-d327-41c0-a417-5a48fd29183b"
      },
      "source": [
        "bike_data.info()"
      ],
      "execution_count": null,
      "outputs": [
        {
          "output_type": "stream",
          "text": [
            "<class 'pandas.core.frame.DataFrame'>\n",
            "RangeIndex: 718857 entries, 0 to 718856\n",
            "Data columns (total 12 columns):\n",
            " #   Column  Non-Null Count   Dtype  \n",
            "---  ------  --------------   -----  \n",
            " 0   대여일자    718857 non-null  object \n",
            " 1   대여시간    718857 non-null  int64  \n",
            " 2   대여소번호   718857 non-null  int64  \n",
            " 3   대여소명    718857 non-null  object \n",
            " 4   대여구분코드  718857 non-null  object \n",
            " 5   성별      401235 non-null  object \n",
            " 6   연령대코드   718857 non-null  object \n",
            " 7   이용건수    718857 non-null  int64  \n",
            " 8   운동량     718857 non-null  object \n",
            " 9   탄소량     718857 non-null  object \n",
            " 10  이동거리    718857 non-null  float64\n",
            " 11  사용시간    718857 non-null  int64  \n",
            "dtypes: float64(1), int64(4), object(7)\n",
            "memory usage: 65.8+ MB\n"
          ],
          "name": "stdout"
        }
      ]
    },
    {
      "cell_type": "code",
      "metadata": {
        "id": "iyJRF2PYqSfe",
        "colab": {
          "base_uri": "https://localhost:8080/",
          "height": 306
        },
        "outputId": "6ecd9c3e-a628-4abb-d80c-d524182a0d18"
      },
      "source": [
        "bike_data.head()"
      ],
      "execution_count": null,
      "outputs": [
        {
          "output_type": "execute_result",
          "data": {
            "text/html": [
              "<div>\n",
              "<style scoped>\n",
              "    .dataframe tbody tr th:only-of-type {\n",
              "        vertical-align: middle;\n",
              "    }\n",
              "\n",
              "    .dataframe tbody tr th {\n",
              "        vertical-align: top;\n",
              "    }\n",
              "\n",
              "    .dataframe thead th {\n",
              "        text-align: right;\n",
              "    }\n",
              "</style>\n",
              "<table border=\"1\" class=\"dataframe\">\n",
              "  <thead>\n",
              "    <tr style=\"text-align: right;\">\n",
              "      <th></th>\n",
              "      <th>대여일자</th>\n",
              "      <th>대여시간</th>\n",
              "      <th>대여소번호</th>\n",
              "      <th>대여소명</th>\n",
              "      <th>대여구분코드</th>\n",
              "      <th>성별</th>\n",
              "      <th>연령대코드</th>\n",
              "      <th>이용건수</th>\n",
              "      <th>운동량</th>\n",
              "      <th>탄소량</th>\n",
              "      <th>이동거리</th>\n",
              "      <th>사용시간</th>\n",
              "    </tr>\n",
              "  </thead>\n",
              "  <tbody>\n",
              "    <tr>\n",
              "      <th>0</th>\n",
              "      <td>2021-01-01</td>\n",
              "      <td>0</td>\n",
              "      <td>1347</td>\n",
              "      <td>1347. 길음래미안아파트817동 상가 앞</td>\n",
              "      <td>정기권</td>\n",
              "      <td>NaN</td>\n",
              "      <td>~10대</td>\n",
              "      <td>2</td>\n",
              "      <td>28.90</td>\n",
              "      <td>0.23</td>\n",
              "      <td>992.78</td>\n",
              "      <td>13</td>\n",
              "    </tr>\n",
              "    <tr>\n",
              "      <th>1</th>\n",
              "      <td>2021-01-01</td>\n",
              "      <td>0</td>\n",
              "      <td>1349</td>\n",
              "      <td>1349. 월계2교 버스정류장 앞</td>\n",
              "      <td>정기권</td>\n",
              "      <td>NaN</td>\n",
              "      <td>~10대</td>\n",
              "      <td>1</td>\n",
              "      <td>34.38</td>\n",
              "      <td>0.26</td>\n",
              "      <td>1127.50</td>\n",
              "      <td>10</td>\n",
              "    </tr>\n",
              "    <tr>\n",
              "      <th>2</th>\n",
              "      <td>2021-01-01</td>\n",
              "      <td>0</td>\n",
              "      <td>1168</td>\n",
              "      <td>1168. 마곡엠밸리10단지 앞</td>\n",
              "      <td>정기권</td>\n",
              "      <td>NaN</td>\n",
              "      <td>~10대</td>\n",
              "      <td>1</td>\n",
              "      <td>0.00</td>\n",
              "      <td>0.00</td>\n",
              "      <td>0.00</td>\n",
              "      <td>7</td>\n",
              "    </tr>\n",
              "    <tr>\n",
              "      <th>3</th>\n",
              "      <td>2021-01-01</td>\n",
              "      <td>0</td>\n",
              "      <td>2619</td>\n",
              "      <td>2619. 석촌고분역 4번출구</td>\n",
              "      <td>정기권</td>\n",
              "      <td>NaN</td>\n",
              "      <td>~10대</td>\n",
              "      <td>1</td>\n",
              "      <td>38.75</td>\n",
              "      <td>0.38</td>\n",
              "      <td>1658.34</td>\n",
              "      <td>14</td>\n",
              "    </tr>\n",
              "    <tr>\n",
              "      <th>4</th>\n",
              "      <td>2021-01-01</td>\n",
              "      <td>0</td>\n",
              "      <td>536</td>\n",
              "      <td>536. 행당역 2번출구 앞</td>\n",
              "      <td>정기권</td>\n",
              "      <td>NaN</td>\n",
              "      <td>~10대</td>\n",
              "      <td>1</td>\n",
              "      <td>12.96</td>\n",
              "      <td>0.17</td>\n",
              "      <td>743.88</td>\n",
              "      <td>5</td>\n",
              "    </tr>\n",
              "  </tbody>\n",
              "</table>\n",
              "</div>"
            ],
            "text/plain": [
              "         대여일자  대여시간  대여소번호                     대여소명  ...    운동량   탄소량     이동거리  사용시간\n",
              "0  2021-01-01     0   1347  1347. 길음래미안아파트817동 상가 앞  ...  28.90  0.23   992.78    13\n",
              "1  2021-01-01     0   1349       1349. 월계2교 버스정류장 앞  ...  34.38  0.26  1127.50    10\n",
              "2  2021-01-01     0   1168        1168. 마곡엠밸리10단지 앞  ...   0.00  0.00     0.00     7\n",
              "3  2021-01-01     0   2619         2619. 석촌고분역 4번출구  ...  38.75  0.38  1658.34    14\n",
              "4  2021-01-01     0    536          536. 행당역 2번출구 앞  ...  12.96  0.17   743.88     5\n",
              "\n",
              "[5 rows x 12 columns]"
            ]
          },
          "metadata": {
            "tags": []
          },
          "execution_count": 16
        }
      ]
    },
    {
      "cell_type": "markdown",
      "metadata": {
        "id": "t6tOj6EFqUgw"
      },
      "source": [
        "### 대여구분코드가 어떤 데이터를 저장하는지 살펴볼까요?"
      ]
    },
    {
      "cell_type": "code",
      "metadata": {
        "id": "fj3ep_CapKr2",
        "colab": {
          "base_uri": "https://localhost:8080/"
        },
        "outputId": "95e380bd-ed6b-4801-dab5-563feb8f18a2"
      },
      "source": [
        "# 범주형 데이터 둘러보기\n",
        "bike_data['대여구분코드'].unique()"
      ],
      "execution_count": null,
      "outputs": [
        {
          "output_type": "execute_result",
          "data": {
            "text/plain": [
              "array(['정기권', '일일권', '단체권', '일일권(비회원)'], dtype=object)"
            ]
          },
          "metadata": {
            "tags": []
          },
          "execution_count": 17
        }
      ]
    },
    {
      "cell_type": "code",
      "metadata": {
        "id": "8nipvuEUpd9-",
        "colab": {
          "base_uri": "https://localhost:8080/"
        },
        "outputId": "ce26443a-570d-4306-99f3-28e1616d0a44"
      },
      "source": [
        "# 범주형 데이터의 빈도수 확인하기\n",
        "bike_data['대여구분코드'].value_counts()"
      ],
      "execution_count": null,
      "outputs": [
        {
          "output_type": "execute_result",
          "data": {
            "text/plain": [
              "정기권         585211\n",
              "일일권         130415\n",
              "단체권           3224\n",
              "일일권(비회원)         7\n",
              "Name: 대여구분코드, dtype: int64"
            ]
          },
          "metadata": {
            "tags": []
          },
          "execution_count": 18
        }
      ]
    },
    {
      "cell_type": "code",
      "metadata": {
        "id": "Do9Oq-ojplxG",
        "colab": {
          "base_uri": "https://localhost:8080/"
        },
        "outputId": "133094c7-4be9-4e67-eed5-112f325ed9ae"
      },
      "source": [
        "# 각 항목별 비율 확인\n",
        "bike_data['대여구분코드'].value_counts(normalize=True)"
      ],
      "execution_count": null,
      "outputs": [
        {
          "output_type": "execute_result",
          "data": {
            "text/plain": [
              "정기권         0.814085\n",
              "일일권         0.181420\n",
              "단체권         0.004485\n",
              "일일권(비회원)    0.000010\n",
              "Name: 대여구분코드, dtype: float64"
            ]
          },
          "metadata": {
            "tags": []
          },
          "execution_count": 19
        }
      ]
    },
    {
      "cell_type": "markdown",
      "metadata": {
        "id": "waAuADweqgmg"
      },
      "source": [
        "### 운동량 컬럼 데이터를 살펴볼까요?"
      ]
    },
    {
      "cell_type": "code",
      "metadata": {
        "id": "SeycrQ-DpyGz",
        "colab": {
          "base_uri": "https://localhost:8080/"
        },
        "outputId": "32ae2bd4-eb7c-4607-da17-cf4382d2fba8"
      },
      "source": [
        "# 범주형 데이터 둘러보기\n",
        "bike_data['운동량'].unique()"
      ],
      "execution_count": null,
      "outputs": [
        {
          "output_type": "execute_result",
          "data": {
            "text/plain": [
              "array(['28.90', '34.38', '0.00', ..., '509.20', '916.66', '492.87'],\n",
              "      dtype=object)"
            ]
          },
          "metadata": {
            "tags": []
          },
          "execution_count": 20
        }
      ]
    },
    {
      "cell_type": "code",
      "metadata": {
        "id": "nXP_4-JkrZ11",
        "colab": {
          "base_uri": "https://localhost:8080/"
        },
        "outputId": "0080f910-a8a8-46a1-e6b4-6d248f6f6d77"
      },
      "source": [
        "# 범주형 데이터의 기술통계요역보기\n",
        "bike_data['운동량'].describe()"
      ],
      "execution_count": null,
      "outputs": [
        {
          "output_type": "execute_result",
          "data": {
            "text/plain": [
              "count     718857\n",
              "unique     51422\n",
              "top         0.00\n",
              "freq       73806\n",
              "Name: 운동량, dtype: object"
            ]
          },
          "metadata": {
            "tags": []
          },
          "execution_count": 21
        }
      ]
    },
    {
      "cell_type": "code",
      "metadata": {
        "id": "v_jy_BhAuVUI",
        "colab": {
          "base_uri": "https://localhost:8080/"
        },
        "outputId": "4c7567bb-7704-4344-a119-cf9caf28a5e7"
      },
      "source": [
        "# 결측치는?\n",
        "bike_data.isnull().sum()"
      ],
      "execution_count": null,
      "outputs": [
        {
          "output_type": "execute_result",
          "data": {
            "text/plain": [
              "대여일자           0\n",
              "대여시간           0\n",
              "대여소번호          0\n",
              "대여소명           0\n",
              "대여구분코드         0\n",
              "성별        317622\n",
              "연령대코드          0\n",
              "이용건수           0\n",
              "운동량            0\n",
              "탄소량            0\n",
              "이동거리           0\n",
              "사용시간           0\n",
              "dtype: int64"
            ]
          },
          "metadata": {
            "tags": []
          },
          "execution_count": 22
        }
      ]
    },
    {
      "cell_type": "code",
      "metadata": {
        "id": "zXhCL_hatWTT",
        "colab": {
          "base_uri": "https://localhost:8080/",
          "height": 563
        },
        "outputId": "c5be5682-93a9-448d-f077-659b7134504f"
      },
      "source": [
        "# 패턴매치로 이상값 찾기\n",
        "# str.match(pattern) ---> T/F\n",
        "pattern='([0-9])'\n",
        "bike_data['temp'] = bike_data['운동량'].str.match(pattern)\n",
        "bike_data.sample(10)"
      ],
      "execution_count": null,
      "outputs": [
        {
          "output_type": "execute_result",
          "data": {
            "text/html": [
              "<div>\n",
              "<style scoped>\n",
              "    .dataframe tbody tr th:only-of-type {\n",
              "        vertical-align: middle;\n",
              "    }\n",
              "\n",
              "    .dataframe tbody tr th {\n",
              "        vertical-align: top;\n",
              "    }\n",
              "\n",
              "    .dataframe thead th {\n",
              "        text-align: right;\n",
              "    }\n",
              "</style>\n",
              "<table border=\"1\" class=\"dataframe\">\n",
              "  <thead>\n",
              "    <tr style=\"text-align: right;\">\n",
              "      <th></th>\n",
              "      <th>대여일자</th>\n",
              "      <th>대여시간</th>\n",
              "      <th>대여소번호</th>\n",
              "      <th>대여소명</th>\n",
              "      <th>대여구분코드</th>\n",
              "      <th>성별</th>\n",
              "      <th>연령대코드</th>\n",
              "      <th>이용건수</th>\n",
              "      <th>운동량</th>\n",
              "      <th>탄소량</th>\n",
              "      <th>이동거리</th>\n",
              "      <th>사용시간</th>\n",
              "      <th>temp</th>\n",
              "    </tr>\n",
              "  </thead>\n",
              "  <tbody>\n",
              "    <tr>\n",
              "      <th>329799</th>\n",
              "      <td>2021-01-18</td>\n",
              "      <td>19</td>\n",
              "      <td>530</td>\n",
              "      <td>530. 청계벽산아파트 앞</td>\n",
              "      <td>정기권</td>\n",
              "      <td>NaN</td>\n",
              "      <td>50대</td>\n",
              "      <td>1</td>\n",
              "      <td>11.41</td>\n",
              "      <td>0.08</td>\n",
              "      <td>327.35</td>\n",
              "      <td>6</td>\n",
              "      <td>True</td>\n",
              "    </tr>\n",
              "    <tr>\n",
              "      <th>99588</th>\n",
              "      <td>2021-01-05</td>\n",
              "      <td>10</td>\n",
              "      <td>1527</td>\n",
              "      <td>1527. 미아역 1번 출구 뒤</td>\n",
              "      <td>정기권</td>\n",
              "      <td>M</td>\n",
              "      <td>20대</td>\n",
              "      <td>1</td>\n",
              "      <td>64.42</td>\n",
              "      <td>0.38</td>\n",
              "      <td>1626.70</td>\n",
              "      <td>12</td>\n",
              "      <td>True</td>\n",
              "    </tr>\n",
              "    <tr>\n",
              "      <th>393897</th>\n",
              "      <td>2021-01-22</td>\n",
              "      <td>7</td>\n",
              "      <td>724</td>\n",
              "      <td>724. 계남공원 입구 주출입구 좌측</td>\n",
              "      <td>정기권</td>\n",
              "      <td>M</td>\n",
              "      <td>20대</td>\n",
              "      <td>1</td>\n",
              "      <td>95.76</td>\n",
              "      <td>0.92</td>\n",
              "      <td>3964.41</td>\n",
              "      <td>21</td>\n",
              "      <td>True</td>\n",
              "    </tr>\n",
              "    <tr>\n",
              "      <th>185393</th>\n",
              "      <td>2021-01-11</td>\n",
              "      <td>19</td>\n",
              "      <td>1532</td>\n",
              "      <td>1532. 번3동 주민센터 교차로</td>\n",
              "      <td>정기권</td>\n",
              "      <td>NaN</td>\n",
              "      <td>20대</td>\n",
              "      <td>1</td>\n",
              "      <td>73.31</td>\n",
              "      <td>0.58</td>\n",
              "      <td>2501.59</td>\n",
              "      <td>13</td>\n",
              "      <td>True</td>\n",
              "    </tr>\n",
              "    <tr>\n",
              "      <th>576515</th>\n",
              "      <td>2021-01-27</td>\n",
              "      <td>3</td>\n",
              "      <td>481</td>\n",
              "      <td>481.신당역 10번 출구</td>\n",
              "      <td>정기권</td>\n",
              "      <td>F</td>\n",
              "      <td>20대</td>\n",
              "      <td>1</td>\n",
              "      <td>20.80</td>\n",
              "      <td>0.23</td>\n",
              "      <td>1010.00</td>\n",
              "      <td>7</td>\n",
              "      <td>True</td>\n",
              "    </tr>\n",
              "    <tr>\n",
              "      <th>133487</th>\n",
              "      <td>2021-01-06</td>\n",
              "      <td>16</td>\n",
              "      <td>2648</td>\n",
              "      <td>2648.헬리오시티 112동 앞</td>\n",
              "      <td>일일권</td>\n",
              "      <td>M</td>\n",
              "      <td>20대</td>\n",
              "      <td>1</td>\n",
              "      <td>54.04</td>\n",
              "      <td>0.49</td>\n",
              "      <td>2099.61</td>\n",
              "      <td>24</td>\n",
              "      <td>True</td>\n",
              "    </tr>\n",
              "    <tr>\n",
              "      <th>563218</th>\n",
              "      <td>2021-01-26</td>\n",
              "      <td>15</td>\n",
              "      <td>1080</td>\n",
              "      <td>1080.엘웨딩</td>\n",
              "      <td>정기권</td>\n",
              "      <td>F</td>\n",
              "      <td>20대</td>\n",
              "      <td>1</td>\n",
              "      <td>23.25</td>\n",
              "      <td>0.29</td>\n",
              "      <td>1249.36</td>\n",
              "      <td>13</td>\n",
              "      <td>True</td>\n",
              "    </tr>\n",
              "    <tr>\n",
              "      <th>183132</th>\n",
              "      <td>2021-01-11</td>\n",
              "      <td>17</td>\n",
              "      <td>417</td>\n",
              "      <td>417. DMC역 2번출구 옆</td>\n",
              "      <td>정기권</td>\n",
              "      <td>M</td>\n",
              "      <td>60대</td>\n",
              "      <td>1</td>\n",
              "      <td>39.59</td>\n",
              "      <td>0.33</td>\n",
              "      <td>1408.24</td>\n",
              "      <td>12</td>\n",
              "      <td>True</td>\n",
              "    </tr>\n",
              "    <tr>\n",
              "      <th>13935</th>\n",
              "      <td>2021-01-01</td>\n",
              "      <td>17</td>\n",
              "      <td>1080</td>\n",
              "      <td>1080.엘웨딩</td>\n",
              "      <td>정기권</td>\n",
              "      <td>M</td>\n",
              "      <td>40대</td>\n",
              "      <td>1</td>\n",
              "      <td>0.00</td>\n",
              "      <td>0.00</td>\n",
              "      <td>0.00</td>\n",
              "      <td>6</td>\n",
              "      <td>True</td>\n",
              "    </tr>\n",
              "    <tr>\n",
              "      <th>321402</th>\n",
              "      <td>2021-01-18</td>\n",
              "      <td>10</td>\n",
              "      <td>652</td>\n",
              "      <td>652. 답십리 래미안엘파인아파트 입구</td>\n",
              "      <td>정기권</td>\n",
              "      <td>NaN</td>\n",
              "      <td>40대</td>\n",
              "      <td>1</td>\n",
              "      <td>33.17</td>\n",
              "      <td>0.20</td>\n",
              "      <td>846.14</td>\n",
              "      <td>6</td>\n",
              "      <td>True</td>\n",
              "    </tr>\n",
              "  </tbody>\n",
              "</table>\n",
              "</div>"
            ],
            "text/plain": [
              "              대여일자  대여시간  대여소번호  ...     이동거리 사용시간  temp\n",
              "329799  2021-01-18    19    530  ...   327.35    6  True\n",
              "99588   2021-01-05    10   1527  ...  1626.70   12  True\n",
              "393897  2021-01-22     7    724  ...  3964.41   21  True\n",
              "185393  2021-01-11    19   1532  ...  2501.59   13  True\n",
              "576515  2021-01-27     3    481  ...  1010.00    7  True\n",
              "133487  2021-01-06    16   2648  ...  2099.61   24  True\n",
              "563218  2021-01-26    15   1080  ...  1249.36   13  True\n",
              "183132  2021-01-11    17    417  ...  1408.24   12  True\n",
              "13935   2021-01-01    17   1080  ...     0.00    6  True\n",
              "321402  2021-01-18    10    652  ...   846.14    6  True\n",
              "\n",
              "[10 rows x 13 columns]"
            ]
          },
          "metadata": {
            "tags": []
          },
          "execution_count": 25
        }
      ]
    },
    {
      "cell_type": "code",
      "metadata": {
        "id": "U8TEsMUDw63v",
        "colab": {
          "base_uri": "https://localhost:8080/"
        },
        "outputId": "ac70c8c3-a863-4237-810f-d358818d8556"
      },
      "source": [
        "bike_data['temp'].sum()"
      ],
      "execution_count": null,
      "outputs": [
        {
          "output_type": "execute_result",
          "data": {
            "text/plain": [
              "714288"
            ]
          },
          "metadata": {
            "tags": []
          },
          "execution_count": 26
        }
      ]
    },
    {
      "cell_type": "code",
      "metadata": {
        "id": "FI9pj85PtCZ5",
        "colab": {
          "base_uri": "https://localhost:8080/",
          "height": 623
        },
        "outputId": "695176c0-92f8-4d2c-b24d-060ced1c1be7"
      },
      "source": [
        "bike_data.loc[bike_data['temp'] == False]"
      ],
      "execution_count": null,
      "outputs": [
        {
          "output_type": "execute_result",
          "data": {
            "text/html": [
              "<div>\n",
              "<style scoped>\n",
              "    .dataframe tbody tr th:only-of-type {\n",
              "        vertical-align: middle;\n",
              "    }\n",
              "\n",
              "    .dataframe tbody tr th {\n",
              "        vertical-align: top;\n",
              "    }\n",
              "\n",
              "    .dataframe thead th {\n",
              "        text-align: right;\n",
              "    }\n",
              "</style>\n",
              "<table border=\"1\" class=\"dataframe\">\n",
              "  <thead>\n",
              "    <tr style=\"text-align: right;\">\n",
              "      <th></th>\n",
              "      <th>대여일자</th>\n",
              "      <th>대여시간</th>\n",
              "      <th>대여소번호</th>\n",
              "      <th>대여소명</th>\n",
              "      <th>대여구분코드</th>\n",
              "      <th>성별</th>\n",
              "      <th>연령대코드</th>\n",
              "      <th>이용건수</th>\n",
              "      <th>운동량</th>\n",
              "      <th>탄소량</th>\n",
              "      <th>이동거리</th>\n",
              "      <th>사용시간</th>\n",
              "      <th>temp</th>\n",
              "    </tr>\n",
              "  </thead>\n",
              "  <tbody>\n",
              "    <tr>\n",
              "      <th>57</th>\n",
              "      <td>2021-01-01</td>\n",
              "      <td>0</td>\n",
              "      <td>1946</td>\n",
              "      <td>1946. 구로역 광장</td>\n",
              "      <td>정기권</td>\n",
              "      <td>NaN</td>\n",
              "      <td>20대</td>\n",
              "      <td>1</td>\n",
              "      <td>\\N</td>\n",
              "      <td>\\N</td>\n",
              "      <td>0.0</td>\n",
              "      <td>60</td>\n",
              "      <td>False</td>\n",
              "    </tr>\n",
              "    <tr>\n",
              "      <th>78</th>\n",
              "      <td>2021-01-01</td>\n",
              "      <td>0</td>\n",
              "      <td>4117</td>\n",
              "      <td>4117. 휘경119안전센터 앞</td>\n",
              "      <td>정기권</td>\n",
              "      <td>NaN</td>\n",
              "      <td>30대</td>\n",
              "      <td>1</td>\n",
              "      <td>\\N</td>\n",
              "      <td>\\N</td>\n",
              "      <td>0.0</td>\n",
              "      <td>52</td>\n",
              "      <td>False</td>\n",
              "    </tr>\n",
              "    <tr>\n",
              "      <th>240</th>\n",
              "      <td>2021-01-01</td>\n",
              "      <td>0</td>\n",
              "      <td>2169</td>\n",
              "      <td>2169. 봉천역 2번출구</td>\n",
              "      <td>정기권</td>\n",
              "      <td>M</td>\n",
              "      <td>40대</td>\n",
              "      <td>1</td>\n",
              "      <td>\\N</td>\n",
              "      <td>\\N</td>\n",
              "      <td>0.0</td>\n",
              "      <td>10</td>\n",
              "      <td>False</td>\n",
              "    </tr>\n",
              "    <tr>\n",
              "      <th>311</th>\n",
              "      <td>2021-01-01</td>\n",
              "      <td>0</td>\n",
              "      <td>2702</td>\n",
              "      <td>2702. 마곡 엠밸리2단지</td>\n",
              "      <td>일일권</td>\n",
              "      <td>NaN</td>\n",
              "      <td>20대</td>\n",
              "      <td>1</td>\n",
              "      <td>\\N</td>\n",
              "      <td>\\N</td>\n",
              "      <td>0.0</td>\n",
              "      <td>108</td>\n",
              "      <td>False</td>\n",
              "    </tr>\n",
              "    <tr>\n",
              "      <th>397</th>\n",
              "      <td>2021-01-01</td>\n",
              "      <td>1</td>\n",
              "      <td>1404</td>\n",
              "      <td>1404. 동일로 지하차도</td>\n",
              "      <td>정기권</td>\n",
              "      <td>NaN</td>\n",
              "      <td>20대</td>\n",
              "      <td>1</td>\n",
              "      <td>\\N</td>\n",
              "      <td>\\N</td>\n",
              "      <td>0.0</td>\n",
              "      <td>30</td>\n",
              "      <td>False</td>\n",
              "    </tr>\n",
              "    <tr>\n",
              "      <th>...</th>\n",
              "      <td>...</td>\n",
              "      <td>...</td>\n",
              "      <td>...</td>\n",
              "      <td>...</td>\n",
              "      <td>...</td>\n",
              "      <td>...</td>\n",
              "      <td>...</td>\n",
              "      <td>...</td>\n",
              "      <td>...</td>\n",
              "      <td>...</td>\n",
              "      <td>...</td>\n",
              "      <td>...</td>\n",
              "      <td>...</td>\n",
              "    </tr>\n",
              "    <tr>\n",
              "      <th>717806</th>\n",
              "      <td>2021-01-31</td>\n",
              "      <td>22</td>\n",
              "      <td>2717</td>\n",
              "      <td>2717.LG유플러스 마곡사옥</td>\n",
              "      <td>정기권</td>\n",
              "      <td>M</td>\n",
              "      <td>40대</td>\n",
              "      <td>1</td>\n",
              "      <td>\\N</td>\n",
              "      <td>\\N</td>\n",
              "      <td>0.0</td>\n",
              "      <td>31</td>\n",
              "      <td>False</td>\n",
              "    </tr>\n",
              "    <tr>\n",
              "      <th>718106</th>\n",
              "      <td>2021-01-31</td>\n",
              "      <td>22</td>\n",
              "      <td>537</td>\n",
              "      <td>537. 한양대후문역 부근</td>\n",
              "      <td>일일권</td>\n",
              "      <td>M</td>\n",
              "      <td>20대</td>\n",
              "      <td>1</td>\n",
              "      <td>\\N</td>\n",
              "      <td>\\N</td>\n",
              "      <td>0.0</td>\n",
              "      <td>54</td>\n",
              "      <td>False</td>\n",
              "    </tr>\n",
              "    <tr>\n",
              "      <th>718242</th>\n",
              "      <td>2021-01-31</td>\n",
              "      <td>23</td>\n",
              "      <td>2919</td>\n",
              "      <td>2919.등나무 근린공원(시립북서울미술관 앞)</td>\n",
              "      <td>정기권</td>\n",
              "      <td>NaN</td>\n",
              "      <td>20대</td>\n",
              "      <td>1</td>\n",
              "      <td>\\N</td>\n",
              "      <td>\\N</td>\n",
              "      <td>0.0</td>\n",
              "      <td>30</td>\n",
              "      <td>False</td>\n",
              "    </tr>\n",
              "    <tr>\n",
              "      <th>718591</th>\n",
              "      <td>2021-01-31</td>\n",
              "      <td>23</td>\n",
              "      <td>264</td>\n",
              "      <td>264. 교보생명보험 앞</td>\n",
              "      <td>정기권</td>\n",
              "      <td>M</td>\n",
              "      <td>30대</td>\n",
              "      <td>1</td>\n",
              "      <td>\\N</td>\n",
              "      <td>\\N</td>\n",
              "      <td>0.0</td>\n",
              "      <td>120</td>\n",
              "      <td>False</td>\n",
              "    </tr>\n",
              "    <tr>\n",
              "      <th>718619</th>\n",
              "      <td>2021-01-31</td>\n",
              "      <td>23</td>\n",
              "      <td>364</td>\n",
              "      <td>364. 창신역 1번출구 앞</td>\n",
              "      <td>정기권</td>\n",
              "      <td>M</td>\n",
              "      <td>40대</td>\n",
              "      <td>1</td>\n",
              "      <td>\\N</td>\n",
              "      <td>\\N</td>\n",
              "      <td>0.0</td>\n",
              "      <td>22</td>\n",
              "      <td>False</td>\n",
              "    </tr>\n",
              "  </tbody>\n",
              "</table>\n",
              "<p>4569 rows × 13 columns</p>\n",
              "</div>"
            ],
            "text/plain": [
              "              대여일자  대여시간  대여소번호  ... 이동거리 사용시간   temp\n",
              "57      2021-01-01     0   1946  ...  0.0   60  False\n",
              "78      2021-01-01     0   4117  ...  0.0   52  False\n",
              "240     2021-01-01     0   2169  ...  0.0   10  False\n",
              "311     2021-01-01     0   2702  ...  0.0  108  False\n",
              "397     2021-01-01     1   1404  ...  0.0   30  False\n",
              "...            ...   ...    ...  ...  ...  ...    ...\n",
              "717806  2021-01-31    22   2717  ...  0.0   31  False\n",
              "718106  2021-01-31    22    537  ...  0.0   54  False\n",
              "718242  2021-01-31    23   2919  ...  0.0   30  False\n",
              "718591  2021-01-31    23    264  ...  0.0  120  False\n",
              "718619  2021-01-31    23    364  ...  0.0   22  False\n",
              "\n",
              "[4569 rows x 13 columns]"
            ]
          },
          "metadata": {
            "tags": []
          },
          "execution_count": 29
        }
      ]
    },
    {
      "cell_type": "code",
      "metadata": {
        "colab": {
          "base_uri": "https://localhost:8080/"
        },
        "id": "hkkSLlXmNvkq",
        "outputId": "c53d8dea-d850-4f9b-921d-09d58f5a77f4"
      },
      "source": [
        "bike_data['temp'].value_counts()"
      ],
      "execution_count": null,
      "outputs": [
        {
          "output_type": "execute_result",
          "data": {
            "text/plain": [
              "True     714288\n",
              "False      4569\n",
              "Name: temp, dtype: int64"
            ]
          },
          "metadata": {
            "tags": []
          },
          "execution_count": 30
        }
      ]
    },
    {
      "cell_type": "code",
      "metadata": {
        "colab": {
          "base_uri": "https://localhost:8080/"
        },
        "id": "CXCp-KoVOHF2",
        "outputId": "020cb185-b70f-4dd5-d2c8-5d2e8a438ae3"
      },
      "source": [
        "bike_data.loc[bike_data['운동량'] == '\\\\N', '운동량']"
      ],
      "execution_count": null,
      "outputs": [
        {
          "output_type": "execute_result",
          "data": {
            "text/plain": [
              "57        \\N\n",
              "78        \\N\n",
              "240       \\N\n",
              "311       \\N\n",
              "397       \\N\n",
              "          ..\n",
              "717806    \\N\n",
              "718106    \\N\n",
              "718242    \\N\n",
              "718591    \\N\n",
              "718619    \\N\n",
              "Name: 운동량, Length: 4569, dtype: object"
            ]
          },
          "metadata": {
            "tags": []
          },
          "execution_count": 31
        }
      ]
    },
    {
      "cell_type": "code",
      "metadata": {
        "id": "jAqUem-muo5N"
      },
      "source": [
        "# 비정상적인 값은 효과적인 처리를 위해 결측치로 채우기\n",
        "# 결측치로 채우는 이유?\n",
        "# fillna, dropna,  \n",
        "bike_data.loc[bike_data['운동량'] == '\\\\N', '운동량'] = np.nan\n"
      ],
      "execution_count": null,
      "outputs": []
    },
    {
      "cell_type": "code",
      "metadata": {
        "id": "1cma1jvYu2og",
        "colab": {
          "base_uri": "https://localhost:8080/"
        },
        "outputId": "7e08162e-8e26-49e0-fdbe-d50cba862b83"
      },
      "source": [
        "# 결측치 개수 확인\n",
        "bike_data['운동량'].isnull().sum()"
      ],
      "execution_count": null,
      "outputs": [
        {
          "output_type": "execute_result",
          "data": {
            "text/plain": [
              "4569"
            ]
          },
          "metadata": {
            "tags": []
          },
          "execution_count": 33
        }
      ]
    },
    {
      "cell_type": "code",
      "metadata": {
        "id": "pWmLVlFtu8Qf"
      },
      "source": [
        "# 임시로 생성한 temp 컬럼 삭제\n",
        "bike_data.drop(columns=['temp'], inplace=True)"
      ],
      "execution_count": null,
      "outputs": []
    },
    {
      "cell_type": "code",
      "metadata": {
        "colab": {
          "base_uri": "https://localhost:8080/",
          "height": 306
        },
        "id": "7tQwu0XhPh9M",
        "outputId": "24b46c22-4ad7-4745-e791-6429b5a0d0f7"
      },
      "source": [
        "bike_data.head()"
      ],
      "execution_count": null,
      "outputs": [
        {
          "output_type": "execute_result",
          "data": {
            "text/html": [
              "<div>\n",
              "<style scoped>\n",
              "    .dataframe tbody tr th:only-of-type {\n",
              "        vertical-align: middle;\n",
              "    }\n",
              "\n",
              "    .dataframe tbody tr th {\n",
              "        vertical-align: top;\n",
              "    }\n",
              "\n",
              "    .dataframe thead th {\n",
              "        text-align: right;\n",
              "    }\n",
              "</style>\n",
              "<table border=\"1\" class=\"dataframe\">\n",
              "  <thead>\n",
              "    <tr style=\"text-align: right;\">\n",
              "      <th></th>\n",
              "      <th>대여일자</th>\n",
              "      <th>대여시간</th>\n",
              "      <th>대여소번호</th>\n",
              "      <th>대여소명</th>\n",
              "      <th>대여구분코드</th>\n",
              "      <th>성별</th>\n",
              "      <th>연령대코드</th>\n",
              "      <th>이용건수</th>\n",
              "      <th>운동량</th>\n",
              "      <th>탄소량</th>\n",
              "      <th>이동거리</th>\n",
              "      <th>사용시간</th>\n",
              "    </tr>\n",
              "  </thead>\n",
              "  <tbody>\n",
              "    <tr>\n",
              "      <th>0</th>\n",
              "      <td>2021-01-01</td>\n",
              "      <td>0</td>\n",
              "      <td>1347</td>\n",
              "      <td>1347. 길음래미안아파트817동 상가 앞</td>\n",
              "      <td>정기권</td>\n",
              "      <td>NaN</td>\n",
              "      <td>~10대</td>\n",
              "      <td>2</td>\n",
              "      <td>28.90</td>\n",
              "      <td>0.23</td>\n",
              "      <td>992.78</td>\n",
              "      <td>13</td>\n",
              "    </tr>\n",
              "    <tr>\n",
              "      <th>1</th>\n",
              "      <td>2021-01-01</td>\n",
              "      <td>0</td>\n",
              "      <td>1349</td>\n",
              "      <td>1349. 월계2교 버스정류장 앞</td>\n",
              "      <td>정기권</td>\n",
              "      <td>NaN</td>\n",
              "      <td>~10대</td>\n",
              "      <td>1</td>\n",
              "      <td>34.38</td>\n",
              "      <td>0.26</td>\n",
              "      <td>1127.50</td>\n",
              "      <td>10</td>\n",
              "    </tr>\n",
              "    <tr>\n",
              "      <th>2</th>\n",
              "      <td>2021-01-01</td>\n",
              "      <td>0</td>\n",
              "      <td>1168</td>\n",
              "      <td>1168. 마곡엠밸리10단지 앞</td>\n",
              "      <td>정기권</td>\n",
              "      <td>NaN</td>\n",
              "      <td>~10대</td>\n",
              "      <td>1</td>\n",
              "      <td>0.00</td>\n",
              "      <td>0.00</td>\n",
              "      <td>0.00</td>\n",
              "      <td>7</td>\n",
              "    </tr>\n",
              "    <tr>\n",
              "      <th>3</th>\n",
              "      <td>2021-01-01</td>\n",
              "      <td>0</td>\n",
              "      <td>2619</td>\n",
              "      <td>2619. 석촌고분역 4번출구</td>\n",
              "      <td>정기권</td>\n",
              "      <td>NaN</td>\n",
              "      <td>~10대</td>\n",
              "      <td>1</td>\n",
              "      <td>38.75</td>\n",
              "      <td>0.38</td>\n",
              "      <td>1658.34</td>\n",
              "      <td>14</td>\n",
              "    </tr>\n",
              "    <tr>\n",
              "      <th>4</th>\n",
              "      <td>2021-01-01</td>\n",
              "      <td>0</td>\n",
              "      <td>536</td>\n",
              "      <td>536. 행당역 2번출구 앞</td>\n",
              "      <td>정기권</td>\n",
              "      <td>NaN</td>\n",
              "      <td>~10대</td>\n",
              "      <td>1</td>\n",
              "      <td>12.96</td>\n",
              "      <td>0.17</td>\n",
              "      <td>743.88</td>\n",
              "      <td>5</td>\n",
              "    </tr>\n",
              "  </tbody>\n",
              "</table>\n",
              "</div>"
            ],
            "text/plain": [
              "         대여일자  대여시간  대여소번호                     대여소명  ...    운동량   탄소량     이동거리  사용시간\n",
              "0  2021-01-01     0   1347  1347. 길음래미안아파트817동 상가 앞  ...  28.90  0.23   992.78    13\n",
              "1  2021-01-01     0   1349       1349. 월계2교 버스정류장 앞  ...  34.38  0.26  1127.50    10\n",
              "2  2021-01-01     0   1168        1168. 마곡엠밸리10단지 앞  ...   0.00  0.00     0.00     7\n",
              "3  2021-01-01     0   2619         2619. 석촌고분역 4번출구  ...  38.75  0.38  1658.34    14\n",
              "4  2021-01-01     0    536          536. 행당역 2번출구 앞  ...  12.96  0.17   743.88     5\n",
              "\n",
              "[5 rows x 12 columns]"
            ]
          },
          "metadata": {
            "tags": []
          },
          "execution_count": 35
        }
      ]
    },
    {
      "cell_type": "markdown",
      "metadata": {
        "id": "Zhg1qXZEwNfw"
      },
      "source": [
        "- 데이터 타입 변경"
      ]
    },
    {
      "cell_type": "code",
      "metadata": {
        "id": "Tt3I8lVGwMPQ",
        "colab": {
          "base_uri": "https://localhost:8080/"
        },
        "outputId": "49a8c03a-8373-4b64-cda8-9140613cdde5"
      },
      "source": [
        "# 데이터 타입 문자열에서 실수형으로 변환\n",
        "# 변경하고자하는컬럼.astype(변경하고자하는타입)\n",
        "bike_data['운동량'].astype(float)\n"
      ],
      "execution_count": null,
      "outputs": [
        {
          "output_type": "execute_result",
          "data": {
            "text/plain": [
              "0          28.90\n",
              "1          34.38\n",
              "2           0.00\n",
              "3          38.75\n",
              "4          12.96\n",
              "           ...  \n",
              "718852    916.66\n",
              "718853    492.87\n",
              "718854    348.43\n",
              "718855     98.10\n",
              "718856    223.71\n",
              "Name: 운동량, Length: 718857, dtype: float64"
            ]
          },
          "metadata": {
            "tags": []
          },
          "execution_count": 36
        }
      ]
    },
    {
      "cell_type": "code",
      "metadata": {
        "id": "0CLpMNFwwXOS"
      },
      "source": [
        "# 데이터 타입 문자열에서 실수형으로 변환\n",
        "bike_data['운동량'] = bike_data['운동량'].astype(float)"
      ],
      "execution_count": null,
      "outputs": []
    },
    {
      "cell_type": "code",
      "metadata": {
        "id": "1GV-HuT-wfn7",
        "colab": {
          "base_uri": "https://localhost:8080/"
        },
        "outputId": "3364a630-c00e-4158-a7e2-b57fb17327f7"
      },
      "source": [
        "bike_data.info()"
      ],
      "execution_count": null,
      "outputs": [
        {
          "output_type": "stream",
          "text": [
            "<class 'pandas.core.frame.DataFrame'>\n",
            "RangeIndex: 718857 entries, 0 to 718856\n",
            "Data columns (total 12 columns):\n",
            " #   Column  Non-Null Count   Dtype  \n",
            "---  ------  --------------   -----  \n",
            " 0   대여일자    718857 non-null  object \n",
            " 1   대여시간    718857 non-null  int64  \n",
            " 2   대여소번호   718857 non-null  int64  \n",
            " 3   대여소명    718857 non-null  object \n",
            " 4   대여구분코드  718857 non-null  object \n",
            " 5   성별      401235 non-null  object \n",
            " 6   연령대코드   718857 non-null  object \n",
            " 7   이용건수    718857 non-null  int64  \n",
            " 8   운동량     714288 non-null  float64\n",
            " 9   탄소량     718857 non-null  object \n",
            " 10  이동거리    718857 non-null  float64\n",
            " 11  사용시간    718857 non-null  int64  \n",
            "dtypes: float64(2), int64(4), object(6)\n",
            "memory usage: 65.8+ MB\n"
          ],
          "name": "stdout"
        }
      ]
    },
    {
      "cell_type": "code",
      "metadata": {
        "colab": {
          "base_uri": "https://localhost:8080/",
          "height": 306
        },
        "id": "SGHnKAqpQqPF",
        "outputId": "8f17f992-88f2-4748-be33-9a0ea3c6109d"
      },
      "source": [
        "bike_data.head()"
      ],
      "execution_count": null,
      "outputs": [
        {
          "output_type": "execute_result",
          "data": {
            "text/html": [
              "<div>\n",
              "<style scoped>\n",
              "    .dataframe tbody tr th:only-of-type {\n",
              "        vertical-align: middle;\n",
              "    }\n",
              "\n",
              "    .dataframe tbody tr th {\n",
              "        vertical-align: top;\n",
              "    }\n",
              "\n",
              "    .dataframe thead th {\n",
              "        text-align: right;\n",
              "    }\n",
              "</style>\n",
              "<table border=\"1\" class=\"dataframe\">\n",
              "  <thead>\n",
              "    <tr style=\"text-align: right;\">\n",
              "      <th></th>\n",
              "      <th>대여일자</th>\n",
              "      <th>대여시간</th>\n",
              "      <th>대여소번호</th>\n",
              "      <th>대여소명</th>\n",
              "      <th>대여구분코드</th>\n",
              "      <th>성별</th>\n",
              "      <th>연령대코드</th>\n",
              "      <th>이용건수</th>\n",
              "      <th>운동량</th>\n",
              "      <th>탄소량</th>\n",
              "      <th>이동거리</th>\n",
              "      <th>사용시간</th>\n",
              "    </tr>\n",
              "  </thead>\n",
              "  <tbody>\n",
              "    <tr>\n",
              "      <th>0</th>\n",
              "      <td>2021-01-01</td>\n",
              "      <td>0</td>\n",
              "      <td>1347</td>\n",
              "      <td>1347. 길음래미안아파트817동 상가 앞</td>\n",
              "      <td>정기권</td>\n",
              "      <td>NaN</td>\n",
              "      <td>~10대</td>\n",
              "      <td>2</td>\n",
              "      <td>28.90</td>\n",
              "      <td>0.23</td>\n",
              "      <td>992.78</td>\n",
              "      <td>13</td>\n",
              "    </tr>\n",
              "    <tr>\n",
              "      <th>1</th>\n",
              "      <td>2021-01-01</td>\n",
              "      <td>0</td>\n",
              "      <td>1349</td>\n",
              "      <td>1349. 월계2교 버스정류장 앞</td>\n",
              "      <td>정기권</td>\n",
              "      <td>NaN</td>\n",
              "      <td>~10대</td>\n",
              "      <td>1</td>\n",
              "      <td>34.38</td>\n",
              "      <td>0.26</td>\n",
              "      <td>1127.50</td>\n",
              "      <td>10</td>\n",
              "    </tr>\n",
              "    <tr>\n",
              "      <th>2</th>\n",
              "      <td>2021-01-01</td>\n",
              "      <td>0</td>\n",
              "      <td>1168</td>\n",
              "      <td>1168. 마곡엠밸리10단지 앞</td>\n",
              "      <td>정기권</td>\n",
              "      <td>NaN</td>\n",
              "      <td>~10대</td>\n",
              "      <td>1</td>\n",
              "      <td>0.00</td>\n",
              "      <td>0.00</td>\n",
              "      <td>0.00</td>\n",
              "      <td>7</td>\n",
              "    </tr>\n",
              "    <tr>\n",
              "      <th>3</th>\n",
              "      <td>2021-01-01</td>\n",
              "      <td>0</td>\n",
              "      <td>2619</td>\n",
              "      <td>2619. 석촌고분역 4번출구</td>\n",
              "      <td>정기권</td>\n",
              "      <td>NaN</td>\n",
              "      <td>~10대</td>\n",
              "      <td>1</td>\n",
              "      <td>38.75</td>\n",
              "      <td>0.38</td>\n",
              "      <td>1658.34</td>\n",
              "      <td>14</td>\n",
              "    </tr>\n",
              "    <tr>\n",
              "      <th>4</th>\n",
              "      <td>2021-01-01</td>\n",
              "      <td>0</td>\n",
              "      <td>536</td>\n",
              "      <td>536. 행당역 2번출구 앞</td>\n",
              "      <td>정기권</td>\n",
              "      <td>NaN</td>\n",
              "      <td>~10대</td>\n",
              "      <td>1</td>\n",
              "      <td>12.96</td>\n",
              "      <td>0.17</td>\n",
              "      <td>743.88</td>\n",
              "      <td>5</td>\n",
              "    </tr>\n",
              "  </tbody>\n",
              "</table>\n",
              "</div>"
            ],
            "text/plain": [
              "         대여일자  대여시간  대여소번호                     대여소명  ...    운동량   탄소량     이동거리  사용시간\n",
              "0  2021-01-01     0   1347  1347. 길음래미안아파트817동 상가 앞  ...  28.90  0.23   992.78    13\n",
              "1  2021-01-01     0   1349       1349. 월계2교 버스정류장 앞  ...  34.38  0.26  1127.50    10\n",
              "2  2021-01-01     0   1168        1168. 마곡엠밸리10단지 앞  ...   0.00  0.00     0.00     7\n",
              "3  2021-01-01     0   2619         2619. 석촌고분역 4번출구  ...  38.75  0.38  1658.34    14\n",
              "4  2021-01-01     0    536          536. 행당역 2번출구 앞  ...  12.96  0.17   743.88     5\n",
              "\n",
              "[5 rows x 12 columns]"
            ]
          },
          "metadata": {
            "tags": []
          },
          "execution_count": 39
        }
      ]
    },
    {
      "cell_type": "markdown",
      "metadata": {
        "id": "x2LAFX79pvHO"
      },
      "source": [
        "### 탄소량 컬럼 데이터를 살펴볼까요?"
      ]
    },
    {
      "cell_type": "code",
      "metadata": {
        "id": "DN9yu79DwnrK"
      },
      "source": [
        "# 범주형 데이터 둘러보기\n"
      ],
      "execution_count": null,
      "outputs": []
    },
    {
      "cell_type": "code",
      "metadata": {
        "id": "XxhwAOWzwqx_",
        "colab": {
          "base_uri": "https://localhost:8080/"
        },
        "outputId": "b0b70436-b500-45c8-9643-278d21889861"
      },
      "source": [
        "# 범주형 데이터 기술통계 둘러보기\n",
        "bike_data['탄소량'].describe()"
      ],
      "execution_count": null,
      "outputs": [
        {
          "output_type": "execute_result",
          "data": {
            "text/plain": [
              "count     718857\n",
              "unique      1333\n",
              "top         0.00\n",
              "freq       74193\n",
              "Name: 탄소량, dtype: object"
            ]
          },
          "metadata": {
            "tags": []
          },
          "execution_count": 40
        }
      ]
    },
    {
      "cell_type": "code",
      "metadata": {
        "id": "ae4ASi7YwuKk",
        "colab": {
          "base_uri": "https://localhost:8080/"
        },
        "outputId": "d5babb08-2ecf-4d5b-b4ba-8801b617ec7b"
      },
      "source": [
        "# 범주형 데이터의 결측치는?\n",
        "bike_data['탄소량'].isnull().sum()"
      ],
      "execution_count": null,
      "outputs": [
        {
          "output_type": "execute_result",
          "data": {
            "text/plain": [
              "0"
            ]
          },
          "metadata": {
            "tags": []
          },
          "execution_count": 41
        }
      ]
    },
    {
      "cell_type": "code",
      "metadata": {
        "id": "rF7Xvya7wy4H"
      },
      "source": [
        "# 패턴매치로 이상값 찾기\n",
        "pattern='([0-9])'\n",
        "bike_data['temp'] = bike_data['탄소량'].str.match(pattern)"
      ],
      "execution_count": null,
      "outputs": []
    },
    {
      "cell_type": "code",
      "metadata": {
        "id": "uvdo46yAxbac",
        "colab": {
          "base_uri": "https://localhost:8080/",
          "height": 623
        },
        "outputId": "2df430eb-2a0c-4fa1-9c8b-320e69f5d23d"
      },
      "source": [
        "bike_data.loc[bike_data['temp'] == False]"
      ],
      "execution_count": null,
      "outputs": [
        {
          "output_type": "execute_result",
          "data": {
            "text/html": [
              "<div>\n",
              "<style scoped>\n",
              "    .dataframe tbody tr th:only-of-type {\n",
              "        vertical-align: middle;\n",
              "    }\n",
              "\n",
              "    .dataframe tbody tr th {\n",
              "        vertical-align: top;\n",
              "    }\n",
              "\n",
              "    .dataframe thead th {\n",
              "        text-align: right;\n",
              "    }\n",
              "</style>\n",
              "<table border=\"1\" class=\"dataframe\">\n",
              "  <thead>\n",
              "    <tr style=\"text-align: right;\">\n",
              "      <th></th>\n",
              "      <th>대여일자</th>\n",
              "      <th>대여시간</th>\n",
              "      <th>대여소번호</th>\n",
              "      <th>대여소명</th>\n",
              "      <th>대여구분코드</th>\n",
              "      <th>성별</th>\n",
              "      <th>연령대코드</th>\n",
              "      <th>이용건수</th>\n",
              "      <th>운동량</th>\n",
              "      <th>탄소량</th>\n",
              "      <th>이동거리</th>\n",
              "      <th>사용시간</th>\n",
              "      <th>temp</th>\n",
              "    </tr>\n",
              "  </thead>\n",
              "  <tbody>\n",
              "    <tr>\n",
              "      <th>57</th>\n",
              "      <td>2021-01-01</td>\n",
              "      <td>0</td>\n",
              "      <td>1946</td>\n",
              "      <td>1946. 구로역 광장</td>\n",
              "      <td>정기권</td>\n",
              "      <td>NaN</td>\n",
              "      <td>20대</td>\n",
              "      <td>1</td>\n",
              "      <td>NaN</td>\n",
              "      <td>\\N</td>\n",
              "      <td>0.0</td>\n",
              "      <td>60</td>\n",
              "      <td>False</td>\n",
              "    </tr>\n",
              "    <tr>\n",
              "      <th>78</th>\n",
              "      <td>2021-01-01</td>\n",
              "      <td>0</td>\n",
              "      <td>4117</td>\n",
              "      <td>4117. 휘경119안전센터 앞</td>\n",
              "      <td>정기권</td>\n",
              "      <td>NaN</td>\n",
              "      <td>30대</td>\n",
              "      <td>1</td>\n",
              "      <td>NaN</td>\n",
              "      <td>\\N</td>\n",
              "      <td>0.0</td>\n",
              "      <td>52</td>\n",
              "      <td>False</td>\n",
              "    </tr>\n",
              "    <tr>\n",
              "      <th>240</th>\n",
              "      <td>2021-01-01</td>\n",
              "      <td>0</td>\n",
              "      <td>2169</td>\n",
              "      <td>2169. 봉천역 2번출구</td>\n",
              "      <td>정기권</td>\n",
              "      <td>M</td>\n",
              "      <td>40대</td>\n",
              "      <td>1</td>\n",
              "      <td>NaN</td>\n",
              "      <td>\\N</td>\n",
              "      <td>0.0</td>\n",
              "      <td>10</td>\n",
              "      <td>False</td>\n",
              "    </tr>\n",
              "    <tr>\n",
              "      <th>311</th>\n",
              "      <td>2021-01-01</td>\n",
              "      <td>0</td>\n",
              "      <td>2702</td>\n",
              "      <td>2702. 마곡 엠밸리2단지</td>\n",
              "      <td>일일권</td>\n",
              "      <td>NaN</td>\n",
              "      <td>20대</td>\n",
              "      <td>1</td>\n",
              "      <td>NaN</td>\n",
              "      <td>\\N</td>\n",
              "      <td>0.0</td>\n",
              "      <td>108</td>\n",
              "      <td>False</td>\n",
              "    </tr>\n",
              "    <tr>\n",
              "      <th>397</th>\n",
              "      <td>2021-01-01</td>\n",
              "      <td>1</td>\n",
              "      <td>1404</td>\n",
              "      <td>1404. 동일로 지하차도</td>\n",
              "      <td>정기권</td>\n",
              "      <td>NaN</td>\n",
              "      <td>20대</td>\n",
              "      <td>1</td>\n",
              "      <td>NaN</td>\n",
              "      <td>\\N</td>\n",
              "      <td>0.0</td>\n",
              "      <td>30</td>\n",
              "      <td>False</td>\n",
              "    </tr>\n",
              "    <tr>\n",
              "      <th>...</th>\n",
              "      <td>...</td>\n",
              "      <td>...</td>\n",
              "      <td>...</td>\n",
              "      <td>...</td>\n",
              "      <td>...</td>\n",
              "      <td>...</td>\n",
              "      <td>...</td>\n",
              "      <td>...</td>\n",
              "      <td>...</td>\n",
              "      <td>...</td>\n",
              "      <td>...</td>\n",
              "      <td>...</td>\n",
              "      <td>...</td>\n",
              "    </tr>\n",
              "    <tr>\n",
              "      <th>717806</th>\n",
              "      <td>2021-01-31</td>\n",
              "      <td>22</td>\n",
              "      <td>2717</td>\n",
              "      <td>2717.LG유플러스 마곡사옥</td>\n",
              "      <td>정기권</td>\n",
              "      <td>M</td>\n",
              "      <td>40대</td>\n",
              "      <td>1</td>\n",
              "      <td>NaN</td>\n",
              "      <td>\\N</td>\n",
              "      <td>0.0</td>\n",
              "      <td>31</td>\n",
              "      <td>False</td>\n",
              "    </tr>\n",
              "    <tr>\n",
              "      <th>718106</th>\n",
              "      <td>2021-01-31</td>\n",
              "      <td>22</td>\n",
              "      <td>537</td>\n",
              "      <td>537. 한양대후문역 부근</td>\n",
              "      <td>일일권</td>\n",
              "      <td>M</td>\n",
              "      <td>20대</td>\n",
              "      <td>1</td>\n",
              "      <td>NaN</td>\n",
              "      <td>\\N</td>\n",
              "      <td>0.0</td>\n",
              "      <td>54</td>\n",
              "      <td>False</td>\n",
              "    </tr>\n",
              "    <tr>\n",
              "      <th>718242</th>\n",
              "      <td>2021-01-31</td>\n",
              "      <td>23</td>\n",
              "      <td>2919</td>\n",
              "      <td>2919.등나무 근린공원(시립북서울미술관 앞)</td>\n",
              "      <td>정기권</td>\n",
              "      <td>NaN</td>\n",
              "      <td>20대</td>\n",
              "      <td>1</td>\n",
              "      <td>NaN</td>\n",
              "      <td>\\N</td>\n",
              "      <td>0.0</td>\n",
              "      <td>30</td>\n",
              "      <td>False</td>\n",
              "    </tr>\n",
              "    <tr>\n",
              "      <th>718591</th>\n",
              "      <td>2021-01-31</td>\n",
              "      <td>23</td>\n",
              "      <td>264</td>\n",
              "      <td>264. 교보생명보험 앞</td>\n",
              "      <td>정기권</td>\n",
              "      <td>M</td>\n",
              "      <td>30대</td>\n",
              "      <td>1</td>\n",
              "      <td>NaN</td>\n",
              "      <td>\\N</td>\n",
              "      <td>0.0</td>\n",
              "      <td>120</td>\n",
              "      <td>False</td>\n",
              "    </tr>\n",
              "    <tr>\n",
              "      <th>718619</th>\n",
              "      <td>2021-01-31</td>\n",
              "      <td>23</td>\n",
              "      <td>364</td>\n",
              "      <td>364. 창신역 1번출구 앞</td>\n",
              "      <td>정기권</td>\n",
              "      <td>M</td>\n",
              "      <td>40대</td>\n",
              "      <td>1</td>\n",
              "      <td>NaN</td>\n",
              "      <td>\\N</td>\n",
              "      <td>0.0</td>\n",
              "      <td>22</td>\n",
              "      <td>False</td>\n",
              "    </tr>\n",
              "  </tbody>\n",
              "</table>\n",
              "<p>4569 rows × 13 columns</p>\n",
              "</div>"
            ],
            "text/plain": [
              "              대여일자  대여시간  대여소번호  ... 이동거리 사용시간   temp\n",
              "57      2021-01-01     0   1946  ...  0.0   60  False\n",
              "78      2021-01-01     0   4117  ...  0.0   52  False\n",
              "240     2021-01-01     0   2169  ...  0.0   10  False\n",
              "311     2021-01-01     0   2702  ...  0.0  108  False\n",
              "397     2021-01-01     1   1404  ...  0.0   30  False\n",
              "...            ...   ...    ...  ...  ...  ...    ...\n",
              "717806  2021-01-31    22   2717  ...  0.0   31  False\n",
              "718106  2021-01-31    22    537  ...  0.0   54  False\n",
              "718242  2021-01-31    23   2919  ...  0.0   30  False\n",
              "718591  2021-01-31    23    264  ...  0.0  120  False\n",
              "718619  2021-01-31    23    364  ...  0.0   22  False\n",
              "\n",
              "[4569 rows x 13 columns]"
            ]
          },
          "metadata": {
            "tags": []
          },
          "execution_count": 43
        }
      ]
    },
    {
      "cell_type": "code",
      "metadata": {
        "id": "PzLOM7apxUdj"
      },
      "source": [
        ""
      ],
      "execution_count": null,
      "outputs": []
    },
    {
      "cell_type": "code",
      "metadata": {
        "id": "RO76nhMnxdqy"
      },
      "source": [
        "# 비정상적인 값은 효과적인 처리를 위해 결측치로 채우기\n",
        "bike_data.loc[bike_data['탄소량'] == '\\\\N', '탄소량'] = np.nan"
      ],
      "execution_count": null,
      "outputs": []
    },
    {
      "cell_type": "code",
      "metadata": {
        "id": "lV6viyaAxk_U"
      },
      "source": [
        "# 결측치 개수 확인\n"
      ],
      "execution_count": null,
      "outputs": []
    },
    {
      "cell_type": "code",
      "metadata": {
        "id": "BYtRzZaPxqI0"
      },
      "source": [
        ""
      ],
      "execution_count": null,
      "outputs": []
    },
    {
      "cell_type": "code",
      "metadata": {
        "id": "j-gJlkJIxoBo"
      },
      "source": [
        "# 임시로 생성한 temp 컬럼 삭제\n",
        "bike_data.drop(columns=['temp'], inplace=True)"
      ],
      "execution_count": null,
      "outputs": []
    },
    {
      "cell_type": "code",
      "metadata": {
        "colab": {
          "base_uri": "https://localhost:8080/",
          "height": 306
        },
        "id": "FJ1jZ5QiSBR0",
        "outputId": "fe7284db-e605-467c-d279-fc42ecef7b51"
      },
      "source": [
        "bike_data.head()"
      ],
      "execution_count": null,
      "outputs": [
        {
          "output_type": "execute_result",
          "data": {
            "text/html": [
              "<div>\n",
              "<style scoped>\n",
              "    .dataframe tbody tr th:only-of-type {\n",
              "        vertical-align: middle;\n",
              "    }\n",
              "\n",
              "    .dataframe tbody tr th {\n",
              "        vertical-align: top;\n",
              "    }\n",
              "\n",
              "    .dataframe thead th {\n",
              "        text-align: right;\n",
              "    }\n",
              "</style>\n",
              "<table border=\"1\" class=\"dataframe\">\n",
              "  <thead>\n",
              "    <tr style=\"text-align: right;\">\n",
              "      <th></th>\n",
              "      <th>대여일자</th>\n",
              "      <th>대여시간</th>\n",
              "      <th>대여소번호</th>\n",
              "      <th>대여소명</th>\n",
              "      <th>대여구분코드</th>\n",
              "      <th>성별</th>\n",
              "      <th>연령대코드</th>\n",
              "      <th>이용건수</th>\n",
              "      <th>운동량</th>\n",
              "      <th>탄소량</th>\n",
              "      <th>이동거리</th>\n",
              "      <th>사용시간</th>\n",
              "    </tr>\n",
              "  </thead>\n",
              "  <tbody>\n",
              "    <tr>\n",
              "      <th>0</th>\n",
              "      <td>2021-01-01</td>\n",
              "      <td>0</td>\n",
              "      <td>1347</td>\n",
              "      <td>1347. 길음래미안아파트817동 상가 앞</td>\n",
              "      <td>정기권</td>\n",
              "      <td>NaN</td>\n",
              "      <td>~10대</td>\n",
              "      <td>2</td>\n",
              "      <td>28.90</td>\n",
              "      <td>0.23</td>\n",
              "      <td>992.78</td>\n",
              "      <td>13</td>\n",
              "    </tr>\n",
              "    <tr>\n",
              "      <th>1</th>\n",
              "      <td>2021-01-01</td>\n",
              "      <td>0</td>\n",
              "      <td>1349</td>\n",
              "      <td>1349. 월계2교 버스정류장 앞</td>\n",
              "      <td>정기권</td>\n",
              "      <td>NaN</td>\n",
              "      <td>~10대</td>\n",
              "      <td>1</td>\n",
              "      <td>34.38</td>\n",
              "      <td>0.26</td>\n",
              "      <td>1127.50</td>\n",
              "      <td>10</td>\n",
              "    </tr>\n",
              "    <tr>\n",
              "      <th>2</th>\n",
              "      <td>2021-01-01</td>\n",
              "      <td>0</td>\n",
              "      <td>1168</td>\n",
              "      <td>1168. 마곡엠밸리10단지 앞</td>\n",
              "      <td>정기권</td>\n",
              "      <td>NaN</td>\n",
              "      <td>~10대</td>\n",
              "      <td>1</td>\n",
              "      <td>0.00</td>\n",
              "      <td>0.00</td>\n",
              "      <td>0.00</td>\n",
              "      <td>7</td>\n",
              "    </tr>\n",
              "    <tr>\n",
              "      <th>3</th>\n",
              "      <td>2021-01-01</td>\n",
              "      <td>0</td>\n",
              "      <td>2619</td>\n",
              "      <td>2619. 석촌고분역 4번출구</td>\n",
              "      <td>정기권</td>\n",
              "      <td>NaN</td>\n",
              "      <td>~10대</td>\n",
              "      <td>1</td>\n",
              "      <td>38.75</td>\n",
              "      <td>0.38</td>\n",
              "      <td>1658.34</td>\n",
              "      <td>14</td>\n",
              "    </tr>\n",
              "    <tr>\n",
              "      <th>4</th>\n",
              "      <td>2021-01-01</td>\n",
              "      <td>0</td>\n",
              "      <td>536</td>\n",
              "      <td>536. 행당역 2번출구 앞</td>\n",
              "      <td>정기권</td>\n",
              "      <td>NaN</td>\n",
              "      <td>~10대</td>\n",
              "      <td>1</td>\n",
              "      <td>12.96</td>\n",
              "      <td>0.17</td>\n",
              "      <td>743.88</td>\n",
              "      <td>5</td>\n",
              "    </tr>\n",
              "  </tbody>\n",
              "</table>\n",
              "</div>"
            ],
            "text/plain": [
              "         대여일자  대여시간  대여소번호                     대여소명  ...    운동량   탄소량     이동거리  사용시간\n",
              "0  2021-01-01     0   1347  1347. 길음래미안아파트817동 상가 앞  ...  28.90  0.23   992.78    13\n",
              "1  2021-01-01     0   1349       1349. 월계2교 버스정류장 앞  ...  34.38  0.26  1127.50    10\n",
              "2  2021-01-01     0   1168        1168. 마곡엠밸리10단지 앞  ...   0.00  0.00     0.00     7\n",
              "3  2021-01-01     0   2619         2619. 석촌고분역 4번출구  ...  38.75  0.38  1658.34    14\n",
              "4  2021-01-01     0    536          536. 행당역 2번출구 앞  ...  12.96  0.17   743.88     5\n",
              "\n",
              "[5 rows x 12 columns]"
            ]
          },
          "metadata": {
            "tags": []
          },
          "execution_count": 48
        }
      ]
    },
    {
      "cell_type": "code",
      "metadata": {
        "id": "z12abjfAx1ij"
      },
      "source": [
        "# 데이터 타입 문자열에서 실수형으로 변환\n",
        "bike_data['탄소량'] = bike_data['탄소량'].astype(float)"
      ],
      "execution_count": null,
      "outputs": []
    },
    {
      "cell_type": "code",
      "metadata": {
        "id": "sdOPqUfHx64N",
        "colab": {
          "base_uri": "https://localhost:8080/"
        },
        "outputId": "415dc8ab-8cd6-4a43-fb35-c7a9fcc37674"
      },
      "source": [
        "bike_data.info()"
      ],
      "execution_count": null,
      "outputs": [
        {
          "output_type": "stream",
          "text": [
            "<class 'pandas.core.frame.DataFrame'>\n",
            "RangeIndex: 718857 entries, 0 to 718856\n",
            "Data columns (total 12 columns):\n",
            " #   Column  Non-Null Count   Dtype  \n",
            "---  ------  --------------   -----  \n",
            " 0   대여일자    718857 non-null  object \n",
            " 1   대여시간    718857 non-null  int64  \n",
            " 2   대여소번호   718857 non-null  int64  \n",
            " 3   대여소명    718857 non-null  object \n",
            " 4   대여구분코드  718857 non-null  object \n",
            " 5   성별      401235 non-null  object \n",
            " 6   연령대코드   718857 non-null  object \n",
            " 7   이용건수    718857 non-null  int64  \n",
            " 8   운동량     714288 non-null  float64\n",
            " 9   탄소량     714288 non-null  float64\n",
            " 10  이동거리    718857 non-null  float64\n",
            " 11  사용시간    718857 non-null  int64  \n",
            "dtypes: float64(3), int64(4), object(5)\n",
            "memory usage: 65.8+ MB\n"
          ],
          "name": "stdout"
        }
      ]
    },
    {
      "cell_type": "markdown",
      "metadata": {
        "id": "gU3xm304yiIf"
      },
      "source": [
        "## 데이터 전처리 : 결측치 처리"
      ]
    },
    {
      "cell_type": "code",
      "metadata": {
        "id": "FnxrnheeynAg",
        "colab": {
          "base_uri": "https://localhost:8080/"
        },
        "outputId": "311745d2-0d32-42b8-b7d7-858ee22f35d7"
      },
      "source": [
        "# 결측치 확인\n",
        "bike_data.isnull().sum()"
      ],
      "execution_count": null,
      "outputs": [
        {
          "output_type": "execute_result",
          "data": {
            "text/plain": [
              "대여일자           0\n",
              "대여시간           0\n",
              "대여소번호          0\n",
              "대여소명           0\n",
              "대여구분코드         0\n",
              "성별        317622\n",
              "연령대코드          0\n",
              "이용건수           0\n",
              "운동량         4569\n",
              "탄소량         4569\n",
              "이동거리           0\n",
              "사용시간           0\n",
              "dtype: int64"
            ]
          },
          "metadata": {
            "tags": []
          },
          "execution_count": 51
        }
      ]
    },
    {
      "cell_type": "markdown",
      "metadata": {
        "id": "MBT4AO9Fy2zD"
      },
      "source": [
        "### 성별 컬럼 데이터를 살펴볼까요?"
      ]
    },
    {
      "cell_type": "code",
      "metadata": {
        "id": "84DVij4py1_y",
        "colab": {
          "base_uri": "https://localhost:8080/"
        },
        "outputId": "96a920c1-4af7-4780-8f36-36886cb09624"
      },
      "source": [
        "# 성별 컬럼의 범주형 데이터 확인하기\n",
        "bike_data['성별'].unique()"
      ],
      "execution_count": null,
      "outputs": [
        {
          "output_type": "execute_result",
          "data": {
            "text/plain": [
              "array([nan, 'F', 'M', 'f', 'm'], dtype=object)"
            ]
          },
          "metadata": {
            "tags": []
          },
          "execution_count": 52
        }
      ]
    },
    {
      "cell_type": "code",
      "metadata": {
        "id": "CXPsJD89y_xj",
        "colab": {
          "base_uri": "https://localhost:8080/"
        },
        "outputId": "84d200c9-c18b-4dc8-b7a3-e14f0e5fc882"
      },
      "source": [
        "# 성별 컬럼의 빈도수 확인\n",
        "bike_data['성별'].value_counts()"
      ],
      "execution_count": null,
      "outputs": [
        {
          "output_type": "execute_result",
          "data": {
            "text/plain": [
              "M    262477\n",
              "F    138500\n",
              "m       212\n",
              "f        46\n",
              "Name: 성별, dtype: int64"
            ]
          },
          "metadata": {
            "tags": []
          },
          "execution_count": 54
        }
      ]
    },
    {
      "cell_type": "code",
      "metadata": {
        "colab": {
          "base_uri": "https://localhost:8080/",
          "height": 546
        },
        "id": "jrMoQuPmXZW9",
        "outputId": "f1102e40-b01f-4820-bfdc-8cab779e20b3"
      },
      "source": [
        "bike_data.sample(10)"
      ],
      "execution_count": null,
      "outputs": [
        {
          "output_type": "execute_result",
          "data": {
            "text/html": [
              "<div>\n",
              "<style scoped>\n",
              "    .dataframe tbody tr th:only-of-type {\n",
              "        vertical-align: middle;\n",
              "    }\n",
              "\n",
              "    .dataframe tbody tr th {\n",
              "        vertical-align: top;\n",
              "    }\n",
              "\n",
              "    .dataframe thead th {\n",
              "        text-align: right;\n",
              "    }\n",
              "</style>\n",
              "<table border=\"1\" class=\"dataframe\">\n",
              "  <thead>\n",
              "    <tr style=\"text-align: right;\">\n",
              "      <th></th>\n",
              "      <th>대여일자</th>\n",
              "      <th>대여시간</th>\n",
              "      <th>대여소번호</th>\n",
              "      <th>대여소명</th>\n",
              "      <th>대여구분코드</th>\n",
              "      <th>성별</th>\n",
              "      <th>연령대코드</th>\n",
              "      <th>이용건수</th>\n",
              "      <th>운동량</th>\n",
              "      <th>탄소량</th>\n",
              "      <th>이동거리</th>\n",
              "      <th>사용시간</th>\n",
              "    </tr>\n",
              "  </thead>\n",
              "  <tbody>\n",
              "    <tr>\n",
              "      <th>27938</th>\n",
              "      <td>2021-01-02</td>\n",
              "      <td>13</td>\n",
              "      <td>1131</td>\n",
              "      <td>1131. 꿈돌이공원 앞</td>\n",
              "      <td>정기권</td>\n",
              "      <td>M</td>\n",
              "      <td>20대</td>\n",
              "      <td>1</td>\n",
              "      <td>53.54</td>\n",
              "      <td>0.48</td>\n",
              "      <td>2080.00</td>\n",
              "      <td>11</td>\n",
              "    </tr>\n",
              "    <tr>\n",
              "      <th>496763</th>\n",
              "      <td>2021-01-24</td>\n",
              "      <td>19</td>\n",
              "      <td>1160</td>\n",
              "      <td>1160. 양천향교역 7번출구앞</td>\n",
              "      <td>정기권</td>\n",
              "      <td>M</td>\n",
              "      <td>30대</td>\n",
              "      <td>2</td>\n",
              "      <td>54.81</td>\n",
              "      <td>0.35</td>\n",
              "      <td>1486.84</td>\n",
              "      <td>10</td>\n",
              "    </tr>\n",
              "    <tr>\n",
              "      <th>216348</th>\n",
              "      <td>2021-01-13</td>\n",
              "      <td>20</td>\n",
              "      <td>925</td>\n",
              "      <td>925. 불광역 2번출구</td>\n",
              "      <td>정기권</td>\n",
              "      <td>NaN</td>\n",
              "      <td>30대</td>\n",
              "      <td>1</td>\n",
              "      <td>19.11</td>\n",
              "      <td>0.25</td>\n",
              "      <td>1072.51</td>\n",
              "      <td>14</td>\n",
              "    </tr>\n",
              "    <tr>\n",
              "      <th>536035</th>\n",
              "      <td>2021-01-25</td>\n",
              "      <td>18</td>\n",
              "      <td>3772</td>\n",
              "      <td>3772. 길성그랑프리텔아파트</td>\n",
              "      <td>정기권</td>\n",
              "      <td>F</td>\n",
              "      <td>20대</td>\n",
              "      <td>1</td>\n",
              "      <td>18.26</td>\n",
              "      <td>0.19</td>\n",
              "      <td>809.06</td>\n",
              "      <td>7</td>\n",
              "    </tr>\n",
              "    <tr>\n",
              "      <th>485326</th>\n",
              "      <td>2021-01-24</td>\n",
              "      <td>16</td>\n",
              "      <td>1002</td>\n",
              "      <td>1002. 해공공원(천호동)</td>\n",
              "      <td>정기권</td>\n",
              "      <td>NaN</td>\n",
              "      <td>30대</td>\n",
              "      <td>2</td>\n",
              "      <td>208.77</td>\n",
              "      <td>2.62</td>\n",
              "      <td>11275.06</td>\n",
              "      <td>61</td>\n",
              "    </tr>\n",
              "    <tr>\n",
              "      <th>223639</th>\n",
              "      <td>2021-01-14</td>\n",
              "      <td>8</td>\n",
              "      <td>1182</td>\n",
              "      <td>1182. KBS 스포츠월드</td>\n",
              "      <td>정기권</td>\n",
              "      <td>NaN</td>\n",
              "      <td>50대</td>\n",
              "      <td>1</td>\n",
              "      <td>45.22</td>\n",
              "      <td>0.31</td>\n",
              "      <td>1343.33</td>\n",
              "      <td>9</td>\n",
              "    </tr>\n",
              "    <tr>\n",
              "      <th>77720</th>\n",
              "      <td>2021-01-04</td>\n",
              "      <td>16</td>\n",
              "      <td>1962</td>\n",
              "      <td>1962. 가리봉동주민센터</td>\n",
              "      <td>정기권</td>\n",
              "      <td>NaN</td>\n",
              "      <td>30대</td>\n",
              "      <td>1</td>\n",
              "      <td>0.00</td>\n",
              "      <td>0.00</td>\n",
              "      <td>0.00</td>\n",
              "      <td>49</td>\n",
              "    </tr>\n",
              "    <tr>\n",
              "      <th>495258</th>\n",
              "      <td>2021-01-24</td>\n",
              "      <td>18</td>\n",
              "      <td>2622</td>\n",
              "      <td>2622. 올림픽공원역 3번출구</td>\n",
              "      <td>일일권</td>\n",
              "      <td>F</td>\n",
              "      <td>20대</td>\n",
              "      <td>3</td>\n",
              "      <td>210.67</td>\n",
              "      <td>2.33</td>\n",
              "      <td>10058.63</td>\n",
              "      <td>88</td>\n",
              "    </tr>\n",
              "    <tr>\n",
              "      <th>568618</th>\n",
              "      <td>2021-01-26</td>\n",
              "      <td>19</td>\n",
              "      <td>2288</td>\n",
              "      <td>2288. 안골마을입구</td>\n",
              "      <td>정기권</td>\n",
              "      <td>NaN</td>\n",
              "      <td>60대</td>\n",
              "      <td>1</td>\n",
              "      <td>13.57</td>\n",
              "      <td>0.12</td>\n",
              "      <td>527.15</td>\n",
              "      <td>3</td>\n",
              "    </tr>\n",
              "    <tr>\n",
              "      <th>605254</th>\n",
              "      <td>2021-01-27</td>\n",
              "      <td>18</td>\n",
              "      <td>2355</td>\n",
              "      <td>2355. 삼성역 5~6번 출구 사이</td>\n",
              "      <td>정기권</td>\n",
              "      <td>M</td>\n",
              "      <td>20대</td>\n",
              "      <td>1</td>\n",
              "      <td>155.37</td>\n",
              "      <td>1.25</td>\n",
              "      <td>5374.68</td>\n",
              "      <td>39</td>\n",
              "    </tr>\n",
              "  </tbody>\n",
              "</table>\n",
              "</div>"
            ],
            "text/plain": [
              "              대여일자  대여시간  대여소번호  ...   탄소량      이동거리 사용시간\n",
              "27938   2021-01-02    13   1131  ...  0.48   2080.00   11\n",
              "496763  2021-01-24    19   1160  ...  0.35   1486.84   10\n",
              "216348  2021-01-13    20    925  ...  0.25   1072.51   14\n",
              "536035  2021-01-25    18   3772  ...  0.19    809.06    7\n",
              "485326  2021-01-24    16   1002  ...  2.62  11275.06   61\n",
              "223639  2021-01-14     8   1182  ...  0.31   1343.33    9\n",
              "77720   2021-01-04    16   1962  ...  0.00      0.00   49\n",
              "495258  2021-01-24    18   2622  ...  2.33  10058.63   88\n",
              "568618  2021-01-26    19   2288  ...  0.12    527.15    3\n",
              "605254  2021-01-27    18   2355  ...  1.25   5374.68   39\n",
              "\n",
              "[10 rows x 12 columns]"
            ]
          },
          "metadata": {
            "tags": []
          },
          "execution_count": 55
        }
      ]
    },
    {
      "cell_type": "code",
      "metadata": {
        "id": "UZQV7R7TzToY"
      },
      "source": [
        "# 동일 카테고리 값 M, m, F, f 혼용 --> 대문자 일괄 통일\n",
        "# str.upper()\n",
        "bike_data['성별'] = bike_data['성별'].str.upper()"
      ],
      "execution_count": null,
      "outputs": []
    },
    {
      "cell_type": "code",
      "metadata": {
        "id": "brpO2czIzYFH",
        "colab": {
          "base_uri": "https://localhost:8080/"
        },
        "outputId": "8a4e4e37-ec0c-49d6-e3b6-01a24741ded9"
      },
      "source": [
        "# 성별 컬럼의 빈도수 확인\n",
        "bike_data['성별'].value_counts()"
      ],
      "execution_count": null,
      "outputs": [
        {
          "output_type": "execute_result",
          "data": {
            "text/plain": [
              "M    262689\n",
              "F    138546\n",
              "Name: 성별, dtype: int64"
            ]
          },
          "metadata": {
            "tags": []
          },
          "execution_count": 58
        }
      ]
    },
    {
      "cell_type": "code",
      "metadata": {
        "id": "2iorrUU1XtDt",
        "colab": {
          "base_uri": "https://localhost:8080/",
          "height": 248
        },
        "outputId": "abc6b4b7-d45c-4c0e-8700-4e5d2dd530bb"
      },
      "source": [
        "# Pie 차트로 시각화\n",
        "result = bike_data['성별'].value_counts()\n",
        "\n",
        "# 시각화\n",
        "result.plot.pie(autopct='%1.1f%%')\n",
        "plt.show()\n"
      ],
      "execution_count": null,
      "outputs": [
        {
          "output_type": "display_data",
          "data": {
            "image/png": "[encoded data removed]",
            "text/plain": [
              "<Figure size 432x288 with 1 Axes>"
            ]
          },
          "metadata": {
            "tags": [],
            "image/png": {
              "width": 246,
              "height": 231
            }
          }
        }
      ]
    },
    {
      "cell_type": "code",
      "metadata": {
        "id": "EoV_4PIJyuMY",
        "colab": {
          "base_uri": "https://localhost:8080/",
          "height": 606
        },
        "outputId": "425644e9-370d-4e1c-be97-a24838d93ace"
      },
      "source": [
        "# 결측치 데이터 조회\n",
        "bike_data[bike_data['성별'].isnull()]"
      ],
      "execution_count": null,
      "outputs": [
        {
          "output_type": "execute_result",
          "data": {
            "text/html": [
              "<div>\n",
              "<style scoped>\n",
              "    .dataframe tbody tr th:only-of-type {\n",
              "        vertical-align: middle;\n",
              "    }\n",
              "\n",
              "    .dataframe tbody tr th {\n",
              "        vertical-align: top;\n",
              "    }\n",
              "\n",
              "    .dataframe thead th {\n",
              "        text-align: right;\n",
              "    }\n",
              "</style>\n",
              "<table border=\"1\" class=\"dataframe\">\n",
              "  <thead>\n",
              "    <tr style=\"text-align: right;\">\n",
              "      <th></th>\n",
              "      <th>대여일자</th>\n",
              "      <th>대여시간</th>\n",
              "      <th>대여소번호</th>\n",
              "      <th>대여소명</th>\n",
              "      <th>대여구분코드</th>\n",
              "      <th>성별</th>\n",
              "      <th>연령대코드</th>\n",
              "      <th>이용건수</th>\n",
              "      <th>운동량</th>\n",
              "      <th>탄소량</th>\n",
              "      <th>이동거리</th>\n",
              "      <th>사용시간</th>\n",
              "    </tr>\n",
              "  </thead>\n",
              "  <tbody>\n",
              "    <tr>\n",
              "      <th>0</th>\n",
              "      <td>2021-01-01</td>\n",
              "      <td>0</td>\n",
              "      <td>1347</td>\n",
              "      <td>1347. 길음래미안아파트817동 상가 앞</td>\n",
              "      <td>정기권</td>\n",
              "      <td>NaN</td>\n",
              "      <td>~10대</td>\n",
              "      <td>2</td>\n",
              "      <td>28.90</td>\n",
              "      <td>0.23</td>\n",
              "      <td>992.78</td>\n",
              "      <td>13</td>\n",
              "    </tr>\n",
              "    <tr>\n",
              "      <th>1</th>\n",
              "      <td>2021-01-01</td>\n",
              "      <td>0</td>\n",
              "      <td>1349</td>\n",
              "      <td>1349. 월계2교 버스정류장 앞</td>\n",
              "      <td>정기권</td>\n",
              "      <td>NaN</td>\n",
              "      <td>~10대</td>\n",
              "      <td>1</td>\n",
              "      <td>34.38</td>\n",
              "      <td>0.26</td>\n",
              "      <td>1127.50</td>\n",
              "      <td>10</td>\n",
              "    </tr>\n",
              "    <tr>\n",
              "      <th>2</th>\n",
              "      <td>2021-01-01</td>\n",
              "      <td>0</td>\n",
              "      <td>1168</td>\n",
              "      <td>1168. 마곡엠밸리10단지 앞</td>\n",
              "      <td>정기권</td>\n",
              "      <td>NaN</td>\n",
              "      <td>~10대</td>\n",
              "      <td>1</td>\n",
              "      <td>0.00</td>\n",
              "      <td>0.00</td>\n",
              "      <td>0.00</td>\n",
              "      <td>7</td>\n",
              "    </tr>\n",
              "    <tr>\n",
              "      <th>3</th>\n",
              "      <td>2021-01-01</td>\n",
              "      <td>0</td>\n",
              "      <td>2619</td>\n",
              "      <td>2619. 석촌고분역 4번출구</td>\n",
              "      <td>정기권</td>\n",
              "      <td>NaN</td>\n",
              "      <td>~10대</td>\n",
              "      <td>1</td>\n",
              "      <td>38.75</td>\n",
              "      <td>0.38</td>\n",
              "      <td>1658.34</td>\n",
              "      <td>14</td>\n",
              "    </tr>\n",
              "    <tr>\n",
              "      <th>4</th>\n",
              "      <td>2021-01-01</td>\n",
              "      <td>0</td>\n",
              "      <td>536</td>\n",
              "      <td>536. 행당역 2번출구 앞</td>\n",
              "      <td>정기권</td>\n",
              "      <td>NaN</td>\n",
              "      <td>~10대</td>\n",
              "      <td>1</td>\n",
              "      <td>12.96</td>\n",
              "      <td>0.17</td>\n",
              "      <td>743.88</td>\n",
              "      <td>5</td>\n",
              "    </tr>\n",
              "    <tr>\n",
              "      <th>...</th>\n",
              "      <td>...</td>\n",
              "      <td>...</td>\n",
              "      <td>...</td>\n",
              "      <td>...</td>\n",
              "      <td>...</td>\n",
              "      <td>...</td>\n",
              "      <td>...</td>\n",
              "      <td>...</td>\n",
              "      <td>...</td>\n",
              "      <td>...</td>\n",
              "      <td>...</td>\n",
              "      <td>...</td>\n",
              "    </tr>\n",
              "    <tr>\n",
              "      <th>718851</th>\n",
              "      <td>2021-01-31</td>\n",
              "      <td>23</td>\n",
              "      <td>3789</td>\n",
              "      <td>3789. 염창나들목</td>\n",
              "      <td>단체권</td>\n",
              "      <td>NaN</td>\n",
              "      <td>~10대</td>\n",
              "      <td>2</td>\n",
              "      <td>104.92</td>\n",
              "      <td>0.82</td>\n",
              "      <td>3532.68</td>\n",
              "      <td>26</td>\n",
              "    </tr>\n",
              "    <tr>\n",
              "      <th>718852</th>\n",
              "      <td>2021-01-31</td>\n",
              "      <td>23</td>\n",
              "      <td>207</td>\n",
              "      <td>207. 여의나루역 1번출구 앞</td>\n",
              "      <td>단체권</td>\n",
              "      <td>NaN</td>\n",
              "      <td>~10대</td>\n",
              "      <td>5</td>\n",
              "      <td>916.66</td>\n",
              "      <td>8.66</td>\n",
              "      <td>37335.95</td>\n",
              "      <td>219</td>\n",
              "    </tr>\n",
              "    <tr>\n",
              "      <th>718853</th>\n",
              "      <td>2021-01-31</td>\n",
              "      <td>23</td>\n",
              "      <td>3549</td>\n",
              "      <td>3549.건영아파트 앞</td>\n",
              "      <td>단체권</td>\n",
              "      <td>NaN</td>\n",
              "      <td>20대</td>\n",
              "      <td>2</td>\n",
              "      <td>492.87</td>\n",
              "      <td>4.51</td>\n",
              "      <td>19447.10</td>\n",
              "      <td>133</td>\n",
              "    </tr>\n",
              "    <tr>\n",
              "      <th>718854</th>\n",
              "      <td>2021-01-31</td>\n",
              "      <td>23</td>\n",
              "      <td>248</td>\n",
              "      <td>248. 초원아파트 앞</td>\n",
              "      <td>단체권</td>\n",
              "      <td>NaN</td>\n",
              "      <td>20대</td>\n",
              "      <td>2</td>\n",
              "      <td>348.43</td>\n",
              "      <td>2.91</td>\n",
              "      <td>12569.64</td>\n",
              "      <td>90</td>\n",
              "    </tr>\n",
              "    <tr>\n",
              "      <th>718855</th>\n",
              "      <td>2021-01-31</td>\n",
              "      <td>23</td>\n",
              "      <td>131</td>\n",
              "      <td>131. 증산2교</td>\n",
              "      <td>단체권</td>\n",
              "      <td>NaN</td>\n",
              "      <td>20대</td>\n",
              "      <td>2</td>\n",
              "      <td>98.10</td>\n",
              "      <td>0.77</td>\n",
              "      <td>3302.87</td>\n",
              "      <td>20</td>\n",
              "    </tr>\n",
              "  </tbody>\n",
              "</table>\n",
              "<p>317622 rows × 12 columns</p>\n",
              "</div>"
            ],
            "text/plain": [
              "              대여일자  대여시간  대여소번호  ...   탄소량      이동거리 사용시간\n",
              "0       2021-01-01     0   1347  ...  0.23    992.78   13\n",
              "1       2021-01-01     0   1349  ...  0.26   1127.50   10\n",
              "2       2021-01-01     0   1168  ...  0.00      0.00    7\n",
              "3       2021-01-01     0   2619  ...  0.38   1658.34   14\n",
              "4       2021-01-01     0    536  ...  0.17    743.88    5\n",
              "...            ...   ...    ...  ...   ...       ...  ...\n",
              "718851  2021-01-31    23   3789  ...  0.82   3532.68   26\n",
              "718852  2021-01-31    23    207  ...  8.66  37335.95  219\n",
              "718853  2021-01-31    23   3549  ...  4.51  19447.10  133\n",
              "718854  2021-01-31    23    248  ...  2.91  12569.64   90\n",
              "718855  2021-01-31    23    131  ...  0.77   3302.87   20\n",
              "\n",
              "[317622 rows x 12 columns]"
            ]
          },
          "metadata": {
            "tags": []
          },
          "execution_count": 63
        }
      ]
    },
    {
      "cell_type": "code",
      "metadata": {
        "id": "nOS30p8uzfrc",
        "colab": {
          "base_uri": "https://localhost:8080/"
        },
        "outputId": "797d0071-2cf9-4ec1-e90d-32e31c631340"
      },
      "source": [
        "bike_data['성별'].isnull().sum()"
      ],
      "execution_count": null,
      "outputs": [
        {
          "output_type": "execute_result",
          "data": {
            "text/plain": [
              "0"
            ]
          },
          "metadata": {
            "tags": []
          },
          "execution_count": 66
        }
      ]
    },
    {
      "cell_type": "code",
      "metadata": {
        "id": "YkDOY_eAzuVG"
      },
      "source": [
        "# 결측값을 'U'(Unknown)으로 처리, 범주형 데이터이기에 대체값은 없다. \n",
        "#fillna(value)\n",
        "# {'성별':'U'}\n",
        "bike_data.fillna({'성별':'U'}, inplace=True)  # 또는 bike_data['성별'].fillna('U')\n",
        "\n"
      ],
      "execution_count": null,
      "outputs": []
    },
    {
      "cell_type": "code",
      "metadata": {
        "id": "RWFBqt2-0JFi",
        "colab": {
          "base_uri": "https://localhost:8080/"
        },
        "outputId": "119f2527-f39f-48a5-b1a9-725dc4c31b6a"
      },
      "source": [
        "bike_data['성별'].value_counts(normalize=True)"
      ],
      "execution_count": null,
      "outputs": [
        {
          "output_type": "execute_result",
          "data": {
            "text/plain": [
              "U    0.441843\n",
              "M    0.365426\n",
              "F    0.192731\n",
              "Name: 성별, dtype: float64"
            ]
          },
          "metadata": {
            "tags": []
          },
          "execution_count": 68
        }
      ]
    },
    {
      "cell_type": "markdown",
      "metadata": {
        "id": "AlUVYAVi22xS"
      },
      "source": [
        "### 운동량 컬럼 데이터를 살펴볼까요?"
      ]
    },
    {
      "cell_type": "code",
      "metadata": {
        "id": "8lwS1qKx25qe",
        "colab": {
          "base_uri": "https://localhost:8080/"
        },
        "outputId": "29ba1553-0830-430a-ca26-419379c085b8"
      },
      "source": [
        "# 결측치 데이터 조회\n",
        "bike_data.isnull().sum()"
      ],
      "execution_count": null,
      "outputs": [
        {
          "output_type": "execute_result",
          "data": {
            "text/plain": [
              "대여일자         0\n",
              "대여시간         0\n",
              "대여소번호        0\n",
              "대여소명         0\n",
              "대여구분코드       0\n",
              "성별           0\n",
              "연령대코드        0\n",
              "이용건수         0\n",
              "운동량       4569\n",
              "탄소량       4569\n",
              "이동거리         0\n",
              "사용시간         0\n",
              "dtype: int64"
            ]
          },
          "metadata": {
            "tags": []
          },
          "execution_count": 69
        }
      ]
    },
    {
      "cell_type": "code",
      "metadata": {
        "id": "f1oHsKDk5Lej",
        "colab": {
          "base_uri": "https://localhost:8080/",
          "height": 297
        },
        "outputId": "009684d6-676e-4acb-f750-cf8ab3c45016"
      },
      "source": [
        "# 운동량의 평균값은?\n",
        "bike_data.describe() #bike_data['운동량].mean()"
      ],
      "execution_count": null,
      "outputs": [
        {
          "output_type": "execute_result",
          "data": {
            "text/html": [
              "<div>\n",
              "<style scoped>\n",
              "    .dataframe tbody tr th:only-of-type {\n",
              "        vertical-align: middle;\n",
              "    }\n",
              "\n",
              "    .dataframe tbody tr th {\n",
              "        vertical-align: top;\n",
              "    }\n",
              "\n",
              "    .dataframe thead th {\n",
              "        text-align: right;\n",
              "    }\n",
              "</style>\n",
              "<table border=\"1\" class=\"dataframe\">\n",
              "  <thead>\n",
              "    <tr style=\"text-align: right;\">\n",
              "      <th></th>\n",
              "      <th>대여시간</th>\n",
              "      <th>대여소번호</th>\n",
              "      <th>이용건수</th>\n",
              "      <th>운동량</th>\n",
              "      <th>탄소량</th>\n",
              "      <th>이동거리</th>\n",
              "      <th>사용시간</th>\n",
              "    </tr>\n",
              "  </thead>\n",
              "  <tbody>\n",
              "    <tr>\n",
              "      <th>count</th>\n",
              "      <td>718857.000000</td>\n",
              "      <td>718857.000000</td>\n",
              "      <td>718857.000000</td>\n",
              "      <td>714288.000000</td>\n",
              "      <td>714288.000000</td>\n",
              "      <td>718857.000000</td>\n",
              "      <td>718857.000000</td>\n",
              "    </tr>\n",
              "    <tr>\n",
              "      <th>mean</th>\n",
              "      <td>14.197045</td>\n",
              "      <td>1447.329716</td>\n",
              "      <td>1.088958</td>\n",
              "      <td>82.052553</td>\n",
              "      <td>0.708358</td>\n",
              "      <td>3033.891521</td>\n",
              "      <td>28.062467</td>\n",
              "    </tr>\n",
              "    <tr>\n",
              "      <th>std</th>\n",
              "      <td>5.245045</td>\n",
              "      <td>1015.266910</td>\n",
              "      <td>0.339713</td>\n",
              "      <td>117.619759</td>\n",
              "      <td>0.994735</td>\n",
              "      <td>4280.828411</td>\n",
              "      <td>33.246788</td>\n",
              "    </tr>\n",
              "    <tr>\n",
              "      <th>min</th>\n",
              "      <td>0.000000</td>\n",
              "      <td>3.000000</td>\n",
              "      <td>1.000000</td>\n",
              "      <td>0.000000</td>\n",
              "      <td>0.000000</td>\n",
              "      <td>0.000000</td>\n",
              "      <td>0.000000</td>\n",
              "    </tr>\n",
              "    <tr>\n",
              "      <th>25%</th>\n",
              "      <td>11.000000</td>\n",
              "      <td>600.000000</td>\n",
              "      <td>1.000000</td>\n",
              "      <td>21.090000</td>\n",
              "      <td>0.190000</td>\n",
              "      <td>789.020000</td>\n",
              "      <td>8.000000</td>\n",
              "    </tr>\n",
              "    <tr>\n",
              "      <th>50%</th>\n",
              "      <td>15.000000</td>\n",
              "      <td>1230.000000</td>\n",
              "      <td>1.000000</td>\n",
              "      <td>45.070000</td>\n",
              "      <td>0.390000</td>\n",
              "      <td>1680.000000</td>\n",
              "      <td>16.000000</td>\n",
              "    </tr>\n",
              "    <tr>\n",
              "      <th>75%</th>\n",
              "      <td>18.000000</td>\n",
              "      <td>2113.000000</td>\n",
              "      <td>1.000000</td>\n",
              "      <td>96.050000</td>\n",
              "      <td>0.830000</td>\n",
              "      <td>3569.610000</td>\n",
              "      <td>37.000000</td>\n",
              "    </tr>\n",
              "    <tr>\n",
              "      <th>max</th>\n",
              "      <td>23.000000</td>\n",
              "      <td>9999.000000</td>\n",
              "      <td>14.000000</td>\n",
              "      <td>8621.750000</td>\n",
              "      <td>57.630000</td>\n",
              "      <td>248420.000000</td>\n",
              "      <td>1753.000000</td>\n",
              "    </tr>\n",
              "  </tbody>\n",
              "</table>\n",
              "</div>"
            ],
            "text/plain": [
              "                대여시간          대여소번호  ...           이동거리           사용시간\n",
              "count  718857.000000  718857.000000  ...  718857.000000  718857.000000\n",
              "mean       14.197045    1447.329716  ...    3033.891521      28.062467\n",
              "std         5.245045    1015.266910  ...    4280.828411      33.246788\n",
              "min         0.000000       3.000000  ...       0.000000       0.000000\n",
              "25%        11.000000     600.000000  ...     789.020000       8.000000\n",
              "50%        15.000000    1230.000000  ...    1680.000000      16.000000\n",
              "75%        18.000000    2113.000000  ...    3569.610000      37.000000\n",
              "max        23.000000    9999.000000  ...  248420.000000    1753.000000\n",
              "\n",
              "[8 rows x 7 columns]"
            ]
          },
          "metadata": {
            "tags": []
          },
          "execution_count": 70
        }
      ]
    },
    {
      "cell_type": "code",
      "metadata": {
        "id": "DoiGtxDT5S6Y"
      },
      "source": [
        "# 탄소량의 평균값은?"
      ],
      "execution_count": null,
      "outputs": []
    },
    {
      "cell_type": "code",
      "metadata": {
        "id": "FdCiZwI35VBj"
      },
      "source": [
        "#[방법1] 결측치를 평균 값으로 대체하다면?\n",
        "condition = {'운동량':bike_data['운동량'].mean(), '탄소량':bike_data['탄소량'].mean()}\n",
        "bike_data.fillna(condition, inplace=True)\n"
      ],
      "execution_count": null,
      "outputs": []
    },
    {
      "cell_type": "code",
      "metadata": {
        "colab": {
          "base_uri": "https://localhost:8080/"
        },
        "id": "71QtwLrIbpjc",
        "outputId": "9b3d4302-85cf-4186-974d-9ce9f81fd088"
      },
      "source": [
        "bike_data.isnull().sum()"
      ],
      "execution_count": null,
      "outputs": [
        {
          "output_type": "execute_result",
          "data": {
            "text/plain": [
              "대여일자      0\n",
              "대여시간      0\n",
              "대여소번호     0\n",
              "대여소명      0\n",
              "대여구분코드    0\n",
              "성별        0\n",
              "연령대코드     0\n",
              "이용건수      0\n",
              "운동량       0\n",
              "탄소량       0\n",
              "이동거리      0\n",
              "사용시간      0\n",
              "dtype: int64"
            ]
          },
          "metadata": {
            "tags": []
          },
          "execution_count": 72
        }
      ]
    },
    {
      "cell_type": "code",
      "metadata": {
        "id": "bmkPnmGB57e_"
      },
      "source": [
        "#[방법2]  결측치가 한개라도 있는 데이터를 삭제한다면?\n",
        "bike_data.dropna(inplace=True)"
      ],
      "execution_count": null,
      "outputs": []
    },
    {
      "cell_type": "code",
      "metadata": {
        "id": "Q_oFP8Ze6kVG"
      },
      "source": [
        "bike_data.isnull().sum()"
      ],
      "execution_count": null,
      "outputs": []
    },
    {
      "cell_type": "markdown",
      "metadata": {
        "id": "UTAUrG2J6m2U"
      },
      "source": [
        "## 이상치 처리"
      ]
    },
    {
      "cell_type": "code",
      "metadata": {
        "id": "rECAccjj6o8U",
        "colab": {
          "base_uri": "https://localhost:8080/",
          "height": 297
        },
        "outputId": "324c171c-f5ea-432c-e741-659c97e468a3"
      },
      "source": [
        "bike_data.describe()"
      ],
      "execution_count": null,
      "outputs": [
        {
          "output_type": "execute_result",
          "data": {
            "text/html": [
              "<div>\n",
              "<style scoped>\n",
              "    .dataframe tbody tr th:only-of-type {\n",
              "        vertical-align: middle;\n",
              "    }\n",
              "\n",
              "    .dataframe tbody tr th {\n",
              "        vertical-align: top;\n",
              "    }\n",
              "\n",
              "    .dataframe thead th {\n",
              "        text-align: right;\n",
              "    }\n",
              "</style>\n",
              "<table border=\"1\" class=\"dataframe\">\n",
              "  <thead>\n",
              "    <tr style=\"text-align: right;\">\n",
              "      <th></th>\n",
              "      <th>대여시간</th>\n",
              "      <th>대여소번호</th>\n",
              "      <th>이용건수</th>\n",
              "      <th>운동량</th>\n",
              "      <th>탄소량</th>\n",
              "      <th>이동거리</th>\n",
              "      <th>사용시간</th>\n",
              "    </tr>\n",
              "  </thead>\n",
              "  <tbody>\n",
              "    <tr>\n",
              "      <th>count</th>\n",
              "      <td>718857.000000</td>\n",
              "      <td>718857.000000</td>\n",
              "      <td>718857.000000</td>\n",
              "      <td>718857.000000</td>\n",
              "      <td>718857.000000</td>\n",
              "      <td>718857.000000</td>\n",
              "      <td>718857.000000</td>\n",
              "    </tr>\n",
              "    <tr>\n",
              "      <th>mean</th>\n",
              "      <td>14.197045</td>\n",
              "      <td>1447.329716</td>\n",
              "      <td>1.088958</td>\n",
              "      <td>82.052553</td>\n",
              "      <td>0.708358</td>\n",
              "      <td>3033.891521</td>\n",
              "      <td>28.062467</td>\n",
              "    </tr>\n",
              "    <tr>\n",
              "      <th>std</th>\n",
              "      <td>5.245045</td>\n",
              "      <td>1015.266910</td>\n",
              "      <td>0.339713</td>\n",
              "      <td>117.245372</td>\n",
              "      <td>0.991568</td>\n",
              "      <td>4280.828411</td>\n",
              "      <td>33.246788</td>\n",
              "    </tr>\n",
              "    <tr>\n",
              "      <th>min</th>\n",
              "      <td>0.000000</td>\n",
              "      <td>3.000000</td>\n",
              "      <td>1.000000</td>\n",
              "      <td>0.000000</td>\n",
              "      <td>0.000000</td>\n",
              "      <td>0.000000</td>\n",
              "      <td>0.000000</td>\n",
              "    </tr>\n",
              "    <tr>\n",
              "      <th>25%</th>\n",
              "      <td>11.000000</td>\n",
              "      <td>600.000000</td>\n",
              "      <td>1.000000</td>\n",
              "      <td>21.220000</td>\n",
              "      <td>0.190000</td>\n",
              "      <td>789.020000</td>\n",
              "      <td>8.000000</td>\n",
              "    </tr>\n",
              "    <tr>\n",
              "      <th>50%</th>\n",
              "      <td>15.000000</td>\n",
              "      <td>1230.000000</td>\n",
              "      <td>1.000000</td>\n",
              "      <td>45.450000</td>\n",
              "      <td>0.400000</td>\n",
              "      <td>1680.000000</td>\n",
              "      <td>16.000000</td>\n",
              "    </tr>\n",
              "    <tr>\n",
              "      <th>75%</th>\n",
              "      <td>18.000000</td>\n",
              "      <td>2113.000000</td>\n",
              "      <td>1.000000</td>\n",
              "      <td>95.470000</td>\n",
              "      <td>0.830000</td>\n",
              "      <td>3569.610000</td>\n",
              "      <td>37.000000</td>\n",
              "    </tr>\n",
              "    <tr>\n",
              "      <th>max</th>\n",
              "      <td>23.000000</td>\n",
              "      <td>9999.000000</td>\n",
              "      <td>14.000000</td>\n",
              "      <td>8621.750000</td>\n",
              "      <td>57.630000</td>\n",
              "      <td>248420.000000</td>\n",
              "      <td>1753.000000</td>\n",
              "    </tr>\n",
              "  </tbody>\n",
              "</table>\n",
              "</div>"
            ],
            "text/plain": [
              "                대여시간          대여소번호  ...           이동거리           사용시간\n",
              "count  718857.000000  718857.000000  ...  718857.000000  718857.000000\n",
              "mean       14.197045    1447.329716  ...    3033.891521      28.062467\n",
              "std         5.245045    1015.266910  ...    4280.828411      33.246788\n",
              "min         0.000000       3.000000  ...       0.000000       0.000000\n",
              "25%        11.000000     600.000000  ...     789.020000       8.000000\n",
              "50%        15.000000    1230.000000  ...    1680.000000      16.000000\n",
              "75%        18.000000    2113.000000  ...    3569.610000      37.000000\n",
              "max        23.000000    9999.000000  ...  248420.000000    1753.000000\n",
              "\n",
              "[8 rows x 7 columns]"
            ]
          },
          "metadata": {
            "tags": []
          },
          "execution_count": 73
        }
      ]
    },
    {
      "cell_type": "markdown",
      "metadata": {
        "id": "JLusfzf264g9"
      },
      "source": [
        "### IQR 기반의 이상치 찾기"
      ]
    },
    {
      "cell_type": "code",
      "metadata": {
        "id": "O8tg8Jnc631_"
      },
      "source": [
        "# IQR 활용한 이상치 함수 구현\n",
        "def outliers_iqr(data, iqr_range):\n",
        "    q1 = np.percentile(data, 25)\n",
        "    q3 = np.percentile(data, 75)\n",
        "    iqr = q3 - q1\n",
        "    lower_bound = q1 - (iqr * iqr_range)\n",
        "    upper_bound = q3 + (iqr * iqr_range)\n",
        "    return data[(data > upper_bound) | (data < lower_bound)].index"
      ],
      "execution_count": null,
      "outputs": []
    },
    {
      "cell_type": "markdown",
      "metadata": {
        "id": "HjHDnT5Oe-5N"
      },
      "source": [
        ""
      ]
    },
    {
      "cell_type": "code",
      "metadata": {
        "id": "Xkg3RzZM8lbV",
        "colab": {
          "base_uri": "https://localhost:8080/"
        },
        "outputId": "d7204350-2be4-4a7d-a0ab-f72ac41038c0"
      },
      "source": [
        "# '이동거리' 컬럼 값 기준으로 이상치 찾기\n",
        "outlier = outliers_iqr(bike_data['이동거리'], 1.5)\n",
        "outlier.size"
      ],
      "execution_count": null,
      "outputs": [
        {
          "output_type": "execute_result",
          "data": {
            "text/plain": [
              "66183"
            ]
          },
          "metadata": {
            "tags": []
          },
          "execution_count": 76
        }
      ]
    },
    {
      "cell_type": "code",
      "metadata": {
        "id": "pRU-Hmjz822w",
        "colab": {
          "base_uri": "https://localhost:8080/"
        },
        "outputId": "38ef7638-0006-4ce5-aa5c-33f5936c7199"
      },
      "source": [
        "# iqr range 를 3으로 조정하면?\n",
        "outlier = outliers_iqr(bike_data['이동거리'], 3)\n",
        "outlier.size"
      ],
      "execution_count": null,
      "outputs": [
        {
          "output_type": "execute_result",
          "data": {
            "text/plain": [
              "29556"
            ]
          },
          "metadata": {
            "tags": []
          },
          "execution_count": 77
        }
      ]
    },
    {
      "cell_type": "code",
      "metadata": {
        "id": "jkG3oGaV8ybX",
        "colab": {
          "base_uri": "https://localhost:8080/",
          "height": 606
        },
        "outputId": "ef702e73-4db2-4a0f-ba10-da11a8863074"
      },
      "source": [
        "# outliers 의 인덱스 값 이용하여 행 조회\n",
        "bike_data.iloc[outlier]"
      ],
      "execution_count": null,
      "outputs": [
        {
          "output_type": "execute_result",
          "data": {
            "text/html": [
              "<div>\n",
              "<style scoped>\n",
              "    .dataframe tbody tr th:only-of-type {\n",
              "        vertical-align: middle;\n",
              "    }\n",
              "\n",
              "    .dataframe tbody tr th {\n",
              "        vertical-align: top;\n",
              "    }\n",
              "\n",
              "    .dataframe thead th {\n",
              "        text-align: right;\n",
              "    }\n",
              "</style>\n",
              "<table border=\"1\" class=\"dataframe\">\n",
              "  <thead>\n",
              "    <tr style=\"text-align: right;\">\n",
              "      <th></th>\n",
              "      <th>대여일자</th>\n",
              "      <th>대여시간</th>\n",
              "      <th>대여소번호</th>\n",
              "      <th>대여소명</th>\n",
              "      <th>대여구분코드</th>\n",
              "      <th>성별</th>\n",
              "      <th>연령대코드</th>\n",
              "      <th>이용건수</th>\n",
              "      <th>운동량</th>\n",
              "      <th>탄소량</th>\n",
              "      <th>이동거리</th>\n",
              "      <th>사용시간</th>\n",
              "    </tr>\n",
              "  </thead>\n",
              "  <tbody>\n",
              "    <tr>\n",
              "      <th>41</th>\n",
              "      <td>2021-01-01</td>\n",
              "      <td>0</td>\n",
              "      <td>709</td>\n",
              "      <td>709. 신정3동 현장민원실 앞</td>\n",
              "      <td>정기권</td>\n",
              "      <td>U</td>\n",
              "      <td>20대</td>\n",
              "      <td>1</td>\n",
              "      <td>478.03</td>\n",
              "      <td>4.31</td>\n",
              "      <td>18571.32</td>\n",
              "      <td>138</td>\n",
              "    </tr>\n",
              "    <tr>\n",
              "      <th>217</th>\n",
              "      <td>2021-01-01</td>\n",
              "      <td>0</td>\n",
              "      <td>458</td>\n",
              "      <td>458. 광화문역 5번출구</td>\n",
              "      <td>정기권</td>\n",
              "      <td>M</td>\n",
              "      <td>30대</td>\n",
              "      <td>1</td>\n",
              "      <td>426.08</td>\n",
              "      <td>3.37</td>\n",
              "      <td>14540.00</td>\n",
              "      <td>88</td>\n",
              "    </tr>\n",
              "    <tr>\n",
              "      <th>318</th>\n",
              "      <td>2021-01-01</td>\n",
              "      <td>0</td>\n",
              "      <td>797</td>\n",
              "      <td>797.목동아파트 1422동 1434동 사잇길</td>\n",
              "      <td>일일권</td>\n",
              "      <td>U</td>\n",
              "      <td>20대</td>\n",
              "      <td>2</td>\n",
              "      <td>281.98</td>\n",
              "      <td>3.00</td>\n",
              "      <td>12946.65</td>\n",
              "      <td>212</td>\n",
              "    </tr>\n",
              "    <tr>\n",
              "      <th>336</th>\n",
              "      <td>2021-01-01</td>\n",
              "      <td>0</td>\n",
              "      <td>2525</td>\n",
              "      <td>2525.반포쇼핑타운 2동 앞</td>\n",
              "      <td>일일권</td>\n",
              "      <td>F</td>\n",
              "      <td>~10대</td>\n",
              "      <td>2</td>\n",
              "      <td>335.76</td>\n",
              "      <td>3.28</td>\n",
              "      <td>14116.22</td>\n",
              "      <td>202</td>\n",
              "    </tr>\n",
              "    <tr>\n",
              "      <th>353</th>\n",
              "      <td>2021-01-01</td>\n",
              "      <td>0</td>\n",
              "      <td>3002</td>\n",
              "      <td>3002.벽산상암스마트큐브</td>\n",
              "      <td>일일권</td>\n",
              "      <td>M</td>\n",
              "      <td>20대</td>\n",
              "      <td>1</td>\n",
              "      <td>738.97</td>\n",
              "      <td>6.37</td>\n",
              "      <td>27442.45</td>\n",
              "      <td>152</td>\n",
              "    </tr>\n",
              "    <tr>\n",
              "      <th>...</th>\n",
              "      <td>...</td>\n",
              "      <td>...</td>\n",
              "      <td>...</td>\n",
              "      <td>...</td>\n",
              "      <td>...</td>\n",
              "      <td>...</td>\n",
              "      <td>...</td>\n",
              "      <td>...</td>\n",
              "      <td>...</td>\n",
              "      <td>...</td>\n",
              "      <td>...</td>\n",
              "      <td>...</td>\n",
              "    </tr>\n",
              "    <tr>\n",
              "      <th>718846</th>\n",
              "      <td>2021-01-31</td>\n",
              "      <td>23</td>\n",
              "      <td>2329</td>\n",
              "      <td>2329. 르네상스호텔사거리 역삼지하보도 2번출구</td>\n",
              "      <td>일일권</td>\n",
              "      <td>M</td>\n",
              "      <td>30대</td>\n",
              "      <td>1</td>\n",
              "      <td>499.05</td>\n",
              "      <td>3.65</td>\n",
              "      <td>15752.91</td>\n",
              "      <td>107</td>\n",
              "    </tr>\n",
              "    <tr>\n",
              "      <th>718848</th>\n",
              "      <td>2021-01-31</td>\n",
              "      <td>23</td>\n",
              "      <td>676</td>\n",
              "      <td>676.FITI시험연구원 앞</td>\n",
              "      <td>일일권</td>\n",
              "      <td>M</td>\n",
              "      <td>40대</td>\n",
              "      <td>1</td>\n",
              "      <td>586.40</td>\n",
              "      <td>4.40</td>\n",
              "      <td>18984.69</td>\n",
              "      <td>112</td>\n",
              "    </tr>\n",
              "    <tr>\n",
              "      <th>718852</th>\n",
              "      <td>2021-01-31</td>\n",
              "      <td>23</td>\n",
              "      <td>207</td>\n",
              "      <td>207. 여의나루역 1번출구 앞</td>\n",
              "      <td>단체권</td>\n",
              "      <td>U</td>\n",
              "      <td>~10대</td>\n",
              "      <td>5</td>\n",
              "      <td>916.66</td>\n",
              "      <td>8.66</td>\n",
              "      <td>37335.95</td>\n",
              "      <td>219</td>\n",
              "    </tr>\n",
              "    <tr>\n",
              "      <th>718853</th>\n",
              "      <td>2021-01-31</td>\n",
              "      <td>23</td>\n",
              "      <td>3549</td>\n",
              "      <td>3549.건영아파트 앞</td>\n",
              "      <td>단체권</td>\n",
              "      <td>U</td>\n",
              "      <td>20대</td>\n",
              "      <td>2</td>\n",
              "      <td>492.87</td>\n",
              "      <td>4.51</td>\n",
              "      <td>19447.10</td>\n",
              "      <td>133</td>\n",
              "    </tr>\n",
              "    <tr>\n",
              "      <th>718854</th>\n",
              "      <td>2021-01-31</td>\n",
              "      <td>23</td>\n",
              "      <td>248</td>\n",
              "      <td>248. 초원아파트 앞</td>\n",
              "      <td>단체권</td>\n",
              "      <td>U</td>\n",
              "      <td>20대</td>\n",
              "      <td>2</td>\n",
              "      <td>348.43</td>\n",
              "      <td>2.91</td>\n",
              "      <td>12569.64</td>\n",
              "      <td>90</td>\n",
              "    </tr>\n",
              "  </tbody>\n",
              "</table>\n",
              "<p>29556 rows × 12 columns</p>\n",
              "</div>"
            ],
            "text/plain": [
              "              대여일자  대여시간  대여소번호  ...   탄소량      이동거리 사용시간\n",
              "41      2021-01-01     0    709  ...  4.31  18571.32  138\n",
              "217     2021-01-01     0    458  ...  3.37  14540.00   88\n",
              "318     2021-01-01     0    797  ...  3.00  12946.65  212\n",
              "336     2021-01-01     0   2525  ...  3.28  14116.22  202\n",
              "353     2021-01-01     0   3002  ...  6.37  27442.45  152\n",
              "...            ...   ...    ...  ...   ...       ...  ...\n",
              "718846  2021-01-31    23   2329  ...  3.65  15752.91  107\n",
              "718848  2021-01-31    23    676  ...  4.40  18984.69  112\n",
              "718852  2021-01-31    23    207  ...  8.66  37335.95  219\n",
              "718853  2021-01-31    23   3549  ...  4.51  19447.10  133\n",
              "718854  2021-01-31    23    248  ...  2.91  12569.64   90\n",
              "\n",
              "[29556 rows x 12 columns]"
            ]
          },
          "metadata": {
            "tags": []
          },
          "execution_count": 78
        }
      ]
    },
    {
      "cell_type": "code",
      "metadata": {
        "id": "M1T_DzBM8yVT"
      },
      "source": [
        "# 이상치 존재하는 행 제거하여 원본에 반영\n",
        "bike_data.drop(outlier, inplace=True)"
      ],
      "execution_count": null,
      "outputs": []
    },
    {
      "cell_type": "code",
      "metadata": {
        "colab": {
          "base_uri": "https://localhost:8080/",
          "height": 297
        },
        "id": "HgOhPINgf1rI",
        "outputId": "8b9fe7f2-d13d-434d-9c1f-587a27ddb7f4"
      },
      "source": [
        "bike_data.describe()"
      ],
      "execution_count": null,
      "outputs": [
        {
          "output_type": "execute_result",
          "data": {
            "text/html": [
              "<div>\n",
              "<style scoped>\n",
              "    .dataframe tbody tr th:only-of-type {\n",
              "        vertical-align: middle;\n",
              "    }\n",
              "\n",
              "    .dataframe tbody tr th {\n",
              "        vertical-align: top;\n",
              "    }\n",
              "\n",
              "    .dataframe thead th {\n",
              "        text-align: right;\n",
              "    }\n",
              "</style>\n",
              "<table border=\"1\" class=\"dataframe\">\n",
              "  <thead>\n",
              "    <tr style=\"text-align: right;\">\n",
              "      <th></th>\n",
              "      <th>대여시간</th>\n",
              "      <th>대여소번호</th>\n",
              "      <th>이용건수</th>\n",
              "      <th>운동량</th>\n",
              "      <th>탄소량</th>\n",
              "      <th>이동거리</th>\n",
              "      <th>사용시간</th>\n",
              "    </tr>\n",
              "  </thead>\n",
              "  <tbody>\n",
              "    <tr>\n",
              "      <th>count</th>\n",
              "      <td>689301.000000</td>\n",
              "      <td>689301.000000</td>\n",
              "      <td>689301.000000</td>\n",
              "      <td>689301.000000</td>\n",
              "      <td>689301.000000</td>\n",
              "      <td>689301.000000</td>\n",
              "      <td>689301.000000</td>\n",
              "    </tr>\n",
              "    <tr>\n",
              "      <th>mean</th>\n",
              "      <td>14.158226</td>\n",
              "      <td>1446.528704</td>\n",
              "      <td>1.074580</td>\n",
              "      <td>64.830500</td>\n",
              "      <td>0.558890</td>\n",
              "      <td>2388.802578</td>\n",
              "      <td>24.620017</td>\n",
              "    </tr>\n",
              "    <tr>\n",
              "      <th>std</th>\n",
              "      <td>5.279334</td>\n",
              "      <td>1015.229121</td>\n",
              "      <td>0.295628</td>\n",
              "      <td>66.951215</td>\n",
              "      <td>0.561265</td>\n",
              "      <td>2426.458273</td>\n",
              "      <td>26.909873</td>\n",
              "    </tr>\n",
              "    <tr>\n",
              "      <th>min</th>\n",
              "      <td>0.000000</td>\n",
              "      <td>3.000000</td>\n",
              "      <td>1.000000</td>\n",
              "      <td>0.000000</td>\n",
              "      <td>0.000000</td>\n",
              "      <td>0.000000</td>\n",
              "      <td>0.000000</td>\n",
              "    </tr>\n",
              "    <tr>\n",
              "      <th>25%</th>\n",
              "      <td>11.000000</td>\n",
              "      <td>602.000000</td>\n",
              "      <td>1.000000</td>\n",
              "      <td>20.380000</td>\n",
              "      <td>0.180000</td>\n",
              "      <td>756.940000</td>\n",
              "      <td>7.000000</td>\n",
              "    </tr>\n",
              "    <tr>\n",
              "      <th>50%</th>\n",
              "      <td>15.000000</td>\n",
              "      <td>1227.000000</td>\n",
              "      <td>1.000000</td>\n",
              "      <td>42.970000</td>\n",
              "      <td>0.370000</td>\n",
              "      <td>1588.280000</td>\n",
              "      <td>15.000000</td>\n",
              "    </tr>\n",
              "    <tr>\n",
              "      <th>75%</th>\n",
              "      <td>18.000000</td>\n",
              "      <td>2111.000000</td>\n",
              "      <td>1.000000</td>\n",
              "      <td>85.670000</td>\n",
              "      <td>0.740000</td>\n",
              "      <td>3202.340000</td>\n",
              "      <td>33.000000</td>\n",
              "    </tr>\n",
              "    <tr>\n",
              "      <th>max</th>\n",
              "      <td>23.000000</td>\n",
              "      <td>9999.000000</td>\n",
              "      <td>6.000000</td>\n",
              "      <td>2207.240000</td>\n",
              "      <td>2.770000</td>\n",
              "      <td>11910.850000</td>\n",
              "      <td>1753.000000</td>\n",
              "    </tr>\n",
              "  </tbody>\n",
              "</table>\n",
              "</div>"
            ],
            "text/plain": [
              "                대여시간          대여소번호  ...           이동거리           사용시간\n",
              "count  689301.000000  689301.000000  ...  689301.000000  689301.000000\n",
              "mean       14.158226    1446.528704  ...    2388.802578      24.620017\n",
              "std         5.279334    1015.229121  ...    2426.458273      26.909873\n",
              "min         0.000000       3.000000  ...       0.000000       0.000000\n",
              "25%        11.000000     602.000000  ...     756.940000       7.000000\n",
              "50%        15.000000    1227.000000  ...    1588.280000      15.000000\n",
              "75%        18.000000    2111.000000  ...    3202.340000      33.000000\n",
              "max        23.000000    9999.000000  ...   11910.850000    1753.000000\n",
              "\n",
              "[8 rows x 7 columns]"
            ]
          },
          "metadata": {
            "tags": []
          },
          "execution_count": 80
        }
      ]
    },
    {
      "cell_type": "code",
      "metadata": {
        "id": "6IBydDktjK7t"
      },
      "source": [
        ""
      ],
      "execution_count": null,
      "outputs": []
    },
    {
      "cell_type": "code",
      "metadata": {
        "colab": {
          "base_uri": "https://localhost:8080/",
          "height": 306
        },
        "id": "m4LDX8qwjLTF",
        "outputId": "e2ba8df7-6fee-4ff7-df31-f8eead2c7d0c"
      },
      "source": [
        "bike_data.head()"
      ],
      "execution_count": null,
      "outputs": [
        {
          "output_type": "execute_result",
          "data": {
            "text/html": [
              "<div>\n",
              "<style scoped>\n",
              "    .dataframe tbody tr th:only-of-type {\n",
              "        vertical-align: middle;\n",
              "    }\n",
              "\n",
              "    .dataframe tbody tr th {\n",
              "        vertical-align: top;\n",
              "    }\n",
              "\n",
              "    .dataframe thead th {\n",
              "        text-align: right;\n",
              "    }\n",
              "</style>\n",
              "<table border=\"1\" class=\"dataframe\">\n",
              "  <thead>\n",
              "    <tr style=\"text-align: right;\">\n",
              "      <th></th>\n",
              "      <th>대여일자</th>\n",
              "      <th>대여시간</th>\n",
              "      <th>대여소번호</th>\n",
              "      <th>대여소명</th>\n",
              "      <th>대여구분코드</th>\n",
              "      <th>성별</th>\n",
              "      <th>연령대코드</th>\n",
              "      <th>이용건수</th>\n",
              "      <th>운동량</th>\n",
              "      <th>탄소량</th>\n",
              "      <th>이동거리</th>\n",
              "      <th>사용시간</th>\n",
              "    </tr>\n",
              "  </thead>\n",
              "  <tbody>\n",
              "    <tr>\n",
              "      <th>0</th>\n",
              "      <td>2021-01-01</td>\n",
              "      <td>0</td>\n",
              "      <td>1347</td>\n",
              "      <td>1347. 길음래미안아파트817동 상가 앞</td>\n",
              "      <td>정기권</td>\n",
              "      <td>U</td>\n",
              "      <td>~10대</td>\n",
              "      <td>2</td>\n",
              "      <td>28.90</td>\n",
              "      <td>0.23</td>\n",
              "      <td>992.78</td>\n",
              "      <td>13</td>\n",
              "    </tr>\n",
              "    <tr>\n",
              "      <th>1</th>\n",
              "      <td>2021-01-01</td>\n",
              "      <td>0</td>\n",
              "      <td>1349</td>\n",
              "      <td>1349. 월계2교 버스정류장 앞</td>\n",
              "      <td>정기권</td>\n",
              "      <td>U</td>\n",
              "      <td>~10대</td>\n",
              "      <td>1</td>\n",
              "      <td>34.38</td>\n",
              "      <td>0.26</td>\n",
              "      <td>1127.50</td>\n",
              "      <td>10</td>\n",
              "    </tr>\n",
              "    <tr>\n",
              "      <th>2</th>\n",
              "      <td>2021-01-01</td>\n",
              "      <td>0</td>\n",
              "      <td>1168</td>\n",
              "      <td>1168. 마곡엠밸리10단지 앞</td>\n",
              "      <td>정기권</td>\n",
              "      <td>U</td>\n",
              "      <td>~10대</td>\n",
              "      <td>1</td>\n",
              "      <td>0.00</td>\n",
              "      <td>0.00</td>\n",
              "      <td>0.00</td>\n",
              "      <td>7</td>\n",
              "    </tr>\n",
              "    <tr>\n",
              "      <th>3</th>\n",
              "      <td>2021-01-01</td>\n",
              "      <td>0</td>\n",
              "      <td>2619</td>\n",
              "      <td>2619. 석촌고분역 4번출구</td>\n",
              "      <td>정기권</td>\n",
              "      <td>U</td>\n",
              "      <td>~10대</td>\n",
              "      <td>1</td>\n",
              "      <td>38.75</td>\n",
              "      <td>0.38</td>\n",
              "      <td>1658.34</td>\n",
              "      <td>14</td>\n",
              "    </tr>\n",
              "    <tr>\n",
              "      <th>4</th>\n",
              "      <td>2021-01-01</td>\n",
              "      <td>0</td>\n",
              "      <td>536</td>\n",
              "      <td>536. 행당역 2번출구 앞</td>\n",
              "      <td>정기권</td>\n",
              "      <td>U</td>\n",
              "      <td>~10대</td>\n",
              "      <td>1</td>\n",
              "      <td>12.96</td>\n",
              "      <td>0.17</td>\n",
              "      <td>743.88</td>\n",
              "      <td>5</td>\n",
              "    </tr>\n",
              "  </tbody>\n",
              "</table>\n",
              "</div>"
            ],
            "text/plain": [
              "         대여일자  대여시간  대여소번호                     대여소명  ...    운동량   탄소량     이동거리  사용시간\n",
              "0  2021-01-01     0   1347  1347. 길음래미안아파트817동 상가 앞  ...  28.90  0.23   992.78    13\n",
              "1  2021-01-01     0   1349       1349. 월계2교 버스정류장 앞  ...  34.38  0.26  1127.50    10\n",
              "2  2021-01-01     0   1168        1168. 마곡엠밸리10단지 앞  ...   0.00  0.00     0.00     7\n",
              "3  2021-01-01     0   2619         2619. 석촌고분역 4번출구  ...  38.75  0.38  1658.34    14\n",
              "4  2021-01-01     0    536          536. 행당역 2번출구 앞  ...  12.96  0.17   743.88     5\n",
              "\n",
              "[5 rows x 12 columns]"
            ]
          },
          "metadata": {
            "tags": []
          },
          "execution_count": 81
        }
      ]
    },
    {
      "cell_type": "markdown",
      "metadata": {
        "id": "aOy-mGJZ9xbi"
      },
      "source": [
        "# 데이터 결합\n",
        "\n",
        "- 서울특별시 공공자전거 대여소 정보\n",
        "- http://data.seoul.go.kr/dataList/OA-13252/F/1/datasetView.do\n",
        "- 파일명 : 공공자전거 대여소 정보(21.01.31 기준) --> bike_station_2101.csv"
      ]
    },
    {
      "cell_type": "code",
      "metadata": {
        "id": "7WI5hCg-Qy0a"
      },
      "source": [
        "#url_station = 'https://codepresso-online-platform-public.s3.ap-northeast-2.amazonaws.com/learning-resourse/python-data-analysis/bike_station_2101.csv'"
      ],
      "execution_count": null,
      "outputs": []
    },
    {
      "cell_type": "code",
      "metadata": {
        "id": "y1bHmakVQ53Z"
      },
      "source": [
        "filepath = '/content/bike_station_2101.csv'\n",
        "bike_station = pd.read_csv(filepath, encoding='cp949', header=4)"
      ],
      "execution_count": null,
      "outputs": []
    },
    {
      "cell_type": "code",
      "metadata": {
        "id": "Qp94pLsS9ytS",
        "colab": {
          "base_uri": "https://localhost:8080/",
          "height": 374
        },
        "outputId": "75b926db-f660-44b5-d96e-2ebac454f47a"
      },
      "source": [
        "#head 로 다시 읽기\n",
        "bike_station.head()"
      ],
      "execution_count": null,
      "outputs": [
        {
          "output_type": "execute_result",
          "data": {
            "text/html": [
              "<div>\n",
              "<style scoped>\n",
              "    .dataframe tbody tr th:only-of-type {\n",
              "        vertical-align: middle;\n",
              "    }\n",
              "\n",
              "    .dataframe tbody tr th {\n",
              "        vertical-align: top;\n",
              "    }\n",
              "\n",
              "    .dataframe thead th {\n",
              "        text-align: right;\n",
              "    }\n",
              "</style>\n",
              "<table border=\"1\" class=\"dataframe\">\n",
              "  <thead>\n",
              "    <tr style=\"text-align: right;\">\n",
              "      <th></th>\n",
              "      <th>Unnamed: 0</th>\n",
              "      <th>Unnamed: 1</th>\n",
              "      <th>Unnamed: 2</th>\n",
              "      <th>Unnamed: 3</th>\n",
              "      <th>Unnamed: 4</th>\n",
              "      <th>Unnamed: 5</th>\n",
              "      <th>Unnamed: 6</th>\n",
              "      <th>Unnamed: 7</th>\n",
              "      <th>Unnamed: 8</th>\n",
              "      <th>Unnamed: 9</th>\n",
              "    </tr>\n",
              "  </thead>\n",
              "  <tbody>\n",
              "    <tr>\n",
              "      <th>0</th>\n",
              "      <td>301.0</td>\n",
              "      <td>경복궁역 7번출구 앞</td>\n",
              "      <td>종로구</td>\n",
              "      <td>서울특별시 종로구 사직로 지하130</td>\n",
              "      <td>37.575794</td>\n",
              "      <td>126.971451</td>\n",
              "      <td>2015-10-07</td>\n",
              "      <td>16.0</td>\n",
              "      <td>NaN</td>\n",
              "      <td>LCD</td>\n",
              "    </tr>\n",
              "    <tr>\n",
              "      <th>1</th>\n",
              "      <td>302.0</td>\n",
              "      <td>경복궁역 4번출구 뒤</td>\n",
              "      <td>종로구</td>\n",
              "      <td>서울특별시 종로구 사직로 지하130</td>\n",
              "      <td>37.575947</td>\n",
              "      <td>126.974060</td>\n",
              "      <td>2015-10-07</td>\n",
              "      <td>12.0</td>\n",
              "      <td>NaN</td>\n",
              "      <td>LCD</td>\n",
              "    </tr>\n",
              "    <tr>\n",
              "      <th>2</th>\n",
              "      <td>303.0</td>\n",
              "      <td>광화문역 1번출구 앞</td>\n",
              "      <td>종로구</td>\n",
              "      <td>서울특별시 종로구 세종대로 지하189</td>\n",
              "      <td>37.571770</td>\n",
              "      <td>126.974663</td>\n",
              "      <td>2015-10-07</td>\n",
              "      <td>8.0</td>\n",
              "      <td>NaN</td>\n",
              "      <td>LCD</td>\n",
              "    </tr>\n",
              "    <tr>\n",
              "      <th>3</th>\n",
              "      <td>304.0</td>\n",
              "      <td>광화문역 2번출구 앞</td>\n",
              "      <td>종로구</td>\n",
              "      <td>서울특별시 종로구 세종대로 지하172</td>\n",
              "      <td>37.572113</td>\n",
              "      <td>126.977577</td>\n",
              "      <td>2021-01-26</td>\n",
              "      <td>NaN</td>\n",
              "      <td>7.0</td>\n",
              "      <td>QR</td>\n",
              "    </tr>\n",
              "    <tr>\n",
              "      <th>4</th>\n",
              "      <td>305.0</td>\n",
              "      <td>종로구청 옆</td>\n",
              "      <td>종로구</td>\n",
              "      <td>서울특별시 종로구 삼봉로 43</td>\n",
              "      <td>37.572582</td>\n",
              "      <td>126.978355</td>\n",
              "      <td>2015-10-07</td>\n",
              "      <td>16.0</td>\n",
              "      <td>NaN</td>\n",
              "      <td>LCD</td>\n",
              "    </tr>\n",
              "  </tbody>\n",
              "</table>\n",
              "</div>"
            ],
            "text/plain": [
              "   Unnamed: 0   Unnamed: 1 Unnamed: 2  ... Unnamed: 7  Unnamed: 8  Unnamed: 9\n",
              "0       301.0  경복궁역 7번출구 앞        종로구  ...       16.0         NaN         LCD\n",
              "1       302.0  경복궁역 4번출구 뒤        종로구  ...       12.0         NaN         LCD\n",
              "2       303.0  광화문역 1번출구 앞        종로구  ...        8.0         NaN         LCD\n",
              "3       304.0  광화문역 2번출구 앞        종로구  ...        NaN         7.0          QR\n",
              "4       305.0       종로구청 옆        종로구  ...       16.0         NaN         LCD\n",
              "\n",
              "[5 rows x 10 columns]"
            ]
          },
          "metadata": {
            "tags": []
          },
          "execution_count": 87
        }
      ]
    },
    {
      "cell_type": "code",
      "metadata": {
        "id": "73utmfVo9lWq",
        "colab": {
          "base_uri": "https://localhost:8080/",
          "height": 204
        },
        "outputId": "b18dc57c-8ce6-4e48-f003-f0f0f24cc081"
      },
      "source": [
        "# 슬라이싱을 통해 필요한 컬럼만 저장\n",
        "bike_station = bike_station.iloc[:, 0:6]\n",
        "bike_station.head()"
      ],
      "execution_count": null,
      "outputs": [
        {
          "output_type": "execute_result",
          "data": {
            "text/html": [
              "<div>\n",
              "<style scoped>\n",
              "    .dataframe tbody tr th:only-of-type {\n",
              "        vertical-align: middle;\n",
              "    }\n",
              "\n",
              "    .dataframe tbody tr th {\n",
              "        vertical-align: top;\n",
              "    }\n",
              "\n",
              "    .dataframe thead th {\n",
              "        text-align: right;\n",
              "    }\n",
              "</style>\n",
              "<table border=\"1\" class=\"dataframe\">\n",
              "  <thead>\n",
              "    <tr style=\"text-align: right;\">\n",
              "      <th></th>\n",
              "      <th>Unnamed: 0</th>\n",
              "      <th>Unnamed: 1</th>\n",
              "      <th>Unnamed: 2</th>\n",
              "      <th>Unnamed: 3</th>\n",
              "      <th>Unnamed: 4</th>\n",
              "      <th>Unnamed: 5</th>\n",
              "    </tr>\n",
              "  </thead>\n",
              "  <tbody>\n",
              "    <tr>\n",
              "      <th>0</th>\n",
              "      <td>301.0</td>\n",
              "      <td>경복궁역 7번출구 앞</td>\n",
              "      <td>종로구</td>\n",
              "      <td>서울특별시 종로구 사직로 지하130</td>\n",
              "      <td>37.575794</td>\n",
              "      <td>126.971451</td>\n",
              "    </tr>\n",
              "    <tr>\n",
              "      <th>1</th>\n",
              "      <td>302.0</td>\n",
              "      <td>경복궁역 4번출구 뒤</td>\n",
              "      <td>종로구</td>\n",
              "      <td>서울특별시 종로구 사직로 지하130</td>\n",
              "      <td>37.575947</td>\n",
              "      <td>126.974060</td>\n",
              "    </tr>\n",
              "    <tr>\n",
              "      <th>2</th>\n",
              "      <td>303.0</td>\n",
              "      <td>광화문역 1번출구 앞</td>\n",
              "      <td>종로구</td>\n",
              "      <td>서울특별시 종로구 세종대로 지하189</td>\n",
              "      <td>37.571770</td>\n",
              "      <td>126.974663</td>\n",
              "    </tr>\n",
              "    <tr>\n",
              "      <th>3</th>\n",
              "      <td>304.0</td>\n",
              "      <td>광화문역 2번출구 앞</td>\n",
              "      <td>종로구</td>\n",
              "      <td>서울특별시 종로구 세종대로 지하172</td>\n",
              "      <td>37.572113</td>\n",
              "      <td>126.977577</td>\n",
              "    </tr>\n",
              "    <tr>\n",
              "      <th>4</th>\n",
              "      <td>305.0</td>\n",
              "      <td>종로구청 옆</td>\n",
              "      <td>종로구</td>\n",
              "      <td>서울특별시 종로구 삼봉로 43</td>\n",
              "      <td>37.572582</td>\n",
              "      <td>126.978355</td>\n",
              "    </tr>\n",
              "  </tbody>\n",
              "</table>\n",
              "</div>"
            ],
            "text/plain": [
              "   Unnamed: 0   Unnamed: 1  ... Unnamed: 4  Unnamed: 5\n",
              "0       301.0  경복궁역 7번출구 앞  ...  37.575794  126.971451\n",
              "1       302.0  경복궁역 4번출구 뒤  ...  37.575947  126.974060\n",
              "2       303.0  광화문역 1번출구 앞  ...  37.571770  126.974663\n",
              "3       304.0  광화문역 2번출구 앞  ...  37.572113  126.977577\n",
              "4       305.0       종로구청 옆  ...  37.572582  126.978355\n",
              "\n",
              "[5 rows x 6 columns]"
            ]
          },
          "metadata": {
            "tags": []
          },
          "execution_count": 88
        }
      ]
    },
    {
      "cell_type": "code",
      "metadata": {
        "id": "fDn9OgPGASTM",
        "colab": {
          "base_uri": "https://localhost:8080/",
          "height": 204
        },
        "outputId": "3d970407-fdcd-4a8b-8d61-310e51737fd8"
      },
      "source": [
        "# 컬럼명 저장 columns\n",
        "# ['대여소번호', '보관소', '소재지', '주소', '위도', '경도',]\n",
        "bike_station.columns = ['대여소번호', '보관소', '소재지', '주소', '위도', '경도']\n",
        "bike_station.head()"
      ],
      "execution_count": null,
      "outputs": [
        {
          "output_type": "execute_result",
          "data": {
            "text/html": [
              "<div>\n",
              "<style scoped>\n",
              "    .dataframe tbody tr th:only-of-type {\n",
              "        vertical-align: middle;\n",
              "    }\n",
              "\n",
              "    .dataframe tbody tr th {\n",
              "        vertical-align: top;\n",
              "    }\n",
              "\n",
              "    .dataframe thead th {\n",
              "        text-align: right;\n",
              "    }\n",
              "</style>\n",
              "<table border=\"1\" class=\"dataframe\">\n",
              "  <thead>\n",
              "    <tr style=\"text-align: right;\">\n",
              "      <th></th>\n",
              "      <th>대여소번호</th>\n",
              "      <th>보관소</th>\n",
              "      <th>소재지</th>\n",
              "      <th>주소</th>\n",
              "      <th>위도</th>\n",
              "      <th>경도</th>\n",
              "    </tr>\n",
              "  </thead>\n",
              "  <tbody>\n",
              "    <tr>\n",
              "      <th>0</th>\n",
              "      <td>301.0</td>\n",
              "      <td>경복궁역 7번출구 앞</td>\n",
              "      <td>종로구</td>\n",
              "      <td>서울특별시 종로구 사직로 지하130</td>\n",
              "      <td>37.575794</td>\n",
              "      <td>126.971451</td>\n",
              "    </tr>\n",
              "    <tr>\n",
              "      <th>1</th>\n",
              "      <td>302.0</td>\n",
              "      <td>경복궁역 4번출구 뒤</td>\n",
              "      <td>종로구</td>\n",
              "      <td>서울특별시 종로구 사직로 지하130</td>\n",
              "      <td>37.575947</td>\n",
              "      <td>126.974060</td>\n",
              "    </tr>\n",
              "    <tr>\n",
              "      <th>2</th>\n",
              "      <td>303.0</td>\n",
              "      <td>광화문역 1번출구 앞</td>\n",
              "      <td>종로구</td>\n",
              "      <td>서울특별시 종로구 세종대로 지하189</td>\n",
              "      <td>37.571770</td>\n",
              "      <td>126.974663</td>\n",
              "    </tr>\n",
              "    <tr>\n",
              "      <th>3</th>\n",
              "      <td>304.0</td>\n",
              "      <td>광화문역 2번출구 앞</td>\n",
              "      <td>종로구</td>\n",
              "      <td>서울특별시 종로구 세종대로 지하172</td>\n",
              "      <td>37.572113</td>\n",
              "      <td>126.977577</td>\n",
              "    </tr>\n",
              "    <tr>\n",
              "      <th>4</th>\n",
              "      <td>305.0</td>\n",
              "      <td>종로구청 옆</td>\n",
              "      <td>종로구</td>\n",
              "      <td>서울특별시 종로구 삼봉로 43</td>\n",
              "      <td>37.572582</td>\n",
              "      <td>126.978355</td>\n",
              "    </tr>\n",
              "  </tbody>\n",
              "</table>\n",
              "</div>"
            ],
            "text/plain": [
              "   대여소번호          보관소  소재지                    주소         위도          경도\n",
              "0  301.0  경복궁역 7번출구 앞  종로구   서울특별시 종로구 사직로 지하130  37.575794  126.971451\n",
              "1  302.0  경복궁역 4번출구 뒤  종로구   서울특별시 종로구 사직로 지하130  37.575947  126.974060\n",
              "2  303.0  광화문역 1번출구 앞  종로구  서울특별시 종로구 세종대로 지하189  37.571770  126.974663\n",
              "3  304.0  광화문역 2번출구 앞  종로구  서울특별시 종로구 세종대로 지하172  37.572113  126.977577\n",
              "4  305.0       종로구청 옆  종로구      서울특별시 종로구 삼봉로 43  37.572582  126.978355"
            ]
          },
          "metadata": {
            "tags": []
          },
          "execution_count": 89
        }
      ]
    },
    {
      "cell_type": "code",
      "metadata": {
        "id": "Qm9K1500A6u8",
        "colab": {
          "base_uri": "https://localhost:8080/"
        },
        "outputId": "32a51aa8-f087-4625-8efb-bad2f90e6bf9"
      },
      "source": [
        "# 전체 정보 확인\n",
        "bike_station.info()"
      ],
      "execution_count": null,
      "outputs": [
        {
          "output_type": "stream",
          "text": [
            "<class 'pandas.core.frame.DataFrame'>\n",
            "RangeIndex: 2157 entries, 0 to 2156\n",
            "Data columns (total 6 columns):\n",
            " #   Column  Non-Null Count  Dtype  \n",
            "---  ------  --------------  -----  \n",
            " 0   대여소번호   2154 non-null   float64\n",
            " 1   보관소     2154 non-null   object \n",
            " 2   소재지     2154 non-null   object \n",
            " 3   주소      2154 non-null   object \n",
            " 4   위도      2042 non-null   float64\n",
            " 5   경도      2042 non-null   float64\n",
            "dtypes: float64(3), object(3)\n",
            "memory usage: 101.2+ KB\n"
          ],
          "name": "stdout"
        }
      ]
    },
    {
      "cell_type": "code",
      "metadata": {
        "id": "u2d3P5jcBPof",
        "colab": {
          "base_uri": "https://localhost:8080/"
        },
        "outputId": "b1135d52-d4f1-4b0c-a0b1-87bcd8c4a2b9"
      },
      "source": [
        "# 결측치 확인\n",
        "bike_station.isnull().sum()"
      ],
      "execution_count": null,
      "outputs": [
        {
          "output_type": "execute_result",
          "data": {
            "text/plain": [
              "대여소번호      3\n",
              "보관소        3\n",
              "소재지        3\n",
              "주소         3\n",
              "위도       115\n",
              "경도       115\n",
              "dtype: int64"
            ]
          },
          "metadata": {
            "tags": []
          },
          "execution_count": 91
        }
      ]
    },
    {
      "cell_type": "code",
      "metadata": {
        "id": "bBwOunSUBZTx",
        "colab": {
          "base_uri": "https://localhost:8080/",
          "height": 142
        },
        "outputId": "5f185255-594e-4b2b-a460-d7641d9a1f21"
      },
      "source": [
        "# 결측치 데이터 조회\n",
        "bike_station[bike_station['대여소번호'].isnull()]\n"
      ],
      "execution_count": null,
      "outputs": [
        {
          "output_type": "execute_result",
          "data": {
            "text/html": [
              "<div>\n",
              "<style scoped>\n",
              "    .dataframe tbody tr th:only-of-type {\n",
              "        vertical-align: middle;\n",
              "    }\n",
              "\n",
              "    .dataframe tbody tr th {\n",
              "        vertical-align: top;\n",
              "    }\n",
              "\n",
              "    .dataframe thead th {\n",
              "        text-align: right;\n",
              "    }\n",
              "</style>\n",
              "<table border=\"1\" class=\"dataframe\">\n",
              "  <thead>\n",
              "    <tr style=\"text-align: right;\">\n",
              "      <th></th>\n",
              "      <th>대여소번호</th>\n",
              "      <th>보관소</th>\n",
              "      <th>소재지</th>\n",
              "      <th>주소</th>\n",
              "      <th>위도</th>\n",
              "      <th>경도</th>\n",
              "    </tr>\n",
              "  </thead>\n",
              "  <tbody>\n",
              "    <tr>\n",
              "      <th>2154</th>\n",
              "      <td>NaN</td>\n",
              "      <td>NaN</td>\n",
              "      <td>NaN</td>\n",
              "      <td>NaN</td>\n",
              "      <td>NaN</td>\n",
              "      <td>NaN</td>\n",
              "    </tr>\n",
              "    <tr>\n",
              "      <th>2155</th>\n",
              "      <td>NaN</td>\n",
              "      <td>NaN</td>\n",
              "      <td>NaN</td>\n",
              "      <td>NaN</td>\n",
              "      <td>NaN</td>\n",
              "      <td>NaN</td>\n",
              "    </tr>\n",
              "    <tr>\n",
              "      <th>2156</th>\n",
              "      <td>NaN</td>\n",
              "      <td>NaN</td>\n",
              "      <td>NaN</td>\n",
              "      <td>NaN</td>\n",
              "      <td>NaN</td>\n",
              "      <td>NaN</td>\n",
              "    </tr>\n",
              "  </tbody>\n",
              "</table>\n",
              "</div>"
            ],
            "text/plain": [
              "      대여소번호  보관소  소재지   주소  위도  경도\n",
              "2154    NaN  NaN  NaN  NaN NaN NaN\n",
              "2155    NaN  NaN  NaN  NaN NaN NaN\n",
              "2156    NaN  NaN  NaN  NaN NaN NaN"
            ]
          },
          "metadata": {
            "tags": []
          },
          "execution_count": 92
        }
      ]
    },
    {
      "cell_type": "code",
      "metadata": {
        "id": "U8Iq0o-QBfHu",
        "colab": {
          "base_uri": "https://localhost:8080/"
        },
        "outputId": "d66cc99d-472f-4b61-d428-ecccec39f584"
      },
      "source": [
        "# 모든 행 데이터가 결측치인 경우의 데이터 제거\n",
        "# dropna(how='all')\n",
        "bike_station.dropna(how='all', inplace=True)\n",
        "bike_station.isnull().sum()"
      ],
      "execution_count": null,
      "outputs": [
        {
          "output_type": "execute_result",
          "data": {
            "text/plain": [
              "대여소번호      0\n",
              "보관소        0\n",
              "소재지        0\n",
              "주소         0\n",
              "위도       112\n",
              "경도       112\n",
              "dtype: int64"
            ]
          },
          "metadata": {
            "tags": []
          },
          "execution_count": 93
        }
      ]
    },
    {
      "cell_type": "code",
      "metadata": {
        "colab": {
          "base_uri": "https://localhost:8080/",
          "height": 204
        },
        "id": "Kw9g3qoRnLKU",
        "outputId": "6d0ec710-41dc-4682-da4f-c803240ac6a7"
      },
      "source": [
        "bike_station.head()"
      ],
      "execution_count": null,
      "outputs": [
        {
          "output_type": "execute_result",
          "data": {
            "text/html": [
              "<div>\n",
              "<style scoped>\n",
              "    .dataframe tbody tr th:only-of-type {\n",
              "        vertical-align: middle;\n",
              "    }\n",
              "\n",
              "    .dataframe tbody tr th {\n",
              "        vertical-align: top;\n",
              "    }\n",
              "\n",
              "    .dataframe thead th {\n",
              "        text-align: right;\n",
              "    }\n",
              "</style>\n",
              "<table border=\"1\" class=\"dataframe\">\n",
              "  <thead>\n",
              "    <tr style=\"text-align: right;\">\n",
              "      <th></th>\n",
              "      <th>대여소번호</th>\n",
              "      <th>보관소</th>\n",
              "      <th>소재지</th>\n",
              "      <th>주소</th>\n",
              "      <th>위도</th>\n",
              "      <th>경도</th>\n",
              "    </tr>\n",
              "  </thead>\n",
              "  <tbody>\n",
              "    <tr>\n",
              "      <th>0</th>\n",
              "      <td>301.0</td>\n",
              "      <td>경복궁역 7번출구 앞</td>\n",
              "      <td>종로구</td>\n",
              "      <td>서울특별시 종로구 사직로 지하130</td>\n",
              "      <td>37.575794</td>\n",
              "      <td>126.971451</td>\n",
              "    </tr>\n",
              "    <tr>\n",
              "      <th>1</th>\n",
              "      <td>302.0</td>\n",
              "      <td>경복궁역 4번출구 뒤</td>\n",
              "      <td>종로구</td>\n",
              "      <td>서울특별시 종로구 사직로 지하130</td>\n",
              "      <td>37.575947</td>\n",
              "      <td>126.974060</td>\n",
              "    </tr>\n",
              "    <tr>\n",
              "      <th>2</th>\n",
              "      <td>303.0</td>\n",
              "      <td>광화문역 1번출구 앞</td>\n",
              "      <td>종로구</td>\n",
              "      <td>서울특별시 종로구 세종대로 지하189</td>\n",
              "      <td>37.571770</td>\n",
              "      <td>126.974663</td>\n",
              "    </tr>\n",
              "    <tr>\n",
              "      <th>3</th>\n",
              "      <td>304.0</td>\n",
              "      <td>광화문역 2번출구 앞</td>\n",
              "      <td>종로구</td>\n",
              "      <td>서울특별시 종로구 세종대로 지하172</td>\n",
              "      <td>37.572113</td>\n",
              "      <td>126.977577</td>\n",
              "    </tr>\n",
              "    <tr>\n",
              "      <th>4</th>\n",
              "      <td>305.0</td>\n",
              "      <td>종로구청 옆</td>\n",
              "      <td>종로구</td>\n",
              "      <td>서울특별시 종로구 삼봉로 43</td>\n",
              "      <td>37.572582</td>\n",
              "      <td>126.978355</td>\n",
              "    </tr>\n",
              "  </tbody>\n",
              "</table>\n",
              "</div>"
            ],
            "text/plain": [
              "   대여소번호          보관소  소재지                    주소         위도          경도\n",
              "0  301.0  경복궁역 7번출구 앞  종로구   서울특별시 종로구 사직로 지하130  37.575794  126.971451\n",
              "1  302.0  경복궁역 4번출구 뒤  종로구   서울특별시 종로구 사직로 지하130  37.575947  126.974060\n",
              "2  303.0  광화문역 1번출구 앞  종로구  서울특별시 종로구 세종대로 지하189  37.571770  126.974663\n",
              "3  304.0  광화문역 2번출구 앞  종로구  서울특별시 종로구 세종대로 지하172  37.572113  126.977577\n",
              "4  305.0       종로구청 옆  종로구      서울특별시 종로구 삼봉로 43  37.572582  126.978355"
            ]
          },
          "metadata": {
            "tags": []
          },
          "execution_count": 95
        }
      ]
    },
    {
      "cell_type": "markdown",
      "metadata": {
        "id": "GJMN8NwXBBsB"
      },
      "source": [
        "- 대여소 번호를 기준으로 결합시켜볼까요?"
      ]
    },
    {
      "cell_type": "code",
      "metadata": {
        "id": "xsQyaGXqA5mk",
        "colab": {
          "base_uri": "https://localhost:8080/"
        },
        "outputId": "ee13c6a5-8818-4afd-9dce-15d20f82f5a1"
      },
      "source": [
        "# bike_data 정보 다시 확인\n",
        "bike_data.info()"
      ],
      "execution_count": null,
      "outputs": [
        {
          "output_type": "stream",
          "text": [
            "<class 'pandas.core.frame.DataFrame'>\n",
            "Int64Index: 689301 entries, 0 to 718856\n",
            "Data columns (total 12 columns):\n",
            " #   Column  Non-Null Count   Dtype  \n",
            "---  ------  --------------   -----  \n",
            " 0   대여일자    689301 non-null  object \n",
            " 1   대여시간    689301 non-null  int64  \n",
            " 2   대여소번호   689301 non-null  int64  \n",
            " 3   대여소명    689301 non-null  object \n",
            " 4   대여구분코드  689301 non-null  object \n",
            " 5   성별      689301 non-null  object \n",
            " 6   연령대코드   689301 non-null  object \n",
            " 7   이용건수    689301 non-null  int64  \n",
            " 8   운동량     689301 non-null  float64\n",
            " 9   탄소량     689301 non-null  float64\n",
            " 10  이동거리    689301 non-null  float64\n",
            " 11  사용시간    689301 non-null  int64  \n",
            "dtypes: float64(3), int64(4), object(5)\n",
            "memory usage: 68.4+ MB\n"
          ],
          "name": "stdout"
        }
      ]
    },
    {
      "cell_type": "code",
      "metadata": {
        "colab": {
          "base_uri": "https://localhost:8080/"
        },
        "id": "BsXfVDf2nt-P",
        "outputId": "f32e59af-2f25-4f52-b2b2-767bf4c00bdb"
      },
      "source": [
        "bike_station.info()"
      ],
      "execution_count": null,
      "outputs": [
        {
          "output_type": "stream",
          "text": [
            "<class 'pandas.core.frame.DataFrame'>\n",
            "Int64Index: 2154 entries, 0 to 2153\n",
            "Data columns (total 6 columns):\n",
            " #   Column  Non-Null Count  Dtype  \n",
            "---  ------  --------------  -----  \n",
            " 0   대여소번호   2154 non-null   float64\n",
            " 1   보관소     2154 non-null   object \n",
            " 2   소재지     2154 non-null   object \n",
            " 3   주소      2154 non-null   object \n",
            " 4   위도      2042 non-null   float64\n",
            " 5   경도      2042 non-null   float64\n",
            "dtypes: float64(3), object(3)\n",
            "memory usage: 117.8+ KB\n"
          ],
          "name": "stdout"
        }
      ]
    },
    {
      "cell_type": "code",
      "metadata": {
        "id": "QrDDTOzXBFZk"
      },
      "source": [
        "# 데이터타입 일치하도록 변경\n",
        "# astype(int)\n",
        "bike_station['대여소번호'] = bike_station['대여소번호'].astype(int)"
      ],
      "execution_count": null,
      "outputs": []
    },
    {
      "cell_type": "code",
      "metadata": {
        "id": "Hei8TVHnB2UD",
        "colab": {
          "base_uri": "https://localhost:8080/"
        },
        "outputId": "a004ab94-6ad0-4ec2-9eeb-0c0badf6a19f"
      },
      "source": [
        "bike_station.info()"
      ],
      "execution_count": null,
      "outputs": [
        {
          "output_type": "stream",
          "text": [
            "<class 'pandas.core.frame.DataFrame'>\n",
            "Int64Index: 2154 entries, 0 to 2153\n",
            "Data columns (total 6 columns):\n",
            " #   Column  Non-Null Count  Dtype  \n",
            "---  ------  --------------  -----  \n",
            " 0   대여소번호   2154 non-null   int64  \n",
            " 1   보관소     2154 non-null   object \n",
            " 2   소재지     2154 non-null   object \n",
            " 3   주소      2154 non-null   object \n",
            " 4   위도      2042 non-null   float64\n",
            " 5   경도      2042 non-null   float64\n",
            "dtypes: float64(2), int64(1), object(3)\n",
            "memory usage: 117.8+ KB\n"
          ],
          "name": "stdout"
        }
      ]
    },
    {
      "cell_type": "code",
      "metadata": {
        "id": "cD5t9kD6COhi",
        "colab": {
          "base_uri": "https://localhost:8080/",
          "height": 204
        },
        "outputId": "1214de9a-1aa9-466d-c345-bb25be4a3d8f"
      },
      "source": [
        "# 대여소번호와 소재지정보만 따로 저장\n",
        "subset = bike_station[['대여소번호', '소재지']]\n",
        "subset.head()"
      ],
      "execution_count": null,
      "outputs": [
        {
          "output_type": "execute_result",
          "data": {
            "text/html": [
              "<div>\n",
              "<style scoped>\n",
              "    .dataframe tbody tr th:only-of-type {\n",
              "        vertical-align: middle;\n",
              "    }\n",
              "\n",
              "    .dataframe tbody tr th {\n",
              "        vertical-align: top;\n",
              "    }\n",
              "\n",
              "    .dataframe thead th {\n",
              "        text-align: right;\n",
              "    }\n",
              "</style>\n",
              "<table border=\"1\" class=\"dataframe\">\n",
              "  <thead>\n",
              "    <tr style=\"text-align: right;\">\n",
              "      <th></th>\n",
              "      <th>대여소번호</th>\n",
              "      <th>소재지</th>\n",
              "    </tr>\n",
              "  </thead>\n",
              "  <tbody>\n",
              "    <tr>\n",
              "      <th>0</th>\n",
              "      <td>301</td>\n",
              "      <td>종로구</td>\n",
              "    </tr>\n",
              "    <tr>\n",
              "      <th>1</th>\n",
              "      <td>302</td>\n",
              "      <td>종로구</td>\n",
              "    </tr>\n",
              "    <tr>\n",
              "      <th>2</th>\n",
              "      <td>303</td>\n",
              "      <td>종로구</td>\n",
              "    </tr>\n",
              "    <tr>\n",
              "      <th>3</th>\n",
              "      <td>304</td>\n",
              "      <td>종로구</td>\n",
              "    </tr>\n",
              "    <tr>\n",
              "      <th>4</th>\n",
              "      <td>305</td>\n",
              "      <td>종로구</td>\n",
              "    </tr>\n",
              "  </tbody>\n",
              "</table>\n",
              "</div>"
            ],
            "text/plain": [
              "   대여소번호  소재지\n",
              "0    301  종로구\n",
              "1    302  종로구\n",
              "2    303  종로구\n",
              "3    304  종로구\n",
              "4    305  종로구"
            ]
          },
          "metadata": {
            "tags": []
          },
          "execution_count": 100
        }
      ]
    },
    {
      "cell_type": "code",
      "metadata": {
        "id": "FKl63Ci5B41g"
      },
      "source": [
        "# merge 함수로 대여번호 기준으로 결합하기\n",
        "bike_station_data = pd.merge(bike_data, subset, on='대여소번호')"
      ],
      "execution_count": null,
      "outputs": []
    },
    {
      "cell_type": "code",
      "metadata": {
        "id": "4I8eZ2uNCr-E",
        "colab": {
          "base_uri": "https://localhost:8080/",
          "height": 306
        },
        "outputId": "53f48a9c-27cd-4052-8387-fcdbd8623bf9"
      },
      "source": [
        "bike_station_data.head()"
      ],
      "execution_count": null,
      "outputs": [
        {
          "output_type": "execute_result",
          "data": {
            "text/html": [
              "<div>\n",
              "<style scoped>\n",
              "    .dataframe tbody tr th:only-of-type {\n",
              "        vertical-align: middle;\n",
              "    }\n",
              "\n",
              "    .dataframe tbody tr th {\n",
              "        vertical-align: top;\n",
              "    }\n",
              "\n",
              "    .dataframe thead th {\n",
              "        text-align: right;\n",
              "    }\n",
              "</style>\n",
              "<table border=\"1\" class=\"dataframe\">\n",
              "  <thead>\n",
              "    <tr style=\"text-align: right;\">\n",
              "      <th></th>\n",
              "      <th>대여일자</th>\n",
              "      <th>대여시간</th>\n",
              "      <th>대여소번호</th>\n",
              "      <th>대여소명</th>\n",
              "      <th>대여구분코드</th>\n",
              "      <th>성별</th>\n",
              "      <th>연령대코드</th>\n",
              "      <th>이용건수</th>\n",
              "      <th>운동량</th>\n",
              "      <th>탄소량</th>\n",
              "      <th>이동거리</th>\n",
              "      <th>사용시간</th>\n",
              "      <th>소재지</th>\n",
              "    </tr>\n",
              "  </thead>\n",
              "  <tbody>\n",
              "    <tr>\n",
              "      <th>0</th>\n",
              "      <td>2021-01-01</td>\n",
              "      <td>0</td>\n",
              "      <td>1347</td>\n",
              "      <td>1347. 길음래미안아파트817동 상가 앞</td>\n",
              "      <td>정기권</td>\n",
              "      <td>U</td>\n",
              "      <td>~10대</td>\n",
              "      <td>2</td>\n",
              "      <td>28.90</td>\n",
              "      <td>0.23</td>\n",
              "      <td>992.78</td>\n",
              "      <td>13</td>\n",
              "      <td>성북구</td>\n",
              "    </tr>\n",
              "    <tr>\n",
              "      <th>1</th>\n",
              "      <td>2021-01-01</td>\n",
              "      <td>0</td>\n",
              "      <td>1347</td>\n",
              "      <td>1347. 길음래미안아파트817동 상가 앞</td>\n",
              "      <td>정기권</td>\n",
              "      <td>U</td>\n",
              "      <td>20대</td>\n",
              "      <td>1</td>\n",
              "      <td>11.24</td>\n",
              "      <td>0.07</td>\n",
              "      <td>283.72</td>\n",
              "      <td>1</td>\n",
              "      <td>성북구</td>\n",
              "    </tr>\n",
              "    <tr>\n",
              "      <th>2</th>\n",
              "      <td>2021-01-01</td>\n",
              "      <td>2</td>\n",
              "      <td>1347</td>\n",
              "      <td>1347. 길음래미안아파트817동 상가 앞</td>\n",
              "      <td>일일권</td>\n",
              "      <td>U</td>\n",
              "      <td>20대</td>\n",
              "      <td>1</td>\n",
              "      <td>42.24</td>\n",
              "      <td>0.43</td>\n",
              "      <td>1839.04</td>\n",
              "      <td>37</td>\n",
              "      <td>성북구</td>\n",
              "    </tr>\n",
              "    <tr>\n",
              "      <th>3</th>\n",
              "      <td>2021-01-01</td>\n",
              "      <td>2</td>\n",
              "      <td>1347</td>\n",
              "      <td>1347. 길음래미안아파트817동 상가 앞</td>\n",
              "      <td>일일권</td>\n",
              "      <td>M</td>\n",
              "      <td>20대</td>\n",
              "      <td>2</td>\n",
              "      <td>50.75</td>\n",
              "      <td>0.44</td>\n",
              "      <td>1912.72</td>\n",
              "      <td>73</td>\n",
              "      <td>성북구</td>\n",
              "    </tr>\n",
              "    <tr>\n",
              "      <th>4</th>\n",
              "      <td>2021-01-01</td>\n",
              "      <td>5</td>\n",
              "      <td>1347</td>\n",
              "      <td>1347. 길음래미안아파트817동 상가 앞</td>\n",
              "      <td>일일권</td>\n",
              "      <td>M</td>\n",
              "      <td>~10대</td>\n",
              "      <td>1</td>\n",
              "      <td>183.65</td>\n",
              "      <td>1.66</td>\n",
              "      <td>7134.79</td>\n",
              "      <td>47</td>\n",
              "      <td>성북구</td>\n",
              "    </tr>\n",
              "  </tbody>\n",
              "</table>\n",
              "</div>"
            ],
            "text/plain": [
              "         대여일자  대여시간  대여소번호                     대여소명  ...   탄소량     이동거리 사용시간  소재지\n",
              "0  2021-01-01     0   1347  1347. 길음래미안아파트817동 상가 앞  ...  0.23   992.78   13  성북구\n",
              "1  2021-01-01     0   1347  1347. 길음래미안아파트817동 상가 앞  ...  0.07   283.72    1  성북구\n",
              "2  2021-01-01     2   1347  1347. 길음래미안아파트817동 상가 앞  ...  0.43  1839.04   37  성북구\n",
              "3  2021-01-01     2   1347  1347. 길음래미안아파트817동 상가 앞  ...  0.44  1912.72   73  성북구\n",
              "4  2021-01-01     5   1347  1347. 길음래미안아파트817동 상가 앞  ...  1.66  7134.79   47  성북구\n",
              "\n",
              "[5 rows x 13 columns]"
            ]
          },
          "metadata": {
            "tags": []
          },
          "execution_count": 104
        }
      ]
    },
    {
      "cell_type": "markdown",
      "metadata": {
        "id": "Nor-7AZNCudB"
      },
      "source": [
        "# 데이터 그룹화하기"
      ]
    },
    {
      "cell_type": "markdown",
      "metadata": {
        "id": "cUCdsmgUUtD0"
      },
      "source": [
        "### 성별 이용건수는?"
      ]
    },
    {
      "cell_type": "code",
      "metadata": {
        "id": "8KjUyG0KC0D6",
        "colab": {
          "base_uri": "https://localhost:8080/"
        },
        "outputId": "c153d2fd-8501-45f9-fe14-b3cc24fadb14"
      },
      "source": [
        "# 성별 이용건수는?\n",
        "result = bike_station_data.groupby(['성별'])['이용건수'].sum()\n",
        "result"
      ],
      "execution_count": null,
      "outputs": [
        {
          "output_type": "execute_result",
          "data": {
            "text/plain": [
              "성별\n",
              "F    138783\n",
              "M    268376\n",
              "U    332119\n",
              "Name: 이용건수, dtype: int64"
            ]
          },
          "metadata": {
            "tags": []
          },
          "execution_count": 105
        }
      ]
    },
    {
      "cell_type": "code",
      "metadata": {
        "id": "lKiHAXa8HJPn",
        "colab": {
          "base_uri": "https://localhost:8080/"
        },
        "outputId": "770aa50e-8b14-46f0-d1c4-ad0e242dcca4"
      },
      "source": [
        "# 내림차순 정렬\n",
        "# sort_values(ascending=False) \n",
        "result.sort_values(ascending=False) "
      ],
      "execution_count": null,
      "outputs": [
        {
          "output_type": "execute_result",
          "data": {
            "text/plain": [
              "성별\n",
              "U    332119\n",
              "M    268376\n",
              "F    138783\n",
              "Name: 이용건수, dtype: int64"
            ]
          },
          "metadata": {
            "tags": []
          },
          "execution_count": 106
        }
      ]
    },
    {
      "cell_type": "markdown",
      "metadata": {
        "id": "5h5faTbUUqO8"
      },
      "source": [
        "\n",
        "### 연령대별 이용건수는?"
      ]
    },
    {
      "cell_type": "code",
      "metadata": {
        "colab": {
          "base_uri": "https://localhost:8080/"
        },
        "id": "7JeEFcIeqLAz",
        "outputId": "84c09fec-bfb4-48a6-c115-4b01682f3800"
      },
      "source": [
        "bike_station_data.info()"
      ],
      "execution_count": null,
      "outputs": [
        {
          "output_type": "stream",
          "text": [
            "<class 'pandas.core.frame.DataFrame'>\n",
            "Int64Index: 687867 entries, 0 to 687866\n",
            "Data columns (total 13 columns):\n",
            " #   Column  Non-Null Count   Dtype  \n",
            "---  ------  --------------   -----  \n",
            " 0   대여일자    687867 non-null  object \n",
            " 1   대여시간    687867 non-null  int64  \n",
            " 2   대여소번호   687867 non-null  int64  \n",
            " 3   대여소명    687867 non-null  object \n",
            " 4   대여구분코드  687867 non-null  object \n",
            " 5   성별      687867 non-null  object \n",
            " 6   연령대코드   687867 non-null  object \n",
            " 7   이용건수    687867 non-null  int64  \n",
            " 8   운동량     687867 non-null  float64\n",
            " 9   탄소량     687867 non-null  float64\n",
            " 10  이동거리    687867 non-null  float64\n",
            " 11  사용시간    687867 non-null  int64  \n",
            " 12  소재지     687867 non-null  object \n",
            "dtypes: float64(3), int64(4), object(6)\n",
            "memory usage: 73.5+ MB\n"
          ],
          "name": "stdout"
        }
      ]
    },
    {
      "cell_type": "code",
      "metadata": {
        "id": "ePcgz-bNGVxK",
        "colab": {
          "base_uri": "https://localhost:8080/"
        },
        "outputId": "0577d7d4-3c0b-4d61-c8e0-724586b98b6f"
      },
      "source": [
        "# 연령대별 이용건수는?\n",
        "result = bike_station_data.groupby(['연령대코드'])['이용건수'].sum()\n",
        "result = result.sort_values(ascending=False)\n",
        "result"
      ],
      "execution_count": null,
      "outputs": [
        {
          "output_type": "execute_result",
          "data": {
            "text/plain": [
              "연령대코드\n",
              "20대     283667\n",
              "30대     189911\n",
              "40대     129627\n",
              "50대      79753\n",
              "~10대     27216\n",
              "60대      25190\n",
              "70대~      3914\n",
              "Name: 이용건수, dtype: int64"
            ]
          },
          "metadata": {
            "tags": []
          },
          "execution_count": 109
        }
      ]
    },
    {
      "cell_type": "code",
      "metadata": {
        "id": "BV2WCrl-UDF8",
        "colab": {
          "base_uri": "https://localhost:8080/",
          "height": 266
        },
        "outputId": "669e5a8a-b30a-4d8b-d5c9-961d8a1eddb2"
      },
      "source": [
        "# 막대그래프로 시각화\n",
        "x = result.index\n",
        "y = result.values\n",
        "\n",
        "plt.bar(x, y)\n",
        "plt.show()"
      ],
      "execution_count": null,
      "outputs": [
        {
          "output_type": "display_data",
          "data": {
            "image/png": "[encoded data removed]",
            "text/plain": [
              "<Figure size 432x288 with 1 Axes>"
            ]
          },
          "metadata": {
            "tags": [],
            "image/png": {
              "width": 391,
              "height": 249
            },
            "needs_background": "light"
          }
        }
      ]
    },
    {
      "cell_type": "markdown",
      "metadata": {
        "id": "dzyy4SmPDDSC"
      },
      "source": [
        "### 연령대별 대여구분코드는?"
      ]
    },
    {
      "cell_type": "markdown",
      "metadata": {
        "id": "wmRx_cgBDIBL"
      },
      "source": [
        "* 교차테이블을 이용한 데이터 그룹화"
      ]
    },
    {
      "cell_type": "code",
      "metadata": {
        "colab": {
          "base_uri": "https://localhost:8080/",
          "height": 297
        },
        "id": "NCFl40m_DHch",
        "outputId": "276146cb-4b49-45a9-a468-f08bfa4a8746"
      },
      "source": [
        "# pd.crosstab 이용\n",
        "# pivot()\n",
        "# 교차테이블, 2차원도수부분포표\n",
        "ct = pd.crosstab(bike_station_data['연령대코드'], bike_station_data['대여구분코드'])\n",
        "ct"
      ],
      "execution_count": null,
      "outputs": [
        {
          "output_type": "execute_result",
          "data": {
            "text/html": [
              "<div>\n",
              "<style scoped>\n",
              "    .dataframe tbody tr th:only-of-type {\n",
              "        vertical-align: middle;\n",
              "    }\n",
              "\n",
              "    .dataframe tbody tr th {\n",
              "        vertical-align: top;\n",
              "    }\n",
              "\n",
              "    .dataframe thead th {\n",
              "        text-align: right;\n",
              "    }\n",
              "</style>\n",
              "<table border=\"1\" class=\"dataframe\">\n",
              "  <thead>\n",
              "    <tr style=\"text-align: right;\">\n",
              "      <th>대여구분코드</th>\n",
              "      <th>단체권</th>\n",
              "      <th>일일권</th>\n",
              "      <th>일일권(비회원)</th>\n",
              "      <th>정기권</th>\n",
              "    </tr>\n",
              "    <tr>\n",
              "      <th>연령대코드</th>\n",
              "      <th></th>\n",
              "      <th></th>\n",
              "      <th></th>\n",
              "      <th></th>\n",
              "    </tr>\n",
              "  </thead>\n",
              "  <tbody>\n",
              "    <tr>\n",
              "      <th>20대</th>\n",
              "      <td>609</td>\n",
              "      <td>61460</td>\n",
              "      <td>1</td>\n",
              "      <td>196446</td>\n",
              "    </tr>\n",
              "    <tr>\n",
              "      <th>30대</th>\n",
              "      <td>258</td>\n",
              "      <td>27669</td>\n",
              "      <td>6</td>\n",
              "      <td>148579</td>\n",
              "    </tr>\n",
              "    <tr>\n",
              "      <th>40대</th>\n",
              "      <td>843</td>\n",
              "      <td>13459</td>\n",
              "      <td>0</td>\n",
              "      <td>107655</td>\n",
              "    </tr>\n",
              "    <tr>\n",
              "      <th>50대</th>\n",
              "      <td>127</td>\n",
              "      <td>4571</td>\n",
              "      <td>0</td>\n",
              "      <td>72404</td>\n",
              "    </tr>\n",
              "    <tr>\n",
              "      <th>60대</th>\n",
              "      <td>12</td>\n",
              "      <td>861</td>\n",
              "      <td>0</td>\n",
              "      <td>23937</td>\n",
              "    </tr>\n",
              "    <tr>\n",
              "      <th>70대~</th>\n",
              "      <td>1</td>\n",
              "      <td>196</td>\n",
              "      <td>0</td>\n",
              "      <td>3667</td>\n",
              "    </tr>\n",
              "    <tr>\n",
              "      <th>~10대</th>\n",
              "      <td>459</td>\n",
              "      <td>10103</td>\n",
              "      <td>0</td>\n",
              "      <td>14544</td>\n",
              "    </tr>\n",
              "  </tbody>\n",
              "</table>\n",
              "</div>"
            ],
            "text/plain": [
              "대여구분코드  단체권    일일권  일일권(비회원)     정기권\n",
              "연령대코드                               \n",
              "20대     609  61460         1  196446\n",
              "30대     258  27669         6  148579\n",
              "40대     843  13459         0  107655\n",
              "50대     127   4571         0   72404\n",
              "60대      12    861         0   23937\n",
              "70대~      1    196         0    3667\n",
              "~10대    459  10103         0   14544"
            ]
          },
          "metadata": {
            "tags": []
          },
          "execution_count": 111
        }
      ]
    },
    {
      "cell_type": "markdown",
      "metadata": {
        "id": "dgJrzhCYU1fo"
      },
      "source": [
        "### 대여일자 별 이용건수는?"
      ]
    },
    {
      "cell_type": "code",
      "metadata": {
        "id": "Ihmg95EfJQRV",
        "colab": {
          "base_uri": "https://localhost:8080/"
        },
        "outputId": "2c30dd46-561e-4404-a1c7-48cdd3eadd6c"
      },
      "source": [
        "# 대여일자 별 이용건수\n",
        "result = bike_station_data.groupby(['대여일자'])['이용건수'].sum()\n",
        "result\n"
      ],
      "execution_count": null,
      "outputs": [
        {
          "output_type": "execute_result",
          "data": {
            "text/plain": [
              "대여일자\n",
              "2021-01-01    20921\n",
              "2021-01-02    22480\n",
              "2021-01-03    20736\n",
              "2021-01-04    31789\n",
              "2021-01-05    27904\n",
              "2021-01-06    21448\n",
              "2021-01-07     5443\n",
              "2021-01-08     7869\n",
              "2021-01-09     8800\n",
              "2021-01-10    10536\n",
              "2021-01-11    18826\n",
              "2021-01-12    12439\n",
              "2021-01-13    18830\n",
              "2021-01-14    30701\n",
              "2021-01-15    30817\n",
              "2021-01-16    21135\n",
              "2021-01-17    16900\n",
              "2021-01-18    17537\n",
              "2021-01-19    25759\n",
              "2021-01-20    34646\n",
              "2021-01-22    32840\n",
              "2021-01-23    38376\n",
              "2021-01-24    41013\n",
              "2021-01-25    49161\n",
              "2021-01-26    24943\n",
              "2021-01-27    42386\n",
              "2021-01-28    21932\n",
              "2021-01-29    23526\n",
              "2021-01-30    26070\n",
              "2021-01-31    33515\n",
              "Name: 이용건수, dtype: int64"
            ]
          },
          "metadata": {
            "tags": []
          },
          "execution_count": 112
        }
      ]
    },
    {
      "cell_type": "code",
      "metadata": {
        "id": "iHbg8OBFSM4s",
        "colab": {
          "base_uri": "https://localhost:8080/",
          "height": 413
        },
        "outputId": "c8fa32b6-78d5-44e8-bdbf-8c9b79f3ddf9"
      },
      "source": [
        "# 라인그래프로 시각화\n",
        "x = result.index\n",
        "y = result.values\n",
        "\n",
        "plt.figure(figsize=(10,6))\n",
        "plt.plot(x, y)\n",
        "plt.xticks(rotation=45)\n",
        "plt.show()"
      ],
      "execution_count": null,
      "outputs": [
        {
          "output_type": "display_data",
          "data": {
            "image/png": "[encoded data removed]",
            "text/plain": [
              "<Figure size 720x432 with 1 Axes>"
            ]
          },
          "metadata": {
            "tags": [],
            "image/png": {
              "width": 608,
              "height": 396
            },
            "needs_background": "light"
          }
        }
      ]
    },
    {
      "cell_type": "markdown",
      "metadata": {
        "id": "9XQZTN8oVHqs"
      },
      "source": [
        "###소재지별 이용건수는?"
      ]
    },
    {
      "cell_type": "code",
      "metadata": {
        "id": "As8z-Y6hGdsm",
        "colab": {
          "base_uri": "https://localhost:8080/"
        },
        "outputId": "9923331f-8b71-4450-e9a5-aa83b422639b"
      },
      "source": [
        "# 소재지별 이용건수는?\n",
        "result = bike_station_data.groupby(['소재지'])['이용건수'].sum()\n",
        "result = result.sort_values(ascending=False)\n",
        "result"
      ],
      "execution_count": null,
      "outputs": [
        {
          "output_type": "execute_result",
          "data": {
            "text/plain": [
              "소재지\n",
              "강서구     70323\n",
              "영등포구    57770\n",
              "송파구     50310\n",
              "마포구     43226\n",
              "양천구     40152\n",
              "노원구     38700\n",
              "광진구     34580\n",
              "종로구     33377\n",
              "성동구     32802\n",
              "동대문구    31028\n",
              "구로구     28484\n",
              "서초구     25806\n",
              "관악구     24529\n",
              "강동구     24243\n",
              "성북구     24004\n",
              "은평구     23185\n",
              "강남구     21688\n",
              "중랑구     21002\n",
              "서대문구    20830\n",
              "중구      19041\n",
              "동작구     16795\n",
              "도봉구     15246\n",
              "용산구     15245\n",
              "강북구     14854\n",
              "금천구     12058\n",
              "Name: 이용건수, dtype: int64"
            ]
          },
          "metadata": {
            "tags": []
          },
          "execution_count": 117
        }
      ]
    },
    {
      "cell_type": "code",
      "metadata": {
        "id": "JeftFftaSzOC",
        "colab": {
          "base_uri": "https://localhost:8080/",
          "height": 397
        },
        "outputId": "7168f84a-3c8b-4c52-b5e1-7fa29d5a3d53"
      },
      "source": [
        "# 막대그래프로 시각화\n",
        "\n",
        "plt.figure(figsize=(10,6))\n",
        "plt.bar(result.index, result.values)\n",
        "plt.xticks(rotation=45)\n",
        "plt.show()"
      ],
      "execution_count": null,
      "outputs": [
        {
          "output_type": "display_data",
          "data": {
            "image/png": "[encoded data removed]",
            "text/plain": [
              "<Figure size 720x432 with 1 Axes>"
            ]
          },
          "metadata": {
            "tags": [],
            "image/png": {
              "width": 608,
              "height": 380
            },
            "needs_background": "light"
          }
        }
      ]
    }
  ]
}