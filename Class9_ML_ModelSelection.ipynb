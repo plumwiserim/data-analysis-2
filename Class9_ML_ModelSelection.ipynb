{
  "nbformat": 4,
  "nbformat_minor": 0,
  "metadata": {
    "kernelspec": {
      "display_name": "Python 3",
      "language": "python",
      "name": "python3"
    },
    "language_info": {
      "codemirror_mode": {
        "name": "ipython",
        "version": 3
      },
      "file_extension": ".py",
      "mimetype": "text/x-python",
      "name": "python",
      "nbconvert_exporter": "python",
      "pygments_lexer": "ipython3",
      "version": "3.8.8"
    },
    "toc": {
      "base_numbering": 1,
      "nav_menu": {},
      "number_sections": true,
      "sideBar": true,
      "skip_h1_title": false,
      "title_cell": "Table of Contents",
      "title_sidebar": "Contents",
      "toc_cell": false,
      "toc_position": {},
      "toc_section_display": true,
      "toc_window_display": false
    },
    "colab": {
      "name": "Class9_ML_ModelSelection.ipynb의 사본",
      "provenance": [],
      "collapsed_sections": [
        "hW_o8G2pLMH8",
        "F1DHfX0kLMH9",
        "NMB6mpVbLMH-",
        "ArCEns3mLMH-",
        "UFs8YKVfLMH-"
      ],
      "include_colab_link": true
    }
  },
  "cells": [
    {
      "cell_type": "markdown",
      "metadata": {
        "id": "view-in-github",
        "colab_type": "text"
      },
      "source": [
        "<a href=\"https://colab.research.google.com/github/plumwiserim/Data-Analysis/blob/main/Class9_ML_ModelSelection.ipynb\" target=\"_parent\"><img src=\"https://colab.research.google.com/assets/colab-badge.svg\" alt=\"Open In Colab\"/></a>"
      ]
    },
    {
      "cell_type": "markdown",
      "metadata": {
        "id": "D6WHsBInLMH2"
      },
      "source": [
        "# Day4. 파이썬 머신러닝 실습\n",
        "## 교차 검증 - KFold"
      ]
    },
    {
      "cell_type": "code",
      "metadata": {
        "id": "cDcKcTTxLMH3"
      },
      "source": [
        "# 모델 구현을 위한 라이브러리 로딩\n",
        "from sklearn.datasets import load_iris\n",
        "import numpy as np\n",
        "import pandas as pd\n",
        "from sklearn.tree import DecisionTreeClassifier\n",
        "from sklearn.metrics import accuracy_score"
      ],
      "execution_count": null,
      "outputs": []
    },
    {
      "cell_type": "code",
      "metadata": {
        "colab": {
          "base_uri": "https://localhost:8080/"
        },
        "id": "dsvQ13zMLMH4",
        "outputId": "cf35bf84-0ca5-454e-80cd-36ff374d1c72"
      },
      "source": [
        "# load_iris() 메서드를 이용하여 iris 데이터 셋 로드\n",
        "iris = load_iris()\n",
        "iris_df = pd.DataFrame(data=iris.data, columns=iris.feature_names)\n",
        "iris_df.info()"
      ],
      "execution_count": null,
      "outputs": [
        {
          "output_type": "stream",
          "text": [
            "<class 'pandas.core.frame.DataFrame'>\n",
            "RangeIndex: 150 entries, 0 to 149\n",
            "Data columns (total 4 columns):\n",
            " #   Column             Non-Null Count  Dtype  \n",
            "---  ------             --------------  -----  \n",
            " 0   sepal length (cm)  150 non-null    float64\n",
            " 1   sepal width (cm)   150 non-null    float64\n",
            " 2   petal length (cm)  150 non-null    float64\n",
            " 3   petal width (cm)   150 non-null    float64\n",
            "dtypes: float64(4)\n",
            "memory usage: 4.8 KB\n"
          ],
          "name": "stdout"
        }
      ]
    },
    {
      "cell_type": "code",
      "metadata": {
        "colab": {
          "base_uri": "https://localhost:8080/"
        },
        "id": "1dFFW9L1LMH5",
        "outputId": "46a43972-1e3a-4011-b53b-2a521bba6c01"
      },
      "source": [
        "iris_df['label']  = iris.target\n",
        "iris_df['label'].value_counts()"
      ],
      "execution_count": null,
      "outputs": [
        {
          "output_type": "execute_result",
          "data": {
            "text/plain": [
              "2    50\n",
              "1    50\n",
              "0    50\n",
              "Name: label, dtype: int64"
            ]
          },
          "metadata": {},
          "execution_count": 27
        }
      ]
    },
    {
      "cell_type": "code",
      "metadata": {
        "colab": {
          "base_uri": "https://localhost:8080/",
          "height": 143
        },
        "id": "J0-dxhSzLMH5",
        "outputId": "a04e051a-c3cb-4ec9-86c3-9d8c126f6150"
      },
      "source": [
        "iris_df.head(3)"
      ],
      "execution_count": null,
      "outputs": [
        {
          "output_type": "execute_result",
          "data": {
            "text/html": [
              "<div>\n",
              "<style scoped>\n",
              "    .dataframe tbody tr th:only-of-type {\n",
              "        vertical-align: middle;\n",
              "    }\n",
              "\n",
              "    .dataframe tbody tr th {\n",
              "        vertical-align: top;\n",
              "    }\n",
              "\n",
              "    .dataframe thead th {\n",
              "        text-align: right;\n",
              "    }\n",
              "</style>\n",
              "<table border=\"1\" class=\"dataframe\">\n",
              "  <thead>\n",
              "    <tr style=\"text-align: right;\">\n",
              "      <th></th>\n",
              "      <th>sepal length (cm)</th>\n",
              "      <th>sepal width (cm)</th>\n",
              "      <th>petal length (cm)</th>\n",
              "      <th>petal width (cm)</th>\n",
              "      <th>label</th>\n",
              "    </tr>\n",
              "  </thead>\n",
              "  <tbody>\n",
              "    <tr>\n",
              "      <th>0</th>\n",
              "      <td>5.1</td>\n",
              "      <td>3.5</td>\n",
              "      <td>1.4</td>\n",
              "      <td>0.2</td>\n",
              "      <td>0</td>\n",
              "    </tr>\n",
              "    <tr>\n",
              "      <th>1</th>\n",
              "      <td>4.9</td>\n",
              "      <td>3.0</td>\n",
              "      <td>1.4</td>\n",
              "      <td>0.2</td>\n",
              "      <td>0</td>\n",
              "    </tr>\n",
              "    <tr>\n",
              "      <th>2</th>\n",
              "      <td>4.7</td>\n",
              "      <td>3.2</td>\n",
              "      <td>1.3</td>\n",
              "      <td>0.2</td>\n",
              "      <td>0</td>\n",
              "    </tr>\n",
              "  </tbody>\n",
              "</table>\n",
              "</div>"
            ],
            "text/plain": [
              "   sepal length (cm)  sepal width (cm)  ...  petal width (cm)  label\n",
              "0                5.1               3.5  ...               0.2      0\n",
              "1                4.9               3.0  ...               0.2      0\n",
              "2                4.7               3.2  ...               0.2      0\n",
              "\n",
              "[3 rows x 5 columns]"
            ]
          },
          "metadata": {},
          "execution_count": 28
        }
      ]
    },
    {
      "cell_type": "code",
      "metadata": {
        "colab": {
          "base_uri": "https://localhost:8080/"
        },
        "id": "kYAdBgNeLMH5",
        "outputId": "40217ba5-8c05-424a-8c2e-ddedf9fb00b3"
      },
      "source": [
        "from sklearn.model_selection import KFold\n",
        "\n",
        "kfold = KFold(n_splits=3)\n",
        "n_iter = 0\n",
        "\n",
        "for train_index, test_index in kfold.split(iris_df):\n",
        "    n_iter+=1\n",
        "    label_train = iris_df['label'].iloc[train_index]\n",
        "    label_test = iris_df['label'].iloc[test_index]\n",
        "    print('\\n##교차 검증: {0}'.format(n_iter))\n",
        "    print('학습 레이블 분포: \\n', label_train.value_counts())\n",
        "    print('검증 레이블 분포: \\n', label_test.value_counts())"
      ],
      "execution_count": null,
      "outputs": [
        {
          "output_type": "stream",
          "text": [
            "\n",
            "##교차 검증: 1\n",
            "학습 레이블 분포: \n",
            " 2    50\n",
            "1    50\n",
            "Name: label, dtype: int64\n",
            "검증 레이블 분포: \n",
            " 0    50\n",
            "Name: label, dtype: int64\n",
            "\n",
            "##교차 검증: 2\n",
            "학습 레이블 분포: \n",
            " 2    50\n",
            "0    50\n",
            "Name: label, dtype: int64\n",
            "검증 레이블 분포: \n",
            " 1    50\n",
            "Name: label, dtype: int64\n",
            "\n",
            "##교차 검증: 3\n",
            "학습 레이블 분포: \n",
            " 1    50\n",
            "0    50\n",
            "Name: label, dtype: int64\n",
            "검증 레이블 분포: \n",
            " 2    50\n",
            "Name: label, dtype: int64\n"
          ],
          "name": "stdout"
        }
      ]
    },
    {
      "cell_type": "markdown",
      "metadata": {
        "id": "fHknDcroLMH5"
      },
      "source": [
        "## 교차 검증 - StratifiedKFold"
      ]
    },
    {
      "cell_type": "code",
      "metadata": {
        "colab": {
          "base_uri": "https://localhost:8080/"
        },
        "id": "JjXS_6dSLMH6",
        "outputId": "09aff24e-087d-433b-a7be-d179d43d0e0e"
      },
      "source": [
        "from sklearn.model_selection import StratifiedKFold\n",
        "\n",
        "skf = StratifiedKFold(n_splits=3)\n",
        "n_iter = 0\n",
        "\n",
        "for train_index, test_index in skf.split(iris_df[iris_df.columns], iris_df['label']):\n",
        "    n_iter += 1\n",
        "    label_train = iris_df['label'].iloc[train_index]\n",
        "    label_test = iris_df['label'].iloc[test_index]\n",
        "    print('\\n## 교차검증: {0}'.format(n_iter))\n",
        "    print('학습 레이블 데이터 분포: \\n', label_train.value_counts())\n",
        "    print('검증 레이블 데이터 분포: \\n', label_test.value_counts())"
      ],
      "execution_count": null,
      "outputs": [
        {
          "output_type": "stream",
          "text": [
            "\n",
            "## 교차검증: 1\n",
            "학습 레이블 데이터 분포: \n",
            " 2    34\n",
            "1    33\n",
            "0    33\n",
            "Name: label, dtype: int64\n",
            "검증 레이블 데이터 분포: \n",
            " 1    17\n",
            "0    17\n",
            "2    16\n",
            "Name: label, dtype: int64\n",
            "\n",
            "## 교차검증: 2\n",
            "학습 레이블 데이터 분포: \n",
            " 1    34\n",
            "2    33\n",
            "0    33\n",
            "Name: label, dtype: int64\n",
            "검증 레이블 데이터 분포: \n",
            " 2    17\n",
            "0    17\n",
            "1    16\n",
            "Name: label, dtype: int64\n",
            "\n",
            "## 교차검증: 3\n",
            "학습 레이블 데이터 분포: \n",
            " 0    34\n",
            "2    33\n",
            "1    33\n",
            "Name: label, dtype: int64\n",
            "검증 레이블 데이터 분포: \n",
            " 2    17\n",
            "1    17\n",
            "0    16\n",
            "Name: label, dtype: int64\n"
          ],
          "name": "stdout"
        }
      ]
    },
    {
      "cell_type": "code",
      "metadata": {
        "id": "ukC-Fcc9LMH7"
      },
      "source": [
        "# load_iris() 메서드를 이용하여 iris 데이터 셋 로드\n",
        "iris = load_iris()\n",
        "#data = iris.data\n",
        "label = iris.target\n",
        "\n",
        "iris_df = pd.DataFrame(data=iris.data, columns=iris.feature_names)\n",
        "iris_df['label'] = label\n",
        "\n",
        "# 붓꽃 데이터 세트에서 Stratified Kfold 를 이용한 검증\n",
        "dt_clf = DecisionTreeClassifier()\n",
        "\n",
        "skfold = StratifiedKFold(n_splits=3)\n",
        "n_iter = 0\n",
        "cv_accuracy = []"
      ],
      "execution_count": null,
      "outputs": []
    },
    {
      "cell_type": "code",
      "metadata": {
        "colab": {
          "base_uri": "https://localhost:8080/"
        },
        "id": "B_-R2SGEUmQ1",
        "outputId": "42aff85e-e5d0-4d4b-cf1f-c5b1ca823610"
      },
      "source": [
        "iris_df.shape"
      ],
      "execution_count": null,
      "outputs": [
        {
          "output_type": "execute_result",
          "data": {
            "text/plain": [
              "(150, 5)"
            ]
          },
          "metadata": {},
          "execution_count": 32
        }
      ]
    },
    {
      "cell_type": "code",
      "metadata": {
        "colab": {
          "base_uri": "https://localhost:8080/"
        },
        "id": "JPP9Z3P6LMH7",
        "outputId": "527c1386-f7a1-4f61-cac1-4bedac3f9728"
      },
      "source": [
        "# StratifiedKFold의 split 호출 시 반드시 레이블 데이터 세트도 추가 입력 필요\n",
        "for train_index, test_index in skfold.split(iris_df[iris_df.columns], iris_df['label']):\n",
        "\n",
        "    #split()으로 반환된 인덱스를 이용해 학습용, 검증용 테스트 데이터 추출\n",
        "    X_train, X_test = iris_df.iloc[train_index], iris_df.iloc[test_index]\n",
        "    y_train, y_test = label[train_index], label[test_index]\n",
        "\n",
        "    # 학습 및 예측\n",
        "    dt_clf.fit(X_train, y_train)\n",
        "    pred = dt_clf.predict(X_test)\n",
        "\n",
        "    # 반복 시마다 정확도 측정\n",
        "    n_iter += 1\n",
        "    accuracy = np.round(accuracy_score(y_test, pred),4)\n",
        "    \n",
        "    train_size = X_train.shape[0]\n",
        "    test_size = X_test.shape[0]\n",
        "    print('{0} 교차검증 정확도: {1}, 학습데이터 크기: {2}, 검증데이터 크기: {3}'\n",
        "          .format(n_iter, accuracy, train_size, test_size))\n",
        "    cv_accuracy.append(accuracy)\n",
        "    \n",
        "# 교차검증별 정확도 및 평균정확도 계산\n",
        "print('\\n교차검증별 정확도: ', cv_accuracy)\n",
        "print('평균 검증 정확도: ', np.mean(cv_accuracy))"
      ],
      "execution_count": null,
      "outputs": [
        {
          "output_type": "stream",
          "text": [
            "1 교차검증 정확도: 1.0, 학습데이터 크기: 100, 검증데이터 크기: 50\n",
            "2 교차검증 정확도: 1.0, 학습데이터 크기: 100, 검증데이터 크기: 50\n",
            "3 교차검증 정확도: 1.0, 학습데이터 크기: 100, 검증데이터 크기: 50\n",
            "\n",
            "교차검증별 정확도:  [1.0, 1.0, 1.0]\n",
            "평균 검증 정확도:  1.0\n"
          ],
          "name": "stdout"
        }
      ]
    },
    {
      "cell_type": "markdown",
      "metadata": {
        "id": "MdHCGFylLMH7"
      },
      "source": [
        "### cross_val_score"
      ]
    },
    {
      "cell_type": "code",
      "metadata": {
        "id": "G9IvvECTLMH7"
      },
      "source": [
        "# K Fold Validation을 위한 cross_val_score() 메서드 로딩\n",
        "from sklearn.model_selection import cross_val_score\n",
        "\n",
        "# 모델 구현을 위한 라이브러리 로딩\n",
        "from sklearn.tree import DecisionTreeClassifier\n",
        "from sklearn.datasets import load_iris\n",
        "import numpy as np"
      ],
      "execution_count": null,
      "outputs": []
    },
    {
      "cell_type": "code",
      "metadata": {
        "id": "G5G--MHdLMH8"
      },
      "source": [
        "# load_iris() 메서드를 이용하여 iris 데이터 셋 로드\n",
        "iris = load_iris()\n",
        "data = iris.data\n",
        "label = iris.target"
      ],
      "execution_count": null,
      "outputs": []
    },
    {
      "cell_type": "code",
      "metadata": {
        "id": "nByQqop-LMH8"
      },
      "source": [
        "# DecisionTreeClassifier 모델 객체 생성\n",
        "dt_clf = DecisionTreeClassifier(random_state=156)"
      ],
      "execution_count": null,
      "outputs": []
    },
    {
      "cell_type": "code",
      "metadata": {
        "id": "-fjlFVr-LMH8"
      },
      "source": [
        "# cross_val_score() 메서드를 이용하여 교차 검증 수행\n",
        "scores = cross_val_score(estimator=dt_clf,\n",
        "                         X=data, \n",
        "                         y=label,\n",
        "                         scoring='accuracy',\n",
        "                         cv=3)"
      ],
      "execution_count": null,
      "outputs": []
    },
    {
      "cell_type": "code",
      "metadata": {
        "colab": {
          "base_uri": "https://localhost:8080/"
        },
        "id": "zhWyYHwCLMH8",
        "outputId": "0e0e228e-21f9-4378-bf0a-28f413c11b0f"
      },
      "source": [
        "# 교차 검증 수행 결과 성능 지표 출력\n",
        "print('Fold val accuracy:',np.round(scores, 4))\n",
        "print('Avg val accuracy:', np.round(np.mean(scores), 4))"
      ],
      "execution_count": null,
      "outputs": [
        {
          "output_type": "stream",
          "text": [
            "Fold val accuracy: [0.98 0.94 0.98]\n",
            "Avg val accuracy: 0.9667\n"
          ],
          "name": "stdout"
        }
      ]
    },
    {
      "cell_type": "markdown",
      "metadata": {
        "id": "hW_o8G2pLMH8"
      },
      "source": [
        "### GridSearchCV\n",
        "- estimator: 구현하고자 하는 모델(Classification, Regression)\n",
        "- param_grid: 모델의 튜닝에 사용될 파라미터 정보, 딕셔너리\n",
        "- scoring: 검증 지표(성능 평가 지표)\n",
        "- cv: Cross Validation의 Fold 숫자\n",
        "- refit: 최적의 파라미터로 모델을 재 학습 시킬지 여부\n"
      ]
    },
    {
      "cell_type": "code",
      "metadata": {
        "id": "5t3ID4beLMH8"
      },
      "source": [
        "# 하이퍼파라미터 튜닝을 을 위한 GridSearchCV 라이브러리 로딩\n",
        "from sklearn.model_selection import GridSearchCV\n",
        "\n",
        "# 모델 구현을 위한 라이브러리 로딩\n",
        "from sklearn.datasets import load_iris\n",
        "from sklearn.model_selection import train_test_split\n",
        "from sklearn.metrics import accuracy_score\n",
        "from sklearn.tree import DecisionTreeClassifier"
      ],
      "execution_count": null,
      "outputs": []
    },
    {
      "cell_type": "code",
      "metadata": {
        "id": "Dx3DHPF-LMH8"
      },
      "source": [
        "# load_iris() 메서드를 이용하여 iris 데이터 셋 로드\n",
        "iris = load_iris()\n",
        "\n",
        "# 학습, 테스트 데이터셋 분리\n",
        "x_train, x_test, y_train, y_test = train_test_split(iris.data, \n",
        "                                                    iris.target, \n",
        "                                                    test_size=0.2,\n",
        "                                                    random_state=121)"
      ],
      "execution_count": null,
      "outputs": []
    },
    {
      "cell_type": "code",
      "metadata": {
        "id": "9uvkCSTRLMH9"
      },
      "source": [
        "# DecisionTreeClassifier 모델 객체 생성\n",
        "dtree = DecisionTreeClassifier()\n",
        "\n",
        "# 모델의 후보 파라미터 셋(param_grid)을 지정한 딕셔너리 객체 생성\n",
        "parameters = {'max_depth':[1,2,3],\n",
        "              'min_samples_split':[2,3]}"
      ],
      "execution_count": null,
      "outputs": []
    },
    {
      "cell_type": "code",
      "metadata": {
        "id": "s5EbpPyxLMH9"
      },
      "source": [
        "# GridSearchCV 객체 생성\n",
        "grid_dtree = GridSearchCV(estimator=dtree,\n",
        "                          param_grid=parameters,\n",
        "                          cv=3,\n",
        "                          refit=True)"
      ],
      "execution_count": null,
      "outputs": []
    },
    {
      "cell_type": "code",
      "metadata": {
        "colab": {
          "base_uri": "https://localhost:8080/"
        },
        "id": "NITkCOE5LMH9",
        "outputId": "615a3778-f567-4d14-87dd-c1a07e647650"
      },
      "source": [
        "# GridSearchCV 객체의 fit() 메서드를 이용하여\n",
        "# 후보 파라미터 셋의 성능 검증\n",
        "grid_dtree.fit(x_train, y_train)"
      ],
      "execution_count": null,
      "outputs": [
        {
          "output_type": "execute_result",
          "data": {
            "text/plain": [
              "GridSearchCV(cv=3, error_score=nan,\n",
              "             estimator=DecisionTreeClassifier(ccp_alpha=0.0, class_weight=None,\n",
              "                                              criterion='gini', max_depth=None,\n",
              "                                              max_features=None,\n",
              "                                              max_leaf_nodes=None,\n",
              "                                              min_impurity_decrease=0.0,\n",
              "                                              min_impurity_split=None,\n",
              "                                              min_samples_leaf=1,\n",
              "                                              min_samples_split=2,\n",
              "                                              min_weight_fraction_leaf=0.0,\n",
              "                                              presort='deprecated',\n",
              "                                              random_state=None,\n",
              "                                              splitter='best'),\n",
              "             iid='deprecated', n_jobs=None,\n",
              "             param_grid={'max_depth': [1, 2, 3], 'min_samples_split': [2, 3]},\n",
              "             pre_dispatch='2*n_jobs', refit=True, return_train_score=False,\n",
              "             scoring=None, verbose=0)"
            ]
          },
          "metadata": {},
          "execution_count": 43
        }
      ]
    },
    {
      "cell_type": "code",
      "metadata": {
        "colab": {
          "base_uri": "https://localhost:8080/"
        },
        "id": "Jtsn_oh9LMH9",
        "outputId": "8a0829d1-baa6-4b45-8aa7-99ce70af244c"
      },
      "source": [
        "# 후보 파라미터 셋의 성능 검증 결과 출력\n",
        "print('Optimal parameter:', grid_dtree.best_params_)\n",
        "print('Max accuracy: {0:.4f}'.format(grid_dtree.best_score_))"
      ],
      "execution_count": null,
      "outputs": [
        {
          "output_type": "stream",
          "text": [
            "Optimal parameter: {'max_depth': 3, 'min_samples_split': 2}\n",
            "Max accuracy: 0.9750\n"
          ],
          "name": "stdout"
        }
      ]
    },
    {
      "cell_type": "code",
      "metadata": {
        "colab": {
          "base_uri": "https://localhost:8080/"
        },
        "id": "emdE7NtaLMH9",
        "outputId": "3ba716bf-121f-41b7-8e0c-c7b6f9aafc49"
      },
      "source": [
        "# 최적의 파라미터 모델을 이용하여 예측값 생성\n",
        "estimator = grid_dtree.best_estimator_\n",
        "pred = estimator.predict(x_test)\n",
        "\n",
        "\n",
        "# 최적의 파라미터 모델의 성능지표 출력\n",
        "print('Test accuracy: {0:.4f}'.format(accuracy_score(y_test,pred))) \n"
      ],
      "execution_count": null,
      "outputs": [
        {
          "output_type": "stream",
          "text": [
            "Test accuracy: 0.9667\n"
          ],
          "name": "stdout"
        }
      ]
    },
    {
      "cell_type": "markdown",
      "metadata": {
        "id": "F1DHfX0kLMH9"
      },
      "source": [
        "### 타이타닉 데이터셋"
      ]
    },
    {
      "cell_type": "code",
      "metadata": {
        "id": "8b-s9N-WLMH-"
      },
      "source": [
        "import numpy as np\n",
        "import pandas as pd\n",
        "import matplotlib.pyplot as plt\n",
        "import seaborn as sns\n",
        "\n",
        "url = 'https://codepresso-online-platform-public.s3.ap-northeast-2.amazonaws.com/learning-resourse/titanic_train.csv'\n",
        "titanic_df = pd.read_csv(url)"
      ],
      "execution_count": null,
      "outputs": []
    },
    {
      "cell_type": "code",
      "metadata": {
        "id": "xKIXyh-9LMH-"
      },
      "source": [
        "from sklearn.preprocessing import LabelEncoder\n",
        "\n",
        "# 데이터 전처리 기능 모듈화\n",
        "\n",
        "# Null 처리 함수\n",
        "def fillna(df):\n",
        "    df['Age'].fillna(df['Age'].mean(),inplace=True)\n",
        "    df['Cabin'].fillna('N',inplace=True)\n",
        "    df['Embarked'].fillna('N',inplace=True)\n",
        "    return df\n",
        "\n",
        "# 머신러닝 알고리즘에 불필요한 속성 제거\n",
        "def drop_features(df):\n",
        "    df.drop(['PassengerId','Name','Ticket'],axis=1, inplace=True)\n",
        "    return df\n",
        "\n",
        "# 레이블 인코딩 수행. \n",
        "def format_features(df):\n",
        "    df['Cabin'] = df['Cabin'].str[:1]\n",
        "    features = ['Cabin','Sex','Embarked']\n",
        "    for feature in features:\n",
        "        le = LabelEncoder()\n",
        "        le = le.fit(df[feature])\n",
        "        df[feature] = le.transform(df[feature])\n",
        "    return df\n",
        "\n",
        "# 앞에서 설정한 Data Preprocessing 함수 호출\n",
        "def transform_features(df):\n",
        "    df = fillna(df)\n",
        "    df = drop_features(df)\n",
        "    df = format_features(df)\n",
        "    return df"
      ],
      "execution_count": null,
      "outputs": []
    },
    {
      "cell_type": "code",
      "metadata": {
        "colab": {
          "base_uri": "https://localhost:8080/",
          "height": 206
        },
        "id": "vBoW2ootLMH-",
        "outputId": "1e52079e-f9f1-4851-d414-3dba4630d82d"
      },
      "source": [
        "# 원본 데이터 후 transform_features 함수 호출하여 전처리 \n",
        "\n",
        "titanic_df = pd.read_csv(url)\n",
        "y_titanic_df = titanic_df['Survived']\n",
        "X_titanic_df= titanic_df.drop('Survived',axis=1)\n",
        "\n",
        "X_titanic_df = transform_features(X_titanic_df)\n",
        "X_titanic_df.head()"
      ],
      "execution_count": null,
      "outputs": [
        {
          "output_type": "execute_result",
          "data": {
            "text/html": [
              "<div>\n",
              "<style scoped>\n",
              "    .dataframe tbody tr th:only-of-type {\n",
              "        vertical-align: middle;\n",
              "    }\n",
              "\n",
              "    .dataframe tbody tr th {\n",
              "        vertical-align: top;\n",
              "    }\n",
              "\n",
              "    .dataframe thead th {\n",
              "        text-align: right;\n",
              "    }\n",
              "</style>\n",
              "<table border=\"1\" class=\"dataframe\">\n",
              "  <thead>\n",
              "    <tr style=\"text-align: right;\">\n",
              "      <th></th>\n",
              "      <th>Pclass</th>\n",
              "      <th>Sex</th>\n",
              "      <th>Age</th>\n",
              "      <th>SibSp</th>\n",
              "      <th>Parch</th>\n",
              "      <th>Fare</th>\n",
              "      <th>Cabin</th>\n",
              "      <th>Embarked</th>\n",
              "    </tr>\n",
              "  </thead>\n",
              "  <tbody>\n",
              "    <tr>\n",
              "      <th>0</th>\n",
              "      <td>3</td>\n",
              "      <td>1</td>\n",
              "      <td>22.0</td>\n",
              "      <td>1</td>\n",
              "      <td>0</td>\n",
              "      <td>7.2500</td>\n",
              "      <td>7</td>\n",
              "      <td>3</td>\n",
              "    </tr>\n",
              "    <tr>\n",
              "      <th>1</th>\n",
              "      <td>1</td>\n",
              "      <td>0</td>\n",
              "      <td>38.0</td>\n",
              "      <td>1</td>\n",
              "      <td>0</td>\n",
              "      <td>71.2833</td>\n",
              "      <td>2</td>\n",
              "      <td>0</td>\n",
              "    </tr>\n",
              "    <tr>\n",
              "      <th>2</th>\n",
              "      <td>3</td>\n",
              "      <td>0</td>\n",
              "      <td>26.0</td>\n",
              "      <td>0</td>\n",
              "      <td>0</td>\n",
              "      <td>7.9250</td>\n",
              "      <td>7</td>\n",
              "      <td>3</td>\n",
              "    </tr>\n",
              "    <tr>\n",
              "      <th>3</th>\n",
              "      <td>1</td>\n",
              "      <td>0</td>\n",
              "      <td>35.0</td>\n",
              "      <td>1</td>\n",
              "      <td>0</td>\n",
              "      <td>53.1000</td>\n",
              "      <td>2</td>\n",
              "      <td>3</td>\n",
              "    </tr>\n",
              "    <tr>\n",
              "      <th>4</th>\n",
              "      <td>3</td>\n",
              "      <td>1</td>\n",
              "      <td>35.0</td>\n",
              "      <td>0</td>\n",
              "      <td>0</td>\n",
              "      <td>8.0500</td>\n",
              "      <td>7</td>\n",
              "      <td>3</td>\n",
              "    </tr>\n",
              "  </tbody>\n",
              "</table>\n",
              "</div>"
            ],
            "text/plain": [
              "   Pclass  Sex   Age  SibSp  Parch     Fare  Cabin  Embarked\n",
              "0       3    1  22.0      1      0   7.2500      7         3\n",
              "1       1    0  38.0      1      0  71.2833      2         0\n",
              "2       3    0  26.0      0      0   7.9250      7         3\n",
              "3       1    0  35.0      1      0  53.1000      2         3\n",
              "4       3    1  35.0      0      0   8.0500      7         3"
            ]
          },
          "metadata": {},
          "execution_count": 48
        }
      ]
    },
    {
      "cell_type": "code",
      "metadata": {
        "id": "eSCaYSa1LMH-"
      },
      "source": [
        "from sklearn.model_selection import train_test_split\n",
        "\n",
        "X_train, X_test, y_train, y_test=train_test_split(X_titanic_df,\n",
        "                                                  y_titanic_df,\n",
        "                                                  test_size=0.2,\n",
        "                                                 random_state=10)"
      ],
      "execution_count": null,
      "outputs": []
    },
    {
      "cell_type": "code",
      "metadata": {
        "id": "ieVn0QmdLMH-"
      },
      "source": [
        "# 필요한 라이브러리 로딩\n",
        "from sklearn.tree import DecisionTreeClassifier\n",
        "from sklearn.ensemble import RandomForestClassifier\n",
        "from sklearn.linear_model import LogisticRegression\n",
        "\n",
        "#모델 객체 생성 및 학습과 예측 수행\n",
        "dt_clf = DecisionTreeClassifier()\n",
        "rf_clf = RandomForestClassifier()\n",
        "lr_clf = LogisticRegression(max_iter=300)\n",
        "\n",
        "# 각 모델 별 학습 및 예측 수행\n",
        "dt_clf.fit(X_train , y_train)\n",
        "dt_pred = dt_clf.predict(X_test)\n",
        "\n",
        "rf_clf.fit(X_train , y_train)\n",
        "rf_pred = rf_clf.predict(X_test)\n",
        "\n",
        "lr_clf.fit(X_train , y_train)\n",
        "lr_pred = lr_clf.predict(X_test)"
      ],
      "execution_count": null,
      "outputs": []
    },
    {
      "cell_type": "code",
      "metadata": {
        "scrolled": true,
        "colab": {
          "base_uri": "https://localhost:8080/"
        },
        "id": "66Y7XtH3LMH-",
        "outputId": "c16a5857-2416-4f16-9b9d-9f64f546a088"
      },
      "source": [
        "# 필요한 라이브러리 로딩\n",
        "from sklearn.metrics import accuracy_score\n",
        "\n",
        "# 성능 결과 출력\n",
        "print('DecisionTreeClassifier : {0:.4f}'.format(accuracy_score(y_test, dt_pred)))\n",
        "print('RandomForestClassifier :{0:.4f}'.format(accuracy_score(y_test, rf_pred)))\n",
        "print('LogisticRegression : {0:.4f}'.format(accuracy_score(y_test, lr_pred)))\n"
      ],
      "execution_count": null,
      "outputs": [
        {
          "output_type": "stream",
          "text": [
            "DecisionTreeClassifier : 0.7877\n",
            "RandomForestClassifier :0.8324\n",
            "LogisticRegression : 0.8268\n"
          ],
          "name": "stdout"
        }
      ]
    },
    {
      "cell_type": "markdown",
      "metadata": {
        "id": "NMB6mpVbLMH-"
      },
      "source": [
        "### Q. KFold 적용하기"
      ]
    },
    {
      "cell_type": "code",
      "metadata": {
        "colab": {
          "base_uri": "https://localhost:8080/"
        },
        "id": "uFGbxaL7LMH-",
        "outputId": "a1ede80d-9420-43ca-fe8e-c7f05c75491b"
      },
      "source": [
        "from sklearn.model_selection import KFold\n",
        "\n",
        "def exec_kfold(clf, folds=5):\n",
        "    kfold = KFold(n_splits=folds)\n",
        "    scores = []\n",
        "    \n",
        "    for iter_count , (train_index, test_index) in enumerate(kfold.split(X_titanic_df)):\n",
        "        X_train, X_test = X_titanic_df.values[train_index], X_titanic_df.values[test_index]\n",
        "        y_train, y_test = y_titanic_df.values[train_index], y_titanic_df.values[test_index]\n",
        "        \n",
        "        clf.fit(X_train, y_train) \n",
        "        predictions = clf.predict(X_test)\n",
        "        accuracy = accuracy_score(y_test, predictions)\n",
        "        scores.append(accuracy)\n",
        "        print(\"교차 검증 {0} 정확도: {1:.4f}\".format(iter_count, accuracy))     \n",
        "    \n",
        "    mean_score = np.mean(scores)\n",
        "    print(\"평균 정확도: {0:.4f}\".format(mean_score)) \n",
        "\n",
        "exec_kfold(dt_clf , folds=5) "
      ],
      "execution_count": null,
      "outputs": [
        {
          "output_type": "stream",
          "text": [
            "교차 검증 0 정확도: 0.7374\n",
            "교차 검증 1 정확도: 0.7753\n",
            "교차 검증 2 정확도: 0.7865\n",
            "교차 검증 3 정확도: 0.7640\n",
            "교차 검증 4 정확도: 0.8090\n",
            "평균 정확도: 0.7745\n"
          ],
          "name": "stdout"
        }
      ]
    },
    {
      "cell_type": "markdown",
      "metadata": {
        "id": "ArCEns3mLMH-"
      },
      "source": [
        "### Q. cross_val_score 적용하기"
      ]
    },
    {
      "cell_type": "code",
      "metadata": {
        "colab": {
          "base_uri": "https://localhost:8080/"
        },
        "id": "QZJoFFZTLMH-",
        "outputId": "68982ebd-e097-4cf8-ee06-b8935531eb35"
      },
      "source": [
        "from sklearn.model_selection import cross_val_score\n",
        "\n",
        "# cross_val_score 사용하여 교차 검증 수행\n",
        "# type 12\n",
        "scores = cross_val_score(dt_clf, X_titanic_df , y_titanic_df , cv=5)\n",
        "\n",
        "print(scores)\n",
        "print(\"평균 정확도: {0:.4f}\".format(np.mean(scores)))"
      ],
      "execution_count": null,
      "outputs": [
        {
          "output_type": "stream",
          "text": [
            "[0.73743017 0.78651685 0.79775281 0.7752809  0.8258427 ]\n",
            "평균 정확도: 0.7846\n"
          ],
          "name": "stdout"
        }
      ]
    },
    {
      "cell_type": "markdown",
      "metadata": {
        "id": "UFs8YKVfLMH-"
      },
      "source": [
        "### Q. GridSearchCV 적용하기"
      ]
    },
    {
      "cell_type": "code",
      "metadata": {
        "colab": {
          "base_uri": "https://localhost:8080/"
        },
        "id": "DZvtbvpLLMH-",
        "outputId": "a9ca5ad9-7db5-46e4-ddef-5a35c9dc27f1"
      },
      "source": [
        "from sklearn.model_selection import GridSearchCV\n",
        "\n",
        "parameters = {'max_depth':[2,3,5,10],\n",
        "             'min_samples_split':[2,3,5], \n",
        "              'min_samples_leaf':[1,5,8]}\n",
        "\n",
        "# GridSearchCV 활용한 모델 학습\n",
        "# type 13\n",
        "grid_dclf = GridSearchCV(dt_clf , param_grid=parameters , scoring='accuracy' , cv=5)\n",
        "grid_dclf.fit(X_train , y_train)\n",
        "\n",
        "print('best_params_ : ',grid_dclf.best_params_)\n",
        "print('best_score_: ', grid_dclf.best_score_)\n",
        "\n",
        "best_dclf = grid_dclf.best_estimator_\n",
        "pred = best_dclf.predict(X_test)\n",
        "print('accuracy: ', accuracy_score(y_test , pred))\n"
      ],
      "execution_count": null,
      "outputs": [
        {
          "output_type": "stream",
          "text": [
            "best_params_ :  {'max_depth': 5, 'min_samples_leaf': 8, 'min_samples_split': 5}\n",
            "best_score_:  0.813158672313602\n",
            "accuracy:  0.8212290502793296\n"
          ],
          "name": "stdout"
        }
      ]
    },
    {
      "cell_type": "code",
      "metadata": {
        "id": "AFtYroYEXvNL"
      },
      "source": [
        ""
      ],
      "execution_count": null,
      "outputs": []
    }
  ]
}