{
  "nbformat": 4,
  "nbformat_minor": 0,
  "metadata": {
    "colab": {
      "name": "Class2.ipynb",
      "provenance": [],
      "collapsed_sections": [
        "QA2oX-_v6XRo"
      ],
      "authorship_tag": "ABX9TyMXoPSuvgr1KTjEnFg8HbBM",
      "include_colab_link": true
    },
    "kernelspec": {
      "name": "python3",
      "display_name": "Python 3"
    },
    "language_info": {
      "name": "python"
    }
  },
  "cells": [
    {
      "cell_type": "markdown",
      "metadata": {
        "id": "view-in-github",
        "colab_type": "text"
      },
      "source": [
        "<a href=\"https://colab.research.google.com/github/plumwiserim/Data-Analysis/blob/main/Class2.ipynb\" target=\"_parent\"><img src=\"https://colab.research.google.com/assets/colab-badge.svg\" alt=\"Open In Colab\"/></a>"
      ]
    },
    {
      "cell_type": "markdown",
      "metadata": {
        "id": "Coz4Oxpc6HgL"
      },
      "source": [
        "### 빅데이터와 활용기술"
      ]
    },
    {
      "cell_type": "markdown",
      "metadata": {
        "id": "zCsBQ4ph6QqV"
      },
      "source": [
        "#### 빅데이터란?\n",
        "\n",
        "- 빅데이터 정의는 빅데이터를 보는 관점에 따라 3가지로 정의"
      ]
    },
    {
      "cell_type": "markdown",
      "metadata": {
        "id": "QA2oX-_v6XRo"
      },
      "source": [
        "#### 빅데이터 출현 배경\n",
        "\n",
        "- 3가지 출현 배경"
      ]
    },
    {
      "cell_type": "markdown",
      "metadata": {
        "id": "BPONqVbW6agA"
      },
      "source": [
        "#### 빅데이터 영향\n",
        "\n",
        "- 빅데이터가 미치는 영향"
      ]
    },
    {
      "cell_type": "markdown",
      "metadata": {
        "id": "3gb_Mi3s7Cdd"
      },
      "source": [
        "#### 빅데이터 활용 기술\n",
        "\n",
        "- 통계적 데이터 분석\n",
        "  - 모수적 분석 방법\n",
        "  - 알려진 사실에 기반(정규분포, t분포 등)하여 모집단을 추론\n",
        "- 머신러닝\n",
        "  - 비모수적 분석 방법\n",
        "  - 데이터를 통해 모집단을 추론\n",
        "- 딥러닝 \n",
        "  - 비모수적 분석 방법 + 인공신경망"
      ]
    },
    {
      "cell_type": "markdown",
      "metadata": {
        "id": "b82k8uKV7RMQ"
      },
      "source": [
        "#### 왜 우리는 데이터를 분석해야 하는가?\n",
        "\n",
        "- DT의 시대 도래\n",
        "  - 생산의 3요소 변화\n",
        "\n",
        "    인터넷망 데이터 노동"
      ]
    },
    {
      "cell_type": "markdown",
      "metadata": {
        "id": "y0vm3JOE7cnC"
      },
      "source": [
        "#### 데이터는 세상을 어떻게 바꾸는가?\n",
        "\n",
        "넷플릭스, 페이스북, 유튜브, 왓챠플레이, 인스타그램 등등.. \n",
        "\n",
        "콘텐츠의 선택권은? 사용자\n",
        "\n",
        "사용자 맞춤형 추천 서비스 경쟁"
      ]
    },
    {
      "cell_type": "markdown",
      "metadata": {
        "id": "Y817zI7x7mJF"
      },
      "source": [
        "쿠팡, 마켓컬리, 배달의 민족, 비마트, SSG.COM 등등...\n",
        "\n",
        "유통 구조의 혁신\n",
        "- 고객 맞춤형 상품 추천\n",
        "- 고객 경험 강화\n",
        "- 결제 및 배송 프로세스 개선\n",
        "- 물류, 재고, 매장 관리"
      ]
    },
    {
      "cell_type": "markdown",
      "metadata": {
        "id": "I4BW1WXV74xG"
      },
      "source": [
        "카카오뱅크, 케이뱅크, 뱅크샐러드, 신한페이, 토스"
      ]
    },
    {
      "cell_type": "markdown",
      "metadata": {
        "id": "8H7Vt66x79AA"
      },
      "source": [
        "#### 데이터로 가치를 창출하려면?\n",
        "\n",
        "Data Literacy"
      ]
    },
    {
      "cell_type": "markdown",
      "metadata": {
        "id": "P2ZWCRf_8DfD"
      },
      "source": [
        "#### 데이터 리터러시\n",
        "\n",
        "- Data + Literacy 의 합성어\n",
        "- Literacy? the ability to read and write\n",
        "- 데이터를 읽고 이해하고 분석하는 능력\n",
        "- 데이터 기반으로 문제를 해결하거나 인사이트 도출, 활용하는 능력"
      ]
    },
    {
      "cell_type": "markdown",
      "metadata": {
        "id": "ZbKmK6hJ8Pp3"
      },
      "source": [
        "- 구글 수석 이코노미스트 Hal Varian,\n",
        "Data Literacy, 향후 10년 이상 가장 중요한 비즈니스 역량\n",
        "- 빅데이터의 시대, 업종, 직군에 상관없이 누구에게나 필요한 역량\n",
        "- 정부, 데이터 격차 극복을 위한 역량 확보로 정책의 방향 필요"
      ]
    },
    {
      "cell_type": "markdown",
      "metadata": {
        "id": "aUF-QykR8ihP"
      },
      "source": [
        "#### 데이터를 읽어볼까요?"
      ]
    },
    {
      "cell_type": "markdown",
      "metadata": {
        "id": "86QoH-xn9vVi"
      },
      "source": [
        "### 데이터분석 프로세스"
      ]
    },
    {
      "cell_type": "markdown",
      "metadata": {
        "id": "RS8eYcQ29yIX"
      },
      "source": [
        "#### 데이터 분석 개요"
      ]
    },
    {
      "cell_type": "markdown",
      "metadata": {
        "id": "9pF5_7Yf91z6"
      },
      "source": [
        "#### 데이터 분석"
      ]
    },
    {
      "cell_type": "markdown",
      "metadata": {
        "id": "zePr8MxS96Cb"
      },
      "source": [
        "#### 데이터 분석 목적"
      ]
    },
    {
      "cell_type": "markdown",
      "metadata": {
        "id": "kpLowXf4Futc"
      },
      "source": [
        "#### 데이터 분석 기법\n",
        "\n",
        "- 분류 (classification)\n",
        "- 예측 (prediction)\n",
        "- 군집화(clustering)\n",
        "- 텍스트 마이닝(text mining)\n",
        "- 오피니언 마이닝(opinion mining)\n",
        "- 감성분석(sentiment analysis)"
      ]
    },
    {
      "cell_type": "markdown",
      "metadata": {
        "id": "BvZRcw5OF-bc"
      },
      "source": [
        "#### 데이터 분석 - 통계학\n",
        "\n",
        "- 데이터에서 의미를 찾는 방법을 다루는 학문\n",
        "- 관찰을 통해 수집한 데이터를 통계적인 기법을 통해 일반화된 이론 도출"
      ]
    },
    {
      "cell_type": "markdown",
      "metadata": {
        "id": "2_k9YlYYGH-1"
      },
      "source": [
        "#### 데이터 분석 - 통계\n",
        "\n",
        "상관관계 vs 인과관계"
      ]
    },
    {
      "cell_type": "markdown",
      "metadata": {
        "id": "JzWJbP17GLT0"
      },
      "source": [
        "#### 일반적인 데이터분석 프로세스\n",
        "\n",
        "1. 데이터 수집\n",
        "2. 데이터 전처리\n",
        "3. 탐색적 데이터 분석(기술통계:자료의 정리, 패턴파악)\n",
        "4. 모형 적합 및 평가(통계/머신러닝/딥러닝 모델링)\n",
        "5. 시각화 및 리포팅(Visuallization & reporting)"
      ]
    },
    {
      "cell_type": "markdown",
      "metadata": {
        "id": "AzY5CcNGGbxz"
      },
      "source": [
        "#### 자료의 수집\n",
        "\n",
        "- 개체 (Item) : 연구자 또는 관찰자가 관심을 갖는 대상\n",
        "  - (예) 신입사원\n",
        "- 요인 (Factor) : 개체에 관한 특성 중 연구자가 특별히 관심을 갖는 특성\n",
        "  - (예) 신입사원의 신체조건\n",
        "- 변수 : 요인을 구성하고 있는 요소\n",
        "  - (예) 키, 몸무게, 가슴둘레, 허리둘레, ..."
      ]
    },
    {
      "cell_type": "markdown",
      "metadata": {
        "id": "_y3rdk1tKfm9"
      },
      "source": [
        "#### 데이터 전처리\n",
        "\n",
        "- 데이터 전처리의 주요 기법\n",
        "  - 정제(Cleansing)\n",
        "  - 통합(Integration)\n",
        "  - 축소(Reduction)\n",
        "  - 변환(Transformation)\n",
        "- 관련 기술\n",
        "  - Python(scipy), R, Brightics 등"
      ]
    },
    {
      "cell_type": "markdown",
      "metadata": {
        "id": "DknTI2IWKuMQ"
      },
      "source": [
        "#### 탐색적 데이터분석\n",
        "\n",
        "- 기초통계량을 통한 데이터 분석\n",
        "  - (중심) 위치통계량\n",
        "  - 변이통계량\n",
        "  - 모형통계량"
      ]
    },
    {
      "cell_type": "markdown",
      "metadata": {
        "id": "ewRdbCr7K2WZ"
      },
      "source": [
        "#### 모형(모델) 구성\n",
        "\n",
        "- 다양한 모델 및 알고리즘 존재\n",
        "  - 선형회귀, 상관관계분석, 분류(로지스틱, 결정트리 등) 등\n",
        "  - 딥러닝(컴퓨터비전, 자연어처리 등)"
      ]
    },
    {
      "cell_type": "markdown",
      "metadata": {
        "id": "e7VTCH_XK9se"
      },
      "source": [
        "#### 데이터 시각화\n",
        "\n",
        "- 차트의 다양한 종류들"
      ]
    },
    {
      "cell_type": "markdown",
      "metadata": {
        "id": "-EesIhhKLSUa"
      },
      "source": [
        "### 데이터 전처리"
      ]
    },
    {
      "cell_type": "markdown",
      "metadata": {
        "id": "I3vtDPozLSat"
      },
      "source": [
        "#### 데이터 전처리의 필요성\n",
        "\n",
        "- 데이터 전처리는 분석 및 처리에 적합한 형식으로 데이터를 조작하는 것을 의미함\n",
        "- Garbage In, Garbage Out"
      ]
    },
    {
      "cell_type": "markdown",
      "metadata": {
        "id": "2cIUZsntLb_N"
      },
      "source": [
        "#### 데이터 전처리 주요기법\n",
        "\n",
        "- 정제(Cleansing)\n",
        "- 통합(Integration)\n",
        "- 축소(Reduction)\n",
        "- 변환(Transformation)"
      ]
    },
    {
      "cell_type": "markdown",
      "metadata": {
        "id": "fjTtVh4mLlfe"
      },
      "source": [
        "#### 데이터정제\n",
        "\n",
        "- 불완전한 데이터 : 결측값"
      ]
    },
    {
      "cell_type": "markdown",
      "metadata": {
        "id": "eegyX1WfLpSm"
      },
      "source": [
        "- 결측값(missing value) 처리 방법\n",
        "\n",
        "완전제거법(list-wise deletion)\n",
        "\n",
        "평균대체법(mean value imputation)\n",
        "\n",
        "핫덱대체(hot-deck imputation)\n",
        "\n",
        "다중대체법(multiple imputation)\n",
        "\n",
        "기타 결측값 대체 방법"
      ]
    },
    {
      "cell_type": "markdown",
      "metadata": {
        "id": "A-m7KmuML6Sm"
      },
      "source": [
        "- 경향성을 훼손하는 데이터 : 이상값"
      ]
    },
    {
      "cell_type": "markdown",
      "metadata": {
        "id": "6IWl9gGTL95-"
      },
      "source": [
        "- Box Plot - IQR과 정규분포의 비교"
      ]
    },
    {
      "cell_type": "markdown",
      "metadata": {
        "id": "wQlXdpCOMCP4"
      },
      "source": [
        "- 데이터 표기 오류 (오픈데이터의 경우 빈번히 발생)"
      ]
    },
    {
      "cell_type": "markdown",
      "metadata": {
        "id": "d8vBRUpjMFvh"
      },
      "source": [
        "#### 데이터 통합"
      ]
    },
    {
      "cell_type": "markdown",
      "metadata": {
        "id": "65V0JFR1MHfz"
      },
      "source": [
        "#### 데이터 축소"
      ]
    },
    {
      "cell_type": "markdown",
      "metadata": {
        "id": "sAC1MCh4MJIl"
      },
      "source": [
        "#### 데이터 변환\n",
        "- Normalization"
      ]
    },
    {
      "cell_type": "markdown",
      "metadata": {
        "id": "w8etCAc2MMfw"
      },
      "source": [
        "#### 데이터 변환 예시"
      ]
    },
    {
      "cell_type": "code",
      "metadata": {
        "id": "XO-WTmIS56bJ"
      },
      "source": [
        ""
      ],
      "execution_count": null,
      "outputs": []
    }
  ]
}