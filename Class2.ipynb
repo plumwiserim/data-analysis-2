{
  "nbformat": 4,
  "nbformat_minor": 0,
  "metadata": {
    "colab": {
      "name": "Class2.ipynb",
      "provenance": [],
      "authorship_tag": "ABX9TyO8avHVvcHGdO7TtjRUA9nQ",
      "include_colab_link": true
    },
    "kernelspec": {
      "name": "python3",
      "display_name": "Python 3"
    },
    "language_info": {
      "name": "python"
    }
  },
  "cells": [
    {
      "cell_type": "markdown",
      "metadata": {
        "id": "view-in-github",
        "colab_type": "text"
      },
      "source": [
        "<a href=\"https://colab.research.google.com/github/plumwiserim/Data-Analysis/blob/main/Class2.ipynb\" target=\"_parent\"><img src=\"https://colab.research.google.com/assets/colab-badge.svg\" alt=\"Open In Colab\"/></a>"
      ]
    },
    {
      "cell_type": "markdown",
      "metadata": {
        "id": "Coz4Oxpc6HgL"
      },
      "source": [
        "### 빅데이터와 활용기술"
      ]
    },
    {
      "cell_type": "markdown",
      "metadata": {
        "id": "zCsBQ4ph6QqV"
      },
      "source": [
        "#### 빅데이터란?\n",
        "\n",
        "- 빅데이터 정의는 빅데이터를 보는 관점에 따라 3가지로 정의"
      ]
    },
    {
      "cell_type": "markdown",
      "metadata": {
        "id": "QA2oX-_v6XRo"
      },
      "source": [
        "#### 빅데이터 출현 배경\n",
        "\n",
        "- 3가지 출현 배경"
      ]
    },
    {
      "cell_type": "markdown",
      "metadata": {
        "id": "BPONqVbW6agA"
      },
      "source": [
        "#### 빅데이터 영향\n",
        "\n",
        "- 빅데이터가 미치는 영향"
      ]
    },
    {
      "cell_type": "markdown",
      "metadata": {
        "id": "3gb_Mi3s7Cdd"
      },
      "source": [
        "#### 빅데이터 활용 기술\n",
        "\n",
        "- 통계적 데이터 분석\n",
        "  - 모수적 분석 방법\n",
        "  - 알려진 사실에 기반(정규분포, t분포 등)하여 모집단을 추론\n",
        "- 머신러닝\n",
        "  - 비모수적 분석 방법\n",
        "  - 데이터를 통해 모집단을 추론\n",
        "- 딥러닝 \n",
        "  - 비모수적 분석 방법 + 인공신경망"
      ]
    },
    {
      "cell_type": "markdown",
      "metadata": {
        "id": "b82k8uKV7RMQ"
      },
      "source": [
        "#### 왜 우리는 데이터를 분석해야 하는가?\n",
        "\n",
        "- DT의 시대 도래\n",
        "  - 생산의 3요소 변화\n",
        "\n",
        "    인터넷망 데이터 노동"
      ]
    },
    {
      "cell_type": "markdown",
      "metadata": {
        "id": "y0vm3JOE7cnC"
      },
      "source": [
        "#### 데이터는 세상을 어떻게 바꾸는가?\n",
        "\n",
        "넷플릭스, 페이스북, 유튜브, 왓챠플레이, 인스타그램 등등.. \n",
        "\n",
        "콘텐츠의 선택권은? 사용자\n",
        "\n",
        "사용자 맞춤형 추천 서비스 경쟁"
      ]
    },
    {
      "cell_type": "markdown",
      "metadata": {
        "id": "Y817zI7x7mJF"
      },
      "source": [
        "쿠팡, 마켓컬리, 배달의 민족, 비마트, SSG.COM 등등...\n",
        "\n",
        "유통 구조의 혁신\n",
        "- 고객 맞춤형 상품 추천\n",
        "- 고객 경험 강화\n",
        "- 결제 및 배송 프로세스 개선\n",
        "- 물류, 재고, 매장 관리"
      ]
    },
    {
      "cell_type": "markdown",
      "metadata": {
        "id": "I4BW1WXV74xG"
      },
      "source": [
        "카카오뱅크, 케이뱅크, 뱅크샐러드, 신한페이, 토스"
      ]
    },
    {
      "cell_type": "markdown",
      "metadata": {
        "id": "8H7Vt66x79AA"
      },
      "source": [
        "#### 데이터로 가치를 창출하려면?\n",
        "\n",
        "Data Literacy"
      ]
    },
    {
      "cell_type": "markdown",
      "metadata": {
        "id": "P2ZWCRf_8DfD"
      },
      "source": [
        "#### 데이터 리터러시\n",
        "\n",
        "- Data + Literacy 의 합성어\n",
        "- Literacy? the ability to read and write\n",
        "- 데이터를 읽고 이해하고 분석하는 능력\n",
        "- 데이터 기반으로 문제를 해결하거나 인사이트 도출, 활용하는 능력"
      ]
    },
    {
      "cell_type": "markdown",
      "metadata": {
        "id": "ZbKmK6hJ8Pp3"
      },
      "source": [
        "- 구글 수석 이코노미스트 Hal Varian,\n",
        "Data Literacy, 향후 10년 이상 가장 중요한 비즈니스 역량\n",
        "- 빅데이터의 시대, 업종, 직군에 상관없이 누구에게나 필요한 역량\n",
        "- 정부, 데이터 격차 극복을 위한 역량 확보로 정책의 방향 필요"
      ]
    },
    {
      "cell_type": "markdown",
      "metadata": {
        "id": "aUF-QykR8ihP"
      },
      "source": [
        "#### 데이터를 읽어볼까요?"
      ]
    },
    {
      "cell_type": "code",
      "metadata": {
        "id": "XO-WTmIS56bJ"
      },
      "source": [
        ""
      ],
      "execution_count": null,
      "outputs": []
    }
  ]
}