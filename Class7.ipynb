{
  "nbformat": 4,
  "nbformat_minor": 0,
  "metadata": {
    "kernelspec": {
      "display_name": "Python 3",
      "language": "python",
      "name": "python3"
    },
    "language_info": {
      "codemirror_mode": {
        "name": "ipython",
        "version": 3
      },
      "file_extension": ".py",
      "mimetype": "text/x-python",
      "name": "python",
      "nbconvert_exporter": "python",
      "pygments_lexer": "ipython3",
      "version": "3.8.8"
    },
    "toc": {
      "base_numbering": 1,
      "nav_menu": {},
      "number_sections": true,
      "sideBar": true,
      "skip_h1_title": false,
      "title_cell": "Table of Contents",
      "title_sidebar": "Contents",
      "toc_cell": false,
      "toc_position": {},
      "toc_section_display": true,
      "toc_window_display": false
    },
    "colab": {
      "name": "Class7",
      "provenance": [],
      "collapsed_sections": [],
      "include_colab_link": true
    }
  },
  "cells": [
    {
      "cell_type": "markdown",
      "metadata": {
        "id": "view-in-github",
        "colab_type": "text"
      },
      "source": [
        "<a href=\"https://colab.research.google.com/github/plumwiserim/Data-Analysis/blob/main/Class7.ipynb\" target=\"_parent\"><img src=\"https://colab.research.google.com/assets/colab-badge.svg\" alt=\"Open In Colab\"/></a>"
      ]
    },
    {
      "cell_type": "markdown",
      "metadata": {
        "id": "IsoJBVJ9I8MW"
      },
      "source": [
        "# 파이썬 머신러닝 입문\n",
        "## 사이킷런으로 머신러닝 시작하기"
      ]
    },
    {
      "cell_type": "code",
      "metadata": {
        "id": "2T-KlOIsI8MY"
      },
      "source": [
        "# sklearn 로딩 및 버전 출력\n"
      ],
      "execution_count": null,
      "outputs": []
    },
    {
      "cell_type": "markdown",
      "metadata": {
        "id": "YrBmb6dSI8Ma"
      },
      "source": [
        "### 데이터 로드하기"
      ]
    },
    {
      "cell_type": "markdown",
      "metadata": {
        "id": "ypP6zAAuI8Ma"
      },
      "source": [
        "실습 데이터 소개 : Iris 품종 분류 데이터셋\n",
        "- Iris 는 꽃잎, 꽃받침 모양에 따라서 크게 3가지 품종(Setosa, Versicolor, Virginica)으로 구분됨\n",
        "- 사이킷런에 내장되어 있어 sklearn.datasets 모듈의 load_iris() 통해서 접근 가능함\n",
        "- load_iris() 로 로딩한 데이터셋 접근시 아래 속성 활용 가능함\n",
        "    -  .DESCR \t\t: 데이터셋의 description\n",
        "    - .feature_names: feature 인덱스명\n",
        "    - .data \t\t: feature 데이터\n",
        "    - .target_names\t: class(target) 인덱스명\n",
        "    - .target\t\t: class(target) 데이터"
      ]
    },
    {
      "cell_type": "code",
      "metadata": {
        "scrolled": true,
        "id": "gxvOTB7jI8Ma"
      },
      "source": [
        "# load_iris 로딩\n",
        "__________________________\n",
        "\n",
        "# iris 데이터셋 로딩\n",
        "__________________________\n",
        "\n",
        "# 데이터 설명 출력\n",
        "__________________________"
      ],
      "execution_count": null,
      "outputs": []
    },
    {
      "cell_type": "code",
      "metadata": {
        "id": "b8PxIjSdI8Mb"
      },
      "source": [
        "# Feature 데이터의 shape 출력\n",
        "__________________________"
      ],
      "execution_count": null,
      "outputs": []
    },
    {
      "cell_type": "code",
      "metadata": {
        "scrolled": true,
        "id": "eqxeyso4I8Mb"
      },
      "source": [
        "# Feature 데이터의 인덱스명 출력\n",
        "__________________________"
      ],
      "execution_count": null,
      "outputs": []
    },
    {
      "cell_type": "code",
      "metadata": {
        "id": "NvP69TFZI8Mb"
      },
      "source": [
        "# Feature 데이터 출력\n",
        "__________________________"
      ],
      "execution_count": null,
      "outputs": []
    },
    {
      "cell_type": "code",
      "metadata": {
        "id": "NyAFkR04I8Mc"
      },
      "source": [
        "# Feature 데이터 저장된 자료구조 타입 확인\n",
        "__________________________"
      ],
      "execution_count": null,
      "outputs": []
    },
    {
      "cell_type": "code",
      "metadata": {
        "scrolled": true,
        "id": "AqTHXoFtI8Mc"
      },
      "source": [
        "# DataFrame 으로 변환\n",
        "import pandas as pd\n",
        "df = __________________________\n",
        "df"
      ],
      "execution_count": null,
      "outputs": []
    },
    {
      "cell_type": "code",
      "metadata": {
        "id": "HWG1tRSXI8Mc"
      },
      "source": [
        "# 데이터셋의 class 확인\n",
        "__________________________\n",
        "__________________________"
      ],
      "execution_count": null,
      "outputs": []
    },
    {
      "cell_type": "markdown",
      "metadata": {
        "id": "pXyekxw2I8Md"
      },
      "source": [
        "### 데이터 분할하기"
      ]
    },
    {
      "cell_type": "markdown",
      "metadata": {
        "id": "X0mz_pazI8Md"
      },
      "source": [
        "Holdout Cross Validation :데이터셋을 training, testing 으로 분할하여 적용하는 방식\n",
        "- Training Data: 머신러닝 모델의 학습에 사용되는 데이터 셋\n",
        "- Testing Data : 학습 및 개선된 머신러닝 모델을 최종 평가하는 데이터 셋 \n",
        "\n",
        "사이킷런을 활용한 데이터 분리\n",
        "- sklearn.model_selection 의  train_test_split() 사용"
      ]
    },
    {
      "cell_type": "code",
      "metadata": {
        "id": "XCLkkVC6I8Md"
      },
      "source": [
        "# train_test_split 로딩\n",
        "______________________________\n",
        "\n",
        "# 데이터셋을 train, test 로 분할\n",
        "________________________________"
      ],
      "execution_count": null,
      "outputs": []
    },
    {
      "cell_type": "code",
      "metadata": {
        "id": "WjLpn4bhI8Md"
      },
      "source": [
        "# 분할된 데이터의 shape 확인\n",
        "print('x_train.shape = ', x_train.shape)\n",
        "print('y_train.shape = ', y_train.shape)\n",
        "print('x_test.shape = ', x_test.shape)\n",
        "print('y_test.shape = ', y_test.shape)"
      ],
      "execution_count": null,
      "outputs": []
    },
    {
      "cell_type": "markdown",
      "metadata": {
        "id": "ox-m8y9eI8Md"
      },
      "source": [
        "### 모델 학습 (fit)"
      ]
    },
    {
      "cell_type": "markdown",
      "metadata": {
        "id": "4T2OtV3dI8Me"
      },
      "source": [
        "K 최근접 이웃 알고리즘(K-Nearest Neighbors(KNN))\n",
        "- 새로운 데이터가 주어졌을 때, 가장 가까운 K 개의 이웃 데이터를 찾는 알고리즘\n",
        "- sklearn.neighbors 의 KNeighborsClassifier 클래스 사용\n",
        "- KNeighborsClassifier 객체 생성시 n_neighbors 인자를 통해 k 값 지정  (default k = 5)"
      ]
    },
    {
      "cell_type": "code",
      "metadata": {
        "id": "5Ca7FMq2I8Me"
      },
      "source": [
        "# KNeighborsClassifier 로드\n",
        "______________________________\n",
        "\n",
        "# KNeighborsClassifier 모델 객체 생성\n",
        "______________________________\n",
        "\n",
        "# 훈련 데이터를 이용하여 분류 모델 학습\n",
        "______________________________"
      ],
      "execution_count": null,
      "outputs": []
    },
    {
      "cell_type": "markdown",
      "metadata": {
        "id": "ZiLyA1ISI8Me"
      },
      "source": [
        "### 학습된 모델로 예측하기 (predict)"
      ]
    },
    {
      "cell_type": "code",
      "metadata": {
        "id": "KWFPNkfJI8Me"
      },
      "source": [
        "# 학습된 knn 모델 기반 예측\n",
        "y_pred = ______________________________\n",
        "print('Prediction:\\n', y_pred)"
      ],
      "execution_count": null,
      "outputs": []
    },
    {
      "cell_type": "markdown",
      "metadata": {
        "id": "8PFj_1DTI8Me"
      },
      "source": [
        "### 모델 평가하기 (score)"
      ]
    },
    {
      "cell_type": "code",
      "metadata": {
        "id": "ErHtLKLMI8Me"
      },
      "source": [
        "# 모델 평가\n",
        "score = ______________________________\n",
        "print('Accuracy : {0:.5f}'.format(score))"
      ],
      "execution_count": null,
      "outputs": []
    },
    {
      "cell_type": "markdown",
      "metadata": {
        "id": "6X3g0IjuI8Mf"
      },
      "source": [
        "## K 값에 따른 모델 성능 결과 확인하기"
      ]
    },
    {
      "cell_type": "code",
      "metadata": {
        "id": "7h2ezTRSI8Mf"
      },
      "source": [
        "# k 값 생성\n",
        "k_list = range(1, 100, 2)\n",
        "acc_train = []\n",
        "acc_test = []\n",
        "\n",
        "# k 값을 변경해가면서 knn 모델 학습(fit) 및 검증(score) 수행\n",
        "for k in k_list:\n",
        "    knn = ______________________________\n",
        "    ______________________________\n",
        "    \n",
        "    acc_train.append(______________________________)\n",
        "    acc_test.append(______________________________)"
      ],
      "execution_count": null,
      "outputs": []
    },
    {
      "cell_type": "code",
      "metadata": {
        "id": "5Cwz3jCWI8Mf"
      },
      "source": [
        "import matplotlib.pyplot as plt\n",
        "\n",
        "plt.figure(figsize=(10, 4))\n",
        "______________________________\n",
        "______________________________\n",
        "plt.title('Training and Testing Accuracy')\n",
        "plt.xlabel('k')\n",
        "plt.ylabel('Accuracy')\n",
        "plt.ylim(0.8, 1.0)\n",
        "plt.legend()\n",
        "plt.show()"
      ],
      "execution_count": null,
      "outputs": []
    }
  ]
}