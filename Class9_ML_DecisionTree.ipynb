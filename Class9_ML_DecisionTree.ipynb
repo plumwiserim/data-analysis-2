{
  "nbformat": 4,
  "nbformat_minor": 0,
  "metadata": {
    "kernelspec": {
      "display_name": "Python 3",
      "language": "python",
      "name": "python3"
    },
    "language_info": {
      "codemirror_mode": {
        "name": "ipython",
        "version": 3
      },
      "file_extension": ".py",
      "mimetype": "text/x-python",
      "name": "python",
      "nbconvert_exporter": "python",
      "pygments_lexer": "ipython3",
      "version": "3.8.8"
    },
    "toc": {
      "base_numbering": 1,
      "nav_menu": {},
      "number_sections": true,
      "sideBar": true,
      "skip_h1_title": false,
      "title_cell": "Table of Contents",
      "title_sidebar": "Contents",
      "toc_cell": false,
      "toc_position": {},
      "toc_section_display": true,
      "toc_window_display": false
    },
    "colab": {
      "name": "Class9_ML_DecisionTree.ipynb의 사본_",
      "provenance": [],
      "collapsed_sections": [],
      "include_colab_link": true
    }
  },
  "cells": [
    {
      "cell_type": "markdown",
      "metadata": {
        "id": "view-in-github",
        "colab_type": "text"
      },
      "source": [
        "<a href=\"https://colab.research.google.com/github/plumwiserim/Data-Analysis/blob/main/Class9_ML_DecisionTree.ipynb\" target=\"_parent\"><img src=\"https://colab.research.google.com/assets/colab-badge.svg\" alt=\"Open In Colab\"/></a>"
      ]
    },
    {
      "cell_type": "markdown",
      "metadata": {
        "id": "3CUy3R-JX0GG"
      },
      "source": [
        "# 파이썬 머신러닝 실습\n",
        "## 분류를 위한 Decision Tree 기초 개념\n"
      ]
    },
    {
      "cell_type": "code",
      "metadata": {
        "id": "S2YZ2q9bX0GJ"
      },
      "source": [
        "from sklearn.datasets import load_breast_cancer\n",
        "from sklearn.model_selection import train_test_split\n",
        "\n",
        "cancer = load_breast_cancer()\n",
        "\n",
        "x_train, x_test, y_train, y_test = train_test_split(cancer.data,\n",
        "                                                    cancer.target,\n",
        "                                                    test_size=0.3,\n",
        "                                                    random_state=12)\n"
      ],
      "execution_count": null,
      "outputs": []
    },
    {
      "cell_type": "code",
      "metadata": {
        "id": "lPuo8ijkX0GK",
        "colab": {
          "base_uri": "https://localhost:8080/"
        },
        "outputId": "b622ed30-2a88-436a-80f6-1950afdc0355"
      },
      "source": [
        "print(cancer.DESCR)"
      ],
      "execution_count": null,
      "outputs": [
        {
          "output_type": "stream",
          "text": [
            ".. _breast_cancer_dataset:\n",
            "\n",
            "Breast cancer wisconsin (diagnostic) dataset\n",
            "--------------------------------------------\n",
            "\n",
            "**Data Set Characteristics:**\n",
            "\n",
            "    :Number of Instances: 569\n",
            "\n",
            "    :Number of Attributes: 30 numeric, predictive attributes and the class\n",
            "\n",
            "    :Attribute Information:\n",
            "        - radius (mean of distances from center to points on the perimeter)\n",
            "        - texture (standard deviation of gray-scale values)\n",
            "        - perimeter\n",
            "        - area\n",
            "        - smoothness (local variation in radius lengths)\n",
            "        - compactness (perimeter^2 / area - 1.0)\n",
            "        - concavity (severity of concave portions of the contour)\n",
            "        - concave points (number of concave portions of the contour)\n",
            "        - symmetry \n",
            "        - fractal dimension (\"coastline approximation\" - 1)\n",
            "\n",
            "        The mean, standard error, and \"worst\" or largest (mean of the three\n",
            "        largest values) of these features were computed for each image,\n",
            "        resulting in 30 features.  For instance, field 3 is Mean Radius, field\n",
            "        13 is Radius SE, field 23 is Worst Radius.\n",
            "\n",
            "        - class:\n",
            "                - WDBC-Malignant\n",
            "                - WDBC-Benign\n",
            "\n",
            "    :Summary Statistics:\n",
            "\n",
            "    ===================================== ====== ======\n",
            "                                           Min    Max\n",
            "    ===================================== ====== ======\n",
            "    radius (mean):                        6.981  28.11\n",
            "    texture (mean):                       9.71   39.28\n",
            "    perimeter (mean):                     43.79  188.5\n",
            "    area (mean):                          143.5  2501.0\n",
            "    smoothness (mean):                    0.053  0.163\n",
            "    compactness (mean):                   0.019  0.345\n",
            "    concavity (mean):                     0.0    0.427\n",
            "    concave points (mean):                0.0    0.201\n",
            "    symmetry (mean):                      0.106  0.304\n",
            "    fractal dimension (mean):             0.05   0.097\n",
            "    radius (standard error):              0.112  2.873\n",
            "    texture (standard error):             0.36   4.885\n",
            "    perimeter (standard error):           0.757  21.98\n",
            "    area (standard error):                6.802  542.2\n",
            "    smoothness (standard error):          0.002  0.031\n",
            "    compactness (standard error):         0.002  0.135\n",
            "    concavity (standard error):           0.0    0.396\n",
            "    concave points (standard error):      0.0    0.053\n",
            "    symmetry (standard error):            0.008  0.079\n",
            "    fractal dimension (standard error):   0.001  0.03\n",
            "    radius (worst):                       7.93   36.04\n",
            "    texture (worst):                      12.02  49.54\n",
            "    perimeter (worst):                    50.41  251.2\n",
            "    area (worst):                         185.2  4254.0\n",
            "    smoothness (worst):                   0.071  0.223\n",
            "    compactness (worst):                  0.027  1.058\n",
            "    concavity (worst):                    0.0    1.252\n",
            "    concave points (worst):               0.0    0.291\n",
            "    symmetry (worst):                     0.156  0.664\n",
            "    fractal dimension (worst):            0.055  0.208\n",
            "    ===================================== ====== ======\n",
            "\n",
            "    :Missing Attribute Values: None\n",
            "\n",
            "    :Class Distribution: 212 - Malignant, 357 - Benign\n",
            "\n",
            "    :Creator:  Dr. William H. Wolberg, W. Nick Street, Olvi L. Mangasarian\n",
            "\n",
            "    :Donor: Nick Street\n",
            "\n",
            "    :Date: November, 1995\n",
            "\n",
            "This is a copy of UCI ML Breast Cancer Wisconsin (Diagnostic) datasets.\n",
            "https://goo.gl/U2Uwz2\n",
            "\n",
            "Features are computed from a digitized image of a fine needle\n",
            "aspirate (FNA) of a breast mass.  They describe\n",
            "characteristics of the cell nuclei present in the image.\n",
            "\n",
            "Separating plane described above was obtained using\n",
            "Multisurface Method-Tree (MSM-T) [K. P. Bennett, \"Decision Tree\n",
            "Construction Via Linear Programming.\" Proceedings of the 4th\n",
            "Midwest Artificial Intelligence and Cognitive Science Society,\n",
            "pp. 97-101, 1992], a classification method which uses linear\n",
            "programming to construct a decision tree.  Relevant features\n",
            "were selected using an exhaustive search in the space of 1-4\n",
            "features and 1-3 separating planes.\n",
            "\n",
            "The actual linear program used to obtain the separating plane\n",
            "in the 3-dimensional space is that described in:\n",
            "[K. P. Bennett and O. L. Mangasarian: \"Robust Linear\n",
            "Programming Discrimination of Two Linearly Inseparable Sets\",\n",
            "Optimization Methods and Software 1, 1992, 23-34].\n",
            "\n",
            "This database is also available through the UW CS ftp server:\n",
            "\n",
            "ftp ftp.cs.wisc.edu\n",
            "cd math-prog/cpo-dataset/machine-learn/WDBC/\n",
            "\n",
            ".. topic:: References\n",
            "\n",
            "   - W.N. Street, W.H. Wolberg and O.L. Mangasarian. Nuclear feature extraction \n",
            "     for breast tumor diagnosis. IS&T/SPIE 1993 International Symposium on \n",
            "     Electronic Imaging: Science and Technology, volume 1905, pages 861-870,\n",
            "     San Jose, CA, 1993.\n",
            "   - O.L. Mangasarian, W.N. Street and W.H. Wolberg. Breast cancer diagnosis and \n",
            "     prognosis via linear programming. Operations Research, 43(4), pages 570-577, \n",
            "     July-August 1995.\n",
            "   - W.H. Wolberg, W.N. Street, and O.L. Mangasarian. Machine learning techniques\n",
            "     to diagnose breast cancer from fine-needle aspirates. Cancer Letters 77 (1994) \n",
            "     163-171.\n"
          ],
          "name": "stdout"
        }
      ]
    },
    {
      "cell_type": "code",
      "metadata": {
        "id": "t0oMINO-X0GM",
        "colab": {
          "base_uri": "https://localhost:8080/"
        },
        "outputId": "e17fbcf1-31eb-43df-b334-8b978c99f791"
      },
      "source": [
        "print(cancer.data.shape)"
      ],
      "execution_count": null,
      "outputs": [
        {
          "output_type": "stream",
          "text": [
            "(569, 30)\n"
          ],
          "name": "stdout"
        }
      ]
    },
    {
      "cell_type": "code",
      "metadata": {
        "id": "5_tA9C2aX0GM",
        "colab": {
          "base_uri": "https://localhost:8080/"
        },
        "outputId": "e695f741-21af-46f3-dcce-564141e36dae"
      },
      "source": [
        "print(cancer.feature_names)"
      ],
      "execution_count": null,
      "outputs": [
        {
          "output_type": "stream",
          "text": [
            "['mean radius' 'mean texture' 'mean perimeter' 'mean area'\n",
            " 'mean smoothness' 'mean compactness' 'mean concavity'\n",
            " 'mean concave points' 'mean symmetry' 'mean fractal dimension'\n",
            " 'radius error' 'texture error' 'perimeter error' 'area error'\n",
            " 'smoothness error' 'compactness error' 'concavity error'\n",
            " 'concave points error' 'symmetry error' 'fractal dimension error'\n",
            " 'worst radius' 'worst texture' 'worst perimeter' 'worst area'\n",
            " 'worst smoothness' 'worst compactness' 'worst concavity'\n",
            " 'worst concave points' 'worst symmetry' 'worst fractal dimension']\n"
          ],
          "name": "stdout"
        }
      ]
    },
    {
      "cell_type": "markdown",
      "metadata": {
        "id": "rJYwM2zfX0GN"
      },
      "source": [
        "    :Attribute Information:\n",
        "        - radius (mean of distances from center to points on the perimeter) 반경\n",
        "        - texture (standard deviation of gray-scale values) 질감\n",
        "        - perimeter 둘레\n",
        "        - area  면적\n",
        "        - smoothness (local variation in radius lengths) 매끄러움\n",
        "        - compactness (perimeter^2 / area - 1.0) 조그만 정도\n",
        "        - concavity (severity of concave portions of the contour) 오목함\n",
        "        - concave points (number of concave portions of the contour) 오목함 점의수\n",
        "        - symmetry  대칭\n",
        "        - fractal dimension (\"coastline approximation\" - 1) 프렉탈 차원"
      ]
    },
    {
      "cell_type": "markdown",
      "metadata": {
        "id": "6q4FmCS5X0GN"
      },
      "source": [
        "### DecisionTreeClassifier API의 Method\n",
        "- fit(X, y) : 학습 데이터를 이용하여 Decision Tree 모델을 학습\n",
        "- predict(X) : 모델에 테스트 데이터를 입력하여 계산된 예측값 반환\n",
        "- score(X, y) : 모델에 테스트 데이터를 입력하여 모델의 성능지표(정확도) 반환\n",
        "- get_depth() : 학습 된 Decision Tree 의 Depth 확인\n",
        "- get_n_leaves() : 학습 된 Decision Tree 의 리프 노드 개수 확인"
      ]
    },
    {
      "cell_type": "code",
      "metadata": {
        "id": "U-BOUFeBX0GP",
        "colab": {
          "base_uri": "https://localhost:8080/"
        },
        "outputId": "f76d29b6-5988-4135-a6de-db6dfdc5fc38"
      },
      "source": [
        "# DecisionTreeClassifier 임포트\n",
        "from sklearn.tree import DecisionTreeClassifier\n",
        "\n",
        "# DecisionTreeClassifier 객체 생성\n",
        "dt = DecisionTreeClassifier(random_state=12)\n",
        "\n",
        "# fit 함수로 Decision Tree 모델 학습\n",
        "dt.fit(x_train, y_train)"
      ],
      "execution_count": null,
      "outputs": [
        {
          "output_type": "execute_result",
          "data": {
            "text/plain": [
              "DecisionTreeClassifier(ccp_alpha=0.0, class_weight=None, criterion='gini',\n",
              "                       max_depth=None, max_features=None, max_leaf_nodes=None,\n",
              "                       min_impurity_decrease=0.0, min_impurity_split=None,\n",
              "                       min_samples_leaf=1, min_samples_split=2,\n",
              "                       min_weight_fraction_leaf=0.0, presort='deprecated',\n",
              "                       random_state=12, splitter='best')"
            ]
          },
          "metadata": {
            "tags": []
          },
          "execution_count": 5
        }
      ]
    },
    {
      "cell_type": "code",
      "metadata": {
        "id": "XblHO21fX0GQ",
        "colab": {
          "base_uri": "https://localhost:8080/"
        },
        "outputId": "50f9d567-d511-439d-d364-5c0c9ed9b238"
      },
      "source": [
        "# 학습 된 Tree의 Depth 확인 - get_depth() 함수 사용\n",
        "print(\"Depth of tree: \", dt.get_depth())"
      ],
      "execution_count": null,
      "outputs": [
        {
          "output_type": "stream",
          "text": [
            "Depth of tree:  6\n"
          ],
          "name": "stdout"
        }
      ]
    },
    {
      "cell_type": "code",
      "metadata": {
        "id": "fYnX6NmsX0GR",
        "colab": {
          "base_uri": "https://localhost:8080/"
        },
        "outputId": "bd8f7601-1fe3-48fb-d8d4-7c10c66d1171"
      },
      "source": [
        "# 학습 된 Tree의 리프 노드 개수 확인 - get_n_leaves() 함수 사용\n",
        "print(\"Number of leaves: \", dt.get_n_leaves())"
      ],
      "execution_count": null,
      "outputs": [
        {
          "output_type": "stream",
          "text": [
            "Number of leaves:  13\n"
          ],
          "name": "stdout"
        }
      ]
    },
    {
      "cell_type": "code",
      "metadata": {
        "id": "obmrtWs2X0GR",
        "colab": {
          "base_uri": "https://localhost:8080/"
        },
        "outputId": "24bef9ad-45c0-4902-b560-14e7217b1eaf"
      },
      "source": [
        "# predict 함수로 테스트 데이터 세트 예측\n",
        "y_pred = dt.predict(x_test)\n",
        "print(y_pred[0:3])"
      ],
      "execution_count": null,
      "outputs": [
        {
          "output_type": "stream",
          "text": [
            "[0 1 1]\n"
          ],
          "name": "stdout"
        }
      ]
    },
    {
      "cell_type": "code",
      "metadata": {
        "id": "B7duQJdlX0GR",
        "colab": {
          "base_uri": "https://localhost:8080/"
        },
        "outputId": "14cd1776-7b7c-4da8-9026-219aae64d550"
      },
      "source": [
        "print(y_test[0:3])"
      ],
      "execution_count": null,
      "outputs": [
        {
          "output_type": "stream",
          "text": [
            "[0 1 1]\n"
          ],
          "name": "stdout"
        }
      ]
    },
    {
      "cell_type": "code",
      "metadata": {
        "id": "BGrndHauX0GS",
        "colab": {
          "base_uri": "https://localhost:8080/"
        },
        "outputId": "fe76fdfe-60d6-417a-870e-11356ec8507c"
      },
      "source": [
        "# 학습 데이터셋의 정확도 계산\n",
        "dt_train_score = dt.score(x_train, y_train)\n",
        "print('Accuracy : ', dt_train_score)"
      ],
      "execution_count": null,
      "outputs": [
        {
          "output_type": "stream",
          "text": [
            "Accuracy :  1.0\n"
          ],
          "name": "stdout"
        }
      ]
    },
    {
      "cell_type": "code",
      "metadata": {
        "id": "MXvnkNMHX0GT",
        "colab": {
          "base_uri": "https://localhost:8080/"
        },
        "outputId": "e16492b2-e947-462b-b1e3-4efb4b3d5a95"
      },
      "source": [
        "# 테스트 데이터셋의 정확도 계산\n",
        "dt_score = dt.score(x_test,  y_test)\n",
        "print('Accuracy : ', dt_score)"
      ],
      "execution_count": null,
      "outputs": [
        {
          "output_type": "stream",
          "text": [
            "Accuracy :  0.9122807017543859\n"
          ],
          "name": "stdout"
        }
      ]
    },
    {
      "cell_type": "code",
      "metadata": {
        "id": "F-HQ61uUX0GT",
        "colab": {
          "base_uri": "https://localhost:8080/"
        },
        "outputId": "5d6c2426-8f4d-4b55-e1f7-fd0d17ccf228"
      },
      "source": [
        "from sklearn.metrics import accuracy_score, precision_score, recall_score\n",
        "\n",
        "# 정확도, 정밀도, 재현율 계산 \n",
        "accuracy = accuracy_score(y_test , y_pred)\n",
        "precision = precision_score(y_test , y_pred)\n",
        "recall = recall_score(y_test , y_pred)\n",
        "  \n",
        "print('Accuracy: {0:.4f}, Precision: {1:.4f}, Recall: {2:.4f}'\n",
        "      .format(accuracy , precision ,recall))"
      ],
      "execution_count": null,
      "outputs": [
        {
          "output_type": "stream",
          "text": [
            "Accuracy: 0.9123, Precision: 0.9107, Recall: 0.9533\n"
          ],
          "name": "stdout"
        }
      ]
    },
    {
      "cell_type": "markdown",
      "metadata": {
        "id": "a7BcuNgcX0GT"
      },
      "source": [
        "### 학습 된 Decision Tree 모델은 Feature들의 중요도 \n",
        "- DecisionTreeClassifier 의 속성 feature_importances_ 를 사용하면 각 feature 별 중요도 확인 가능"
      ]
    },
    {
      "cell_type": "code",
      "metadata": {
        "id": "18_HmGyUX0GU",
        "colab": {
          "base_uri": "https://localhost:8080/"
        },
        "outputId": "9a62a353-3f2a-4ec2-f10b-91cfc13a8c88"
      },
      "source": [
        "# DecisionTreeClassifier 객체 생성\n",
        "dt = DecisionTreeClassifier(random_state=12)\n",
        "\n",
        "# fit 함수로 Decision Tree 모델 학습\n",
        "dt.fit(x_train, y_train)\n",
        "\n",
        "for i in range(0, len(cancer.feature_names)):\n",
        "    print('{0}: {1:.3f}'.format(cancer.feature_names[i], dt.feature_importances_ [i]))"
      ],
      "execution_count": null,
      "outputs": [
        {
          "output_type": "stream",
          "text": [
            "mean radius: 0.000\n",
            "mean texture: 0.000\n",
            "mean perimeter: 0.000\n",
            "mean area: 0.014\n",
            "mean smoothness: 0.007\n",
            "mean compactness: 0.000\n",
            "mean concavity: 0.000\n",
            "mean concave points: 0.041\n",
            "mean symmetry: 0.000\n",
            "mean fractal dimension: 0.000\n",
            "radius error: 0.000\n",
            "texture error: 0.000\n",
            "perimeter error: 0.000\n",
            "area error: 0.009\n",
            "smoothness error: 0.000\n",
            "compactness error: 0.000\n",
            "concavity error: 0.000\n",
            "concave points error: 0.024\n",
            "symmetry error: 0.000\n",
            "fractal dimension error: 0.000\n",
            "worst radius: 0.011\n",
            "worst texture: 0.024\n",
            "worst perimeter: 0.777\n",
            "worst area: 0.011\n",
            "worst smoothness: 0.011\n",
            "worst compactness: 0.000\n",
            "worst concavity: 0.011\n",
            "worst concave points: 0.061\n",
            "worst symmetry: 0.000\n",
            "worst fractal dimension: 0.000\n"
          ],
          "name": "stdout"
        }
      ]
    },
    {
      "cell_type": "markdown",
      "metadata": {
        "id": "8GIQHgVdX0GU"
      },
      "source": [
        "### Hyperparameter 설정 없이 depth와 leaf 노드 개수 값 확인 \n",
        "- get_depth() : 학습 된 Decision Tree 의 Depth 확인\n",
        "- get_n_leaves() : 학습 된 Decision Tree 의 리프 노드 개수 확인"
      ]
    },
    {
      "cell_type": "code",
      "metadata": {
        "id": "xcOQ0j_ZX0GU",
        "colab": {
          "base_uri": "https://localhost:8080/"
        },
        "outputId": "b007fd57-29da-4f96-9758-47f01f5aba6d"
      },
      "source": [
        "# 학습 된 Tree의 Depth 확인 - get_depth() 함수 사용\n",
        "print(\"Depth of tree: \", dt.get_depth())\n",
        "\n",
        "# 학습 된 Tree의 리프 노드 개수 확인 - get_n_leaves() 함수 사용\n",
        "print(\"Number of leaves: \", dt.get_n_leaves())"
      ],
      "execution_count": null,
      "outputs": [
        {
          "output_type": "stream",
          "text": [
            "Depth of tree:  6\n",
            "Number of leaves:  13\n"
          ],
          "name": "stdout"
        }
      ]
    },
    {
      "cell_type": "markdown",
      "metadata": {
        "id": "MsMXAU2DX0GU"
      },
      "source": [
        "### max_depth 설정 후 depth와 leaf 노드 개수 값 확인 \n"
      ]
    },
    {
      "cell_type": "code",
      "metadata": {
        "id": "wRbRwTvFX0GU"
      },
      "source": [
        "# DecisionTreeClassifier 객체 생성\n",
        "dt = DecisionTreeClassifier(max_depth=3, random_state=12)\n",
        "\n",
        "# fit 함수로 Decision Tree 모델 학습\n",
        "dt.fit(x_train, y_train)\n",
        "\n",
        "# predict 함수로 테스트 데이터 세트 예측\n",
        "y_pred = dt.predict(x_test)"
      ],
      "execution_count": null,
      "outputs": []
    },
    {
      "cell_type": "code",
      "metadata": {
        "id": "vAXL0J-AX0GV",
        "colab": {
          "base_uri": "https://localhost:8080/"
        },
        "outputId": "4672ac03-a035-48cc-b678-5fa46258d8e8"
      },
      "source": [
        "# 학습 된 Tree의 Depth 확인 - get_depth() 함수 사용\n",
        "print(\"Depth of tree: \", dt.get_depth())\n",
        "\n",
        "# 학습 된 Tree의 리프 노드 개수 확인 - get_n_leaves() 함수 사용\n",
        "print(\"Number of leaves: \", dt.get_n_leaves())\n",
        "\n",
        "\n",
        "accuracy = accuracy_score(y_test , y_pred)\n",
        "precision = precision_score(y_test , y_pred)\n",
        "recall = recall_score(y_test , y_pred)\n",
        "\n",
        "print('Accuracy: {0:.4f}, Precision: {1:.4f}, Recall: {2:.4f}'\n",
        "      .format(accuracy , precision ,recall))"
      ],
      "execution_count": null,
      "outputs": [
        {
          "output_type": "stream",
          "text": [
            "Depth of tree:  3\n",
            "Number of leaves:  8\n",
            "Accuracy: 0.9123, Precision: 0.9182, Recall: 0.9439\n"
          ],
          "name": "stdout"
        }
      ]
    },
    {
      "cell_type": "code",
      "metadata": {
        "id": "2lXRObdmX0GV",
        "colab": {
          "base_uri": "https://localhost:8080/"
        },
        "outputId": "a1f5e3bb-f2c1-4cc9-8f93-8a8ddcb3b1c9"
      },
      "source": [
        "# 정확도, 정밀도, 재현율 계산 \n",
        "accuracy = accuracy_score(y_test , y_pred)\n",
        "precision = precision_score(y_test , y_pred)\n",
        "recall = recall_score(y_test , y_pred)\n",
        "  \n",
        "print('Accuracy: {0:.4f}, Precision: {1:.4f}, Recall: {2:.4f}'\n",
        "      .format(accuracy , precision ,recall))"
      ],
      "execution_count": null,
      "outputs": [
        {
          "output_type": "stream",
          "text": [
            "Accuracy: 0.9123, Precision: 0.9182, Recall: 0.9439\n"
          ],
          "name": "stdout"
        }
      ]
    },
    {
      "cell_type": "markdown",
      "metadata": {
        "id": "kajwwo21X0GV"
      },
      "source": [
        "### max_leaf_nodes 설정 후 depth와 leaf 노드 개수 값 확인 \n"
      ]
    },
    {
      "cell_type": "code",
      "metadata": {
        "id": "_ZpXjIvCX0GW"
      },
      "source": [
        "# DecisionTreeClassifier 객체 생성\n",
        "dt = DecisionTreeClassifier(max_leaf_nodes=9, random_state=12)\n",
        "\n",
        "# fit 함수로 Decision Tree 모델 학습\n",
        "dt.fit(x_train, y_train)\n",
        "\n",
        "# predict 함수로 테스트 데이터 세트 예측\n",
        "y_pred = dt.predict(x_test)"
      ],
      "execution_count": null,
      "outputs": []
    },
    {
      "cell_type": "code",
      "metadata": {
        "id": "vny6KmK9X0GW",
        "colab": {
          "base_uri": "https://localhost:8080/"
        },
        "outputId": "e6a92c54-241a-43d3-8db0-2b4e9a1a71ce"
      },
      "source": [
        "# 학습 된 Tree의 Depth 확인 - get_depth() 함수 사용\n",
        "print(\"Depth of tree: \", dt.get_depth())\n",
        "\n",
        "# 학습 된 Tree의 리프 노드 개수 확인 - get_n_leaves() 함수 사용\n",
        "print(\"Number of leaves: \", dt.get_n_leaves())"
      ],
      "execution_count": null,
      "outputs": [
        {
          "output_type": "stream",
          "text": [
            "Depth of tree:  4\n",
            "Number of leaves:  9\n"
          ],
          "name": "stdout"
        }
      ]
    },
    {
      "cell_type": "code",
      "metadata": {
        "id": "zAMyNowwX0GW",
        "colab": {
          "base_uri": "https://localhost:8080/"
        },
        "outputId": "0c57531f-4d1b-4557-a52c-dd8cbe0808c8"
      },
      "source": [
        "# 정확도, 정밀도, 재현율 계산 \n",
        "accuracy = accuracy_score(y_test , y_pred)\n",
        "precision = precision_score(y_test , y_pred)\n",
        "recall = recall_score(y_test , y_pred)\n",
        "  \n",
        "print('Accuracy: {0:.4f}, Precision: {1:.4f}, Recall: {2:.4f}'\n",
        "      .format(accuracy , precision ,recall))"
      ],
      "execution_count": null,
      "outputs": [
        {
          "output_type": "stream",
          "text": [
            "Accuracy: 0.9181, Precision: 0.9189, Recall: 0.9533\n"
          ],
          "name": "stdout"
        }
      ]
    }
  ]
}