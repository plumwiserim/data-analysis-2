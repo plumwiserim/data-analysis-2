{
  "nbformat": 4,
  "nbformat_minor": 0,
  "metadata": {
    "kernelspec": {
      "display_name": "Python 3",
      "language": "python",
      "name": "python3"
    },
    "language_info": {
      "codemirror_mode": {
        "name": "ipython",
        "version": 3
      },
      "file_extension": ".py",
      "mimetype": "text/x-python",
      "name": "python",
      "nbconvert_exporter": "python",
      "pygments_lexer": "ipython3",
      "version": "3.8.8"
    },
    "toc": {
      "base_numbering": 1,
      "nav_menu": {},
      "number_sections": true,
      "sideBar": true,
      "skip_h1_title": false,
      "title_cell": "Table of Contents",
      "title_sidebar": "Contents",
      "toc_cell": false,
      "toc_position": {},
      "toc_section_display": true,
      "toc_window_display": false
    },
    "colab": {
      "name": "Class8",
      "provenance": [],
      "collapsed_sections": [],
      "include_colab_link": true
    }
  },
  "cells": [
    {
      "cell_type": "markdown",
      "metadata": {
        "id": "view-in-github",
        "colab_type": "text"
      },
      "source": [
        "<a href=\"https://colab.research.google.com/github/plumwiserim/Data-Analysis/blob/main/Class8.ipynb\" target=\"_parent\"><img src=\"https://colab.research.google.com/assets/colab-badge.svg\" alt=\"Open In Colab\"/></a>"
      ]
    },
    {
      "cell_type": "markdown",
      "metadata": {
        "id": "Dk_YXWfOlLBx"
      },
      "source": [
        "# 파이썬 머신러닝 실습\n",
        "## 회귀의 기본 이해"
      ]
    },
    {
      "cell_type": "code",
      "metadata": {
        "scrolled": true,
        "id": "58bw6MVwlLB1"
      },
      "source": [
        "# 필요한 라이브러리 로딩\n",
        "import pandas as pd\n",
        "import numpy as np\n",
        "import matplotlib.pyplot as plt\n",
        "\n",
        "# 사이킷런의 load_boston, LinearRegression 로딩\n",
        "_____________________________\n",
        "_____________________________"
      ],
      "execution_count": null,
      "outputs": []
    },
    {
      "cell_type": "code",
      "metadata": {
        "id": "qfCyaqlglLB2"
      },
      "source": [
        "# Boston housing price 데이터셋 로딩\n",
        "boston = ___________________\n",
        "print('Data shape:', boston.data.shape)"
      ],
      "execution_count": null,
      "outputs": []
    },
    {
      "cell_type": "code",
      "metadata": {
        "id": "uYLfAjEXlLB3"
      },
      "source": [
        "# 독립변수, 종속변수 데이터 정의\n",
        "X_rooms = _____________\n",
        "y = _____________\n",
        "print('X shape:', X_rooms.shape)\n",
        "print('y shape:', y.shape)"
      ],
      "execution_count": null,
      "outputs": []
    },
    {
      "cell_type": "code",
      "metadata": {
        "id": "l4tpErbjlLB3"
      },
      "source": [
        "# 데이터의 분포 확인을 위해 산점도로 시각화\n",
        "plt.figure()\n",
        "_____________\n",
        "plt.xlabel('Number of rooms')\n",
        "plt.ylabel('Values of house')\n",
        "plt.show()"
      ],
      "execution_count": null,
      "outputs": []
    },
    {
      "cell_type": "code",
      "metadata": {
        "id": "n8PG7iGqlLB4"
      },
      "source": [
        "from sklearn.linear_model import LinearRegression\n",
        "\n",
        "\n",
        "# 2차원 데이터로 shape 변환\n",
        "X_rooms = _____________\n",
        "y = _____________\n",
        "print('X reshape result:', X_rooms.shape)\n",
        "print('y reshape result:' , y.shape)"
      ],
      "execution_count": null,
      "outputs": []
    },
    {
      "cell_type": "code",
      "metadata": {
        "id": "DT34xh-HlLB5"
      },
      "source": [
        "# 테스팅에 사용할 데이터 생성\n",
        "testing = np.linspace(min(X_rooms), max(X_rooms)).reshape(-1,1)\n",
        "print('Testing data shape:', testing.shape)"
      ],
      "execution_count": null,
      "outputs": []
    },
    {
      "cell_type": "code",
      "metadata": {
        "id": "JrKtpwR_lLB5"
      },
      "source": [
        "# LinearRegression 객체 생성\n",
        "__________________________\n",
        "\n",
        "# 학습데이터 연결 및 학습 수행\n",
        "__________________________\n",
        "\n",
        "# 모델 예측 수행\n",
        "y_pred = __________________________"
      ],
      "execution_count": null,
      "outputs": []
    },
    {
      "cell_type": "code",
      "metadata": {
        "id": "GhUcLrr3lLB6"
      },
      "source": [
        "# 학습된 회귀선 시각화\n",
        "plt.figure(figsize=(10, 5))\n",
        "plt.scatter(X_rooms, y)\n",
        "__________________________\n",
        "plt.xlabel('Number of rooms')\n",
        "plt.ylabel('Values of house')\n",
        "plt.show()"
      ],
      "execution_count": null,
      "outputs": []
    },
    {
      "cell_type": "markdown",
      "metadata": {
        "id": "EjHEHeH0lLB6"
      },
      "source": [
        "## 회귀의 추정과 평가"
      ]
    },
    {
      "cell_type": "code",
      "metadata": {
        "id": "v1aZDhiQlLB7"
      },
      "source": [
        "# 필요한 라이브러리 로딩\n",
        "import numpy as np\n",
        "import pandas as pd\n",
        "\n",
        "from sklearn.datasets import load_boston\n",
        "from sklearn.model_selection import train_test_split\n",
        "from sklearn.linear_model import LinearRegression\n",
        "# 사이킷런의 metrics 로딩\n",
        "__________________________"
      ],
      "execution_count": null,
      "outputs": []
    },
    {
      "cell_type": "code",
      "metadata": {
        "id": "kQT3DO3ylLB7"
      },
      "source": [
        "# Boston housing price 데이터셋 로딩\n",
        "boston = load_boston()\n",
        "\n",
        "# 데이터셋 분할\n",
        "x_train, x_test, y_train, y_test = __________________________________"
      ],
      "execution_count": null,
      "outputs": []
    },
    {
      "cell_type": "markdown",
      "metadata": {
        "id": "RHg1B_fUlLB7"
      },
      "source": [
        "LinearRegression API의 Method(함수)\n",
        "- fit(X, y) : 학습 데이터를 이용하여 모델의 회귀계수(w) 와 편향(b)을 학습\n",
        "- predict(X) : 모델에 테스트 데이터를 입력하여 계산된 예측값 반환\n",
        "- score(X, y) : 모델에 테스트 데이터를 입력하여 모델의 성능지표(𝑅^2) 반환\n",
        "\n",
        "LinearRegression API의 Attribute(속성)\n",
        "- coef_: 학습된 모델의 회귀 계수(W)\n",
        "- intercept_: 학습된 모델의 bias 값(b)"
      ]
    },
    {
      "cell_type": "code",
      "metadata": {
        "id": "t3Q5I2qolLB8"
      },
      "source": [
        "# LinearRegression 객체 생성\n",
        "__________________________\n",
        "\n",
        "# 학습데이터 연결 및 학습 수행\n",
        "__________________________\n",
        "\n",
        "# 모델 예측 수행\n",
        "__________________________"
      ],
      "execution_count": null,
      "outputs": []
    },
    {
      "cell_type": "code",
      "metadata": {
        "id": "Y2LnBJ9PlLB8"
      },
      "source": [
        "# 회귀 계수 출력\n",
        "# np.round(a, N) 함수 : a 변수를 N소수점 까지 반올림 처리하는 함수\n",
        "weight = __________________________\n",
        "bias = __________________________\n",
        "print('Weight:', weight)\n",
        "print('Bias:', bias)"
      ],
      "execution_count": null,
      "outputs": []
    },
    {
      "cell_type": "code",
      "metadata": {
        "id": "smGIf-o4lLB9"
      },
      "source": [
        "# 컬럼별 회귀계수 출력을 위해 Series 객체에 저장\n",
        "coef_table = __________________________\n",
        "              \n",
        "\n",
        "# 내림차순 정렬 후 출력\n",
        "# sort_values() : 객체 내 데이터를 정렬하는 함수로 ascending=False 옵션을 주면 내림차순 정렬됨\n",
        "__________________________"
      ],
      "execution_count": null,
      "outputs": []
    },
    {
      "cell_type": "markdown",
      "metadata": {
        "id": "Rorohf7XlLB9"
      },
      "source": [
        "회귀 분석을 위한 평가 지표\n",
        "- MSE(Mean Squared Error) \n",
        "- MAE(Mean Absolute Error)\n",
        "- RMSE(Root Mean Squared Error)\n",
        "- MAPE(Mean Absolute Percentage Error)"
      ]
    },
    {
      "cell_type": "code",
      "metadata": {
        "id": "-FKkiloWlLB9"
      },
      "source": [
        "# 회귀 분석 모델을 위한 평가 지표 계산\n",
        "mse = __________________________\n",
        "mae = __________________________\n",
        "rmse = __________________________\n",
        "\n",
        "# metrics.mean_absolute_percentage_error 는 0,24,2 부터 지원\n",
        "# mape = metrics.mean_absolute_percentage_error(y_test, y_pred)\n",
        "mape = np.mean(np.abs((y_test - y_pred) / y_test)) * 100\n",
        "\n",
        "print('MSE  : {0:.3f}'.format(mse))\n",
        "print('MAE  : {0:.3f}'.format(mae))\n",
        "print('RMSE : {0:.3f}'.format(rmse))\n",
        "print('MAPE : {0:.3f}'.format(mape))\n"
      ],
      "execution_count": null,
      "outputs": []
    },
    {
      "cell_type": "code",
      "metadata": {
        "id": "Er5i9FhOlLB-"
      },
      "source": [
        "# R-squared 를 통한 모델의 설명력 평가\n",
        "r2_score = __________________________\n",
        "r2_metric = __________________________\n",
        "\n",
        "print('R-squared(r2_score) : {0:.3f}'.format(r2_score))\n",
        "print('R-squared(r2_metric) : {0:.3f}'.format(r2_metric))"
      ],
      "execution_count": null,
      "outputs": []
    }
  ]
}