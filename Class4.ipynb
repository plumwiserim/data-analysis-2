{
  "nbformat": 4,
  "nbformat_minor": 0,
  "metadata": {
    "colab": {
      "name": "Class4",
      "provenance": [],
      "collapsed_sections": [],
      "include_colab_link": true
    },
    "kernelspec": {
      "name": "python3",
      "display_name": "Python 3"
    },
    "language_info": {
      "name": "python"
    }
  },
  "cells": [
    {
      "cell_type": "markdown",
      "metadata": {
        "id": "view-in-github",
        "colab_type": "text"
      },
      "source": [
        "<a href=\"https://colab.research.google.com/github/plumwiserim/Data-Analysis/blob/main/Class4.ipynb\" target=\"_parent\"><img src=\"https://colab.research.google.com/assets/colab-badge.svg\" alt=\"Open In Colab\"/></a>"
      ]
    },
    {
      "cell_type": "markdown",
      "metadata": {
        "id": "2i0l9eY6EPIg"
      },
      "source": [
        "## Pandas 시작하기"
      ]
    },
    {
      "cell_type": "code",
      "metadata": {
        "id": "KQPSiy9IERPO"
      },
      "source": [
        "import pandas as pd"
      ],
      "execution_count": null,
      "outputs": []
    },
    {
      "cell_type": "code",
      "metadata": {
        "id": "vwZBqkLlcuWi",
        "colab": {
          "base_uri": "https://localhost:8080/"
        },
        "outputId": "17afea6d-f9be-453f-aaab-89a9be596a22"
      },
      "source": [
        "print(pd.__version__)"
      ],
      "execution_count": null,
      "outputs": [
        {
          "output_type": "stream",
          "text": [
            "1.1.5\n"
          ],
          "name": "stdout"
        }
      ]
    },
    {
      "cell_type": "markdown",
      "metadata": {
        "id": "irfUTn66ESI4"
      },
      "source": [
        "## 자료구조 Series"
      ]
    },
    {
      "cell_type": "markdown",
      "metadata": {
        "id": "148kmTzwEZ2I"
      },
      "source": [
        "### Series 의 생성(1)"
      ]
    },
    {
      "cell_type": "code",
      "metadata": {
        "id": "ojGe_q-pEYek",
        "colab": {
          "base_uri": "https://localhost:8080/"
        },
        "outputId": "b9e9adcf-b26e-46c3-bd9c-e6748648be0d"
      },
      "source": [
        "# 리스트 데이터로 Series 객체 생성하기\n",
        "\n",
        "year = ['2019', '2020', '2021', '2022']\n",
        "result = pd.Series(data=year)\n",
        "\n",
        "print('\\nType:', type(result))\n",
        "print(result)"
      ],
      "execution_count": null,
      "outputs": [
        {
          "output_type": "stream",
          "text": [
            "\n",
            "Type: <class 'pandas.core.series.Series'>\n",
            "0    2019\n",
            "1    2020\n",
            "2    2021\n",
            "3    2022\n",
            "dtype: object\n"
          ],
          "name": "stdout"
        }
      ]
    },
    {
      "cell_type": "code",
      "metadata": {
        "id": "VS4ryu7NEX52",
        "colab": {
          "base_uri": "https://localhost:8080/"
        },
        "outputId": "214830f4-7834-4169-b9f1-0f3045424337"
      },
      "source": [
        "# Series 객체의 주요 속성\n",
        "print('Index: ', result.index )\n",
        "print('Data: ', result.values )\n",
        "print('DType: ', result.dtype )\n",
        "print('Shape: ', result.shape )"
      ],
      "execution_count": null,
      "outputs": [
        {
          "output_type": "stream",
          "text": [
            "Index:  RangeIndex(start=0, stop=4, step=1)\n",
            "Data:  ['2019' '2020' '2021' '2022']\n",
            "DType:  object\n",
            "Shape:  (4,)\n"
          ],
          "name": "stdout"
        }
      ]
    },
    {
      "cell_type": "code",
      "metadata": {
        "id": "9NJwyc9uE2HE",
        "colab": {
          "base_uri": "https://localhost:8080/"
        },
        "outputId": "5b5cb3b7-a3ca-4d6a-a004-78aafde577e0"
      },
      "source": [
        "# Series 객체의 이름 지정\n",
        "result.name = 'Year'\n",
        "result.index.name = 'No.'\n",
        "print(result)"
      ],
      "execution_count": null,
      "outputs": [
        {
          "output_type": "stream",
          "text": [
            "No.\n",
            "0    2019\n",
            "1    2020\n",
            "2    2021\n",
            "3    2022\n",
            "Name: Year, dtype: object\n"
          ],
          "name": "stdout"
        }
      ]
    },
    {
      "cell_type": "markdown",
      "metadata": {
        "id": "4NvITPjnFCEf"
      },
      "source": [
        "### Series 의 생성(2)"
      ]
    },
    {
      "cell_type": "code",
      "metadata": {
        "id": "HoW74USJFB92",
        "colab": {
          "base_uri": "https://localhost:8080/"
        },
        "outputId": "7e08c91b-6dc7-4209-8622-5e8e6d2824d5"
      },
      "source": [
        "# 인덱스 추가하여 Series 객체 생성하기\n",
        "year = ['2019', '2020', '2021', '2022']\n",
        "idx = ['a', 'b', 'c', 'd']\n",
        "\n",
        "result = pd.Series(data=year, index=idx, name='Year')\n",
        "print(result)"
      ],
      "execution_count": null,
      "outputs": [
        {
          "output_type": "stream",
          "text": [
            "a    2019\n",
            "b    2020\n",
            "c    2021\n",
            "d    2022\n",
            "Name: Year, dtype: object\n"
          ],
          "name": "stdout"
        }
      ]
    },
    {
      "cell_type": "markdown",
      "metadata": {
        "id": "RqHXmqPxFLK2"
      },
      "source": [
        "### Series 의 생성(3)"
      ]
    },
    {
      "cell_type": "code",
      "metadata": {
        "id": "zMjM3vBVE9LN",
        "colab": {
          "base_uri": "https://localhost:8080/"
        },
        "outputId": "8e43419f-c0cf-4c2f-993a-fd46fb3edfdf"
      },
      "source": [
        "# 딕셔너리 데이터로 Series 객체 생성하기\n",
        "score = {'Kim':85, 'Han':89, 'Lee':99, 'Choi':70}\n",
        "\n",
        "result = pd.Series(data=score, name='Score')\n",
        "print(result)\n"
      ],
      "execution_count": null,
      "outputs": [
        {
          "output_type": "stream",
          "text": [
            "Kim     85\n",
            "Han     89\n",
            "Lee     99\n",
            "Choi    70\n",
            "Name: Score, dtype: int64\n"
          ],
          "name": "stdout"
        }
      ]
    },
    {
      "cell_type": "markdown",
      "metadata": {
        "id": "b_UdHQLOFVcn"
      },
      "source": [
        "## 자료구조 DataFrame"
      ]
    },
    {
      "cell_type": "markdown",
      "metadata": {
        "id": "fVbByRhdFXvR"
      },
      "source": [
        "### DataFrame 의 생성(1)"
      ]
    },
    {
      "cell_type": "code",
      "metadata": {
        "id": "ogzlILfZFZdG"
      },
      "source": [
        "# 파이썬 딕셔너리 객체 이용하여 DataFrame 생성하기\n",
        "score = {'name': ['Jessi', 'Emma', 'Alex', 'Tom'],\n",
        "         'score': [100, 95, 80, 85],\n",
        "         'grade': ['A', 'A', 'B', 'B']}\n",
        "        \n",
        "df = pd.DataFrame(data=score)\n",
        "print(type(df))\n",
        "print(df)"
      ],
      "execution_count": null,
      "outputs": []
    },
    {
      "cell_type": "code",
      "metadata": {
        "id": "x7ttqRW8FZ0B"
      },
      "source": [
        "# DataFrame 주요 속성 실습-1\n",
        "print('-Index: ', df.index)\n",
        "print('-Columns: ', df.columns)\n",
        "print('-Values:', df.values)"
      ],
      "execution_count": null,
      "outputs": []
    },
    {
      "cell_type": "code",
      "metadata": {
        "id": "qS63-sxSFZxc"
      },
      "source": [
        "# DataFrame 주요 속성 실습-2\n",
        "print('-DTypes: ', df.dtypes)\n",
        "print('-Shape: ', df.shape)"
      ],
      "execution_count": null,
      "outputs": []
    },
    {
      "cell_type": "markdown",
      "metadata": {
        "id": "c5RxldbzGOK8"
      },
      "source": [
        "### DataFrame 의 생성(2)"
      ]
    },
    {
      "cell_type": "code",
      "metadata": {
        "id": "Olyz0dnTF1iG",
        "colab": {
          "base_uri": "https://localhost:8080/"
        },
        "outputId": "18772ba2-5bcc-4e81-d50a-cf5aa4632d79"
      },
      "source": [
        "# index, columns 지정하여 DataFrame 생성하기\n",
        "score = {'name': ['Jessi', 'Emma', 'Alex', 'Tom'],\n",
        "         'score': [100, 95, 80, 85],\n",
        "         'grade': ['A', 'A', 'B', 'B']}     \n",
        "i = ['a', 'b', 'c', 'd']\n",
        "c = ['score', 'grade', 'name', 'email']\n",
        "        \n",
        "df = pd.DataFrame(data=score, index=i, columns=c)\n",
        "print(df)"
      ],
      "execution_count": null,
      "outputs": [
        {
          "output_type": "stream",
          "text": [
            "   score grade   name email\n",
            "a    100     A  Jessi   NaN\n",
            "b     95     A   Emma   NaN\n",
            "c     80     B   Alex   NaN\n",
            "d     85     B    Tom   NaN\n"
          ],
          "name": "stdout"
        }
      ]
    },
    {
      "cell_type": "markdown",
      "metadata": {
        "id": "8mFIIUPjGQRL"
      },
      "source": [
        "## DataFrame 살펴보기"
      ]
    },
    {
      "cell_type": "markdown",
      "metadata": {
        "id": "p9u8gX8YGjxG"
      },
      "source": [
        "* 실습 데이터 생성"
      ]
    },
    {
      "cell_type": "code",
      "metadata": {
        "id": "7YA_SjVUGjH4",
        "colab": {
          "base_uri": "https://localhost:8080/"
        },
        "outputId": "311dc182-fa26-4a10-8dbd-939995abb5d9"
      },
      "source": [
        "import pandas as pd\n",
        "\n",
        "# 실습 데이터 생성\n",
        "score = {'name': ['Jessi', 'Emma', 'Alex', 'Jessi', 'Tom'],\n",
        "         'score': [100, 95, 80, 85, 97],\n",
        "         'grade': ['A', 'A', 'B', 'B', 'A'],\n",
        "         'subject':['python', 'java', 'python', 'c', 'java']}\n",
        "\n",
        "score_df = pd.DataFrame(data=score)\n",
        "print(score_df)"
      ],
      "execution_count": null,
      "outputs": [
        {
          "output_type": "stream",
          "text": [
            "    name  score grade subject\n",
            "0  Jessi    100     A  python\n",
            "1   Emma     95     A    java\n",
            "2   Alex     80     B  python\n",
            "3  Jessi     85     B       c\n",
            "4    Tom     97     A    java\n"
          ],
          "name": "stdout"
        }
      ]
    },
    {
      "cell_type": "markdown",
      "metadata": {
        "id": "mQXBs3_wGtJT"
      },
      "source": [
        "* info(), head(), tail(), sample() 실습"
      ]
    },
    {
      "cell_type": "code",
      "metadata": {
        "id": "OiVi8-m9GQlr",
        "colab": {
          "base_uri": "https://localhost:8080/"
        },
        "outputId": "b518b055-0cc1-4b93-8392-aca53eb18ff1"
      },
      "source": [
        "print('\\n<Summary of DataFrame>')\n",
        "print(score_df.info())"
      ],
      "execution_count": null,
      "outputs": [
        {
          "output_type": "stream",
          "text": [
            "\n",
            "<Summary of DataFrame>\n",
            "<class 'pandas.core.frame.DataFrame'>\n",
            "RangeIndex: 5 entries, 0 to 4\n",
            "Data columns (total 4 columns):\n",
            " #   Column   Non-Null Count  Dtype \n",
            "---  ------   --------------  ----- \n",
            " 0   name     5 non-null      object\n",
            " 1   score    5 non-null      int64 \n",
            " 2   grade    5 non-null      object\n",
            " 3   subject  5 non-null      object\n",
            "dtypes: int64(1), object(3)\n",
            "memory usage: 288.0+ bytes\n",
            "None\n"
          ],
          "name": "stdout"
        }
      ]
    },
    {
      "cell_type": "code",
      "metadata": {
        "id": "q2NmxlOQGrNf",
        "colab": {
          "base_uri": "https://localhost:8080/"
        },
        "outputId": "ee609544-04d4-45c5-8494-c246bfe657c8"
      },
      "source": [
        "print('\\n<Return the first n rows>')\n",
        "print(score_df.head(3))"
      ],
      "execution_count": null,
      "outputs": [
        {
          "output_type": "stream",
          "text": [
            "\n",
            "<Return the first n rows>\n",
            "    name  score grade subject\n",
            "0  Jessi    100     A  python\n",
            "1   Emma     95     A    java\n",
            "2   Alex     80     B  python\n"
          ],
          "name": "stdout"
        }
      ]
    },
    {
      "cell_type": "code",
      "metadata": {
        "id": "7F1oP5BqGrix",
        "colab": {
          "base_uri": "https://localhost:8080/"
        },
        "outputId": "6788f6d5-e494-481e-cac1-feeb813c284a"
      },
      "source": [
        "print('\\n<Return the last n rows>')\n",
        "print(score_df.tail(2))"
      ],
      "execution_count": null,
      "outputs": [
        {
          "output_type": "stream",
          "text": [
            "\n",
            "<Return the last n rows>\n",
            "    name  score grade subject\n",
            "3  Jessi     85     B       c\n",
            "4    Tom     97     A    java\n"
          ],
          "name": "stdout"
        }
      ]
    },
    {
      "cell_type": "code",
      "metadata": {
        "id": "plli9DkaGr9R",
        "colab": {
          "base_uri": "https://localhost:8080/"
        },
        "outputId": "400eda33-2e3a-4ff4-f278-26f24efbbe81"
      },
      "source": [
        "print('\\n<Return a random sample>')\n",
        "print(score_df.sample())"
      ],
      "execution_count": null,
      "outputs": [
        {
          "output_type": "stream",
          "text": [
            "\n",
            "<Return a random sample>\n",
            "  name  score grade subject\n",
            "4  Tom     97     A    java\n"
          ],
          "name": "stdout"
        }
      ]
    },
    {
      "cell_type": "markdown",
      "metadata": {
        "id": "uU2NxwmaHGOa"
      },
      "source": [
        "## 수치형과 범주형 데이터의 이해"
      ]
    },
    {
      "cell_type": "markdown",
      "metadata": {
        "id": "6y2UZKNoHQG7"
      },
      "source": [
        "* 실습 데이터 생성"
      ]
    },
    {
      "cell_type": "code",
      "metadata": {
        "colab": {
          "base_uri": "https://localhost:8080/"
        },
        "id": "NsYc4uJAHILn",
        "outputId": "080f703e-8868-48df-980f-5a10dce5eb83"
      },
      "source": [
        "import pandas as pd\n",
        "\n",
        "# 실습 데이터 생성\n",
        "score = {'name': ['Jessi', 'Emma', 'Alex', 'Jessi', 'Tom'],\n",
        "         'age': [20, 24, 23, 20, 27],\n",
        "         'score': [100, 95, 80, 85, 97],\n",
        "         'grade': ['A', 'A', 'B', 'B', 'A'],\n",
        "         'subject':['python', 'java', 'python', 'c', 'java']}\n",
        "\n",
        "score_df = pd.DataFrame(data=score)\n",
        "print(score_df)"
      ],
      "execution_count": null,
      "outputs": [
        {
          "output_type": "stream",
          "text": [
            "    name  age  score grade subject\n",
            "0  Jessi   20    100     A  python\n",
            "1   Emma   24     95     A    java\n",
            "2   Alex   23     80     B  python\n",
            "3  Jessi   20     85     B       c\n",
            "4    Tom   27     97     A    java\n"
          ],
          "name": "stdout"
        }
      ]
    },
    {
      "cell_type": "code",
      "metadata": {
        "id": "FJDlcauGHTMD",
        "colab": {
          "base_uri": "https://localhost:8080/"
        },
        "outputId": "3f2ec103-61fc-49eb-c670-da117984f6f7"
      },
      "source": [
        "# describe() 함수 실습\n",
        "print(\"Generate Descriptive Statistics\")\n",
        "print(score_df.describe())\n"
      ],
      "execution_count": null,
      "outputs": [
        {
          "output_type": "stream",
          "text": [
            "Generate Descriptive Statistics\n",
            "             age       score\n",
            "count   5.000000    5.000000\n",
            "mean   22.800000   91.400000\n",
            "std     2.949576    8.502941\n",
            "min    20.000000   80.000000\n",
            "25%    20.000000   85.000000\n",
            "50%    23.000000   95.000000\n",
            "75%    24.000000   97.000000\n",
            "max    27.000000  100.000000\n"
          ],
          "name": "stdout"
        }
      ]
    },
    {
      "cell_type": "code",
      "metadata": {
        "id": "MJmMQxTyHjEg",
        "colab": {
          "base_uri": "https://localhost:8080/"
        },
        "outputId": "789e564b-fe9a-448f-d97d-172c78195860"
      },
      "source": [
        "# 범주형 데이터에 대한 describe() 함수 실습\n",
        "\n",
        "print(\"Generate Descriptive Statistics for Categorical\")\n",
        "print(score_df[['grade', 'subject']].describe())"
      ],
      "execution_count": null,
      "outputs": [
        {
          "output_type": "stream",
          "text": [
            "Generate Descriptive Statistics for Categorical\n",
            "       grade subject\n",
            "count      5       5\n",
            "unique     2       3\n",
            "top        A  python\n",
            "freq       3       2\n"
          ],
          "name": "stdout"
        }
      ]
    },
    {
      "cell_type": "code",
      "metadata": {
        "id": "JebYM1-vHuG6",
        "colab": {
          "base_uri": "https://localhost:8080/"
        },
        "outputId": "7be4e7b2-d24f-4f84-8785-5dd9af809bd8"
      },
      "source": [
        "# 범주형 데이터를 위한 unique() 함수 실습\n",
        "print(\"The Unique Values\")\n",
        "print(score_df['subject'].unique())"
      ],
      "execution_count": null,
      "outputs": [
        {
          "output_type": "stream",
          "text": [
            "The Unique Values\n",
            "['python' 'java' 'c']\n"
          ],
          "name": "stdout"
        }
      ]
    },
    {
      "cell_type": "code",
      "metadata": {
        "id": "RcRf5zvoHzv4",
        "colab": {
          "base_uri": "https://localhost:8080/"
        },
        "outputId": "411c5902-b432-48fd-e367-07ac58b2d797"
      },
      "source": [
        "# 범주형 데이터를 위한 value_counts() 함수 실습\n",
        "print(\"The Value Counts\")\n",
        "print(score_df['subject'].value_counts())"
      ],
      "execution_count": null,
      "outputs": [
        {
          "output_type": "stream",
          "text": [
            "The Value Counts\n",
            "python    2\n",
            "java      2\n",
            "c         1\n",
            "Name: subject, dtype: int64\n"
          ],
          "name": "stdout"
        }
      ]
    },
    {
      "cell_type": "markdown",
      "metadata": {
        "id": "dVgtPNLeH3k7"
      },
      "source": [
        "## 데이터 조회 및 변경"
      ]
    },
    {
      "cell_type": "markdown",
      "metadata": {
        "id": "Mckbd1qBIO9q"
      },
      "source": [
        "* 실습 데이터 생성"
      ]
    },
    {
      "cell_type": "code",
      "metadata": {
        "id": "MUqGgC3MIOZH",
        "colab": {
          "base_uri": "https://localhost:8080/"
        },
        "outputId": "509f3517-ece7-4825-a7cb-f7a3b785c454"
      },
      "source": [
        "import pandas as pd\n",
        "\n",
        "# 실습 데이터 생성\n",
        "score = {'name': ['Jessi', 'Emma', 'Alex', 'Jessi', 'Tom'],\n",
        "         'score': [100, 95, 80, 85, 97],\n",
        "         'grade': ['A', 'A', 'B', 'B', 'A'],\n",
        "         'subject':['python', 'java', 'python', 'c', 'java']}\n",
        "c = ['name', 'subject', 'score', 'grade', 'etc']\n",
        "\n",
        "df = pd.DataFrame(data=score, columns=c)\n",
        "print(df)"
      ],
      "execution_count": null,
      "outputs": [
        {
          "output_type": "stream",
          "text": [
            "    name subject  score grade  etc\n",
            "0  Jessi  python    100     A  NaN\n",
            "1   Emma    java     95     A  NaN\n",
            "2   Alex  python     80     B  NaN\n",
            "3  Jessi       c     85     B  NaN\n",
            "4    Tom    java     97     A  NaN\n"
          ],
          "name": "stdout"
        }
      ]
    },
    {
      "cell_type": "code",
      "metadata": {
        "id": "1-LVf17-IQS0",
        "colab": {
          "base_uri": "https://localhost:8080/"
        },
        "outputId": "f4e39a93-98df-4926-fdf0-828f572cfc50"
      },
      "source": [
        "# 인덱싱 기법으로 열 데이터 조회 실습\n",
        "print('Columns : name')\n",
        "print(df['name'])"
      ],
      "execution_count": null,
      "outputs": [
        {
          "output_type": "stream",
          "text": [
            "Columns : name\n",
            "0    Jessi\n",
            "1     Emma\n",
            "2     Alex\n",
            "3    Jessi\n",
            "4      Tom\n",
            "Name: name, dtype: object\n"
          ],
          "name": "stdout"
        }
      ]
    },
    {
      "cell_type": "code",
      "metadata": {
        "id": "T4iomF6QIgbg",
        "colab": {
          "base_uri": "https://localhost:8080/"
        },
        "outputId": "969348f2-9027-4fa3-8a55-15368b7fa34a"
      },
      "source": [
        "# . 연산자로 열 데이터 조회 실습\n",
        "print('Columns : name')\n",
        "print(df.name)"
      ],
      "execution_count": null,
      "outputs": [
        {
          "output_type": "stream",
          "text": [
            "Columns : name\n",
            "0    Jessi\n",
            "1     Emma\n",
            "2     Alex\n",
            "3    Jessi\n",
            "4      Tom\n",
            "Name: name, dtype: object\n"
          ],
          "name": "stdout"
        }
      ]
    },
    {
      "cell_type": "code",
      "metadata": {
        "id": "Ot6uwRIgIrbD"
      },
      "source": [
        "# df.name 의 타입 출력하여 확인\n",
        "print('Type:', type(df.name))"
      ],
      "execution_count": null,
      "outputs": []
    },
    {
      "cell_type": "code",
      "metadata": {
        "id": "eRdalyI7IzvQ",
        "colab": {
          "base_uri": "https://localhost:8080/"
        },
        "outputId": "d42d60bc-9851-462e-c85c-42ddffed5846"
      },
      "source": [
        "# 다중 열 데이터 조회 실습\n",
        "print('Columns : name-subject-grade')\n",
        "print(df[['name', 'subject', 'grade']])"
      ],
      "execution_count": null,
      "outputs": [
        {
          "output_type": "stream",
          "text": [
            "Columns : name-subject-grade\n",
            "    name subject grade\n",
            "0  Jessi  python     A\n",
            "1   Emma    java     A\n",
            "2   Alex  python     B\n",
            "3  Jessi       c     B\n",
            "4    Tom    java     A\n"
          ],
          "name": "stdout"
        }
      ]
    },
    {
      "cell_type": "code",
      "metadata": {
        "id": "NsZ6ymOTIzsN"
      },
      "source": [
        "# etc 열 데이터 변경하기\n",
        "print('Modify Column Data')\n",
        "_____________________\n",
        "df"
      ],
      "execution_count": null,
      "outputs": []
    },
    {
      "cell_type": "code",
      "metadata": {
        "id": "tpBpAQIUJN3P",
        "colab": {
          "base_uri": "https://localhost:8080/"
        },
        "outputId": "282927ea-23ac-4fee-a988-190e5ddbec14"
      },
      "source": [
        "# loc 이용하여 행 데이터 조회 실습\n",
        "print('Rows-1')\n",
        "print(df.loc[1])"
      ],
      "execution_count": null,
      "outputs": [
        {
          "output_type": "stream",
          "text": [
            "Rows-1\n",
            "name       Emma\n",
            "subject    java\n",
            "score        95\n",
            "grade         A\n",
            "etc         NaN\n",
            "Name: 1, dtype: object\n"
          ],
          "name": "stdout"
        }
      ]
    },
    {
      "cell_type": "code",
      "metadata": {
        "id": "7-1KRarJJOt_",
        "colab": {
          "base_uri": "https://localhost:8080/",
          "height": 162
        },
        "outputId": "7666774d-ae4f-4d63-c63d-c6f0ea1729f7"
      },
      "source": [
        "# loc 이용하여 다중 행 데이터 조회 실습\n",
        "print('Rows-0,2,4')\n",
        "df.loc[[0,2,4]]"
      ],
      "execution_count": null,
      "outputs": [
        {
          "output_type": "stream",
          "text": [
            "Rows-0,2,4\n"
          ],
          "name": "stdout"
        },
        {
          "output_type": "execute_result",
          "data": {
            "text/html": [
              "<div>\n",
              "<style scoped>\n",
              "    .dataframe tbody tr th:only-of-type {\n",
              "        vertical-align: middle;\n",
              "    }\n",
              "\n",
              "    .dataframe tbody tr th {\n",
              "        vertical-align: top;\n",
              "    }\n",
              "\n",
              "    .dataframe thead th {\n",
              "        text-align: right;\n",
              "    }\n",
              "</style>\n",
              "<table border=\"1\" class=\"dataframe\">\n",
              "  <thead>\n",
              "    <tr style=\"text-align: right;\">\n",
              "      <th></th>\n",
              "      <th>name</th>\n",
              "      <th>subject</th>\n",
              "      <th>score</th>\n",
              "      <th>grade</th>\n",
              "      <th>etc</th>\n",
              "    </tr>\n",
              "  </thead>\n",
              "  <tbody>\n",
              "    <tr>\n",
              "      <th>0</th>\n",
              "      <td>Jessi</td>\n",
              "      <td>python</td>\n",
              "      <td>100</td>\n",
              "      <td>A</td>\n",
              "      <td>NaN</td>\n",
              "    </tr>\n",
              "    <tr>\n",
              "      <th>2</th>\n",
              "      <td>Alex</td>\n",
              "      <td>python</td>\n",
              "      <td>80</td>\n",
              "      <td>B</td>\n",
              "      <td>NaN</td>\n",
              "    </tr>\n",
              "    <tr>\n",
              "      <th>4</th>\n",
              "      <td>Tom</td>\n",
              "      <td>java</td>\n",
              "      <td>97</td>\n",
              "      <td>A</td>\n",
              "      <td>NaN</td>\n",
              "    </tr>\n",
              "  </tbody>\n",
              "</table>\n",
              "</div>"
            ],
            "text/plain": [
              "    name subject  score grade  etc\n",
              "0  Jessi  python    100     A  NaN\n",
              "2   Alex  python     80     B  NaN\n",
              "4    Tom    java     97     A  NaN"
            ]
          },
          "metadata": {
            "tags": []
          },
          "execution_count": 27
        }
      ]
    },
    {
      "cell_type": "code",
      "metadata": {
        "id": "aTtp3SlhJU2C",
        "colab": {
          "base_uri": "https://localhost:8080/",
          "height": 225
        },
        "outputId": "e94bfcdd-bdd8-42b5-b1bd-0d84d62ef600"
      },
      "source": [
        "# 특정 행 데이터 변경 실습\n",
        "print('Modify Rows0')\n",
        "df.loc[0] = ['Jessi', 'java', 70, 'C', 1]\n",
        "df"
      ],
      "execution_count": null,
      "outputs": [
        {
          "output_type": "stream",
          "text": [
            "Modify Rows0\n"
          ],
          "name": "stdout"
        },
        {
          "output_type": "execute_result",
          "data": {
            "text/html": [
              "<div>\n",
              "<style scoped>\n",
              "    .dataframe tbody tr th:only-of-type {\n",
              "        vertical-align: middle;\n",
              "    }\n",
              "\n",
              "    .dataframe tbody tr th {\n",
              "        vertical-align: top;\n",
              "    }\n",
              "\n",
              "    .dataframe thead th {\n",
              "        text-align: right;\n",
              "    }\n",
              "</style>\n",
              "<table border=\"1\" class=\"dataframe\">\n",
              "  <thead>\n",
              "    <tr style=\"text-align: right;\">\n",
              "      <th></th>\n",
              "      <th>name</th>\n",
              "      <th>subject</th>\n",
              "      <th>score</th>\n",
              "      <th>grade</th>\n",
              "      <th>etc</th>\n",
              "    </tr>\n",
              "  </thead>\n",
              "  <tbody>\n",
              "    <tr>\n",
              "      <th>0</th>\n",
              "      <td>Jessi</td>\n",
              "      <td>java</td>\n",
              "      <td>70</td>\n",
              "      <td>C</td>\n",
              "      <td>1</td>\n",
              "    </tr>\n",
              "    <tr>\n",
              "      <th>1</th>\n",
              "      <td>Emma</td>\n",
              "      <td>java</td>\n",
              "      <td>95</td>\n",
              "      <td>A</td>\n",
              "      <td>NaN</td>\n",
              "    </tr>\n",
              "    <tr>\n",
              "      <th>2</th>\n",
              "      <td>Alex</td>\n",
              "      <td>python</td>\n",
              "      <td>80</td>\n",
              "      <td>B</td>\n",
              "      <td>NaN</td>\n",
              "    </tr>\n",
              "    <tr>\n",
              "      <th>3</th>\n",
              "      <td>Jessi</td>\n",
              "      <td>c</td>\n",
              "      <td>85</td>\n",
              "      <td>B</td>\n",
              "      <td>NaN</td>\n",
              "    </tr>\n",
              "    <tr>\n",
              "      <th>4</th>\n",
              "      <td>Tom</td>\n",
              "      <td>java</td>\n",
              "      <td>97</td>\n",
              "      <td>A</td>\n",
              "      <td>NaN</td>\n",
              "    </tr>\n",
              "  </tbody>\n",
              "</table>\n",
              "</div>"
            ],
            "text/plain": [
              "    name subject  score grade  etc\n",
              "0  Jessi    java     70     C    1\n",
              "1   Emma    java     95     A  NaN\n",
              "2   Alex  python     80     B  NaN\n",
              "3  Jessi       c     85     B  NaN\n",
              "4    Tom    java     97     A  NaN"
            ]
          },
          "metadata": {
            "tags": []
          },
          "execution_count": 35
        }
      ]
    },
    {
      "cell_type": "code",
      "metadata": {
        "id": "LeVe9022IUBd",
        "colab": {
          "base_uri": "https://localhost:8080/"
        },
        "outputId": "1a73045c-4f0f-4e43-d697-f481bbca1401"
      },
      "source": [
        "# 행과 열의 조건을 동시에 지정하여 조회 실습\n",
        "row_idx = [1,2,4]\n",
        "col_idx = ['name', 'subject', 'grade']\n",
        "\n",
        "print('Rows & Columns')\n",
        "print(df.loc[row_idx, col_idx])"
      ],
      "execution_count": null,
      "outputs": [
        {
          "output_type": "stream",
          "text": [
            "Rows & Columns\n",
            "   name subject grade\n",
            "1  Emma    java     A\n",
            "2  Alex  python     B\n",
            "4   Tom    java     A\n"
          ],
          "name": "stdout"
        }
      ]
    },
    {
      "cell_type": "markdown",
      "metadata": {
        "id": "WjGQLYbhJe41"
      },
      "source": [
        "## 데이터 추가, 삭제"
      ]
    },
    {
      "cell_type": "markdown",
      "metadata": {
        "id": "nRJlpQe7JjW-"
      },
      "source": [
        "* 실습 데이터 생성"
      ]
    },
    {
      "cell_type": "code",
      "metadata": {
        "id": "XD-djooBJcNs",
        "colab": {
          "base_uri": "https://localhost:8080/",
          "height": 206
        },
        "outputId": "ccd4f291-628f-4fe9-fc76-68491227488e"
      },
      "source": [
        "import pandas as pd\n",
        "\n",
        "# 실습 데이터 생성\n",
        "score = {'name': ['Jessi', 'Emma', 'Alex', 'Jessi', 'Tom'],\n",
        "         'score': [100, 95, 80, 85, 97],\n",
        "         'grade': ['A', 'A', 'B', 'B', 'A'],\n",
        "         'subject':['python', 'java', 'python', 'c', 'java']}\n",
        "c = ['name', 'subject', 'score', 'grade', 'etc']\n",
        "\n",
        "df = pd.DataFrame(data=score, columns=c)\n",
        "df"
      ],
      "execution_count": null,
      "outputs": [
        {
          "output_type": "execute_result",
          "data": {
            "text/html": [
              "<div>\n",
              "<style scoped>\n",
              "    .dataframe tbody tr th:only-of-type {\n",
              "        vertical-align: middle;\n",
              "    }\n",
              "\n",
              "    .dataframe tbody tr th {\n",
              "        vertical-align: top;\n",
              "    }\n",
              "\n",
              "    .dataframe thead th {\n",
              "        text-align: right;\n",
              "    }\n",
              "</style>\n",
              "<table border=\"1\" class=\"dataframe\">\n",
              "  <thead>\n",
              "    <tr style=\"text-align: right;\">\n",
              "      <th></th>\n",
              "      <th>name</th>\n",
              "      <th>subject</th>\n",
              "      <th>score</th>\n",
              "      <th>grade</th>\n",
              "      <th>etc</th>\n",
              "    </tr>\n",
              "  </thead>\n",
              "  <tbody>\n",
              "    <tr>\n",
              "      <th>0</th>\n",
              "      <td>Jessi</td>\n",
              "      <td>python</td>\n",
              "      <td>100</td>\n",
              "      <td>A</td>\n",
              "      <td>NaN</td>\n",
              "    </tr>\n",
              "    <tr>\n",
              "      <th>1</th>\n",
              "      <td>Emma</td>\n",
              "      <td>java</td>\n",
              "      <td>95</td>\n",
              "      <td>A</td>\n",
              "      <td>NaN</td>\n",
              "    </tr>\n",
              "    <tr>\n",
              "      <th>2</th>\n",
              "      <td>Alex</td>\n",
              "      <td>python</td>\n",
              "      <td>80</td>\n",
              "      <td>B</td>\n",
              "      <td>NaN</td>\n",
              "    </tr>\n",
              "    <tr>\n",
              "      <th>3</th>\n",
              "      <td>Jessi</td>\n",
              "      <td>c</td>\n",
              "      <td>85</td>\n",
              "      <td>B</td>\n",
              "      <td>NaN</td>\n",
              "    </tr>\n",
              "    <tr>\n",
              "      <th>4</th>\n",
              "      <td>Tom</td>\n",
              "      <td>java</td>\n",
              "      <td>97</td>\n",
              "      <td>A</td>\n",
              "      <td>NaN</td>\n",
              "    </tr>\n",
              "  </tbody>\n",
              "</table>\n",
              "</div>"
            ],
            "text/plain": [
              "    name subject  score grade  etc\n",
              "0  Jessi  python    100     A  NaN\n",
              "1   Emma    java     95     A  NaN\n",
              "2   Alex  python     80     B  NaN\n",
              "3  Jessi       c     85     B  NaN\n",
              "4    Tom    java     97     A  NaN"
            ]
          },
          "metadata": {
            "tags": []
          },
          "execution_count": 37
        }
      ]
    },
    {
      "cell_type": "code",
      "metadata": {
        "id": "oqjBn-ukJeFm",
        "colab": {
          "base_uri": "https://localhost:8080/",
          "height": 225
        },
        "outputId": "999f33f8-a7a0-4114-edce-8f5d9624492f"
      },
      "source": [
        "# Series 객체 생성하여 'semester' 라는 열 추가\n",
        "semester_data = pd.Series(['20-01', '20-01', '20-02', '20-01'])\n",
        "df['semester'] = semester_data\n",
        "\n",
        "print('Add Columns : semester')\n",
        "df"
      ],
      "execution_count": null,
      "outputs": [
        {
          "output_type": "stream",
          "text": [
            "Add Columns : semester\n"
          ],
          "name": "stdout"
        },
        {
          "output_type": "execute_result",
          "data": {
            "text/html": [
              "<div>\n",
              "<style scoped>\n",
              "    .dataframe tbody tr th:only-of-type {\n",
              "        vertical-align: middle;\n",
              "    }\n",
              "\n",
              "    .dataframe tbody tr th {\n",
              "        vertical-align: top;\n",
              "    }\n",
              "\n",
              "    .dataframe thead th {\n",
              "        text-align: right;\n",
              "    }\n",
              "</style>\n",
              "<table border=\"1\" class=\"dataframe\">\n",
              "  <thead>\n",
              "    <tr style=\"text-align: right;\">\n",
              "      <th></th>\n",
              "      <th>name</th>\n",
              "      <th>subject</th>\n",
              "      <th>score</th>\n",
              "      <th>grade</th>\n",
              "      <th>etc</th>\n",
              "      <th>semester</th>\n",
              "    </tr>\n",
              "  </thead>\n",
              "  <tbody>\n",
              "    <tr>\n",
              "      <th>0</th>\n",
              "      <td>Jessi</td>\n",
              "      <td>python</td>\n",
              "      <td>100</td>\n",
              "      <td>A</td>\n",
              "      <td>NaN</td>\n",
              "      <td>20-01</td>\n",
              "    </tr>\n",
              "    <tr>\n",
              "      <th>1</th>\n",
              "      <td>Emma</td>\n",
              "      <td>java</td>\n",
              "      <td>95</td>\n",
              "      <td>A</td>\n",
              "      <td>NaN</td>\n",
              "      <td>20-01</td>\n",
              "    </tr>\n",
              "    <tr>\n",
              "      <th>2</th>\n",
              "      <td>Alex</td>\n",
              "      <td>python</td>\n",
              "      <td>80</td>\n",
              "      <td>B</td>\n",
              "      <td>NaN</td>\n",
              "      <td>20-02</td>\n",
              "    </tr>\n",
              "    <tr>\n",
              "      <th>3</th>\n",
              "      <td>Jessi</td>\n",
              "      <td>c</td>\n",
              "      <td>85</td>\n",
              "      <td>B</td>\n",
              "      <td>NaN</td>\n",
              "      <td>20-01</td>\n",
              "    </tr>\n",
              "    <tr>\n",
              "      <th>4</th>\n",
              "      <td>Tom</td>\n",
              "      <td>java</td>\n",
              "      <td>97</td>\n",
              "      <td>A</td>\n",
              "      <td>NaN</td>\n",
              "      <td>NaN</td>\n",
              "    </tr>\n",
              "  </tbody>\n",
              "</table>\n",
              "</div>"
            ],
            "text/plain": [
              "    name subject  score grade  etc semester\n",
              "0  Jessi  python    100     A  NaN    20-01\n",
              "1   Emma    java     95     A  NaN    20-01\n",
              "2   Alex  python     80     B  NaN    20-02\n",
              "3  Jessi       c     85     B  NaN    20-01\n",
              "4    Tom    java     97     A  NaN      NaN"
            ]
          },
          "metadata": {
            "tags": []
          },
          "execution_count": 38
        }
      ]
    },
    {
      "cell_type": "code",
      "metadata": {
        "id": "0SUJtn5HJo_n",
        "colab": {
          "base_uri": "https://localhost:8080/",
          "height": 225
        },
        "outputId": "be0b7fb5-dfcb-46bb-c8d4-46b8922788ad"
      },
      "source": [
        "# 연산 이용하여 'high_score' 라는 열 추가\n",
        "df['high_score'] = df['score'] > 90\n",
        "\n",
        "print('Add Columns : high_score')\n",
        "df"
      ],
      "execution_count": null,
      "outputs": [
        {
          "output_type": "stream",
          "text": [
            "Add Columns : high_score\n"
          ],
          "name": "stdout"
        },
        {
          "output_type": "execute_result",
          "data": {
            "text/html": [
              "<div>\n",
              "<style scoped>\n",
              "    .dataframe tbody tr th:only-of-type {\n",
              "        vertical-align: middle;\n",
              "    }\n",
              "\n",
              "    .dataframe tbody tr th {\n",
              "        vertical-align: top;\n",
              "    }\n",
              "\n",
              "    .dataframe thead th {\n",
              "        text-align: right;\n",
              "    }\n",
              "</style>\n",
              "<table border=\"1\" class=\"dataframe\">\n",
              "  <thead>\n",
              "    <tr style=\"text-align: right;\">\n",
              "      <th></th>\n",
              "      <th>name</th>\n",
              "      <th>subject</th>\n",
              "      <th>score</th>\n",
              "      <th>grade</th>\n",
              "      <th>etc</th>\n",
              "      <th>semester</th>\n",
              "      <th>high_score</th>\n",
              "    </tr>\n",
              "  </thead>\n",
              "  <tbody>\n",
              "    <tr>\n",
              "      <th>0</th>\n",
              "      <td>Jessi</td>\n",
              "      <td>python</td>\n",
              "      <td>100</td>\n",
              "      <td>A</td>\n",
              "      <td>NaN</td>\n",
              "      <td>20-01</td>\n",
              "      <td>True</td>\n",
              "    </tr>\n",
              "    <tr>\n",
              "      <th>1</th>\n",
              "      <td>Emma</td>\n",
              "      <td>java</td>\n",
              "      <td>95</td>\n",
              "      <td>A</td>\n",
              "      <td>NaN</td>\n",
              "      <td>20-01</td>\n",
              "      <td>True</td>\n",
              "    </tr>\n",
              "    <tr>\n",
              "      <th>2</th>\n",
              "      <td>Alex</td>\n",
              "      <td>python</td>\n",
              "      <td>80</td>\n",
              "      <td>B</td>\n",
              "      <td>NaN</td>\n",
              "      <td>20-02</td>\n",
              "      <td>False</td>\n",
              "    </tr>\n",
              "    <tr>\n",
              "      <th>3</th>\n",
              "      <td>Jessi</td>\n",
              "      <td>c</td>\n",
              "      <td>85</td>\n",
              "      <td>B</td>\n",
              "      <td>NaN</td>\n",
              "      <td>20-01</td>\n",
              "      <td>False</td>\n",
              "    </tr>\n",
              "    <tr>\n",
              "      <th>4</th>\n",
              "      <td>Tom</td>\n",
              "      <td>java</td>\n",
              "      <td>97</td>\n",
              "      <td>A</td>\n",
              "      <td>NaN</td>\n",
              "      <td>NaN</td>\n",
              "      <td>True</td>\n",
              "    </tr>\n",
              "  </tbody>\n",
              "</table>\n",
              "</div>"
            ],
            "text/plain": [
              "    name subject  score grade  etc semester  high_score\n",
              "0  Jessi  python    100     A  NaN    20-01        True\n",
              "1   Emma    java     95     A  NaN    20-01        True\n",
              "2   Alex  python     80     B  NaN    20-02       False\n",
              "3  Jessi       c     85     B  NaN    20-01       False\n",
              "4    Tom    java     97     A  NaN      NaN        True"
            ]
          },
          "metadata": {
            "tags": []
          },
          "execution_count": 39
        }
      ]
    },
    {
      "cell_type": "code",
      "metadata": {
        "id": "mQ9_h-SsKKUm",
        "colab": {
          "base_uri": "https://localhost:8080/",
          "height": 256
        },
        "outputId": "ca67154d-007b-4bee-cc44-a03bcfeca865"
      },
      "source": [
        "# 6 번 인덱스에 행 데이터 추가\n",
        "df.loc[6] = ['Jina', 'python', 100, 'A', 1, '20-02', True]\n",
        "\n",
        "print('Add Row 6')\n",
        "df"
      ],
      "execution_count": null,
      "outputs": [
        {
          "output_type": "stream",
          "text": [
            "Add Row 6\n"
          ],
          "name": "stdout"
        },
        {
          "output_type": "execute_result",
          "data": {
            "text/html": [
              "<div>\n",
              "<style scoped>\n",
              "    .dataframe tbody tr th:only-of-type {\n",
              "        vertical-align: middle;\n",
              "    }\n",
              "\n",
              "    .dataframe tbody tr th {\n",
              "        vertical-align: top;\n",
              "    }\n",
              "\n",
              "    .dataframe thead th {\n",
              "        text-align: right;\n",
              "    }\n",
              "</style>\n",
              "<table border=\"1\" class=\"dataframe\">\n",
              "  <thead>\n",
              "    <tr style=\"text-align: right;\">\n",
              "      <th></th>\n",
              "      <th>name</th>\n",
              "      <th>subject</th>\n",
              "      <th>score</th>\n",
              "      <th>grade</th>\n",
              "      <th>etc</th>\n",
              "      <th>semester</th>\n",
              "      <th>high_score</th>\n",
              "    </tr>\n",
              "  </thead>\n",
              "  <tbody>\n",
              "    <tr>\n",
              "      <th>0</th>\n",
              "      <td>Jessi</td>\n",
              "      <td>python</td>\n",
              "      <td>100</td>\n",
              "      <td>A</td>\n",
              "      <td>NaN</td>\n",
              "      <td>20-01</td>\n",
              "      <td>True</td>\n",
              "    </tr>\n",
              "    <tr>\n",
              "      <th>1</th>\n",
              "      <td>Emma</td>\n",
              "      <td>java</td>\n",
              "      <td>95</td>\n",
              "      <td>A</td>\n",
              "      <td>NaN</td>\n",
              "      <td>20-01</td>\n",
              "      <td>True</td>\n",
              "    </tr>\n",
              "    <tr>\n",
              "      <th>2</th>\n",
              "      <td>Alex</td>\n",
              "      <td>python</td>\n",
              "      <td>80</td>\n",
              "      <td>B</td>\n",
              "      <td>NaN</td>\n",
              "      <td>20-02</td>\n",
              "      <td>False</td>\n",
              "    </tr>\n",
              "    <tr>\n",
              "      <th>3</th>\n",
              "      <td>Jessi</td>\n",
              "      <td>c</td>\n",
              "      <td>85</td>\n",
              "      <td>B</td>\n",
              "      <td>NaN</td>\n",
              "      <td>20-01</td>\n",
              "      <td>False</td>\n",
              "    </tr>\n",
              "    <tr>\n",
              "      <th>4</th>\n",
              "      <td>Tom</td>\n",
              "      <td>java</td>\n",
              "      <td>97</td>\n",
              "      <td>A</td>\n",
              "      <td>NaN</td>\n",
              "      <td>NaN</td>\n",
              "      <td>True</td>\n",
              "    </tr>\n",
              "    <tr>\n",
              "      <th>6</th>\n",
              "      <td>Jina</td>\n",
              "      <td>python</td>\n",
              "      <td>100</td>\n",
              "      <td>A</td>\n",
              "      <td>1</td>\n",
              "      <td>20-02</td>\n",
              "      <td>True</td>\n",
              "    </tr>\n",
              "  </tbody>\n",
              "</table>\n",
              "</div>"
            ],
            "text/plain": [
              "    name subject  score grade  etc semester  high_score\n",
              "0  Jessi  python    100     A  NaN    20-01        True\n",
              "1   Emma    java     95     A  NaN    20-01        True\n",
              "2   Alex  python     80     B  NaN    20-02       False\n",
              "3  Jessi       c     85     B  NaN    20-01       False\n",
              "4    Tom    java     97     A  NaN      NaN        True\n",
              "6   Jina  python    100     A    1    20-02        True"
            ]
          },
          "metadata": {
            "tags": []
          },
          "execution_count": 40
        }
      ]
    },
    {
      "cell_type": "code",
      "metadata": {
        "id": "MUyViJR0KJCJ",
        "colab": {
          "base_uri": "https://localhost:8080/",
          "height": 256
        },
        "outputId": "5b75a75e-2c9f-44fd-c922-e817b7321282"
      },
      "source": [
        "# 1) drop() 이용하여 행 데이터 삭제\n",
        "# 2) inplace 인자를 사용하여 원본 데이터에 바로 삭제\n",
        "df.drop(6)\n",
        "\n",
        "print('Delete Row : 6')\n",
        "df"
      ],
      "execution_count": null,
      "outputs": [
        {
          "output_type": "stream",
          "text": [
            "Delete Row : 6\n"
          ],
          "name": "stdout"
        },
        {
          "output_type": "execute_result",
          "data": {
            "text/html": [
              "<div>\n",
              "<style scoped>\n",
              "    .dataframe tbody tr th:only-of-type {\n",
              "        vertical-align: middle;\n",
              "    }\n",
              "\n",
              "    .dataframe tbody tr th {\n",
              "        vertical-align: top;\n",
              "    }\n",
              "\n",
              "    .dataframe thead th {\n",
              "        text-align: right;\n",
              "    }\n",
              "</style>\n",
              "<table border=\"1\" class=\"dataframe\">\n",
              "  <thead>\n",
              "    <tr style=\"text-align: right;\">\n",
              "      <th></th>\n",
              "      <th>name</th>\n",
              "      <th>subject</th>\n",
              "      <th>score</th>\n",
              "      <th>grade</th>\n",
              "      <th>etc</th>\n",
              "      <th>semester</th>\n",
              "      <th>high_score</th>\n",
              "    </tr>\n",
              "  </thead>\n",
              "  <tbody>\n",
              "    <tr>\n",
              "      <th>0</th>\n",
              "      <td>Jessi</td>\n",
              "      <td>python</td>\n",
              "      <td>100</td>\n",
              "      <td>A</td>\n",
              "      <td>NaN</td>\n",
              "      <td>20-01</td>\n",
              "      <td>True</td>\n",
              "    </tr>\n",
              "    <tr>\n",
              "      <th>1</th>\n",
              "      <td>Emma</td>\n",
              "      <td>java</td>\n",
              "      <td>95</td>\n",
              "      <td>A</td>\n",
              "      <td>NaN</td>\n",
              "      <td>20-01</td>\n",
              "      <td>True</td>\n",
              "    </tr>\n",
              "    <tr>\n",
              "      <th>2</th>\n",
              "      <td>Alex</td>\n",
              "      <td>python</td>\n",
              "      <td>80</td>\n",
              "      <td>B</td>\n",
              "      <td>NaN</td>\n",
              "      <td>20-02</td>\n",
              "      <td>False</td>\n",
              "    </tr>\n",
              "    <tr>\n",
              "      <th>3</th>\n",
              "      <td>Jessi</td>\n",
              "      <td>c</td>\n",
              "      <td>85</td>\n",
              "      <td>B</td>\n",
              "      <td>NaN</td>\n",
              "      <td>20-01</td>\n",
              "      <td>False</td>\n",
              "    </tr>\n",
              "    <tr>\n",
              "      <th>4</th>\n",
              "      <td>Tom</td>\n",
              "      <td>java</td>\n",
              "      <td>97</td>\n",
              "      <td>A</td>\n",
              "      <td>NaN</td>\n",
              "      <td>NaN</td>\n",
              "      <td>True</td>\n",
              "    </tr>\n",
              "    <tr>\n",
              "      <th>6</th>\n",
              "      <td>Jina</td>\n",
              "      <td>python</td>\n",
              "      <td>100</td>\n",
              "      <td>A</td>\n",
              "      <td>1</td>\n",
              "      <td>20-02</td>\n",
              "      <td>True</td>\n",
              "    </tr>\n",
              "  </tbody>\n",
              "</table>\n",
              "</div>"
            ],
            "text/plain": [
              "    name subject  score grade  etc semester  high_score\n",
              "0  Jessi  python    100     A  NaN    20-01        True\n",
              "1   Emma    java     95     A  NaN    20-01        True\n",
              "2   Alex  python     80     B  NaN    20-02       False\n",
              "3  Jessi       c     85     B  NaN    20-01       False\n",
              "4    Tom    java     97     A  NaN      NaN        True\n",
              "6   Jina  python    100     A    1    20-02        True"
            ]
          },
          "metadata": {
            "tags": []
          },
          "execution_count": 41
        }
      ]
    },
    {
      "cell_type": "code",
      "metadata": {
        "id": "8YkvfggrJpNZ",
        "colab": {
          "base_uri": "https://localhost:8080/",
          "height": 256
        },
        "outputId": "88a83e47-33b6-4b42-bc51-7bc59fef84ba"
      },
      "source": [
        "# drop() 이용하여 'etc' 열 삭제 (원본데이터변경)\n",
        "df.drop(columns=['etc'], inplace = True)\n",
        "\n",
        "print('Delete Column :')\n",
        "df"
      ],
      "execution_count": null,
      "outputs": [
        {
          "output_type": "stream",
          "text": [
            "Delete Column :\n"
          ],
          "name": "stdout"
        },
        {
          "output_type": "execute_result",
          "data": {
            "text/html": [
              "<div>\n",
              "<style scoped>\n",
              "    .dataframe tbody tr th:only-of-type {\n",
              "        vertical-align: middle;\n",
              "    }\n",
              "\n",
              "    .dataframe tbody tr th {\n",
              "        vertical-align: top;\n",
              "    }\n",
              "\n",
              "    .dataframe thead th {\n",
              "        text-align: right;\n",
              "    }\n",
              "</style>\n",
              "<table border=\"1\" class=\"dataframe\">\n",
              "  <thead>\n",
              "    <tr style=\"text-align: right;\">\n",
              "      <th></th>\n",
              "      <th>name</th>\n",
              "      <th>subject</th>\n",
              "      <th>score</th>\n",
              "      <th>grade</th>\n",
              "      <th>semester</th>\n",
              "      <th>high_score</th>\n",
              "    </tr>\n",
              "  </thead>\n",
              "  <tbody>\n",
              "    <tr>\n",
              "      <th>0</th>\n",
              "      <td>Jessi</td>\n",
              "      <td>python</td>\n",
              "      <td>100</td>\n",
              "      <td>A</td>\n",
              "      <td>20-01</td>\n",
              "      <td>True</td>\n",
              "    </tr>\n",
              "    <tr>\n",
              "      <th>1</th>\n",
              "      <td>Emma</td>\n",
              "      <td>java</td>\n",
              "      <td>95</td>\n",
              "      <td>A</td>\n",
              "      <td>20-01</td>\n",
              "      <td>True</td>\n",
              "    </tr>\n",
              "    <tr>\n",
              "      <th>2</th>\n",
              "      <td>Alex</td>\n",
              "      <td>python</td>\n",
              "      <td>80</td>\n",
              "      <td>B</td>\n",
              "      <td>20-02</td>\n",
              "      <td>False</td>\n",
              "    </tr>\n",
              "    <tr>\n",
              "      <th>3</th>\n",
              "      <td>Jessi</td>\n",
              "      <td>c</td>\n",
              "      <td>85</td>\n",
              "      <td>B</td>\n",
              "      <td>20-01</td>\n",
              "      <td>False</td>\n",
              "    </tr>\n",
              "    <tr>\n",
              "      <th>4</th>\n",
              "      <td>Tom</td>\n",
              "      <td>java</td>\n",
              "      <td>97</td>\n",
              "      <td>A</td>\n",
              "      <td>NaN</td>\n",
              "      <td>True</td>\n",
              "    </tr>\n",
              "    <tr>\n",
              "      <th>6</th>\n",
              "      <td>Jina</td>\n",
              "      <td>python</td>\n",
              "      <td>100</td>\n",
              "      <td>A</td>\n",
              "      <td>20-02</td>\n",
              "      <td>True</td>\n",
              "    </tr>\n",
              "  </tbody>\n",
              "</table>\n",
              "</div>"
            ],
            "text/plain": [
              "    name subject  score grade semester  high_score\n",
              "0  Jessi  python    100     A    20-01        True\n",
              "1   Emma    java     95     A    20-01        True\n",
              "2   Alex  python     80     B    20-02       False\n",
              "3  Jessi       c     85     B    20-01       False\n",
              "4    Tom    java     97     A      NaN        True\n",
              "6   Jina  python    100     A    20-02        True"
            ]
          },
          "metadata": {
            "tags": []
          },
          "execution_count": 42
        }
      ]
    },
    {
      "cell_type": "markdown",
      "metadata": {
        "id": "O34KjT_RKdGV"
      },
      "source": [
        "## 데이터 파일 읽기"
      ]
    },
    {
      "cell_type": "code",
      "metadata": {
        "id": "eVGnPfk_Ko33",
        "colab": {
          "base_uri": "https://localhost:8080/"
        },
        "outputId": "9bbf409a-1740-4735-93d0-26b062e1673e"
      },
      "source": [
        "filepath = '/content/titanic.csv'\n",
        "\n",
        "titanic_df = pd.read_csv(filepath)\n",
        "type(titanic_df)"
      ],
      "execution_count": null,
      "outputs": [
        {
          "output_type": "execute_result",
          "data": {
            "text/plain": [
              "pandas.core.frame.DataFrame"
            ]
          },
          "metadata": {
            "tags": []
          },
          "execution_count": 44
        }
      ]
    },
    {
      "cell_type": "code",
      "metadata": {
        "id": "9vZMt3zLLqMi",
        "colab": {
          "base_uri": "https://localhost:8080/"
        },
        "outputId": "dc1b0d69-08b5-4e39-bdaa-ef256304d422"
      },
      "source": [
        "# info() 확인해보기\n",
        "print('Summary of DataFrame')\n",
        "titanic_df.info()"
      ],
      "execution_count": null,
      "outputs": [
        {
          "output_type": "stream",
          "text": [
            "Summary of DataFrame\n",
            "<class 'pandas.core.frame.DataFrame'>\n",
            "RangeIndex: 891 entries, 0 to 890\n",
            "Data columns (total 12 columns):\n",
            " #   Column       Non-Null Count  Dtype  \n",
            "---  ------       --------------  -----  \n",
            " 0   PassengerId  891 non-null    int64  \n",
            " 1   Survived     891 non-null    int64  \n",
            " 2   Pclass       891 non-null    int64  \n",
            " 3   Name         891 non-null    object \n",
            " 4   Sex          891 non-null    object \n",
            " 5   Age          714 non-null    float64\n",
            " 6   SibSp        891 non-null    int64  \n",
            " 7   Parch        891 non-null    int64  \n",
            " 8   Ticket       891 non-null    object \n",
            " 9   Fare         891 non-null    float64\n",
            " 10  Cabin        204 non-null    object \n",
            " 11  Embarked     889 non-null    object \n",
            "dtypes: float64(2), int64(5), object(5)\n",
            "memory usage: 83.7+ KB\n"
          ],
          "name": "stdout"
        }
      ]
    },
    {
      "cell_type": "code",
      "metadata": {
        "id": "bnEkYB5EWHym",
        "colab": {
          "base_uri": "https://localhost:8080/"
        },
        "outputId": "c511157d-e2aa-4ca2-c301-6ff82089fce0"
      },
      "source": [
        "# sample 데이터 출력해보기\n",
        "print('Return the first n rows')\n",
        "print(titanic_df.head(5))"
      ],
      "execution_count": null,
      "outputs": [
        {
          "output_type": "stream",
          "text": [
            "Return the first n rows\n",
            "   PassengerId  Survived  Pclass  ...     Fare Cabin  Embarked\n",
            "0            1         0       3  ...   7.2500   NaN         S\n",
            "1            2         1       1  ...  71.2833   C85         C\n",
            "2            3         1       3  ...   7.9250   NaN         S\n",
            "3            4         1       1  ...  53.1000  C123         S\n",
            "4            5         0       3  ...   8.0500   NaN         S\n",
            "\n",
            "[5 rows x 12 columns]\n"
          ],
          "name": "stdout"
        }
      ]
    },
    {
      "cell_type": "code",
      "metadata": {
        "id": "uZaVp91sWPHs",
        "colab": {
          "base_uri": "https://localhost:8080/",
          "height": 225
        },
        "outputId": "214c76c5-6b91-4196-eacb-e0d58e33430f"
      },
      "source": [
        "# 엑셀 파일에서 데이터 읽기\n",
        "filepath2 = '/content/students_score.xlsx'\n",
        "print('Read students_score.xlsx')\n",
        "sample_df = pd.read_excel(filepath2)\n",
        "sample_df"
      ],
      "execution_count": null,
      "outputs": [
        {
          "output_type": "stream",
          "text": [
            "Read students_score.xlsx\n"
          ],
          "name": "stdout"
        },
        {
          "output_type": "execute_result",
          "data": {
            "text/html": [
              "<div>\n",
              "<style scoped>\n",
              "    .dataframe tbody tr th:only-of-type {\n",
              "        vertical-align: middle;\n",
              "    }\n",
              "\n",
              "    .dataframe tbody tr th {\n",
              "        vertical-align: top;\n",
              "    }\n",
              "\n",
              "    .dataframe thead th {\n",
              "        text-align: right;\n",
              "    }\n",
              "</style>\n",
              "<table border=\"1\" class=\"dataframe\">\n",
              "  <thead>\n",
              "    <tr style=\"text-align: right;\">\n",
              "      <th></th>\n",
              "      <th>Jessi</th>\n",
              "      <th>20</th>\n",
              "      <th>100</th>\n",
              "      <th>A</th>\n",
              "      <th>python</th>\n",
              "    </tr>\n",
              "  </thead>\n",
              "  <tbody>\n",
              "    <tr>\n",
              "      <th>0</th>\n",
              "      <td>Emma</td>\n",
              "      <td>24</td>\n",
              "      <td>95</td>\n",
              "      <td>A</td>\n",
              "      <td>java</td>\n",
              "    </tr>\n",
              "    <tr>\n",
              "      <th>1</th>\n",
              "      <td>Alex</td>\n",
              "      <td>23</td>\n",
              "      <td>80</td>\n",
              "      <td>B</td>\n",
              "      <td>python</td>\n",
              "    </tr>\n",
              "    <tr>\n",
              "      <th>2</th>\n",
              "      <td>Jessi</td>\n",
              "      <td>20</td>\n",
              "      <td>85</td>\n",
              "      <td>B</td>\n",
              "      <td>c</td>\n",
              "    </tr>\n",
              "    <tr>\n",
              "      <th>3</th>\n",
              "      <td>Tom</td>\n",
              "      <td>27</td>\n",
              "      <td>97</td>\n",
              "      <td>A</td>\n",
              "      <td>java</td>\n",
              "    </tr>\n",
              "    <tr>\n",
              "      <th>4</th>\n",
              "      <td>Sia</td>\n",
              "      <td>28</td>\n",
              "      <td>79</td>\n",
              "      <td>C</td>\n",
              "      <td>python</td>\n",
              "    </tr>\n",
              "  </tbody>\n",
              "</table>\n",
              "</div>"
            ],
            "text/plain": [
              "   Jessi  20  100  A  python\n",
              "0   Emma  24   95  A    java\n",
              "1   Alex  23   80  B  python\n",
              "2  Jessi  20   85  B       c\n",
              "3    Tom  27   97  A    java\n",
              "4    Sia  28   79  C  python"
            ]
          },
          "metadata": {
            "tags": []
          },
          "execution_count": 47
        }
      ]
    },
    {
      "cell_type": "code",
      "metadata": {
        "id": "IwGt1nLsWXiQ",
        "colab": {
          "base_uri": "https://localhost:8080/",
          "height": 256
        },
        "outputId": "7c671406-03ce-459a-9745-57f23b5a52b1"
      },
      "source": [
        "# 1) header=none 옵션으로 컬럼 없이 데이터 읽기\n",
        "# 2) df.columns 에 새로운 컬럼명 저장하기\n",
        "sample_df = pd.read_excel(filepath2, header=None)\n",
        "sample_df.columns = ['name', 'age', 'score', 'grade', 'subject']\n",
        "\n",
        "print('Read Excel by header=none')\n",
        "sample_df"
      ],
      "execution_count": null,
      "outputs": [
        {
          "output_type": "stream",
          "text": [
            "Read Excel by header=none\n"
          ],
          "name": "stdout"
        },
        {
          "output_type": "execute_result",
          "data": {
            "text/html": [
              "<div>\n",
              "<style scoped>\n",
              "    .dataframe tbody tr th:only-of-type {\n",
              "        vertical-align: middle;\n",
              "    }\n",
              "\n",
              "    .dataframe tbody tr th {\n",
              "        vertical-align: top;\n",
              "    }\n",
              "\n",
              "    .dataframe thead th {\n",
              "        text-align: right;\n",
              "    }\n",
              "</style>\n",
              "<table border=\"1\" class=\"dataframe\">\n",
              "  <thead>\n",
              "    <tr style=\"text-align: right;\">\n",
              "      <th></th>\n",
              "      <th>name</th>\n",
              "      <th>age</th>\n",
              "      <th>score</th>\n",
              "      <th>grade</th>\n",
              "      <th>subject</th>\n",
              "    </tr>\n",
              "  </thead>\n",
              "  <tbody>\n",
              "    <tr>\n",
              "      <th>0</th>\n",
              "      <td>Jessi</td>\n",
              "      <td>20</td>\n",
              "      <td>100</td>\n",
              "      <td>A</td>\n",
              "      <td>python</td>\n",
              "    </tr>\n",
              "    <tr>\n",
              "      <th>1</th>\n",
              "      <td>Emma</td>\n",
              "      <td>24</td>\n",
              "      <td>95</td>\n",
              "      <td>A</td>\n",
              "      <td>java</td>\n",
              "    </tr>\n",
              "    <tr>\n",
              "      <th>2</th>\n",
              "      <td>Alex</td>\n",
              "      <td>23</td>\n",
              "      <td>80</td>\n",
              "      <td>B</td>\n",
              "      <td>python</td>\n",
              "    </tr>\n",
              "    <tr>\n",
              "      <th>3</th>\n",
              "      <td>Jessi</td>\n",
              "      <td>20</td>\n",
              "      <td>85</td>\n",
              "      <td>B</td>\n",
              "      <td>c</td>\n",
              "    </tr>\n",
              "    <tr>\n",
              "      <th>4</th>\n",
              "      <td>Tom</td>\n",
              "      <td>27</td>\n",
              "      <td>97</td>\n",
              "      <td>A</td>\n",
              "      <td>java</td>\n",
              "    </tr>\n",
              "    <tr>\n",
              "      <th>5</th>\n",
              "      <td>Sia</td>\n",
              "      <td>28</td>\n",
              "      <td>79</td>\n",
              "      <td>C</td>\n",
              "      <td>python</td>\n",
              "    </tr>\n",
              "  </tbody>\n",
              "</table>\n",
              "</div>"
            ],
            "text/plain": [
              "    name  age  score grade subject\n",
              "0  Jessi   20    100     A  python\n",
              "1   Emma   24     95     A    java\n",
              "2   Alex   23     80     B  python\n",
              "3  Jessi   20     85     B       c\n",
              "4    Tom   27     97     A    java\n",
              "5    Sia   28     79     C  python"
            ]
          },
          "metadata": {
            "tags": []
          },
          "execution_count": 48
        }
      ]
    },
    {
      "cell_type": "code",
      "metadata": {
        "id": "f7gQlyXzWh2F",
        "colab": {
          "base_uri": "https://localhost:8080/",
          "height": 256
        },
        "outputId": "dcadb388-9cc6-4cb2-cae0-d34d3d40b676"
      },
      "source": [
        "# 'students' sheet 에 있는 데이터 읽기\n",
        "print('Read Excel on students sheet')\n",
        "student_df = pd.read_excel(filepath2, sheet_name='students')\n",
        "student_df"
      ],
      "execution_count": null,
      "outputs": [
        {
          "output_type": "stream",
          "text": [
            "Read Excel on students sheet\n"
          ],
          "name": "stdout"
        },
        {
          "output_type": "execute_result",
          "data": {
            "text/html": [
              "<div>\n",
              "<style scoped>\n",
              "    .dataframe tbody tr th:only-of-type {\n",
              "        vertical-align: middle;\n",
              "    }\n",
              "\n",
              "    .dataframe tbody tr th {\n",
              "        vertical-align: top;\n",
              "    }\n",
              "\n",
              "    .dataframe thead th {\n",
              "        text-align: right;\n",
              "    }\n",
              "</style>\n",
              "<table border=\"1\" class=\"dataframe\">\n",
              "  <thead>\n",
              "    <tr style=\"text-align: right;\">\n",
              "      <th></th>\n",
              "      <th>name</th>\n",
              "      <th>age</th>\n",
              "      <th>etc1</th>\n",
              "      <th>etc2</th>\n",
              "      <th>etc3</th>\n",
              "      <th>email</th>\n",
              "    </tr>\n",
              "  </thead>\n",
              "  <tbody>\n",
              "    <tr>\n",
              "      <th>0</th>\n",
              "      <td>Lee</td>\n",
              "      <td>25</td>\n",
              "      <td>0.1</td>\n",
              "      <td>0.1</td>\n",
              "      <td>0.1</td>\n",
              "      <td>lee@codepresso.kr</td>\n",
              "    </tr>\n",
              "    <tr>\n",
              "      <th>1</th>\n",
              "      <td>Hwang</td>\n",
              "      <td>24</td>\n",
              "      <td>0.1</td>\n",
              "      <td>0.1</td>\n",
              "      <td>0.1</td>\n",
              "      <td>hwang@codepresso.kr</td>\n",
              "    </tr>\n",
              "    <tr>\n",
              "      <th>2</th>\n",
              "      <td>Kim</td>\n",
              "      <td>28</td>\n",
              "      <td>0.1</td>\n",
              "      <td>0.1</td>\n",
              "      <td>0.1</td>\n",
              "      <td>kim@codepresso.kr</td>\n",
              "    </tr>\n",
              "    <tr>\n",
              "      <th>3</th>\n",
              "      <td>Choi</td>\n",
              "      <td>27</td>\n",
              "      <td>0.1</td>\n",
              "      <td>0.1</td>\n",
              "      <td>0.1</td>\n",
              "      <td>choi@codepresso.kr</td>\n",
              "    </tr>\n",
              "    <tr>\n",
              "      <th>4</th>\n",
              "      <td>Park</td>\n",
              "      <td>21</td>\n",
              "      <td>0.1</td>\n",
              "      <td>0.1</td>\n",
              "      <td>0.1</td>\n",
              "      <td>park@codepresso.kr</td>\n",
              "    </tr>\n",
              "    <tr>\n",
              "      <th>5</th>\n",
              "      <td>Lim</td>\n",
              "      <td>20</td>\n",
              "      <td>0.1</td>\n",
              "      <td>0.1</td>\n",
              "      <td>0.1</td>\n",
              "      <td>lim@codepresso.kr</td>\n",
              "    </tr>\n",
              "  </tbody>\n",
              "</table>\n",
              "</div>"
            ],
            "text/plain": [
              "    name  age  etc1  etc2  etc3                email\n",
              "0    Lee   25   0.1   0.1   0.1    lee@codepresso.kr\n",
              "1  Hwang   24   0.1   0.1   0.1  hwang@codepresso.kr\n",
              "2    Kim   28   0.1   0.1   0.1    kim@codepresso.kr\n",
              "3   Choi   27   0.1   0.1   0.1   choi@codepresso.kr\n",
              "4   Park   21   0.1   0.1   0.1   park@codepresso.kr\n",
              "5    Lim   20   0.1   0.1   0.1    lim@codepresso.kr"
            ]
          },
          "metadata": {
            "tags": []
          },
          "execution_count": 50
        }
      ]
    },
    {
      "cell_type": "markdown",
      "metadata": {
        "id": "MM-tFHB8HM-T"
      },
      "source": [
        "## 데이터 전처리(1)"
      ]
    },
    {
      "cell_type": "markdown",
      "metadata": {
        "id": "pyXLGxOZHOdn"
      },
      "source": [
        "* 샘플데이터 생성"
      ]
    },
    {
      "cell_type": "code",
      "metadata": {
        "colab": {
          "base_uri": "https://localhost:8080/"
        },
        "id": "ew4EjJLQiAnJ",
        "outputId": "32a0ec7a-fc0f-452b-a74e-efbdadf22207"
      },
      "source": [
        "import pandas as pd\n",
        "import numpy as np\n",
        "\n",
        "# 실습 데이터 생성\n",
        "df = pd.DataFrame(data = np.arange(18).reshape(6,3),\n",
        "\t\t\t\t  index = ['a','b','c','d','e','f'],\n",
        "                  columns=['col1','col2','col3'])\n",
        "                  \n",
        "df['col4'] = pd.Series(data = [1.7, 1.2, 2.4], \n",
        "                       index = ['a','e','c'])\n",
        "df.loc['c'] = None\n",
        "\n",
        "# 실습 데이터 출력\n",
        "print(df)"
      ],
      "execution_count": null,
      "outputs": [
        {
          "output_type": "stream",
          "text": [
            "   col1  col2  col3  col4\n",
            "a   0.0   1.0   2.0   1.7\n",
            "b   3.0   4.0   5.0   NaN\n",
            "c   NaN   NaN   NaN   NaN\n",
            "d   9.0  10.0  11.0   NaN\n",
            "e  12.0  13.0  14.0   1.2\n",
            "f  15.0  16.0  17.0   NaN\n"
          ],
          "name": "stdout"
        }
      ]
    },
    {
      "cell_type": "code",
      "metadata": {
        "id": "dvydmxI1jiWe",
        "colab": {
          "base_uri": "https://localhost:8080/"
        },
        "outputId": "0561344d-9de3-4b4b-db8d-7ace46787282"
      },
      "source": [
        "# df.info() 함수로 결측치 유무 확인하기\n",
        "print('#1 Summary of DataFrame')\n",
        "df.info()"
      ],
      "execution_count": null,
      "outputs": [
        {
          "output_type": "stream",
          "text": [
            "#1 Summary of DataFrame\n",
            "<class 'pandas.core.frame.DataFrame'>\n",
            "Index: 6 entries, a to f\n",
            "Data columns (total 4 columns):\n",
            " #   Column  Non-Null Count  Dtype  \n",
            "---  ------  --------------  -----  \n",
            " 0   col1    5 non-null      float64\n",
            " 1   col2    5 non-null      float64\n",
            " 2   col3    5 non-null      float64\n",
            " 3   col4    2 non-null      float64\n",
            "dtypes: float64(4)\n",
            "memory usage: 400.0+ bytes\n"
          ],
          "name": "stdout"
        }
      ]
    },
    {
      "cell_type": "code",
      "metadata": {
        "id": "8tXxWDoqHiPw",
        "colab": {
          "base_uri": "https://localhost:8080/",
          "height": 256
        },
        "outputId": "deefd2c1-7e72-4402-8027-fd6a149578b0"
      },
      "source": [
        "# df.isnull() 함수로 결측치 유무 확인하기\n",
        "print('#2 isnull of DataFrame')\n",
        "df.isnull()\n"
      ],
      "execution_count": null,
      "outputs": [
        {
          "output_type": "stream",
          "text": [
            "#2 isnull of DataFrame\n"
          ],
          "name": "stdout"
        },
        {
          "output_type": "execute_result",
          "data": {
            "text/html": [
              "<div>\n",
              "<style scoped>\n",
              "    .dataframe tbody tr th:only-of-type {\n",
              "        vertical-align: middle;\n",
              "    }\n",
              "\n",
              "    .dataframe tbody tr th {\n",
              "        vertical-align: top;\n",
              "    }\n",
              "\n",
              "    .dataframe thead th {\n",
              "        text-align: right;\n",
              "    }\n",
              "</style>\n",
              "<table border=\"1\" class=\"dataframe\">\n",
              "  <thead>\n",
              "    <tr style=\"text-align: right;\">\n",
              "      <th></th>\n",
              "      <th>col1</th>\n",
              "      <th>col2</th>\n",
              "      <th>col3</th>\n",
              "      <th>col4</th>\n",
              "    </tr>\n",
              "  </thead>\n",
              "  <tbody>\n",
              "    <tr>\n",
              "      <th>a</th>\n",
              "      <td>False</td>\n",
              "      <td>False</td>\n",
              "      <td>False</td>\n",
              "      <td>False</td>\n",
              "    </tr>\n",
              "    <tr>\n",
              "      <th>b</th>\n",
              "      <td>False</td>\n",
              "      <td>False</td>\n",
              "      <td>False</td>\n",
              "      <td>True</td>\n",
              "    </tr>\n",
              "    <tr>\n",
              "      <th>c</th>\n",
              "      <td>True</td>\n",
              "      <td>True</td>\n",
              "      <td>True</td>\n",
              "      <td>True</td>\n",
              "    </tr>\n",
              "    <tr>\n",
              "      <th>d</th>\n",
              "      <td>False</td>\n",
              "      <td>False</td>\n",
              "      <td>False</td>\n",
              "      <td>True</td>\n",
              "    </tr>\n",
              "    <tr>\n",
              "      <th>e</th>\n",
              "      <td>False</td>\n",
              "      <td>False</td>\n",
              "      <td>False</td>\n",
              "      <td>False</td>\n",
              "    </tr>\n",
              "    <tr>\n",
              "      <th>f</th>\n",
              "      <td>False</td>\n",
              "      <td>False</td>\n",
              "      <td>False</td>\n",
              "      <td>True</td>\n",
              "    </tr>\n",
              "  </tbody>\n",
              "</table>\n",
              "</div>"
            ],
            "text/plain": [
              "    col1   col2   col3   col4\n",
              "a  False  False  False  False\n",
              "b  False  False  False   True\n",
              "c   True   True   True   True\n",
              "d  False  False  False   True\n",
              "e  False  False  False  False\n",
              "f  False  False  False   True"
            ]
          },
          "metadata": {
            "tags": []
          },
          "execution_count": 53
        }
      ]
    },
    {
      "cell_type": "code",
      "metadata": {
        "id": "PiStPJsxjdrp",
        "colab": {
          "base_uri": "https://localhost:8080/"
        },
        "outputId": "e74d6c85-0b8e-49eb-cdfb-4aefff5c9a55"
      },
      "source": [
        "print('#4 Sum of all missing values per columns')\n",
        "df.isnull().sum()\n"
      ],
      "execution_count": null,
      "outputs": [
        {
          "output_type": "stream",
          "text": [
            "#4 Sum of all missing values per columns\n"
          ],
          "name": "stdout"
        },
        {
          "output_type": "execute_result",
          "data": {
            "text/plain": [
              "col1    1\n",
              "col2    1\n",
              "col3    1\n",
              "col4    4\n",
              "dtype: int64"
            ]
          },
          "metadata": {
            "tags": []
          },
          "execution_count": 54
        }
      ]
    },
    {
      "cell_type": "code",
      "metadata": {
        "id": "b6uRlTlHHqCK",
        "colab": {
          "base_uri": "https://localhost:8080/"
        },
        "outputId": "b91f714e-9be9-4ef3-e8ef-042a0e9af1b3"
      },
      "source": [
        "print('#5 Sum of all missing values per rows')\n",
        "df.isnull().sum(axis=1)"
      ],
      "execution_count": null,
      "outputs": [
        {
          "output_type": "stream",
          "text": [
            "#5 Sum of all missing values per rows\n"
          ],
          "name": "stdout"
        },
        {
          "output_type": "execute_result",
          "data": {
            "text/plain": [
              "a    0\n",
              "b    1\n",
              "c    4\n",
              "d    1\n",
              "e    0\n",
              "f    1\n",
              "dtype: int64"
            ]
          },
          "metadata": {
            "tags": []
          },
          "execution_count": 55
        }
      ]
    },
    {
      "cell_type": "markdown",
      "metadata": {
        "id": "w3Ip6LuHJJ_H"
      },
      "source": [
        "## 데이터 전처리(2)"
      ]
    },
    {
      "cell_type": "code",
      "metadata": {
        "id": "VdhnQABcmm60",
        "colab": {
          "base_uri": "https://localhost:8080/",
          "height": 131
        },
        "outputId": "930d23a0-6609-44ba-f873-fcedfe9e2d45"
      },
      "source": [
        "# 행을 기준으로 결측치 조회하여 제거하기\n",
        "print('#1 Remove missing values')\n",
        "df.dropna()"
      ],
      "execution_count": null,
      "outputs": [
        {
          "output_type": "stream",
          "text": [
            "#1 Remove missing values\n"
          ],
          "name": "stdout"
        },
        {
          "output_type": "execute_result",
          "data": {
            "text/html": [
              "<div>\n",
              "<style scoped>\n",
              "    .dataframe tbody tr th:only-of-type {\n",
              "        vertical-align: middle;\n",
              "    }\n",
              "\n",
              "    .dataframe tbody tr th {\n",
              "        vertical-align: top;\n",
              "    }\n",
              "\n",
              "    .dataframe thead th {\n",
              "        text-align: right;\n",
              "    }\n",
              "</style>\n",
              "<table border=\"1\" class=\"dataframe\">\n",
              "  <thead>\n",
              "    <tr style=\"text-align: right;\">\n",
              "      <th></th>\n",
              "      <th>col1</th>\n",
              "      <th>col2</th>\n",
              "      <th>col3</th>\n",
              "      <th>col4</th>\n",
              "    </tr>\n",
              "  </thead>\n",
              "  <tbody>\n",
              "    <tr>\n",
              "      <th>a</th>\n",
              "      <td>0.0</td>\n",
              "      <td>1.0</td>\n",
              "      <td>2.0</td>\n",
              "      <td>1.7</td>\n",
              "    </tr>\n",
              "    <tr>\n",
              "      <th>e</th>\n",
              "      <td>12.0</td>\n",
              "      <td>13.0</td>\n",
              "      <td>14.0</td>\n",
              "      <td>1.2</td>\n",
              "    </tr>\n",
              "  </tbody>\n",
              "</table>\n",
              "</div>"
            ],
            "text/plain": [
              "   col1  col2  col3  col4\n",
              "a   0.0   1.0   2.0   1.7\n",
              "e  12.0  13.0  14.0   1.2"
            ]
          },
          "metadata": {
            "tags": []
          },
          "execution_count": 56
        }
      ]
    },
    {
      "cell_type": "code",
      "metadata": {
        "id": "lF0R4KC_nryi",
        "colab": {
          "base_uri": "https://localhost:8080/",
          "height": 225
        },
        "outputId": "b371913c-d902-4135-9e65-ab4620da3355"
      },
      "source": [
        "# 원본데이터에 반영\n",
        "print('#2 Remove missing values with inpalce=True')\n",
        "df.dropna(how='all',inplace=True)\n",
        "df"
      ],
      "execution_count": null,
      "outputs": [
        {
          "output_type": "stream",
          "text": [
            "#2 Remove missing values with inpalce=True\n"
          ],
          "name": "stdout"
        },
        {
          "output_type": "execute_result",
          "data": {
            "text/html": [
              "<div>\n",
              "<style scoped>\n",
              "    .dataframe tbody tr th:only-of-type {\n",
              "        vertical-align: middle;\n",
              "    }\n",
              "\n",
              "    .dataframe tbody tr th {\n",
              "        vertical-align: top;\n",
              "    }\n",
              "\n",
              "    .dataframe thead th {\n",
              "        text-align: right;\n",
              "    }\n",
              "</style>\n",
              "<table border=\"1\" class=\"dataframe\">\n",
              "  <thead>\n",
              "    <tr style=\"text-align: right;\">\n",
              "      <th></th>\n",
              "      <th>col1</th>\n",
              "      <th>col2</th>\n",
              "      <th>col3</th>\n",
              "      <th>col4</th>\n",
              "    </tr>\n",
              "  </thead>\n",
              "  <tbody>\n",
              "    <tr>\n",
              "      <th>a</th>\n",
              "      <td>0.0</td>\n",
              "      <td>1.0</td>\n",
              "      <td>2.0</td>\n",
              "      <td>1.7</td>\n",
              "    </tr>\n",
              "    <tr>\n",
              "      <th>b</th>\n",
              "      <td>3.0</td>\n",
              "      <td>4.0</td>\n",
              "      <td>5.0</td>\n",
              "      <td>NaN</td>\n",
              "    </tr>\n",
              "    <tr>\n",
              "      <th>d</th>\n",
              "      <td>9.0</td>\n",
              "      <td>10.0</td>\n",
              "      <td>11.0</td>\n",
              "      <td>NaN</td>\n",
              "    </tr>\n",
              "    <tr>\n",
              "      <th>e</th>\n",
              "      <td>12.0</td>\n",
              "      <td>13.0</td>\n",
              "      <td>14.0</td>\n",
              "      <td>1.2</td>\n",
              "    </tr>\n",
              "    <tr>\n",
              "      <th>f</th>\n",
              "      <td>15.0</td>\n",
              "      <td>16.0</td>\n",
              "      <td>17.0</td>\n",
              "      <td>NaN</td>\n",
              "    </tr>\n",
              "  </tbody>\n",
              "</table>\n",
              "</div>"
            ],
            "text/plain": [
              "   col1  col2  col3  col4\n",
              "a   0.0   1.0   2.0   1.7\n",
              "b   3.0   4.0   5.0   NaN\n",
              "d   9.0  10.0  11.0   NaN\n",
              "e  12.0  13.0  14.0   1.2\n",
              "f  15.0  16.0  17.0   NaN"
            ]
          },
          "metadata": {
            "tags": []
          },
          "execution_count": 57
        }
      ]
    },
    {
      "cell_type": "code",
      "metadata": {
        "id": "SpOfvr0boeao",
        "colab": {
          "base_uri": "https://localhost:8080/",
          "height": 225
        },
        "outputId": "815387ac-3dd9-4365-9d58-c8c1f3aa34bd"
      },
      "source": [
        "# 열을 기준으로 결측치 조회하여 제거하기\n",
        "print('#3 Remove missing values in columns')\n",
        "df.dropna(axis = 'columns')"
      ],
      "execution_count": null,
      "outputs": [
        {
          "output_type": "stream",
          "text": [
            "#3 Remove missing values in columns\n"
          ],
          "name": "stdout"
        },
        {
          "output_type": "execute_result",
          "data": {
            "text/html": [
              "<div>\n",
              "<style scoped>\n",
              "    .dataframe tbody tr th:only-of-type {\n",
              "        vertical-align: middle;\n",
              "    }\n",
              "\n",
              "    .dataframe tbody tr th {\n",
              "        vertical-align: top;\n",
              "    }\n",
              "\n",
              "    .dataframe thead th {\n",
              "        text-align: right;\n",
              "    }\n",
              "</style>\n",
              "<table border=\"1\" class=\"dataframe\">\n",
              "  <thead>\n",
              "    <tr style=\"text-align: right;\">\n",
              "      <th></th>\n",
              "      <th>col1</th>\n",
              "      <th>col2</th>\n",
              "      <th>col3</th>\n",
              "    </tr>\n",
              "  </thead>\n",
              "  <tbody>\n",
              "    <tr>\n",
              "      <th>a</th>\n",
              "      <td>0.0</td>\n",
              "      <td>1.0</td>\n",
              "      <td>2.0</td>\n",
              "    </tr>\n",
              "    <tr>\n",
              "      <th>b</th>\n",
              "      <td>3.0</td>\n",
              "      <td>4.0</td>\n",
              "      <td>5.0</td>\n",
              "    </tr>\n",
              "    <tr>\n",
              "      <th>d</th>\n",
              "      <td>9.0</td>\n",
              "      <td>10.0</td>\n",
              "      <td>11.0</td>\n",
              "    </tr>\n",
              "    <tr>\n",
              "      <th>e</th>\n",
              "      <td>12.0</td>\n",
              "      <td>13.0</td>\n",
              "      <td>14.0</td>\n",
              "    </tr>\n",
              "    <tr>\n",
              "      <th>f</th>\n",
              "      <td>15.0</td>\n",
              "      <td>16.0</td>\n",
              "      <td>17.0</td>\n",
              "    </tr>\n",
              "  </tbody>\n",
              "</table>\n",
              "</div>"
            ],
            "text/plain": [
              "   col1  col2  col3\n",
              "a   0.0   1.0   2.0\n",
              "b   3.0   4.0   5.0\n",
              "d   9.0  10.0  11.0\n",
              "e  12.0  13.0  14.0\n",
              "f  15.0  16.0  17.0"
            ]
          },
          "metadata": {
            "tags": []
          },
          "execution_count": 58
        }
      ]
    },
    {
      "cell_type": "code",
      "metadata": {
        "id": "_ptvBaiDzk7e"
      },
      "source": [
        "# 실습 데이터 추가\n",
        "df.iloc[:2, 0] = np.nan\n",
        "df.iloc[:4, 1] = np.nan\n",
        "print(df)"
      ],
      "execution_count": null,
      "outputs": []
    },
    {
      "cell_type": "code",
      "metadata": {
        "id": "3ngZnrfIzmCn",
        "colab": {
          "base_uri": "https://localhost:8080/",
          "height": 225
        },
        "outputId": "e4f1edbb-47ca-478a-a09f-876045cba542"
      },
      "source": [
        "# 결측값을 0 으로 대체하기\n",
        "print('#4 Replace missing values')\n",
        "df.fillna(0)"
      ],
      "execution_count": null,
      "outputs": [
        {
          "output_type": "stream",
          "text": [
            "#4 Replace missing values\n"
          ],
          "name": "stdout"
        },
        {
          "output_type": "execute_result",
          "data": {
            "text/html": [
              "<div>\n",
              "<style scoped>\n",
              "    .dataframe tbody tr th:only-of-type {\n",
              "        vertical-align: middle;\n",
              "    }\n",
              "\n",
              "    .dataframe tbody tr th {\n",
              "        vertical-align: top;\n",
              "    }\n",
              "\n",
              "    .dataframe thead th {\n",
              "        text-align: right;\n",
              "    }\n",
              "</style>\n",
              "<table border=\"1\" class=\"dataframe\">\n",
              "  <thead>\n",
              "    <tr style=\"text-align: right;\">\n",
              "      <th></th>\n",
              "      <th>col1</th>\n",
              "      <th>col2</th>\n",
              "      <th>col3</th>\n",
              "      <th>col4</th>\n",
              "    </tr>\n",
              "  </thead>\n",
              "  <tbody>\n",
              "    <tr>\n",
              "      <th>a</th>\n",
              "      <td>0.0</td>\n",
              "      <td>1.0</td>\n",
              "      <td>2.0</td>\n",
              "      <td>1.7</td>\n",
              "    </tr>\n",
              "    <tr>\n",
              "      <th>b</th>\n",
              "      <td>3.0</td>\n",
              "      <td>4.0</td>\n",
              "      <td>5.0</td>\n",
              "      <td>0.0</td>\n",
              "    </tr>\n",
              "    <tr>\n",
              "      <th>d</th>\n",
              "      <td>9.0</td>\n",
              "      <td>10.0</td>\n",
              "      <td>11.0</td>\n",
              "      <td>0.0</td>\n",
              "    </tr>\n",
              "    <tr>\n",
              "      <th>e</th>\n",
              "      <td>12.0</td>\n",
              "      <td>13.0</td>\n",
              "      <td>14.0</td>\n",
              "      <td>1.2</td>\n",
              "    </tr>\n",
              "    <tr>\n",
              "      <th>f</th>\n",
              "      <td>15.0</td>\n",
              "      <td>16.0</td>\n",
              "      <td>17.0</td>\n",
              "      <td>0.0</td>\n",
              "    </tr>\n",
              "  </tbody>\n",
              "</table>\n",
              "</div>"
            ],
            "text/plain": [
              "   col1  col2  col3  col4\n",
              "a   0.0   1.0   2.0   1.7\n",
              "b   3.0   4.0   5.0   0.0\n",
              "d   9.0  10.0  11.0   0.0\n",
              "e  12.0  13.0  14.0   1.2\n",
              "f  15.0  16.0  17.0   0.0"
            ]
          },
          "metadata": {
            "tags": []
          },
          "execution_count": 59
        }
      ]
    },
    {
      "cell_type": "code",
      "metadata": {
        "id": "wjsSVlGc70bg",
        "colab": {
          "base_uri": "https://localhost:8080/",
          "height": 225
        },
        "outputId": "57a9288c-1c7b-4a96-9e19-3b490f85629e"
      },
      "source": [
        "# 딕셔너리를 활용한 컬럼별 대체값 지정하기\n",
        "print('#5 Replace missing values')\n",
        "replace_set = {'col2':0, 'col4':'100'}\n",
        "df.fillna(replace_set)"
      ],
      "execution_count": null,
      "outputs": [
        {
          "output_type": "stream",
          "text": [
            "#5 Replace missing values\n"
          ],
          "name": "stdout"
        },
        {
          "output_type": "execute_result",
          "data": {
            "text/html": [
              "<div>\n",
              "<style scoped>\n",
              "    .dataframe tbody tr th:only-of-type {\n",
              "        vertical-align: middle;\n",
              "    }\n",
              "\n",
              "    .dataframe tbody tr th {\n",
              "        vertical-align: top;\n",
              "    }\n",
              "\n",
              "    .dataframe thead th {\n",
              "        text-align: right;\n",
              "    }\n",
              "</style>\n",
              "<table border=\"1\" class=\"dataframe\">\n",
              "  <thead>\n",
              "    <tr style=\"text-align: right;\">\n",
              "      <th></th>\n",
              "      <th>col1</th>\n",
              "      <th>col2</th>\n",
              "      <th>col3</th>\n",
              "      <th>col4</th>\n",
              "    </tr>\n",
              "  </thead>\n",
              "  <tbody>\n",
              "    <tr>\n",
              "      <th>a</th>\n",
              "      <td>0.0</td>\n",
              "      <td>1.0</td>\n",
              "      <td>2.0</td>\n",
              "      <td>1.7</td>\n",
              "    </tr>\n",
              "    <tr>\n",
              "      <th>b</th>\n",
              "      <td>3.0</td>\n",
              "      <td>4.0</td>\n",
              "      <td>5.0</td>\n",
              "      <td>100</td>\n",
              "    </tr>\n",
              "    <tr>\n",
              "      <th>d</th>\n",
              "      <td>9.0</td>\n",
              "      <td>10.0</td>\n",
              "      <td>11.0</td>\n",
              "      <td>100</td>\n",
              "    </tr>\n",
              "    <tr>\n",
              "      <th>e</th>\n",
              "      <td>12.0</td>\n",
              "      <td>13.0</td>\n",
              "      <td>14.0</td>\n",
              "      <td>1.2</td>\n",
              "    </tr>\n",
              "    <tr>\n",
              "      <th>f</th>\n",
              "      <td>15.0</td>\n",
              "      <td>16.0</td>\n",
              "      <td>17.0</td>\n",
              "      <td>100</td>\n",
              "    </tr>\n",
              "  </tbody>\n",
              "</table>\n",
              "</div>"
            ],
            "text/plain": [
              "   col1  col2  col3 col4\n",
              "a   0.0   1.0   2.0  1.7\n",
              "b   3.0   4.0   5.0  100\n",
              "d   9.0  10.0  11.0  100\n",
              "e  12.0  13.0  14.0  1.2\n",
              "f  15.0  16.0  17.0  100"
            ]
          },
          "metadata": {
            "tags": []
          },
          "execution_count": 60
        }
      ]
    },
    {
      "cell_type": "code",
      "metadata": {
        "id": "F6dzT0XI718k",
        "colab": {
          "base_uri": "https://localhost:8080/",
          "height": 225
        },
        "outputId": "9a41a1f4-1672-474b-8614-20fa994c4401"
      },
      "source": [
        "print('#6 Replace missing values')\n",
        "replace_set = {'col1':df['col1'].mean()}\n",
        "df.fillna(replace_set, inplace=True)\n",
        "df"
      ],
      "execution_count": null,
      "outputs": [
        {
          "output_type": "stream",
          "text": [
            "#6 Replace missing values\n"
          ],
          "name": "stdout"
        },
        {
          "output_type": "execute_result",
          "data": {
            "text/html": [
              "<div>\n",
              "<style scoped>\n",
              "    .dataframe tbody tr th:only-of-type {\n",
              "        vertical-align: middle;\n",
              "    }\n",
              "\n",
              "    .dataframe tbody tr th {\n",
              "        vertical-align: top;\n",
              "    }\n",
              "\n",
              "    .dataframe thead th {\n",
              "        text-align: right;\n",
              "    }\n",
              "</style>\n",
              "<table border=\"1\" class=\"dataframe\">\n",
              "  <thead>\n",
              "    <tr style=\"text-align: right;\">\n",
              "      <th></th>\n",
              "      <th>col1</th>\n",
              "      <th>col2</th>\n",
              "      <th>col3</th>\n",
              "      <th>col4</th>\n",
              "    </tr>\n",
              "  </thead>\n",
              "  <tbody>\n",
              "    <tr>\n",
              "      <th>a</th>\n",
              "      <td>0.0</td>\n",
              "      <td>1.0</td>\n",
              "      <td>2.0</td>\n",
              "      <td>1.7</td>\n",
              "    </tr>\n",
              "    <tr>\n",
              "      <th>b</th>\n",
              "      <td>3.0</td>\n",
              "      <td>4.0</td>\n",
              "      <td>5.0</td>\n",
              "      <td>NaN</td>\n",
              "    </tr>\n",
              "    <tr>\n",
              "      <th>d</th>\n",
              "      <td>9.0</td>\n",
              "      <td>10.0</td>\n",
              "      <td>11.0</td>\n",
              "      <td>NaN</td>\n",
              "    </tr>\n",
              "    <tr>\n",
              "      <th>e</th>\n",
              "      <td>12.0</td>\n",
              "      <td>13.0</td>\n",
              "      <td>14.0</td>\n",
              "      <td>1.2</td>\n",
              "    </tr>\n",
              "    <tr>\n",
              "      <th>f</th>\n",
              "      <td>15.0</td>\n",
              "      <td>16.0</td>\n",
              "      <td>17.0</td>\n",
              "      <td>NaN</td>\n",
              "    </tr>\n",
              "  </tbody>\n",
              "</table>\n",
              "</div>"
            ],
            "text/plain": [
              "   col1  col2  col3  col4\n",
              "a   0.0   1.0   2.0   1.7\n",
              "b   3.0   4.0   5.0   NaN\n",
              "d   9.0  10.0  11.0   NaN\n",
              "e  12.0  13.0  14.0   1.2\n",
              "f  15.0  16.0  17.0   NaN"
            ]
          },
          "metadata": {
            "tags": []
          },
          "execution_count": 62
        }
      ]
    },
    {
      "cell_type": "markdown",
      "metadata": {
        "id": "_yj7ZmPiule-"
      },
      "source": [
        "### 데이터 조회 : 인덱싱(indexing)"
      ]
    },
    {
      "cell_type": "code",
      "metadata": {
        "id": "2dTHFgDIHznM",
        "colab": {
          "base_uri": "https://localhost:8080/"
        },
        "outputId": "9f0edd6d-5c94-4334-e61e-ec2e500ace73"
      },
      "source": [
        "import pandas as pd\n",
        "\n",
        "# 실습 데이터 생성\n",
        "d = {'name': ['Jessi', 'Emma', 'Alex', 'Jessi', 'Tom'], \n",
        "     'score': [100, 95, 80, 85, 97], \n",
        "     'grade': ['A', 'A', 'B', 'B', 'A'], \n",
        "     'subject': ['python', 'java', 'python', 'c', 'java']}\n",
        "\n",
        "df = pd.DataFrame(data=d)\n",
        "print('Sample Data')\n",
        "print(df)"
      ],
      "execution_count": 1,
      "outputs": [
        {
          "output_type": "stream",
          "text": [
            "Sample Data\n",
            "    name  score grade subject\n",
            "0  Jessi    100     A  python\n",
            "1   Emma     95     A    java\n",
            "2   Alex     80     B  python\n",
            "3  Jessi     85     B       c\n",
            "4    Tom     97     A    java\n"
          ],
          "name": "stdout"
        }
      ]
    },
    {
      "cell_type": "code",
      "metadata": {
        "colab": {
          "base_uri": "https://localhost:8080/"
        },
        "id": "OCoIqQa2vFeA",
        "outputId": "236bef79-238a-4ee8-bf4c-3b96c87796da"
      },
      "source": [
        "print('\\n#1 Set Index')\n",
        "df.set_index('name', inplace=True)\n",
        "print(df)"
      ],
      "execution_count": 2,
      "outputs": [
        {
          "output_type": "stream",
          "text": [
            "\n",
            "#1 Set Index\n",
            "       score grade subject\n",
            "name                      \n",
            "Jessi    100     A  python\n",
            "Emma      95     A    java\n",
            "Alex      80     B  python\n",
            "Jessi     85     B       c\n",
            "Tom       97     A    java\n"
          ],
          "name": "stdout"
        }
      ]
    },
    {
      "cell_type": "code",
      "metadata": {
        "colab": {
          "base_uri": "https://localhost:8080/"
        },
        "id": "c4jiVqOtvLtw",
        "outputId": "cdca129a-a9f1-4629-a98f-34189dd97d46"
      },
      "source": [
        "print('\\n#2 Access rows')\n",
        "subset = df.loc[['Jessi', 'Emma']]\n",
        "print(subset)"
      ],
      "execution_count": 3,
      "outputs": [
        {
          "output_type": "stream",
          "text": [
            "\n",
            "#2 Access rows\n",
            "       score grade subject\n",
            "name                      \n",
            "Jessi    100     A  python\n",
            "Jessi     85     B       c\n",
            "Emma      95     A    java\n"
          ],
          "name": "stdout"
        }
      ]
    },
    {
      "cell_type": "code",
      "metadata": {
        "colab": {
          "base_uri": "https://localhost:8080/"
        },
        "id": "RFQcIYFlvSWd",
        "outputId": "198f9518-b6ea-47a2-dcd1-ba1179a23430"
      },
      "source": [
        "print('\\n#3 Access rows by index position')\n",
        "subset = df.iloc[[0, 4]]\n",
        "print(subset)"
      ],
      "execution_count": 4,
      "outputs": [
        {
          "output_type": "stream",
          "text": [
            "\n",
            "#3 Access rows by index position\n",
            "       score grade subject\n",
            "name                      \n",
            "Jessi    100     A  python\n",
            "Tom       97     A    java\n"
          ],
          "name": "stdout"
        }
      ]
    },
    {
      "cell_type": "code",
      "metadata": {
        "colab": {
          "base_uri": "https://localhost:8080/"
        },
        "id": "tPI8GH7LvaKD",
        "outputId": "61e43ba7-1df8-4407-83b1-a1c9c0e7b6a1"
      },
      "source": [
        "print('\\n#4 Access rows by boolean indexing')\n",
        "subset = df.loc[df['score'] >= 95]\n",
        "print(subset)"
      ],
      "execution_count": 5,
      "outputs": [
        {
          "output_type": "stream",
          "text": [
            "\n",
            "#4 Access rows by boolean indexing\n",
            "       score grade subject\n",
            "name                      \n",
            "Jessi    100     A  python\n",
            "Emma      95     A    java\n",
            "Tom       97     A    java\n"
          ],
          "name": "stdout"
        }
      ]
    },
    {
      "cell_type": "code",
      "metadata": {
        "colab": {
          "base_uri": "https://localhost:8080/"
        },
        "id": "zB_O7uy6vm67",
        "outputId": "fd531619-1d11-444d-cdef-6ec3178e6ca1"
      },
      "source": [
        "print('\\n#5 Access rows by boolean indexing')\n",
        "subset = df.loc[df['subject'] == 'python']\n",
        "print(subset)"
      ],
      "execution_count": 6,
      "outputs": [
        {
          "output_type": "stream",
          "text": [
            "\n",
            "#5 Access rows by boolean indexing\n",
            "       score grade subject\n",
            "name                      \n",
            "Jessi    100     A  python\n",
            "Alex      80     B  python\n"
          ],
          "name": "stdout"
        }
      ]
    },
    {
      "cell_type": "markdown",
      "metadata": {
        "id": "IBLUqWqVvvUH"
      },
      "source": [
        "### 데이터 조회 : 슬라이싱(slicing)"
      ]
    },
    {
      "cell_type": "code",
      "metadata": {
        "colab": {
          "base_uri": "https://localhost:8080/"
        },
        "id": "MOTlLiJHvuEn",
        "outputId": "30902724-76a5-453e-c570-856daf758845"
      },
      "source": [
        "import pandas as pd\n",
        "\n",
        "# 실습 데이터 생성\n",
        "d = {'name': ['Jessi', 'Emma', 'Alex', 'Jessi', 'Tom'], \n",
        "     'score': [100, 95, 80, 85, 97], \n",
        "     'grade': ['A', 'A', 'B', 'B', 'A'], \n",
        "     'subject': ['python', 'java', 'python', 'c', 'java']}\n",
        "\n",
        "sample_df = pd.DataFrame(data=d)\n",
        "sample_df.set_index('name', inplace = True)\n",
        "\n",
        "print('Sample Data')\n",
        "print(sample_df)"
      ],
      "execution_count": 7,
      "outputs": [
        {
          "output_type": "stream",
          "text": [
            "Sample Data\n",
            "       score grade subject\n",
            "name                      \n",
            "Jessi    100     A  python\n",
            "Emma      95     A    java\n",
            "Alex      80     B  python\n",
            "Jessi     85     B       c\n",
            "Tom       97     A    java\n"
          ],
          "name": "stdout"
        }
      ]
    },
    {
      "cell_type": "code",
      "metadata": {
        "colab": {
          "base_uri": "https://localhost:8080/"
        },
        "id": "hld3bWrtwAXR",
        "outputId": "69295c42-6820-49b5-83f6-033d8b078607"
      },
      "source": [
        "print('\\n#1 Access Rows by slicing')\n",
        "subset = sample_df[1:4]\n",
        "print(subset)"
      ],
      "execution_count": 8,
      "outputs": [
        {
          "output_type": "stream",
          "text": [
            "\n",
            "#1 Access Rows by slicing\n",
            "       score grade subject\n",
            "name                      \n",
            "Emma      95     A    java\n",
            "Alex      80     B  python\n",
            "Jessi     85     B       c\n"
          ],
          "name": "stdout"
        }
      ]
    },
    {
      "cell_type": "code",
      "metadata": {
        "colab": {
          "base_uri": "https://localhost:8080/"
        },
        "id": "3k9cVwMMwICA",
        "outputId": "fbad35cb-7cbb-465a-f4bb-023b1d5c683c"
      },
      "source": [
        "print('\\n#2 Access Rows by slicing')\n",
        "subset = sample_df[::2]\n",
        "print(subset)"
      ],
      "execution_count": 9,
      "outputs": [
        {
          "output_type": "stream",
          "text": [
            "\n",
            "#2 Access Rows by slicing\n",
            "       score grade subject\n",
            "name                      \n",
            "Jessi    100     A  python\n",
            "Alex      80     B  python\n",
            "Tom       97     A    java\n"
          ],
          "name": "stdout"
        }
      ]
    },
    {
      "cell_type": "code",
      "metadata": {
        "colab": {
          "base_uri": "https://localhost:8080/"
        },
        "id": "JgET00H4wNYl",
        "outputId": "8925a3b0-749c-4c47-fdfd-496f71e0b2f0"
      },
      "source": [
        "print('\\n#3 Access Rows by slicing')\n",
        "subset = sample_df[:'Alex']\n",
        "print(subset)"
      ],
      "execution_count": 10,
      "outputs": [
        {
          "output_type": "stream",
          "text": [
            "\n",
            "#3 Access Rows by slicing\n",
            "       score grade subject\n",
            "name                      \n",
            "Jessi    100     A  python\n",
            "Emma      95     A    java\n",
            "Alex      80     B  python\n"
          ],
          "name": "stdout"
        }
      ]
    },
    {
      "cell_type": "code",
      "metadata": {
        "colab": {
          "base_uri": "https://localhost:8080/"
        },
        "id": "ovMQfmrvwUJs",
        "outputId": "03654a34-0c4b-413c-b6f5-a72fcda97385"
      },
      "source": [
        "print('\\n#4 Access Rows by loc[slicing]')\n",
        "subset = sample_df.loc[:'Emma', ['subject', 'grade']]\n",
        "print(subset)"
      ],
      "execution_count": 11,
      "outputs": [
        {
          "output_type": "stream",
          "text": [
            "\n",
            "#4 Access Rows by loc[slicing]\n",
            "      subject grade\n",
            "name               \n",
            "Jessi  python     A\n",
            "Emma     java     A\n"
          ],
          "name": "stdout"
        }
      ]
    },
    {
      "cell_type": "code",
      "metadata": {
        "colab": {
          "base_uri": "https://localhost:8080/"
        },
        "id": "9xB4u8T8wc3h",
        "outputId": "b1c26a33-a6b2-4bdf-ae5f-ecd53ea1f3d3"
      },
      "source": [
        "print('\\n#5 Access Rows by iloc[slicing]')\n",
        "subset = sample_df.iloc[:4, -1]\n",
        "print(subset)"
      ],
      "execution_count": 12,
      "outputs": [
        {
          "output_type": "stream",
          "text": [
            "\n",
            "#5 Access Rows by iloc[slicing]\n",
            "name\n",
            "Jessi    python\n",
            "Emma       java\n",
            "Alex     python\n",
            "Jessi         c\n",
            "Name: subject, dtype: object\n"
          ],
          "name": "stdout"
        }
      ]
    },
    {
      "cell_type": "markdown",
      "metadata": {
        "id": "exfi6LlawlAz"
      },
      "source": [
        "### Pandas의 집계함수"
      ]
    },
    {
      "cell_type": "code",
      "metadata": {
        "colab": {
          "base_uri": "https://localhost:8080/"
        },
        "id": "6I_sIRTEwj-Y",
        "outputId": "a871a805-70c4-4ff4-9269-8ff76a005d7b"
      },
      "source": [
        "import pandas as pd\n",
        "import numpy as np\n",
        "\n",
        "# 실습 데이터 생성\n",
        "score = {'sub1': [3, 9, 1, 1, 9], \n",
        "         'sub2': [2, 9, np.nan, np.nan, 8], \n",
        "         'sub3': [np.nan, 1, 5, 5, 7], \n",
        "         'sub4': [np.nan, 3, np.nan, 1, np.nan]}\n",
        "\n",
        "df = pd.DataFrame(data=score)\n",
        "print(df)"
      ],
      "execution_count": 13,
      "outputs": [
        {
          "output_type": "stream",
          "text": [
            "   sub1  sub2  sub3  sub4\n",
            "0     3   2.0   NaN   NaN\n",
            "1     9   9.0   1.0   3.0\n",
            "2     1   NaN   5.0   NaN\n",
            "3     1   NaN   5.0   1.0\n",
            "4     9   8.0   7.0   NaN\n"
          ],
          "name": "stdout"
        }
      ]
    },
    {
      "cell_type": "code",
      "metadata": {
        "colab": {
          "base_uri": "https://localhost:8080/"
        },
        "id": "c5jXWWpFxOKx",
        "outputId": "10725a80-4e02-40df-93d0-29951ea4c895"
      },
      "source": [
        "print('\\n#1 Count Function')\n",
        "print(df.count())"
      ],
      "execution_count": 14,
      "outputs": [
        {
          "output_type": "stream",
          "text": [
            "\n",
            "#1 Count Function\n",
            "sub1    5\n",
            "sub2    3\n",
            "sub3    4\n",
            "sub4    2\n",
            "dtype: int64\n"
          ],
          "name": "stdout"
        }
      ]
    },
    {
      "cell_type": "code",
      "metadata": {
        "colab": {
          "base_uri": "https://localhost:8080/"
        },
        "id": "94rbT1AhxUaj",
        "outputId": "ade5707a-730c-4e49-9b9a-d5758b5b38e6"
      },
      "source": [
        "print('\\n#3 Sum Function')\n",
        "print(df.sum())"
      ],
      "execution_count": 15,
      "outputs": [
        {
          "output_type": "stream",
          "text": [
            "\n",
            "#3 Sum Function\n",
            "sub1    23.0\n",
            "sub2    19.0\n",
            "sub3    18.0\n",
            "sub4     4.0\n",
            "dtype: float64\n"
          ],
          "name": "stdout"
        }
      ]
    },
    {
      "cell_type": "code",
      "metadata": {
        "colab": {
          "base_uri": "https://localhost:8080/"
        },
        "id": "nDCsAQv3xc-y",
        "outputId": "1e9f85bc-9876-44a4-b35b-c03947658e71"
      },
      "source": [
        "print('\\n#4 Sum Function with skipna')\n",
        "print(df.sum(skipna=False))"
      ],
      "execution_count": 16,
      "outputs": [
        {
          "output_type": "stream",
          "text": [
            "\n",
            "#4 Sum Function with skipna\n",
            "sub1    23.0\n",
            "sub2     NaN\n",
            "sub3     NaN\n",
            "sub4     NaN\n",
            "dtype: float64\n"
          ],
          "name": "stdout"
        }
      ]
    },
    {
      "cell_type": "code",
      "metadata": {
        "id": "kzyUMDUcxiHB"
      },
      "source": [
        ""
      ],
      "execution_count": null,
      "outputs": []
    }
  ]
}