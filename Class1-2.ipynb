{
  "nbformat": 4,
  "nbformat_minor": 0,
  "metadata": {
    "colab": {
      "name": "Class1-2.ipynb",
      "provenance": [],
      "collapsed_sections": [],
      "toc_visible": true,
      "authorship_tag": "ABX9TyMmZEWPCFlCVMdj9E/7pH1K",
      "include_colab_link": true
    },
    "kernelspec": {
      "name": "python3",
      "display_name": "Python 3"
    },
    "language_info": {
      "name": "python"
    }
  },
  "cells": [
    {
      "cell_type": "markdown",
      "metadata": {
        "id": "view-in-github",
        "colab_type": "text"
      },
      "source": [
        "<a href=\"https://colab.research.google.com/github/plumwiserim/Data-Analysis/blob/main/Class1-2.ipynb\" target=\"_parent\"><img src=\"https://colab.research.google.com/assets/colab-badge.svg\" alt=\"Open In Colab\"/></a>"
      ]
    },
    {
      "cell_type": "code",
      "metadata": {
        "id": "t8mm0ib0r6Lr"
      },
      "source": [
        ""
      ],
      "execution_count": null,
      "outputs": []
    },
    {
      "cell_type": "markdown",
      "metadata": {
        "id": "9uwwaQ4ktDen"
      },
      "source": [
        "## Set, Enum Type"
      ]
    },
    {
      "cell_type": "markdown",
      "metadata": {
        "id": "SvoSpMdfupLK"
      },
      "source": [
        "#### Enum Type\n",
        "- 파이썬은 버전 3.4부터 다른 언어들처럼 enum(enumeration, 이넘) 타입을 지원\n",
        "- enum은 일반적으로 서로 관련이 있는 여러 개의 상수의 집합을 정의할 때 사용됨\n",
        "- enum 클래스를 사용하면 인스턴스의 종류를 제한할 수 있기 때문에 견고한 프로그램을 작성할 수 있음"
      ]
    },
    {
      "cell_type": "markdown",
      "metadata": {
        "id": "9eqqJ7dlurPo"
      },
      "source": [
        "#### Enum Type"
      ]
    },
    {
      "cell_type": "code",
      "metadata": {
        "id": "w6HxLGVMtAj0"
      },
      "source": [
        "# 예시 : Enum class 를 확장하여 MyMajor Type 을 만들어 보자\n",
        "\n",
        "class MyMajor():\n",
        "  Ai = 1\n",
        "  Math = 2\n",
        "  Eng = 3"
      ],
      "execution_count": null,
      "outputs": []
    },
    {
      "cell_type": "code",
      "metadata": {
        "colab": {
          "base_uri": "https://localhost:8080/"
        },
        "id": "u4YGz4qaunLF",
        "outputId": "7371bb9d-138b-4e93-c745-f4e66f130ceb"
      },
      "source": [
        "# 예시1 활용 : MyMajoy Type 의 Name 과 Value 에 접근해 보자\n",
        "MyMajor.Ai"
      ],
      "execution_count": null,
      "outputs": [
        {
          "output_type": "execute_result",
          "data": {
            "text/plain": [
              "1"
            ]
          },
          "metadata": {
            "tags": []
          },
          "execution_count": 102
        }
      ]
    },
    {
      "cell_type": "code",
      "metadata": {
        "colab": {
          "base_uri": "https://localhost:8080/",
          "height": 176
        },
        "id": "7rncO3LevG_H",
        "outputId": "e74d2a35-2451-48c1-c67c-41776baafe4c"
      },
      "source": [
        "MyMajor.Ai.name"
      ],
      "execution_count": null,
      "outputs": [
        {
          "output_type": "error",
          "ename": "AttributeError",
          "evalue": "ignored",
          "traceback": [
            "\u001b[0;31m---------------------------------------------------------------------------\u001b[0m",
            "\u001b[0;31mAttributeError\u001b[0m                            Traceback (most recent call last)",
            "\u001b[0;32m<ipython-input-103-6655de10f2f3>\u001b[0m in \u001b[0;36m<module>\u001b[0;34m()\u001b[0m\n\u001b[0;32m----> 1\u001b[0;31m \u001b[0mMyMajor\u001b[0m\u001b[0;34m.\u001b[0m\u001b[0mAi\u001b[0m\u001b[0;34m.\u001b[0m\u001b[0mname\u001b[0m\u001b[0;34m\u001b[0m\u001b[0;34m\u001b[0m\u001b[0m\n\u001b[0m",
            "\u001b[0;31mAttributeError\u001b[0m: 'int' object has no attribute 'name'"
          ]
        }
      ]
    },
    {
      "cell_type": "code",
      "metadata": {
        "colab": {
          "base_uri": "https://localhost:8080/",
          "height": 176
        },
        "id": "_xAzv4AfvUHv",
        "outputId": "adf795f5-4507-4ba9-a936-6b3635bcdcbd"
      },
      "source": [
        "Mymajor.Ai.value"
      ],
      "execution_count": null,
      "outputs": [
        {
          "output_type": "error",
          "ename": "NameError",
          "evalue": "ignored",
          "traceback": [
            "\u001b[0;31m---------------------------------------------------------------------------\u001b[0m",
            "\u001b[0;31mNameError\u001b[0m                                 Traceback (most recent call last)",
            "\u001b[0;32m<ipython-input-104-932c084b7879>\u001b[0m in \u001b[0;36m<module>\u001b[0;34m()\u001b[0m\n\u001b[0;32m----> 1\u001b[0;31m \u001b[0mMymajor\u001b[0m\u001b[0;34m.\u001b[0m\u001b[0mAi\u001b[0m\u001b[0;34m.\u001b[0m\u001b[0mvalue\u001b[0m\u001b[0;34m\u001b[0m\u001b[0;34m\u001b[0m\u001b[0m\n\u001b[0m",
            "\u001b[0;31mNameError\u001b[0m: name 'Mymajor' is not defined"
          ]
        }
      ]
    },
    {
      "cell_type": "code",
      "metadata": {
        "colab": {
          "base_uri": "https://localhost:8080/",
          "height": 251
        },
        "id": "l-Syj4VAva30",
        "outputId": "e76fe122-2a3d-4ea6-c982-fb6820eecc0d"
      },
      "source": [
        "# 예시2 활용\n",
        "\n",
        "for i in MyMajor :\n",
        "  print(i, end = ', ')\n",
        "\n",
        "print('\\n')\n",
        "\n",
        "for i in MyMajor : \n",
        "  print(i.name, end=', ')\n",
        "\n",
        "print('\\n')\n",
        "\n",
        "for i in MyMajor : \n",
        "  print(i.value, end = ', ')"
      ],
      "execution_count": null,
      "outputs": [
        {
          "output_type": "error",
          "ename": "TypeError",
          "evalue": "ignored",
          "traceback": [
            "\u001b[0;31m---------------------------------------------------------------------------\u001b[0m",
            "\u001b[0;31mTypeError\u001b[0m                                 Traceback (most recent call last)",
            "\u001b[0;32m<ipython-input-105-9afc4dc3c072>\u001b[0m in \u001b[0;36m<module>\u001b[0;34m()\u001b[0m\n\u001b[1;32m      1\u001b[0m \u001b[0;31m# 예시2 활용\u001b[0m\u001b[0;34m\u001b[0m\u001b[0;34m\u001b[0m\u001b[0;34m\u001b[0m\u001b[0m\n\u001b[1;32m      2\u001b[0m \u001b[0;34m\u001b[0m\u001b[0m\n\u001b[0;32m----> 3\u001b[0;31m \u001b[0;32mfor\u001b[0m \u001b[0mi\u001b[0m \u001b[0;32min\u001b[0m \u001b[0mMyMajor\u001b[0m \u001b[0;34m:\u001b[0m\u001b[0;34m\u001b[0m\u001b[0;34m\u001b[0m\u001b[0m\n\u001b[0m\u001b[1;32m      4\u001b[0m   \u001b[0mprint\u001b[0m\u001b[0;34m(\u001b[0m\u001b[0mi\u001b[0m\u001b[0;34m,\u001b[0m \u001b[0mend\u001b[0m \u001b[0;34m=\u001b[0m \u001b[0;34m', '\u001b[0m\u001b[0;34m)\u001b[0m\u001b[0;34m\u001b[0m\u001b[0;34m\u001b[0m\u001b[0m\n\u001b[1;32m      5\u001b[0m \u001b[0;34m\u001b[0m\u001b[0m\n",
            "\u001b[0;31mTypeError\u001b[0m: 'type' object is not iterable"
          ]
        }
      ]
    },
    {
      "cell_type": "markdown",
      "metadata": {
        "id": "Br3QyzVpvx-S"
      },
      "source": [
        "#### 셋(set)\n",
        "- 딕셔너리처럼 { } 기호를 사용\n",
        "- set()\n",
        "- 단독으로 {} 선언시 딕셔너리로 판단\n",
        "- {} 이용하여 생성시 반드시 요소값이 있어야 함\n",
        "- add(), discard() 사용하여 컨트롤"
      ]
    },
    {
      "cell_type": "code",
      "metadata": {
        "id": "9klFnPYxvwtc"
      },
      "source": [
        "s = set()\n",
        "s.add(10)\n",
        "s.add(13)\n",
        "s.add(15)"
      ],
      "execution_count": null,
      "outputs": []
    },
    {
      "cell_type": "code",
      "metadata": {
        "colab": {
          "base_uri": "https://localhost:8080/"
        },
        "id": "7YwYF4WhwEw-",
        "outputId": "1ac70162-1db3-4490-9167-7055524289d0"
      },
      "source": [
        "s"
      ],
      "execution_count": null,
      "outputs": [
        {
          "output_type": "execute_result",
          "data": {
            "text/plain": [
              "{10, 13, 15}"
            ]
          },
          "metadata": {
            "tags": []
          },
          "execution_count": 107
        }
      ]
    },
    {
      "cell_type": "code",
      "metadata": {
        "id": "joJoVIMkwFVW"
      },
      "source": [
        "s.discard(13)"
      ],
      "execution_count": null,
      "outputs": []
    },
    {
      "cell_type": "code",
      "metadata": {
        "colab": {
          "base_uri": "https://localhost:8080/"
        },
        "id": "WJ992TLCwGeS",
        "outputId": "a623cd07-0214-4287-e7d9-4143532088d1"
      },
      "source": [
        "s"
      ],
      "execution_count": null,
      "outputs": [
        {
          "output_type": "execute_result",
          "data": {
            "text/plain": [
              "{10, 15}"
            ]
          },
          "metadata": {
            "tags": []
          },
          "execution_count": 109
        }
      ]
    },
    {
      "cell_type": "code",
      "metadata": {
        "id": "kt4MJF7xwGxE"
      },
      "source": [
        "# 예시 활용 - set type은 중복을 허용하지 않는다. \n",
        "s.add(13)\n",
        "s.add(15)\n",
        "s.add(15)"
      ],
      "execution_count": null,
      "outputs": []
    },
    {
      "cell_type": "code",
      "metadata": {
        "colab": {
          "base_uri": "https://localhost:8080/"
        },
        "id": "L52o_Ni8wKWh",
        "outputId": "d48589ef-7dc4-4e7b-c4c1-20247c273949"
      },
      "source": [
        "s"
      ],
      "execution_count": null,
      "outputs": [
        {
          "output_type": "execute_result",
          "data": {
            "text/plain": [
              "{10, 13, 15}"
            ]
          },
          "metadata": {
            "tags": []
          },
          "execution_count": 111
        }
      ]
    },
    {
      "cell_type": "code",
      "metadata": {
        "id": "sPSwUjqgwKf9"
      },
      "source": [
        "# 예시 활용\n",
        "x = set()\n",
        "x.add(1)\n",
        "x.add(3)\n",
        "x.add(5)\n",
        "x.add(13)"
      ],
      "execution_count": null,
      "outputs": []
    },
    {
      "cell_type": "code",
      "metadata": {
        "colab": {
          "base_uri": "https://localhost:8080/"
        },
        "id": "rkCRyeCgwUeM",
        "outputId": "b860b509-ba14-4824-a95e-056fd97f9a06"
      },
      "source": [
        "x"
      ],
      "execution_count": null,
      "outputs": [
        {
          "output_type": "execute_result",
          "data": {
            "text/plain": [
              "{1, 3, 5, 13}"
            ]
          },
          "metadata": {
            "tags": []
          },
          "execution_count": 113
        }
      ]
    },
    {
      "cell_type": "code",
      "metadata": {
        "colab": {
          "base_uri": "https://localhost:8080/"
        },
        "id": "wEIH9jGxwUp8",
        "outputId": "57295d23-5923-43ce-8d31-36efb4611e32"
      },
      "source": [
        "x.intersection(s)"
      ],
      "execution_count": null,
      "outputs": [
        {
          "output_type": "execute_result",
          "data": {
            "text/plain": [
              "{13}"
            ]
          },
          "metadata": {
            "tags": []
          },
          "execution_count": 114
        }
      ]
    },
    {
      "cell_type": "code",
      "metadata": {
        "colab": {
          "base_uri": "https://localhost:8080/"
        },
        "id": "v3QnQ5z2wVw3",
        "outputId": "b2b42a38-332c-4fe3-84a9-64998720837b"
      },
      "source": [
        "x.union(s)"
      ],
      "execution_count": null,
      "outputs": [
        {
          "output_type": "execute_result",
          "data": {
            "text/plain": [
              "{1, 3, 5, 10, 13, 15}"
            ]
          },
          "metadata": {
            "tags": []
          },
          "execution_count": 115
        }
      ]
    },
    {
      "cell_type": "code",
      "metadata": {
        "colab": {
          "base_uri": "https://localhost:8080/"
        },
        "id": "ZC7NKBblwW9v",
        "outputId": "c0e6af02-7a5c-4130-b4d5-019f96fe9283"
      },
      "source": [
        "x.difference(s)"
      ],
      "execution_count": null,
      "outputs": [
        {
          "output_type": "execute_result",
          "data": {
            "text/plain": [
              "{1, 3, 5}"
            ]
          },
          "metadata": {
            "tags": []
          },
          "execution_count": 116
        }
      ]
    },
    {
      "cell_type": "code",
      "metadata": {
        "colab": {
          "base_uri": "https://localhost:8080/"
        },
        "id": "8T_FATRgwYL-",
        "outputId": "488f7fe9-904b-4661-8ef4-a26f89856981"
      },
      "source": [
        "x.union(s) - x"
      ],
      "execution_count": null,
      "outputs": [
        {
          "output_type": "execute_result",
          "data": {
            "text/plain": [
              "{10, 15}"
            ]
          },
          "metadata": {
            "tags": []
          },
          "execution_count": 117
        }
      ]
    },
    {
      "cell_type": "markdown",
      "metadata": {
        "id": "9DQGjaHOweYK"
      },
      "source": [
        "#### C가 메모리를 사용하는 방법\n",
        "- 정수 데이터 타입의 변수 a를 선언\n",
        "- assign (=) 연산으로 데이터를 저장 (정수만 저장 가능)"
      ]
    },
    {
      "cell_type": "markdown",
      "metadata": {
        "id": "nV-P_P7Twt7k"
      },
      "source": [
        "#### 파이썬이 메모리를 사용하는 방법\n",
        "- a = 100"
      ]
    },
    {
      "cell_type": "markdown",
      "metadata": {
        "id": "Sx6olN72wy1-"
      },
      "source": [
        "#### 리스트와 메모리\n",
        "- life = [['Canada', 76.5],['United States', 75.5],['Mexico', 72.0]]"
      ]
    },
    {
      "cell_type": "markdown",
      "metadata": {
        "id": "Gsf0NwTFw9VG"
      },
      "source": [
        "## Function"
      ]
    },
    {
      "cell_type": "markdown",
      "metadata": {
        "id": "p3_f9IVNxARA"
      },
      "source": [
        "#### 함수(function)\n",
        "- 함수란?"
      ]
    },
    {
      "cell_type": "code",
      "metadata": {
        "id": "_iWyZyIswZS2"
      },
      "source": [
        "def polynomial(a, b, c, x) :\n",
        "  first = a * x * x\n",
        "  second = b + x\n",
        "  third = c\n",
        "  return first + second + third"
      ],
      "execution_count": null,
      "outputs": []
    },
    {
      "cell_type": "code",
      "metadata": {
        "colab": {
          "base_uri": "https://localhost:8080/"
        },
        "id": "8jCDPzc9wdPr",
        "outputId": "00c82c0f-125f-431d-ada5-06af2b8a48a8"
      },
      "source": [
        "polynomial(2, 3, 4, 1.5)"
      ],
      "execution_count": null,
      "outputs": [
        {
          "output_type": "execute_result",
          "data": {
            "text/plain": [
              "13.0"
            ]
          },
          "metadata": {
            "tags": []
          },
          "execution_count": 120
        }
      ]
    },
    {
      "cell_type": "code",
      "metadata": {
        "colab": {
          "base_uri": "https://localhost:8080/"
        },
        "id": "BDTK7BnexvE3",
        "outputId": "ed2518b1-175c-4775-e195-c7eef99bf56f"
      },
      "source": [
        "polynomial(2, 3, 4, 2)"
      ],
      "execution_count": null,
      "outputs": [
        {
          "output_type": "execute_result",
          "data": {
            "text/plain": [
              "17"
            ]
          },
          "metadata": {
            "tags": []
          },
          "execution_count": 121
        }
      ]
    },
    {
      "cell_type": "code",
      "metadata": {
        "colab": {
          "base_uri": "https://localhost:8080/",
          "height": 176
        },
        "id": "9Xg4Zuguxwxj",
        "outputId": "2d371b92-5d06-40a7-8871-1050facf5e66"
      },
      "source": [
        "first"
      ],
      "execution_count": null,
      "outputs": [
        {
          "output_type": "error",
          "ename": "NameError",
          "evalue": "ignored",
          "traceback": [
            "\u001b[0;31m---------------------------------------------------------------------------\u001b[0m",
            "\u001b[0;31mNameError\u001b[0m                                 Traceback (most recent call last)",
            "\u001b[0;32m<ipython-input-122-271ac93c44ac>\u001b[0m in \u001b[0;36m<module>\u001b[0;34m()\u001b[0m\n\u001b[0;32m----> 1\u001b[0;31m \u001b[0mfirst\u001b[0m\u001b[0;34m\u001b[0m\u001b[0;34m\u001b[0m\u001b[0m\n\u001b[0m",
            "\u001b[0;31mNameError\u001b[0m: name 'first' is not defined"
          ]
        }
      ]
    },
    {
      "cell_type": "markdown",
      "metadata": {
        "id": "uip0YR5Wx0yw"
      },
      "source": [
        "- 인수와 매개변수\n",
        "  - 인수와 함수를 호출하면 인수의 값이 함수 내에서\n",
        "  - 해당하는 매개변수에 복사됨"
      ]
    },
    {
      "cell_type": "code",
      "metadata": {
        "colab": {
          "base_uri": "https://localhost:8080/"
        },
        "id": "7aXTNvFtx-2x",
        "outputId": "793a0c8b-2264-49e0-efba-50d551fc5af9"
      },
      "source": [
        "def greet_user(username) :\n",
        "  print(\"Hello, \" + username.title() + \"!\")\n",
        "\n",
        "greet_user('jesse')"
      ],
      "execution_count": null,
      "outputs": [
        {
          "output_type": "stream",
          "text": [
            "Hello, Jesse!\n"
          ],
          "name": "stdout"
        }
      ]
    },
    {
      "cell_type": "markdown",
      "metadata": {
        "id": "vWH7vf0Yx7dh"
      },
      "source": [
        "- 함수 파라미터 누락 시, Type Error 발생"
      ]
    },
    {
      "cell_type": "code",
      "metadata": {
        "colab": {
          "base_uri": "https://localhost:8080/",
          "height": 213
        },
        "id": "VFSymF2RxxiC",
        "outputId": "7e3cd6b2-83eb-40b5-ba11-5dd520a78613"
      },
      "source": [
        "def user_description(age, name) :\n",
        "  return f'{name}은 {age}살 입니다'\n",
        "print(user_description(10))"
      ],
      "execution_count": null,
      "outputs": [
        {
          "output_type": "error",
          "ename": "TypeError",
          "evalue": "ignored",
          "traceback": [
            "\u001b[0;31m---------------------------------------------------------------------------\u001b[0m",
            "\u001b[0;31mTypeError\u001b[0m                                 Traceback (most recent call last)",
            "\u001b[0;32m<ipython-input-124-5a15666302c7>\u001b[0m in \u001b[0;36m<module>\u001b[0;34m()\u001b[0m\n\u001b[1;32m      1\u001b[0m \u001b[0;32mdef\u001b[0m \u001b[0muser_description\u001b[0m\u001b[0;34m(\u001b[0m\u001b[0mage\u001b[0m\u001b[0;34m,\u001b[0m \u001b[0mname\u001b[0m\u001b[0;34m)\u001b[0m \u001b[0;34m:\u001b[0m\u001b[0;34m\u001b[0m\u001b[0;34m\u001b[0m\u001b[0m\n\u001b[1;32m      2\u001b[0m   \u001b[0;32mreturn\u001b[0m \u001b[0;34mf'{name}은 {age}살 입니다'\u001b[0m\u001b[0;34m\u001b[0m\u001b[0;34m\u001b[0m\u001b[0m\n\u001b[0;32m----> 3\u001b[0;31m \u001b[0mprint\u001b[0m\u001b[0;34m(\u001b[0m\u001b[0muser_description\u001b[0m\u001b[0;34m(\u001b[0m\u001b[0;36m10\u001b[0m\u001b[0;34m)\u001b[0m\u001b[0;34m)\u001b[0m\u001b[0;34m\u001b[0m\u001b[0;34m\u001b[0m\u001b[0m\n\u001b[0m",
            "\u001b[0;31mTypeError\u001b[0m: user_description() missing 1 required positional argument: 'name'"
          ]
        }
      ]
    },
    {
      "cell_type": "markdown",
      "metadata": {
        "id": "oeMXkUwNyPfN"
      },
      "source": [
        "- Parameters 에 매빙되는 arguments를 정의함으로써, 함수 prototype 과 다른 순서로 지정 가능"
      ]
    },
    {
      "cell_type": "code",
      "metadata": {
        "colab": {
          "base_uri": "https://localhost:8080/"
        },
        "id": "-tnRwu9nyNu2",
        "outputId": "ed66f14c-3f2d-4554-8479-837083ee4b34"
      },
      "source": [
        "def menu(morning, afternoon, dinner) : \n",
        "  print(f'아침은 {morning}\\n, 점심은 {afternoon}\\n, 저녁은 {dinner}\\n')\n",
        "\n",
        "menu(morning = 'pancake', afternoon = 'noodle', dinner = 'rice')\n",
        "menu(morning = 'pancake', dinner = 'rice', afternoon = 'noodle')"
      ],
      "execution_count": null,
      "outputs": [
        {
          "output_type": "stream",
          "text": [
            "아침은 pancake\n",
            ", 점심은 noodle\n",
            ", 저녁은 rice\n",
            "\n",
            "아침은 pancake\n",
            ", 점심은 noodle\n",
            ", 저녁은 rice\n",
            "\n"
          ],
          "name": "stdout"
        }
      ]
    },
    {
      "cell_type": "markdown",
      "metadata": {
        "id": "s0rThZZdyqPA"
      },
      "source": [
        "- Default paramter"
      ]
    },
    {
      "cell_type": "code",
      "metadata": {
        "colab": {
          "base_uri": "https://localhost:8080/"
        },
        "id": "mGCiHqK3yna8",
        "outputId": "0892c868-e526-4078-e9c1-63d8fddf424e"
      },
      "source": [
        "def menu(morning, afternoon, dinner='rice'):\n",
        "  print(f'아침은 {morning}\\n, 점심은 {afternoon}\\n, 저녁은 {dinner}\\n')\n",
        "menu('rice', 'cake')\n"
      ],
      "execution_count": null,
      "outputs": [
        {
          "output_type": "stream",
          "text": [
            "아침은 rice\n",
            ", 점심은 cake\n",
            ", 저녁은 rice\n",
            "\n"
          ],
          "name": "stdout"
        }
      ]
    },
    {
      "cell_type": "markdown",
      "metadata": {
        "id": "XD7bN7nwywKg"
      },
      "source": [
        "- 가변 파라미터\n",
        "  - arguments : tuple <-- 아래에서 보면 \"홍길동\", \"40\" 정보를 packing 한다. \n",
        "  - keywords : dict <-- 아래에서 보면 addr = ~ grad = \"good\" 정보를 packing 한다."
      ]
    },
    {
      "cell_type": "code",
      "metadata": {
        "colab": {
          "base_uri": "https://localhost:8080/"
        },
        "id": "xvr88uDUytsd",
        "outputId": "df0ed5be-4068-43c3-d67c-37e76d121fc2"
      },
      "source": [
        "def get_userinfo(user_type, *arguments, **keywords):\n",
        "\n",
        "  print(\"user type : {}\".format(\"admin\" if (int(user_type) == 1) else \"normal\"))\n",
        "\n",
        "  for arg in arguments :\n",
        "    print(arg)\n",
        "  \n",
        "  print(\"-\"*40)\n",
        "\n",
        "  for kw in keywords : \n",
        "    print(kw, \":\", keywords[kw])\n",
        "  \n",
        "get_userinfo(\"1\",\"홍길동\", \"40\",\n",
        "             addr = \"경기도\",\n",
        "             cp = \"010-xxxx-xxxx\", grade = \"good\")"
      ],
      "execution_count": null,
      "outputs": [
        {
          "output_type": "stream",
          "text": [
            "user type : admin\n",
            "홍길동\n",
            "40\n",
            "----------------------------------------\n",
            "addr : 경기도\n",
            "cp : 010-xxxx-xxxx\n",
            "grade : good\n"
          ],
          "name": "stdout"
        }
      ]
    },
    {
      "cell_type": "markdown",
      "metadata": {
        "id": "P2jUfR0sztZ0"
      },
      "source": [
        "#### 패키지, 모듈 & 함수\n",
        "- 함수<모듈<패키지\n",
        "- 반복하여 사용하는 코드를 어떤 값(들)을 입력하면 특정된 작업을 수행하고 그 결과\n",
        "값을 출력으로 반환하는 코드 뭉치가 함수\n",
        "- 함수를 모아서 담아 놓은 것이 모듈\n",
        "- 모듈을 디렉토리 형식으로 정리해 둔 것이 패키지\n",
        "- 보통 하나의 .py 파일이 하나의 모듈이 됨"
      ]
    },
    {
      "cell_type": "code",
      "metadata": {
        "id": "dHxzBvPWzlZW"
      },
      "source": [
        "# 함수\n",
        "def add(a, b) :\n",
        "  return a + b"
      ],
      "execution_count": null,
      "outputs": []
    },
    {
      "cell_type": "code",
      "metadata": {
        "id": "slJTvuKcz7yC"
      },
      "source": [
        "# 모듈\n",
        "def add(a, b) :\n",
        "  return a + b\n",
        "\n",
        "def sub(a, b) :\n",
        "  return a - b"
      ],
      "execution_count": null,
      "outputs": []
    },
    {
      "cell_type": "code",
      "metadata": {
        "id": "Y-vFU44w0AB0"
      },
      "source": [
        "# 패키지\n",
        "# 모듈3, 모듈2, 모듈1"
      ],
      "execution_count": null,
      "outputs": []
    },
    {
      "cell_type": "markdown",
      "metadata": {
        "id": "rTggw7fM0FMF"
      },
      "source": [
        "#### Python 필요 패키지 설치\n",
        "- pip 명령어로 설치, 삭제 수행\n",
        "  - piplist:설치되어있는패키지목록출력\n",
        "  - pip show package-name : 해당 패키지에 대한 정보 출력\n",
        "  - pip install package-name : 해당 패키지를 설치\n",
        "  - pip install --upgrade package-name : 해당 패키지를 업그레이드(설치되어 있는 패키\n",
        "지)\n",
        "  - pip uninstall package-name : 해당 패키지를 제거\n",
        "  - pip help : pip 명령어 관련된 도움말을 출력"
      ]
    },
    {
      "cell_type": "markdown",
      "metadata": {
        "id": "s7tA7rIL1kdY"
      },
      "source": [
        "- import\n",
        "  - 모듈 내의 모든 내용을 불러 들일 때\n",
        "    - import 모듈\n",
        "    - import 모듈1, 모듈2, 모듈3 ...\n",
        "    - import 모듈명 as 별명\n",
        "  - 모듈에서 특정 함수를 불러올 때\n",
        "    - from 모듈 import 함수\n",
        "    - from 모듈 import 함수1, 함수2, 함수3 ...\n",
        "    - from 모듈 import *\n",
        "    - from 모듈 import 함수 as 별명"
      ]
    },
    {
      "cell_type": "markdown",
      "metadata": {
        "id": "gN58L0S-24xF"
      },
      "source": [
        "#### User 모듈 만들기 & 활용 (1/2)"
      ]
    },
    {
      "cell_type": "markdown",
      "metadata": {
        "id": "ma5AHyt03BG0"
      },
      "source": [
        "#### User 모듈 만들기 & 활용 (2/2)"
      ]
    },
    {
      "cell_type": "markdown",
      "metadata": {
        "id": "z7ZqvRm_3Cte"
      },
      "source": [
        "## Namespace, Scope"
      ]
    },
    {
      "cell_type": "markdown",
      "metadata": {
        "id": "ePjjuHy83F0e"
      },
      "source": [
        "#### Name Spaces & Scopes\n",
        "- Assignment staatement의 의미 : x = 11\n",
        "  - x가 name space에 존재하지 않으면 x라는 name을 create하고 11 이라는 object를 refe\n",
        "rence\n",
        "  - 존재하면, x라는 name이 새로운 object 11을 reference\n",
        "- Name space : 이름이 정의되는 공간. dir()로 현재 name space에 있는 name들, 즉 s\n",
        "ymbol table을 볼 수 있다.\n",
        "- A scope refer to a region of a program from where a namespace can be accessed wi\n",
        "thout a assigned memory"
      ]
    },
    {
      "cell_type": "code",
      "metadata": {
        "colab": {
          "base_uri": "https://localhost:8080/"
        },
        "id": "OaY_yMkQ0DZ-",
        "outputId": "e47c48f4-cf1d-4fe1-e102-8d90d45dca97"
      },
      "source": [
        "a = 'global a'\n",
        "y = 'global y'\n",
        "\n",
        "def test_namespace():\n",
        "  a = 'enclosing a'\n",
        "\n",
        "  def inner_namespace():\n",
        "    a = 'local a'\n",
        "    print(a)\n",
        "    print(y)\n",
        "\n",
        "  inner_namespace()\n",
        "\n",
        "  print(a)\n",
        "\n",
        "test_namespace()\n",
        "\n",
        "print(a)"
      ],
      "execution_count": null,
      "outputs": [
        {
          "output_type": "stream",
          "text": [
            "local a\n",
            "global y\n",
            "enclosing a\n",
            "global a\n"
          ],
          "name": "stdout"
        }
      ]
    },
    {
      "cell_type": "code",
      "metadata": {
        "colab": {
          "base_uri": "https://localhost:8080/",
          "height": 420
        },
        "id": "Ef7iEfjj2_pe",
        "outputId": "9d9b65ed-20d5-452d-b492-db19cdf6b7f4"
      },
      "source": [
        "x = 11\n",
        "\n",
        "def f():\n",
        "  print(f, X) # access global X\n",
        "\n",
        "def g():\n",
        "  X = 22 # create local name 'X' in function g\n",
        "  print(g, 'name space', dir())\n",
        "  print(g, X)\n",
        "\n",
        "def gl():\n",
        "  global X # now name X is global scope\n",
        "  X = 55 # assign to global X\n",
        "\n",
        "print(__name__, 'name spaces:', dir())\n",
        "f()\n",
        "g()\n",
        "gl(); print('after calling gl', X)"
      ],
      "execution_count": null,
      "outputs": [
        {
          "output_type": "stream",
          "text": [
            "__main__ name spaces: ['In', 'MyMajor', 'Out', '_', '_102', '_107', '_109', '_111', '_113', '_114', '_115', '_116', '_117', '_120', '_121', '__', '___', '__builtin__', '__builtins__', '__doc__', '__loader__', '__name__', '__package__', '__spec__', '_dh', '_i', '_i1', '_i10', '_i100', '_i101', '_i102', '_i103', '_i104', '_i105', '_i106', '_i107', '_i108', '_i109', '_i11', '_i110', '_i111', '_i112', '_i113', '_i114', '_i115', '_i116', '_i117', '_i118', '_i119', '_i12', '_i120', '_i121', '_i122', '_i123', '_i124', '_i125', '_i126', '_i127', '_i128', '_i129', '_i13', '_i130', '_i131', '_i132', '_i133', '_i134', '_i135', '_i14', '_i15', '_i16', '_i17', '_i18', '_i19', '_i2', '_i20', '_i21', '_i22', '_i23', '_i24', '_i25', '_i26', '_i27', '_i28', '_i29', '_i3', '_i30', '_i31', '_i32', '_i33', '_i34', '_i35', '_i36', '_i37', '_i38', '_i39', '_i4', '_i40', '_i41', '_i42', '_i43', '_i44', '_i45', '_i46', '_i47', '_i48', '_i49', '_i5', '_i50', '_i51', '_i52', '_i53', '_i54', '_i55', '_i56', '_i57', '_i58', '_i59', '_i6', '_i60', '_i61', '_i62', '_i63', '_i64', '_i65', '_i66', '_i67', '_i68', '_i69', '_i7', '_i70', '_i71', '_i72', '_i73', '_i74', '_i75', '_i76', '_i77', '_i78', '_i79', '_i8', '_i80', '_i81', '_i82', '_i83', '_i84', '_i85', '_i86', '_i87', '_i88', '_i89', '_i9', '_i90', '_i91', '_i92', '_i93', '_i94', '_i95', '_i96', '_i97', '_i98', '_i99', '_ih', '_ii', '_iii', '_oh', '_sh', 'a', 'add', 'age', 'alien', 'alien_keys', 'alien_values', 'alphabet', 'alphabets', 'b', 'bicycles', 'c', 'cars', 'copy', 'count', 'counters', 'delimiter1', 'delimiter2', 'delimiter3', 'digits', 'empty_tuple', 'exit', 'f', 'favorite_language', 'fee', 'fruits', 'g', 'get_ipython', 'get_userinfo', 'gl', 'greet_user', 'i', 'items', 'key', 'menu', 'message', 'messages', 'motorcycles', 'my_func', 'myfamily', 'name1', 'nums', 'polynomial', 'popped_motorcycle', 'quit', 'reports', 's', 'score1', 'sub', 'test_namespace', 'thisdict', 'txt', 'user_description', 'x', 'y']\n"
          ],
          "name": "stdout"
        },
        {
          "output_type": "error",
          "ename": "NameError",
          "evalue": "ignored",
          "traceback": [
            "\u001b[0;31m---------------------------------------------------------------------------\u001b[0m",
            "\u001b[0;31mNameError\u001b[0m                                 Traceback (most recent call last)",
            "\u001b[0;32m<ipython-input-135-bbd2653a1f59>\u001b[0m in \u001b[0;36m<module>\u001b[0;34m()\u001b[0m\n\u001b[1;32m     14\u001b[0m \u001b[0;34m\u001b[0m\u001b[0m\n\u001b[1;32m     15\u001b[0m \u001b[0mprint\u001b[0m\u001b[0;34m(\u001b[0m\u001b[0m__name__\u001b[0m\u001b[0;34m,\u001b[0m \u001b[0;34m'name spaces:'\u001b[0m\u001b[0;34m,\u001b[0m \u001b[0mdir\u001b[0m\u001b[0;34m(\u001b[0m\u001b[0;34m)\u001b[0m\u001b[0;34m)\u001b[0m\u001b[0;34m\u001b[0m\u001b[0;34m\u001b[0m\u001b[0m\n\u001b[0;32m---> 16\u001b[0;31m \u001b[0mf\u001b[0m\u001b[0;34m(\u001b[0m\u001b[0;34m)\u001b[0m\u001b[0;34m\u001b[0m\u001b[0;34m\u001b[0m\u001b[0m\n\u001b[0m\u001b[1;32m     17\u001b[0m \u001b[0mg\u001b[0m\u001b[0;34m(\u001b[0m\u001b[0;34m)\u001b[0m\u001b[0;34m\u001b[0m\u001b[0;34m\u001b[0m\u001b[0m\n\u001b[1;32m     18\u001b[0m \u001b[0mgl\u001b[0m\u001b[0;34m(\u001b[0m\u001b[0;34m)\u001b[0m\u001b[0;34m;\u001b[0m \u001b[0mprint\u001b[0m\u001b[0;34m(\u001b[0m\u001b[0;34m'after calling gl'\u001b[0m\u001b[0;34m,\u001b[0m \u001b[0mX\u001b[0m\u001b[0;34m)\u001b[0m\u001b[0;34m\u001b[0m\u001b[0;34m\u001b[0m\u001b[0m\n",
            "\u001b[0;32m<ipython-input-135-bbd2653a1f59>\u001b[0m in \u001b[0;36mf\u001b[0;34m()\u001b[0m\n\u001b[1;32m      2\u001b[0m \u001b[0;34m\u001b[0m\u001b[0m\n\u001b[1;32m      3\u001b[0m \u001b[0;32mdef\u001b[0m \u001b[0mf\u001b[0m\u001b[0;34m(\u001b[0m\u001b[0;34m)\u001b[0m\u001b[0;34m:\u001b[0m\u001b[0;34m\u001b[0m\u001b[0;34m\u001b[0m\u001b[0m\n\u001b[0;32m----> 4\u001b[0;31m   \u001b[0mprint\u001b[0m\u001b[0;34m(\u001b[0m\u001b[0mf\u001b[0m\u001b[0;34m,\u001b[0m \u001b[0mX\u001b[0m\u001b[0;34m)\u001b[0m \u001b[0;31m# access global X\u001b[0m\u001b[0;34m\u001b[0m\u001b[0;34m\u001b[0m\u001b[0m\n\u001b[0m\u001b[1;32m      5\u001b[0m \u001b[0;34m\u001b[0m\u001b[0m\n\u001b[1;32m      6\u001b[0m \u001b[0;32mdef\u001b[0m \u001b[0mg\u001b[0m\u001b[0;34m(\u001b[0m\u001b[0;34m)\u001b[0m\u001b[0;34m:\u001b[0m\u001b[0;34m\u001b[0m\u001b[0;34m\u001b[0m\u001b[0m\n",
            "\u001b[0;31mNameError\u001b[0m: name 'X' is not defined"
          ]
        }
      ]
    },
    {
      "cell_type": "code",
      "metadata": {
        "colab": {
          "base_uri": "https://localhost:8080/",
          "height": 251
        },
        "id": "ESzafWjX387F",
        "outputId": "f437685b-64a7-49f2-fb9e-242549835e13"
      },
      "source": [
        "def h1():\n",
        "  X = 33\n",
        "  def nested():\n",
        "    print(nested, X) # access X(33) in h1\n",
        "  nested()\n",
        "\n",
        "def h2():\n",
        "  X = 33\n",
        "  def nested():\n",
        "    nonlocal X #name X is not local but enclosing scope\n",
        "    X = 44 #(nname X in h2)\n",
        "  nested()\n",
        "  print(h2, X)\n",
        "\n",
        "h1()\n",
        "h2(); print('after calling h2', X)"
      ],
      "execution_count": null,
      "outputs": [
        {
          "output_type": "stream",
          "text": [
            "<function h1.<locals>.nested at 0x7f5a5c81ba70> 33\n",
            "<function h2 at 0x7f5a5c843680> 44\n"
          ],
          "name": "stdout"
        },
        {
          "output_type": "error",
          "ename": "NameError",
          "evalue": "ignored",
          "traceback": [
            "\u001b[0;31m---------------------------------------------------------------------------\u001b[0m",
            "\u001b[0;31mNameError\u001b[0m                                 Traceback (most recent call last)",
            "\u001b[0;32m<ipython-input-136-e8af3b2057dc>\u001b[0m in \u001b[0;36m<module>\u001b[0;34m()\u001b[0m\n\u001b[1;32m     14\u001b[0m \u001b[0;34m\u001b[0m\u001b[0m\n\u001b[1;32m     15\u001b[0m \u001b[0mh1\u001b[0m\u001b[0;34m(\u001b[0m\u001b[0;34m)\u001b[0m\u001b[0;34m\u001b[0m\u001b[0;34m\u001b[0m\u001b[0m\n\u001b[0;32m---> 16\u001b[0;31m \u001b[0mh2\u001b[0m\u001b[0;34m(\u001b[0m\u001b[0;34m)\u001b[0m\u001b[0;34m;\u001b[0m \u001b[0mprint\u001b[0m\u001b[0;34m(\u001b[0m\u001b[0;34m'after calling h2'\u001b[0m\u001b[0;34m,\u001b[0m \u001b[0mX\u001b[0m\u001b[0;34m)\u001b[0m\u001b[0;34m\u001b[0m\u001b[0;34m\u001b[0m\u001b[0m\n\u001b[0m",
            "\u001b[0;31mNameError\u001b[0m: name 'X' is not defined"
          ]
        }
      ]
    },
    {
      "cell_type": "markdown",
      "metadata": {
        "id": "J7s4PSfp4zwv"
      },
      "source": [
        "## List Comprehension, Lambda, map, filter"
      ]
    },
    {
      "cell_type": "markdown",
      "metadata": {
        "id": "K1Jtuh9u45xr"
      },
      "source": [
        "#### List Comprehension(리스트 컴플리헨션)\n",
        "- 파이썬은 다른 시퀀스나 이터러블에서 새 리스트를 만들어내는 간결한 구문을 제공\n",
        "- 이런 식을 리스트 컴프리헨션이라 한다."
      ]
    },
    {
      "cell_type": "code",
      "metadata": {
        "id": "JDoXr5dg4x_8",
        "colab": {
          "base_uri": "https://localhost:8080/"
        },
        "outputId": "d8e0610e-08d2-4051-dd38-65e6ad8a18e4"
      },
      "source": [
        "a = [1, 2, 3, 4, 5, 6, 7, 8, 9, 10]\n",
        "squares = []\n",
        "\n",
        "for x in a :\n",
        "  squares.append(x**2)\n",
        "\n",
        "print(squares)"
      ],
      "execution_count": null,
      "outputs": [
        {
          "output_type": "stream",
          "text": [
            "[1, 4, 9, 16, 25, 36, 49, 64, 81, 100]\n"
          ],
          "name": "stdout"
        }
      ]
    },
    {
      "cell_type": "code",
      "metadata": {
        "colab": {
          "base_uri": "https://localhost:8080/"
        },
        "id": "dboBUA7j55OA",
        "outputId": "831a2884-a43d-452d-8c14-db2746db13ec"
      },
      "source": [
        "squares = [x**2 for x in a]\n",
        "print(squares)"
      ],
      "execution_count": null,
      "outputs": [
        {
          "output_type": "stream",
          "text": [
            "[1, 4, 9, 16, 25, 36, 49, 64, 81, 100]\n"
          ],
          "name": "stdout"
        }
      ]
    },
    {
      "cell_type": "markdown",
      "metadata": {
        "id": "SYVXrcO35-NV"
      },
      "source": [
        "- for ... in 문의 순회기능 \n",
        "- 리스트, 딕셔너리, 셋에서 사용 가능 \n",
        "- 리스트 : \n",
        "  - [표현식 for 항목 in 순회 가능한 객체]\n",
        "- 딕셔너리 :\n",
        "  - {키표현식: 값표현식 for 항목 in 순회가능한 객체}\n",
        "- 셋 :\n",
        "  - {표현식 for 항목 in 순회 가능한 객체}"
      ]
    },
    {
      "cell_type": "code",
      "metadata": {
        "colab": {
          "base_uri": "https://localhost:8080/"
        },
        "id": "ygd3yVxT58jQ",
        "outputId": "ddf9b9d1-3ae8-4e63-c80a-bedb3ab2c98b"
      },
      "source": [
        "squares = [x**2 for x in a]\n",
        "print(squares)"
      ],
      "execution_count": null,
      "outputs": [
        {
          "output_type": "stream",
          "text": [
            "[1, 4, 9, 16, 25, 36, 49, 64, 81, 100]\n"
          ],
          "name": "stdout"
        }
      ]
    },
    {
      "cell_type": "markdown",
      "metadata": {
        "id": "WbpLSls36RA0"
      },
      "source": [
        "#### Map, Filter, lambda vs List Comprehension\n",
        "\n",
        "- map (적용시킬 함수, 적용할 요소들)"
      ]
    },
    {
      "cell_type": "code",
      "metadata": {
        "colab": {
          "base_uri": "https://localhost:8080/"
        },
        "id": "8xwhE_gG6QJ1",
        "outputId": "00c5bc07-77a3-45d4-aed1-0bd9d5069294"
      },
      "source": [
        "def add_1(n):\n",
        "  return n + 1\n",
        "\n",
        "target = [1, 2, 3, 4, 5]\n",
        "result = []\n",
        "for value in target :\n",
        "  result.append(add_1(value))\n",
        "\n",
        "print(result)"
      ],
      "execution_count": null,
      "outputs": [
        {
          "output_type": "stream",
          "text": [
            "[2, 3, 4, 5, 6]\n"
          ],
          "name": "stdout"
        }
      ]
    },
    {
      "cell_type": "code",
      "metadata": {
        "colab": {
          "base_uri": "https://localhost:8080/"
        },
        "id": "-YlBSkY56fUX",
        "outputId": "1afe8482-181c-468a-f220-47fa847b994b"
      },
      "source": [
        "def add_1(n):\n",
        "  return n+1\n",
        "\n",
        "target = [1, 2, 3, 4, 5]\n",
        "result = map(add_1, target)\n",
        "print(result) #iterator 반환\n",
        "print(list(result))"
      ],
      "execution_count": null,
      "outputs": [
        {
          "output_type": "stream",
          "text": [
            "<map object at 0x7fb8d72d6450>\n",
            "[2, 3, 4, 5, 6]\n"
          ],
          "name": "stdout"
        }
      ]
    },
    {
      "cell_type": "markdown",
      "metadata": {
        "id": "32hyQMB86pVQ"
      },
      "source": [
        "- filter(함수, 이터러블객체)"
      ]
    },
    {
      "cell_type": "code",
      "metadata": {
        "colab": {
          "base_uri": "https://localhost:8080/"
        },
        "id": "tOYWo8dk6nWH",
        "outputId": "f8b69c8f-b092-47c4-e706-6df294a5f046"
      },
      "source": [
        "target = [-1, -2, 3, 4, 5]\n",
        "\n",
        "result = []\n",
        "for x in target :\n",
        "  if x>0:\n",
        "    result.append(x)\n",
        "  else :\n",
        "    pass\n",
        "  \n",
        "print(result)"
      ],
      "execution_count": null,
      "outputs": [
        {
          "output_type": "stream",
          "text": [
            "[3, 4, 5]\n"
          ],
          "name": "stdout"
        }
      ]
    },
    {
      "cell_type": "code",
      "metadata": {
        "colab": {
          "base_uri": "https://localhost:8080/"
        },
        "id": "U0sXFurn6yIB",
        "outputId": "888c061c-9355-421a-9bff-3bc6925d5a5d"
      },
      "source": [
        "target = [-1, -2, 3, 4, 5]\n",
        "\n",
        "def func(x):\n",
        "  if x>0:\n",
        "    return x\n",
        "  else :\n",
        "    return None\n",
        "\n",
        "result = filter(func, target)\n",
        "print(result) #iterator 반환\n",
        "print(list(result))"
      ],
      "execution_count": null,
      "outputs": [
        {
          "output_type": "stream",
          "text": [
            "<filter object at 0x7fb8d72d6d10>\n",
            "[3, 4, 5]\n"
          ],
          "name": "stdout"
        }
      ]
    },
    {
      "cell_type": "markdown",
      "metadata": {
        "id": "etO1Zdw66_sN"
      },
      "source": [
        "- lambda function 의 형식은 \"lambda 인수1, 인수2, 인수2, ... : 인수를 이용한 표현식 \" --> C의 함수포인터와 기능이 같다고 보시면 됩니다. \n",
        "- 이름이 없기 때문에 메모리에 적재되었을 때, 지워줄 수 있는 방법이 없습니다. \n",
        "  - 즉, heap 영역을 사용하며, 참조카운터가 0이 되면 가비지 컬렉터 기능에 의해서 메모리에서 삭제됩니다. \n",
        "- 사용방법은 다음과 같습니다. \n",
        "\n",
        "lambda object 를 받을 변수 = lambda param1, param2, ... : expression"
      ]
    },
    {
      "cell_type": "markdown",
      "metadata": {
        "id": "dKbv8b9z7U3F"
      },
      "source": [
        "- Lambda function\n",
        "  - lambda object 를 받은 변수 = lambda param1, param2, ... : expression\n"
      ]
    },
    {
      "cell_type": "code",
      "metadata": {
        "colab": {
          "base_uri": "https://localhost:8080/"
        },
        "id": "A59AIv2m6365",
        "outputId": "bb7bfac4-d6e7-4618-e58a-66dd0db4e292"
      },
      "source": [
        "# 일반 함수\n",
        "def ftn_add(x, y):\n",
        "  return x+ y\n",
        "\n",
        "print(ftn_add(1,2))"
      ],
      "execution_count": null,
      "outputs": [
        {
          "output_type": "stream",
          "text": [
            "3\n"
          ],
          "name": "stdout"
        }
      ]
    },
    {
      "cell_type": "code",
      "metadata": {
        "colab": {
          "base_uri": "https://localhost:8080/"
        },
        "id": "NGWDDYCW7iNI",
        "outputId": "150457ff-cba9-4263-cc79-bdce0fb2324d"
      },
      "source": [
        "# lambda 함수\n",
        "# x + x for x in range(10)\n",
        "\n",
        "add = lambda x, y : x+y\n",
        "print (add(1,2))"
      ],
      "execution_count": null,
      "outputs": [
        {
          "output_type": "stream",
          "text": [
            "3\n"
          ],
          "name": "stdout"
        }
      ]
    },
    {
      "cell_type": "code",
      "metadata": {
        "colab": {
          "base_uri": "https://localhost:8080/"
        },
        "id": "z61qbC3T7wU-",
        "outputId": "168e6158-61e9-44ec-96ba-13a029e901f9"
      },
      "source": [
        "# 일반적인 코드\n",
        "a = [1, 2, 3, 4, 5, 6, 7, 8, 9, 10]\n",
        "squares = []\n",
        "\n",
        "for x in a :\n",
        "  squares.append(x**2)\n",
        "\n",
        "print(squares)"
      ],
      "execution_count": null,
      "outputs": [
        {
          "output_type": "stream",
          "text": [
            "[1, 4, 9, 16, 25, 36, 49, 64, 81, 100]\n"
          ],
          "name": "stdout"
        }
      ]
    },
    {
      "cell_type": "code",
      "metadata": {
        "colab": {
          "base_uri": "https://localhost:8080/"
        },
        "id": "FAZLMaRW78ZF",
        "outputId": "4ac8278f-3475-43c6-caa3-e6a9670c434c"
      },
      "source": [
        "# List Comprehension\n",
        "\n",
        "a = [1, 2, 3, 4, 5, 6, 7, 8, 9, 10]\n",
        "squares = [x**2 for x in a]\n",
        "print(squares)"
      ],
      "execution_count": null,
      "outputs": [
        {
          "output_type": "stream",
          "text": [
            "[1, 4, 9, 16, 25, 36, 49, 64, 81, 100]\n"
          ],
          "name": "stdout"
        }
      ]
    },
    {
      "cell_type": "code",
      "metadata": {
        "colab": {
          "base_uri": "https://localhost:8080/"
        },
        "id": "H-AeFClZ8CMg",
        "outputId": "a5b6816c-69b8-4983-f698-577aadd2ccbe"
      },
      "source": [
        "# Map & lambda\n",
        "alt = map (lambda x : x**2, a)\n",
        "print(list(alt))"
      ],
      "execution_count": null,
      "outputs": [
        {
          "output_type": "stream",
          "text": [
            "[1, 4, 9, 16, 25, 36, 49, 64, 81, 100]\n"
          ],
          "name": "stdout"
        }
      ]
    },
    {
      "cell_type": "code",
      "metadata": {
        "colab": {
          "base_uri": "https://localhost:8080/"
        },
        "id": "bddld_5-8F4t",
        "outputId": "a423b5ac-84b3-4e93-f60c-e57b19cdeb20"
      },
      "source": [
        "#List Comprehension\n",
        "\n",
        "even_squares = [x**2 for x in a if x %2==0]\n",
        "print(even_squares)"
      ],
      "execution_count": null,
      "outputs": [
        {
          "output_type": "stream",
          "text": [
            "[4, 16, 36, 64, 100]\n"
          ],
          "name": "stdout"
        }
      ]
    },
    {
      "cell_type": "code",
      "metadata": {
        "colab": {
          "base_uri": "https://localhost:8080/"
        },
        "id": "nOmwINET8Oxf",
        "outputId": "9387b491-e4b7-426c-c3d4-6e8215a6ecaf"
      },
      "source": [
        "# Map & filter\n",
        "alt = map(lambda x : x**2, filter(lambda x: x%2==0, a))\n",
        "print(alt)\n",
        "print(list(alt))"
      ],
      "execution_count": null,
      "outputs": [
        {
          "output_type": "stream",
          "text": [
            "<map object at 0x7fb8d72fb390>\n",
            "[4, 16, 36, 64, 100]\n"
          ],
          "name": "stdout"
        }
      ]
    },
    {
      "cell_type": "markdown",
      "metadata": {
        "id": "79TQEj-A8YDk"
      },
      "source": [
        "## Class"
      ]
    },
    {
      "cell_type": "markdown",
      "metadata": {
        "id": "BNABCDvb8aR9"
      },
      "source": [
        "#### 객체지향 프로그래밍\n",
        "- Object Oriented Programming : OOP\n",
        "- 모든데이터를 객체라는 기본단위로 나누고\n",
        "- 프로그래밍시 객체 간의 관계, 상호작용을 기술\n",
        "- 객체지향은 문제를 여러개의 객체 단위로 나누어 처리\n",
        "- 절차지향은 문제를 여러개의 함수로 나누어 순차적으로 호출하는 방식\n",
        "- 함수가 아닌 객체와 객체간의 관계를 설계해야 함"
      ]
    },
    {
      "cell_type": "markdown",
      "metadata": {
        "id": "A6kmgQt28jF4"
      },
      "source": [
        "#### 객체 \n",
        "- 주위에 보이는 모든 것은 일단 객체(object)\n",
        "- 사람도 객체\n",
        "- A라는 사람은 B라는 사람은 성격도 체격도 성별도 다르지만\n",
        "- 사람이라고 불리는 특징은?\n",
        "- 이런 공통적이고 특징만 추출하는 것은 추상화라고 함\n"
      ]
    },
    {
      "cell_type": "markdown",
      "metadata": {
        "id": "3Iu_toL18uih"
      },
      "source": [
        "#### 추상화\n",
        "- 학생을 추상화할시\n",
        "- 학생이 가지고 있는 속성과 행동\n",
        "- 이름, 반, 학년, 성적 - 속성\n",
        "- 등하교한다, 시험을 본다, 출석을 한다 - 행동\n",
        "- 속성과 행동을 모아놓은 것을 클래스라고 함\n",
        "- 성적과 관련된 OOP프로그램시 이 중에서 성적과 관련된 것을 모아서 클래스를 만\n",
        "들수 있음"
      ]
    },
    {
      "cell_type": "markdown",
      "metadata": {
        "id": "rbZqEjN98068"
      },
      "source": [
        "#### 인스턴스 \n",
        "- class: 클래스 선언 키워드\n",
        "- 속성: 클래스의 내부 변수\n",
        "- 메소드: 클래스의 함수"
      ]
    },
    {
      "cell_type": "code",
      "metadata": {
        "id": "yWBHvxhr8Wj2"
      },
      "source": [
        "class Student:\n",
        "  # 속성 \n",
        "  name = 'Jessy'\n",
        "  korean = 20\n",
        "  english = 30,\n",
        "  math = 40\n",
        "  # 메소드\n",
        "  def do_midterm_exam(self):\n",
        "    print('do_midterm_exam')"
      ],
      "execution_count": null,
      "outputs": []
    },
    {
      "cell_type": "markdown",
      "metadata": {
        "id": "ZYW3tlJz9M9l"
      },
      "source": [
        "- 인스턴스화: 클래스로부터 새로운 객체를 만드는 것\n",
        "- 인스턴스: 클래스로부터 만들어진 객체\n",
        "- 객체마다 다른이름, 성적을 가지게 하려면?"
      ]
    },
    {
      "cell_type": "code",
      "metadata": {
        "id": "WsPP09RI9L5j"
      },
      "source": [
        "class Student:\n",
        "  name = 'Jessy'\n",
        "  korean = 20\n",
        "  english = 30,\n",
        "  math = 40\n",
        "  \n",
        "  def do_midterm_exam(self):\n",
        "    print('do_midterm_exam')\n",
        "\n",
        "jessy = Student()\n",
        "jay = Student()\n"
      ],
      "execution_count": null,
      "outputs": []
    },
    {
      "cell_type": "markdown",
      "metadata": {
        "id": "fdhvky-O9X6U"
      },
      "source": [
        "#### 초기화 \n",
        "\n",
        "- 개별 인스턴스마다 각자 다른값을 갖게 하려면 초기화가 필요"
      ]
    },
    {
      "cell_type": "code",
      "metadata": {
        "colab": {
          "base_uri": "https://localhost:8080/",
          "height": 195
        },
        "id": "oEy9gTrP9W9W",
        "outputId": "5d2b256c-0943-4aee-dbaa-394d7da5b795"
      },
      "source": [
        "jessy = Student('jessy', korean=90, english=30, math=40)\n",
        "jay = Student('jay', korean=20, english=30, math=40)\n"
      ],
      "execution_count": null,
      "outputs": [
        {
          "output_type": "error",
          "ename": "TypeError",
          "evalue": "ignored",
          "traceback": [
            "\u001b[0;31m---------------------------------------------------------------------------\u001b[0m",
            "\u001b[0;31mTypeError\u001b[0m                                 Traceback (most recent call last)",
            "\u001b[0;32m<ipython-input-20-3a139c579518>\u001b[0m in \u001b[0;36m<module>\u001b[0;34m()\u001b[0m\n\u001b[0;32m----> 1\u001b[0;31m \u001b[0mjessy\u001b[0m \u001b[0;34m=\u001b[0m \u001b[0mStudent\u001b[0m\u001b[0;34m(\u001b[0m\u001b[0;34m'jessy'\u001b[0m\u001b[0;34m,\u001b[0m \u001b[0mkorean\u001b[0m\u001b[0;34m=\u001b[0m\u001b[0;36m90\u001b[0m\u001b[0;34m,\u001b[0m \u001b[0menglish\u001b[0m\u001b[0;34m=\u001b[0m\u001b[0;36m30\u001b[0m\u001b[0;34m,\u001b[0m \u001b[0mmath\u001b[0m\u001b[0;34m=\u001b[0m\u001b[0;36m40\u001b[0m\u001b[0;34m)\u001b[0m\u001b[0;34m\u001b[0m\u001b[0;34m\u001b[0m\u001b[0m\n\u001b[0m\u001b[1;32m      2\u001b[0m \u001b[0mjay\u001b[0m \u001b[0;34m=\u001b[0m \u001b[0mStudent\u001b[0m\u001b[0;34m(\u001b[0m\u001b[0;34m'jay'\u001b[0m\u001b[0;34m,\u001b[0m \u001b[0mkorean\u001b[0m\u001b[0;34m=\u001b[0m\u001b[0;36m20\u001b[0m\u001b[0;34m,\u001b[0m \u001b[0menglish\u001b[0m\u001b[0;34m=\u001b[0m\u001b[0;36m30\u001b[0m\u001b[0;34m,\u001b[0m \u001b[0mmath\u001b[0m\u001b[0;34m=\u001b[0m\u001b[0;36m40\u001b[0m\u001b[0;34m)\u001b[0m\u001b[0;34m\u001b[0m\u001b[0;34m\u001b[0m\u001b[0m\n",
            "\u001b[0;31mTypeError\u001b[0m: Student() takes no arguments"
          ]
        }
      ]
    },
    {
      "cell_type": "markdown",
      "metadata": {
        "id": "eanKw9qn9kBD"
      },
      "source": [
        "#### 초기화 \n",
        "- 초기하 메서드 __init__() 사용"
      ]
    },
    {
      "cell_type": "code",
      "metadata": {
        "colab": {
          "base_uri": "https://localhost:8080/",
          "height": 251
        },
        "id": "EwLJPtWi9f6c",
        "outputId": "962668ff-119a-4b40-80f6-eab70d501ee7"
      },
      "source": [
        "jessy = Student('jessy', korean=90, english=30, math=40)\n",
        "jay = Student('jay', korean=20, english=30, math=40)\n",
        "\n",
        "class Student:\n",
        "  def __init__(self, name, korean, english, math):\n",
        "    self.name = name\n",
        "    self.korean = korean\n",
        "    self.english = english\n",
        "    self.math = math\n",
        "  \n",
        "  def do_midterm_exam(self):\n",
        "    print('do_midterm_exam')"
      ],
      "execution_count": null,
      "outputs": [
        {
          "output_type": "error",
          "ename": "TypeError",
          "evalue": "ignored",
          "traceback": [
            "\u001b[0;31m---------------------------------------------------------------------------\u001b[0m",
            "\u001b[0;31mTypeError\u001b[0m                                 Traceback (most recent call last)",
            "\u001b[0;32m<ipython-input-21-b017529ed415>\u001b[0m in \u001b[0;36m<module>\u001b[0;34m()\u001b[0m\n\u001b[0;32m----> 1\u001b[0;31m \u001b[0mjessy\u001b[0m \u001b[0;34m=\u001b[0m \u001b[0mStudent\u001b[0m\u001b[0;34m(\u001b[0m\u001b[0;34m'jessy'\u001b[0m\u001b[0;34m,\u001b[0m \u001b[0mkorean\u001b[0m\u001b[0;34m=\u001b[0m\u001b[0;36m90\u001b[0m\u001b[0;34m,\u001b[0m \u001b[0menglish\u001b[0m\u001b[0;34m=\u001b[0m\u001b[0;36m30\u001b[0m\u001b[0;34m,\u001b[0m \u001b[0mmath\u001b[0m\u001b[0;34m=\u001b[0m\u001b[0;36m40\u001b[0m\u001b[0;34m)\u001b[0m\u001b[0;34m\u001b[0m\u001b[0;34m\u001b[0m\u001b[0m\n\u001b[0m\u001b[1;32m      2\u001b[0m \u001b[0mjay\u001b[0m \u001b[0;34m=\u001b[0m \u001b[0mStudent\u001b[0m\u001b[0;34m(\u001b[0m\u001b[0;34m'jay'\u001b[0m\u001b[0;34m,\u001b[0m \u001b[0mkorean\u001b[0m\u001b[0;34m=\u001b[0m\u001b[0;36m20\u001b[0m\u001b[0;34m,\u001b[0m \u001b[0menglish\u001b[0m\u001b[0;34m=\u001b[0m\u001b[0;36m30\u001b[0m\u001b[0;34m,\u001b[0m \u001b[0mmath\u001b[0m\u001b[0;34m=\u001b[0m\u001b[0;36m40\u001b[0m\u001b[0;34m)\u001b[0m\u001b[0;34m\u001b[0m\u001b[0;34m\u001b[0m\u001b[0m\n\u001b[1;32m      3\u001b[0m \u001b[0;34m\u001b[0m\u001b[0m\n\u001b[1;32m      4\u001b[0m \u001b[0;32mclass\u001b[0m \u001b[0mStudent\u001b[0m\u001b[0;34m:\u001b[0m\u001b[0;34m\u001b[0m\u001b[0;34m\u001b[0m\u001b[0m\n\u001b[1;32m      5\u001b[0m   \u001b[0;32mdef\u001b[0m \u001b[0m__init__\u001b[0m\u001b[0;34m(\u001b[0m\u001b[0mself\u001b[0m\u001b[0;34m,\u001b[0m \u001b[0mname\u001b[0m\u001b[0;34m,\u001b[0m \u001b[0mkorean\u001b[0m\u001b[0;34m,\u001b[0m \u001b[0menglish\u001b[0m\u001b[0;34m,\u001b[0m \u001b[0mmath\u001b[0m\u001b[0;34m)\u001b[0m\u001b[0;34m:\u001b[0m\u001b[0;34m\u001b[0m\u001b[0;34m\u001b[0m\u001b[0m\n",
            "\u001b[0;31mTypeError\u001b[0m: Student() takes no arguments"
          ]
        }
      ]
    },
    {
      "cell_type": "code",
      "metadata": {
        "colab": {
          "base_uri": "https://localhost:8080/"
        },
        "id": "XkZ4t7Os9u9l",
        "outputId": "42e02f96-5eec-49da-a2be-2a857e00412f"
      },
      "source": [
        "# 초기화 메서드 __init__() \n",
        "# 인스턴스 생성시 자동 호출됨\n",
        "class Student:\n",
        "  def __init__(self):\n",
        "    print('init')\n",
        "\n",
        "  def method1(self):\n",
        "    print('method1')\n",
        "student1 = Student()\n"
      ],
      "execution_count": null,
      "outputs": [
        {
          "output_type": "stream",
          "text": [
            "init\n"
          ],
          "name": "stdout"
        }
      ]
    },
    {
      "cell_type": "markdown",
      "metadata": {
        "id": "Yzk1kMl2BHtF"
      },
      "source": [
        "#### self 이해하기\n",
        "- 초기화 메서드 __init__() 선언시 첫번째 파라미터\n",
        "- 함수내 메소드 선언시 첫번째 파라미터\n",
        "- 인스턴스 자신을 가르킴\n",
        "- 메소드, __init__() 호출시 자동 바인딩됨"
      ]
    },
    {
      "cell_type": "code",
      "metadata": {
        "colab": {
          "base_uri": "https://localhost:8080/"
        },
        "id": "TQrj9F5UBGt2",
        "outputId": "6bad4701-ee7c-4891-ae99-18a7af476c4e"
      },
      "source": [
        "class Student:\n",
        "  def __init__(self):\n",
        "    print('init', id(self))\n",
        "  \n",
        "  def method1(self):\n",
        "    print('method1', id(self))\n",
        "\n",
        "student1 = Student()\n",
        "student1.method1()\n",
        "print('id', id(student1))"
      ],
      "execution_count": null,
      "outputs": [
        {
          "output_type": "stream",
          "text": [
            "init 140431860586832\n",
            "method1 140431860586832\n",
            "id 140431860586832\n"
          ],
          "name": "stdout"
        }
      ]
    },
    {
      "cell_type": "markdown",
      "metadata": {
        "id": "DaLxagbeBSn8"
      },
      "source": [
        "#### 인스턴스 출력\n",
        "- 인스턴스 출력메소드__str__() \n",
        "- 인스턴스 출력시 실행됨"
      ]
    },
    {
      "cell_type": "code",
      "metadata": {
        "colab": {
          "base_uri": "https://localhost:8080/"
        },
        "id": "Du_tk9nDBQ4S",
        "outputId": "f66140d3-2623-4ad6-ae60-7ff30ad3664c"
      },
      "source": [
        "class Student:\n",
        "  def __init__(self, name):\n",
        "    self.name = name\n",
        "    print('init', id(self))\n",
        "  \n",
        "  def method1(self):\n",
        "    print('method1', id(self))\n",
        "    \n",
        "  def __str__(self):\n",
        "    return f'name: {self.name}'\n",
        "    \n",
        "student1 = Student('Jessy')\n",
        "print(student1)"
      ],
      "execution_count": null,
      "outputs": [
        {
          "output_type": "stream",
          "text": [
            "init 140431860584784\n",
            "name: Jessy\n"
          ],
          "name": "stdout"
        }
      ]
    },
    {
      "cell_type": "markdown",
      "metadata": {
        "id": "x8GAFigeBuGD"
      },
      "source": [
        "#### 학생 성적 프로그램\n",
        "- 학생들의 점수 총점, 평균과 전체 총점, 평균을 계산하는 프로그램\n",
        "- 학생 Student클래스 생성하기\n",
        "- 생성시 이름, 국어, 영어, 수학점수 받기\n",
        "- 학생 3명 인스턴스 만들기"
      ]
    },
    {
      "cell_type": "code",
      "metadata": {
        "id": "gdvNi0mCBs-q"
      },
      "source": [
        "class Student:\n",
        "  def __init__(self, name, korean, english, math):\n",
        "    self.name = name\n",
        "    self.korean = korean\n",
        "    self.english = english\n",
        "    self.math = math\n",
        "\n",
        "jessy = Student('jessy', 90,60,90)\n",
        "beth = Student('beth', 90,90,90)\n",
        "jay = Student('jay', 90,60,60)\n"
      ],
      "execution_count": null,
      "outputs": []
    },
    {
      "cell_type": "markdown",
      "metadata": {
        "id": "lyFdJ1z6B9_L"
      },
      "source": [
        "- 학생들의 점수 총점, 평균과 전체 총점, 평균을 계산하는 프로그램\n",
        "- 학생 Student클래스 생성하기\n",
        "- 생성시 이름, 국어, 영어, 수학점수 받기\n",
        "- 학생 3명 인스턴스 만들기\n",
        "- get_sum() 메서드 만들기 : 3과목 총점 반환\n",
        "- get_avg() 메서드 만들기 : 3과목 평균 반환"
      ]
    },
    {
      "cell_type": "code",
      "metadata": {
        "id": "w7yqGseDB30x"
      },
      "source": [
        "class Student:\n",
        "  def __init__(self, name, korean, english, math):\n",
        "    self.name = name\n",
        "    self.korean = korean\n",
        "    self.english = english\n",
        "    self.math = math\n",
        "  \n",
        "  def get_sum(self):\n",
        "    return self.korean + self.english + self.math\n",
        "  \n",
        "  def get_avg(self):\n",
        "    return self.get_sum() / 3.\n"
      ],
      "execution_count": null,
      "outputs": []
    },
    {
      "cell_type": "markdown",
      "metadata": {
        "id": "wBx9oSbsCMJg"
      },
      "source": [
        "- 학생들의 점수 총점, 평균과 전체 총점, 평균을 계산하는 프로그램 \n",
        "- 학생 Student클래스 생성하기 \n",
        "- 생성시 이름, 국어, 영어, 수학점수 받기 - get_sum() 메서드 만들기 \n",
        "- get_avg() 메서드 만들기 \n",
        "- 학생 3명 인스턴스 만들기 \n",
        "- 각 이름,총점 출력 \n",
        "- 각 이름,평균 출력"
      ]
    },
    {
      "cell_type": "code",
      "metadata": {
        "colab": {
          "base_uri": "https://localhost:8080/"
        },
        "id": "egVmtnl1CHc3",
        "outputId": "f4391956-c213-45c6-efe1-f85cc03485a5"
      },
      "source": [
        "class Student:\n",
        "  def __init__(self, name, korean, english, math):\n",
        "    self.name = name\n",
        "    self.korean = korean\n",
        "    self.english = english\n",
        "    self.math = math\n",
        "    \n",
        "  def get_sum(self):\n",
        "    return self.korean + self.english + self.math\n",
        "    \n",
        "  def get_avg(self):\n",
        "    return self.get_sum() / 3.\n",
        "\n",
        "jessy = Student('jessy', 90,60,90)\n",
        "beth = Student('beth', 90,90,90)\n",
        "jay = Student('jay', 90,60,60)\n",
        "\n",
        "for student in (jessy, beth, jay):\n",
        "  print(student.name, student.get_sum())\n",
        "  print(student.name, student.get_avg())"
      ],
      "execution_count": null,
      "outputs": [
        {
          "output_type": "stream",
          "text": [
            "jessy 240\n",
            "jessy 80.0\n",
            "beth 270\n",
            "beth 90.0\n",
            "jay 210\n",
            "jay 70.0\n"
          ],
          "name": "stdout"
        }
      ]
    },
    {
      "cell_type": "markdown",
      "metadata": {
        "id": "0ycIrftQCk0k"
      },
      "source": [
        "- 3학생의 전체 합산 점수, 전체 평균 구하기\n",
        "- 앞의 Student클래스 이용"
      ]
    },
    {
      "cell_type": "code",
      "metadata": {
        "id": "FR6JI-4OCJ1X"
      },
      "source": [
        "jessy = Student('jessy', 90,60,90)\n",
        "beth = Student('beth', 90,90,90)\n",
        "jay = Student('jay', 90,60,60)\n"
      ],
      "execution_count": null,
      "outputs": []
    },
    {
      "cell_type": "markdown",
      "metadata": {
        "id": "CaQoS6-ECzvt"
      },
      "source": [
        "- 3학생 합산 점수, 합산 평균 구하기"
      ]
    },
    {
      "cell_type": "code",
      "metadata": {
        "colab": {
          "base_uri": "https://localhost:8080/"
        },
        "id": "KY1Es9VvCwcf",
        "outputId": "ce748dea-4cea-4647-8b96-edd6b48e8ef2"
      },
      "source": [
        "# 3명 학생의 전체 합산 점수, 전체 평균\n",
        "students = (jessy, beth, jay)\n",
        "scores = [student.get_sum() for student in students]\n",
        "print('total', sum(scores))\n",
        "print('average', sum(scores) / len(students))"
      ],
      "execution_count": null,
      "outputs": [
        {
          "output_type": "stream",
          "text": [
            "total 720\n",
            "average 240.0\n"
          ],
          "name": "stdout"
        }
      ]
    },
    {
      "cell_type": "markdown",
      "metadata": {
        "id": "mNXwrsX2C-O5"
      },
      "source": [
        "### 상속 \n",
        "\n",
        "- 기존 클래스에서 일부를 추가하거나 변경하여 새로운 클래스 생성\n",
        "- 코드 재사용성을 높임\n",
        "- 학교라는 공간 - 학생, 선생님 클래스 생성"
      ]
    },
    {
      "cell_type": "code",
      "metadata": {
        "id": "dY1MpqiuC30N"
      },
      "source": [
        "class Student:\n",
        "  def __init__(self, name, class_num):\n",
        "    self.name = name\n",
        "    self.class_num = class_num\n",
        "    \n",
        "  def get_role(self):\n",
        "    return 'member'\n",
        "    \n",
        "  def __str__(self):\n",
        "    return f'이름은 {self.name}, 반은{self.class_num}'\n",
        "\n",
        "class Teacher:\n",
        "  def __init__(self, name, class_num):\n",
        "    self.name = name\n",
        "    self.class_num = class_num\n",
        "    \n",
        "  def get_role(self):\n",
        "    return 'member'\n",
        "    \n",
        "  def __str__(self):\n",
        "    return f'이름은 {self.name}, 반은{self.class_num}'\n"
      ],
      "execution_count": null,
      "outputs": []
    },
    {
      "cell_type": "markdown",
      "metadata": {
        "id": "yDGZTimcDPHx"
      },
      "source": [
        "- Student, Teacher 클래스 동일\n",
        "- 같은 코드를 2번 반복하여 쓰게 됨\n",
        "- 속성으로 학년을 추가하게 되면?\n",
        "- 중복되는 것을 상위클래스로 만들고 상속받기\n",
        "- 상속받는 방법 : 클래스 생성시 상속할 클래스 명시"
      ]
    },
    {
      "cell_type": "code",
      "metadata": {
        "colab": {
          "base_uri": "https://localhost:8080/"
        },
        "id": "63fYx8-3DOHm",
        "outputId": "288320b6-4280-4ac8-f7f0-d6482ee569d3"
      },
      "source": [
        "class Member:\n",
        "  def __init__(self, name, class_num):\n",
        "    self.name = name\n",
        "    self.class_num = class_num\n",
        "    \n",
        "  def get_role(self):\n",
        "    return 'member'\n",
        "    \n",
        "  def __str__(self):\n",
        "    return f'이름은 {self.name}, 반은{self.class_num}'\n",
        "  \n",
        "class Student(Member):\n",
        "  pass\n",
        "  \n",
        "class Teacher(Member):\n",
        "  pass\n",
        "\n",
        "student1 = Student('Jay', 1)\n",
        "teacher1 = Teacher('Merry', 1)\n",
        "\n",
        "print(student1)\n",
        "print(teacher1)\n"
      ],
      "execution_count": null,
      "outputs": [
        {
          "output_type": "stream",
          "text": [
            "이름은 Jay, 반은1\n",
            "이름은 Merry, 반은1\n"
          ],
          "name": "stdout"
        }
      ]
    },
    {
      "cell_type": "markdown",
      "metadata": {
        "id": "jLSlllyID48V"
      },
      "source": [
        "- issubclass() : 클래스가 특정 클래스에서 파생되었는지"
      ]
    },
    {
      "cell_type": "code",
      "metadata": {
        "colab": {
          "base_uri": "https://localhost:8080/"
        },
        "id": "rbiar1clD0e3",
        "outputId": "43294c42-8807-4c4c-dd28-1322dfc5206b"
      },
      "source": [
        "#다른 클래스를 상속했는지 확인\n",
        "print(issubclass(Student, Member)) #True\n",
        "print(issubclass(Teacher, Member)) #True"
      ],
      "execution_count": null,
      "outputs": [
        {
          "output_type": "stream",
          "text": [
            "True\n",
            "True\n"
          ],
          "name": "stdout"
        }
      ]
    },
    {
      "cell_type": "markdown",
      "metadata": {
        "id": "my0NW3A7D5rV"
      },
      "source": [
        "- isinstance(): 인스턴스가 특정 클래스의 인스턴스 인지 확인\n"
      ]
    },
    {
      "cell_type": "code",
      "metadata": {
        "colab": {
          "base_uri": "https://localhost:8080/"
        },
        "id": "ID0f2xTzD6BB",
        "outputId": "9f5407c4-39f2-4a40-9aec-db236e58cb91"
      },
      "source": [
        "#특정 클래스의 인스턴스인지 확인\n",
        "print(isinstance(student1, Student)) #True\n",
        "print(isinstance(student1, Teacher)) #False\n",
        "print(isinstance(student1, Member)) #True"
      ],
      "execution_count": null,
      "outputs": [
        {
          "output_type": "stream",
          "text": [
            "True\n",
            "False\n",
            "True\n"
          ],
          "name": "stdout"
        }
      ]
    },
    {
      "cell_type": "markdown",
      "metadata": {
        "id": "8eUI4jLoELdC"
      },
      "source": [
        "Member : super, parent 클래스\n",
        "Student, Teacher : sub, child 클래스"
      ]
    },
    {
      "cell_type": "markdown",
      "metadata": {
        "id": "Z0GfpKv9ERZb"
      },
      "source": [
        "#### 상속 : 오버라이드\n",
        "\n",
        "- 상속받은 메서드를 수정"
      ]
    },
    {
      "cell_type": "code",
      "metadata": {
        "id": "kb76Z_NtEJIr"
      },
      "source": [
        "class Member:\n",
        "  def __init__(self, name, class_num):\n",
        "    self.name = name\n",
        "    self.class_num = class_num\n",
        "    \n",
        "  def get_role(self):\n",
        "    return 'member'\n",
        "    \n",
        "  def __str__(self):\n",
        "    return f'이름은 {self.name}, 반은{self.class_num}'\n",
        "  \n",
        "class Student(Member):\n",
        "  def get_role(self):\n",
        "    return 'Student'\n",
        "  \n",
        "class Teacher(Member):\n",
        "  def get_role(self):\n",
        "    return 'Teacher'\n",
        "\n",
        "student1 = Student('Jay', 1)\n",
        "teacher1 = Teacher('Merry', 1)"
      ],
      "execution_count": null,
      "outputs": []
    },
    {
      "cell_type": "markdown",
      "metadata": {
        "id": "tYKV-PGTE5Xd"
      },
      "source": [
        "#### 상속 : 메서드 추가\n",
        "\n",
        "- 상속받은 클래스는 메서드 추가 기능"
      ]
    },
    {
      "cell_type": "code",
      "metadata": {
        "colab": {
          "base_uri": "https://localhost:8080/",
          "height": 251
        },
        "id": "XGTiWoxRElmk",
        "outputId": "45e08903-1118-455d-dce7-029ae3bb0d9b"
      },
      "source": [
        "class Member:\n",
        "  def __init__(self, name, class_num):\n",
        "    self.name = name\n",
        "    self.class_num = class_num\n",
        "    \n",
        "  def get_role(self):\n",
        "    return 'member'\n",
        "    \n",
        "  def __str__(self):\n",
        "    return f'이름은 {self.name}, 반은{self.class_num}'\n",
        "  \n",
        "class Student(Member):\n",
        "  def get_role(self):\n",
        "    return 'Student'\n",
        "\n",
        "  def study(self):\n",
        "    print('공부합니다')\n",
        "  \n",
        "class Teacher(Member):\n",
        "  def get_role(self):\n",
        "    return 'Teacher'\n",
        "\n",
        "student1 = Student('Jay', 1)\n",
        "teacher1 = Teacher('Merry', 1)\n",
        "\n",
        "print(student1.study())\n",
        "print(teacher1.study())"
      ],
      "execution_count": null,
      "outputs": [
        {
          "output_type": "stream",
          "text": [
            "공부합니다\n",
            "None\n"
          ],
          "name": "stdout"
        },
        {
          "output_type": "error",
          "ename": "AttributeError",
          "evalue": "ignored",
          "traceback": [
            "\u001b[0;31m---------------------------------------------------------------------------\u001b[0m",
            "\u001b[0;31mAttributeError\u001b[0m                            Traceback (most recent call last)",
            "\u001b[0;32m<ipython-input-41-1b5687fc82ce>\u001b[0m in \u001b[0;36m<module>\u001b[0;34m()\u001b[0m\n\u001b[1;32m     25\u001b[0m \u001b[0;34m\u001b[0m\u001b[0m\n\u001b[1;32m     26\u001b[0m \u001b[0mprint\u001b[0m\u001b[0;34m(\u001b[0m\u001b[0mstudent1\u001b[0m\u001b[0;34m.\u001b[0m\u001b[0mstudy\u001b[0m\u001b[0;34m(\u001b[0m\u001b[0;34m)\u001b[0m\u001b[0;34m)\u001b[0m\u001b[0;34m\u001b[0m\u001b[0;34m\u001b[0m\u001b[0m\n\u001b[0;32m---> 27\u001b[0;31m \u001b[0mprint\u001b[0m\u001b[0;34m(\u001b[0m\u001b[0mteacher1\u001b[0m\u001b[0;34m.\u001b[0m\u001b[0mstudy\u001b[0m\u001b[0;34m(\u001b[0m\u001b[0;34m)\u001b[0m\u001b[0;34m)\u001b[0m\u001b[0;34m\u001b[0m\u001b[0;34m\u001b[0m\u001b[0m\n\u001b[0m",
            "\u001b[0;31mAttributeError\u001b[0m: 'Teacher' object has no attribute 'study'"
          ]
        }
      ]
    },
    {
      "cell_type": "markdown",
      "metadata": {
        "id": "erDABaKaFHcV"
      },
      "source": [
        "#### 상속 : 속성 추가\n",
        "- 상속받은 클래스는 메서드 추가 가능\n",
        "- __init__() 메서드에서 super().__init__() 호출 필요"
      ]
    },
    {
      "cell_type": "code",
      "metadata": {
        "colab": {
          "base_uri": "https://localhost:8080/",
          "height": 232
        },
        "id": "qrxj6HDcFGI8",
        "outputId": "a61bce8b-bac2-4211-8825-56b469802bb9"
      },
      "source": [
        "class Member:\n",
        "  def __init__(self, name, class_num):\n",
        "    self.name = name\n",
        "    self.class_num = class_num\n",
        "    \n",
        "  def get_role(self):\n",
        "    return 'member'\n",
        "    \n",
        "  def __str__(self):\n",
        "    return f'이름은 {self.name}, 반은{self.class_num}'\n",
        "  \n",
        "class Student(Member):\n",
        "  def __init__(self, name, class_num, score):\n",
        "    super().__init__(name, class_num)\n",
        "    self.score = score\n",
        "\n",
        "  def get_role(self):\n",
        "    return 'Student'\n",
        "\n",
        "  def study(self):\n",
        "    print('공부합니다')\n",
        "  \n",
        "class Teacher(Member):\n",
        "  def get_role(self):\n",
        "    return 'Teacher'\n",
        "\n",
        "student1 = Student('Jay', 1, 90)\n",
        "teacher1 = Teacher('Merry', 1)\n",
        "\n",
        "print(student1.score)\n",
        "print(teacher1.score)"
      ],
      "execution_count": null,
      "outputs": [
        {
          "output_type": "stream",
          "text": [
            "90\n"
          ],
          "name": "stdout"
        },
        {
          "output_type": "error",
          "ename": "AttributeError",
          "evalue": "ignored",
          "traceback": [
            "\u001b[0;31m---------------------------------------------------------------------------\u001b[0m",
            "\u001b[0;31mAttributeError\u001b[0m                            Traceback (most recent call last)",
            "\u001b[0;32m<ipython-input-43-4d288b8d45e4>\u001b[0m in \u001b[0;36m<module>\u001b[0;34m()\u001b[0m\n\u001b[1;32m     29\u001b[0m \u001b[0;34m\u001b[0m\u001b[0m\n\u001b[1;32m     30\u001b[0m \u001b[0mprint\u001b[0m\u001b[0;34m(\u001b[0m\u001b[0mstudent1\u001b[0m\u001b[0;34m.\u001b[0m\u001b[0mscore\u001b[0m\u001b[0;34m)\u001b[0m\u001b[0;34m\u001b[0m\u001b[0;34m\u001b[0m\u001b[0m\n\u001b[0;32m---> 31\u001b[0;31m \u001b[0mprint\u001b[0m\u001b[0;34m(\u001b[0m\u001b[0mteacher1\u001b[0m\u001b[0;34m.\u001b[0m\u001b[0mscore\u001b[0m\u001b[0;34m)\u001b[0m\u001b[0;34m\u001b[0m\u001b[0;34m\u001b[0m\u001b[0m\n\u001b[0m",
            "\u001b[0;31mAttributeError\u001b[0m: 'Teacher' object has no attribute 'score'"
          ]
        }
      ]
    },
    {
      "cell_type": "markdown",
      "metadata": {
        "id": "jpOJJx6tFhOk"
      },
      "source": [
        "#### 다형성 \n",
        "- 다형성을 느슨하게 구현\n",
        "- 클래스에 상관없이 같은 동작을 다른 객체에 적용 가능\n",
        "- obj 파라미터에 대응될 인수로 들어갈 수 있는 객체는?"
      ]
    },
    {
      "cell_type": "code",
      "metadata": {
        "id": "UFZthTlQFa6g"
      },
      "source": [
        "def who_says(obj):\n",
        "  obj.say()\n"
      ],
      "execution_count": null,
      "outputs": []
    },
    {
      "cell_type": "code",
      "metadata": {
        "colab": {
          "base_uri": "https://localhost:8080/"
        },
        "id": "ppjurOqSF_lY",
        "outputId": "f27a049e-ed08-4b58-af85-14fa34f95b62"
      },
      "source": [
        "class Animal:\n",
        "  def eat(self):\n",
        "    print('eat')\n",
        "    \n",
        "  def say(self):\n",
        "    print('animal')\n",
        "    \n",
        "class Cat(Animal):\n",
        "  def say(self):\n",
        "    print('cat')\n",
        "\n",
        "class Dog(Animal):\n",
        "  def say(self):\n",
        "    print('dog')\n",
        "  \n",
        "  def who_says(obj):\n",
        "    obj.say()\n",
        "\n",
        "animal = Animal()\n",
        "cat = Cat()\n",
        "dog = Dog()\n",
        "\n",
        "who_says(animal)\n",
        "who_says(cat)\n",
        "who_says(dog)\n"
      ],
      "execution_count": null,
      "outputs": [
        {
          "output_type": "stream",
          "text": [
            "animal\n",
            "cat\n",
            "dog\n"
          ],
          "name": "stdout"
        }
      ]
    },
    {
      "cell_type": "markdown",
      "metadata": {
        "id": "gJ0m10uwGOls"
      },
      "source": [
        "#### 컴포지션 \n",
        "- 상속 : 자식 is a 부모 \n",
        "- 컴포지션: X has Y \n",
        "- 학교는 ‘’을 소유한다 \n",
        "- 선생님과 학생은 학교에 소속된다"
      ]
    },
    {
      "cell_type": "code",
      "metadata": {
        "id": "Jm8MrHslGJYO"
      },
      "source": [
        "class Member:\n",
        "  def __init__(self, name, class_num):\n",
        "    self.name = name\n",
        "    self.class_num = class_num\n",
        "\n",
        "  def get_role(self):\n",
        "    return 'member'\n",
        "    \n",
        "  def __str__(self):\n",
        "    return f'이름은{self.name}, 반은{self.class_num}'\n",
        "\n",
        "class Student(Member):\n",
        "  def study(self):\n",
        "    print(f'{self.name} 공부중')\n",
        "    \n",
        "class Teacher(Member):\n",
        "  def lecture(self):\n",
        "    print(f'{self.name} 강의중')\n"
      ],
      "execution_count": null,
      "outputs": []
    },
    {
      "cell_type": "code",
      "metadata": {
        "colab": {
          "base_uri": "https://localhost:8080/"
        },
        "id": "JwhLP3_wGl2A",
        "outputId": "f2a1c992-19af-4a86-8f3b-3ad5802f86e7"
      },
      "source": [
        "class School:\n",
        "  def __init__(self):\n",
        "    self.teachers = []\n",
        "    self.students = []\n",
        "  \n",
        "  def register_teacher(self, teacher):\n",
        "    self.teachers.append(teacher)\n",
        "  \n",
        "  def register_student(self, student):\n",
        "    self.students.append(student)\n",
        "\n",
        "student1 = Student('jay1', 1)\n",
        "student2 = Student('kim1', 1)\n",
        "\n",
        "teacher1 = Teacher('T1', 1)\n",
        "teacher2 = Teacher('T2', 2)\n",
        "\n",
        "school = School()\n",
        "school.register_student(student1)\n",
        "school.register_student(student2)\n",
        "\n",
        "school.register_teacher(teacher1)\n",
        "school.register_teacher(teacher2)\n",
        "\n",
        "print(school.students)\n",
        "print(school.teachers)\n"
      ],
      "execution_count": null,
      "outputs": [
        {
          "output_type": "stream",
          "text": [
            "[<__main__.Student object at 0x7fb8d7235490>, <__main__.Student object at 0x7fb8d7441f10>]\n",
            "[<__main__.Teacher object at 0x7fb8d7406790>, <__main__.Teacher object at 0x7fb8d7402190>]\n"
          ],
          "name": "stdout"
        }
      ]
    },
    {
      "cell_type": "markdown",
      "metadata": {
        "id": "QQHerz6_tkAi"
      },
      "source": [
        "## Iterable object"
      ]
    },
    {
      "cell_type": "markdown",
      "metadata": {
        "id": "1dBmN2tlG7hJ"
      },
      "source": [
        "\n",
        "\n",
        "- sequence : range, list, tuple, str \n",
        "- collection: dictionary, set"
      ]
    },
    {
      "cell_type": "markdown",
      "metadata": {
        "id": "T69zU6lrHEFu"
      },
      "source": [
        "#### iterable\n",
        "- __iter__메서드를 제공하는 클래스의 ABC(추상클래스).\n",
        "- 객체가 이터러블인지를 확인 : iter(obj)를 호출하는 것\n",
        "- iter()함수는 __iter__메서드가 구현되어 있는지 체크함(TypeError)\n",
        "- iter()호출시 이터러블 객체의 __iter__호출\n",
        "- __iter__메서드를 구현해야 하며 iterator를 반환해야 함"
      ]
    },
    {
      "cell_type": "code",
      "metadata": {
        "colab": {
          "base_uri": "https://localhost:8080/",
          "height": 139
        },
        "id": "S8a0dke2GusV",
        "outputId": "438ebfc6-2fed-4738-ce67-b3e1def17100"
      },
      "source": [
        "class collections.abc.Iterable\n",
        "# __iter__() 메서드를 제공하는 클래스의 ABC."
      ],
      "execution_count": null,
      "outputs": [
        {
          "output_type": "error",
          "ename": "SyntaxError",
          "evalue": "ignored",
          "traceback": [
            "\u001b[0;36m  File \u001b[0;32m\"<ipython-input-49-7b5cd04e1b05>\"\u001b[0;36m, line \u001b[0;32m1\u001b[0m\n\u001b[0;31m    class collections.abc.Iterable\u001b[0m\n\u001b[0m                     ^\u001b[0m\n\u001b[0;31mSyntaxError\u001b[0m\u001b[0;31m:\u001b[0m invalid syntax\n"
          ]
        }
      ]
    },
    {
      "cell_type": "markdown",
      "metadata": {
        "id": "ezVFKD4WHWLc"
      },
      "source": [
        "- __iter__  메서드가 존재하는지 확인"
      ]
    },
    {
      "cell_type": "code",
      "metadata": {
        "colab": {
          "base_uri": "https://localhost:8080/"
        },
        "id": "c2QQwdF0HTSt",
        "outputId": "670159b5-6f2e-450f-88f6-17a977140013"
      },
      "source": [
        "print([].__iter__)\n",
        "print(().__iter__)\n",
        "print({}.__iter__)\n",
        "print(''.__iter__)\n",
        "print(range(1).__iter__)\n",
        "print(set().__iter__)\n",
        "# print(0.__iter__) # error\n"
      ],
      "execution_count": null,
      "outputs": [
        {
          "output_type": "stream",
          "text": [
            "<method-wrapper '__iter__' of list object at 0x7fb8d7225140>\n",
            "<method-wrapper '__iter__' of tuple object at 0x7fb900928050>\n",
            "<method-wrapper '__iter__' of dict object at 0x7fb8d720faa0>\n",
            "<method-wrapper '__iter__' of str object at 0x7fb90095e3b0>\n",
            "<method-wrapper '__iter__' of range object at 0x7fb8d7234db0>\n",
            "<method-wrapper '__iter__' of set object at 0x7fb8d7435c80>\n"
          ],
          "name": "stdout"
        }
      ]
    },
    {
      "cell_type": "code",
      "metadata": {
        "colab": {
          "base_uri": "https://localhost:8080/"
        },
        "id": "wxfQtQT6He5G",
        "outputId": "238d5ade-d358-431d-e87e-e25fc1b4491c"
      },
      "source": [
        "# iter 함수: iterator 반환\n",
        "print(iter([])) \n",
        "#list_iterator 반환\n",
        "print(iter(())) \n",
        "#tuple_iterator 반환\n",
        "print(iter({})) \n",
        "#dict_keyiterator 반환\n",
        "print(iter('')) \n",
        "#str_iterator 반환\n",
        "print(iter(range(1))) \n",
        "#range_iterator 반환\n",
        "# print(iter(0)) # error\n"
      ],
      "execution_count": null,
      "outputs": [
        {
          "output_type": "stream",
          "text": [
            "<list_iterator object at 0x7fb8d7223150>\n",
            "<tuple_iterator object at 0x7fb8e1549610>\n",
            "<dict_keyiterator object at 0x7fb8d72247d0>\n",
            "<str_iterator object at 0x7fb8e1549610>\n",
            "<range_iterator object at 0x7fb8d7234600>\n"
          ],
          "name": "stdout"
        }
      ]
    },
    {
      "cell_type": "markdown",
      "metadata": {
        "id": "dDJPzu2HHmhN"
      },
      "source": [
        "- 실질적으로 순환이 가능한 객체 \n",
        "- iterable한 객체, 추가적으로 __next__\n",
        "메서드를\n",
        "구현해야함\n",
        "- next() 함수 호출수 iterator\n",
        "의 __next__ 실행"
      ]
    },
    {
      "cell_type": "code",
      "metadata": {
        "colab": {
          "base_uri": "https://localhost:8080/",
          "height": 139
        },
        "id": "mAAAZ37AHlcz",
        "outputId": "e695cc77-aa2b-40b5-936a-8b17d2a802b5"
      },
      "source": [
        "class collections.abc.Iterator\n",
        "# __iter__() 와 __next__() 메서드를 제공하는 클래스의 ABC. 이터레이터의 정의도 참조하십시오."
      ],
      "execution_count": null,
      "outputs": [
        {
          "output_type": "error",
          "ename": "SyntaxError",
          "evalue": "ignored",
          "traceback": [
            "\u001b[0;36m  File \u001b[0;32m\"<ipython-input-52-f775b35cb311>\"\u001b[0;36m, line \u001b[0;32m1\u001b[0m\n\u001b[0;31m    class collections.abc.Iterator\u001b[0m\n\u001b[0m                     ^\u001b[0m\n\u001b[0;31mSyntaxError\u001b[0m\u001b[0;31m:\u001b[0m invalid syntax\n"
          ]
        }
      ]
    },
    {
      "cell_type": "markdown",
      "metadata": {
        "id": "nlyR0lWnH_sS"
      },
      "source": [
        "- __iter__ 메서드가 존재\n",
        "- __next__ 메서드 존재\n"
      ]
    },
    {
      "cell_type": "code",
      "metadata": {
        "colab": {
          "base_uri": "https://localhost:8080/"
        },
        "id": "GaD-EHRsH-Ce",
        "outputId": "157f94d2-d2f1-4120-e7d9-f75ca945312e"
      },
      "source": [
        "iterator_result = iter([1,2])\n",
        "print(iterator_result.__iter__)\n",
        "print(iterator_result.__next__)\n",
        "print(next(iterator_result)) \n",
        "print(next(iterator_result)) \n"
      ],
      "execution_count": null,
      "outputs": [
        {
          "output_type": "stream",
          "text": [
            "<method-wrapper '__iter__' of list_iterator object at 0x7fb8d730c950>\n",
            "<method-wrapper '__next__' of list_iterator object at 0x7fb8d730c950>\n",
            "1\n",
            "2\n"
          ],
          "name": "stdout"
        }
      ]
    },
    {
      "cell_type": "markdown",
      "metadata": {
        "id": "C5nUVnyQIJVY"
      },
      "source": [
        "#### Iterator 구현\n",
        "- __iter__ 메서드가 존재\n",
        "- __next__ 메서드 존재"
      ]
    },
    {
      "cell_type": "code",
      "metadata": {
        "colab": {
          "base_uri": "https://localhost:8080/"
        },
        "id": "8qxi38vzIH_B",
        "outputId": "524bf536-5691-4020-c509-5a74dc3d658f"
      },
      "source": [
        "# iterator 구현해보기\n",
        "# MyCollection은 iterable하면서 iterator 임\n",
        "# iterator를 __iter__와 __next__를 구현해야함\n",
        "class MyCollection:\n",
        "  def __init__(self):\n",
        "    self.size = 1\n",
        "    self.data = range(0, self.size)\n",
        "  \n",
        "  def __iter__(self):\n",
        "    self.index = 0\n",
        "    return self\n",
        "    \n",
        "  def __next__(self):\n",
        "    if self.index >= self.size:\n",
        "      raise StopIteration\n",
        "      \n",
        "    n = self.data[self.index]\n",
        "    self.index += 1\n",
        "    return n\n",
        "    \n",
        "c_tor = iter(MyCollection())\n",
        "print(next(c_tor)) #0\n"
      ],
      "execution_count": null,
      "outputs": [
        {
          "output_type": "stream",
          "text": [
            "0\n"
          ],
          "name": "stdout"
        }
      ]
    },
    {
      "cell_type": "markdown",
      "metadata": {
        "id": "AvEr6NvKIji_"
      },
      "source": [
        "#### Iterator \n",
        "- __iter__ , __next__ 를 매번 구현하기가 쉽지 않고 복잡\n",
        "- 쉽게 iterator 객체를만들수 있는방법 제공\n",
        "- Generator"
      ]
    },
    {
      "cell_type": "markdown",
      "metadata": {
        "id": "QjMlcu5jIz9T"
      },
      "source": [
        "#### Generator\n",
        "\n",
        "- return 대신 yield statement가 있는 function이다.\n",
        "  - yield statement로 그 function의 state를 save한 후, return한다.\n",
        "  - generator가 다시(next())call되면 sate는 복구된다(그전 data value들을 모두 기억한다.)\n",
        "  - yield의 다음 statement에서 resume된다.\n",
        "- Generator는 모든 data sequence를 생성하여 저장하는 것이 아니라, 필요한 data만\n",
        "바로 산출한다.\n",
        "  - generator function을 call하는 일은 사실, generator object create하는 일이다.\n",
        "  - for loop에서 iterate될 때 필요한 data를 산출한다.\n"
      ]
    },
    {
      "cell_type": "markdown",
      "metadata": {
        "id": "xFC7s4zRJA4p"
      },
      "source": [
        "- yield로 구성한 generator의 경우, \n",
        "  - OS가 context switching하는 것처럼 동작하지만,\n",
        "  - 중요한 것은 리스트처럼 메모리에 생성하는 것이 아니라\n",
        "  - 그때 그때마다 값을 넘겨주고 다시 call되는 과정을 거쳐 call 될때 마다 resume한 다는\n",
        "것(즉, 메모리를 거의 사용하지 않는 함수이다.)"
      ]
    },
    {
      "cell_type": "code",
      "metadata": {
        "colab": {
          "base_uri": "https://localhost:8080/"
        },
        "id": "kFDzB3muIiFl",
        "outputId": "fd52964c-e85d-43fc-8e5b-ede832262b00"
      },
      "source": [
        "def gen_fib(n):\n",
        "# \"\"\"generate a Fibonacci series up to n. \"\"\"\n",
        "  a, b = 0, 1\n",
        "  while (a<n):\n",
        "    yield a\n",
        "    a, b = b, a+b\n",
        "\n",
        "gen_fib(2000)\n",
        "list(gen_fib(1000))\n",
        "\n",
        "for i in gen_fib(2000):\n",
        "  print(i, end=' ')"
      ],
      "execution_count": null,
      "outputs": [
        {
          "output_type": "stream",
          "text": [
            "0 1 1 2 3 5 8 13 21 34 55 89 144 233 377 610 987 1597 "
          ],
          "name": "stdout"
        }
      ]
    },
    {
      "cell_type": "code",
      "metadata": {
        "colab": {
          "base_uri": "https://localhost:8080/",
          "height": 139
        },
        "id": "nIItiwf7JKy_",
        "outputId": "fff11e8d-9611-4692-bec2-ebc5b3ffe907"
      },
      "source": [
        "def space_location(text):\n",
        "# \"\"\"공백의 위치를 리턴 \"\"\"\n",
        "result = []\n",
        "\n",
        "if text:\n",
        "  result.append(0)\n",
        "for index, letter in enumerate(address, 1):\n",
        "  if letter == ' ':\n",
        "    result.append(index)\n",
        "\n",
        "return result\n",
        "\n",
        "address = '우리는 이터레이터를 테스트 하고 있습니다.'\n",
        "result = space_location(address)\n",
        "print(result)"
      ],
      "execution_count": null,
      "outputs": [
        {
          "output_type": "error",
          "ename": "IndentationError",
          "evalue": "ignored",
          "traceback": [
            "\u001b[0;36m  File \u001b[0;32m\"<ipython-input-59-2c927d241f15>\"\u001b[0;36m, line \u001b[0;32m3\u001b[0m\n\u001b[0;31m    result = []\u001b[0m\n\u001b[0m         ^\u001b[0m\n\u001b[0;31mIndentationError\u001b[0m\u001b[0;31m:\u001b[0m expected an indented block\n"
          ]
        }
      ]
    },
    {
      "cell_type": "code",
      "metadata": {
        "colab": {
          "base_uri": "https://localhost:8080/",
          "height": 139
        },
        "id": "CKwGwP0bJVzO",
        "outputId": "cf9d47a9-b20c-4ab5-8f88-2a73e9ec4753"
      },
      "source": [
        "def space_location_iter(text):\n",
        "# \"\"\"공백의 위치를 리턴 \"\"\"\n",
        "result = []\n",
        "\n",
        "if text:\n",
        "  yield 0\n",
        "for index, letter in enumerate(address, 1):\n",
        "  if letter == ' ':\n",
        "    yield index\n",
        "\n",
        "address = '우리는 이터레이터를 테스트 하고 있습니다.'\n",
        "it = space_location_iter(address)\n",
        "print(next(it))\n",
        "print(next(it))\n",
        "\n",
        "result = list(space_location_iter(address))\n",
        "print(result)"
      ],
      "execution_count": null,
      "outputs": [
        {
          "output_type": "error",
          "ename": "IndentationError",
          "evalue": "ignored",
          "traceback": [
            "\u001b[0;36m  File \u001b[0;32m\"<ipython-input-60-efb3ea98a902>\"\u001b[0;36m, line \u001b[0;32m3\u001b[0m\n\u001b[0;31m    result = []\u001b[0m\n\u001b[0m         ^\u001b[0m\n\u001b[0;31mIndentationError\u001b[0m\u001b[0;31m:\u001b[0m expected an indented block\n"
          ]
        }
      ]
    },
    {
      "cell_type": "markdown",
      "metadata": {
        "id": "vw2hfSVEJjK8"
      },
      "source": [
        "리스트를 반환하기 보다는 제너레이터를 사용하자\n"
      ]
    },
    {
      "cell_type": "markdown",
      "metadata": {
        "id": "5PPqqqfsJq1u"
      },
      "source": [
        "## Python Tips"
      ]
    },
    {
      "cell_type": "markdown",
      "metadata": {
        "id": "BexiQAgeJtOU"
      },
      "source": [
        "### Unpacking\n",
        "- 인덱스를 사용하는 대신 대입을 사용해 데이터를 언팩킹"
      ]
    },
    {
      "cell_type": "code",
      "metadata": {
        "colab": {
          "base_uri": "https://localhost:8080/"
        },
        "id": "W1aSYaiPJhnB",
        "outputId": "a0e619c0-2672-43e9-ee4b-09ffb89b21b2"
      },
      "source": [
        "# Old Style\n",
        "\n",
        "snacks = [\n",
        "          ('베이컨', 350),\n",
        "          ('도넛', 240),\n",
        "          ('머핀', 190)\n",
        "]\n",
        "\n",
        "for i in range(len(snacks)) :\n",
        "  item = snacks[i]\n",
        "  name = item[0]\n",
        "  calories = item[1]\n",
        "  print(f'#{i+1}: {name}은 {calories} 칼로리 입니다.')"
      ],
      "execution_count": null,
      "outputs": [
        {
          "output_type": "stream",
          "text": [
            "#1: 베이컨은 350 칼로리 입니다.\n",
            "#2: 도넛은 240 칼로리 입니다.\n",
            "#3: 머핀은 190 칼로리 입니다.\n"
          ],
          "name": "stdout"
        }
      ]
    },
    {
      "cell_type": "code",
      "metadata": {
        "colab": {
          "base_uri": "https://localhost:8080/"
        },
        "id": "-oJoLL0rKF2q",
        "outputId": "da6b879c-3eb5-4510-dbbb-2ea13c357b20"
      },
      "source": [
        "# New Style\n",
        "\n",
        "for rank, (name, calories) in enumerate(snacks, 0) :\n",
        "  print(f'#{rank}: {name}은 {calories} 칼로리 입니다.')"
      ],
      "execution_count": null,
      "outputs": [
        {
          "output_type": "stream",
          "text": [
            "#0: 베이컨은 350 칼로리 입니다.\n",
            "#1: 도넛은 240 칼로리 입니다.\n",
            "#2: 머핀은 190 칼로리 입니다.\n"
          ],
          "name": "stdout"
        }
      ]
    },
    {
      "cell_type": "code",
      "metadata": {
        "colab": {
          "base_uri": "https://localhost:8080/"
        },
        "id": "qVkQMwuGKPR0",
        "outputId": "7d6826d8-7e9c-4ab2-afa6-bfa2dd13de45"
      },
      "source": [
        "# New Style\n",
        "\n",
        "for rank, (name, calories) in enumerate(snacks, 1) :\n",
        "  print(f'#{rank}: {name}은 {calories} 칼로리 입니다.')"
      ],
      "execution_count": null,
      "outputs": [
        {
          "output_type": "stream",
          "text": [
            "#1: 베이컨은 350 칼로리 입니다.\n",
            "#2: 도넛은 240 칼로리 입니다.\n",
            "#3: 머핀은 190 칼로리 입니다.\n"
          ],
          "name": "stdout"
        }
      ]
    },
    {
      "cell_type": "markdown",
      "metadata": {
        "id": "7J2pI4-IKT-u"
      },
      "source": [
        "#### Range 보다는 Enumerate를 사용"
      ]
    },
    {
      "cell_type": "code",
      "metadata": {
        "colab": {
          "base_uri": "https://localhost:8080/"
        },
        "id": "1owRZn1nKSo-",
        "outputId": "f2005dc2-e305-4cb6-dc94-cdd47c181f6b"
      },
      "source": [
        "# Old Style \n",
        "\n",
        "flavor_list = ['바닐라', '초콜릿', '피칸', '딸기']\n",
        "\n",
        "for i in range(len(flavor_list)) :\n",
        "  flavor = flavor_list[i]\n",
        "  print(f'{i+1}: {flavor}')"
      ],
      "execution_count": null,
      "outputs": [
        {
          "output_type": "stream",
          "text": [
            "1: 바닐라\n",
            "2: 초콜릿\n",
            "3: 피칸\n",
            "4: 딸기\n"
          ],
          "name": "stdout"
        }
      ]
    },
    {
      "cell_type": "code",
      "metadata": {
        "colab": {
          "base_uri": "https://localhost:8080/"
        },
        "id": "3QCYQ_F1KubF",
        "outputId": "9f2b44aa-2d73-4d86-ac2d-33518bbbd1d6"
      },
      "source": [
        "# Lazy generator \n",
        "\n",
        "flavor_list = ['바닐라', '초콜릿', '피칸', '딸기']\n",
        "\n",
        "it = enumerate(flavor_list)\n",
        "print(next(it))\n",
        "print(next(it))"
      ],
      "execution_count": null,
      "outputs": [
        {
          "output_type": "stream",
          "text": [
            "(0, '바닐라')\n",
            "(1, '초콜릿')\n"
          ],
          "name": "stdout"
        }
      ]
    },
    {
      "cell_type": "code",
      "metadata": {
        "colab": {
          "base_uri": "https://localhost:8080/"
        },
        "id": "V4ajT18mKwfo",
        "outputId": "02a190b2-20c6-428a-b27d-d35cfb7b876e"
      },
      "source": [
        "# Lazy generator + unpacking\n",
        "\n",
        "for i, flavor in enumerate(flavor_list):\n",
        "  print(f'{i+1}: {flavor}')"
      ],
      "execution_count": null,
      "outputs": [
        {
          "output_type": "stream",
          "text": [
            "1: 바닐라\n",
            "2: 초콜릿\n",
            "3: 피칸\n",
            "4: 딸기\n"
          ],
          "name": "stdout"
        }
      ]
    },
    {
      "cell_type": "code",
      "metadata": {
        "colab": {
          "base_uri": "https://localhost:8080/"
        },
        "id": "G5p7a-GiK-76",
        "outputId": "6ad3a988-e794-4e50-ad53-c5117b55e83f"
      },
      "source": [
        "# Lazy generator + unpacking\n",
        "\n",
        "for i, flavor in enumerate(flavor_list, 1):\n",
        "  print(f'{i}: {flavor}')"
      ],
      "execution_count": null,
      "outputs": [
        {
          "output_type": "stream",
          "text": [
            "1: 바닐라\n",
            "2: 초콜릿\n",
            "3: 피칸\n",
            "4: 딸기\n"
          ],
          "name": "stdout"
        }
      ]
    },
    {
      "cell_type": "markdown",
      "metadata": {
        "id": "8WoJXm9SLE-I"
      },
      "source": [
        "#### Using Zip\n",
        "\n",
        "- 여러 이터레이터에 대해 나란히 루프를 수행하려면, zip을 사용"
      ]
    },
    {
      "cell_type": "code",
      "metadata": {
        "colab": {
          "base_uri": "https://localhost:8080/"
        },
        "id": "lzdrF91KLD1g",
        "outputId": "701cf5a9-54f2-4d5c-980c-82b017ed567a"
      },
      "source": [
        "# Old Style \n",
        "\n",
        "names = ['Hong', '홍길동', '김서방']\n",
        "counts = [17, 12, 11]\n",
        "\n",
        "for i in range(len(names)):\n",
        "  name = names[i]\n",
        "  count = counts[i]\n",
        "  print(f'{name} : {count}')"
      ],
      "execution_count": null,
      "outputs": [
        {
          "output_type": "stream",
          "text": [
            "Hong : 17\n",
            "홍길동 : 12\n",
            "김서방 : 11\n"
          ],
          "name": "stdout"
        }
      ]
    },
    {
      "cell_type": "code",
      "metadata": {
        "colab": {
          "base_uri": "https://localhost:8080/"
        },
        "id": "Gh9o5WGULUOV",
        "outputId": "b96ec9e2-ee06-4132-e14d-5eb40164e9de"
      },
      "source": [
        "for name, count in zip(names, counts):\n",
        "  print(f'{name} : {count}')"
      ],
      "execution_count": null,
      "outputs": [
        {
          "output_type": "stream",
          "text": [
            "Hong : 17\n",
            "홍길동 : 12\n",
            "김서방 : 11\n"
          ],
          "name": "stdout"
        }
      ]
    },
    {
      "cell_type": "code",
      "metadata": {
        "colab": {
          "base_uri": "https://localhost:8080/"
        },
        "id": "GhfcjoMjLYen",
        "outputId": "2127ea5e-7dd0-4508-d797-ff3c84842a70"
      },
      "source": [
        "import itertools\n",
        "names.append('제임스')\n",
        "for name, count in itertools.zip_longest(names, counts):\n",
        "  print(f'{name} : {count}')"
      ],
      "execution_count": null,
      "outputs": [
        {
          "output_type": "stream",
          "text": [
            "Hong : 17\n",
            "홍길동 : 12\n",
            "김서방 : 11\n",
            "제임스 : None\n"
          ],
          "name": "stdout"
        }
      ]
    },
    {
      "cell_type": "markdown",
      "metadata": {
        "id": "AxEkzGzpLgeD"
      },
      "source": [
        "#### 별표식을 활용하자 (1/2)\n",
        "\n",
        "- 별표식 (starred expression)"
      ]
    },
    {
      "cell_type": "code",
      "metadata": {
        "colab": {
          "base_uri": "https://localhost:8080/",
          "height": 213
        },
        "id": "gsiELFHoLfKd",
        "outputId": "1eb8c40b-be25-41ef-dc49-939a67efbd55"
      },
      "source": [
        "car_ages = [0, 9, 4, 8, 7, 20, 19, 1, 6, 15]\n",
        "car_ages_descending = sorted(car_ages, reverse=True)\n",
        "#두 개의 item을 unpacking?\n",
        "oldest, second_oldest = car_ages_descending"
      ],
      "execution_count": null,
      "outputs": [
        {
          "output_type": "error",
          "ename": "ValueError",
          "evalue": "ignored",
          "traceback": [
            "\u001b[0;31m---------------------------------------------------------------------------\u001b[0m",
            "\u001b[0;31mValueError\u001b[0m                                Traceback (most recent call last)",
            "\u001b[0;32m<ipython-input-72-1c12ebfe44de>\u001b[0m in \u001b[0;36m<module>\u001b[0;34m()\u001b[0m\n\u001b[1;32m      2\u001b[0m \u001b[0mcar_ages_descending\u001b[0m \u001b[0;34m=\u001b[0m \u001b[0msorted\u001b[0m\u001b[0;34m(\u001b[0m\u001b[0mcar_ages\u001b[0m\u001b[0;34m,\u001b[0m \u001b[0mreverse\u001b[0m\u001b[0;34m=\u001b[0m\u001b[0;32mTrue\u001b[0m\u001b[0;34m)\u001b[0m\u001b[0;34m\u001b[0m\u001b[0;34m\u001b[0m\u001b[0m\n\u001b[1;32m      3\u001b[0m \u001b[0;31m#두 개의 item을 unpacking?\u001b[0m\u001b[0;34m\u001b[0m\u001b[0;34m\u001b[0m\u001b[0;34m\u001b[0m\u001b[0m\n\u001b[0;32m----> 4\u001b[0;31m \u001b[0moldest\u001b[0m\u001b[0;34m,\u001b[0m \u001b[0msecond_oldest\u001b[0m \u001b[0;34m=\u001b[0m \u001b[0mcar_ages_descending\u001b[0m\u001b[0;34m\u001b[0m\u001b[0;34m\u001b[0m\u001b[0m\n\u001b[0m",
            "\u001b[0;31mValueError\u001b[0m: too many values to unpack (expected 2)"
          ]
        }
      ]
    },
    {
      "cell_type": "code",
      "metadata": {
        "colab": {
          "base_uri": "https://localhost:8080/"
        },
        "id": "H0DPuQ7wN-UY",
        "outputId": "ea26cb8f-3542-45d0-b9c7-d5d57bc8085d"
      },
      "source": [
        "oldest = car_ages_descending[0]\n",
        "second_oldest = car_ages_descending[1]\n",
        "others = car_ages_descending[2:]\n",
        "\n",
        "print(oldest, second_oldest, others)"
      ],
      "execution_count": null,
      "outputs": [
        {
          "output_type": "stream",
          "text": [
            "20 19 [15, 9, 8, 7, 6, 4, 1, 0]\n"
          ],
          "name": "stdout"
        }
      ]
    },
    {
      "cell_type": "code",
      "metadata": {
        "colab": {
          "base_uri": "https://localhost:8080/"
        },
        "id": "S3VXchZmOG1J",
        "outputId": "7906e4fb-1f64-4492-cdb6-afd831752b44"
      },
      "source": [
        "oldest, second_oldest, *others = car_ages_descending\n",
        "print(oldest, second_oldest, others)"
      ],
      "execution_count": null,
      "outputs": [
        {
          "output_type": "stream",
          "text": [
            "20 19 [15, 9, 8, 7, 6, 4, 1, 0]\n"
          ],
          "name": "stdout"
        }
      ]
    },
    {
      "cell_type": "code",
      "metadata": {
        "colab": {
          "base_uri": "https://localhost:8080/"
        },
        "id": "uwLkX2tGOQIa",
        "outputId": "4ed538ab-97e6-4f93-9b4a-7b042013ec19"
      },
      "source": [
        "oldest, *others, youngest = car_ages_descending\n",
        "print(oldest, youngest, others)"
      ],
      "execution_count": null,
      "outputs": [
        {
          "output_type": "stream",
          "text": [
            "20 0 [19, 15, 9, 8, 7, 6, 4, 1]\n"
          ],
          "name": "stdout"
        }
      ]
    },
    {
      "cell_type": "code",
      "metadata": {
        "colab": {
          "base_uri": "https://localhost:8080/",
          "height": 139
        },
        "id": "_MLWe7LsOYQq",
        "outputId": "fe3f622c-8a32-4635-9b89-5ecf8325837f"
      },
      "source": [
        "# 홀로 쓰일 수 없음\n",
        "*others = car_ages_descending"
      ],
      "execution_count": null,
      "outputs": [
        {
          "output_type": "error",
          "ename": "SyntaxError",
          "evalue": "ignored",
          "traceback": [
            "\u001b[0;36m  File \u001b[0;32m\"<ipython-input-77-06ed35b35331>\"\u001b[0;36m, line \u001b[0;32m2\u001b[0m\n\u001b[0;31m    *others = car_ages_descending\u001b[0m\n\u001b[0m                                 ^\u001b[0m\n\u001b[0;31mSyntaxError\u001b[0m\u001b[0;31m:\u001b[0m starred assignment target must be in a list or tuple\n"
          ]
        }
      ]
    },
    {
      "cell_type": "markdown",
      "metadata": {
        "id": "aaNWXUyfOcjl"
      },
      "source": [
        "#### 상황에 따라 함수에 default 인자를 활용\n",
        "\n",
        "-Doc string과 default 인자 활용"
      ]
    },
    {
      "cell_type": "code",
      "metadata": {
        "colab": {
          "base_uri": "https://localhost:8080/",
          "height": 139
        },
        "id": "a_CsUT1xObG5",
        "outputId": "5a82dbe1-7e7f-4c9a-9770-9eee0dd0cb04"
      },
      "source": [
        "frm time import sleep\n",
        "from datetime import datatime\n",
        "\n",
        "def log(message, when=datetime.now()):\n",
        "  print(f'{when}:{message}')\n",
        "\n",
        "log('hi!!!')\n",
        "sleep(0.1)\n",
        "log('again!!!')"
      ],
      "execution_count": null,
      "outputs": [
        {
          "output_type": "error",
          "ename": "SyntaxError",
          "evalue": "ignored",
          "traceback": [
            "\u001b[0;36m  File \u001b[0;32m\"<ipython-input-78-bdcc2b1b4b46>\"\u001b[0;36m, line \u001b[0;32m1\u001b[0m\n\u001b[0;31m    frm time import sleep\u001b[0m\n\u001b[0m           ^\u001b[0m\n\u001b[0;31mSyntaxError\u001b[0m\u001b[0;31m:\u001b[0m invalid syntax\n"
          ]
        }
      ]
    },
    {
      "cell_type": "code",
      "metadata": {
        "colab": {
          "base_uri": "https://localhost:8080/",
          "height": 139
        },
        "id": "cjZ1vxNNOv_m",
        "outputId": "618d4e0a-a08d-46d8-9b48-2dd27bca2c9b"
      },
      "source": [
        "from time import from datetime import datetime\n",
        "\n",
        "def log(message, when=None):\n",
        "  \"\"\"메시지와 타임스탬프를 로그에 남긴다. \n",
        "\n",
        "  Args : \n",
        "    message : 출력할 메시지\n",
        "    when : 메시지가 발생한 시각(datetime).\n",
        "           디폴트값은 현재 시간\n",
        "  \"\"\"\n",
        "\n",
        "  if when is None:\n",
        "    when = datetime.now()\n",
        "\n",
        "  print(f'{when}:{message}')\n",
        "\n",
        "log('hi!!!')\n",
        "sleep(0.1)\n",
        "log('again!!!')"
      ],
      "execution_count": null,
      "outputs": [
        {
          "output_type": "error",
          "ename": "SyntaxError",
          "evalue": "ignored",
          "traceback": [
            "\u001b[0;36m  File \u001b[0;32m\"<ipython-input-79-5e4613ca8962>\"\u001b[0;36m, line \u001b[0;32m1\u001b[0m\n\u001b[0;31m    from time import from datetime import datetime\u001b[0m\n\u001b[0m                        ^\u001b[0m\n\u001b[0;31mSyntaxError\u001b[0m\u001b[0;31m:\u001b[0m invalid syntax\n"
          ]
        }
      ]
    },
    {
      "cell_type": "markdown",
      "metadata": {
        "id": "AMQVsqGjPLXf"
      },
      "source": [
        "#### 예외 만들기\n",
        "- 특별한 상황에 대비한 예외유형 정의 가능\n",
        "- 임의로 예외 발생 가능\n",
        "- raise 문 사용"
      ]
    },
    {
      "cell_type": "code",
      "metadata": {
        "colab": {
          "base_uri": "https://localhost:8080/",
          "height": 307
        },
        "id": "iJl7CNg8PJsB",
        "outputId": "d180b31f-e13d-4a6e-de42-35017568a739"
      },
      "source": [
        "def make_error():\n",
        "  raise NotImplementedError\n",
        "make_error()"
      ],
      "execution_count": null,
      "outputs": [
        {
          "output_type": "error",
          "ename": "NotImplementedError",
          "evalue": "ignored",
          "traceback": [
            "\u001b[0;31m---------------------------------------------------------------------------\u001b[0m",
            "\u001b[0;31mNotImplementedError\u001b[0m                       Traceback (most recent call last)",
            "\u001b[0;32m<ipython-input-80-6fb8831abcde>\u001b[0m in \u001b[0;36m<module>\u001b[0;34m()\u001b[0m\n\u001b[1;32m      1\u001b[0m \u001b[0;32mdef\u001b[0m \u001b[0mmake_error\u001b[0m\u001b[0;34m(\u001b[0m\u001b[0;34m)\u001b[0m\u001b[0;34m:\u001b[0m\u001b[0;34m\u001b[0m\u001b[0;34m\u001b[0m\u001b[0m\n\u001b[1;32m      2\u001b[0m   \u001b[0;32mraise\u001b[0m \u001b[0mNotImplementedError\u001b[0m\u001b[0;34m\u001b[0m\u001b[0;34m\u001b[0m\u001b[0m\n\u001b[0;32m----> 3\u001b[0;31m \u001b[0mmake_error\u001b[0m\u001b[0;34m(\u001b[0m\u001b[0;34m)\u001b[0m\u001b[0;34m\u001b[0m\u001b[0;34m\u001b[0m\u001b[0m\n\u001b[0m",
            "\u001b[0;32m<ipython-input-80-6fb8831abcde>\u001b[0m in \u001b[0;36mmake_error\u001b[0;34m()\u001b[0m\n\u001b[1;32m      1\u001b[0m \u001b[0;32mdef\u001b[0m \u001b[0mmake_error\u001b[0m\u001b[0;34m(\u001b[0m\u001b[0;34m)\u001b[0m\u001b[0;34m:\u001b[0m\u001b[0;34m\u001b[0m\u001b[0;34m\u001b[0m\u001b[0m\n\u001b[0;32m----> 2\u001b[0;31m   \u001b[0;32mraise\u001b[0m \u001b[0mNotImplementedError\u001b[0m\u001b[0;34m\u001b[0m\u001b[0;34m\u001b[0m\u001b[0m\n\u001b[0m\u001b[1;32m      3\u001b[0m \u001b[0mmake_error\u001b[0m\u001b[0;34m(\u001b[0m\u001b[0;34m)\u001b[0m\u001b[0;34m\u001b[0m\u001b[0;34m\u001b[0m\u001b[0m\n",
            "\u001b[0;31mNotImplementedError\u001b[0m: "
          ]
        }
      ]
    },
    {
      "cell_type": "code",
      "metadata": {
        "id": "q1YfjiIQtB8j"
      },
      "source": [
        ""
      ],
      "execution_count": null,
      "outputs": []
    }
  ]
}