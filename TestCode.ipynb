{
  "nbformat": 4,
  "nbformat_minor": 0,
  "metadata": {
    "colab": {
      "name": "TestCode.ipynb",
      "provenance": [],
      "collapsed_sections": [],
      "mount_file_id": "1ThUnLq2eUXmsQ7YfyLfHDwG2h0dDLvkh",
      "authorship_tag": "ABX9TyOEXaMw3PzeKG7FX5WdNYul",
      "include_colab_link": true
    },
    "kernelspec": {
      "name": "python3",
      "display_name": "Python 3"
    },
    "language_info": {
      "name": "python"
    }
  },
  "cells": [
    {
      "cell_type": "markdown",
      "metadata": {
        "id": "view-in-github",
        "colab_type": "text"
      },
      "source": [
        "<a href=\"https://colab.research.google.com/github/plumwiserim/data-analysis/blob/main/TestCode.ipynb\" target=\"_parent\"><img src=\"https://colab.research.google.com/assets/colab-badge.svg\" alt=\"Open In Colab\"/></a>"
      ]
    },
    {
      "cell_type": "markdown",
      "metadata": {
        "id": "ZqA4geAIgbr5"
      },
      "source": [
        "# 대제목\n"
      ]
    },
    {
      "cell_type": "markdown",
      "metadata": {
        "id": "fWtJdsi6gkSF"
      },
      "source": [
        "## 소제목"
      ]
    },
    {
      "cell_type": "markdown",
      "metadata": {
        "id": "9vSlTfvPhJ34"
      },
      "source": [
        "- 아이템1\n",
        "- 아이템2\n",
        "  - 아이템2-1"
      ]
    },
    {
      "cell_type": "code",
      "metadata": {
        "colab": {
          "base_uri": "https://localhost:8080/"
        },
        "id": "RQ2cQkm_fZPR",
        "outputId": "76c0b10a-49a5-47f8-aaa7-8715c258aadc"
      },
      "source": [
        "print(\"Hello World!!!\")\n",
        "# print(\"Hello World!!!\")\n",
        "# print(\"Hello World!!!\")\n",
        "# print(\"Hello World!!!\")\n",
        "# print(\"Hello World!!!\")\n",
        "# print(\"Hello World!!!\")\n",
        "# print(\"Hello World!!!\")\n",
        "# print(\"Hello World!!!\")"
      ],
      "execution_count": 3,
      "outputs": [
        {
          "output_type": "stream",
          "text": [
            "Hello World!!!\n"
          ],
          "name": "stdout"
        }
      ]
    },
    {
      "cell_type": "code",
      "metadata": {
        "id": "ruspltk6gppy"
      },
      "source": [
        "file path = \n",
        "open()"
      ],
      "execution_count": null,
      "outputs": []
    },
    {
      "cell_type": "code",
      "metadata": {
        "colab": {
          "base_uri": "https://localhost:8080/"
        },
        "id": "-muSkjaxuIVl",
        "outputId": "9eb99694-6790-424e-d7c9-5f2d547067d9"
      },
      "source": [
        "a = 1\n",
        "b = 1\n",
        "c = 1+1\n",
        "print(c)"
      ],
      "execution_count": 4,
      "outputs": [
        {
          "output_type": "stream",
          "text": [
            "2\n"
          ],
          "name": "stdout"
        }
      ]
    },
    {
      "cell_type": "code",
      "metadata": {
        "colab": {
          "base_uri": "https://localhost:8080/",
          "height": 213
        },
        "id": "g-li0X3MuNJ5",
        "outputId": "39af65ee-a377-4728-e89b-399df0c7fff1"
      },
      "source": [
        "a = \"9\"\n",
        "b = 7\n",
        "print(a+ b)"
      ],
      "execution_count": 5,
      "outputs": [
        {
          "output_type": "error",
          "ename": "TypeError",
          "evalue": "ignored",
          "traceback": [
            "\u001b[0;31m---------------------------------------------------------------------------\u001b[0m",
            "\u001b[0;31mTypeError\u001b[0m                                 Traceback (most recent call last)",
            "\u001b[0;32m<ipython-input-5-df9be149f6df>\u001b[0m in \u001b[0;36m<module>\u001b[0;34m()\u001b[0m\n\u001b[1;32m      1\u001b[0m \u001b[0ma\u001b[0m \u001b[0;34m=\u001b[0m \u001b[0;34m\"9\"\u001b[0m\u001b[0;34m\u001b[0m\u001b[0;34m\u001b[0m\u001b[0m\n\u001b[1;32m      2\u001b[0m \u001b[0mb\u001b[0m \u001b[0;34m=\u001b[0m \u001b[0;36m7\u001b[0m\u001b[0;34m\u001b[0m\u001b[0;34m\u001b[0m\u001b[0m\n\u001b[0;32m----> 3\u001b[0;31m \u001b[0mprint\u001b[0m\u001b[0;34m(\u001b[0m\u001b[0ma\u001b[0m\u001b[0;34m+\u001b[0m \u001b[0mb\u001b[0m\u001b[0;34m)\u001b[0m\u001b[0;34m\u001b[0m\u001b[0;34m\u001b[0m\u001b[0m\n\u001b[0m",
            "\u001b[0;31mTypeError\u001b[0m: can only concatenate str (not \"int\") to str"
          ]
        }
      ]
    },
    {
      "cell_type": "code",
      "metadata": {
        "colab": {
          "base_uri": "https://localhost:8080/",
          "height": 139
        },
        "id": "9Mv6bgNTyHIr",
        "outputId": "c14b6f83-7fb8-491c-82a1-c9b5ff294738"
      },
      "source": [
        "a = (int) a\n",
        "print(a+b)"
      ],
      "execution_count": 7,
      "outputs": [
        {
          "output_type": "error",
          "ename": "SyntaxError",
          "evalue": "ignored",
          "traceback": [
            "\u001b[0;36m  File \u001b[0;32m\"<ipython-input-7-8d799bf55d1e>\"\u001b[0;36m, line \u001b[0;32m1\u001b[0m\n\u001b[0;31m    a = (int) a\u001b[0m\n\u001b[0m              ^\u001b[0m\n\u001b[0;31mSyntaxError\u001b[0m\u001b[0;31m:\u001b[0m invalid syntax\n"
          ]
        }
      ]
    },
    {
      "cell_type": "code",
      "metadata": {
        "colab": {
          "base_uri": "https://localhost:8080/",
          "height": 195
        },
        "id": "6jDNJrQ0yMqZ",
        "outputId": "1ea7ecce-a813-420b-9bff-7877efeaf392"
      },
      "source": [
        "a = \"abc\"\n",
        "a = int(a)"
      ],
      "execution_count": 8,
      "outputs": [
        {
          "output_type": "error",
          "ename": "ValueError",
          "evalue": "ignored",
          "traceback": [
            "\u001b[0;31m---------------------------------------------------------------------------\u001b[0m",
            "\u001b[0;31mValueError\u001b[0m                                Traceback (most recent call last)",
            "\u001b[0;32m<ipython-input-8-4ff8ac17d9f7>\u001b[0m in \u001b[0;36m<module>\u001b[0;34m()\u001b[0m\n\u001b[1;32m      1\u001b[0m \u001b[0ma\u001b[0m \u001b[0;34m=\u001b[0m \u001b[0;34m\"abc\"\u001b[0m\u001b[0;34m\u001b[0m\u001b[0;34m\u001b[0m\u001b[0m\n\u001b[0;32m----> 2\u001b[0;31m \u001b[0ma\u001b[0m \u001b[0;34m=\u001b[0m \u001b[0mint\u001b[0m\u001b[0;34m(\u001b[0m\u001b[0ma\u001b[0m\u001b[0;34m)\u001b[0m\u001b[0;34m\u001b[0m\u001b[0;34m\u001b[0m\u001b[0m\n\u001b[0m",
            "\u001b[0;31mValueError\u001b[0m: invalid literal for int() with base 10: 'abc'"
          ]
        }
      ]
    },
    {
      "cell_type": "code",
      "metadata": {
        "colab": {
          "base_uri": "https://localhost:8080/"
        },
        "id": "z0k4JAjUzOit",
        "outputId": "b1dca7c9-9415-496c-c0cb-e7c00615cf35"
      },
      "source": [
        "a = 1 \n",
        "b = 0\n",
        "print(a<b)"
      ],
      "execution_count": 9,
      "outputs": [
        {
          "output_type": "stream",
          "text": [
            "False\n"
          ],
          "name": "stdout"
        }
      ]
    },
    {
      "cell_type": "code",
      "metadata": {
        "colab": {
          "base_uri": "https://localhost:8080/"
        },
        "id": "9A7vQoyWzQ9C",
        "outputId": "0e5326c4-b719-4109-d78b-34fb65eb23ec"
      },
      "source": [
        "a = False\n",
        "b = True\n",
        "print(a+b)"
      ],
      "execution_count": 10,
      "outputs": [
        {
          "output_type": "stream",
          "text": [
            "1\n"
          ],
          "name": "stdout"
        }
      ]
    },
    {
      "cell_type": "code",
      "metadata": {
        "colab": {
          "base_uri": "https://localhost:8080/"
        },
        "id": "Ax6_ed1CzT1R",
        "outputId": "991e3aaa-de52-4351-f65f-7a675c14c524"
      },
      "source": [
        "txt = \"python\"\n",
        "print(txt)"
      ],
      "execution_count": 11,
      "outputs": [
        {
          "output_type": "stream",
          "text": [
            "python\n"
          ],
          "name": "stdout"
        }
      ]
    },
    {
      "cell_type": "code",
      "metadata": {
        "colab": {
          "base_uri": "https://localhost:8080/"
        },
        "id": "UVNji0g2Hd1w",
        "outputId": "1e7b0dbb-1b29-4531-d7ad-fb8cc5b31ced"
      },
      "source": [
        "txt = \"al\"\n",
        "print(txt)"
      ],
      "execution_count": 12,
      "outputs": [
        {
          "output_type": "stream",
          "text": [
            "al\n"
          ],
          "name": "stdout"
        }
      ]
    },
    {
      "cell_type": "markdown",
      "metadata": {
        "id": "7RYvaCJRP8hA"
      },
      "source": [
        "### String"
      ]
    },
    {
      "cell_type": "markdown",
      "metadata": {
        "id": "szHj4rlBPlAQ"
      },
      "source": [
        "#### 문자열 인덱싱 (Indexing)"
      ]
    },
    {
      "cell_type": "code",
      "metadata": {
        "colab": {
          "base_uri": "https://localhost:8080/",
          "height": 269
        },
        "id": "AvO1JqGPMD9M",
        "outputId": "9140351b-9020-4c33-bcec-8db484942608"
      },
      "source": [
        "# 문자열은 배열 : 인덱스로 각 문자에 접근\n",
        "txt = \"python\"\n",
        "print(txt[0])\n",
        "print(txt[2])\n",
        "print(txt[6])\n",
        "print(txt[-1])"
      ],
      "execution_count": 36,
      "outputs": [
        {
          "output_type": "stream",
          "text": [
            "p\n",
            "t\n"
          ],
          "name": "stdout"
        },
        {
          "output_type": "error",
          "ename": "IndexError",
          "evalue": "ignored",
          "traceback": [
            "\u001b[0;31m---------------------------------------------------------------------------\u001b[0m",
            "\u001b[0;31mIndexError\u001b[0m                                Traceback (most recent call last)",
            "\u001b[0;32m<ipython-input-36-8b88b8cd5fa4>\u001b[0m in \u001b[0;36m<module>\u001b[0;34m()\u001b[0m\n\u001b[1;32m      3\u001b[0m \u001b[0mprint\u001b[0m\u001b[0;34m(\u001b[0m\u001b[0mtxt\u001b[0m\u001b[0;34m[\u001b[0m\u001b[0;36m0\u001b[0m\u001b[0;34m]\u001b[0m\u001b[0;34m)\u001b[0m\u001b[0;34m\u001b[0m\u001b[0;34m\u001b[0m\u001b[0m\n\u001b[1;32m      4\u001b[0m \u001b[0mprint\u001b[0m\u001b[0;34m(\u001b[0m\u001b[0mtxt\u001b[0m\u001b[0;34m[\u001b[0m\u001b[0;36m2\u001b[0m\u001b[0;34m]\u001b[0m\u001b[0;34m)\u001b[0m\u001b[0;34m\u001b[0m\u001b[0;34m\u001b[0m\u001b[0m\n\u001b[0;32m----> 5\u001b[0;31m \u001b[0mprint\u001b[0m\u001b[0;34m(\u001b[0m\u001b[0mtxt\u001b[0m\u001b[0;34m[\u001b[0m\u001b[0;36m6\u001b[0m\u001b[0;34m]\u001b[0m\u001b[0;34m)\u001b[0m\u001b[0;34m\u001b[0m\u001b[0;34m\u001b[0m\u001b[0m\n\u001b[0m\u001b[1;32m      6\u001b[0m \u001b[0mprint\u001b[0m\u001b[0;34m(\u001b[0m\u001b[0mtxt\u001b[0m\u001b[0;34m[\u001b[0m\u001b[0;34m-\u001b[0m\u001b[0;36m1\u001b[0m\u001b[0;34m]\u001b[0m\u001b[0;34m)\u001b[0m\u001b[0;34m\u001b[0m\u001b[0;34m\u001b[0m\u001b[0m\n",
            "\u001b[0;31mIndexError\u001b[0m: string index out of range"
          ]
        }
      ]
    },
    {
      "cell_type": "code",
      "metadata": {
        "colab": {
          "base_uri": "https://localhost:8080/",
          "height": 213
        },
        "id": "XcsCuZ7mLpLd",
        "outputId": "bc4923a0-28ba-48e9-838b-60aee5e1ffdc"
      },
      "source": [
        "# 각 슬롯에 저장된 값을 재할당 불가 (immutable)\n",
        "txt = \"python\"\n",
        "txt[0] = \"j\""
      ],
      "execution_count": 35,
      "outputs": [
        {
          "output_type": "error",
          "ename": "TypeError",
          "evalue": "ignored",
          "traceback": [
            "\u001b[0;31m---------------------------------------------------------------------------\u001b[0m",
            "\u001b[0;31mTypeError\u001b[0m                                 Traceback (most recent call last)",
            "\u001b[0;32m<ipython-input-35-9539c84cf177>\u001b[0m in \u001b[0;36m<module>\u001b[0;34m()\u001b[0m\n\u001b[1;32m      1\u001b[0m \u001b[0;31m# 각 슬롯에 저장된 값을 재할당 불가 (immutable)\u001b[0m\u001b[0;34m\u001b[0m\u001b[0;34m\u001b[0m\u001b[0;34m\u001b[0m\u001b[0m\n\u001b[1;32m      2\u001b[0m \u001b[0mtxt\u001b[0m \u001b[0;34m=\u001b[0m \u001b[0;34m\"python\"\u001b[0m\u001b[0;34m\u001b[0m\u001b[0;34m\u001b[0m\u001b[0m\n\u001b[0;32m----> 3\u001b[0;31m \u001b[0mtxt\u001b[0m\u001b[0;34m[\u001b[0m\u001b[0;36m0\u001b[0m\u001b[0;34m]\u001b[0m \u001b[0;34m=\u001b[0m \u001b[0;34m\"j\"\u001b[0m\u001b[0;34m\u001b[0m\u001b[0;34m\u001b[0m\u001b[0m\n\u001b[0m",
            "\u001b[0;31mTypeError\u001b[0m: 'str' object does not support item assignment"
          ]
        }
      ]
    },
    {
      "cell_type": "markdown",
      "metadata": {
        "id": "k6Us41nOPJHk"
      },
      "source": [
        "#### 인덱스 연산자"
      ]
    },
    {
      "cell_type": "code",
      "metadata": {
        "colab": {
          "base_uri": "https://localhost:8080/"
        },
        "id": "ee7rls2sLjMR",
        "outputId": "e89bfc7b-4df8-4178-bcf4-fe4b4e7e5e60"
      },
      "source": [
        "# 인덱스 연산자 [] : 문자열 내부의 문자 하나를 선택하는 연산자\n",
        "message = \"파이썬쉽다\"\n",
        "\n",
        "print(\"{}\".format(message))\n",
        "print(message[0])\n",
        "print(message[1])\n",
        "print(message[2])\n",
        "print(message[3])\n",
        "print(message[4])"
      ],
      "execution_count": 33,
      "outputs": [
        {
          "output_type": "stream",
          "text": [
            "파이썬쉽다\n",
            "파\n",
            "이\n",
            "썬\n",
            "쉽\n",
            "다\n"
          ],
          "name": "stdout"
        }
      ]
    },
    {
      "cell_type": "markdown",
      "metadata": {
        "id": "K4pxohBuPCuv"
      },
      "source": [
        "#### 문자열 슬라이싱 (Slicing)"
      ]
    },
    {
      "cell_type": "code",
      "metadata": {
        "colab": {
          "base_uri": "https://localhost:8080/"
        },
        "id": "qtv39XeCLcZJ",
        "outputId": "d75ae74d-dfc2-43c5-a01b-ba8a3799945c"
      },
      "source": [
        "# 문자열 슬라이싱 (Slicing)\n",
        "txt = \"python\"\n",
        "print(txt[0:2])\n",
        "print(txt[1:4])\n",
        "print(txt[-3:-1])\n",
        "print(txt[:3])\n",
        "print(txt[2:])"
      ],
      "execution_count": 32,
      "outputs": [
        {
          "output_type": "stream",
          "text": [
            "py\n",
            "yth\n",
            "ho\n",
            "pyt\n",
            "thon\n"
          ],
          "name": "stdout"
        }
      ]
    },
    {
      "cell_type": "markdown",
      "metadata": {
        "id": "IKVBzzAUOpkQ"
      },
      "source": [
        "#### 문자열 기본함수들(1/2)"
      ]
    },
    {
      "cell_type": "code",
      "metadata": {
        "colab": {
          "base_uri": "https://localhost:8080/"
        },
        "id": "0f6SsbzqHgc0",
        "outputId": "cdf1511f-0638-494b-8d6d-aa3726c6dc10"
      },
      "source": [
        "# 문자열의 길이 : len()\n",
        "txt = \"Hi, Kim!\"\n",
        "print(len(txt))"
      ],
      "execution_count": 29,
      "outputs": [
        {
          "output_type": "stream",
          "text": [
            "8\n"
          ],
          "name": "stdout"
        }
      ]
    },
    {
      "cell_type": "code",
      "metadata": {
        "colab": {
          "base_uri": "https://localhost:8080/"
        },
        "id": "rikdvidqJqKg",
        "outputId": "94ad56e8-54b3-4fe7-8a4d-3e19a0cbcf5d"
      },
      "source": [
        "# 문자열 교체 : replace()\n",
        "txt = \"Hi, Kim!\"\n",
        "print(txt.replace(\"Hi\", \"Hello\"))"
      ],
      "execution_count": 30,
      "outputs": [
        {
          "output_type": "stream",
          "text": [
            "Hello, Kim!\n"
          ],
          "name": "stdout"
        }
      ]
    },
    {
      "cell_type": "code",
      "metadata": {
        "colab": {
          "base_uri": "https://localhost:8080/"
        },
        "id": "S6dnHsv4JuQB",
        "outputId": "8dde3335-e81a-474f-acf0-a80ec5e8a643"
      },
      "source": [
        "# 문자열 공백 없애기 : strip(), rstrip(), lstrip()\n",
        "favorite_language = ' python '\n",
        "print(favorite_language.rstrip())\n",
        "print(favorite_language.lstrip())\n",
        "print(favorite_language.strip())"
      ],
      "execution_count": 31,
      "outputs": [
        {
          "output_type": "stream",
          "text": [
            " python\n",
            "python \n",
            "python\n"
          ],
          "name": "stdout"
        }
      ]
    },
    {
      "cell_type": "markdown",
      "metadata": {
        "id": "qZs9ju-OObNW"
      },
      "source": [
        "#### 문자열 기본함수들(2/2)"
      ]
    },
    {
      "cell_type": "code",
      "metadata": {
        "colab": {
          "base_uri": "https://localhost:8080/"
        },
        "id": "E5UnWX3oJ3oX",
        "outputId": "fe407e45-8a76-4004-f0ce-986e8a0fb6b6"
      },
      "source": [
        "# 문자열 나누기\n",
        "message = \"Python Easy\"\n",
        "messages = message.split(\" \")\n",
        "print(messages[0])\n",
        "print(messages[1])\n",
        "print(messages)"
      ],
      "execution_count": 26,
      "outputs": [
        {
          "output_type": "stream",
          "text": [
            "Python\n",
            "Easy\n",
            "['Python', 'Easy']\n"
          ],
          "name": "stdout"
        }
      ]
    },
    {
      "cell_type": "code",
      "metadata": {
        "colab": {
          "base_uri": "https://localhost:8080/"
        },
        "id": "ssC9TRQMMLKx",
        "outputId": "93c1bfe8-e826-4add-e666-2fa79a87e4b4"
      },
      "source": [
        "# 문자열 합치기\n",
        "fruits = [\"apple\", \"banana\", \"mango\"]\n",
        "delimiter1 = \" / \"\n",
        "delimiter2 = \" || \"\n",
        "delimiter3 = \" & \"\n",
        "print(delimiter1.join(fruits))\n",
        "print(delimiter2.join(fruits))\n",
        "print(delimiter3.join(fruits))\n"
      ],
      "execution_count": 25,
      "outputs": [
        {
          "output_type": "stream",
          "text": [
            "apple / banana / mango\n",
            "apple || banana || mango\n",
            "apple & banana & mango\n"
          ],
          "name": "stdout"
        }
      ]
    },
    {
      "cell_type": "markdown",
      "metadata": {
        "id": "l33g0Kb0OAyk"
      },
      "source": [
        "#### 문자열 포맷\n",
        "- 포맷\n",
        "  - f-string : 문자열 앞에 f를 붙임\n",
        "  - Python3.6부터 지원"
      ]
    },
    {
      "cell_type": "code",
      "metadata": {
        "colab": {
          "base_uri": "https://localhost:8080/"
        },
        "id": "J98w5v2FMOYj",
        "outputId": "4a50c2c1-75ca-48cd-f873-41823fee9989"
      },
      "source": [
        "name1 = \"Tom\"\n",
        "score1 = 90\n",
        "print(f\"이름: {name1} 성적: {score1}\")"
      ],
      "execution_count": 23,
      "outputs": [
        {
          "output_type": "stream",
          "text": [
            "이름: Tom 성적: 90\n"
          ],
          "name": "stdout"
        }
      ]
    },
    {
      "cell_type": "markdown",
      "metadata": {
        "id": "wqsntMnJQBw-"
      },
      "source": [
        "### if statement"
      ]
    },
    {
      "cell_type": "markdown",
      "metadata": {
        "id": "2OXmWRa-QWUs"
      },
      "source": [
        "#### 조건문\n",
        "- 조건문의 패턴\n",
        "  - if\n",
        "  - if-elif\n",
        "  - if-elif-else\n",
        "  - if-else"
      ]
    },
    {
      "cell_type": "code",
      "metadata": {
        "id": "xKUVWltYNsyZ"
      },
      "source": [
        "a = 33\n",
        "b = 33\n",
        "\n",
        "if b > a:\n",
        "  print(\"b is greater than a\")\n",
        "elif a == b:\n",
        "  pass\n",
        "else:\n",
        "  print(\"a is greater than b\")"
      ],
      "execution_count": 37,
      "outputs": []
    },
    {
      "cell_type": "markdown",
      "metadata": {
        "id": "rHcylkUbQwiC"
      },
      "source": [
        "- 일반적인 언어와 조건문 작성에서의 차별점\n",
        "- 문제 :\n",
        "  - 나이에 따라 다른 이용료가 출력되는 기능을 구현한다.\n",
        "    - 8세 미만 : 이용료는 5,000원\n",
        "    - 8세 이상 ~ 20세 미만 : 이용료는 15,000원\n",
        "    - 20세 이상 ~ 60세 미만 : 이용료는 20,000원\n",
        "    - 60세 이상 : 이용료 없음"
      ]
    },
    {
      "cell_type": "code",
      "metadata": {
        "colab": {
          "base_uri": "https://localhost:8080/"
        },
        "id": "Jt0mRqgVQmn8",
        "outputId": "d51f3d98-af43-4a1a-f810-a351bfe543cc"
      },
      "source": [
        "age = 27\n",
        "if age < 8:\n",
        "  fee = 5000\n",
        "elif 8 <= age < 20:\n",
        "  fee = 15000\n",
        "elif 20 <= age < 60:\n",
        "  fee = 20000\n",
        "else:\n",
        "  fee = 0\n",
        "print(fee)"
      ],
      "execution_count": 39,
      "outputs": [
        {
          "output_type": "stream",
          "text": [
            "20000\n"
          ],
          "name": "stdout"
        }
      ]
    },
    {
      "cell_type": "markdown",
      "metadata": {
        "id": "5-RPXmgoRQ49"
      },
      "source": [
        "### List"
      ]
    },
    {
      "cell_type": "markdown",
      "metadata": {
        "id": "pWVqpAPGUmI5"
      },
      "source": [
        "#### tuple\n",
        "- 빈 튜플 생성하여 empty_tuple에 할당\n",
        "- 튜플이 비었는지 요소가 있는지 판단하여 비어있으면 “empty” 출력"
      ]
    },
    {
      "cell_type": "code",
      "metadata": {
        "colab": {
          "base_uri": "https://localhost:8080/"
        },
        "id": "maRs4HAKRI6i",
        "outputId": "e58f704c-e0c1-4af0-8f71-15a649a3bb70"
      },
      "source": [
        "empty_tuple = ()\n",
        "empty_tuple = tuple()\n",
        "if empty_tuple:\n",
        "  print(\"not empty\")\n",
        "else:\n",
        "  print(\"empty\")\n",
        "if len(empty_tuple) == 0:\n",
        "  print(\"empty\")\n",
        "else:\n",
        "  print(\"not empty\")"
      ],
      "execution_count": 41,
      "outputs": [
        {
          "output_type": "stream",
          "text": [
            "empty\n",
            "empty\n"
          ],
          "name": "stdout"
        }
      ]
    },
    {
      "cell_type": "markdown",
      "metadata": {
        "id": "d9RX_3hEUuRz"
      },
      "source": [
        "- 튜플에 요소 추가가 가능할까\n",
        "?\n",
        "  - 튜플이 불변한 타입이기 때문 \n",
        "  - 요소를 수정, 삭제, 추가가 가능할때 가변하다고 함 (mutable)\n",
        "  - 가변 시퀀스 타입인 list를 써야 함\n",
        "- 불변 시퀀스 타입 : str, range, tuple \n",
        "- 가변 시퀀스 타입: list"
      ]
    },
    {
      "cell_type": "markdown",
      "metadata": {
        "id": "Q7amfF78VHon"
      },
      "source": [
        "#### List\n",
        "- 특정한 순서로 연결되어 있는 데이터의 집합\n",
        "- 숫자, 문자열, 리스트 등 다양한 종류의 데이터를 넣을 수 있음\n",
        "- 대괄호 기호를 이용하여 생성 - [ ]\n",
        "- 리스트에 요소 추가, 삭제 가능\n",
        "- 대괄호 기호를 이용하여 생성하며 요소값은 쉼표로 구분"
      ]
    },
    {
      "cell_type": "code",
      "metadata": {
        "colab": {
          "base_uri": "https://localhost:8080/"
        },
        "id": "XCuUSYobUknx",
        "outputId": "e0f82ec9-dead-46e2-b80f-13ea42221a86"
      },
      "source": [
        "bicycles = ['trek', 'cannondale', 'redline', 'specialized']\n",
        "print(bicycles)"
      ],
      "execution_count": 42,
      "outputs": [
        {
          "output_type": "stream",
          "text": [
            "['trek', 'cannondale', 'redline', 'specialized']\n"
          ],
          "name": "stdout"
        }
      ]
    },
    {
      "cell_type": "markdown",
      "metadata": {
        "id": "RxxFg0ymVVg0"
      },
      "source": [
        "#### List 연산"
      ]
    },
    {
      "cell_type": "markdown",
      "metadata": {
        "id": "94auHjlaVZSG"
      },
      "source": [
        "#### List 슬라이싱"
      ]
    },
    {
      "cell_type": "markdown",
      "metadata": {
        "id": "XvWM4tClVf03"
      },
      "source": [
        "- 리스트 Slicing – 서브 리스트로 만듦\n",
        "- start : end (: step) 형식"
      ]
    },
    {
      "cell_type": "code",
      "metadata": {
        "colab": {
          "base_uri": "https://localhost:8080/",
          "height": 139
        },
        "id": "1la6gs50VSSu",
        "outputId": "30e9bef4-4f5f-4192-d51c-31779d333027"
      },
      "source": [
        "players = ['charles', 'martina', 'michael', 'florence', 'eli’]\n",
        "print(players[0:3])\n",
        "print(players[1:4])\n",
        "print(players[:4])\n",
        "print(players[2:])"
      ],
      "execution_count": 44,
      "outputs": [
        {
          "output_type": "error",
          "ename": "SyntaxError",
          "evalue": "ignored",
          "traceback": [
            "\u001b[0;36m  File \u001b[0;32m\"<ipython-input-44-c0cd3476264a>\"\u001b[0;36m, line \u001b[0;32m1\u001b[0m\n\u001b[0;31m    players = ['charles', 'martina', 'michael', 'florence', 'eli’]\u001b[0m\n\u001b[0m                                                                  ^\u001b[0m\n\u001b[0;31mSyntaxError\u001b[0m\u001b[0;31m:\u001b[0m EOL while scanning string literal\n"
          ]
        }
      ]
    },
    {
      "cell_type": "markdown",
      "metadata": {
        "id": "1JeiNqUqVqPj"
      },
      "source": [
        "- step 지정"
      ]
    },
    {
      "cell_type": "code",
      "metadata": {
        "colab": {
          "base_uri": "https://localhost:8080/"
        },
        "id": "9RUxyUv6VUxg",
        "outputId": "67009090-f96c-49c7-a835-04eb6923266b"
      },
      "source": [
        "nums = [1, 0, 6, 5, 3, 4, 2, 3, 7]\n",
        "print(nums[::2])\n",
        "print(nums[::-1])"
      ],
      "execution_count": 45,
      "outputs": [
        {
          "output_type": "stream",
          "text": [
            "[1, 6, 3, 2, 7]\n",
            "[7, 3, 2, 4, 3, 5, 6, 0, 1]\n"
          ],
          "name": "stdout"
        }
      ]
    },
    {
      "cell_type": "markdown",
      "metadata": {
        "id": "1dxIAS-qVwH7"
      },
      "source": [
        "#### List 항목 수정"
      ]
    },
    {
      "cell_type": "code",
      "metadata": {
        "colab": {
          "base_uri": "https://localhost:8080/"
        },
        "id": "R4_rRyMOVuPS",
        "outputId": "736f327f-1dee-4b22-d4b2-6c90bcaad11f"
      },
      "source": [
        "motorcycles = ['honda', 'yamaha', 'suzuki']\n",
        "print(motorcycles)\n",
        "motorcycles[0] = 'ducati'\n",
        "motorcycles[1:3] = ['hollydavison', 'bmw']\n",
        "print(motorcycles)"
      ],
      "execution_count": 47,
      "outputs": [
        {
          "output_type": "stream",
          "text": [
            "['honda', 'yamaha', 'suzuki']\n",
            "['ducati', 'hollydavison', 'bmw']\n"
          ],
          "name": "stdout"
        }
      ]
    },
    {
      "cell_type": "markdown",
      "metadata": {
        "id": "UjaswKv-V20K"
      },
      "source": [
        "#### List vs Tuple"
      ]
    },
    {
      "cell_type": "code",
      "metadata": {
        "colab": {
          "base_uri": "https://localhost:8080/",
          "height": 195
        },
        "id": "MFwR6GDRV0Cn",
        "outputId": "7fc2bbe4-54eb-412e-f077-00c36c0f299b"
      },
      "source": [
        "items = (\"ruler\",\"pen\",\"eraser\")\n",
        "items[3] = \"scissors\""
      ],
      "execution_count": 49,
      "outputs": [
        {
          "output_type": "error",
          "ename": "TypeError",
          "evalue": "ignored",
          "traceback": [
            "\u001b[0;31m---------------------------------------------------------------------------\u001b[0m",
            "\u001b[0;31mTypeError\u001b[0m                                 Traceback (most recent call last)",
            "\u001b[0;32m<ipython-input-49-63425f06c47f>\u001b[0m in \u001b[0;36m<module>\u001b[0;34m()\u001b[0m\n\u001b[1;32m      1\u001b[0m \u001b[0mitems\u001b[0m \u001b[0;34m=\u001b[0m \u001b[0;34m(\u001b[0m\u001b[0;34m\"ruler\"\u001b[0m\u001b[0;34m,\u001b[0m\u001b[0;34m\"pen\"\u001b[0m\u001b[0;34m,\u001b[0m\u001b[0;34m\"eraser\"\u001b[0m\u001b[0;34m)\u001b[0m\u001b[0;34m\u001b[0m\u001b[0;34m\u001b[0m\u001b[0m\n\u001b[0;32m----> 2\u001b[0;31m \u001b[0mitems\u001b[0m\u001b[0;34m[\u001b[0m\u001b[0;36m3\u001b[0m\u001b[0;34m]\u001b[0m \u001b[0;34m=\u001b[0m \u001b[0;34m\"scissors\"\u001b[0m\u001b[0;34m\u001b[0m\u001b[0;34m\u001b[0m\u001b[0m\n\u001b[0m",
            "\u001b[0;31mTypeError\u001b[0m: 'tuple' object does not support item assignment"
          ]
        }
      ]
    },
    {
      "cell_type": "markdown",
      "metadata": {
        "id": "Ximd7ZFsWFiu"
      },
      "source": [
        "#### List 항목 추가\n",
        "- 항목 추가 : .append() \n",
        "  - 해당 리스트의 마지막에 인덱스를 추가하고 값 할당"
      ]
    },
    {
      "cell_type": "code",
      "metadata": {
        "colab": {
          "base_uri": "https://localhost:8080/"
        },
        "id": "gYivvTTmV7LG",
        "outputId": "625594d6-c5d7-4eae-e754-c22cf34be54c"
      },
      "source": [
        "motorcycles = ['honda', 'yamaha', 'suzuki']\n",
        "print(motorcycles)\n",
        "motorcycles.append('ducati')\n",
        "print(motorcycles)"
      ],
      "execution_count": 51,
      "outputs": [
        {
          "output_type": "stream",
          "text": [
            "['honda', 'yamaha', 'suzuki']\n",
            "['honda', 'yamaha', 'suzuki', 'ducati']\n"
          ],
          "name": "stdout"
        }
      ]
    },
    {
      "cell_type": "markdown",
      "metadata": {
        "id": "h8Y0Z87oWO1P"
      },
      "source": [
        "- 항목 추가 : insert() \n",
        "  - 지정한 인덱스에 값 추가"
      ]
    },
    {
      "cell_type": "code",
      "metadata": {
        "colab": {
          "base_uri": "https://localhost:8080/",
          "height": 139
        },
        "id": "KjFT7UiDWC7h",
        "outputId": "256f75d9-36f3-4eef-80e6-4850c4b20033"
      },
      "source": [
        "motorcycles = ['honda', 'yamaha', 'suzuki']\n",
        "motorcycles.insert(0, 'ducati’)\n",
        "print(motorcycles)"
      ],
      "execution_count": 52,
      "outputs": [
        {
          "output_type": "error",
          "ename": "SyntaxError",
          "evalue": "ignored",
          "traceback": [
            "\u001b[0;36m  File \u001b[0;32m\"<ipython-input-52-8195694cb25c>\"\u001b[0;36m, line \u001b[0;32m2\u001b[0m\n\u001b[0;31m    motorcycles.insert(0, 'ducati’)\u001b[0m\n\u001b[0m                                   ^\u001b[0m\n\u001b[0;31mSyntaxError\u001b[0m\u001b[0;31m:\u001b[0m EOL while scanning string literal\n"
          ]
        }
      ]
    },
    {
      "cell_type": "markdown",
      "metadata": {
        "id": "T1kFBg_eWfIJ"
      },
      "source": [
        "#### List 항목 제거\n",
        "- 항목 제거 : del \n",
        "  - 지정한 인덱스에 해당 하는 값 제거"
      ]
    },
    {
      "cell_type": "code",
      "metadata": {
        "colab": {
          "base_uri": "https://localhost:8080/"
        },
        "id": "8eI9V1ajWQ3S",
        "outputId": "b7571a67-ea21-4af9-c193-69dcdb3f4827"
      },
      "source": [
        "motorcycles = ['honda', 'yamaha', 'suzuki']\n",
        "print(motorcycles)\n",
        "del motorcycles[0]\n",
        "print(motorcycles)"
      ],
      "execution_count": 53,
      "outputs": [
        {
          "output_type": "stream",
          "text": [
            "['honda', 'yamaha', 'suzuki']\n",
            "['yamaha', 'suzuki']\n"
          ],
          "name": "stdout"
        }
      ]
    },
    {
      "cell_type": "markdown",
      "metadata": {
        "id": "2uUTKIVKWm4a"
      },
      "source": [
        "- 항목 제거 : .pop() \n",
        "  - 해당 리스트의 마지막 인덱스\n",
        "값 추출 하여 반환"
      ]
    },
    {
      "cell_type": "code",
      "metadata": {
        "colab": {
          "base_uri": "https://localhost:8080/"
        },
        "id": "5R0Yia8SWo5N",
        "outputId": "487cf3c4-dd94-434e-ded9-ab548fbcda0f"
      },
      "source": [
        "motorcycles = ['honda', 'yamaha', 'suzuki']\n",
        "print(motorcycles)\n",
        "popped_motorcycle = motorcycles.pop()\n",
        "print(motorcycles)\n",
        "print(popped_motorcycle)"
      ],
      "execution_count": 54,
      "outputs": [
        {
          "output_type": "stream",
          "text": [
            "['honda', 'yamaha', 'suzuki']\n",
            "['honda', 'yamaha']\n",
            "suzuki\n"
          ],
          "name": "stdout"
        }
      ]
    },
    {
      "cell_type": "markdown",
      "metadata": {
        "id": "9mpy9gnsWtxT"
      },
      "source": [
        "- 항목 제거 : .remove() \n",
        "  - 대상 리스트에서 지정한\n",
        "값 제거"
      ]
    },
    {
      "cell_type": "code",
      "metadata": {
        "colab": {
          "base_uri": "https://localhost:8080/"
        },
        "id": "63eYzt9IWlII",
        "outputId": "862573fc-d7f9-46a9-ec0c-1248d9961456"
      },
      "source": [
        "motorcycles = ['honda', 'yamaha', 'suzuki', 'ducati']\n",
        "print(motorcycles)\n",
        "motorcycles.remove('ducati')\n",
        "print(motorcycles)"
      ],
      "execution_count": 55,
      "outputs": [
        {
          "output_type": "stream",
          "text": [
            "['honda', 'yamaha', 'suzuki', 'ducati']\n",
            "['honda', 'yamaha', 'suzuki']\n"
          ],
          "name": "stdout"
        }
      ]
    },
    {
      "cell_type": "markdown",
      "metadata": {
        "id": "UVbxdv6aW3xY"
      },
      "source": [
        "#### List 합치기\n",
        "- 리스트 합치기 \n",
        "  - + 연산자"
      ]
    },
    {
      "cell_type": "code",
      "metadata": {
        "colab": {
          "base_uri": "https://localhost:8080/"
        },
        "id": "0pLe5tcwWshM",
        "outputId": "7dc600ee-3b2b-485d-d289-ca7b1c1d1464"
      },
      "source": [
        "motorcycles = ['honda', 'yamaha', 'suzuki', 'ducati']\n",
        "motorcycles = motorcycles + ['hollydavison', 'bmw']\n",
        "print(motorcycles)"
      ],
      "execution_count": 56,
      "outputs": [
        {
          "output_type": "stream",
          "text": [
            "['honda', 'yamaha', 'suzuki', 'ducati', 'hollydavison', 'bmw']\n"
          ],
          "name": "stdout"
        }
      ]
    },
    {
      "cell_type": "markdown",
      "metadata": {
        "id": "V2KWkWW2XBpY"
      },
      "source": [
        "- 리스트 합치기 : extend()"
      ]
    },
    {
      "cell_type": "code",
      "metadata": {
        "colab": {
          "base_uri": "https://localhost:8080/"
        },
        "id": "noxAHSWRW-Xn",
        "outputId": "7c1350b1-be17-4b37-a23f-738ca9a20790"
      },
      "source": [
        "motorcycles = ['honda', 'yamaha', 'suzuki', 'ducati']\n",
        "motorcycles.extend(['hollydavison', 'bmw'])\n",
        "print(motorcycles)"
      ],
      "execution_count": 57,
      "outputs": [
        {
          "output_type": "stream",
          "text": [
            "['honda', 'yamaha', 'suzuki', 'ducati', 'hollydavison', 'bmw']\n"
          ],
          "name": "stdout"
        }
      ]
    },
    {
      "cell_type": "markdown",
      "metadata": {
        "id": "quJwWbovXSaE"
      },
      "source": [
        "#### List 정렬 \n",
        "- 정렬 : .sort()"
      ]
    },
    {
      "cell_type": "code",
      "metadata": {
        "colab": {
          "base_uri": "https://localhost:8080/"
        },
        "id": "QcoRxIjQXDTf",
        "outputId": "d070b33e-ca96-436b-d4f2-ca3496995904"
      },
      "source": [
        "cars = ['hyundai', 'bmw', 'audi', 'toyota']\n",
        "cars.sort()\n",
        "print(cars)\n",
        "cars.sort(reverse=True)\n",
        "print(cars)"
      ],
      "execution_count": 59,
      "outputs": [
        {
          "output_type": "stream",
          "text": [
            "['audi', 'bmw', 'hyundai', 'toyota']\n",
            "['toyota', 'hyundai', 'bmw', 'audi']\n"
          ],
          "name": "stdout"
        }
      ]
    },
    {
      "cell_type": "markdown",
      "metadata": {
        "id": "btMs7Dt2X4Ha"
      },
      "source": [
        "#### List 역순\n",
        "- 순서 Reverse : .reverse() \n",
        "  - 리스트의 순서를 기존 인덱스 값 기준으로 역순 정렬"
      ]
    },
    {
      "cell_type": "code",
      "metadata": {
        "colab": {
          "base_uri": "https://localhost:8080/"
        },
        "id": "S2v0hV_tXPbY",
        "outputId": "0b7feb08-5b9e-4160-b331-8c1cb59adaa9"
      },
      "source": [
        "cars = ['bmw', 'audi', 'toyota', 'hyundai']\n",
        "print(cars)\n",
        "cars.reverse()\n",
        "print(cars)"
      ],
      "execution_count": 60,
      "outputs": [
        {
          "output_type": "stream",
          "text": [
            "['bmw', 'audi', 'toyota', 'hyundai']\n",
            "['hyundai', 'toyota', 'audi', 'bmw']\n"
          ],
          "name": "stdout"
        }
      ]
    },
    {
      "cell_type": "markdown",
      "metadata": {
        "id": "l4KGQDGPYA_h"
      },
      "source": [
        "#### List 통계함수"
      ]
    },
    {
      "cell_type": "code",
      "metadata": {
        "colab": {
          "base_uri": "https://localhost:8080/"
        },
        "id": "TA4DgVVAX_Aq",
        "outputId": "ba565295-1701-4609-ebca-94fd5e42a980"
      },
      "source": [
        "digits = [1, 2, 3, 4, 5, 6, 7, 8, 9, 0]\n",
        "print(min(digits))\n",
        "print(max(digits))\n",
        "print(sum(digits))"
      ],
      "execution_count": 61,
      "outputs": [
        {
          "output_type": "stream",
          "text": [
            "0\n",
            "9\n",
            "45\n"
          ],
          "name": "stdout"
        }
      ]
    },
    {
      "cell_type": "markdown",
      "metadata": {
        "id": "hQ_GbtQvYBPq"
      },
      "source": [
        "#### List 생성(변환)\n",
        "- list() 함수로 다른 시퀀스타입을 list타입으로 변환 가능"
      ]
    },
    {
      "cell_type": "code",
      "metadata": {
        "colab": {
          "base_uri": "https://localhost:8080/",
          "height": 139
        },
        "id": "VZpDWuzCYFhe",
        "outputId": "5d934456-d96d-4e40-d771-5f65b76f4493"
      },
      "source": [
        "a = range(3)\n",
        "print(list(range(3)))\n",
        "print(list(tuple(“a”, “b”)))\n",
        "print(list(“hello world”))"
      ],
      "execution_count": 62,
      "outputs": [
        {
          "output_type": "error",
          "ename": "SyntaxError",
          "evalue": "ignored",
          "traceback": [
            "\u001b[0;36m  File \u001b[0;32m\"<ipython-input-62-7ee48f2e7a79>\"\u001b[0;36m, line \u001b[0;32m3\u001b[0m\n\u001b[0;31m    print(list(tuple(“a”, “b”)))\u001b[0m\n\u001b[0m                       ^\u001b[0m\n\u001b[0;31mSyntaxError\u001b[0m\u001b[0;31m:\u001b[0m invalid character in identifier\n"
          ]
        }
      ]
    },
    {
      "cell_type": "markdown",
      "metadata": {
        "id": "IxBRDHMXYp55"
      },
      "source": [
        "#### List & 반복문"
      ]
    },
    {
      "cell_type": "code",
      "metadata": {
        "colab": {
          "base_uri": "https://localhost:8080/"
        },
        "id": "hQ40_1KxYbEH",
        "outputId": "c8db62ef-3b1c-4668-bb36-42264b1a6a54"
      },
      "source": [
        "# for…in : 순회가능한 객체의 index를 사용하여 반복\n",
        "alphabets = ['a', 'b', 'c']\n",
        "for alphabet in alphabets:\n",
        "  print(alphabet)"
      ],
      "execution_count": 64,
      "outputs": [
        {
          "output_type": "stream",
          "text": [
            "a\n",
            "b\n",
            "c\n"
          ],
          "name": "stdout"
        }
      ]
    },
    {
      "cell_type": "code",
      "metadata": {
        "colab": {
          "base_uri": "https://localhost:8080/",
          "height": 139
        },
        "id": "fKwbf17CY2KQ",
        "outputId": "595e7f8b-c8f9-4afa-c830-5bef14c5b600"
      },
      "source": [
        "# enumerate() : Index 출력도 필요할 시\n",
        "fruits = [‘lemon', ‘kiwi', ‘orange']\n",
        "for i, fruit in enumerate(fruits):\n",
        "  print(i, fruit)"
      ],
      "execution_count": 65,
      "outputs": [
        {
          "output_type": "error",
          "ename": "SyntaxError",
          "evalue": "ignored",
          "traceback": [
            "\u001b[0;36m  File \u001b[0;32m\"<ipython-input-65-c27565242f62>\"\u001b[0;36m, line \u001b[0;32m2\u001b[0m\n\u001b[0;31m    fruits = [‘lemon', ‘kiwi', ‘orange']\u001b[0m\n\u001b[0m                   ^\u001b[0m\n\u001b[0;31mSyntaxError\u001b[0m\u001b[0;31m:\u001b[0m invalid character in identifier\n"
          ]
        }
      ]
    },
    {
      "cell_type": "markdown",
      "metadata": {
        "id": "X_hKyuh9ZKUg"
      },
      "source": [
        "#### while loop"
      ]
    },
    {
      "cell_type": "code",
      "metadata": {
        "colab": {
          "base_uri": "https://localhost:8080/"
        },
        "id": "xyDlwFYgZBcc",
        "outputId": "2069b05c-805c-4153-af50-d1afd9f5a83c"
      },
      "source": [
        "# While\n",
        "i = 1\n",
        "while i < 6:\n",
        "  print( i )\n",
        "  i += 1"
      ],
      "execution_count": 68,
      "outputs": [
        {
          "output_type": "stream",
          "text": [
            "1\n",
            "2\n",
            "3\n",
            "4\n",
            "5\n"
          ],
          "name": "stdout"
        }
      ]
    },
    {
      "cell_type": "code",
      "metadata": {
        "colab": {
          "base_uri": "https://localhost:8080/"
        },
        "id": "86jUVU5JZG23",
        "outputId": "d3b0466d-cefa-4d7a-cdbd-0877917b3616"
      },
      "source": [
        "# break : 반복문을 빠져 나올 때 사용\n",
        "i = 1\n",
        "while i < 6:\n",
        "  print( i )\n",
        "  if i == 3:\n",
        "    break\n",
        "  i += 1"
      ],
      "execution_count": 70,
      "outputs": [
        {
          "output_type": "stream",
          "text": [
            "1\n",
            "2\n",
            "3\n"
          ],
          "name": "stdout"
        }
      ]
    },
    {
      "cell_type": "markdown",
      "metadata": {
        "id": "9RtwzMRZZpjb"
      },
      "source": [
        "#### Loop 단계 건너뛰기\n",
        "- continue: 반복문 다음으로 점프"
      ]
    },
    {
      "cell_type": "code",
      "metadata": {
        "colab": {
          "base_uri": "https://localhost:8080/"
        },
        "id": "-ToPZw5OZfBQ",
        "outputId": "c08f5aee-bbbd-407a-e1bd-5deaea7f976c"
      },
      "source": [
        "i = 0\n",
        "while i < 6:\n",
        "  i += 1\n",
        "  if i == 3:\n",
        "    continue\n",
        "  print(i)"
      ],
      "execution_count": 71,
      "outputs": [
        {
          "output_type": "stream",
          "text": [
            "1\n",
            "2\n",
            "4\n",
            "5\n",
            "6\n"
          ],
          "name": "stdout"
        }
      ]
    },
    {
      "cell_type": "markdown",
      "metadata": {
        "id": "uIPr0B-DZ535"
      },
      "source": [
        "### Shallow, Deep Copy"
      ]
    },
    {
      "cell_type": "code",
      "metadata": {
        "colab": {
          "base_uri": "https://localhost:8080/"
        },
        "id": "c0BvmihPZ1Xc",
        "outputId": "92aa09ba-c1be-4f26-8cbe-48aa94efd436"
      },
      "source": [
        "# 얕은 복사\n",
        "\n",
        "import copy\n",
        "\n",
        "a = [1, [1, 2, 3]] #1\n",
        "b = copy.copy(a) #2\n",
        "print(a)\n",
        "print(b)\n",
        "print('\\n')\n",
        "\n",
        "b[0] = 10 #3\n",
        "print(a)\n",
        "print(b)\n",
        "print('\\n')\n",
        "\n",
        "c = a\n",
        "c[1].append(4) #4\n",
        "print(a)\n",
        "print(b)\n",
        "print(c)"
      ],
      "execution_count": 72,
      "outputs": [
        {
          "output_type": "stream",
          "text": [
            "[1, [1, 2, 3]]\n",
            "[1, [1, 2, 3]]\n",
            "\n",
            "\n",
            "[1, [1, 2, 3]]\n",
            "[10, [1, 2, 3]]\n",
            "\n",
            "\n",
            "[1, [1, 2, 3, 4]]\n",
            "[10, [1, 2, 3, 4]]\n",
            "[1, [1, 2, 3, 4]]\n"
          ],
          "name": "stdout"
        }
      ]
    },
    {
      "cell_type": "code",
      "metadata": {
        "colab": {
          "base_uri": "https://localhost:8080/"
        },
        "id": "6tfsFMeReGsr",
        "outputId": "b2d242e3-e2f4-4650-f52b-e2695fd0b3db"
      },
      "source": [
        "# 깊은 복사\n",
        "\n",
        "import copy\n",
        "\n",
        "a = [1, [1,2,3]] #1\n",
        "b = copy.deepcopy(a) #2\n",
        "print(a)\n",
        "print(b)\n",
        "print('\\n')\n",
        "\n",
        "b[0] = 10 #3\n",
        "print(a)\n",
        "print(b)\n",
        "print('\\n')\n",
        "\n",
        "b[1].append(4) #4\n",
        "print(a)\n",
        "print(b)"
      ],
      "execution_count": 73,
      "outputs": [
        {
          "output_type": "stream",
          "text": [
            "[1, [1, 2, 3]]\n",
            "[1, [1, 2, 3]]\n",
            "\n",
            "\n",
            "[1, [1, 2, 3]]\n",
            "[10, [1, 2, 3]]\n",
            "\n",
            "\n",
            "[1, [1, 2, 3]]\n",
            "[10, [1, 2, 3, 4]]\n"
          ],
          "name": "stdout"
        }
      ]
    },
    {
      "cell_type": "markdown",
      "metadata": {
        "id": "owaq7wblms6c"
      },
      "source": [
        "### Dictionary"
      ]
    },
    {
      "cell_type": "markdown",
      "metadata": {
        "id": "tjz2RFYPmu-f"
      },
      "source": [
        "#### 딕셔너리\n",
        "- Key/Value 형태의 자료구조\n",
        "- Key 값으로 Value를 조회 가능\n",
        "- 리스트와 혼합된 형태로 사용 가능\n",
        "- { } 기호를 사용하여 생성"
      ]
    },
    {
      "cell_type": "code",
      "metadata": {
        "colab": {
          "base_uri": "https://localhost:8080/"
        },
        "id": "ffywN-gDmrey",
        "outputId": "f5b76ccf-1ab9-437e-f539-24c982bb5ad8"
      },
      "source": [
        "alien = {'color': 'green', 'points': 5}\n",
        "print(alien['color'])\n",
        "print(alien['points'])"
      ],
      "execution_count": 74,
      "outputs": [
        {
          "output_type": "stream",
          "text": [
            "green\n",
            "5\n"
          ],
          "name": "stdout"
        }
      ]
    },
    {
      "cell_type": "code",
      "metadata": {
        "colab": {
          "base_uri": "https://localhost:8080/"
        },
        "id": "WI_4CGBkm3YL",
        "outputId": "3597b1d7-9b24-4fd6-f843-fbd172b2139a"
      },
      "source": [
        "# 딕셔너리 항목 추가\n",
        "alien = {}\n",
        "alien['color'] = 'green'\n",
        "alien['points'] = 5\n",
        "print(alien)\n",
        "alien['x_position'] = 0\n",
        "alien['y_position'] = 25\n",
        "print(alien)"
      ],
      "execution_count": 76,
      "outputs": [
        {
          "output_type": "stream",
          "text": [
            "{'color': 'green', 'points': 5}\n",
            "{'color': 'green', 'points': 5, 'x_position': 0, 'y_position': 25}\n"
          ],
          "name": "stdout"
        }
      ]
    },
    {
      "cell_type": "code",
      "metadata": {
        "colab": {
          "base_uri": "https://localhost:8080/"
        },
        "id": "c357VPabm5Tq",
        "outputId": "ffbaf65b-fd35-4f79-a5ec-a858c8e8d3ed"
      },
      "source": [
        "# 딕셔너리 값 변경\n",
        "alien = {'color': 'green'}\n",
        "print(\"The alien is \" + alien['color'] + \".\")\n",
        "alien['color'] = 'yellow'\n",
        "print(\"The alien is now \" + alien['color'] + \".\")"
      ],
      "execution_count": 77,
      "outputs": [
        {
          "output_type": "stream",
          "text": [
            "The alien is green.\n",
            "The alien is now yellow.\n"
          ],
          "name": "stdout"
        }
      ]
    },
    {
      "cell_type": "markdown",
      "metadata": {
        "id": "wG_IgrNZnAP_"
      },
      "source": [
        "- 딕셔너리 항목 제거 : .pop() \n",
        "  - 해당 딕셔너리의 마지막 인덱스 값 추출 하여 반환"
      ]
    },
    {
      "cell_type": "code",
      "metadata": {
        "colab": {
          "base_uri": "https://localhost:8080/"
        },
        "id": "Wbql0kDPm-HU",
        "outputId": "42ddbcac-4169-48ea-e018-a8b5f5a1f4d0"
      },
      "source": [
        "alien = {'color': 'green', 'points': 5}\n",
        "print(alien)\n",
        "del alien['points']\n",
        "print(alien)\n",
        "c = alien.pop('color')\n",
        "print(c)\n",
        "print(alien)"
      ],
      "execution_count": 78,
      "outputs": [
        {
          "output_type": "stream",
          "text": [
            "{'color': 'green', 'points': 5}\n",
            "{'color': 'green'}\n",
            "green\n",
            "{}\n"
          ],
          "name": "stdout"
        }
      ]
    },
    {
      "cell_type": "markdown",
      "metadata": {
        "id": "cNH9GL_qnGVF"
      },
      "source": [
        "- 딕셔너리 key/value 접근 : .keys(), .values() \n",
        "  - .keys() : key 값들을 dict_keys 객체로 반환 \n",
        "  - .values() : value 값들을 dict_values 객체로 반환"
      ]
    },
    {
      "cell_type": "code",
      "metadata": {
        "colab": {
          "base_uri": "https://localhost:8080/"
        },
        "id": "TpTDYgiWnEtL",
        "outputId": "4842ac93-7590-4512-e421-7061bb60b95d"
      },
      "source": [
        "alien = {'color': 'green', 'points': 5}\n",
        "alien_keys = list(alien.keys())\n",
        "print(alien_keys)\n",
        "alien_values = list(alien.values())\n",
        "print(alien_values)"
      ],
      "execution_count": 79,
      "outputs": [
        {
          "output_type": "stream",
          "text": [
            "['color', 'points']\n",
            "['green', 5]\n"
          ],
          "name": "stdout"
        }
      ]
    },
    {
      "cell_type": "code",
      "metadata": {
        "id": "OpdVE4WpnML6"
      },
      "source": [
        "# 다중 딕셔너리\n",
        "myfamily = {\n",
        "  \"child1\" : {\n",
        "    \"name\" : \"Emil\",\n",
        "    \"year\" : 2004\n",
        "  },\n",
        "  \"child2\" : {\n",
        "    \"name\" : \"Tobias\",\n",
        "    \"year\" : 2007\n",
        "  },\n",
        "  \"child3\" : {\n",
        "    \"name\" : \"Linus\",\n",
        "    \"year\" : 2011\n",
        "  }\n",
        "}"
      ],
      "execution_count": 80,
      "outputs": []
    },
    {
      "cell_type": "markdown",
      "metadata": {
        "id": "3VQRHFreqeGd"
      },
      "source": [
        "#### 딕셔너리와 루핑\n",
        "- 딕셔너리 Looping\n",
        "  - Python 3.6부터는 딕셔너리의 삽입 순서를 보존하도록 동작이 개선됨"
      ]
    },
    {
      "cell_type": "code",
      "metadata": {
        "colab": {
          "base_uri": "https://localhost:8080/"
        },
        "id": "VjNigX71qZz2",
        "outputId": "e6c091e1-9725-4724-a9c1-2b97e4b2c73b"
      },
      "source": [
        "thisdict = {\n",
        "  \"brand\": \"Ford\",\n",
        "  \"model\": \"Mustang\",\n",
        "  \"year\": 1964\n",
        "}\n",
        "print(thisdict)"
      ],
      "execution_count": 82,
      "outputs": [
        {
          "output_type": "stream",
          "text": [
            "{'brand': 'Ford', 'model': 'Mustang', 'year': 1964}\n"
          ],
          "name": "stdout"
        }
      ]
    },
    {
      "cell_type": "markdown",
      "metadata": {
        "id": "nbqKuMGhqtUC"
      },
      "source": [
        "  - in의 인자 딕셔너리의 key 정보 출력"
      ]
    },
    {
      "cell_type": "code",
      "metadata": {
        "colab": {
          "base_uri": "https://localhost:8080/"
        },
        "id": "OMeuQzuwqmT6",
        "outputId": "2f23403b-00f7-493f-fc31-e28bd7ae3198"
      },
      "source": [
        "for x in thisdict:\n",
        "  print(x)"
      ],
      "execution_count": 83,
      "outputs": [
        {
          "output_type": "stream",
          "text": [
            "brand\n",
            "model\n",
            "year\n"
          ],
          "name": "stdout"
        }
      ]
    },
    {
      "cell_type": "markdown",
      "metadata": {
        "id": "z0dwDcHAqzYB"
      },
      "source": [
        "  - looping 되는 key 값을 이용하여 value 정보 출겨"
      ]
    },
    {
      "cell_type": "code",
      "metadata": {
        "colab": {
          "base_uri": "https://localhost:8080/"
        },
        "id": "hlMTAU61qyJl",
        "outputId": "5a1b4e69-8849-4a45-fcf5-4cc3bed3e81c"
      },
      "source": [
        "for x in thisdict:\n",
        "  print(thisdict[x])"
      ],
      "execution_count": 84,
      "outputs": [
        {
          "output_type": "stream",
          "text": [
            "Ford\n",
            "Mustang\n",
            "1964\n"
          ],
          "name": "stdout"
        }
      ]
    },
    {
      "cell_type": "markdown",
      "metadata": {
        "id": "5P8N2De0q5cE"
      },
      "source": [
        "  - .values() 함수를 이용하여 전달받은 dict_values 객체를 이용하여 value 정보 출력"
      ]
    },
    {
      "cell_type": "code",
      "metadata": {
        "colab": {
          "base_uri": "https://localhost:8080/"
        },
        "id": "CUyTlqb9q3V5",
        "outputId": "cd52af6a-caf3-4f14-dd24-703e2706e0c3"
      },
      "source": [
        "for x in thisdict.values():\n",
        "  print(x)"
      ],
      "execution_count": 86,
      "outputs": [
        {
          "output_type": "stream",
          "text": [
            "Ford\n",
            "Mustang\n",
            "1964\n"
          ],
          "name": "stdout"
        }
      ]
    },
    {
      "cell_type": "markdown",
      "metadata": {
        "id": "VwBCa4Vuq-Tc"
      },
      "source": [
        "  - .items() 함수를 이용하여 전달받은 dict_itemss 객체를 이용하여 key, value 정보를 출\n",
        "력"
      ]
    },
    {
      "cell_type": "code",
      "metadata": {
        "colab": {
          "base_uri": "https://localhost:8080/"
        },
        "id": "PbsFjVu0q7rG",
        "outputId": "b9ad7d4f-8b4f-442c-84a2-ca123374fefa"
      },
      "source": [
        "for x, y in thisdict.items():\n",
        "  print(x, y)"
      ],
      "execution_count": 87,
      "outputs": [
        {
          "output_type": "stream",
          "text": [
            "brand Ford\n",
            "model Mustang\n",
            "year 1964\n"
          ],
          "name": "stdout"
        }
      ]
    },
    {
      "cell_type": "markdown",
      "metadata": {
        "id": "JzB9nsNdrDLn"
      },
      "source": [
        "#### 딕셔너리와 함수\n",
        " - **kwargs로 모든 인자를 얻는 경우(내부에서 딕셔너리로 취급)"
      ]
    },
    {
      "cell_type": "code",
      "metadata": {
        "colab": {
          "base_uri": "https://localhost:8080/"
        },
        "id": "YHNakzxjrBya",
        "outputId": "2809711d-97bb-4198-8631-e1da16f1984f"
      },
      "source": [
        "def my_func(**kwargs) :\n",
        "  for key, value in kwargs.items():\n",
        "    print(f'{key} = {value}')\n",
        "\n",
        "my_func(name = \"홍길동\", grade = \"A\")"
      ],
      "execution_count": 88,
      "outputs": [
        {
          "output_type": "stream",
          "text": [
            "name = 홍길동\n",
            "grade = A\n"
          ],
          "name": "stdout"
        }
      ]
    },
    {
      "cell_type": "markdown",
      "metadata": {
        "id": "iYKTL0ufrXS1"
      },
      "source": [
        "#### 딕셔너리와 keyError\n",
        "- Key를 이용한 접근 시, KeyError를 방어"
      ]
    },
    {
      "cell_type": "code",
      "metadata": {
        "colab": {
          "base_uri": "https://localhost:8080/"
        },
        "id": "2ZlFN1hUrUJL",
        "outputId": "1bbee491-a0ef-45bd-d11b-dea61eee4b05"
      },
      "source": [
        "counters = {\n",
        "    '홍길동' : 3,\n",
        "    '김서방' : 2,\n",
        "}\n",
        "\n",
        "key = '이신성'\n",
        "\n",
        "if key in counters : \n",
        "  count = counters[key]\n",
        "else : \n",
        "  count = 0\n",
        "\n",
        "counters[key] = count + 1\n",
        "\n",
        "print(counters)"
      ],
      "execution_count": 89,
      "outputs": [
        {
          "output_type": "stream",
          "text": [
            "{'홍길동': 3, '김서방': 2, '이신성': 1}\n"
          ],
          "name": "stdout"
        }
      ]
    },
    {
      "cell_type": "code",
      "metadata": {
        "colab": {
          "base_uri": "https://localhost:8080/",
          "height": 213
        },
        "id": "NnQfiiNCru9w",
        "outputId": "fe488c3f-788f-4b57-aebd-1bd05de0aa95"
      },
      "source": [
        "# Key 가 존재하지 않는 경우, 심각한 에러 발생\n",
        "key = '코드프레소'\n",
        "count = counters[key]\n",
        "print(count)"
      ],
      "execution_count": 90,
      "outputs": [
        {
          "output_type": "error",
          "ename": "KeyError",
          "evalue": "ignored",
          "traceback": [
            "\u001b[0;31m---------------------------------------------------------------------------\u001b[0m",
            "\u001b[0;31mKeyError\u001b[0m                                  Traceback (most recent call last)",
            "\u001b[0;32m<ipython-input-90-444023eba336>\u001b[0m in \u001b[0;36m<module>\u001b[0;34m()\u001b[0m\n\u001b[1;32m      1\u001b[0m \u001b[0mkey\u001b[0m \u001b[0;34m=\u001b[0m \u001b[0;34m'코드프레소'\u001b[0m\u001b[0;34m\u001b[0m\u001b[0;34m\u001b[0m\u001b[0m\n\u001b[0;32m----> 2\u001b[0;31m \u001b[0mcount\u001b[0m \u001b[0;34m=\u001b[0m \u001b[0mcounters\u001b[0m\u001b[0;34m[\u001b[0m\u001b[0mkey\u001b[0m\u001b[0;34m]\u001b[0m\u001b[0;34m\u001b[0m\u001b[0;34m\u001b[0m\u001b[0m\n\u001b[0m\u001b[1;32m      3\u001b[0m \u001b[0mprint\u001b[0m\u001b[0;34m(\u001b[0m\u001b[0mcount\u001b[0m\u001b[0;34m)\u001b[0m\u001b[0;34m\u001b[0m\u001b[0;34m\u001b[0m\u001b[0m\n",
            "\u001b[0;31mKeyError\u001b[0m: '코드프레소'"
          ]
        }
      ]
    },
    {
      "cell_type": "code",
      "metadata": {
        "colab": {
          "base_uri": "https://localhost:8080/"
        },
        "id": "M1HWPuSsry27",
        "outputId": "5346c3d7-6e85-450b-bef8-e634e8dee609"
      },
      "source": [
        "# 방법 1. 방어적인 Style\n",
        "try : \n",
        "  count = counters[key]\n",
        "except KeyError :\n",
        "  count = 0\n",
        "\n",
        "print(count)"
      ],
      "execution_count": 91,
      "outputs": [
        {
          "output_type": "stream",
          "text": [
            "0\n"
          ],
          "name": "stdout"
        }
      ]
    },
    {
      "cell_type": "code",
      "metadata": {
        "colab": {
          "base_uri": "https://localhost:8080/"
        },
        "id": "kJT2Zoh2sd1M",
        "outputId": "4574dcef-aed6-446c-cac0-223262d8b93a"
      },
      "source": [
        "# 방법 2. 방어적인 Style\n",
        "key = '코드프레소'\n",
        "count = counters.get(key, 0)\n",
        "counters[key] = count + 1\n",
        "print(counters)"
      ],
      "execution_count": 93,
      "outputs": [
        {
          "output_type": "stream",
          "text": [
            "{'홍길동': 3, '김서방': 2, '이신성': 1, '코드프레소': 2}\n"
          ],
          "name": "stdout"
        }
      ]
    },
    {
      "cell_type": "markdown",
      "metadata": {
        "id": "nywsB3zUsnMM"
      },
      "source": [
        "#### 문제 : 딕셔너리\n",
        "- 아래는 어떤 반의 국어, 수학 점수이다. 과목별 평균을 구하여라"
      ]
    },
    {
      "cell_type": "code",
      "metadata": {
        "id": "ROUHwP59sjkN"
      },
      "source": [
        "reports = {\"tom\": {\"kor\": 60, \"math\": 100},\n",
        "           \"suzy\": {\"kor\": 70, \"math\": 90},\n",
        "           \"lina\": {\"kor\": 80, \"math\": 75},\n",
        "           \"alice\": {\"kor\": 90, \"math\": 85},\n",
        "           }"
      ],
      "execution_count": 94,
      "outputs": []
    },
    {
      "cell_type": "markdown",
      "metadata": {
        "id": "9uwwaQ4ktDen"
      },
      "source": [
        "### Set, Enum Type"
      ]
    },
    {
      "cell_type": "markdown",
      "metadata": {
        "id": "SvoSpMdfupLK"
      },
      "source": [
        "#### Enum Type\n",
        "- 파이썬은 버전 3.4부터 다른 언어들처럼 enum(enumeration, 이넘) 타입을 지원\n",
        "- enum은 일반적으로 서로 관련이 있는 여러 개의 상수의 집합을 정의할 때 사용됨\n",
        "- enum 클래스를 사용하면 인스턴스의 종류를 제한할 수 있기 때문에 견고한 프로그램을 작성할 수 있음"
      ]
    },
    {
      "cell_type": "markdown",
      "metadata": {
        "id": "9eqqJ7dlurPo"
      },
      "source": [
        "#### Enum Type"
      ]
    },
    {
      "cell_type": "code",
      "metadata": {
        "id": "w6HxLGVMtAj0"
      },
      "source": [
        "# 예시 : Enum class 를 확장하여 MyMajor Type 을 만들어 보자\n",
        "\n",
        "class MyMajor():\n",
        "  Ai = 1\n",
        "  Math = 2\n",
        "  Eng = 3"
      ],
      "execution_count": 99,
      "outputs": []
    },
    {
      "cell_type": "code",
      "metadata": {
        "colab": {
          "base_uri": "https://localhost:8080/"
        },
        "id": "u4YGz4qaunLF",
        "outputId": "7371bb9d-138b-4e93-c745-f4e66f130ceb"
      },
      "source": [
        "# 예시1 활용 : MyMajoy Type 의 Name 과 Value 에 접근해 보자\n",
        "MyMajor.Ai"
      ],
      "execution_count": 102,
      "outputs": [
        {
          "output_type": "execute_result",
          "data": {
            "text/plain": [
              "1"
            ]
          },
          "metadata": {
            "tags": []
          },
          "execution_count": 102
        }
      ]
    },
    {
      "cell_type": "code",
      "metadata": {
        "colab": {
          "base_uri": "https://localhost:8080/",
          "height": 176
        },
        "id": "7rncO3LevG_H",
        "outputId": "e74d2a35-2451-48c1-c67c-41776baafe4c"
      },
      "source": [
        "MyMajor.Ai.name"
      ],
      "execution_count": 103,
      "outputs": [
        {
          "output_type": "error",
          "ename": "AttributeError",
          "evalue": "ignored",
          "traceback": [
            "\u001b[0;31m---------------------------------------------------------------------------\u001b[0m",
            "\u001b[0;31mAttributeError\u001b[0m                            Traceback (most recent call last)",
            "\u001b[0;32m<ipython-input-103-6655de10f2f3>\u001b[0m in \u001b[0;36m<module>\u001b[0;34m()\u001b[0m\n\u001b[0;32m----> 1\u001b[0;31m \u001b[0mMyMajor\u001b[0m\u001b[0;34m.\u001b[0m\u001b[0mAi\u001b[0m\u001b[0;34m.\u001b[0m\u001b[0mname\u001b[0m\u001b[0;34m\u001b[0m\u001b[0;34m\u001b[0m\u001b[0m\n\u001b[0m",
            "\u001b[0;31mAttributeError\u001b[0m: 'int' object has no attribute 'name'"
          ]
        }
      ]
    },
    {
      "cell_type": "code",
      "metadata": {
        "colab": {
          "base_uri": "https://localhost:8080/",
          "height": 176
        },
        "id": "_xAzv4AfvUHv",
        "outputId": "adf795f5-4507-4ba9-a936-6b3635bcdcbd"
      },
      "source": [
        "Mymajor.Ai.value"
      ],
      "execution_count": 104,
      "outputs": [
        {
          "output_type": "error",
          "ename": "NameError",
          "evalue": "ignored",
          "traceback": [
            "\u001b[0;31m---------------------------------------------------------------------------\u001b[0m",
            "\u001b[0;31mNameError\u001b[0m                                 Traceback (most recent call last)",
            "\u001b[0;32m<ipython-input-104-932c084b7879>\u001b[0m in \u001b[0;36m<module>\u001b[0;34m()\u001b[0m\n\u001b[0;32m----> 1\u001b[0;31m \u001b[0mMymajor\u001b[0m\u001b[0;34m.\u001b[0m\u001b[0mAi\u001b[0m\u001b[0;34m.\u001b[0m\u001b[0mvalue\u001b[0m\u001b[0;34m\u001b[0m\u001b[0;34m\u001b[0m\u001b[0m\n\u001b[0m",
            "\u001b[0;31mNameError\u001b[0m: name 'Mymajor' is not defined"
          ]
        }
      ]
    },
    {
      "cell_type": "code",
      "metadata": {
        "colab": {
          "base_uri": "https://localhost:8080/",
          "height": 251
        },
        "id": "l-Syj4VAva30",
        "outputId": "e76fe122-2a3d-4ea6-c982-fb6820eecc0d"
      },
      "source": [
        "# 예시2 활용\n",
        "\n",
        "for i in MyMajor :\n",
        "  print(i, end = ', ')\n",
        "\n",
        "print('\\n')\n",
        "\n",
        "for i in MyMajor : \n",
        "  print(i.name, end=', ')\n",
        "\n",
        "print('\\n')\n",
        "\n",
        "for i in MyMajor : \n",
        "  print(i.value, end = ', ')"
      ],
      "execution_count": 105,
      "outputs": [
        {
          "output_type": "error",
          "ename": "TypeError",
          "evalue": "ignored",
          "traceback": [
            "\u001b[0;31m---------------------------------------------------------------------------\u001b[0m",
            "\u001b[0;31mTypeError\u001b[0m                                 Traceback (most recent call last)",
            "\u001b[0;32m<ipython-input-105-9afc4dc3c072>\u001b[0m in \u001b[0;36m<module>\u001b[0;34m()\u001b[0m\n\u001b[1;32m      1\u001b[0m \u001b[0;31m# 예시2 활용\u001b[0m\u001b[0;34m\u001b[0m\u001b[0;34m\u001b[0m\u001b[0;34m\u001b[0m\u001b[0m\n\u001b[1;32m      2\u001b[0m \u001b[0;34m\u001b[0m\u001b[0m\n\u001b[0;32m----> 3\u001b[0;31m \u001b[0;32mfor\u001b[0m \u001b[0mi\u001b[0m \u001b[0;32min\u001b[0m \u001b[0mMyMajor\u001b[0m \u001b[0;34m:\u001b[0m\u001b[0;34m\u001b[0m\u001b[0;34m\u001b[0m\u001b[0m\n\u001b[0m\u001b[1;32m      4\u001b[0m   \u001b[0mprint\u001b[0m\u001b[0;34m(\u001b[0m\u001b[0mi\u001b[0m\u001b[0;34m,\u001b[0m \u001b[0mend\u001b[0m \u001b[0;34m=\u001b[0m \u001b[0;34m', '\u001b[0m\u001b[0;34m)\u001b[0m\u001b[0;34m\u001b[0m\u001b[0;34m\u001b[0m\u001b[0m\n\u001b[1;32m      5\u001b[0m \u001b[0;34m\u001b[0m\u001b[0m\n",
            "\u001b[0;31mTypeError\u001b[0m: 'type' object is not iterable"
          ]
        }
      ]
    },
    {
      "cell_type": "markdown",
      "metadata": {
        "id": "Br3QyzVpvx-S"
      },
      "source": [
        "#### 셋(set)\n",
        "- 딕셔너리처럼 { } 기호를 사용\n",
        "- set()\n",
        "- 단독으로 {} 선언시 딕셔너리로 판단\n",
        "- {} 이용하여 생성시 반드시 요소값이 있어야 함\n",
        "- add(), discard() 사용하여 컨트롤"
      ]
    },
    {
      "cell_type": "code",
      "metadata": {
        "id": "9klFnPYxvwtc"
      },
      "source": [
        "s = set()\n",
        "s.add(10)\n",
        "s.add(13)\n",
        "s.add(15)"
      ],
      "execution_count": 106,
      "outputs": []
    },
    {
      "cell_type": "code",
      "metadata": {
        "colab": {
          "base_uri": "https://localhost:8080/"
        },
        "id": "7YwYF4WhwEw-",
        "outputId": "1ac70162-1db3-4490-9167-7055524289d0"
      },
      "source": [
        "s"
      ],
      "execution_count": 107,
      "outputs": [
        {
          "output_type": "execute_result",
          "data": {
            "text/plain": [
              "{10, 13, 15}"
            ]
          },
          "metadata": {
            "tags": []
          },
          "execution_count": 107
        }
      ]
    },
    {
      "cell_type": "code",
      "metadata": {
        "id": "joJoVIMkwFVW"
      },
      "source": [
        "s.discard(13)"
      ],
      "execution_count": 108,
      "outputs": []
    },
    {
      "cell_type": "code",
      "metadata": {
        "colab": {
          "base_uri": "https://localhost:8080/"
        },
        "id": "WJ992TLCwGeS",
        "outputId": "a623cd07-0214-4287-e7d9-4143532088d1"
      },
      "source": [
        "s"
      ],
      "execution_count": 109,
      "outputs": [
        {
          "output_type": "execute_result",
          "data": {
            "text/plain": [
              "{10, 15}"
            ]
          },
          "metadata": {
            "tags": []
          },
          "execution_count": 109
        }
      ]
    },
    {
      "cell_type": "code",
      "metadata": {
        "id": "kt4MJF7xwGxE"
      },
      "source": [
        "# 예시 활용 - set type은 중복을 허용하지 않는다. \n",
        "s.add(13)\n",
        "s.add(15)\n",
        "s.add(15)"
      ],
      "execution_count": 110,
      "outputs": []
    },
    {
      "cell_type": "code",
      "metadata": {
        "colab": {
          "base_uri": "https://localhost:8080/"
        },
        "id": "L52o_Ni8wKWh",
        "outputId": "d48589ef-7dc4-4e7b-c4c1-20247c273949"
      },
      "source": [
        "s"
      ],
      "execution_count": 111,
      "outputs": [
        {
          "output_type": "execute_result",
          "data": {
            "text/plain": [
              "{10, 13, 15}"
            ]
          },
          "metadata": {
            "tags": []
          },
          "execution_count": 111
        }
      ]
    },
    {
      "cell_type": "code",
      "metadata": {
        "id": "sPSwUjqgwKf9"
      },
      "source": [
        "# 예시 활용\n",
        "x = set()\n",
        "x.add(1)\n",
        "x.add(3)\n",
        "x.add(5)\n",
        "x.add(13)"
      ],
      "execution_count": 112,
      "outputs": []
    },
    {
      "cell_type": "code",
      "metadata": {
        "colab": {
          "base_uri": "https://localhost:8080/"
        },
        "id": "rkCRyeCgwUeM",
        "outputId": "b860b509-ba14-4824-a95e-056fd97f9a06"
      },
      "source": [
        "x"
      ],
      "execution_count": 113,
      "outputs": [
        {
          "output_type": "execute_result",
          "data": {
            "text/plain": [
              "{1, 3, 5, 13}"
            ]
          },
          "metadata": {
            "tags": []
          },
          "execution_count": 113
        }
      ]
    },
    {
      "cell_type": "code",
      "metadata": {
        "colab": {
          "base_uri": "https://localhost:8080/"
        },
        "id": "wEIH9jGxwUp8",
        "outputId": "57295d23-5923-43ce-8d31-36efb4611e32"
      },
      "source": [
        "x.intersection(s)"
      ],
      "execution_count": 114,
      "outputs": [
        {
          "output_type": "execute_result",
          "data": {
            "text/plain": [
              "{13}"
            ]
          },
          "metadata": {
            "tags": []
          },
          "execution_count": 114
        }
      ]
    },
    {
      "cell_type": "code",
      "metadata": {
        "colab": {
          "base_uri": "https://localhost:8080/"
        },
        "id": "v3QnQ5z2wVw3",
        "outputId": "b2b42a38-332c-4fe3-84a9-64998720837b"
      },
      "source": [
        "x.union(s)"
      ],
      "execution_count": 115,
      "outputs": [
        {
          "output_type": "execute_result",
          "data": {
            "text/plain": [
              "{1, 3, 5, 10, 13, 15}"
            ]
          },
          "metadata": {
            "tags": []
          },
          "execution_count": 115
        }
      ]
    },
    {
      "cell_type": "code",
      "metadata": {
        "colab": {
          "base_uri": "https://localhost:8080/"
        },
        "id": "ZC7NKBblwW9v",
        "outputId": "c0e6af02-7a5c-4130-b4d5-019f96fe9283"
      },
      "source": [
        "x.difference(s)"
      ],
      "execution_count": 116,
      "outputs": [
        {
          "output_type": "execute_result",
          "data": {
            "text/plain": [
              "{1, 3, 5}"
            ]
          },
          "metadata": {
            "tags": []
          },
          "execution_count": 116
        }
      ]
    },
    {
      "cell_type": "code",
      "metadata": {
        "colab": {
          "base_uri": "https://localhost:8080/"
        },
        "id": "8T_FATRgwYL-",
        "outputId": "488f7fe9-904b-4661-8ef4-a26f89856981"
      },
      "source": [
        "x.union(s) - x"
      ],
      "execution_count": 117,
      "outputs": [
        {
          "output_type": "execute_result",
          "data": {
            "text/plain": [
              "{10, 15}"
            ]
          },
          "metadata": {
            "tags": []
          },
          "execution_count": 117
        }
      ]
    },
    {
      "cell_type": "markdown",
      "metadata": {
        "id": "9DQGjaHOweYK"
      },
      "source": [
        "#### C가 메모리를 사용하는 방법\n",
        "- 정수 데이터 타입의 변수 a를 선언\n",
        "- assign (=) 연산으로 데이터를 저장 (정수만 저장 가능)"
      ]
    },
    {
      "cell_type": "markdown",
      "metadata": {
        "id": "nV-P_P7Twt7k"
      },
      "source": [
        "#### 파이썬이 메모리를 사용하는 방법\n",
        "- a = 100"
      ]
    },
    {
      "cell_type": "markdown",
      "metadata": {
        "id": "Sx6olN72wy1-"
      },
      "source": [
        "#### 리스트와 메모리\n",
        "- life = [['Canada', 76.5],['United States', 75.5],['Mexico', 72.0]]"
      ]
    },
    {
      "cell_type": "markdown",
      "metadata": {
        "id": "Gsf0NwTFw9VG"
      },
      "source": [
        "### Function"
      ]
    },
    {
      "cell_type": "markdown",
      "metadata": {
        "id": "p3_f9IVNxARA"
      },
      "source": [
        "#### 함수(function)\n",
        "- 함수란?"
      ]
    },
    {
      "cell_type": "code",
      "metadata": {
        "id": "_iWyZyIswZS2"
      },
      "source": [
        "def polynomial(a, b, c, x) :\n",
        "  first = a * x * x\n",
        "  second = b + x\n",
        "  third = c\n",
        "  return first + second + third"
      ],
      "execution_count": 119,
      "outputs": []
    },
    {
      "cell_type": "code",
      "metadata": {
        "colab": {
          "base_uri": "https://localhost:8080/"
        },
        "id": "8jCDPzc9wdPr",
        "outputId": "00c82c0f-125f-431d-ada5-06af2b8a48a8"
      },
      "source": [
        "polynomial(2, 3, 4, 1.5)"
      ],
      "execution_count": 120,
      "outputs": [
        {
          "output_type": "execute_result",
          "data": {
            "text/plain": [
              "13.0"
            ]
          },
          "metadata": {
            "tags": []
          },
          "execution_count": 120
        }
      ]
    },
    {
      "cell_type": "code",
      "metadata": {
        "colab": {
          "base_uri": "https://localhost:8080/"
        },
        "id": "BDTK7BnexvE3",
        "outputId": "ed2518b1-175c-4775-e195-c7eef99bf56f"
      },
      "source": [
        "polynomial(2, 3, 4, 2)"
      ],
      "execution_count": 121,
      "outputs": [
        {
          "output_type": "execute_result",
          "data": {
            "text/plain": [
              "17"
            ]
          },
          "metadata": {
            "tags": []
          },
          "execution_count": 121
        }
      ]
    },
    {
      "cell_type": "code",
      "metadata": {
        "colab": {
          "base_uri": "https://localhost:8080/",
          "height": 176
        },
        "id": "9Xg4Zuguxwxj",
        "outputId": "2d371b92-5d06-40a7-8871-1050facf5e66"
      },
      "source": [
        "first"
      ],
      "execution_count": 122,
      "outputs": [
        {
          "output_type": "error",
          "ename": "NameError",
          "evalue": "ignored",
          "traceback": [
            "\u001b[0;31m---------------------------------------------------------------------------\u001b[0m",
            "\u001b[0;31mNameError\u001b[0m                                 Traceback (most recent call last)",
            "\u001b[0;32m<ipython-input-122-271ac93c44ac>\u001b[0m in \u001b[0;36m<module>\u001b[0;34m()\u001b[0m\n\u001b[0;32m----> 1\u001b[0;31m \u001b[0mfirst\u001b[0m\u001b[0;34m\u001b[0m\u001b[0;34m\u001b[0m\u001b[0m\n\u001b[0m",
            "\u001b[0;31mNameError\u001b[0m: name 'first' is not defined"
          ]
        }
      ]
    },
    {
      "cell_type": "markdown",
      "metadata": {
        "id": "uip0YR5Wx0yw"
      },
      "source": [
        "- 인수와 매개변수\n",
        "  - 인수와 함수를 호출하면 인수의 값이 함수 내에서\n",
        "  - 해당하는 매개변수에 복사됨"
      ]
    },
    {
      "cell_type": "code",
      "metadata": {
        "colab": {
          "base_uri": "https://localhost:8080/"
        },
        "id": "7aXTNvFtx-2x",
        "outputId": "793a0c8b-2264-49e0-efba-50d551fc5af9"
      },
      "source": [
        "def greet_user(username) :\n",
        "  print(\"Hello, \" + username.title() + \"!\")\n",
        "\n",
        "greet_user('jesse')"
      ],
      "execution_count": 123,
      "outputs": [
        {
          "output_type": "stream",
          "text": [
            "Hello, Jesse!\n"
          ],
          "name": "stdout"
        }
      ]
    },
    {
      "cell_type": "markdown",
      "metadata": {
        "id": "vWH7vf0Yx7dh"
      },
      "source": [
        "- 함수 파라미터 누락 시, Type Error 발생"
      ]
    },
    {
      "cell_type": "code",
      "metadata": {
        "colab": {
          "base_uri": "https://localhost:8080/",
          "height": 213
        },
        "id": "VFSymF2RxxiC",
        "outputId": "7e3cd6b2-83eb-40b5-ba11-5dd520a78613"
      },
      "source": [
        "def user_description(age, name) :\n",
        "  return f'{name}은 {age}살 입니다'\n",
        "print(user_description(10))"
      ],
      "execution_count": 124,
      "outputs": [
        {
          "output_type": "error",
          "ename": "TypeError",
          "evalue": "ignored",
          "traceback": [
            "\u001b[0;31m---------------------------------------------------------------------------\u001b[0m",
            "\u001b[0;31mTypeError\u001b[0m                                 Traceback (most recent call last)",
            "\u001b[0;32m<ipython-input-124-5a15666302c7>\u001b[0m in \u001b[0;36m<module>\u001b[0;34m()\u001b[0m\n\u001b[1;32m      1\u001b[0m \u001b[0;32mdef\u001b[0m \u001b[0muser_description\u001b[0m\u001b[0;34m(\u001b[0m\u001b[0mage\u001b[0m\u001b[0;34m,\u001b[0m \u001b[0mname\u001b[0m\u001b[0;34m)\u001b[0m \u001b[0;34m:\u001b[0m\u001b[0;34m\u001b[0m\u001b[0;34m\u001b[0m\u001b[0m\n\u001b[1;32m      2\u001b[0m   \u001b[0;32mreturn\u001b[0m \u001b[0;34mf'{name}은 {age}살 입니다'\u001b[0m\u001b[0;34m\u001b[0m\u001b[0;34m\u001b[0m\u001b[0m\n\u001b[0;32m----> 3\u001b[0;31m \u001b[0mprint\u001b[0m\u001b[0;34m(\u001b[0m\u001b[0muser_description\u001b[0m\u001b[0;34m(\u001b[0m\u001b[0;36m10\u001b[0m\u001b[0;34m)\u001b[0m\u001b[0;34m)\u001b[0m\u001b[0;34m\u001b[0m\u001b[0;34m\u001b[0m\u001b[0m\n\u001b[0m",
            "\u001b[0;31mTypeError\u001b[0m: user_description() missing 1 required positional argument: 'name'"
          ]
        }
      ]
    },
    {
      "cell_type": "markdown",
      "metadata": {
        "id": "oeMXkUwNyPfN"
      },
      "source": [
        "- Parameters 에 매빙되는 arguments를 정의함으로써, 함수 prototype 과 다른 순서로 지정 가능"
      ]
    },
    {
      "cell_type": "code",
      "metadata": {
        "colab": {
          "base_uri": "https://localhost:8080/"
        },
        "id": "-tnRwu9nyNu2",
        "outputId": "ed66f14c-3f2d-4554-8479-837083ee4b34"
      },
      "source": [
        "def menu(morning, afternoon, dinner) : \n",
        "  print(f'아침은 {morning}\\n, 점심은 {afternoon}\\n, 저녁은 {dinner}\\n')\n",
        "\n",
        "menu(morning = 'pancake', afternoon = 'noodle', dinner = 'rice')\n",
        "menu(morning = 'pancake', dinner = 'rice', afternoon = 'noodle')"
      ],
      "execution_count": 125,
      "outputs": [
        {
          "output_type": "stream",
          "text": [
            "아침은 pancake\n",
            ", 점심은 noodle\n",
            ", 저녁은 rice\n",
            "\n",
            "아침은 pancake\n",
            ", 점심은 noodle\n",
            ", 저녁은 rice\n",
            "\n"
          ],
          "name": "stdout"
        }
      ]
    },
    {
      "cell_type": "markdown",
      "metadata": {
        "id": "s0rThZZdyqPA"
      },
      "source": [
        "- Default paramter"
      ]
    },
    {
      "cell_type": "code",
      "metadata": {
        "colab": {
          "base_uri": "https://localhost:8080/"
        },
        "id": "mGCiHqK3yna8",
        "outputId": "0892c868-e526-4078-e9c1-63d8fddf424e"
      },
      "source": [
        "def menu(morning, afternoon, dinner='rice'):\n",
        "  print(f'아침은 {morning}\\n, 점심은 {afternoon}\\n, 저녁은 {dinner}\\n')\n",
        "menu('rice', 'cake')\n"
      ],
      "execution_count": 127,
      "outputs": [
        {
          "output_type": "stream",
          "text": [
            "아침은 rice\n",
            ", 점심은 cake\n",
            ", 저녁은 rice\n",
            "\n"
          ],
          "name": "stdout"
        }
      ]
    },
    {
      "cell_type": "markdown",
      "metadata": {
        "id": "XD7bN7nwywKg"
      },
      "source": [
        "- 가변 파라미터\n",
        "  - arguments : tuple <-- 아래에서 보면 \"홍길동\", \"40\" 정보를 packing 한다. \n",
        "  - keywords : dict <-- 아래에서 보면 addr = ~ grad = \"good\" 정보를 packing 한다."
      ]
    },
    {
      "cell_type": "code",
      "metadata": {
        "colab": {
          "base_uri": "https://localhost:8080/"
        },
        "id": "xvr88uDUytsd",
        "outputId": "df0ed5be-4068-43c3-d67c-37e76d121fc2"
      },
      "source": [
        "def get_userinfo(user_type, *arguments, **keywords):\n",
        "\n",
        "  print(\"user type : {}\".format(\"admin\" if (int(user_type) == 1) else \"normal\"))\n",
        "\n",
        "  for arg in arguments :\n",
        "    print(arg)\n",
        "  \n",
        "  print(\"-\"*40)\n",
        "\n",
        "  for kw in keywords : \n",
        "    print(kw, \":\", keywords[kw])\n",
        "  \n",
        "get_userinfo(\"1\",\"홍길동\", \"40\",\n",
        "             addr = \"경기도\",\n",
        "             cp = \"010-xxxx-xxxx\", grade = \"good\")"
      ],
      "execution_count": 129,
      "outputs": [
        {
          "output_type": "stream",
          "text": [
            "user type : admin\n",
            "홍길동\n",
            "40\n",
            "----------------------------------------\n",
            "addr : 경기도\n",
            "cp : 010-xxxx-xxxx\n",
            "grade : good\n"
          ],
          "name": "stdout"
        }
      ]
    },
    {
      "cell_type": "markdown",
      "metadata": {
        "id": "P2jUfR0sztZ0"
      },
      "source": [
        "#### 패키지, 모듈 & 함수\n",
        "- 함수<모듈<패키지\n",
        "- 반복하여 사용하는 코드를 어떤 값(들)을 입력하면 특정된 작업을 수행하고 그 결과\n",
        "값을 출력으로 반환하는 코드 뭉치가 함수\n",
        "- 함수를 모아서 담아 놓은 것이 모듈\n",
        "- 모듈을 디렉토리 형식으로 정리해 둔 것이 패키지\n",
        "- 보통 하나의 .py 파일이 하나의 모듈이 됨"
      ]
    },
    {
      "cell_type": "code",
      "metadata": {
        "id": "dHxzBvPWzlZW"
      },
      "source": [
        "# 함수\n",
        "def add(a, b) :\n",
        "  return a + b"
      ],
      "execution_count": 130,
      "outputs": []
    },
    {
      "cell_type": "code",
      "metadata": {
        "id": "slJTvuKcz7yC"
      },
      "source": [
        "# 모듈\n",
        "def add(a, b) :\n",
        "  return a + b\n",
        "\n",
        "def sub(a, b) :\n",
        "  return a - b"
      ],
      "execution_count": 131,
      "outputs": []
    },
    {
      "cell_type": "code",
      "metadata": {
        "id": "Y-vFU44w0AB0"
      },
      "source": [
        "# 패키지\n",
        "# 모듈3, 모듈2, 모듈1"
      ],
      "execution_count": 132,
      "outputs": []
    },
    {
      "cell_type": "markdown",
      "metadata": {
        "id": "rTggw7fM0FMF"
      },
      "source": [
        "#### Python 필요 패키지 설치\n",
        "- pip 명령어로 설치, 삭제 수행\n",
        "  - piplist:설치되어있는패키지목록출력\n",
        "  - pip show package-name : 해당 패키지에 대한 정보 출력\n",
        "  - pip install package-name : 해당 패키지를 설치\n",
        "  - pip install --upgrade package-name : 해당 패키지를 업그레이드(설치되어 있는 패키\n",
        "지)\n",
        "  - pip uninstall package-name : 해당 패키지를 제거\n",
        "  - pip help : pip 명령어 관련된 도움말을 출력"
      ]
    },
    {
      "cell_type": "markdown",
      "metadata": {
        "id": "s7tA7rIL1kdY"
      },
      "source": [
        "- import\n",
        "  - 모듈 내의 모든 내용을 불러 들일 때\n",
        "    - import 모듈\n",
        "    - import 모듈1, 모듈2, 모듈3 ...\n",
        "    - import 모듈명 as 별명\n",
        "  - 모듈에서 특정 함수를 불러올 때\n",
        "    - from 모듈 import 함수\n",
        "    - from 모듈 import 함수1, 함수2, 함수3 ...\n",
        "    - from 모듈 import *\n",
        "    - from 모듈 import 함수 as 별명"
      ]
    },
    {
      "cell_type": "markdown",
      "metadata": {
        "id": "gN58L0S-24xF"
      },
      "source": [
        "#### User 모듈 만들기 & 활용 (1/2)"
      ]
    },
    {
      "cell_type": "markdown",
      "metadata": {
        "id": "ma5AHyt03BG0"
      },
      "source": [
        "#### User 모듈 만들기 & 활용 (2/2)"
      ]
    },
    {
      "cell_type": "markdown",
      "metadata": {
        "id": "z7ZqvRm_3Cte"
      },
      "source": [
        "### Namespace, Scope"
      ]
    },
    {
      "cell_type": "markdown",
      "metadata": {
        "id": "ePjjuHy83F0e"
      },
      "source": [
        "#### Name Spaces & Scopes\n",
        "- Assignment staatement의 의미 : x = 11\n",
        "  - x가 name space에 존재하지 않으면 x라는 name을 create하고 11 이라는 object를 refe\n",
        "rence\n",
        "  - 존재하면, x라는 name이 새로운 object 11을 reference\n",
        "- Name space : 이름이 정의되는 공간. dir()로 현재 name space에 있는 name들, 즉 s\n",
        "ymbol table을 볼 수 있다.\n",
        "- A scope refer to a region of a program from where a namespace can be accessed wi\n",
        "thout a assigned memory"
      ]
    },
    {
      "cell_type": "code",
      "metadata": {
        "colab": {
          "base_uri": "https://localhost:8080/"
        },
        "id": "OaY_yMkQ0DZ-",
        "outputId": "e47c48f4-cf1d-4fe1-e102-8d90d45dca97"
      },
      "source": [
        "a = 'global a'\n",
        "y = 'global y'\n",
        "\n",
        "def test_namespace():\n",
        "  a = 'enclosing a'\n",
        "\n",
        "  def inner_namespace():\n",
        "    a = 'local a'\n",
        "    print(a)\n",
        "    print(y)\n",
        "\n",
        "  inner_namespace()\n",
        "\n",
        "  print(a)\n",
        "\n",
        "test_namespace()\n",
        "\n",
        "print(a)"
      ],
      "execution_count": 134,
      "outputs": [
        {
          "output_type": "stream",
          "text": [
            "local a\n",
            "global y\n",
            "enclosing a\n",
            "global a\n"
          ],
          "name": "stdout"
        }
      ]
    },
    {
      "cell_type": "code",
      "metadata": {
        "colab": {
          "base_uri": "https://localhost:8080/",
          "height": 420
        },
        "id": "Ef7iEfjj2_pe",
        "outputId": "9d9b65ed-20d5-452d-b492-db19cdf6b7f4"
      },
      "source": [
        "x = 11\n",
        "\n",
        "def f():\n",
        "  print(f, X) # access global X\n",
        "\n",
        "def g():\n",
        "  X = 22 # create local name 'X' in function g\n",
        "  print(g, 'name space', dir())\n",
        "  print(g, X)\n",
        "\n",
        "def gl():\n",
        "  global X # now name X is global scope\n",
        "  X = 55 # assign to global X\n",
        "\n",
        "print(__name__, 'name spaces:', dir())\n",
        "f()\n",
        "g()\n",
        "gl(); print('after calling gl', X)"
      ],
      "execution_count": 135,
      "outputs": [
        {
          "output_type": "stream",
          "text": [
            "__main__ name spaces: ['In', 'MyMajor', 'Out', '_', '_102', '_107', '_109', '_111', '_113', '_114', '_115', '_116', '_117', '_120', '_121', '__', '___', '__builtin__', '__builtins__', '__doc__', '__loader__', '__name__', '__package__', '__spec__', '_dh', '_i', '_i1', '_i10', '_i100', '_i101', '_i102', '_i103', '_i104', '_i105', '_i106', '_i107', '_i108', '_i109', '_i11', '_i110', '_i111', '_i112', '_i113', '_i114', '_i115', '_i116', '_i117', '_i118', '_i119', '_i12', '_i120', '_i121', '_i122', '_i123', '_i124', '_i125', '_i126', '_i127', '_i128', '_i129', '_i13', '_i130', '_i131', '_i132', '_i133', '_i134', '_i135', '_i14', '_i15', '_i16', '_i17', '_i18', '_i19', '_i2', '_i20', '_i21', '_i22', '_i23', '_i24', '_i25', '_i26', '_i27', '_i28', '_i29', '_i3', '_i30', '_i31', '_i32', '_i33', '_i34', '_i35', '_i36', '_i37', '_i38', '_i39', '_i4', '_i40', '_i41', '_i42', '_i43', '_i44', '_i45', '_i46', '_i47', '_i48', '_i49', '_i5', '_i50', '_i51', '_i52', '_i53', '_i54', '_i55', '_i56', '_i57', '_i58', '_i59', '_i6', '_i60', '_i61', '_i62', '_i63', '_i64', '_i65', '_i66', '_i67', '_i68', '_i69', '_i7', '_i70', '_i71', '_i72', '_i73', '_i74', '_i75', '_i76', '_i77', '_i78', '_i79', '_i8', '_i80', '_i81', '_i82', '_i83', '_i84', '_i85', '_i86', '_i87', '_i88', '_i89', '_i9', '_i90', '_i91', '_i92', '_i93', '_i94', '_i95', '_i96', '_i97', '_i98', '_i99', '_ih', '_ii', '_iii', '_oh', '_sh', 'a', 'add', 'age', 'alien', 'alien_keys', 'alien_values', 'alphabet', 'alphabets', 'b', 'bicycles', 'c', 'cars', 'copy', 'count', 'counters', 'delimiter1', 'delimiter2', 'delimiter3', 'digits', 'empty_tuple', 'exit', 'f', 'favorite_language', 'fee', 'fruits', 'g', 'get_ipython', 'get_userinfo', 'gl', 'greet_user', 'i', 'items', 'key', 'menu', 'message', 'messages', 'motorcycles', 'my_func', 'myfamily', 'name1', 'nums', 'polynomial', 'popped_motorcycle', 'quit', 'reports', 's', 'score1', 'sub', 'test_namespace', 'thisdict', 'txt', 'user_description', 'x', 'y']\n"
          ],
          "name": "stdout"
        },
        {
          "output_type": "error",
          "ename": "NameError",
          "evalue": "ignored",
          "traceback": [
            "\u001b[0;31m---------------------------------------------------------------------------\u001b[0m",
            "\u001b[0;31mNameError\u001b[0m                                 Traceback (most recent call last)",
            "\u001b[0;32m<ipython-input-135-bbd2653a1f59>\u001b[0m in \u001b[0;36m<module>\u001b[0;34m()\u001b[0m\n\u001b[1;32m     14\u001b[0m \u001b[0;34m\u001b[0m\u001b[0m\n\u001b[1;32m     15\u001b[0m \u001b[0mprint\u001b[0m\u001b[0;34m(\u001b[0m\u001b[0m__name__\u001b[0m\u001b[0;34m,\u001b[0m \u001b[0;34m'name spaces:'\u001b[0m\u001b[0;34m,\u001b[0m \u001b[0mdir\u001b[0m\u001b[0;34m(\u001b[0m\u001b[0;34m)\u001b[0m\u001b[0;34m)\u001b[0m\u001b[0;34m\u001b[0m\u001b[0;34m\u001b[0m\u001b[0m\n\u001b[0;32m---> 16\u001b[0;31m \u001b[0mf\u001b[0m\u001b[0;34m(\u001b[0m\u001b[0;34m)\u001b[0m\u001b[0;34m\u001b[0m\u001b[0;34m\u001b[0m\u001b[0m\n\u001b[0m\u001b[1;32m     17\u001b[0m \u001b[0mg\u001b[0m\u001b[0;34m(\u001b[0m\u001b[0;34m)\u001b[0m\u001b[0;34m\u001b[0m\u001b[0;34m\u001b[0m\u001b[0m\n\u001b[1;32m     18\u001b[0m \u001b[0mgl\u001b[0m\u001b[0;34m(\u001b[0m\u001b[0;34m)\u001b[0m\u001b[0;34m;\u001b[0m \u001b[0mprint\u001b[0m\u001b[0;34m(\u001b[0m\u001b[0;34m'after calling gl'\u001b[0m\u001b[0;34m,\u001b[0m \u001b[0mX\u001b[0m\u001b[0;34m)\u001b[0m\u001b[0;34m\u001b[0m\u001b[0;34m\u001b[0m\u001b[0m\n",
            "\u001b[0;32m<ipython-input-135-bbd2653a1f59>\u001b[0m in \u001b[0;36mf\u001b[0;34m()\u001b[0m\n\u001b[1;32m      2\u001b[0m \u001b[0;34m\u001b[0m\u001b[0m\n\u001b[1;32m      3\u001b[0m \u001b[0;32mdef\u001b[0m \u001b[0mf\u001b[0m\u001b[0;34m(\u001b[0m\u001b[0;34m)\u001b[0m\u001b[0;34m:\u001b[0m\u001b[0;34m\u001b[0m\u001b[0;34m\u001b[0m\u001b[0m\n\u001b[0;32m----> 4\u001b[0;31m   \u001b[0mprint\u001b[0m\u001b[0;34m(\u001b[0m\u001b[0mf\u001b[0m\u001b[0;34m,\u001b[0m \u001b[0mX\u001b[0m\u001b[0;34m)\u001b[0m \u001b[0;31m# access global X\u001b[0m\u001b[0;34m\u001b[0m\u001b[0;34m\u001b[0m\u001b[0m\n\u001b[0m\u001b[1;32m      5\u001b[0m \u001b[0;34m\u001b[0m\u001b[0m\n\u001b[1;32m      6\u001b[0m \u001b[0;32mdef\u001b[0m \u001b[0mg\u001b[0m\u001b[0;34m(\u001b[0m\u001b[0;34m)\u001b[0m\u001b[0;34m:\u001b[0m\u001b[0;34m\u001b[0m\u001b[0;34m\u001b[0m\u001b[0m\n",
            "\u001b[0;31mNameError\u001b[0m: name 'X' is not defined"
          ]
        }
      ]
    },
    {
      "cell_type": "code",
      "metadata": {
        "colab": {
          "base_uri": "https://localhost:8080/",
          "height": 251
        },
        "id": "ESzafWjX387F",
        "outputId": "f437685b-64a7-49f2-fb9e-242549835e13"
      },
      "source": [
        "def h1():\n",
        "  X = 33\n",
        "  def nested():\n",
        "    print(nested, X) # access X(33) in h1\n",
        "  nested()\n",
        "\n",
        "def h2():\n",
        "  X = 33\n",
        "  def nested():\n",
        "    nonlocal X #name X is not local but enclosing scope\n",
        "    X = 44 #(nname X in h2)\n",
        "  nested()\n",
        "  print(h2, X)\n",
        "\n",
        "h1()\n",
        "h2(); print('after calling h2', X)"
      ],
      "execution_count": 136,
      "outputs": [
        {
          "output_type": "stream",
          "text": [
            "<function h1.<locals>.nested at 0x7f5a5c81ba70> 33\n",
            "<function h2 at 0x7f5a5c843680> 44\n"
          ],
          "name": "stdout"
        },
        {
          "output_type": "error",
          "ename": "NameError",
          "evalue": "ignored",
          "traceback": [
            "\u001b[0;31m---------------------------------------------------------------------------\u001b[0m",
            "\u001b[0;31mNameError\u001b[0m                                 Traceback (most recent call last)",
            "\u001b[0;32m<ipython-input-136-e8af3b2057dc>\u001b[0m in \u001b[0;36m<module>\u001b[0;34m()\u001b[0m\n\u001b[1;32m     14\u001b[0m \u001b[0;34m\u001b[0m\u001b[0m\n\u001b[1;32m     15\u001b[0m \u001b[0mh1\u001b[0m\u001b[0;34m(\u001b[0m\u001b[0;34m)\u001b[0m\u001b[0;34m\u001b[0m\u001b[0;34m\u001b[0m\u001b[0m\n\u001b[0;32m---> 16\u001b[0;31m \u001b[0mh2\u001b[0m\u001b[0;34m(\u001b[0m\u001b[0;34m)\u001b[0m\u001b[0;34m;\u001b[0m \u001b[0mprint\u001b[0m\u001b[0;34m(\u001b[0m\u001b[0;34m'after calling h2'\u001b[0m\u001b[0;34m,\u001b[0m \u001b[0mX\u001b[0m\u001b[0;34m)\u001b[0m\u001b[0;34m\u001b[0m\u001b[0;34m\u001b[0m\u001b[0m\n\u001b[0m",
            "\u001b[0;31mNameError\u001b[0m: name 'X' is not defined"
          ]
        }
      ]
    },
    {
      "cell_type": "markdown",
      "metadata": {
        "id": "J7s4PSfp4zwv"
      },
      "source": [
        "### List Comprehension, Lambda, map, filter"
      ]
    },
    {
      "cell_type": "markdown",
      "metadata": {
        "id": "K1Jtuh9u45xr"
      },
      "source": [
        "#### List Comprehension(리스트 컴플리헨션)\n",
        "- 파이썬은 다른 시퀀스나 이터러블에서 새 리스트를 만들어내는 간결한 구문을 제공\n",
        "- 이런 식을 리스트 컴프리헨션이라 한다."
      ]
    },
    {
      "cell_type": "code",
      "metadata": {
        "id": "JDoXr5dg4x_8"
      },
      "source": [
        "a = [1, 2, 3, 4, 5, 6, 7, 8, 9, 10]\n"
      ],
      "execution_count": null,
      "outputs": []
    }
  ]
}