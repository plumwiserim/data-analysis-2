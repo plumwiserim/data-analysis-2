{
  "nbformat": 4,
  "nbformat_minor": 0,
  "metadata": {
    "colab": {
      "name": "Untitled0.ipynb",
      "provenance": [],
      "collapsed_sections": [],
      "toc_visible": true,
      "authorship_tag": "ABX9TyP73nMIPdQfIH78jBnnW6W2",
      "include_colab_link": true
    },
    "kernelspec": {
      "name": "python3",
      "display_name": "Python 3"
    },
    "language_info": {
      "name": "python"
    }
  },
  "cells": [
    {
      "cell_type": "markdown",
      "metadata": {
        "id": "view-in-github",
        "colab_type": "text"
      },
      "source": [
        "<a href=\"https://colab.research.google.com/github/plumwiserim/Data-Analysis/blob/main/Untitled0.ipynb\" target=\"_parent\"><img src=\"https://colab.research.google.com/assets/colab-badge.svg\" alt=\"Open In Colab\"/></a>"
      ]
    },
    {
      "cell_type": "markdown",
      "metadata": {
        "id": "whQrVnDGFt_8"
      },
      "source": [
        "## 데이터 분석을 위한 Pandas 라이브러리 활용"
      ]
    },
    {
      "cell_type": "markdown",
      "metadata": {
        "id": "ycDGJDYZF1JS"
      },
      "source": [
        "## 데이터 시각화를 위한 파이썬 라이브러리"
      ]
    },
    {
      "cell_type": "code",
      "metadata": {
        "colab": {
          "base_uri": "https://localhost:8080/"
        },
        "id": "a1gYzM90FtUN",
        "outputId": "195195e6-5cb7-4dfa-db70-80b9bef5842b"
      },
      "source": [
        "import seaborn as sns\n",
        "\n",
        "anscombe_df = sns.load_dataset(\"anscombe\")\n",
        "print(anscombe_df)"
      ],
      "execution_count": 1,
      "outputs": [
        {
          "output_type": "stream",
          "text": [
            "   dataset     x      y\n",
            "0        I  10.0   8.04\n",
            "1        I   8.0   6.95\n",
            "2        I  13.0   7.58\n",
            "3        I   9.0   8.81\n",
            "4        I  11.0   8.33\n",
            "5        I  14.0   9.96\n",
            "6        I   6.0   7.24\n",
            "7        I   4.0   4.26\n",
            "8        I  12.0  10.84\n",
            "9        I   7.0   4.82\n",
            "10       I   5.0   5.68\n",
            "11      II  10.0   9.14\n",
            "12      II   8.0   8.14\n",
            "13      II  13.0   8.74\n",
            "14      II   9.0   8.77\n",
            "15      II  11.0   9.26\n",
            "16      II  14.0   8.10\n",
            "17      II   6.0   6.13\n",
            "18      II   4.0   3.10\n",
            "19      II  12.0   9.13\n",
            "20      II   7.0   7.26\n",
            "21      II   5.0   4.74\n",
            "22     III  10.0   7.46\n",
            "23     III   8.0   6.77\n",
            "24     III  13.0  12.74\n",
            "25     III   9.0   7.11\n",
            "26     III  11.0   7.81\n",
            "27     III  14.0   8.84\n",
            "28     III   6.0   6.08\n",
            "29     III   4.0   5.39\n",
            "30     III  12.0   8.15\n",
            "31     III   7.0   6.42\n",
            "32     III   5.0   5.73\n",
            "33      IV   8.0   6.58\n",
            "34      IV   8.0   5.76\n",
            "35      IV   8.0   7.71\n",
            "36      IV   8.0   8.84\n",
            "37      IV   8.0   8.47\n",
            "38      IV   8.0   7.04\n",
            "39      IV   8.0   5.25\n",
            "40      IV  19.0  12.50\n",
            "41      IV   8.0   5.56\n",
            "42      IV   8.0   7.91\n",
            "43      IV   8.0   6.89\n"
          ],
          "name": "stdout"
        }
      ]
    },
    {
      "cell_type": "code",
      "metadata": {
        "colab": {
          "base_uri": "https://localhost:8080/"
        },
        "id": "sDEY6vXqGGgc",
        "outputId": "6ae6c295-bd4f-4b3d-8d49-88fb013cbc96"
      },
      "source": [
        "print(type(anscombe_df))"
      ],
      "execution_count": 2,
      "outputs": [
        {
          "output_type": "stream",
          "text": [
            "<class 'pandas.core.frame.DataFrame'>\n"
          ],
          "name": "stdout"
        }
      ]
    },
    {
      "cell_type": "code",
      "metadata": {
        "colab": {
          "base_uri": "https://localhost:8080/"
        },
        "id": "NEnlP57uGJXs",
        "outputId": "f6da1bdc-8d6a-4822-9f5d-b25f0c243bdb"
      },
      "source": [
        "categorical = anscombe_df.dataset.unique()\n",
        "categorical"
      ],
      "execution_count": 3,
      "outputs": [
        {
          "output_type": "execute_result",
          "data": {
            "text/plain": [
              "array(['I', 'II', 'III', 'IV'], dtype=object)"
            ]
          },
          "metadata": {
            "tags": []
          },
          "execution_count": 3
        }
      ]
    },
    {
      "cell_type": "code",
      "metadata": {
        "colab": {
          "base_uri": "https://localhost:8080/"
        },
        "id": "hcIYaSrjGP0a",
        "outputId": "9cded0e6-dd04-474d-c594-3f7b9920513f"
      },
      "source": [
        "dataset_1 = anscombe_df[anscombe_df['dataset'] == categorical[0]]\n",
        "dataset_2 = anscombe_df[anscombe_df['dataset'] == categorical[1]]\n",
        "dataset_3 = anscombe_df[anscombe_df['dataset'] == categorical[2]]\n",
        "dataset_4 = anscombe_df[anscombe_df['dataset'] == categorical[3]]\n",
        "\n",
        "# 임의의 데이터셋 출력해보기\n",
        "print(dataset_3)"
      ],
      "execution_count": 4,
      "outputs": [
        {
          "output_type": "stream",
          "text": [
            "   dataset     x      y\n",
            "22     III  10.0   7.46\n",
            "23     III   8.0   6.77\n",
            "24     III  13.0  12.74\n",
            "25     III   9.0   7.11\n",
            "26     III  11.0   7.81\n",
            "27     III  14.0   8.84\n",
            "28     III   6.0   6.08\n",
            "29     III   4.0   5.39\n",
            "30     III  12.0   8.15\n",
            "31     III   7.0   6.42\n",
            "32     III   5.0   5.73\n"
          ],
          "name": "stdout"
        }
      ]
    },
    {
      "cell_type": "code",
      "metadata": {
        "colab": {
          "base_uri": "https://localhost:8080/",
          "height": 300
        },
        "id": "eyYiw86YGhjj",
        "outputId": "342004a1-42f0-4455-d7b7-844e2b3e156e"
      },
      "source": [
        "dataset_1.describe()\n",
        "dataset_2.describe()\n",
        "dataset_3.describe()\n",
        "dataset_4.describe()"
      ],
      "execution_count": 5,
      "outputs": [
        {
          "output_type": "execute_result",
          "data": {
            "text/html": [
              "<div>\n",
              "<style scoped>\n",
              "    .dataframe tbody tr th:only-of-type {\n",
              "        vertical-align: middle;\n",
              "    }\n",
              "\n",
              "    .dataframe tbody tr th {\n",
              "        vertical-align: top;\n",
              "    }\n",
              "\n",
              "    .dataframe thead th {\n",
              "        text-align: right;\n",
              "    }\n",
              "</style>\n",
              "<table border=\"1\" class=\"dataframe\">\n",
              "  <thead>\n",
              "    <tr style=\"text-align: right;\">\n",
              "      <th></th>\n",
              "      <th>x</th>\n",
              "      <th>y</th>\n",
              "    </tr>\n",
              "  </thead>\n",
              "  <tbody>\n",
              "    <tr>\n",
              "      <th>count</th>\n",
              "      <td>11.000000</td>\n",
              "      <td>11.000000</td>\n",
              "    </tr>\n",
              "    <tr>\n",
              "      <th>mean</th>\n",
              "      <td>9.000000</td>\n",
              "      <td>7.500909</td>\n",
              "    </tr>\n",
              "    <tr>\n",
              "      <th>std</th>\n",
              "      <td>3.316625</td>\n",
              "      <td>2.030579</td>\n",
              "    </tr>\n",
              "    <tr>\n",
              "      <th>min</th>\n",
              "      <td>8.000000</td>\n",
              "      <td>5.250000</td>\n",
              "    </tr>\n",
              "    <tr>\n",
              "      <th>25%</th>\n",
              "      <td>8.000000</td>\n",
              "      <td>6.170000</td>\n",
              "    </tr>\n",
              "    <tr>\n",
              "      <th>50%</th>\n",
              "      <td>8.000000</td>\n",
              "      <td>7.040000</td>\n",
              "    </tr>\n",
              "    <tr>\n",
              "      <th>75%</th>\n",
              "      <td>8.000000</td>\n",
              "      <td>8.190000</td>\n",
              "    </tr>\n",
              "    <tr>\n",
              "      <th>max</th>\n",
              "      <td>19.000000</td>\n",
              "      <td>12.500000</td>\n",
              "    </tr>\n",
              "  </tbody>\n",
              "</table>\n",
              "</div>"
            ],
            "text/plain": [
              "               x          y\n",
              "count  11.000000  11.000000\n",
              "mean    9.000000   7.500909\n",
              "std     3.316625   2.030579\n",
              "min     8.000000   5.250000\n",
              "25%     8.000000   6.170000\n",
              "50%     8.000000   7.040000\n",
              "75%     8.000000   8.190000\n",
              "max    19.000000  12.500000"
            ]
          },
          "metadata": {
            "tags": []
          },
          "execution_count": 5
        }
      ]
    },
    {
      "cell_type": "code",
      "metadata": {
        "id": "EAoHmW8kGneq"
      },
      "source": [
        ""
      ],
      "execution_count": null,
      "outputs": []
    }
  ]
}