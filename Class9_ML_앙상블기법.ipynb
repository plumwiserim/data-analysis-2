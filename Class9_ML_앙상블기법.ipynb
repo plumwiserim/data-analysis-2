{
  "nbformat": 4,
  "nbformat_minor": 0,
  "metadata": {
    "kernelspec": {
      "display_name": "Python 3",
      "language": "python",
      "name": "python3"
    },
    "language_info": {
      "codemirror_mode": {
        "name": "ipython",
        "version": 3
      },
      "file_extension": ".py",
      "mimetype": "text/x-python",
      "name": "python",
      "nbconvert_exporter": "python",
      "pygments_lexer": "ipython3",
      "version": "3.8.8"
    },
    "toc": {
      "base_numbering": 1,
      "nav_menu": {},
      "number_sections": true,
      "sideBar": true,
      "skip_h1_title": false,
      "title_cell": "Table of Contents",
      "title_sidebar": "Contents",
      "toc_cell": false,
      "toc_position": {},
      "toc_section_display": true,
      "toc_window_display": false
    },
    "colab": {
      "name": "Class9_ML_앙상블기법.ipynb의 사본",
      "provenance": [],
      "collapsed_sections": [],
      "include_colab_link": true
    }
  },
  "cells": [
    {
      "cell_type": "markdown",
      "metadata": {
        "id": "view-in-github",
        "colab_type": "text"
      },
      "source": [
        "<a href=\"https://colab.research.google.com/github/plumwiserim/Data-Analysis/blob/main/Class9_ML_%E1%84%8B%E1%85%A1%E1%86%BC%E1%84%89%E1%85%A1%E1%86%BC%E1%84%87%E1%85%B3%E1%86%AF%E1%84%80%E1%85%B5%E1%84%87%E1%85%A5%E1%86%B8.ipynb\" target=\"_parent\"><img src=\"https://colab.research.google.com/assets/colab-badge.svg\" alt=\"Open In Colab\"/></a>"
      ]
    },
    {
      "cell_type": "markdown",
      "metadata": {
        "id": "wvIrSe1cY5dq"
      },
      "source": [
        "# 파이썬 머신러닝 실습\n",
        "## 앙상블 기법 : VotingClassifier\n"
      ]
    },
    {
      "cell_type": "code",
      "metadata": {
        "id": "g9fAwc3GY5dt"
      },
      "source": [
        "#필요한 라이브러리 로딩\n",
        "from sklearn.datasets import load_breast_cancer\n",
        "from sklearn.model_selection import train_test_split\n",
        "from sklearn.metrics import accuracy_score"
      ],
      "execution_count": null,
      "outputs": []
    },
    {
      "cell_type": "code",
      "metadata": {
        "id": "FG25wAzhY5du"
      },
      "source": [
        "from sklearn.ensemble import VotingClassifier\n",
        "from sklearn.linear_model import LogisticRegression\n",
        "from sklearn.tree import DecisionTreeClassifier"
      ],
      "execution_count": null,
      "outputs": []
    },
    {
      "cell_type": "code",
      "metadata": {
        "id": "Y_W1wbVBY5dv"
      },
      "source": [
        "# 데이터셋 다운로드\n",
        "cancer = load_breast_cancer()\n",
        "\n",
        "# 데이터셋 분할\n",
        "x_train, x_test, y_train, y_test = train_test_split(cancer.data,\n",
        "                                                    cancer.target,\n",
        "                                                    test_size=0.3,\n",
        "                                                    random_state=12)"
      ],
      "execution_count": null,
      "outputs": []
    },
    {
      "cell_type": "code",
      "metadata": {
        "id": "Xx2BuwQfY5dw"
      },
      "source": [
        "# LogisticRegression 및 DecisionTreeClassifier 객체 생성\n",
        "lr = LogisticRegression(random_state=12, max_iter=5000)\n",
        "dt = DecisionTreeClassifier(random_state=12)\n",
        "\n",
        "from sklearn.neighbors import KNeighborsClassifier\n",
        "knn_clf = KNeighborsClassifier(n_neighbors=8)"
      ],
      "execution_count": null,
      "outputs": []
    },
    {
      "cell_type": "markdown",
      "metadata": {
        "id": "6Wi8bWJPY5dw"
      },
      "source": [
        "### sklearn.ensemble 의 VoringClassifier 사용\n",
        "\n",
        "VoringClassifier 클래스 객체 생성시 주요 인자\n",
        "- estimators : 측정에 사용할 알고리즘 객체 리스트\n",
        "- voting : 적용할 보팅의 방식{ ‘hard’, ‘soft’}, default=’hard’\n",
        "\n",
        "VoringClassifier API의 Method\n",
        "- fit(X, y) : 학습 데이터를 이용하여 Decision Tree 모델을 학습\n",
        "- predict(X) : 모델에 테스트 데이터를 입력하여 계산된 예측값 반환\n",
        "- score(X, y) : 모델에 테스트 데이터를 입력하여 모델의 성능지표(정확도) 반환\n"
      ]
    },
    {
      "cell_type": "code",
      "metadata": {
        "id": "NJQzm1e3Y5dx",
        "colab": {
          "base_uri": "https://localhost:8080/"
        },
        "outputId": "35521918-532f-490b-a1c9-aa94d8cdb51c"
      },
      "source": [
        "# VotingClassifier 객체 생성\n",
        "voting = VotingClassifier(estimators=[('LR',lr), ('DT',dt), ('KNN', knn_clf)], \n",
        "                          voting='soft')\n",
        "\n",
        "# VotingClassifier 학습 \n",
        "voting.fit(x_train , y_train)\n",
        "\n",
        "# 학습된 모델 기반 예측 수행\n",
        "pred = voting.predict(x_test)\n",
        "\n",
        "# accuracy_score 호출하여 accuracy 계산 후 출력\n",
        "print('Accuracy: {0:.3f}'.format(accuracy_score(y_test , pred)))"
      ],
      "execution_count": null,
      "outputs": [
        {
          "output_type": "stream",
          "text": [
            "Accuracy: 0.930\n"
          ],
          "name": "stdout"
        }
      ]
    },
    {
      "cell_type": "code",
      "metadata": {
        "id": "7Fa16392Y5dz",
        "colab": {
          "base_uri": "https://localhost:8080/"
        },
        "outputId": "da984f18-b647-4ac6-c546-7638b2fa2cad"
      },
      "source": [
        "classifiers = [lr, dt, knn_clf]\n",
        "\n",
        "for classifier in classifiers :\n",
        "    classifier.fit(x_train, y_train)\n",
        "    pred = classifier.predict(x_test)\n",
        "    class_name = classifier.__class__.__name__\n",
        "    \n",
        "    print('{0} Accuracy:{1:.4f}'. format(class_name, accuracy_score(y_test, pred)))"
      ],
      "execution_count": null,
      "outputs": [
        {
          "output_type": "stream",
          "text": [
            "LogisticRegression Accuracy:0.9181\n",
            "DecisionTreeClassifier Accuracy:0.9123\n",
            "KNeighborsClassifier Accuracy:0.9123\n"
          ],
          "name": "stdout"
        }
      ]
    },
    {
      "cell_type": "markdown",
      "metadata": {
        "id": "XUNgNccEY5dz"
      },
      "source": [
        "## 앙상블 기법 :  Bagging 을 위한 Random Forest"
      ]
    },
    {
      "cell_type": "markdown",
      "metadata": {
        "id": "GxQtnzBbY5d0"
      },
      "source": [
        "### sklearn.ensemble 의 RandomForestClassifier 사용\n",
        "\n",
        "RandomForestClassifier 클래스 사용\n",
        "- 대부분의 Hyperparameter는 Decision Tree와 유사\n",
        "- max_depth, max_leaf_nodes, max_features, …\n",
        "\n",
        "n_estimators: 생성되는 Decision Tree의 개수\n",
        "- Default 값은 100: 100개의 Decision Tree 학습 및 예측 Voting\n",
        "- 많이 생성한다고 무한대로 예측 성능이 좋아 지지는 않음"
      ]
    },
    {
      "cell_type": "code",
      "metadata": {
        "id": "G8Su5R3pY5d0",
        "colab": {
          "base_uri": "https://localhost:8080/"
        },
        "outputId": "6c2ea6bc-4efc-4609-dccc-c18c246576ab"
      },
      "source": [
        "# RandomForestClassifier 임포트\n",
        "from sklearn.ensemble import RandomForestClassifier\n",
        "\n",
        "# RandomForestClassifier 객체 생성\n",
        "rf = RandomForestClassifier(random_state=12)\n",
        "\n",
        "# RandomForestClassifier 객체 학습 및 검증\n",
        "rf.fit(x_train, y_train)\n",
        "pred = rf.predict(x_test)\n",
        "\n",
        "print('Accuracy: {0:.3f}'.format(accuracy_score(y_test, pred)))"
      ],
      "execution_count": null,
      "outputs": [
        {
          "output_type": "stream",
          "text": [
            "Accuracy: 0.924\n"
          ],
          "name": "stdout"
        }
      ]
    },
    {
      "cell_type": "code",
      "metadata": {
        "id": "rYnv-BPTY5d1",
        "colab": {
          "base_uri": "https://localhost:8080/"
        },
        "outputId": "8b55f0c7-6bb5-4210-a040-4791b02d5a16"
      },
      "source": [
        "from sklearn.model_selection import GridSearchCV\n",
        "\n",
        "params = {'n_estimators':[100],\n",
        "          'max_depth':[6, 8, 10, 12],\n",
        "          'min_samples_leaf':[8, 12, 18 ],\n",
        "          'min_samples_split':[8, 16, 20]}\n",
        "\n",
        "rf_clf = RandomForestClassifier(random_state=0, n_jobs=-1)\n",
        "\n",
        "grid_cv = GridSearchCV(rf_clf, param_grid=params, cv=2, n_jobs=-1)\n",
        "grid_cv.fit(x_train, y_train)\n",
        "\n",
        "print('Optimal Hyper Parameter') \n",
        "print(grid_cv.best_params_)\n",
        "print('Max Accuracy: {0:.4f}'.format(grid_cv.best_score_)) "
      ],
      "execution_count": null,
      "outputs": [
        {
          "output_type": "stream",
          "text": [
            "Optimal Hyper Parameter\n",
            "{'max_depth': 6, 'min_samples_leaf': 8, 'min_samples_split': 8, 'n_estimators': 100}\n",
            "Max Accuracy: 0.9447\n"
          ],
          "name": "stdout"
        }
      ]
    },
    {
      "cell_type": "code",
      "metadata": {
        "id": "GtIqXM3eY5d1",
        "colab": {
          "base_uri": "https://localhost:8080/"
        },
        "outputId": "e96b84a8-a3dd-418b-88b0-bd74bae173d3"
      },
      "source": [
        "rf_clf1 = RandomForestClassifier(n_estimators=300,\n",
        "                                 max_depth=6,\n",
        "                                 min_samples_leaf=8,\n",
        "                                 min_samples_split=8,\n",
        "                                 random_state=0)\n",
        "\n",
        "rf_clf1.fit(x_train , y_train)\n",
        "pred = rf_clf1.predict(x_test) \n",
        "\n",
        "print('Accuracy: {0:.4f}'.format(accuracy_score(y_test , pred))) \n"
      ],
      "execution_count": null,
      "outputs": [
        {
          "output_type": "stream",
          "text": [
            "Accuracy: 0.9123\n"
          ],
          "name": "stdout"
        }
      ]
    },
    {
      "cell_type": "code",
      "metadata": {
        "id": "GhjvKYYCY5d2",
        "colab": {
          "base_uri": "https://localhost:8080/",
          "height": 390
        },
        "outputId": "de9a5c09-a71e-4c00-cffe-cac6c1331956"
      },
      "source": [
        "import matplotlib.pyplot as plt\n",
        "import seaborn as sns\n",
        "import pandas as pd\n",
        "\n",
        "ftr_importances_values = rf_clf1.feature_importances_\n",
        "ftr_importances = pd.Series(ftr_importances_values,\n",
        "                            index=cancer.feature_names)\n",
        "\n",
        "ftr_top20 = ftr_importances.sort_values(ascending=False)[:20]\n",
        "\n",
        "plt.figure(figsize=(8,6))\n",
        "plt.title('Feature importances Top 20')\n",
        "sns.barplot(x=ftr_top20, y=ftr_top20.index)\n",
        "plt.show() "
      ],
      "execution_count": null,
      "outputs": [
        {
          "output_type": "display_data",
          "data": {
            "image/png": "[encoded data removed]",
            "text/plain": [
              "<Figure size 576x432 with 1 Axes>"
            ]
          },
          "metadata": {
            "tags": [],
            "needs_background": "light"
          }
        }
      ]
    }
  ]
}