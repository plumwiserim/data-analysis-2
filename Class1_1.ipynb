{
  "nbformat": 4,
  "nbformat_minor": 0,
  "metadata": {
    "colab": {
      "name": "Class1-1.ipynb",
      "provenance": [],
      "collapsed_sections": [],
      "mount_file_id": "1ThUnLq2eUXmsQ7YfyLfHDwG2h0dDLvkh",
      "authorship_tag": "ABX9TyPH6vtgElkTbhy5UD2ggRhE",
      "include_colab_link": true
    },
    "kernelspec": {
      "name": "python3",
      "display_name": "Python 3"
    },
    "language_info": {
      "name": "python"
    }
  },
  "cells": [
    {
      "cell_type": "markdown",
      "metadata": {
        "id": "view-in-github",
        "colab_type": "text"
      },
      "source": [
        "<a href=\"https://colab.research.google.com/github/plumwiserim/Data-Analysis/blob/main/Class1_1.ipynb\" target=\"_parent\"><img src=\"https://colab.research.google.com/assets/colab-badge.svg\" alt=\"Open In Colab\"/></a>"
      ]
    },
    {
      "cell_type": "markdown",
      "metadata": {
        "id": "-o9_xN3DsMdZ"
      },
      "source": [
        "# Python Review"
      ]
    },
    {
      "cell_type": "markdown",
      "metadata": {
        "id": "2HTLvxUtsV_E"
      },
      "source": [
        "## 1. Various operator"
      ]
    },
    {
      "cell_type": "markdown",
      "metadata": {
        "id": "7RYvaCJRP8hA"
      },
      "source": [
        "## 2. String"
      ]
    },
    {
      "cell_type": "markdown",
      "metadata": {
        "id": "szHj4rlBPlAQ"
      },
      "source": [
        "#### 문자열 인덱싱 (Indexing)"
      ]
    },
    {
      "cell_type": "code",
      "metadata": {
        "colab": {
          "base_uri": "https://localhost:8080/"
        },
        "id": "AvO1JqGPMD9M",
        "outputId": "ce070945-0248-4974-df2b-24681390de43"
      },
      "source": [
        "# 문자열은 배열 : 인덱스로 각 문자에 접근\n",
        "txt = \"python\"\n",
        "print(txt[0])\n",
        "print(txt[2])\n",
        "# print(txt[6])\n",
        "# IndexError: string index out of range\n",
        "print(txt[-1])"
      ],
      "execution_count": 1,
      "outputs": [
        {
          "output_type": "stream",
          "text": [
            "p\n",
            "t\n",
            "n\n"
          ],
          "name": "stdout"
        }
      ]
    },
    {
      "cell_type": "code",
      "metadata": {
        "id": "XcsCuZ7mLpLd"
      },
      "source": [
        "# 각 슬롯에 저장된 값을 재할당 불가 (immutable)\n",
        "txt = \"python\"\n",
        "# txt[0] = \"j\"\n",
        "# TypeError: 'str' object does not support item assignment"
      ],
      "execution_count": 2,
      "outputs": []
    },
    {
      "cell_type": "markdown",
      "metadata": {
        "id": "k6Us41nOPJHk"
      },
      "source": [
        "#### 인덱스 연산자"
      ]
    },
    {
      "cell_type": "code",
      "metadata": {
        "colab": {
          "base_uri": "https://localhost:8080/"
        },
        "id": "ee7rls2sLjMR",
        "outputId": "e89bfc7b-4df8-4178-bcf4-fe4b4e7e5e60"
      },
      "source": [
        "# 인덱스 연산자 [] : 문자열 내부의 문자 하나를 선택하는 연산자\n",
        "message = \"파이썬쉽다\"\n",
        "\n",
        "print(\"{}\".format(message))\n",
        "print(message[0])\n",
        "print(message[1])\n",
        "print(message[2])\n",
        "print(message[3])\n",
        "print(message[4])"
      ],
      "execution_count": null,
      "outputs": [
        {
          "output_type": "stream",
          "text": [
            "파이썬쉽다\n",
            "파\n",
            "이\n",
            "썬\n",
            "쉽\n",
            "다\n"
          ],
          "name": "stdout"
        }
      ]
    },
    {
      "cell_type": "markdown",
      "metadata": {
        "id": "K4pxohBuPCuv"
      },
      "source": [
        "#### 문자열 슬라이싱 (Slicing)"
      ]
    },
    {
      "cell_type": "code",
      "metadata": {
        "colab": {
          "base_uri": "https://localhost:8080/"
        },
        "id": "qtv39XeCLcZJ",
        "outputId": "d75ae74d-dfc2-43c5-a01b-ba8a3799945c"
      },
      "source": [
        "# 문자열 슬라이싱 (Slicing)\n",
        "txt = \"python\"\n",
        "print(txt[0:2])\n",
        "print(txt[1:4])\n",
        "print(txt[-3:-1])\n",
        "print(txt[:3])\n",
        "print(txt[2:])"
      ],
      "execution_count": null,
      "outputs": [
        {
          "output_type": "stream",
          "text": [
            "py\n",
            "yth\n",
            "ho\n",
            "pyt\n",
            "thon\n"
          ],
          "name": "stdout"
        }
      ]
    },
    {
      "cell_type": "markdown",
      "metadata": {
        "id": "IKVBzzAUOpkQ"
      },
      "source": [
        "#### 문자열 기본함수들(1/2)"
      ]
    },
    {
      "cell_type": "code",
      "metadata": {
        "colab": {
          "base_uri": "https://localhost:8080/"
        },
        "id": "0f6SsbzqHgc0",
        "outputId": "cdf1511f-0638-494b-8d6d-aa3726c6dc10"
      },
      "source": [
        "# 문자열의 길이 : len()\n",
        "txt = \"Hi, Kim!\"\n",
        "print(len(txt))"
      ],
      "execution_count": null,
      "outputs": [
        {
          "output_type": "stream",
          "text": [
            "8\n"
          ],
          "name": "stdout"
        }
      ]
    },
    {
      "cell_type": "code",
      "metadata": {
        "colab": {
          "base_uri": "https://localhost:8080/"
        },
        "id": "rikdvidqJqKg",
        "outputId": "94ad56e8-54b3-4fe7-8a4d-3e19a0cbcf5d"
      },
      "source": [
        "# 문자열 교체 : replace()\n",
        "txt = \"Hi, Kim!\"\n",
        "print(txt.replace(\"Hi\", \"Hello\"))"
      ],
      "execution_count": null,
      "outputs": [
        {
          "output_type": "stream",
          "text": [
            "Hello, Kim!\n"
          ],
          "name": "stdout"
        }
      ]
    },
    {
      "cell_type": "code",
      "metadata": {
        "colab": {
          "base_uri": "https://localhost:8080/"
        },
        "id": "S6dnHsv4JuQB",
        "outputId": "8dde3335-e81a-474f-acf0-a80ec5e8a643"
      },
      "source": [
        "# 문자열 공백 없애기 : strip(), rstrip(), lstrip()\n",
        "favorite_language = ' python '\n",
        "print(favorite_language.rstrip())\n",
        "print(favorite_language.lstrip())\n",
        "print(favorite_language.strip())"
      ],
      "execution_count": null,
      "outputs": [
        {
          "output_type": "stream",
          "text": [
            " python\n",
            "python \n",
            "python\n"
          ],
          "name": "stdout"
        }
      ]
    },
    {
      "cell_type": "markdown",
      "metadata": {
        "id": "qZs9ju-OObNW"
      },
      "source": [
        "#### 문자열 기본함수들(2/2)"
      ]
    },
    {
      "cell_type": "code",
      "metadata": {
        "colab": {
          "base_uri": "https://localhost:8080/"
        },
        "id": "E5UnWX3oJ3oX",
        "outputId": "fe407e45-8a76-4004-f0ce-986e8a0fb6b6"
      },
      "source": [
        "# 문자열 나누기\n",
        "message = \"Python Easy\"\n",
        "messages = message.split(\" \")\n",
        "print(messages[0])\n",
        "print(messages[1])\n",
        "print(messages)"
      ],
      "execution_count": null,
      "outputs": [
        {
          "output_type": "stream",
          "text": [
            "Python\n",
            "Easy\n",
            "['Python', 'Easy']\n"
          ],
          "name": "stdout"
        }
      ]
    },
    {
      "cell_type": "code",
      "metadata": {
        "colab": {
          "base_uri": "https://localhost:8080/"
        },
        "id": "ssC9TRQMMLKx",
        "outputId": "93c1bfe8-e826-4add-e666-2fa79a87e4b4"
      },
      "source": [
        "# 문자열 합치기\n",
        "fruits = [\"apple\", \"banana\", \"mango\"]\n",
        "delimiter1 = \" / \"\n",
        "delimiter2 = \" || \"\n",
        "delimiter3 = \" & \"\n",
        "print(delimiter1.join(fruits))\n",
        "print(delimiter2.join(fruits))\n",
        "print(delimiter3.join(fruits))"
      ],
      "execution_count": null,
      "outputs": [
        {
          "output_type": "stream",
          "text": [
            "apple / banana / mango\n",
            "apple || banana || mango\n",
            "apple & banana & mango\n"
          ],
          "name": "stdout"
        }
      ]
    },
    {
      "cell_type": "markdown",
      "metadata": {
        "id": "l33g0Kb0OAyk"
      },
      "source": [
        "#### 문자열 포맷"
      ]
    },
    {
      "cell_type": "code",
      "metadata": {
        "colab": {
          "base_uri": "https://localhost:8080/"
        },
        "id": "J98w5v2FMOYj",
        "outputId": "fe4d1dac-5de1-4ad1-c490-83bef572b402"
      },
      "source": [
        "# f-string : 문자열 앞에 f를 붙임\n",
        "name1 = \"Tom\"\n",
        "score1 = 90\n",
        "print(f\"이름: {name1} 성적: {score1}\")"
      ],
      "execution_count": 6,
      "outputs": [
        {
          "output_type": "stream",
          "text": [
            "이름: Tom 성적: 90\n"
          ],
          "name": "stdout"
        }
      ]
    },
    {
      "cell_type": "code",
      "metadata": {
        "colab": {
          "base_uri": "https://localhost:8080/"
        },
        "id": "4QgJCcsP3BTZ",
        "outputId": "9c7259c3-124c-4424-d445-808b2e8f1c45"
      },
      "source": [
        "# repr() 을 f-string 에 사용\n",
        "strText = \"my_variable\"\n",
        "value = 2.1234\n",
        "\n",
        "formatted = f'{strText} = {value}'\n",
        "print(formatted)"
      ],
      "execution_count": 7,
      "outputs": [
        {
          "output_type": "stream",
          "text": [
            "my_variable = 2.1234\n"
          ],
          "name": "stdout"
        }
      ]
    },
    {
      "cell_type": "code",
      "metadata": {
        "colab": {
          "base_uri": "https://localhost:8080/"
        },
        "id": "21uVEoSr3Z6g",
        "outputId": "108d4d1c-6743-40bd-e74a-276b526e6ce0"
      },
      "source": [
        "formatted = f'{strText!r:<20} = {value:.2f}'\n",
        "print(formatted)"
      ],
      "execution_count": 9,
      "outputs": [
        {
          "output_type": "stream",
          "text": [
            "'my_variable'        = 2.12\n"
          ],
          "name": "stdout"
        }
      ]
    },
    {
      "cell_type": "code",
      "metadata": {
        "colab": {
          "base_uri": "https://localhost:8080/"
        },
        "id": "msSyk6733kRE",
        "outputId": "11336e7d-94e4-4b0f-d31a-22263823a3f9"
      },
      "source": [
        "# format()\n",
        "print(\"My name is {}\".format(\"William\"))\n",
        "print(\"I'm {} years old\".format(28))\n",
        "print(\"{} * {} = {}\".format(3, 4, 3*4))\n",
        "txt = \"I have some {2}, {0}, and {1}\"\n",
        "print(txt.format(\"apples\", \"bananas\", \"oranges\"))"
      ],
      "execution_count": 11,
      "outputs": [
        {
          "output_type": "stream",
          "text": [
            "My name is William\n",
            "I'm 28 years old\n",
            "3 * 4 = 12\n",
            "I have some oranges, apples, and bananas\n"
          ],
          "name": "stdout"
        }
      ]
    },
    {
      "cell_type": "markdown",
      "metadata": {
        "id": "wqsntMnJQBw-"
      },
      "source": [
        "## 3. if statement"
      ]
    },
    {
      "cell_type": "markdown",
      "metadata": {
        "id": "2OXmWRa-QWUs"
      },
      "source": [
        "#### 조건문"
      ]
    },
    {
      "cell_type": "code",
      "metadata": {
        "id": "xKUVWltYNsyZ"
      },
      "source": [
        "a = 33\n",
        "b = 33\n",
        "\n",
        "if b > a:\n",
        "  print(\"b is greater than a\")\n",
        "elif a == b:\n",
        "  pass\n",
        "else:\n",
        "  print(\"a is greater than b\")"
      ],
      "execution_count": null,
      "outputs": []
    },
    {
      "cell_type": "code",
      "metadata": {
        "colab": {
          "base_uri": "https://localhost:8080/"
        },
        "id": "Jt0mRqgVQmn8",
        "outputId": "d51f3d98-af43-4a1a-f810-a351bfe543cc"
      },
      "source": [
        "age = 27\n",
        "if age < 8:\n",
        "  fee = 5000\n",
        "elif 8 <= age < 20:\n",
        "  fee = 15000\n",
        "elif 20 <= age < 60:\n",
        "  fee = 20000\n",
        "else:\n",
        "  fee = 0\n",
        "print(fee)"
      ],
      "execution_count": null,
      "outputs": [
        {
          "output_type": "stream",
          "text": [
            "20000\n"
          ],
          "name": "stdout"
        }
      ]
    },
    {
      "cell_type": "markdown",
      "metadata": {
        "id": "5-RPXmgoRQ49"
      },
      "source": [
        "## 4. List"
      ]
    },
    {
      "cell_type": "markdown",
      "metadata": {
        "id": "pWVqpAPGUmI5"
      },
      "source": [
        "#### tuple\n",
        "- 빈 튜플 생성하여 empty_tuple에 할당\n",
        "- 튜플이 비었는지 요소가 있는지 판단하여 비어있으면 “empty” 출력"
      ]
    },
    {
      "cell_type": "code",
      "metadata": {
        "colab": {
          "base_uri": "https://localhost:8080/"
        },
        "id": "maRs4HAKRI6i",
        "outputId": "e58f704c-e0c1-4af0-8f71-15a649a3bb70"
      },
      "source": [
        "empty_tuple = ()\n",
        "empty_tuple = tuple()\n",
        "if empty_tuple:\n",
        "  print(\"not empty\")\n",
        "else:\n",
        "  print(\"empty\")\n",
        "if len(empty_tuple) == 0:\n",
        "  print(\"empty\")\n",
        "else:\n",
        "  print(\"not empty\")"
      ],
      "execution_count": null,
      "outputs": [
        {
          "output_type": "stream",
          "text": [
            "empty\n",
            "empty\n"
          ],
          "name": "stdout"
        }
      ]
    },
    {
      "cell_type": "markdown",
      "metadata": {
        "id": "d9RX_3hEUuRz"
      },
      "source": [
        "- 튜플에 요소 추가가 가능할까\n",
        "?\n",
        "  - 튜플이 불변한 타입이기 때문 \n",
        "  - 요소를 수정, 삭제, 추가가 가능할때 가변하다고 함 (mutable)\n",
        "  - 가변 시퀀스 타입인 list를 써야 함\n",
        "- 불변 시퀀스 타입 : str, range, tuple \n",
        "- 가변 시퀀스 타입: list"
      ]
    },
    {
      "cell_type": "markdown",
      "metadata": {
        "id": "Q7amfF78VHon"
      },
      "source": [
        "#### List\n",
        "- 특정한 순서로 연결되어 있는 데이터의 집합\n",
        "- 숫자, 문자열, 리스트 등 다양한 종류의 데이터를 넣을 수 있음\n",
        "- 대괄호 기호를 이용하여 생성 - [ ]\n",
        "- 리스트에 요소 추가, 삭제 가능\n",
        "- 대괄호 기호를 이용하여 생성하며 요소값은 쉼표로 구분"
      ]
    },
    {
      "cell_type": "code",
      "metadata": {
        "colab": {
          "base_uri": "https://localhost:8080/"
        },
        "id": "XCuUSYobUknx",
        "outputId": "e0f82ec9-dead-46e2-b80f-13ea42221a86"
      },
      "source": [
        "bicycles = ['trek', 'cannondale', 'redline', 'specialized']\n",
        "print(bicycles)"
      ],
      "execution_count": null,
      "outputs": [
        {
          "output_type": "stream",
          "text": [
            "['trek', 'cannondale', 'redline', 'specialized']\n"
          ],
          "name": "stdout"
        }
      ]
    },
    {
      "cell_type": "markdown",
      "metadata": {
        "id": "RxxFg0ymVVg0"
      },
      "source": [
        "#### List 연산"
      ]
    },
    {
      "cell_type": "markdown",
      "metadata": {
        "id": "94auHjlaVZSG"
      },
      "source": [
        "#### List 슬라이싱"
      ]
    },
    {
      "cell_type": "markdown",
      "metadata": {
        "id": "XvWM4tClVf03"
      },
      "source": [
        "- 리스트 Slicing – 서브 리스트로 만듦\n",
        "- start : end (: step) 형식"
      ]
    },
    {
      "cell_type": "code",
      "metadata": {
        "colab": {
          "base_uri": "https://localhost:8080/"
        },
        "id": "1la6gs50VSSu",
        "outputId": "6dc3420b-058b-4867-bb71-3b7e8626b880"
      },
      "source": [
        "players = ['charles', 'martina', 'michael', 'florence', 'eli']\n",
        "print(players[0:3])\n",
        "print(players[1:4])\n",
        "print(players[:4])\n",
        "print(players[2:])"
      ],
      "execution_count": 12,
      "outputs": [
        {
          "output_type": "stream",
          "text": [
            "['charles', 'martina', 'michael']\n",
            "['martina', 'michael', 'florence']\n",
            "['charles', 'martina', 'michael', 'florence']\n",
            "['michael', 'florence', 'eli']\n"
          ],
          "name": "stdout"
        }
      ]
    },
    {
      "cell_type": "markdown",
      "metadata": {
        "id": "1JeiNqUqVqPj"
      },
      "source": [
        "- step 지정"
      ]
    },
    {
      "cell_type": "code",
      "metadata": {
        "colab": {
          "base_uri": "https://localhost:8080/"
        },
        "id": "9RUxyUv6VUxg",
        "outputId": "67009090-f96c-49c7-a835-04eb6923266b"
      },
      "source": [
        "nums = [1, 0, 6, 5, 3, 4, 2, 3, 7]\n",
        "print(nums[::2])\n",
        "print(nums[::-1])"
      ],
      "execution_count": null,
      "outputs": [
        {
          "output_type": "stream",
          "text": [
            "[1, 6, 3, 2, 7]\n",
            "[7, 3, 2, 4, 3, 5, 6, 0, 1]\n"
          ],
          "name": "stdout"
        }
      ]
    },
    {
      "cell_type": "markdown",
      "metadata": {
        "id": "1dxIAS-qVwH7"
      },
      "source": [
        "#### List 항목 수정"
      ]
    },
    {
      "cell_type": "code",
      "metadata": {
        "colab": {
          "base_uri": "https://localhost:8080/"
        },
        "id": "R4_rRyMOVuPS",
        "outputId": "736f327f-1dee-4b22-d4b2-6c90bcaad11f"
      },
      "source": [
        "motorcycles = ['honda', 'yamaha', 'suzuki']\n",
        "print(motorcycles)\n",
        "motorcycles[0] = 'ducati'\n",
        "motorcycles[1:3] = ['hollydavison', 'bmw']\n",
        "print(motorcycles)"
      ],
      "execution_count": null,
      "outputs": [
        {
          "output_type": "stream",
          "text": [
            "['honda', 'yamaha', 'suzuki']\n",
            "['ducati', 'hollydavison', 'bmw']\n"
          ],
          "name": "stdout"
        }
      ]
    },
    {
      "cell_type": "markdown",
      "metadata": {
        "id": "UjaswKv-V20K"
      },
      "source": [
        "#### Tuple 항목 추가"
      ]
    },
    {
      "cell_type": "code",
      "metadata": {
        "id": "MFwR6GDRV0Cn"
      },
      "source": [
        "items = (\"ruler\",\"pen\",\"eraser\")\n",
        "# items[3] = \"scissors\"\n",
        "# TypeError: 'tuple' object does not support item assignment"
      ],
      "execution_count": 14,
      "outputs": []
    },
    {
      "cell_type": "markdown",
      "metadata": {
        "id": "Ximd7ZFsWFiu"
      },
      "source": [
        "#### List 항목 추가\n",
        "- 항목 추가 : .append() \n",
        "  - 해당 리스트의 마지막에 인덱스를 추가하고 값 할당"
      ]
    },
    {
      "cell_type": "code",
      "metadata": {
        "colab": {
          "base_uri": "https://localhost:8080/"
        },
        "id": "gYivvTTmV7LG",
        "outputId": "625594d6-c5d7-4eae-e754-c22cf34be54c"
      },
      "source": [
        "motorcycles = ['honda', 'yamaha', 'suzuki']\n",
        "print(motorcycles)\n",
        "motorcycles.append('ducati')\n",
        "print(motorcycles)"
      ],
      "execution_count": null,
      "outputs": [
        {
          "output_type": "stream",
          "text": [
            "['honda', 'yamaha', 'suzuki']\n",
            "['honda', 'yamaha', 'suzuki', 'ducati']\n"
          ],
          "name": "stdout"
        }
      ]
    },
    {
      "cell_type": "markdown",
      "metadata": {
        "id": "h8Y0Z87oWO1P"
      },
      "source": [
        "- 항목 추가 : .insert() \n",
        "  - 지정한 인덱스에 값 추가"
      ]
    },
    {
      "cell_type": "code",
      "metadata": {
        "colab": {
          "base_uri": "https://localhost:8080/"
        },
        "id": "KjFT7UiDWC7h",
        "outputId": "c6cae268-7718-489f-94df-13ab377e5b19"
      },
      "source": [
        "motorcycles = ['honda', 'yamaha', 'suzuki']\n",
        "motorcycles.insert(0, 'ducati')\n",
        "print(motorcycles)"
      ],
      "execution_count": 15,
      "outputs": [
        {
          "output_type": "stream",
          "text": [
            "['ducati', 'honda', 'yamaha', 'suzuki']\n"
          ],
          "name": "stdout"
        }
      ]
    },
    {
      "cell_type": "markdown",
      "metadata": {
        "id": "T1kFBg_eWfIJ"
      },
      "source": [
        "#### List 항목 제거\n",
        "- 항목 제거 : del \n",
        "  - 지정한 인덱스에 해당 하는 값 제거"
      ]
    },
    {
      "cell_type": "code",
      "metadata": {
        "colab": {
          "base_uri": "https://localhost:8080/"
        },
        "id": "8eI9V1ajWQ3S",
        "outputId": "b7571a67-ea21-4af9-c193-69dcdb3f4827"
      },
      "source": [
        "motorcycles = ['honda', 'yamaha', 'suzuki']\n",
        "print(motorcycles)\n",
        "del motorcycles[0]\n",
        "print(motorcycles)"
      ],
      "execution_count": null,
      "outputs": [
        {
          "output_type": "stream",
          "text": [
            "['honda', 'yamaha', 'suzuki']\n",
            "['yamaha', 'suzuki']\n"
          ],
          "name": "stdout"
        }
      ]
    },
    {
      "cell_type": "markdown",
      "metadata": {
        "id": "2uUTKIVKWm4a"
      },
      "source": [
        "- 항목 제거 : .pop() \n",
        "  - 해당 리스트의 마지막 인덱스\n",
        "값 추출 하여 반환"
      ]
    },
    {
      "cell_type": "code",
      "metadata": {
        "colab": {
          "base_uri": "https://localhost:8080/"
        },
        "id": "5R0Yia8SWo5N",
        "outputId": "487cf3c4-dd94-434e-ded9-ab548fbcda0f"
      },
      "source": [
        "motorcycles = ['honda', 'yamaha', 'suzuki']\n",
        "print(motorcycles)\n",
        "popped_motorcycle = motorcycles.pop()\n",
        "print(motorcycles)\n",
        "print(popped_motorcycle)"
      ],
      "execution_count": null,
      "outputs": [
        {
          "output_type": "stream",
          "text": [
            "['honda', 'yamaha', 'suzuki']\n",
            "['honda', 'yamaha']\n",
            "suzuki\n"
          ],
          "name": "stdout"
        }
      ]
    },
    {
      "cell_type": "markdown",
      "metadata": {
        "id": "9mpy9gnsWtxT"
      },
      "source": [
        "- 항목 제거 : .remove() \n",
        "  - 대상 리스트에서 지정한\n",
        "값 제거"
      ]
    },
    {
      "cell_type": "code",
      "metadata": {
        "colab": {
          "base_uri": "https://localhost:8080/"
        },
        "id": "63eYzt9IWlII",
        "outputId": "862573fc-d7f9-46a9-ec0c-1248d9961456"
      },
      "source": [
        "motorcycles = ['honda', 'yamaha', 'suzuki', 'ducati']\n",
        "print(motorcycles)\n",
        "motorcycles.remove('ducati')\n",
        "print(motorcycles)"
      ],
      "execution_count": null,
      "outputs": [
        {
          "output_type": "stream",
          "text": [
            "['honda', 'yamaha', 'suzuki', 'ducati']\n",
            "['honda', 'yamaha', 'suzuki']\n"
          ],
          "name": "stdout"
        }
      ]
    },
    {
      "cell_type": "markdown",
      "metadata": {
        "id": "UVbxdv6aW3xY"
      },
      "source": [
        "#### List 합치기\n",
        "- 리스트 합치기 \n",
        "  - +연산자"
      ]
    },
    {
      "cell_type": "code",
      "metadata": {
        "colab": {
          "base_uri": "https://localhost:8080/"
        },
        "id": "0pLe5tcwWshM",
        "outputId": "7dc600ee-3b2b-485d-d289-ca7b1c1d1464"
      },
      "source": [
        "motorcycles = ['honda', 'yamaha', 'suzuki', 'ducati']\n",
        "motorcycles = motorcycles + ['hollydavison', 'bmw']\n",
        "print(motorcycles)"
      ],
      "execution_count": null,
      "outputs": [
        {
          "output_type": "stream",
          "text": [
            "['honda', 'yamaha', 'suzuki', 'ducati', 'hollydavison', 'bmw']\n"
          ],
          "name": "stdout"
        }
      ]
    },
    {
      "cell_type": "markdown",
      "metadata": {
        "id": "V2KWkWW2XBpY"
      },
      "source": [
        "- 리스트 합치기 : extend()"
      ]
    },
    {
      "cell_type": "code",
      "metadata": {
        "colab": {
          "base_uri": "https://localhost:8080/"
        },
        "id": "noxAHSWRW-Xn",
        "outputId": "7c1350b1-be17-4b37-a23f-738ca9a20790"
      },
      "source": [
        "motorcycles = ['honda', 'yamaha', 'suzuki', 'ducati']\n",
        "motorcycles.extend(['hollydavison', 'bmw'])\n",
        "print(motorcycles)"
      ],
      "execution_count": null,
      "outputs": [
        {
          "output_type": "stream",
          "text": [
            "['honda', 'yamaha', 'suzuki', 'ducati', 'hollydavison', 'bmw']\n"
          ],
          "name": "stdout"
        }
      ]
    },
    {
      "cell_type": "markdown",
      "metadata": {
        "id": "quJwWbovXSaE"
      },
      "source": [
        "#### List 정렬 \n",
        "- 정렬 : .sort()"
      ]
    },
    {
      "cell_type": "code",
      "metadata": {
        "colab": {
          "base_uri": "https://localhost:8080/"
        },
        "id": "QcoRxIjQXDTf",
        "outputId": "d070b33e-ca96-436b-d4f2-ca3496995904"
      },
      "source": [
        "cars = ['hyundai', 'bmw', 'audi', 'toyota']\n",
        "cars.sort()\n",
        "print(cars)\n",
        "cars.sort(reverse=True)\n",
        "print(cars)"
      ],
      "execution_count": null,
      "outputs": [
        {
          "output_type": "stream",
          "text": [
            "['audi', 'bmw', 'hyundai', 'toyota']\n",
            "['toyota', 'hyundai', 'bmw', 'audi']\n"
          ],
          "name": "stdout"
        }
      ]
    },
    {
      "cell_type": "markdown",
      "metadata": {
        "id": "btMs7Dt2X4Ha"
      },
      "source": [
        "#### List 역순\n",
        "- 순서 Reverse : .reverse() \n",
        "  - 리스트의 순서를 기존 인덱스 값 기준으로 역순 정렬"
      ]
    },
    {
      "cell_type": "code",
      "metadata": {
        "colab": {
          "base_uri": "https://localhost:8080/"
        },
        "id": "S2v0hV_tXPbY",
        "outputId": "0b7feb08-5b9e-4160-b331-8c1cb59adaa9"
      },
      "source": [
        "cars = ['bmw', 'audi', 'toyota', 'hyundai']\n",
        "print(cars)\n",
        "cars.reverse()\n",
        "print(cars)"
      ],
      "execution_count": null,
      "outputs": [
        {
          "output_type": "stream",
          "text": [
            "['bmw', 'audi', 'toyota', 'hyundai']\n",
            "['hyundai', 'toyota', 'audi', 'bmw']\n"
          ],
          "name": "stdout"
        }
      ]
    },
    {
      "cell_type": "markdown",
      "metadata": {
        "id": "l4KGQDGPYA_h"
      },
      "source": [
        "#### List 통계함수"
      ]
    },
    {
      "cell_type": "code",
      "metadata": {
        "colab": {
          "base_uri": "https://localhost:8080/"
        },
        "id": "TA4DgVVAX_Aq",
        "outputId": "ba565295-1701-4609-ebca-94fd5e42a980"
      },
      "source": [
        "digits = [1, 2, 3, 4, 5, 6, 7, 8, 9, 0]\n",
        "print(min(digits))\n",
        "print(max(digits))\n",
        "print(sum(digits))"
      ],
      "execution_count": null,
      "outputs": [
        {
          "output_type": "stream",
          "text": [
            "0\n",
            "9\n",
            "45\n"
          ],
          "name": "stdout"
        }
      ]
    },
    {
      "cell_type": "markdown",
      "metadata": {
        "id": "hQ_GbtQvYBPq"
      },
      "source": [
        "#### List 생성(변환)\n",
        "- list() 함수로 다른 시퀀스타입을 list타입으로 변환 가능"
      ]
    },
    {
      "cell_type": "code",
      "metadata": {
        "colab": {
          "base_uri": "https://localhost:8080/",
          "height": 251
        },
        "id": "VZpDWuzCYFhe",
        "outputId": "e552c4f0-87a3-4491-c155-53a5ea238987"
      },
      "source": [
        "a = range(3)\n",
        "print(list(range(3)))\n",
        "print(list(tuple('a', 'b')))\n",
        "print(list(\"hello world\"))"
      ],
      "execution_count": 18,
      "outputs": [
        {
          "output_type": "stream",
          "text": [
            "[0, 1, 2]\n"
          ],
          "name": "stdout"
        },
        {
          "output_type": "error",
          "ename": "TypeError",
          "evalue": "ignored",
          "traceback": [
            "\u001b[0;31m---------------------------------------------------------------------------\u001b[0m",
            "\u001b[0;31mTypeError\u001b[0m                                 Traceback (most recent call last)",
            "\u001b[0;32m<ipython-input-18-855656837bf5>\u001b[0m in \u001b[0;36m<module>\u001b[0;34m()\u001b[0m\n\u001b[1;32m      1\u001b[0m \u001b[0ma\u001b[0m \u001b[0;34m=\u001b[0m \u001b[0mrange\u001b[0m\u001b[0;34m(\u001b[0m\u001b[0;36m3\u001b[0m\u001b[0;34m)\u001b[0m\u001b[0;34m\u001b[0m\u001b[0;34m\u001b[0m\u001b[0m\n\u001b[1;32m      2\u001b[0m \u001b[0mprint\u001b[0m\u001b[0;34m(\u001b[0m\u001b[0mlist\u001b[0m\u001b[0;34m(\u001b[0m\u001b[0mrange\u001b[0m\u001b[0;34m(\u001b[0m\u001b[0;36m3\u001b[0m\u001b[0;34m)\u001b[0m\u001b[0;34m)\u001b[0m\u001b[0;34m)\u001b[0m\u001b[0;34m\u001b[0m\u001b[0;34m\u001b[0m\u001b[0m\n\u001b[0;32m----> 3\u001b[0;31m \u001b[0mprint\u001b[0m\u001b[0;34m(\u001b[0m\u001b[0mlist\u001b[0m\u001b[0;34m(\u001b[0m\u001b[0mtuple\u001b[0m\u001b[0;34m(\u001b[0m\u001b[0;34m'a'\u001b[0m\u001b[0;34m,\u001b[0m \u001b[0;34m'b'\u001b[0m\u001b[0;34m)\u001b[0m\u001b[0;34m)\u001b[0m\u001b[0;34m)\u001b[0m\u001b[0;34m\u001b[0m\u001b[0;34m\u001b[0m\u001b[0m\n\u001b[0m\u001b[1;32m      4\u001b[0m \u001b[0mprint\u001b[0m\u001b[0;34m(\u001b[0m\u001b[0mlist\u001b[0m\u001b[0;34m(\u001b[0m\u001b[0;34m\"hello world\"\u001b[0m\u001b[0;34m)\u001b[0m\u001b[0;34m)\u001b[0m\u001b[0;34m\u001b[0m\u001b[0;34m\u001b[0m\u001b[0m\n",
            "\u001b[0;31mTypeError\u001b[0m: tuple expected at most 1 arguments, got 2"
          ]
        }
      ]
    },
    {
      "cell_type": "markdown",
      "metadata": {
        "id": "IxBRDHMXYp55"
      },
      "source": [
        "#### List & 반복문"
      ]
    },
    {
      "cell_type": "code",
      "metadata": {
        "colab": {
          "base_uri": "https://localhost:8080/"
        },
        "id": "hQ40_1KxYbEH",
        "outputId": "c8db62ef-3b1c-4668-bb36-42264b1a6a54"
      },
      "source": [
        "# for…in : 순회가능한 객체의 index를 사용하여 반복\n",
        "alphabets = ['a', 'b', 'c']\n",
        "for alphabet in alphabets:\n",
        "  print(alphabet)"
      ],
      "execution_count": null,
      "outputs": [
        {
          "output_type": "stream",
          "text": [
            "a\n",
            "b\n",
            "c\n"
          ],
          "name": "stdout"
        }
      ]
    },
    {
      "cell_type": "code",
      "metadata": {
        "colab": {
          "base_uri": "https://localhost:8080/"
        },
        "id": "fKwbf17CY2KQ",
        "outputId": "3548ef21-64bc-4734-8754-a36e576e0ef6"
      },
      "source": [
        "# enumerate() : Index 출력도 필요할 시\n",
        "fruits = ['lemon', 'kiwi', 'orange']\n",
        "for i, fruit in enumerate(fruits):\n",
        "  print(i, fruit)"
      ],
      "execution_count": 19,
      "outputs": [
        {
          "output_type": "stream",
          "text": [
            "0 lemon\n",
            "1 kiwi\n",
            "2 orange\n"
          ],
          "name": "stdout"
        }
      ]
    },
    {
      "cell_type": "markdown",
      "metadata": {
        "id": "X_hKyuh9ZKUg"
      },
      "source": [
        "#### while loop"
      ]
    },
    {
      "cell_type": "code",
      "metadata": {
        "colab": {
          "base_uri": "https://localhost:8080/"
        },
        "id": "xyDlwFYgZBcc",
        "outputId": "2069b05c-805c-4153-af50-d1afd9f5a83c"
      },
      "source": [
        "# While\n",
        "i = 1\n",
        "while i < 6:\n",
        "  print( i )\n",
        "  i += 1"
      ],
      "execution_count": null,
      "outputs": [
        {
          "output_type": "stream",
          "text": [
            "1\n",
            "2\n",
            "3\n",
            "4\n",
            "5\n"
          ],
          "name": "stdout"
        }
      ]
    },
    {
      "cell_type": "code",
      "metadata": {
        "colab": {
          "base_uri": "https://localhost:8080/"
        },
        "id": "86jUVU5JZG23",
        "outputId": "d3b0466d-cefa-4d7a-cdbd-0877917b3616"
      },
      "source": [
        "# break : 반복문을 빠져 나올 때 사용\n",
        "i = 1\n",
        "while i < 6:\n",
        "  print( i )\n",
        "  if i == 3:\n",
        "    break\n",
        "  i += 1"
      ],
      "execution_count": null,
      "outputs": [
        {
          "output_type": "stream",
          "text": [
            "1\n",
            "2\n",
            "3\n"
          ],
          "name": "stdout"
        }
      ]
    },
    {
      "cell_type": "markdown",
      "metadata": {
        "id": "9RtwzMRZZpjb"
      },
      "source": [
        "#### Loop 단계 건너뛰기\n",
        "- continue: 반복문 다음으로 점프"
      ]
    },
    {
      "cell_type": "code",
      "metadata": {
        "colab": {
          "base_uri": "https://localhost:8080/"
        },
        "id": "-ToPZw5OZfBQ",
        "outputId": "c08f5aee-bbbd-407a-e1bd-5deaea7f976c"
      },
      "source": [
        "i = 0\n",
        "while i < 6:\n",
        "  i += 1\n",
        "  if i == 3:\n",
        "    continue\n",
        "  print(i)"
      ],
      "execution_count": null,
      "outputs": [
        {
          "output_type": "stream",
          "text": [
            "1\n",
            "2\n",
            "4\n",
            "5\n",
            "6\n"
          ],
          "name": "stdout"
        }
      ]
    },
    {
      "cell_type": "markdown",
      "metadata": {
        "id": "uIPr0B-DZ535"
      },
      "source": [
        "## 5. Shallow, Deep Copy"
      ]
    },
    {
      "cell_type": "code",
      "metadata": {
        "colab": {
          "base_uri": "https://localhost:8080/"
        },
        "id": "c0BvmihPZ1Xc",
        "outputId": "92aa09ba-c1be-4f26-8cbe-48aa94efd436"
      },
      "source": [
        "# 얕은 복사\n",
        "\n",
        "import copy\n",
        "\n",
        "a = [1, [1, 2, 3]] #1\n",
        "b = copy.copy(a) #2\n",
        "print(a)\n",
        "print(b)\n",
        "print('\\n')\n",
        "\n",
        "b[0] = 10 #3\n",
        "print(a)\n",
        "print(b)\n",
        "print('\\n')\n",
        "\n",
        "c = a\n",
        "c[1].append(4) #4\n",
        "print(a)\n",
        "print(b)\n",
        "print(c)"
      ],
      "execution_count": null,
      "outputs": [
        {
          "output_type": "stream",
          "text": [
            "[1, [1, 2, 3]]\n",
            "[1, [1, 2, 3]]\n",
            "\n",
            "\n",
            "[1, [1, 2, 3]]\n",
            "[10, [1, 2, 3]]\n",
            "\n",
            "\n",
            "[1, [1, 2, 3, 4]]\n",
            "[10, [1, 2, 3, 4]]\n",
            "[1, [1, 2, 3, 4]]\n"
          ],
          "name": "stdout"
        }
      ]
    },
    {
      "cell_type": "code",
      "metadata": {
        "colab": {
          "base_uri": "https://localhost:8080/"
        },
        "id": "6tfsFMeReGsr",
        "outputId": "b2d242e3-e2f4-4650-f52b-e2695fd0b3db"
      },
      "source": [
        "# 깊은 복사\n",
        "\n",
        "import copy\n",
        "\n",
        "a = [1, [1,2,3]] #1\n",
        "b = copy.deepcopy(a) #2\n",
        "print(a)\n",
        "print(b)\n",
        "print('\\n')\n",
        "\n",
        "b[0] = 10 #3\n",
        "print(a)\n",
        "print(b)\n",
        "print('\\n')\n",
        "\n",
        "b[1].append(4) #4\n",
        "print(a)\n",
        "print(b)"
      ],
      "execution_count": null,
      "outputs": [
        {
          "output_type": "stream",
          "text": [
            "[1, [1, 2, 3]]\n",
            "[1, [1, 2, 3]]\n",
            "\n",
            "\n",
            "[1, [1, 2, 3]]\n",
            "[10, [1, 2, 3]]\n",
            "\n",
            "\n",
            "[1, [1, 2, 3]]\n",
            "[10, [1, 2, 3, 4]]\n"
          ],
          "name": "stdout"
        }
      ]
    },
    {
      "cell_type": "markdown",
      "metadata": {
        "id": "owaq7wblms6c"
      },
      "source": [
        "## 6. Dictionary"
      ]
    },
    {
      "cell_type": "markdown",
      "metadata": {
        "id": "tjz2RFYPmu-f"
      },
      "source": [
        "#### 딕셔너리\n",
        "- Key/Value 형태의 자료구조\n",
        "- Key 값으로 Value를 조회 가능\n",
        "- 리스트와 혼합된 형태로 사용 가능\n",
        "- { } 기호를 사용하여 생성"
      ]
    },
    {
      "cell_type": "code",
      "metadata": {
        "colab": {
          "base_uri": "https://localhost:8080/"
        },
        "id": "ffywN-gDmrey",
        "outputId": "f5b76ccf-1ab9-437e-f539-24c982bb5ad8"
      },
      "source": [
        "alien = {'color': 'green', 'points': 5}\n",
        "print(alien['color'])\n",
        "print(alien['points'])"
      ],
      "execution_count": null,
      "outputs": [
        {
          "output_type": "stream",
          "text": [
            "green\n",
            "5\n"
          ],
          "name": "stdout"
        }
      ]
    },
    {
      "cell_type": "code",
      "metadata": {
        "colab": {
          "base_uri": "https://localhost:8080/"
        },
        "id": "WI_4CGBkm3YL",
        "outputId": "3597b1d7-9b24-4fd6-f843-fbd172b2139a"
      },
      "source": [
        "# 딕셔너리 항목 추가\n",
        "alien = {}\n",
        "alien['color'] = 'green'\n",
        "alien['points'] = 5\n",
        "print(alien)\n",
        "alien['x_position'] = 0\n",
        "alien['y_position'] = 25\n",
        "print(alien)"
      ],
      "execution_count": null,
      "outputs": [
        {
          "output_type": "stream",
          "text": [
            "{'color': 'green', 'points': 5}\n",
            "{'color': 'green', 'points': 5, 'x_position': 0, 'y_position': 25}\n"
          ],
          "name": "stdout"
        }
      ]
    },
    {
      "cell_type": "code",
      "metadata": {
        "colab": {
          "base_uri": "https://localhost:8080/"
        },
        "id": "c357VPabm5Tq",
        "outputId": "ffbaf65b-fd35-4f79-a5ec-a858c8e8d3ed"
      },
      "source": [
        "# 딕셔너리 값 변경\n",
        "alien = {'color': 'green'}\n",
        "print(\"The alien is \" + alien['color'] + \".\")\n",
        "alien['color'] = 'yellow'\n",
        "print(\"The alien is now \" + alien['color'] + \".\")"
      ],
      "execution_count": null,
      "outputs": [
        {
          "output_type": "stream",
          "text": [
            "The alien is green.\n",
            "The alien is now yellow.\n"
          ],
          "name": "stdout"
        }
      ]
    },
    {
      "cell_type": "markdown",
      "metadata": {
        "id": "wG_IgrNZnAP_"
      },
      "source": [
        "- 딕셔너리 항목 제거 : .pop() \n",
        "  - 해당 딕셔너리의 마지막 인덱스 값 추출 하여 반환"
      ]
    },
    {
      "cell_type": "code",
      "metadata": {
        "colab": {
          "base_uri": "https://localhost:8080/"
        },
        "id": "Wbql0kDPm-HU",
        "outputId": "42ddbcac-4169-48ea-e018-a8b5f5a1f4d0"
      },
      "source": [
        "alien = {'color': 'green', 'points': 5}\n",
        "print(alien)\n",
        "del alien['points']\n",
        "print(alien)\n",
        "c = alien.pop('color')\n",
        "print(c)\n",
        "print(alien)"
      ],
      "execution_count": null,
      "outputs": [
        {
          "output_type": "stream",
          "text": [
            "{'color': 'green', 'points': 5}\n",
            "{'color': 'green'}\n",
            "green\n",
            "{}\n"
          ],
          "name": "stdout"
        }
      ]
    },
    {
      "cell_type": "markdown",
      "metadata": {
        "id": "cNH9GL_qnGVF"
      },
      "source": [
        "- 딕셔너리 key/value 접근 : .keys(), .values() \n",
        "  - .keys() : key 값들을 dict_keys 객체로 반환 \n",
        "  - .values() : value 값들을 dict_values 객체로 반환"
      ]
    },
    {
      "cell_type": "code",
      "metadata": {
        "colab": {
          "base_uri": "https://localhost:8080/"
        },
        "id": "TpTDYgiWnEtL",
        "outputId": "4842ac93-7590-4512-e421-7061bb60b95d"
      },
      "source": [
        "alien = {'color': 'green', 'points': 5}\n",
        "alien_keys = list(alien.keys())\n",
        "print(alien_keys)\n",
        "alien_values = list(alien.values())\n",
        "print(alien_values)"
      ],
      "execution_count": null,
      "outputs": [
        {
          "output_type": "stream",
          "text": [
            "['color', 'points']\n",
            "['green', 5]\n"
          ],
          "name": "stdout"
        }
      ]
    },
    {
      "cell_type": "code",
      "metadata": {
        "id": "OpdVE4WpnML6"
      },
      "source": [
        "# 다중 딕셔너리\n",
        "myfamily = {\n",
        "  \"child1\" : {\n",
        "    \"name\" : \"Emil\",\n",
        "    \"year\" : 2004\n",
        "  },\n",
        "  \"child2\" : {\n",
        "    \"name\" : \"Tobias\",\n",
        "    \"year\" : 2007\n",
        "  },\n",
        "  \"child3\" : {\n",
        "    \"name\" : \"Linus\",\n",
        "    \"year\" : 2011\n",
        "  }\n",
        "}"
      ],
      "execution_count": null,
      "outputs": []
    },
    {
      "cell_type": "markdown",
      "metadata": {
        "id": "3VQRHFreqeGd"
      },
      "source": [
        "#### 딕셔너리와 루핑\n",
        "- 딕셔너리 Looping\n",
        "  - Python 3.6부터는 딕셔너리의 삽입 순서를 보존하도록 동작이 개선됨"
      ]
    },
    {
      "cell_type": "code",
      "metadata": {
        "colab": {
          "base_uri": "https://localhost:8080/"
        },
        "id": "VjNigX71qZz2",
        "outputId": "e6c091e1-9725-4724-a9c1-2b97e4b2c73b"
      },
      "source": [
        "thisdict = {\n",
        "  \"brand\": \"Ford\",\n",
        "  \"model\": \"Mustang\",\n",
        "  \"year\": 1964\n",
        "}\n",
        "print(thisdict)"
      ],
      "execution_count": null,
      "outputs": [
        {
          "output_type": "stream",
          "text": [
            "{'brand': 'Ford', 'model': 'Mustang', 'year': 1964}\n"
          ],
          "name": "stdout"
        }
      ]
    },
    {
      "cell_type": "markdown",
      "metadata": {
        "id": "nbqKuMGhqtUC"
      },
      "source": [
        "  - in의 인자 딕셔너리의 key 정보 출력"
      ]
    },
    {
      "cell_type": "code",
      "metadata": {
        "colab": {
          "base_uri": "https://localhost:8080/"
        },
        "id": "OMeuQzuwqmT6",
        "outputId": "2f23403b-00f7-493f-fc31-e28bd7ae3198"
      },
      "source": [
        "for x in thisdict:\n",
        "  print(x)"
      ],
      "execution_count": null,
      "outputs": [
        {
          "output_type": "stream",
          "text": [
            "brand\n",
            "model\n",
            "year\n"
          ],
          "name": "stdout"
        }
      ]
    },
    {
      "cell_type": "markdown",
      "metadata": {
        "id": "z0dwDcHAqzYB"
      },
      "source": [
        "  - looping 되는 key 값을 이용하여 value 정보 출겨"
      ]
    },
    {
      "cell_type": "code",
      "metadata": {
        "colab": {
          "base_uri": "https://localhost:8080/"
        },
        "id": "hlMTAU61qyJl",
        "outputId": "5a1b4e69-8849-4a45-fcf5-4cc3bed3e81c"
      },
      "source": [
        "for x in thisdict:\n",
        "  print(thisdict[x])"
      ],
      "execution_count": null,
      "outputs": [
        {
          "output_type": "stream",
          "text": [
            "Ford\n",
            "Mustang\n",
            "1964\n"
          ],
          "name": "stdout"
        }
      ]
    },
    {
      "cell_type": "markdown",
      "metadata": {
        "id": "5P8N2De0q5cE"
      },
      "source": [
        "  - .values() 함수를 이용하여 전달받은 dict_values 객체를 이용하여 value 정보 출력"
      ]
    },
    {
      "cell_type": "code",
      "metadata": {
        "colab": {
          "base_uri": "https://localhost:8080/"
        },
        "id": "CUyTlqb9q3V5",
        "outputId": "cd52af6a-caf3-4f14-dd24-703e2706e0c3"
      },
      "source": [
        "for x in thisdict.values():\n",
        "  print(x)"
      ],
      "execution_count": null,
      "outputs": [
        {
          "output_type": "stream",
          "text": [
            "Ford\n",
            "Mustang\n",
            "1964\n"
          ],
          "name": "stdout"
        }
      ]
    },
    {
      "cell_type": "markdown",
      "metadata": {
        "id": "VwBCa4Vuq-Tc"
      },
      "source": [
        "  - .items() 함수를 이용하여 전달받은 dict_itemss 객체를 이용하여 key, value 정보를 출\n",
        "력"
      ]
    },
    {
      "cell_type": "code",
      "metadata": {
        "colab": {
          "base_uri": "https://localhost:8080/"
        },
        "id": "PbsFjVu0q7rG",
        "outputId": "b9ad7d4f-8b4f-442c-84a2-ca123374fefa"
      },
      "source": [
        "for x, y in thisdict.items():\n",
        "  print(x, y)"
      ],
      "execution_count": null,
      "outputs": [
        {
          "output_type": "stream",
          "text": [
            "brand Ford\n",
            "model Mustang\n",
            "year 1964\n"
          ],
          "name": "stdout"
        }
      ]
    },
    {
      "cell_type": "markdown",
      "metadata": {
        "id": "JzB9nsNdrDLn"
      },
      "source": [
        "#### 딕셔너리와 함수\n",
        " - **kwargs로 모든 인자를 얻는 경우(내부에서 딕셔너리로 취급)"
      ]
    },
    {
      "cell_type": "code",
      "metadata": {
        "colab": {
          "base_uri": "https://localhost:8080/"
        },
        "id": "YHNakzxjrBya",
        "outputId": "2809711d-97bb-4198-8631-e1da16f1984f"
      },
      "source": [
        "def my_func(**kwargs) :\n",
        "  for key, value in kwargs.items():\n",
        "    print(f'{key} = {value}')\n",
        "\n",
        "my_func(name = \"홍길동\", grade = \"A\")"
      ],
      "execution_count": null,
      "outputs": [
        {
          "output_type": "stream",
          "text": [
            "name = 홍길동\n",
            "grade = A\n"
          ],
          "name": "stdout"
        }
      ]
    },
    {
      "cell_type": "markdown",
      "metadata": {
        "id": "iYKTL0ufrXS1"
      },
      "source": [
        "#### 딕셔너리와 keyError\n",
        "- Key를 이용한 접근 시, KeyError를 방어"
      ]
    },
    {
      "cell_type": "code",
      "metadata": {
        "colab": {
          "base_uri": "https://localhost:8080/"
        },
        "id": "2ZlFN1hUrUJL",
        "outputId": "1bbee491-a0ef-45bd-d11b-dea61eee4b05"
      },
      "source": [
        "counters = {\n",
        "    '홍길동' : 3,\n",
        "    '김서방' : 2,\n",
        "}\n",
        "\n",
        "key = '이신성'\n",
        "\n",
        "if key in counters : \n",
        "  count = counters[key]\n",
        "else : \n",
        "  count = 0\n",
        "\n",
        "counters[key] = count + 1\n",
        "\n",
        "print(counters)"
      ],
      "execution_count": null,
      "outputs": [
        {
          "output_type": "stream",
          "text": [
            "{'홍길동': 3, '김서방': 2, '이신성': 1}\n"
          ],
          "name": "stdout"
        }
      ]
    },
    {
      "cell_type": "code",
      "metadata": {
        "colab": {
          "base_uri": "https://localhost:8080/",
          "height": 251
        },
        "id": "NnQfiiNCru9w",
        "outputId": "8325b91f-eed9-4d8a-d8dd-7cd3c176f2a6"
      },
      "source": [
        "# Key 가 존재하지 않는 경우, 심각한 에러 발생\n",
        "key = '코드프레소'\n",
        "count = counters[key]\n",
        "KeyError: '코드프레소'\n",
        "print(count)"
      ],
      "execution_count": 22,
      "outputs": [
        {
          "output_type": "error",
          "ename": "NameError",
          "evalue": "ignored",
          "traceback": [
            "\u001b[0;31m---------------------------------------------------------------------------\u001b[0m",
            "\u001b[0;31mNameError\u001b[0m                                 Traceback (most recent call last)",
            "\u001b[0;32m<ipython-input-22-5e865f514ed5>\u001b[0m in \u001b[0;36m<module>\u001b[0;34m()\u001b[0m\n\u001b[1;32m      1\u001b[0m \u001b[0;31m# Key 가 존재하지 않는 경우, 심각한 에러 발생\u001b[0m\u001b[0;34m\u001b[0m\u001b[0;34m\u001b[0m\u001b[0;34m\u001b[0m\u001b[0m\n\u001b[1;32m      2\u001b[0m \u001b[0mkey\u001b[0m \u001b[0;34m=\u001b[0m \u001b[0;34m'코드프레소'\u001b[0m\u001b[0;34m\u001b[0m\u001b[0;34m\u001b[0m\u001b[0m\n\u001b[0;32m----> 3\u001b[0;31m \u001b[0mcount\u001b[0m \u001b[0;34m=\u001b[0m \u001b[0mcounters\u001b[0m\u001b[0;34m[\u001b[0m\u001b[0mkey\u001b[0m\u001b[0;34m]\u001b[0m\u001b[0;34m\u001b[0m\u001b[0;34m\u001b[0m\u001b[0m\n\u001b[0m\u001b[1;32m      4\u001b[0m \u001b[0mKeyError\u001b[0m\u001b[0;34m:\u001b[0m \u001b[0;34m'코드프레소'\u001b[0m\u001b[0;34m\u001b[0m\u001b[0;34m\u001b[0m\u001b[0m\n\u001b[1;32m      5\u001b[0m \u001b[0mprint\u001b[0m\u001b[0;34m(\u001b[0m\u001b[0mcount\u001b[0m\u001b[0;34m)\u001b[0m\u001b[0;34m\u001b[0m\u001b[0;34m\u001b[0m\u001b[0m\n",
            "\u001b[0;31mNameError\u001b[0m: name 'counters' is not defined"
          ]
        }
      ]
    },
    {
      "cell_type": "code",
      "metadata": {
        "colab": {
          "base_uri": "https://localhost:8080/"
        },
        "id": "M1HWPuSsry27",
        "outputId": "5346c3d7-6e85-450b-bef8-e634e8dee609"
      },
      "source": [
        "# 방법 1. 방어적인 Style\n",
        "try : \n",
        "  count = counters[key]\n",
        "except KeyError :\n",
        "  count = 0\n",
        "\n",
        "print(count)"
      ],
      "execution_count": null,
      "outputs": [
        {
          "output_type": "stream",
          "text": [
            "0\n"
          ],
          "name": "stdout"
        }
      ]
    },
    {
      "cell_type": "code",
      "metadata": {
        "colab": {
          "base_uri": "https://localhost:8080/"
        },
        "id": "kJT2Zoh2sd1M",
        "outputId": "4574dcef-aed6-446c-cac0-223262d8b93a"
      },
      "source": [
        "# 방법 2. 방어적인 Style\n",
        "key = '코드프레소'\n",
        "count = counters.get(key, 0)\n",
        "counters[key] = count + 1\n",
        "print(counters)"
      ],
      "execution_count": null,
      "outputs": [
        {
          "output_type": "stream",
          "text": [
            "{'홍길동': 3, '김서방': 2, '이신성': 1, '코드프레소': 2}\n"
          ],
          "name": "stdout"
        }
      ]
    },
    {
      "cell_type": "markdown",
      "metadata": {
        "id": "nywsB3zUsnMM"
      },
      "source": [
        "#### 문제 : 딕셔너리\n",
        "- 아래는 어떤 반의 국어, 수학 점수이다. 과목별 평균을 구하여라"
      ]
    },
    {
      "cell_type": "code",
      "metadata": {
        "id": "ROUHwP59sjkN"
      },
      "source": [
        "reports = {\"tom\": {\"kor\": 60, \"math\": 100},\n",
        "           \"suzy\": {\"kor\": 70, \"math\": 90},\n",
        "           \"lina\": {\"kor\": 80, \"math\": 75},\n",
        "           \"alice\": {\"kor\": 90, \"math\": 85},\n",
        "           }"
      ],
      "execution_count": null,
      "outputs": []
    },
    {
      "cell_type": "code",
      "metadata": {
        "id": "D4ocooN_PTCh"
      },
      "source": [
        ""
      ],
      "execution_count": null,
      "outputs": []
    }
  ]
}